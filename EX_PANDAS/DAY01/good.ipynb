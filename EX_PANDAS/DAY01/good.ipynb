{
 "cells": [
  {
   "cell_type": "markdown",
   "metadata": {},
   "source": [
    "# Pandas 패키지 살펴보기\n",
    "- 파이썬 언어로 작성된 데이터분석 목적을 위한 패키지/라이브러리\n",
    "- 데이터 분석 및 전처리에 활용됩니다. (- 뒤에 스페이스바 한번 치기!!)\n",
    "1. ㅇㅇㅇ\n",
    "2. 87954(이것도 안 띄우고 붙이면 안됨.)  \n",
    "324651320(줄 바꿈 하고 싶으면 문장 끝나고 맨 뒤에 스페이스바 두 번 쳐야됨.)  \n",
    "ㅁ아리ㅏㄷ  \n",
    "21654\n"
   ]
  },
  {
   "cell_type": "code",
   "execution_count": 16,
   "metadata": {},
   "outputs": [],
   "source": [
    "## 모듈/패키지 로딩\n",
    "import pandas as pd"
   ]
  },
  {
   "cell_type": "code",
   "execution_count": null,
   "metadata": {},
   "outputs": [],
   "source": []
  }
 ],
 "metadata": {
  "kernelspec": {
   "display_name": "samban",
   "language": "python",
   "name": "python3"
  },
  "language_info": {
   "codemirror_mode": {
    "name": "ipython",
    "version": 3
   },
   "file_extension": ".py",
   "mimetype": "text/x-python",
   "name": "python",
   "nbconvert_exporter": "python",
   "pygments_lexer": "ipython3",
   "version": "3.9.19"
  }
 },
 "nbformat": 4,
 "nbformat_minor": 2
}
