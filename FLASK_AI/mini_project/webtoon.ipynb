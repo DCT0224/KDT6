{
 "cells": [
  {
   "cell_type": "code",
   "execution_count": 107,
   "metadata": {},
   "outputs": [],
   "source": [
    "# 모듈 로딩\n",
    "from torch import nn\n",
    "import pandas as pd\n",
    "import numpy as np\n",
    "import re                                         # 정규식 사용\n",
    "from torch.utils.data import Dataset, DataLoader  # Pytorch Dataset 관련 모듈\n"
   ]
  },
  {
   "cell_type": "code",
   "execution_count": 108,
   "metadata": {},
   "outputs": [],
   "source": [
    "# 데이터 준비\n",
    "FILE_PATH1 = './naver.csv'\n",
    "FILE_PATH2 = './naver_challenge.csv'\n",
    "\n",
    "Cartoon_DF = pd.read_csv(FILE_PATH1)\n",
    "# Cartoon_Chal_DF = pd.read_csv(FILE_PATH2) => age 카테고리가 없음."
   ]
  },
  {
   "cell_type": "code",
   "execution_count": 109,
   "metadata": {},
   "outputs": [
    {
     "data": {
      "text/plain": [
       "102"
      ]
     },
     "execution_count": 109,
     "metadata": {},
     "output_type": "execute_result"
    }
   ],
   "source": [
    "Cartoon_DF['age'].isnull().sum()"
   ]
  },
  {
   "cell_type": "code",
   "execution_count": 110,
   "metadata": {},
   "outputs": [],
   "source": [
    "Cartoon_DF = Cartoon_DF[~ Cartoon_DF['age'].isna()]"
   ]
  },
  {
   "cell_type": "code",
   "execution_count": 117,
   "metadata": {},
   "outputs": [
    {
     "data": {
      "text/plain": [
       "0       흔하디 흔한 재벌후계자와 캔디도 울고 갈 박복한 가난소녀의 파란만장 동거기!인기작 ...\n",
       "1       이번 주인공은 돌이다!돌이지만 동료도 모으고 악당도 물리친다!랑또 작가표 동양 판타...\n",
       "2       어느 날... 인어가 내게 말을 걸어왔다. 눈을 떠보니 총구가 있었다. 그리고 몸이...\n",
       "3         한국 최초 한국형 고교스포츠 웹툰!열혈따윈 개나 줘, 낙오자들 뿐인 농구부의 운명은?\n",
       "4       \"사람은 좀 죽여도 싸우는건 싫어해요.\" 게임에서조차 집 바깥을 나가지 않는 '제리...\n",
       "                              ...                        \n",
       "2095    결혼 8년차 부부. 성대광과 유선영. 대학시절 킹카 퀸카로 CC로 만나 결혼까지 골...\n",
       "2096    악귀들이 가득찬 섬 제주도. 이를 물리치는 토막살인범 반. 웹툰으로 새롭게 돌아온 ...\n",
       "2097    못생긴 얼굴에서 미인으로 새롭게 태어난 그녀, 강미래! 그런데... 어디서 본 듯 한데?\n",
       "2098    악귀들이 가득찬 섬 제주도. 이를 물리치는 토막살인범 반. 웹툰으로 돌아온 퇴마만화...\n",
       "2099    평범하던 학교에 벌어진 감금사건..그리고 감금사건에 가려 미처 알지 못한 감염자. ...\n",
       "Name: description, Length: 1998, dtype: object"
      ]
     },
     "execution_count": 117,
     "metadata": {},
     "output_type": "execute_result"
    }
   ],
   "source": [
    "Cartoon_DF['description']"
   ]
  },
  {
   "cell_type": "code",
   "execution_count": 118,
   "metadata": {},
   "outputs": [],
   "source": [
    "Cartoon_DF = pd.concat([Cartoon_DF['description'],Cartoon_DF['age']],axis=1)"
   ]
  },
  {
   "cell_type": "markdown",
   "metadata": {},
   "source": [
    "#### 데이터 전처리\n",
    "<hr>"
   ]
  },
  {
   "cell_type": "code",
   "execution_count": 119,
   "metadata": {},
   "outputs": [],
   "source": [
    "# 한국어만 남기기\n",
    "def clean(text):\n",
    "    result = re.compile('[^ㄱ-ㅎ가-힣]+')\n",
    "    hangul = result.sub(' ',text)\n",
    "    return hangul\n",
    "\n",
    "Cartoon_DF['clean_hangul'] = Cartoon_DF.apply(lambda row: clean(row['description']),axis=1)"
   ]
  },
  {
   "cell_type": "code",
   "execution_count": 120,
   "metadata": {},
   "outputs": [
    {
     "data": {
      "text/html": [
       "<div>\n",
       "<style scoped>\n",
       "    .dataframe tbody tr th:only-of-type {\n",
       "        vertical-align: middle;\n",
       "    }\n",
       "\n",
       "    .dataframe tbody tr th {\n",
       "        vertical-align: top;\n",
       "    }\n",
       "\n",
       "    .dataframe thead th {\n",
       "        text-align: right;\n",
       "    }\n",
       "</style>\n",
       "<table border=\"1\" class=\"dataframe\">\n",
       "  <thead>\n",
       "    <tr style=\"text-align: right;\">\n",
       "      <th></th>\n",
       "      <th>description</th>\n",
       "      <th>age</th>\n",
       "      <th>clean_hangul</th>\n",
       "    </tr>\n",
       "  </thead>\n",
       "  <tbody>\n",
       "    <tr>\n",
       "      <th>0</th>\n",
       "      <td>흔하디 흔한 재벌후계자와 캔디도 울고 갈 박복한 가난소녀의 파란만장 동거기!인기작 ...</td>\n",
       "      <td>전체연령가</td>\n",
       "      <td>흔하디 흔한 재벌후계자와 캔디도 울고 갈 박복한 가난소녀의 파란만장 동거기 인기작 ...</td>\n",
       "    </tr>\n",
       "    <tr>\n",
       "      <th>1</th>\n",
       "      <td>이번 주인공은 돌이다!돌이지만 동료도 모으고 악당도 물리친다!랑또 작가표 동양 판타...</td>\n",
       "      <td>12세 이용가</td>\n",
       "      <td>이번 주인공은 돌이다 돌이지만 동료도 모으고 악당도 물리친다 랑또 작가표 동양 판타...</td>\n",
       "    </tr>\n",
       "    <tr>\n",
       "      <th>2</th>\n",
       "      <td>어느 날... 인어가 내게 말을 걸어왔다. 눈을 떠보니 총구가 있었다. 그리고 몸이...</td>\n",
       "      <td>15세 이용가</td>\n",
       "      <td>어느 날 인어가 내게 말을 걸어왔다 눈을 떠보니 총구가 있었다 그리고 몸이 연기처럼...</td>\n",
       "    </tr>\n",
       "    <tr>\n",
       "      <th>3</th>\n",
       "      <td>한국 최초 한국형 고교스포츠 웹툰!열혈따윈 개나 줘, 낙오자들 뿐인 농구부의 운명은?</td>\n",
       "      <td>전체연령가</td>\n",
       "      <td>한국 최초 한국형 고교스포츠 웹툰 열혈따윈 개나 줘 낙오자들 뿐인 농구부의 운명은</td>\n",
       "    </tr>\n",
       "    <tr>\n",
       "      <th>4</th>\n",
       "      <td>\"사람은 좀 죽여도 싸우는건 싫어해요.\" 게임에서조차 집 바깥을 나가지 않는 '제리...</td>\n",
       "      <td>12세 이용가</td>\n",
       "      <td>사람은 좀 죽여도 싸우는건 싫어해요 게임에서조차 집 바깥을 나가지 않는 제리 전투...</td>\n",
       "    </tr>\n",
       "    <tr>\n",
       "      <th>...</th>\n",
       "      <td>...</td>\n",
       "      <td>...</td>\n",
       "      <td>...</td>\n",
       "    </tr>\n",
       "    <tr>\n",
       "      <th>2095</th>\n",
       "      <td>결혼 8년차 부부. 성대광과 유선영. 대학시절 킹카 퀸카로 CC로 만나 결혼까지 골...</td>\n",
       "      <td>18세 이용가</td>\n",
       "      <td>결혼 년차 부부 성대광과 유선영 대학시절 킹카 퀸카로 로 만나 결혼까지 골인했지만 ...</td>\n",
       "    </tr>\n",
       "    <tr>\n",
       "      <th>2096</th>\n",
       "      <td>악귀들이 가득찬 섬 제주도. 이를 물리치는 토막살인범 반. 웹툰으로 새롭게 돌아온 ...</td>\n",
       "      <td>15세 이용가</td>\n",
       "      <td>악귀들이 가득찬 섬 제주도 이를 물리치는 토막살인범 반 웹툰으로 새롭게 돌아온 퇴마...</td>\n",
       "    </tr>\n",
       "    <tr>\n",
       "      <th>2097</th>\n",
       "      <td>못생긴 얼굴에서 미인으로 새롭게 태어난 그녀, 강미래! 그런데... 어디서 본 듯 한데?</td>\n",
       "      <td>12세 이용가</td>\n",
       "      <td>못생긴 얼굴에서 미인으로 새롭게 태어난 그녀 강미래 그런데 어디서 본 듯 한데</td>\n",
       "    </tr>\n",
       "    <tr>\n",
       "      <th>2098</th>\n",
       "      <td>악귀들이 가득찬 섬 제주도. 이를 물리치는 토막살인범 반. 웹툰으로 돌아온 퇴마만화...</td>\n",
       "      <td>15세 이용가</td>\n",
       "      <td>악귀들이 가득찬 섬 제주도 이를 물리치는 토막살인범 반 웹툰으로 돌아온 퇴마만화의 ...</td>\n",
       "    </tr>\n",
       "    <tr>\n",
       "      <th>2099</th>\n",
       "      <td>평범하던 학교에 벌어진 감금사건..그리고 감금사건에 가려 미처 알지 못한 감염자. ...</td>\n",
       "      <td>18세 이용가</td>\n",
       "      <td>평범하던 학교에 벌어진 감금사건 그리고 감금사건에 가려 미처 알지 못한 감염자 학교...</td>\n",
       "    </tr>\n",
       "  </tbody>\n",
       "</table>\n",
       "<p>1998 rows × 3 columns</p>\n",
       "</div>"
      ],
      "text/plain": [
       "                                            description      age  \\\n",
       "0     흔하디 흔한 재벌후계자와 캔디도 울고 갈 박복한 가난소녀의 파란만장 동거기!인기작 ...    전체연령가   \n",
       "1     이번 주인공은 돌이다!돌이지만 동료도 모으고 악당도 물리친다!랑또 작가표 동양 판타...  12세 이용가   \n",
       "2     어느 날... 인어가 내게 말을 걸어왔다. 눈을 떠보니 총구가 있었다. 그리고 몸이...  15세 이용가   \n",
       "3       한국 최초 한국형 고교스포츠 웹툰!열혈따윈 개나 줘, 낙오자들 뿐인 농구부의 운명은?    전체연령가   \n",
       "4     \"사람은 좀 죽여도 싸우는건 싫어해요.\" 게임에서조차 집 바깥을 나가지 않는 '제리...  12세 이용가   \n",
       "...                                                 ...      ...   \n",
       "2095  결혼 8년차 부부. 성대광과 유선영. 대학시절 킹카 퀸카로 CC로 만나 결혼까지 골...  18세 이용가   \n",
       "2096  악귀들이 가득찬 섬 제주도. 이를 물리치는 토막살인범 반. 웹툰으로 새롭게 돌아온 ...  15세 이용가   \n",
       "2097  못생긴 얼굴에서 미인으로 새롭게 태어난 그녀, 강미래! 그런데... 어디서 본 듯 한데?  12세 이용가   \n",
       "2098  악귀들이 가득찬 섬 제주도. 이를 물리치는 토막살인범 반. 웹툰으로 돌아온 퇴마만화...  15세 이용가   \n",
       "2099  평범하던 학교에 벌어진 감금사건..그리고 감금사건에 가려 미처 알지 못한 감염자. ...  18세 이용가   \n",
       "\n",
       "                                           clean_hangul  \n",
       "0     흔하디 흔한 재벌후계자와 캔디도 울고 갈 박복한 가난소녀의 파란만장 동거기 인기작 ...  \n",
       "1     이번 주인공은 돌이다 돌이지만 동료도 모으고 악당도 물리친다 랑또 작가표 동양 판타...  \n",
       "2     어느 날 인어가 내게 말을 걸어왔다 눈을 떠보니 총구가 있었다 그리고 몸이 연기처럼...  \n",
       "3        한국 최초 한국형 고교스포츠 웹툰 열혈따윈 개나 줘 낙오자들 뿐인 농구부의 운명은   \n",
       "4      사람은 좀 죽여도 싸우는건 싫어해요 게임에서조차 집 바깥을 나가지 않는 제리 전투...  \n",
       "...                                                 ...  \n",
       "2095  결혼 년차 부부 성대광과 유선영 대학시절 킹카 퀸카로 로 만나 결혼까지 골인했지만 ...  \n",
       "2096  악귀들이 가득찬 섬 제주도 이를 물리치는 토막살인범 반 웹툰으로 새롭게 돌아온 퇴마...  \n",
       "2097       못생긴 얼굴에서 미인으로 새롭게 태어난 그녀 강미래 그런데 어디서 본 듯 한데   \n",
       "2098  악귀들이 가득찬 섬 제주도 이를 물리치는 토막살인범 반 웹툰으로 돌아온 퇴마만화의 ...  \n",
       "2099  평범하던 학교에 벌어진 감금사건 그리고 감금사건에 가려 미처 알지 못한 감염자 학교...  \n",
       "\n",
       "[1998 rows x 3 columns]"
      ]
     },
     "execution_count": 120,
     "metadata": {},
     "output_type": "execute_result"
    }
   ],
   "source": [
    "Cartoon_DF"
   ]
  },
  {
   "cell_type": "code",
   "execution_count": 121,
   "metadata": {},
   "outputs": [],
   "source": [
    "# 명사만 추출\n",
    "from konlpy.tag import Okt\n",
    "\n",
    "okt = Okt()\n",
    "\n",
    "Cartoon_DF['token'] = Cartoon_DF.apply(lambda row: okt.nouns(row['clean_hangul']), axis=1)"
   ]
  },
  {
   "cell_type": "code",
   "execution_count": 138,
   "metadata": {},
   "outputs": [
    {
     "data": {
      "text/plain": [
       "'15세 이용가'"
      ]
     },
     "execution_count": 138,
     "metadata": {},
     "output_type": "execute_result"
    }
   ],
   "source": [
    "Cartoon_DF.loc[2096]['age']"
   ]
  },
  {
   "cell_type": "code",
   "execution_count": 145,
   "metadata": {},
   "outputs": [
    {
     "data": {
      "text/plain": [
       "1998"
      ]
     },
     "execution_count": 145,
     "metadata": {},
     "output_type": "execute_result"
    }
   ],
   "source": [
    "len(Cartoon_DF)"
   ]
  },
  {
   "cell_type": "code",
   "execution_count": 147,
   "metadata": {},
   "outputs": [],
   "source": [
    "## target 수치화\n",
    "target = []\n",
    "for num in range(len(Cartoon_DF)):\n",
    "    if Cartoon_DF.iloc[num]['age'] == '전체연령가': \n",
    "        target.append(1)\n",
    "    elif Cartoon_DF.iloc[num]['age'] == '12세 이용가':\n",
    "        target.append(2)\n",
    "    elif Cartoon_DF.iloc[num]['age'] == '15세 이용가':\n",
    "        target.append(3)\n",
    "    else:\n",
    "        target.append(4)\n",
    "\n",
    "Cartoon_DF['target'] = target"
   ]
  },
  {
   "cell_type": "code",
   "execution_count": 150,
   "metadata": {},
   "outputs": [],
   "source": []
  },
  {
   "cell_type": "code",
   "execution_count": 166,
   "metadata": {},
   "outputs": [
    {
     "data": {
      "text/html": [
       "<div>\n",
       "<style scoped>\n",
       "    .dataframe tbody tr th:only-of-type {\n",
       "        vertical-align: middle;\n",
       "    }\n",
       "\n",
       "    .dataframe tbody tr th {\n",
       "        vertical-align: top;\n",
       "    }\n",
       "\n",
       "    .dataframe thead th {\n",
       "        text-align: right;\n",
       "    }\n",
       "</style>\n",
       "<table border=\"1\" class=\"dataframe\">\n",
       "  <thead>\n",
       "    <tr style=\"text-align: right;\">\n",
       "      <th></th>\n",
       "      <th>description</th>\n",
       "      <th>age</th>\n",
       "      <th>clean_hangul</th>\n",
       "      <th>token</th>\n",
       "      <th>target</th>\n",
       "    </tr>\n",
       "  </thead>\n",
       "  <tbody>\n",
       "    <tr>\n",
       "      <th>0</th>\n",
       "      <td>흔하디 흔한 재벌후계자와 캔디도 울고 갈 박복한 가난소녀의 파란만장 동거기!인기작 ...</td>\n",
       "      <td>전체연령가</td>\n",
       "      <td>흔하디 흔한 재벌후계자와 캔디도 울고 갈 박복한 가난소녀의 파란만장 동거기 인기작 ...</td>\n",
       "      <td>[하디, 재벌, 후계, 캔디, 울, 가난, 소녀, 파란만장, 거기, 인기, 작, 다...</td>\n",
       "      <td>1</td>\n",
       "    </tr>\n",
       "    <tr>\n",
       "      <th>1</th>\n",
       "      <td>이번 주인공은 돌이다!돌이지만 동료도 모으고 악당도 물리친다!랑또 작가표 동양 판타...</td>\n",
       "      <td>12세 이용가</td>\n",
       "      <td>이번 주인공은 돌이다 돌이지만 동료도 모으고 악당도 물리친다 랑또 작가표 동양 판타...</td>\n",
       "      <td>[이번, 주인공, 돌이, 돌이, 동료, 악당, 물리, 또, 가표, 동양, 판타지, ...</td>\n",
       "      <td>2</td>\n",
       "    </tr>\n",
       "    <tr>\n",
       "      <th>2</th>\n",
       "      <td>어느 날... 인어가 내게 말을 걸어왔다. 눈을 떠보니 총구가 있었다. 그리고 몸이...</td>\n",
       "      <td>15세 이용가</td>\n",
       "      <td>어느 날 인어가 내게 말을 걸어왔다 눈을 떠보니 총구가 있었다 그리고 몸이 연기처럼...</td>\n",
       "      <td>[날, 인어, 말, 눈, 총구, 몸, 연기, 시작, 판타지, 비현실적, 우리, 회색...</td>\n",
       "      <td>3</td>\n",
       "    </tr>\n",
       "    <tr>\n",
       "      <th>3</th>\n",
       "      <td>한국 최초 한국형 고교스포츠 웹툰!열혈따윈 개나 줘, 낙오자들 뿐인 농구부의 운명은?</td>\n",
       "      <td>전체연령가</td>\n",
       "      <td>한국 최초 한국형 고교스포츠 웹툰 열혈따윈 개나 줘 낙오자들 뿐인 농구부의 운명은</td>\n",
       "      <td>[한국, 최초, 한국, 고교, 스포츠, 웹툰, 열혈따윈, 개, 낙, 오자, 농구부,...</td>\n",
       "      <td>1</td>\n",
       "    </tr>\n",
       "    <tr>\n",
       "      <th>4</th>\n",
       "      <td>\"사람은 좀 죽여도 싸우는건 싫어해요.\" 게임에서조차 집 바깥을 나가지 않는 '제리...</td>\n",
       "      <td>12세 이용가</td>\n",
       "      <td>사람은 좀 죽여도 싸우는건 싫어해요 게임에서조차 집 바깥을 나가지 않는 제리 전투...</td>\n",
       "      <td>[사람, 좀, 게임, 집, 바깥, 제리, 전투, 번, 에픽, 무기, 귀속, 가상현실...</td>\n",
       "      <td>2</td>\n",
       "    </tr>\n",
       "    <tr>\n",
       "      <th>...</th>\n",
       "      <td>...</td>\n",
       "      <td>...</td>\n",
       "      <td>...</td>\n",
       "      <td>...</td>\n",
       "      <td>...</td>\n",
       "    </tr>\n",
       "    <tr>\n",
       "      <th>2095</th>\n",
       "      <td>결혼 8년차 부부. 성대광과 유선영. 대학시절 킹카 퀸카로 CC로 만나 결혼까지 골...</td>\n",
       "      <td>18세 이용가</td>\n",
       "      <td>결혼 년차 부부 성대광과 유선영 대학시절 킹카 퀸카로 로 만나 결혼까지 골인했지만 ...</td>\n",
       "      <td>[결혼, 년차, 부부, 광, 유선영, 대학시절, 킹카, 퀸카, 로, 결혼, 골인, ...</td>\n",
       "      <td>4</td>\n",
       "    </tr>\n",
       "    <tr>\n",
       "      <th>2096</th>\n",
       "      <td>악귀들이 가득찬 섬 제주도. 이를 물리치는 토막살인범 반. 웹툰으로 새롭게 돌아온 ...</td>\n",
       "      <td>15세 이용가</td>\n",
       "      <td>악귀들이 가득찬 섬 제주도 이를 물리치는 토막살인범 반 웹툰으로 새롭게 돌아온 퇴마...</td>\n",
       "      <td>[악귀, 가득, 찬, 섬, 제주도, 토막살인, 범, 반, 웹툰, 퇴마, 만화, 전설...</td>\n",
       "      <td>3</td>\n",
       "    </tr>\n",
       "    <tr>\n",
       "      <th>2097</th>\n",
       "      <td>못생긴 얼굴에서 미인으로 새롭게 태어난 그녀, 강미래! 그런데... 어디서 본 듯 한데?</td>\n",
       "      <td>12세 이용가</td>\n",
       "      <td>못생긴 얼굴에서 미인으로 새롭게 태어난 그녀 강미래 그런데 어디서 본 듯 한데</td>\n",
       "      <td>[얼굴, 미인, 그녀, 강미, 듯]</td>\n",
       "      <td>2</td>\n",
       "    </tr>\n",
       "    <tr>\n",
       "      <th>2098</th>\n",
       "      <td>악귀들이 가득찬 섬 제주도. 이를 물리치는 토막살인범 반. 웹툰으로 돌아온 퇴마만화...</td>\n",
       "      <td>15세 이용가</td>\n",
       "      <td>악귀들이 가득찬 섬 제주도 이를 물리치는 토막살인범 반 웹툰으로 돌아온 퇴마만화의 ...</td>\n",
       "      <td>[악귀, 가득, 찬, 섬, 제주도, 토막살인, 범, 반, 웹툰, 퇴마, 만화, 전설...</td>\n",
       "      <td>3</td>\n",
       "    </tr>\n",
       "    <tr>\n",
       "      <th>2099</th>\n",
       "      <td>평범하던 학교에 벌어진 감금사건..그리고 감금사건에 가려 미처 알지 못한 감염자. ...</td>\n",
       "      <td>18세 이용가</td>\n",
       "      <td>평범하던 학교에 벌어진 감금사건 그리고 감금사건에 가려 미처 알지 못한 감염자 학교...</td>\n",
       "      <td>[학교, 감금, 사건, 감금, 사건, 미처, 알, 못, 감염, 학교, 감염, 자, ...</td>\n",
       "      <td>4</td>\n",
       "    </tr>\n",
       "  </tbody>\n",
       "</table>\n",
       "<p>1998 rows × 5 columns</p>\n",
       "</div>"
      ],
      "text/plain": [
       "                                            description      age  \\\n",
       "0     흔하디 흔한 재벌후계자와 캔디도 울고 갈 박복한 가난소녀의 파란만장 동거기!인기작 ...    전체연령가   \n",
       "1     이번 주인공은 돌이다!돌이지만 동료도 모으고 악당도 물리친다!랑또 작가표 동양 판타...  12세 이용가   \n",
       "2     어느 날... 인어가 내게 말을 걸어왔다. 눈을 떠보니 총구가 있었다. 그리고 몸이...  15세 이용가   \n",
       "3       한국 최초 한국형 고교스포츠 웹툰!열혈따윈 개나 줘, 낙오자들 뿐인 농구부의 운명은?    전체연령가   \n",
       "4     \"사람은 좀 죽여도 싸우는건 싫어해요.\" 게임에서조차 집 바깥을 나가지 않는 '제리...  12세 이용가   \n",
       "...                                                 ...      ...   \n",
       "2095  결혼 8년차 부부. 성대광과 유선영. 대학시절 킹카 퀸카로 CC로 만나 결혼까지 골...  18세 이용가   \n",
       "2096  악귀들이 가득찬 섬 제주도. 이를 물리치는 토막살인범 반. 웹툰으로 새롭게 돌아온 ...  15세 이용가   \n",
       "2097  못생긴 얼굴에서 미인으로 새롭게 태어난 그녀, 강미래! 그런데... 어디서 본 듯 한데?  12세 이용가   \n",
       "2098  악귀들이 가득찬 섬 제주도. 이를 물리치는 토막살인범 반. 웹툰으로 돌아온 퇴마만화...  15세 이용가   \n",
       "2099  평범하던 학교에 벌어진 감금사건..그리고 감금사건에 가려 미처 알지 못한 감염자. ...  18세 이용가   \n",
       "\n",
       "                                           clean_hangul  \\\n",
       "0     흔하디 흔한 재벌후계자와 캔디도 울고 갈 박복한 가난소녀의 파란만장 동거기 인기작 ...   \n",
       "1     이번 주인공은 돌이다 돌이지만 동료도 모으고 악당도 물리친다 랑또 작가표 동양 판타...   \n",
       "2     어느 날 인어가 내게 말을 걸어왔다 눈을 떠보니 총구가 있었다 그리고 몸이 연기처럼...   \n",
       "3        한국 최초 한국형 고교스포츠 웹툰 열혈따윈 개나 줘 낙오자들 뿐인 농구부의 운명은    \n",
       "4      사람은 좀 죽여도 싸우는건 싫어해요 게임에서조차 집 바깥을 나가지 않는 제리 전투...   \n",
       "...                                                 ...   \n",
       "2095  결혼 년차 부부 성대광과 유선영 대학시절 킹카 퀸카로 로 만나 결혼까지 골인했지만 ...   \n",
       "2096  악귀들이 가득찬 섬 제주도 이를 물리치는 토막살인범 반 웹툰으로 새롭게 돌아온 퇴마...   \n",
       "2097       못생긴 얼굴에서 미인으로 새롭게 태어난 그녀 강미래 그런데 어디서 본 듯 한데    \n",
       "2098  악귀들이 가득찬 섬 제주도 이를 물리치는 토막살인범 반 웹툰으로 돌아온 퇴마만화의 ...   \n",
       "2099  평범하던 학교에 벌어진 감금사건 그리고 감금사건에 가려 미처 알지 못한 감염자 학교...   \n",
       "\n",
       "                                                  token  target  \n",
       "0     [하디, 재벌, 후계, 캔디, 울, 가난, 소녀, 파란만장, 거기, 인기, 작, 다...       1  \n",
       "1     [이번, 주인공, 돌이, 돌이, 동료, 악당, 물리, 또, 가표, 동양, 판타지, ...       2  \n",
       "2     [날, 인어, 말, 눈, 총구, 몸, 연기, 시작, 판타지, 비현실적, 우리, 회색...       3  \n",
       "3     [한국, 최초, 한국, 고교, 스포츠, 웹툰, 열혈따윈, 개, 낙, 오자, 농구부,...       1  \n",
       "4     [사람, 좀, 게임, 집, 바깥, 제리, 전투, 번, 에픽, 무기, 귀속, 가상현실...       2  \n",
       "...                                                 ...     ...  \n",
       "2095  [결혼, 년차, 부부, 광, 유선영, 대학시절, 킹카, 퀸카, 로, 결혼, 골인, ...       4  \n",
       "2096  [악귀, 가득, 찬, 섬, 제주도, 토막살인, 범, 반, 웹툰, 퇴마, 만화, 전설...       3  \n",
       "2097                                [얼굴, 미인, 그녀, 강미, 듯]       2  \n",
       "2098  [악귀, 가득, 찬, 섬, 제주도, 토막살인, 범, 반, 웹툰, 퇴마, 만화, 전설...       3  \n",
       "2099  [학교, 감금, 사건, 감금, 사건, 미처, 알, 못, 감염, 학교, 감염, 자, ...       4  \n",
       "\n",
       "[1998 rows x 5 columns]"
      ]
     },
     "execution_count": 166,
     "metadata": {},
     "output_type": "execute_result"
    }
   ],
   "source": [
    "Cartoon_DF"
   ]
  },
  {
   "cell_type": "code",
   "execution_count": null,
   "metadata": {},
   "outputs": [],
   "source": []
  }
 ],
 "metadata": {
  "kernelspec": {
   "display_name": "TEXT_018_230_38",
   "language": "python",
   "name": "python3"
  },
  "language_info": {
   "codemirror_mode": {
    "name": "ipython",
    "version": 3
   },
   "file_extension": ".py",
   "mimetype": "text/x-python",
   "name": "python",
   "nbconvert_exporter": "python",
   "pygments_lexer": "ipython3",
   "version": "3.8.19"
  }
 },
 "nbformat": 4,
 "nbformat_minor": 2
}
