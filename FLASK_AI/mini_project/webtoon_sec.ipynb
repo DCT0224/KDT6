{
 "cells": [
  {
   "cell_type": "code",
   "execution_count": 46,
   "metadata": {},
   "outputs": [],
   "source": [
    "# 모듈 로딩\n",
    "import spacy\n",
    "import os\n",
    "\n",
    "import numpy as np\n",
    "import pandas as pd\n",
    "import matplotlib.pyplot as plt\n",
    "\n",
    "import torch\n",
    "import torch.nn as nn\n",
    "import torch.optim as optim\n",
    "import torch.nn.functional as F\n",
    "import torch.optim.lr_scheduler as lr_scheduler\n",
    "from torch.utils.data import Dataset, DataLoader, TensorDataset\n",
    "from torchmetrics.classification import BinaryF1Score\n",
    "\n",
    "# from gensim.models import Word2Vec\n",
    "\n",
    "from sklearn.model_selection import train_test_split"
   ]
  },
  {
   "cell_type": "code",
   "execution_count": 47,
   "metadata": {},
   "outputs": [],
   "source": [
    "# 데이터 준비\n",
    "FILE_PATH = './naver.csv'\n",
    "\n",
    "Cartoon_DF = pd.read_csv(FILE_PATH)\n",
    "# Cartoon_Chal_DF = pd.read_csv(FILE_PATH2) => age 카테고리가 없음."
   ]
  },
  {
   "cell_type": "code",
   "execution_count": 48,
   "metadata": {},
   "outputs": [
    {
     "name": "stdout",
     "output_type": "stream",
     "text": [
      "<class 'pandas.core.frame.DataFrame'>\n",
      "RangeIndex: 2100 entries, 0 to 2099\n",
      "Data columns (total 11 columns):\n",
      " #   Column       Non-Null Count  Dtype  \n",
      "---  ------       --------------  -----  \n",
      " 0   id           2100 non-null   int64  \n",
      " 1   title        2100 non-null   object \n",
      " 2   author       2100 non-null   object \n",
      " 3   genre        2100 non-null   object \n",
      " 4   description  2100 non-null   object \n",
      " 5   rating       2100 non-null   float64\n",
      " 6   date         2100 non-null   object \n",
      " 7   completed    2100 non-null   bool   \n",
      " 8   age          1998 non-null   object \n",
      " 9   free         2100 non-null   bool   \n",
      " 10  link         2100 non-null   object \n",
      "dtypes: bool(2), float64(1), int64(1), object(7)\n",
      "memory usage: 151.9+ KB\n"
     ]
    }
   ],
   "source": [
    "Cartoon_DF.info()"
   ]
  },
  {
   "cell_type": "code",
   "execution_count": 49,
   "metadata": {},
   "outputs": [],
   "source": [
    "Cartoon_DF['completed'] = Cartoon_DF['completed'].astype('int16')\n",
    "Cartoon_DF['free'] = Cartoon_DF['free'].astype('int16')"
   ]
  },
  {
   "cell_type": "code",
   "execution_count": 50,
   "metadata": {},
   "outputs": [],
   "source": [
    "Cartoon_DF = Cartoon_DF[~ Cartoon_DF['age'].isna()]"
   ]
  },
  {
   "cell_type": "code",
   "execution_count": 51,
   "metadata": {},
   "outputs": [
    {
     "data": {
      "text/plain": [
       "age\n",
       "전체연령가      868\n",
       "15세 이용가    578\n",
       "12세 이용가    486\n",
       "18세 이용가     66\n",
       "Name: count, dtype: int64"
      ]
     },
     "execution_count": 51,
     "metadata": {},
     "output_type": "execute_result"
    }
   ],
   "source": [
    "# 데이터 불균형이기 때문에 18세 이용가 날림\n",
    "Cartoon_DF['age'].value_counts()"
   ]
  },
  {
   "cell_type": "code",
   "execution_count": 52,
   "metadata": {},
   "outputs": [],
   "source": [
    "Cartoon_DF = Cartoon_DF[~(Cartoon_DF['age'] == '18세 이용가')]"
   ]
  },
  {
   "cell_type": "code",
   "execution_count": 53,
   "metadata": {},
   "outputs": [],
   "source": [
    "## target 수치화\n",
    "target = []\n",
    "for num in range(len(Cartoon_DF)):\n",
    "    if Cartoon_DF.iloc[num]['age'] == '전체연령가': \n",
    "        target.append(0)\n",
    "    elif Cartoon_DF.iloc[num]['age'] == '12세 이용가':\n",
    "        target.append(1)\n",
    "    elif Cartoon_DF.iloc[num]['age'] == '15세 이용가':\n",
    "        target.append(2)\n",
    "\n",
    "Cartoon_DF['target'] = target"
   ]
  },
  {
   "cell_type": "code",
   "execution_count": 54,
   "metadata": {},
   "outputs": [
    {
     "data": {
      "text/plain": [
       "array([0, 1, 2, ..., 2, 1, 2], dtype=int64)"
      ]
     },
     "execution_count": 54,
     "metadata": {},
     "output_type": "execute_result"
    }
   ],
   "source": [
    "Cartoon_DF.target.values"
   ]
  },
  {
   "cell_type": "code",
   "execution_count": 55,
   "metadata": {},
   "outputs": [],
   "source": [
    "import re\n",
    "def re_text(text):\n",
    "    text = re.sub(r'[^ㄱ-ㅎ가-힣 ]+', ' ', text)\n",
    "    text = text.replace('\\xa0','')\n",
    "    \n",
    "    return text.strip()"
   ]
  },
  {
   "cell_type": "code",
   "execution_count": 56,
   "metadata": {},
   "outputs": [],
   "source": [
    "Cartoon_DF['description'] = Cartoon_DF['description'].apply(re_text)"
   ]
  },
  {
   "cell_type": "code",
   "execution_count": 57,
   "metadata": {},
   "outputs": [
    {
     "data": {
      "text/plain": [
       "0       흔하디 흔한 재벌후계자와 캔디도 울고 갈 박복한 가난소녀의 파란만장 동거기 인기작 ...\n",
       "1       이번 주인공은 돌이다 돌이지만 동료도 모으고 악당도 물리친다 랑또 작가표 동양 판타...\n",
       "2       어느 날  인어가 내게 말을 걸어왔다  눈을 떠보니 총구가 있었다  그리고 몸이 연...\n",
       "3          한국 최초 한국형 고교스포츠 웹툰 열혈따윈 개나 줘  낙오자들 뿐인 농구부의 운명은\n",
       "4       사람은 좀 죽여도 싸우는건 싫어해요  게임에서조차 집 바깥을 나가지 않는  제리  ...\n",
       "                              ...                        \n",
       "2093    넌 내가 나비라는걸 알고 있잖아 알면서도 빠지고 싶은 사랑 투명한 동거  정서 작가...\n",
       "2094       고객은 왕이 아니다  직원이 왕이다 병맛 드라마를 뛰어넘는 미친 상상력의 원작 웹툰\n",
       "2096    악귀들이 가득찬 섬 제주도  이를 물리치는 토막살인범 반  웹툰으로 새롭게 돌아온 ...\n",
       "2097       못생긴 얼굴에서 미인으로 새롭게 태어난 그녀  강미래  그런데  어디서 본 듯 한데\n",
       "2098    악귀들이 가득찬 섬 제주도  이를 물리치는 토막살인범 반  웹툰으로 돌아온 퇴마만화...\n",
       "Name: description, Length: 1932, dtype: object"
      ]
     },
     "execution_count": 57,
     "metadata": {},
     "output_type": "execute_result"
    }
   ],
   "source": [
    "Cartoon_DF['description']"
   ]
  },
  {
   "cell_type": "code",
   "execution_count": 58,
   "metadata": {},
   "outputs": [],
   "source": [
    "# train, test 나누기\n",
    "train = Cartoon_DF.sample(frac=0.8, random_state=42) # 랜덤으로 90를 선택\n",
    "test = Cartoon_DF.drop(train.index)                  # 트레인을 삭제해서 비율을 train : test = 9: 1\n",
    "\n",
    "# print(train.head(5))\n",
    "# print('Training Data Size : ', len(train))\n",
    "# print(\"Testing Data Size : \", len(test))"
   ]
  },
  {
   "cell_type": "code",
   "execution_count": 59,
   "metadata": {},
   "outputs": [],
   "source": [
    "# 데이터 토큰화 및 단어 사전 구축\n",
    "from konlpy.tag import *\n",
    "from collections import Counter\n",
    "\n",
    "## 단어사전을 만드는 함수\n",
    "def build_vocab(corpus, n_vocab, special_tokens): #n_vocab은 최대 사용할 단어개수\n",
    "    counter = Counter()\n",
    "    for tokens in corpus:\n",
    "        counter.update(tokens)\n",
    "    vocab = special_tokens\n",
    "    for token, count in counter.most_common(n_vocab): # 가장 많이 등장한 순서대로 상위 n_vocab개의 단어 반환\n",
    "        vocab.append(token)\n",
    "    return vocab"
   ]
  },
  {
   "cell_type": "code",
   "execution_count": 60,
   "metadata": {},
   "outputs": [],
   "source": [
    "## 불용어 리스트 불러오는 함수\n",
    "STOP_PATH = r'C:\\Users\\KDP-14\\Desktop\\VSCode\\KDT6\\FLASK_AI\\mini_project\\jang_stopwords.txt'\n",
    "\n",
    "def make_stopwords(STOP_PATH):\n",
    "    with open(STOP_PATH, 'r', encoding='utf-8') as f:\n",
    "        stopwords = f.read().splitlines() # 문장단위로\n",
    "    return set(stopwords)"
   ]
  },
  {
   "cell_type": "code",
   "execution_count": 61,
   "metadata": {},
   "outputs": [],
   "source": [
    "stopwords = make_stopwords(STOP_PATH)"
   ]
  },
  {
   "cell_type": "code",
   "execution_count": 62,
   "metadata": {},
   "outputs": [
    {
     "data": {
      "text/html": [
       "<div>\n",
       "<style scoped>\n",
       "    .dataframe tbody tr th:only-of-type {\n",
       "        vertical-align: middle;\n",
       "    }\n",
       "\n",
       "    .dataframe tbody tr th {\n",
       "        vertical-align: top;\n",
       "    }\n",
       "\n",
       "    .dataframe thead th {\n",
       "        text-align: right;\n",
       "    }\n",
       "</style>\n",
       "<table border=\"1\" class=\"dataframe\">\n",
       "  <thead>\n",
       "    <tr style=\"text-align: right;\">\n",
       "      <th></th>\n",
       "      <th>id</th>\n",
       "      <th>title</th>\n",
       "      <th>author</th>\n",
       "      <th>genre</th>\n",
       "      <th>description</th>\n",
       "      <th>rating</th>\n",
       "      <th>date</th>\n",
       "      <th>completed</th>\n",
       "      <th>age</th>\n",
       "      <th>free</th>\n",
       "      <th>link</th>\n",
       "      <th>target</th>\n",
       "    </tr>\n",
       "  </thead>\n",
       "  <tbody>\n",
       "    <tr>\n",
       "      <th>1169</th>\n",
       "      <td>640050</td>\n",
       "      <td>엄마와 딸 x2</td>\n",
       "      <td>필냉이</td>\n",
       "      <td>에피소드, 일상</td>\n",
       "      <td>인자한 외할머니  깐깐한 엄마  엉뚱한 딸이 한 집에 살게 되었다 본격 삼대모녀 티...</td>\n",
       "      <td>9.97</td>\n",
       "      <td>2016.03.10 23:13</td>\n",
       "      <td>1</td>\n",
       "      <td>전체연령가</td>\n",
       "      <td>0</td>\n",
       "      <td>https://comic.naver.com/webtoon/list?titleId=6...</td>\n",
       "      <td>0</td>\n",
       "    </tr>\n",
       "    <tr>\n",
       "      <th>1789</th>\n",
       "      <td>759894</td>\n",
       "      <td>평화선도부</td>\n",
       "      <td>최경민 / 용성</td>\n",
       "      <td>스토리, 액션</td>\n",
       "      <td>선도 시켜 주마 학교폭력으로 얼룩진  구천  막나가는 구천의 일진들을 선도시키기 위...</td>\n",
       "      <td>8.81</td>\n",
       "      <td>2021.04.20 23:02</td>\n",
       "      <td>1</td>\n",
       "      <td>15세 이용가</td>\n",
       "      <td>1</td>\n",
       "      <td>https://comic.naver.com/webtoon/list?titleId=7...</td>\n",
       "      <td>2</td>\n",
       "    </tr>\n",
       "    <tr>\n",
       "      <th>2029</th>\n",
       "      <td>717059</td>\n",
       "      <td>12차원 소년들</td>\n",
       "      <td>컷부</td>\n",
       "      <td>옴니버스, 개그</td>\n",
       "      <td>소무하보다 더 강해진 녀석들이 돌아왔다  차원을 넘나드는 소년들의 다양한 이야기</td>\n",
       "      <td>9.89</td>\n",
       "      <td>2019.08.20 23:07</td>\n",
       "      <td>1</td>\n",
       "      <td>전체연령가</td>\n",
       "      <td>1</td>\n",
       "      <td>https://comic.naver.com/webtoon/list?titleId=7...</td>\n",
       "      <td>0</td>\n",
       "    </tr>\n",
       "    <tr>\n",
       "      <th>1022</th>\n",
       "      <td>748409</td>\n",
       "      <td>신의한수</td>\n",
       "      <td>이순기 / 민홍기</td>\n",
       "      <td>스토리, 드라마</td>\n",
       "      <td>여기  배신으로 점철된 삶을 살아온 한 여자가 있다 그녀는 사람이면 학을 떼는 냉소...</td>\n",
       "      <td>9.54</td>\n",
       "      <td>2020.06.29 10:00</td>\n",
       "      <td>1</td>\n",
       "      <td>전체연령가</td>\n",
       "      <td>1</td>\n",
       "      <td>https://comic.naver.com/webtoon/list?titleId=7...</td>\n",
       "      <td>0</td>\n",
       "    </tr>\n",
       "    <tr>\n",
       "      <th>350</th>\n",
       "      <td>169081</td>\n",
       "      <td>단군할배요</td>\n",
       "      <td>호연</td>\n",
       "      <td>스토리, 드라마</td>\n",
       "      <td>대한민국 어느 깊은 산골에서 다섯 살 아가씨가 산신을 만난다   단기  년  단군이...</td>\n",
       "      <td>9.91</td>\n",
       "      <td>2011.09.29 00:14</td>\n",
       "      <td>1</td>\n",
       "      <td>전체연령가</td>\n",
       "      <td>0</td>\n",
       "      <td>https://comic.naver.com/webtoon/list?titleId=1...</td>\n",
       "      <td>0</td>\n",
       "    </tr>\n",
       "    <tr>\n",
       "      <th>...</th>\n",
       "      <td>...</td>\n",
       "      <td>...</td>\n",
       "      <td>...</td>\n",
       "      <td>...</td>\n",
       "      <td>...</td>\n",
       "      <td>...</td>\n",
       "      <td>...</td>\n",
       "      <td>...</td>\n",
       "      <td>...</td>\n",
       "      <td>...</td>\n",
       "      <td>...</td>\n",
       "      <td>...</td>\n",
       "    </tr>\n",
       "    <tr>\n",
       "      <th>707</th>\n",
       "      <td>796302</td>\n",
       "      <td>베니루 BAENIRU</td>\n",
       "      <td>우지금</td>\n",
       "      <td>스토리, 스릴러</td>\n",
       "      <td>하루하루 죽지 못해 사는 배지현  어느 날  어마어마한 수익을 내는 걸로 유명한 버...</td>\n",
       "      <td>9.87</td>\n",
       "      <td>2022.12.28 22:56</td>\n",
       "      <td>0</td>\n",
       "      <td>15세 이용가</td>\n",
       "      <td>0</td>\n",
       "      <td>https://comic.naver.com/webtoon/list?titleId=7...</td>\n",
       "      <td>2</td>\n",
       "    </tr>\n",
       "    <tr>\n",
       "      <th>1701</th>\n",
       "      <td>169082</td>\n",
       "      <td>키스우드</td>\n",
       "      <td>안성호</td>\n",
       "      <td>스토리, 판타지</td>\n",
       "      <td>언덕이라 불리우는 정체 불명의 숲  그리고 그곳을 지배 하고있는 소녀  무아 무아의...</td>\n",
       "      <td>9.95</td>\n",
       "      <td>2011.01.29 14:43</td>\n",
       "      <td>1</td>\n",
       "      <td>전체연령가</td>\n",
       "      <td>0</td>\n",
       "      <td>https://comic.naver.com/webtoon/list?titleId=1...</td>\n",
       "      <td>0</td>\n",
       "    </tr>\n",
       "    <tr>\n",
       "      <th>1105</th>\n",
       "      <td>602923</td>\n",
       "      <td>안 돼요 마왕님!</td>\n",
       "      <td>마로</td>\n",
       "      <td>스토리, 로맨스</td>\n",
       "      <td>인터넷 소설 마니아 마왕  진정한 사랑을 찾아 인간계로 떠나다   본격 순정 코미디</td>\n",
       "      <td>9.96</td>\n",
       "      <td>2015.09.24 23:13</td>\n",
       "      <td>1</td>\n",
       "      <td>전체연령가</td>\n",
       "      <td>0</td>\n",
       "      <td>https://comic.naver.com/webtoon/list?titleId=6...</td>\n",
       "      <td>0</td>\n",
       "    </tr>\n",
       "    <tr>\n",
       "      <th>1739</th>\n",
       "      <td>784813</td>\n",
       "      <td>퇴마록</td>\n",
       "      <td>운 / 이협 / 이우혁</td>\n",
       "      <td>스토리, 액션</td>\n",
       "      <td>대한민국에 신드롬을 일으키며 판매 누적부수  만부 이상을 기록한 대작 판타지를 이제...</td>\n",
       "      <td>9.93</td>\n",
       "      <td>2022.12.29 22:00</td>\n",
       "      <td>0</td>\n",
       "      <td>전체연령가</td>\n",
       "      <td>1</td>\n",
       "      <td>https://comic.naver.com/webtoon/list?titleId=7...</td>\n",
       "      <td>0</td>\n",
       "    </tr>\n",
       "    <tr>\n",
       "      <th>1627</th>\n",
       "      <td>740481</td>\n",
       "      <td>천도</td>\n",
       "      <td>진작</td>\n",
       "      <td>스토리, 판타지</td>\n",
       "      <td>저승 문을 막고 있던 융이 살해 당하고  다시 저승 문을 막기 위해 융을 되살리려는...</td>\n",
       "      <td>9.91</td>\n",
       "      <td>2022.01.04 22:55</td>\n",
       "      <td>1</td>\n",
       "      <td>전체연령가</td>\n",
       "      <td>0</td>\n",
       "      <td>https://comic.naver.com/webtoon/list?titleId=7...</td>\n",
       "      <td>0</td>\n",
       "    </tr>\n",
       "  </tbody>\n",
       "</table>\n",
       "<p>1546 rows × 12 columns</p>\n",
       "</div>"
      ],
      "text/plain": [
       "          id        title        author     genre  \\\n",
       "1169  640050     엄마와 딸 x2           필냉이  에피소드, 일상   \n",
       "1789  759894        평화선도부      최경민 / 용성   스토리, 액션   \n",
       "2029  717059     12차원 소년들            컷부  옴니버스, 개그   \n",
       "1022  748409         신의한수     이순기 / 민홍기  스토리, 드라마   \n",
       "350   169081        단군할배요            호연  스토리, 드라마   \n",
       "...      ...          ...           ...       ...   \n",
       "707   796302  베니루 BAENIRU           우지금  스토리, 스릴러   \n",
       "1701  169082         키스우드           안성호  스토리, 판타지   \n",
       "1105  602923    안 돼요 마왕님!            마로  스토리, 로맨스   \n",
       "1739  784813          퇴마록  운 / 이협 / 이우혁   스토리, 액션   \n",
       "1627  740481           천도            진작  스토리, 판타지   \n",
       "\n",
       "                                            description  rating  \\\n",
       "1169  인자한 외할머니  깐깐한 엄마  엉뚱한 딸이 한 집에 살게 되었다 본격 삼대모녀 티...    9.97   \n",
       "1789  선도 시켜 주마 학교폭력으로 얼룩진  구천  막나가는 구천의 일진들을 선도시키기 위...    8.81   \n",
       "2029       소무하보다 더 강해진 녀석들이 돌아왔다  차원을 넘나드는 소년들의 다양한 이야기    9.89   \n",
       "1022  여기  배신으로 점철된 삶을 살아온 한 여자가 있다 그녀는 사람이면 학을 떼는 냉소...    9.54   \n",
       "350   대한민국 어느 깊은 산골에서 다섯 살 아가씨가 산신을 만난다   단기  년  단군이...    9.91   \n",
       "...                                                 ...     ...   \n",
       "707   하루하루 죽지 못해 사는 배지현  어느 날  어마어마한 수익을 내는 걸로 유명한 버...    9.87   \n",
       "1701  언덕이라 불리우는 정체 불명의 숲  그리고 그곳을 지배 하고있는 소녀  무아 무아의...    9.95   \n",
       "1105     인터넷 소설 마니아 마왕  진정한 사랑을 찾아 인간계로 떠나다   본격 순정 코미디    9.96   \n",
       "1739  대한민국에 신드롬을 일으키며 판매 누적부수  만부 이상을 기록한 대작 판타지를 이제...    9.93   \n",
       "1627  저승 문을 막고 있던 융이 살해 당하고  다시 저승 문을 막기 위해 융을 되살리려는...    9.91   \n",
       "\n",
       "                  date  completed      age  free  \\\n",
       "1169  2016.03.10 23:13          1    전체연령가     0   \n",
       "1789  2021.04.20 23:02          1  15세 이용가     1   \n",
       "2029  2019.08.20 23:07          1    전체연령가     1   \n",
       "1022  2020.06.29 10:00          1    전체연령가     1   \n",
       "350   2011.09.29 00:14          1    전체연령가     0   \n",
       "...                ...        ...      ...   ...   \n",
       "707   2022.12.28 22:56          0  15세 이용가     0   \n",
       "1701  2011.01.29 14:43          1    전체연령가     0   \n",
       "1105  2015.09.24 23:13          1    전체연령가     0   \n",
       "1739  2022.12.29 22:00          0    전체연령가     1   \n",
       "1627  2022.01.04 22:55          1    전체연령가     0   \n",
       "\n",
       "                                                   link  target  \n",
       "1169  https://comic.naver.com/webtoon/list?titleId=6...       0  \n",
       "1789  https://comic.naver.com/webtoon/list?titleId=7...       2  \n",
       "2029  https://comic.naver.com/webtoon/list?titleId=7...       0  \n",
       "1022  https://comic.naver.com/webtoon/list?titleId=7...       0  \n",
       "350   https://comic.naver.com/webtoon/list?titleId=1...       0  \n",
       "...                                                 ...     ...  \n",
       "707   https://comic.naver.com/webtoon/list?titleId=7...       2  \n",
       "1701  https://comic.naver.com/webtoon/list?titleId=1...       0  \n",
       "1105  https://comic.naver.com/webtoon/list?titleId=6...       0  \n",
       "1739  https://comic.naver.com/webtoon/list?titleId=7...       0  \n",
       "1627  https://comic.naver.com/webtoon/list?titleId=7...       0  \n",
       "\n",
       "[1546 rows x 12 columns]"
      ]
     },
     "execution_count": 62,
     "metadata": {},
     "output_type": "execute_result"
    }
   ],
   "source": [
    "train"
   ]
  },
  {
   "cell_type": "code",
   "execution_count": 63,
   "metadata": {},
   "outputs": [
    {
     "name": "stdout",
     "output_type": "stream",
     "text": [
      "['<pad>', '<unk>', '수', '시작', '사람', '이야기', '그녀', '날', '작가', '남자']\n",
      "10002\n"
     ]
    }
   ],
   "source": [
    "tokenizer = Okt()\n",
    "train_tokens = [[token for token in tokenizer.morphs(review) if token not in stopwords ] for review in train.description]   \n",
    "test_tokens = [[token for token in tokenizer.morphs(review) if token not in stopwords] for review in test.description]\n",
    "\n",
    "vocab = build_vocab(corpus=train_tokens, n_vocab=10000, special_tokens=[\"<pad>\", \"<unk>\"])\n",
    "token_to_id = {token: idx for idx, token in enumerate(vocab)} \n",
    "id_to_token = {idx: token for idx, token in enumerate(vocab)} \n",
    "\n",
    "print(vocab[:10])\n",
    "print(len(vocab))"
   ]
  },
  {
   "cell_type": "code",
   "execution_count": 64,
   "metadata": {},
   "outputs": [
    {
     "data": {
      "image/png": "[encoded data removed]",
      "text/plain": [
       "<Figure size 640x480 with 1 Axes>"
      ]
     },
     "metadata": {},
     "output_type": "display_data"
    }
   ],
   "source": [
    "datalen = [len(tokens) for tokens in train_tokens]\n",
    "plt.hist(datalen,bins=4)\n",
    "plt.show()"
   ]
  },
  {
   "cell_type": "code",
   "execution_count": 65,
   "metadata": {},
   "outputs": [],
   "source": [
    "## 정수 인코딩 및 패딩\n",
    "import numpy as np\n",
    "# 패딩까지 해주는 함수\n",
    "def pad_sequences(sequences, max_length, pad_value):  \n",
    "    result = list()\n",
    "    for sequence in sequences:\n",
    "        sequence = sequence[:max_length] \n",
    "        pad_length = max_length - len(sequence)\n",
    "        padded_sequence = sequence + [pad_value] * pad_length   \n",
    "        result.append(padded_sequence)\n",
    "    return np.asarray(result)   "
   ]
  },
  {
   "cell_type": "code",
   "execution_count": 66,
   "metadata": {},
   "outputs": [
    {
     "name": "stdout",
     "output_type": "stream",
     "text": [
      "[5013 5014 5015  150 1746  181   49   26   14  169  218 3139 3140 5016\n",
      "   57   80    0    0    0    0    0    0    0    0    0    0    0    0\n",
      "    0    0    0    0    0    0    0]\n",
      "[  46 1993 1993  637    1 1436 1595    1  405  258    1 6064   58    1\n",
      "    0    0    0    0    0    0    0    0    0    0    0    0    0    0\n",
      "    0    0    0    0    0    0    0]\n"
     ]
    }
   ],
   "source": [
    "unk_id = token_to_id[\"<unk>\"]   \n",
    "train_ids = [[token_to_id.get(token, unk_id) for token in review] for review in train_tokens]  \n",
    "test_ids = [[token_to_id.get(token, unk_id) for token in review] for review in test_tokens]\n",
    "\n",
    "max_length = 35\n",
    "pad_id = token_to_id[\"<pad>\"]   \n",
    "train_ids = pad_sequences(train_ids, max_length, pad_id)\n",
    "test_ids = pad_sequences(test_ids, max_length, pad_id)\n",
    "\n",
    "print(train_ids[0])\n",
    "print(test_ids[0])"
   ]
  },
  {
   "cell_type": "code",
   "execution_count": 67,
   "metadata": {},
   "outputs": [],
   "source": [
    "## 데이터로더\n",
    "import torch\n",
    "from torch.utils.data import TensorDataset, DataLoader\n",
    "\n",
    "train_ids = torch.tensor(train_ids)\n",
    "test_ids = torch.tensor(test_ids)\n",
    "\n",
    "train_labels = torch.tensor(train.target.values, dtype=torch.float32)\n",
    "test_labels = torch.tensor(test.target.values, dtype=torch.float32)\n",
    "\n",
    "train_dataset = TensorDataset(train_ids, train_labels)\n",
    "test_dataset = TensorDataset(test_ids, test_labels)\n",
    "\n",
    "train_loader = DataLoader(train_dataset, batch_size=16, shuffle=True)\n",
    "test_loader = DataLoader(test_dataset, batch_size=16, shuffle=False)"
   ]
  },
  {
   "cell_type": "code",
   "execution_count": 68,
   "metadata": {},
   "outputs": [
    {
     "name": "stdout",
     "output_type": "stream",
     "text": [
      "tensor([[4583, 4584,  238,  499,   47, 3549, 8728,  646,   56, 8729, 8730,  900,\n",
      "          493, 8731, 2522,  145, 8732, 4585,  740, 1404, 4583, 4584, 1642, 8733,\n",
      "         2213,  712,  589,  102,  889, 2262,    0,    0,    0,    0,    0],\n",
      "        [   4, 1476,   65,    1,    2,  604,    1, 4505,    1,    0,    0,    0,\n",
      "            0,    0,    0,    0,    0,    0,    0,    0,    0,    0,    0,    0,\n",
      "            0,    0,    0,    0,    0,    0,    0,    0,    0,    0,    0],\n",
      "        [ 347,   28, 1728,  680,   90, 2008,  276,  253,   54, 4263,   61,  776,\n",
      "         1214, 3355,  183,  218, 3385,    5,    0,    0,    0,    0,    0,    0,\n",
      "            0,    0,    0,    0,    0,    0,    0,    0,    0,    0,    0],\n",
      "        [  12,  961,   14,  721, 1900, 2636, 3744, 6298, 3745, 3746,  755, 3747,\n",
      "          538, 2015, 6299, 3748, 6300,  347,  295,   62,   50, 3749, 3746,  143,\n",
      "         6301,  743, 2637,  677,    9, 1339, 6302, 1114,    4,   16, 6303],\n",
      "        [8116, 1098, 8117,  229, 2681,  980, 8118,  327, 2162, 4412, 2166,   11,\n",
      "         8119, 8120, 8121,   34, 2975,  945, 8122, 4413,   14, 4414,  110,  324,\n",
      "           56, 8123, 3236, 2976, 8124,  617, 1389, 1602,  463,    0,    0],\n",
      "        [ 727,   22,   58, 3666,  825,    0,    0,    0,    0,    0,    0,    0,\n",
      "            0,    0,    0,    0,    0,    0,    0,    0,    0,    0,    0,    0,\n",
      "            0,    0,    0,    0,    0,    0,    0,    0,    0,    0,    0],\n",
      "        [ 136,  389, 3065,   39,    4,  480, 2585,    5,  737,    1,    0,    0,\n",
      "            0,    0,    0,    0,    0,    0,    0,    0,    0,    0,    0,    0,\n",
      "            0,    0,    0,    0,    0,    0,    0,    0,    0,    0,    0],\n",
      "        [2191,   84,  162,  182, 2983,  119,   33,  162, 4451,  643, 1620,   20,\n",
      "         1004,   59,    2,  162,  182, 3143,  105,   23,   33,   16, 8964, 8965,\n",
      "           44,  119, 8966,   20, 1767,   71,   23, 2513, 8967,   47, 8968],\n",
      "        [  41,  133, 1297,  639,  113, 9650,    7,   86, 1690,  276,  125,  437,\n",
      "         4484, 9651, 3596, 1150, 4435,  482,   37, 1850,  437,  625,  445,  192,\n",
      "         1217,    2,  213,   71,  353,  194,  709,  437,  896,  118,  845],\n",
      "        [ 801,   23,  327, 8362, 1236,   56, 4386,  192,   48,  107,  468,  287,\n",
      "            0,    0,    0,    0,    0,    0,    0,    0,    0,    0,    0,    0,\n",
      "            0,    0,    0,    0,    0,    0,    0,    0,    0,    0,    0],\n",
      "        [ 337, 2030,    3, 6334, 1502, 6335,  949, 6336,   60,   36,  108,   28,\n",
      "         3760,  446,  182,  106,    0,    0,    0,    0,    0,    0,    0,    0,\n",
      "            0,    0,    0,    0,    0,    0,    0,    0,    0,    0,    0],\n",
      "        [3588, 2516,   88,  127,  863,  505,   45,    5,    1,   89,   45,    5,\n",
      "         2860,  838, 1033, 3036,    0,    0,    0,    0,    0,    0,    0,    0,\n",
      "            0,    0,    0,    0,    0,    0,    0,    0,    0,    0,    0],\n",
      "        [1313,  666,  144,  856,  172,  748,    0,    0,    0,    0,    0,    0,\n",
      "            0,    0,    0,    0,    0,    0,    0,    0,    0,    0,    0,    0,\n",
      "            0,    0,    0,    0,    0,    0,    0,    0,    0,    0,    0],\n",
      "        [  86, 1065,   27,  143,   78,  149,  368,    3,   20,  188, 1486, 8183,\n",
      "           75,  113,    0,    0,    0,    0,    0,    0,    0,    0,    0,    0,\n",
      "            0,    0,    0,    0,    0,    0,    0,    0,    0,    0,    0],\n",
      "        [   1,  125,  105, 1430, 2710,  289,  278,  310,  113,    0,    0,    0,\n",
      "            0,    0,    0,    0,    0,    0,    0,    0,    0,    0,    0,    0,\n",
      "            0,    0,    0,    0,    0,    0,    0,    0,    0,    0,    0],\n",
      "        [ 740,   97,   41, 6742,   25, 1149,   91, 6743, 6744, 6745,  401, 1368,\n",
      "         1674,  410,  383,  359,   22,    0,    0,    0,    0,    0,    0,    0,\n",
      "            0,    0,    0,    0,    0,    0,    0,    0,    0,    0,    0]],\n",
      "       dtype=torch.int32)\n",
      "tensor([0., 2., 0., 0., 2., 1., 0., 2., 2., 1., 0., 0., 0., 2., 1., 0.])\n"
     ]
    }
   ],
   "source": [
    "for feature, label in train_loader:\n",
    "    print(feature)\n",
    "    print(label)\n",
    "    break"
   ]
  },
  {
   "cell_type": "code",
   "execution_count": 69,
   "metadata": {},
   "outputs": [],
   "source": [
    "# 문장 분류하는 모델\n",
    "class SentenceClassifier(nn.Module):\n",
    "    def __init__(self, n_vocab, hidden_dim, embedding_dim, n_layers, n_classes ,dropout=0.5, bidirectional=True, model_type=\"lstm\"):\n",
    "        super().__init__()  # 부모클래스 상속\n",
    "\n",
    "        self.embedding = nn.Embedding(num_embeddings=n_vocab, embedding_dim=embedding_dim, padding_idx=0)\n",
    "\n",
    "        # rnn모델 일 경우\n",
    "        if model_type == 'rnn':\n",
    "            self.model = nn.RNN(\n",
    "                input_size=embedding_dim, hidden_size=hidden_dim, num_layers=n_layers, bidirectional=bidirectional, dropout=dropout, batch_first=True\n",
    "            )\n",
    "        # lstm모델 일 경우\n",
    "        elif model_type == 'lstm':\n",
    "            self.model = nn.LSTM(\n",
    "                input_size=embedding_dim, hidden_size=hidden_dim, num_layers=n_layers, bidirectional=bidirectional, dropout=dropout, batch_first=True\n",
    "            )\n",
    "\n",
    "        # bidirectional은 양방향성을 의미하는 파라미터\n",
    "        if bidirectional:\n",
    "            self.classifier = nn.Linear(hidden_dim * 2, n_classes)   # 양방향일때 타임스탭에서 양방향의 정보(순방향,역방향)의 출력들을 결합하여 분류기에 전달\n",
    "        else:\n",
    "            self.classifier = nn.Linear(hidden_dim, n_classes)\n",
    "        self.dropout = nn.Dropout(dropout)\n",
    "\n",
    "    def forward(self, inputs):\n",
    "        embeddings = self.embedding(inputs)\n",
    "        output, _ = self.model(embeddings) \n",
    "        last_output = output[:, -1, :]\n",
    "        last_output = self.dropout(last_output)\n",
    "        logits = self.classifier(last_output)\n",
    "        return logits"
   ]
  },
  {
   "cell_type": "code",
   "execution_count": 70,
   "metadata": {},
   "outputs": [],
   "source": [
    "from torch.optim.lr_scheduler import ReduceLROnPlateau"
   ]
  },
  {
   "cell_type": "code",
   "execution_count": 71,
   "metadata": {},
   "outputs": [],
   "source": [
    "## 손실 함수와 최적화 함수 정의\n",
    "from torch import optim\n",
    "LR = 0.001\n",
    "n_vocab = len(token_to_id)   # 단어사전의 크기\n",
    "hidden_dim = 128     # 은닉 사태의 크기\n",
    "embedding_dim = 128   #임베딩 벡터의 차원 128차원으로 사용\n",
    "n_layers = 2     # 2층\n",
    "n_classes = 3 # 다중 분류라 3\n",
    "\n",
    "device = \"cuda\" if torch.cuda.is_available() else \"cpu\"\n",
    "classifier = SentenceClassifier(n_vocab=n_vocab, hidden_dim=hidden_dim, embedding_dim=embedding_dim, n_layers=n_layers, n_classes=n_classes).to(device)\n",
    "criterion = nn.CrossEntropyLoss().to(device)   \n",
    "optimizer = optim.Adam(classifier.parameters(), lr=LR)\n",
    "scheduler = ReduceLROnPlateau(optimizer, mode='min', factor=0.1, patience=5)"
   ]
  },
  {
   "cell_type": "code",
   "execution_count": 72,
   "metadata": {},
   "outputs": [],
   "source": [
    "# 모델 학습하는 함수\n",
    "def train(model, datasets, criterion, optimizer, device, interval):\n",
    "    model.train()\n",
    "    losses = list()\n",
    "\n",
    "    for step, (input_ids, labels) in enumerate(datasets):\n",
    "        input_ids = input_ids.to(device)\n",
    "        labels = labels.to(device).long() # 다중분류에선 없애야 됨 => .unsqueeze(1)\n",
    "\n",
    "        logits = model(input_ids)\n",
    "        loss = criterion(logits, labels)\n",
    "        losses.append(loss.item())\n",
    "\n",
    "        optimizer.zero_grad()\n",
    "        loss.backward()\n",
    "        optimizer.step()\n",
    "\n",
    "        if step%interval == 0:\n",
    "            print(f'Train Loss {step} : {np.mean(losses)}')"
   ]
  },
  {
   "cell_type": "code",
   "execution_count": 73,
   "metadata": {},
   "outputs": [],
   "source": [
    "# 모델 테스트하는 함수\n",
    "def test(model, datasets, criterion, device):\n",
    "    model.eval()\n",
    "    losses = list()\n",
    "    corrects = list()\n",
    "\n",
    "    for step, (input_ids, labels) in enumerate(datasets):   \n",
    "        input_ids = input_ids.to(device)\n",
    "        labels = labels.to(device).long() # 다중분류에선 없애야 됨 => .unsqueeze(1)\n",
    "\n",
    "        logits = model(input_ids)  \n",
    "        loss = criterion(logits, labels)\n",
    "        losses.append(loss.item())\n",
    "        yhat = torch.argmax(torch.softmax(logits,dim=1),dim=1)  # softmax는 자동으로 해줌 >.5  \n",
    "        corrects.extend(torch.eq(yhat, labels).cpu().tolist())        \n",
    "\n",
    "        val_loss = np.mean(losses)\n",
    "        val_accuracy = np.mean(corrects)\n",
    "\n",
    "    print(f\"Val Loss : {val_loss}, Val Accuracy : {val_accuracy}\")\n",
    "    return val_loss"
   ]
  },
  {
   "cell_type": "code",
   "execution_count": 74,
   "metadata": {},
   "outputs": [
    {
     "name": "stdout",
     "output_type": "stream",
     "text": [
      "epoch : 0\n",
      "Train Loss 0 : 1.1104782819747925\n",
      "Val Loss : 1.0639160561561585, Val Accuracy : 0.45595854922279794\n",
      "epoch : 1\n",
      "Train Loss 0 : 1.1259268522262573\n",
      "Val Loss : 1.0654229307174683, Val Accuracy : 0.46632124352331605\n",
      "epoch : 2\n",
      "Train Loss 0 : 1.0162863731384277\n",
      "Val Loss : 1.1576833486557008, Val Accuracy : 0.38341968911917096\n",
      "epoch : 3\n",
      "Train Loss 0 : 0.7271687984466553\n",
      "Val Loss : 1.2601211166381836, Val Accuracy : 0.39896373056994816\n",
      "epoch : 4\n",
      "Train Loss 0 : 0.5650665163993835\n",
      "Val Loss : 1.4338971018791198, Val Accuracy : 0.4170984455958549\n",
      "epoch : 5\n",
      "Train Loss 0 : 0.4801551103591919\n",
      "Val Loss : 1.4178925943374634, Val Accuracy : 0.4378238341968912\n",
      "epoch : 6\n",
      "Train Loss 0 : 0.6542354226112366\n",
      "Val Loss : 1.6872745490074157, Val Accuracy : 0.3963730569948187\n",
      "epoch : 7\n",
      "Train Loss 0 : 0.2509300112724304\n",
      "Val Loss : 1.8624946975708008, Val Accuracy : 0.4170984455958549\n",
      "epoch : 8\n",
      "Train Loss 0 : 0.0922357439994812\n",
      "Val Loss : 1.9105742645263672, Val Accuracy : 0.4067357512953368\n",
      "epoch : 9\n",
      "Train Loss 0 : 0.19049833714962006\n",
      "Val Loss : 2.0548967695236207, Val Accuracy : 0.4274611398963731\n",
      "epoch : 10\n",
      "Train Loss 0 : 0.053552500903606415\n",
      "Val Loss : 2.1111596488952635, Val Accuracy : 0.4430051813471503\n",
      "epoch : 11\n",
      "Train Loss 0 : 0.007620427291840315\n",
      "Val Loss : 2.191013135910034, Val Accuracy : 0.43523316062176165\n",
      "epoch : 12\n",
      "Train Loss 0 : 0.05481953173875809\n",
      "Val Loss : 2.3561646509170533, Val Accuracy : 0.44559585492227977\n",
      "epoch : 13\n",
      "Train Loss 0 : 0.029597414657473564\n"
     ]
    },
    {
     "ename": "KeyboardInterrupt",
     "evalue": "",
     "output_type": "error",
     "traceback": [
      "\u001b[1;31m---------------------------------------------------------------------------\u001b[0m",
      "\u001b[1;31mKeyboardInterrupt\u001b[0m                         Traceback (most recent call last)",
      "Cell \u001b[1;32mIn[74], line 6\u001b[0m\n\u001b[0;32m      4\u001b[0m \u001b[38;5;28;01mfor\u001b[39;00m epoch \u001b[38;5;129;01min\u001b[39;00m \u001b[38;5;28mrange\u001b[39m(epochs):\n\u001b[0;32m      5\u001b[0m     \u001b[38;5;28mprint\u001b[39m(\u001b[38;5;124mf\u001b[39m\u001b[38;5;124m'\u001b[39m\u001b[38;5;124mepoch : \u001b[39m\u001b[38;5;132;01m{\u001b[39;00mepoch\u001b[38;5;132;01m}\u001b[39;00m\u001b[38;5;124m'\u001b[39m)\n\u001b[1;32m----> 6\u001b[0m     \u001b[43mtrain\u001b[49m\u001b[43m(\u001b[49m\u001b[43mclassifier\u001b[49m\u001b[43m,\u001b[49m\u001b[43m \u001b[49m\u001b[43mtrain_loader\u001b[49m\u001b[43m,\u001b[49m\u001b[43m \u001b[49m\u001b[43mcriterion\u001b[49m\u001b[43m,\u001b[49m\u001b[43m \u001b[49m\u001b[43moptimizer\u001b[49m\u001b[43m,\u001b[49m\u001b[43m \u001b[49m\u001b[43mdevice\u001b[49m\u001b[43m,\u001b[49m\u001b[43m \u001b[49m\u001b[43minterval\u001b[49m\u001b[43m)\u001b[49m\n\u001b[0;32m      7\u001b[0m     val_loss \u001b[38;5;241m=\u001b[39m test(classifier, test_loader, criterion, device)\n\u001b[0;32m      8\u001b[0m     scheduler\u001b[38;5;241m.\u001b[39mstep(val_loss)\n",
      "Cell \u001b[1;32mIn[72], line 10\u001b[0m, in \u001b[0;36mtrain\u001b[1;34m(model, datasets, criterion, optimizer, device, interval)\u001b[0m\n\u001b[0;32m      7\u001b[0m input_ids \u001b[38;5;241m=\u001b[39m input_ids\u001b[38;5;241m.\u001b[39mto(device)\n\u001b[0;32m      8\u001b[0m labels \u001b[38;5;241m=\u001b[39m labels\u001b[38;5;241m.\u001b[39mto(device)\u001b[38;5;241m.\u001b[39mlong() \u001b[38;5;66;03m# 다중분류에선 없애야 됨 => .unsqueeze(1)\u001b[39;00m\n\u001b[1;32m---> 10\u001b[0m logits \u001b[38;5;241m=\u001b[39m \u001b[43mmodel\u001b[49m\u001b[43m(\u001b[49m\u001b[43minput_ids\u001b[49m\u001b[43m)\u001b[49m\n\u001b[0;32m     11\u001b[0m loss \u001b[38;5;241m=\u001b[39m criterion(logits, labels)\n\u001b[0;32m     12\u001b[0m losses\u001b[38;5;241m.\u001b[39mappend(loss\u001b[38;5;241m.\u001b[39mitem())\n",
      "File \u001b[1;32mc:\\Users\\KDP-14\\anaconda3\\envs\\TEXT_018_230_38\\lib\\site-packages\\torch\\nn\\modules\\module.py:1532\u001b[0m, in \u001b[0;36mModule._wrapped_call_impl\u001b[1;34m(self, *args, **kwargs)\u001b[0m\n\u001b[0;32m   1530\u001b[0m     \u001b[38;5;28;01mreturn\u001b[39;00m \u001b[38;5;28mself\u001b[39m\u001b[38;5;241m.\u001b[39m_compiled_call_impl(\u001b[38;5;241m*\u001b[39margs, \u001b[38;5;241m*\u001b[39m\u001b[38;5;241m*\u001b[39mkwargs)  \u001b[38;5;66;03m# type: ignore[misc]\u001b[39;00m\n\u001b[0;32m   1531\u001b[0m \u001b[38;5;28;01melse\u001b[39;00m:\n\u001b[1;32m-> 1532\u001b[0m     \u001b[38;5;28;01mreturn\u001b[39;00m \u001b[38;5;28;43mself\u001b[39;49m\u001b[38;5;241;43m.\u001b[39;49m\u001b[43m_call_impl\u001b[49m\u001b[43m(\u001b[49m\u001b[38;5;241;43m*\u001b[39;49m\u001b[43margs\u001b[49m\u001b[43m,\u001b[49m\u001b[43m \u001b[49m\u001b[38;5;241;43m*\u001b[39;49m\u001b[38;5;241;43m*\u001b[39;49m\u001b[43mkwargs\u001b[49m\u001b[43m)\u001b[49m\n",
      "File \u001b[1;32mc:\\Users\\KDP-14\\anaconda3\\envs\\TEXT_018_230_38\\lib\\site-packages\\torch\\nn\\modules\\module.py:1541\u001b[0m, in \u001b[0;36mModule._call_impl\u001b[1;34m(self, *args, **kwargs)\u001b[0m\n\u001b[0;32m   1536\u001b[0m \u001b[38;5;66;03m# If we don't have any hooks, we want to skip the rest of the logic in\u001b[39;00m\n\u001b[0;32m   1537\u001b[0m \u001b[38;5;66;03m# this function, and just call forward.\u001b[39;00m\n\u001b[0;32m   1538\u001b[0m \u001b[38;5;28;01mif\u001b[39;00m \u001b[38;5;129;01mnot\u001b[39;00m (\u001b[38;5;28mself\u001b[39m\u001b[38;5;241m.\u001b[39m_backward_hooks \u001b[38;5;129;01mor\u001b[39;00m \u001b[38;5;28mself\u001b[39m\u001b[38;5;241m.\u001b[39m_backward_pre_hooks \u001b[38;5;129;01mor\u001b[39;00m \u001b[38;5;28mself\u001b[39m\u001b[38;5;241m.\u001b[39m_forward_hooks \u001b[38;5;129;01mor\u001b[39;00m \u001b[38;5;28mself\u001b[39m\u001b[38;5;241m.\u001b[39m_forward_pre_hooks\n\u001b[0;32m   1539\u001b[0m         \u001b[38;5;129;01mor\u001b[39;00m _global_backward_pre_hooks \u001b[38;5;129;01mor\u001b[39;00m _global_backward_hooks\n\u001b[0;32m   1540\u001b[0m         \u001b[38;5;129;01mor\u001b[39;00m _global_forward_hooks \u001b[38;5;129;01mor\u001b[39;00m _global_forward_pre_hooks):\n\u001b[1;32m-> 1541\u001b[0m     \u001b[38;5;28;01mreturn\u001b[39;00m \u001b[43mforward_call\u001b[49m\u001b[43m(\u001b[49m\u001b[38;5;241;43m*\u001b[39;49m\u001b[43margs\u001b[49m\u001b[43m,\u001b[49m\u001b[43m \u001b[49m\u001b[38;5;241;43m*\u001b[39;49m\u001b[38;5;241;43m*\u001b[39;49m\u001b[43mkwargs\u001b[49m\u001b[43m)\u001b[49m\n\u001b[0;32m   1543\u001b[0m \u001b[38;5;28;01mtry\u001b[39;00m:\n\u001b[0;32m   1544\u001b[0m     result \u001b[38;5;241m=\u001b[39m \u001b[38;5;28;01mNone\u001b[39;00m\n",
      "Cell \u001b[1;32mIn[69], line 28\u001b[0m, in \u001b[0;36mSentenceClassifier.forward\u001b[1;34m(self, inputs)\u001b[0m\n\u001b[0;32m     26\u001b[0m \u001b[38;5;28;01mdef\u001b[39;00m \u001b[38;5;21mforward\u001b[39m(\u001b[38;5;28mself\u001b[39m, inputs):\n\u001b[0;32m     27\u001b[0m     embeddings \u001b[38;5;241m=\u001b[39m \u001b[38;5;28mself\u001b[39m\u001b[38;5;241m.\u001b[39membedding(inputs)\n\u001b[1;32m---> 28\u001b[0m     output, _ \u001b[38;5;241m=\u001b[39m \u001b[38;5;28;43mself\u001b[39;49m\u001b[38;5;241;43m.\u001b[39;49m\u001b[43mmodel\u001b[49m\u001b[43m(\u001b[49m\u001b[43membeddings\u001b[49m\u001b[43m)\u001b[49m \n\u001b[0;32m     29\u001b[0m     last_output \u001b[38;5;241m=\u001b[39m output[:, \u001b[38;5;241m-\u001b[39m\u001b[38;5;241m1\u001b[39m, :]\n\u001b[0;32m     30\u001b[0m     last_output \u001b[38;5;241m=\u001b[39m \u001b[38;5;28mself\u001b[39m\u001b[38;5;241m.\u001b[39mdropout(last_output)\n",
      "File \u001b[1;32mc:\\Users\\KDP-14\\anaconda3\\envs\\TEXT_018_230_38\\lib\\site-packages\\torch\\nn\\modules\\module.py:1532\u001b[0m, in \u001b[0;36mModule._wrapped_call_impl\u001b[1;34m(self, *args, **kwargs)\u001b[0m\n\u001b[0;32m   1530\u001b[0m     \u001b[38;5;28;01mreturn\u001b[39;00m \u001b[38;5;28mself\u001b[39m\u001b[38;5;241m.\u001b[39m_compiled_call_impl(\u001b[38;5;241m*\u001b[39margs, \u001b[38;5;241m*\u001b[39m\u001b[38;5;241m*\u001b[39mkwargs)  \u001b[38;5;66;03m# type: ignore[misc]\u001b[39;00m\n\u001b[0;32m   1531\u001b[0m \u001b[38;5;28;01melse\u001b[39;00m:\n\u001b[1;32m-> 1532\u001b[0m     \u001b[38;5;28;01mreturn\u001b[39;00m \u001b[38;5;28;43mself\u001b[39;49m\u001b[38;5;241;43m.\u001b[39;49m\u001b[43m_call_impl\u001b[49m\u001b[43m(\u001b[49m\u001b[38;5;241;43m*\u001b[39;49m\u001b[43margs\u001b[49m\u001b[43m,\u001b[49m\u001b[43m \u001b[49m\u001b[38;5;241;43m*\u001b[39;49m\u001b[38;5;241;43m*\u001b[39;49m\u001b[43mkwargs\u001b[49m\u001b[43m)\u001b[49m\n",
      "File \u001b[1;32mc:\\Users\\KDP-14\\anaconda3\\envs\\TEXT_018_230_38\\lib\\site-packages\\torch\\nn\\modules\\module.py:1541\u001b[0m, in \u001b[0;36mModule._call_impl\u001b[1;34m(self, *args, **kwargs)\u001b[0m\n\u001b[0;32m   1536\u001b[0m \u001b[38;5;66;03m# If we don't have any hooks, we want to skip the rest of the logic in\u001b[39;00m\n\u001b[0;32m   1537\u001b[0m \u001b[38;5;66;03m# this function, and just call forward.\u001b[39;00m\n\u001b[0;32m   1538\u001b[0m \u001b[38;5;28;01mif\u001b[39;00m \u001b[38;5;129;01mnot\u001b[39;00m (\u001b[38;5;28mself\u001b[39m\u001b[38;5;241m.\u001b[39m_backward_hooks \u001b[38;5;129;01mor\u001b[39;00m \u001b[38;5;28mself\u001b[39m\u001b[38;5;241m.\u001b[39m_backward_pre_hooks \u001b[38;5;129;01mor\u001b[39;00m \u001b[38;5;28mself\u001b[39m\u001b[38;5;241m.\u001b[39m_forward_hooks \u001b[38;5;129;01mor\u001b[39;00m \u001b[38;5;28mself\u001b[39m\u001b[38;5;241m.\u001b[39m_forward_pre_hooks\n\u001b[0;32m   1539\u001b[0m         \u001b[38;5;129;01mor\u001b[39;00m _global_backward_pre_hooks \u001b[38;5;129;01mor\u001b[39;00m _global_backward_hooks\n\u001b[0;32m   1540\u001b[0m         \u001b[38;5;129;01mor\u001b[39;00m _global_forward_hooks \u001b[38;5;129;01mor\u001b[39;00m _global_forward_pre_hooks):\n\u001b[1;32m-> 1541\u001b[0m     \u001b[38;5;28;01mreturn\u001b[39;00m \u001b[43mforward_call\u001b[49m\u001b[43m(\u001b[49m\u001b[38;5;241;43m*\u001b[39;49m\u001b[43margs\u001b[49m\u001b[43m,\u001b[49m\u001b[43m \u001b[49m\u001b[38;5;241;43m*\u001b[39;49m\u001b[38;5;241;43m*\u001b[39;49m\u001b[43mkwargs\u001b[49m\u001b[43m)\u001b[49m\n\u001b[0;32m   1543\u001b[0m \u001b[38;5;28;01mtry\u001b[39;00m:\n\u001b[0;32m   1544\u001b[0m     result \u001b[38;5;241m=\u001b[39m \u001b[38;5;28;01mNone\u001b[39;00m\n",
      "File \u001b[1;32mc:\\Users\\KDP-14\\anaconda3\\envs\\TEXT_018_230_38\\lib\\site-packages\\torch\\nn\\modules\\rnn.py:911\u001b[0m, in \u001b[0;36mLSTM.forward\u001b[1;34m(self, input, hx)\u001b[0m\n\u001b[0;32m    908\u001b[0m         hx \u001b[38;5;241m=\u001b[39m \u001b[38;5;28mself\u001b[39m\u001b[38;5;241m.\u001b[39mpermute_hidden(hx, sorted_indices)\n\u001b[0;32m    910\u001b[0m \u001b[38;5;28;01mif\u001b[39;00m batch_sizes \u001b[38;5;129;01mis\u001b[39;00m \u001b[38;5;28;01mNone\u001b[39;00m:\n\u001b[1;32m--> 911\u001b[0m     result \u001b[38;5;241m=\u001b[39m \u001b[43m_VF\u001b[49m\u001b[38;5;241;43m.\u001b[39;49m\u001b[43mlstm\u001b[49m\u001b[43m(\u001b[49m\u001b[38;5;28;43minput\u001b[39;49m\u001b[43m,\u001b[49m\u001b[43m \u001b[49m\u001b[43mhx\u001b[49m\u001b[43m,\u001b[49m\u001b[43m \u001b[49m\u001b[38;5;28;43mself\u001b[39;49m\u001b[38;5;241;43m.\u001b[39;49m\u001b[43m_flat_weights\u001b[49m\u001b[43m,\u001b[49m\u001b[43m \u001b[49m\u001b[38;5;28;43mself\u001b[39;49m\u001b[38;5;241;43m.\u001b[39;49m\u001b[43mbias\u001b[49m\u001b[43m,\u001b[49m\u001b[43m \u001b[49m\u001b[38;5;28;43mself\u001b[39;49m\u001b[38;5;241;43m.\u001b[39;49m\u001b[43mnum_layers\u001b[49m\u001b[43m,\u001b[49m\n\u001b[0;32m    912\u001b[0m \u001b[43m                      \u001b[49m\u001b[38;5;28;43mself\u001b[39;49m\u001b[38;5;241;43m.\u001b[39;49m\u001b[43mdropout\u001b[49m\u001b[43m,\u001b[49m\u001b[43m \u001b[49m\u001b[38;5;28;43mself\u001b[39;49m\u001b[38;5;241;43m.\u001b[39;49m\u001b[43mtraining\u001b[49m\u001b[43m,\u001b[49m\u001b[43m \u001b[49m\u001b[38;5;28;43mself\u001b[39;49m\u001b[38;5;241;43m.\u001b[39;49m\u001b[43mbidirectional\u001b[49m\u001b[43m,\u001b[49m\u001b[43m \u001b[49m\u001b[38;5;28;43mself\u001b[39;49m\u001b[38;5;241;43m.\u001b[39;49m\u001b[43mbatch_first\u001b[49m\u001b[43m)\u001b[49m\n\u001b[0;32m    913\u001b[0m \u001b[38;5;28;01melse\u001b[39;00m:\n\u001b[0;32m    914\u001b[0m     result \u001b[38;5;241m=\u001b[39m _VF\u001b[38;5;241m.\u001b[39mlstm(\u001b[38;5;28minput\u001b[39m, batch_sizes, hx, \u001b[38;5;28mself\u001b[39m\u001b[38;5;241m.\u001b[39m_flat_weights, \u001b[38;5;28mself\u001b[39m\u001b[38;5;241m.\u001b[39mbias,\n\u001b[0;32m    915\u001b[0m                       \u001b[38;5;28mself\u001b[39m\u001b[38;5;241m.\u001b[39mnum_layers, \u001b[38;5;28mself\u001b[39m\u001b[38;5;241m.\u001b[39mdropout, \u001b[38;5;28mself\u001b[39m\u001b[38;5;241m.\u001b[39mtraining, \u001b[38;5;28mself\u001b[39m\u001b[38;5;241m.\u001b[39mbidirectional)\n",
      "\u001b[1;31mKeyboardInterrupt\u001b[0m: "
     ]
    }
   ],
   "source": [
    "epochs = 100\n",
    "interval = 500   \n",
    "\n",
    "for epoch in range(epochs):\n",
    "    print(f'epoch : {epoch}')\n",
    "    train(classifier, train_loader, criterion, optimizer, device, interval)\n",
    "    val_loss = test(classifier, test_loader, criterion, device)\n",
    "    scheduler.step(val_loss)"
   ]
  },
  {
   "cell_type": "code",
   "execution_count": 675,
   "metadata": {},
   "outputs": [],
   "source": [
    "torch.save(classifier, f'best_model.pth1')"
   ]
  },
  {
   "cell_type": "code",
   "execution_count": 680,
   "metadata": {},
   "outputs": [],
   "source": [
    "device = \"cuda\" if torch.cuda.is_available() else \"cpu\"\n",
    "model=torch.load('best_model.pth', weights_only=False).to(device)"
   ]
  },
  {
   "cell_type": "code",
   "execution_count": 681,
   "metadata": {},
   "outputs": [],
   "source": [
    "new_reviews = [\"너무 폭력적이여서 재미가 없었어\"]"
   ]
  },
  {
   "cell_type": "code",
   "execution_count": 682,
   "metadata": {},
   "outputs": [],
   "source": [
    "new_reviews = [re_text(review) for review in new_reviews]\n",
    "new_tokens = [[token for token in tokenizer.morphs(review) if token not in stopwords] for review in new_reviews]\n",
    "new_ids = [[token_to_id.get(token, unk_id) for token in tokens] for tokens in new_tokens]\n",
    "new_ids_padded = pad_sequences(new_ids, max_length, pad_id)\n",
    "new_ids_tensor = torch.tensor(new_ids_padded).to(device)"
   ]
  },
  {
   "cell_type": "code",
   "execution_count": 684,
   "metadata": {},
   "outputs": [
    {
     "ename": "RuntimeError",
     "evalue": "Boolean value of Tensor with more than one value is ambiguous",
     "output_type": "error",
     "traceback": [
      "\u001b[1;31m---------------------------------------------------------------------------\u001b[0m",
      "\u001b[1;31mRuntimeError\u001b[0m                              Traceback (most recent call last)",
      "Cell \u001b[1;32mIn[684], line 9\u001b[0m\n\u001b[0;32m      7\u001b[0m \u001b[38;5;66;03m# 9. 예측 결과 출력 (0.5 이상이면 긍정, 미만이면 부정)\u001b[39;00m\n\u001b[0;32m      8\u001b[0m \u001b[38;5;28;01mfor\u001b[39;00m i, review \u001b[38;5;129;01min\u001b[39;00m \u001b[38;5;28menumerate\u001b[39m(new_reviews):\n\u001b[1;32m----> 9\u001b[0m     prediction \u001b[38;5;241m=\u001b[39m \u001b[38;5;241m1\u001b[39m \u001b[38;5;28;01mif\u001b[39;00m \u001b[43mpredictions\u001b[49m\u001b[43m[\u001b[49m\u001b[43mi\u001b[49m\u001b[43m]\u001b[49m\u001b[43m \u001b[49m\u001b[38;5;241;43m>\u001b[39;49m\u001b[38;5;241;43m=\u001b[39;49m\u001b[43m \u001b[49m\u001b[38;5;241;43m0.5\u001b[39;49m \u001b[38;5;28;01melse\u001b[39;00m \u001b[38;5;241m0\u001b[39m\n\u001b[0;32m     10\u001b[0m     \u001b[38;5;28mprint\u001b[39m(\u001b[38;5;124mf\u001b[39m\u001b[38;5;124m\"\u001b[39m\u001b[38;5;124m리뷰: \u001b[39m\u001b[38;5;132;01m{\u001b[39;00mreview\u001b[38;5;132;01m}\u001b[39;00m\u001b[38;5;124m\"\u001b[39m)\n\u001b[0;32m     11\u001b[0m     \u001b[38;5;66;03m# print(f\"예측된 결과: {'긍정' if prediction == 1 else '부정'}\")\u001b[39;00m\n",
      "\u001b[1;31mRuntimeError\u001b[0m: Boolean value of Tensor with more than one value is ambiguous"
     ]
    }
   ],
   "source": [
    "## 예측\n",
    "model.eval()\n",
    "with torch.no_grad():\n",
    "    outputs = model(new_ids_tensor)\n",
    "    predictions = torch.softmax(outputs)\n",
    "\n",
    "# 9. 예측 결과 출력 (0.5 이상이면 긍정, 미만이면 부정)\n",
    "for i, review in enumerate(new_reviews):\n",
    "    prediction = 1 if predictions[i] >= 0.5 else 0\n",
    "    print(f\"리뷰: {review}\")\n",
    "    print(f\"예측된 결과: {'긍정' if prediction == 1\n",
    "                      else '부정'}\")"
   ]
  },
  {
   "cell_type": "code",
   "execution_count": 685,
   "metadata": {},
   "outputs": [
    {
     "name": "stdout",
     "output_type": "stream",
     "text": [
      "단어 사전이 저장되었습니다.\n"
     ]
    }
   ],
   "source": [
    "import pickle\n",
    "# 단어 사전 저장\n",
    "with open('vocab.pkl', 'wb') as f:\n",
    "    pickle.dump(vocab, f)\n",
    "\n",
    "print(\"단어 사전이 저장되었습니다.\")"
   ]
  },
  {
   "cell_type": "code",
   "execution_count": 686,
   "metadata": {},
   "outputs": [
    {
     "name": "stdout",
     "output_type": "stream",
     "text": [
      "단어 사전이 불러와졌습니다.\n",
      "['<pad>', '<unk>', '수', '시작', '사람', '이야기', '작가', '날', '남자', '세상', '사랑', '속', '인간', '로맨스', '남', '앞', '세계', '친구', '소녀', '게임', '학교', '삶', '인생', '웹툰', '소년', '결혼', '연애', '비밀', '후', '눈', '집', '신작', '사건', '생활', '주인공', '일상', '번', '말', '정체', '꿈', '은', '중', '판타지', '여자', '만화', '마음', '몸', '건', '존재', '운명', '명', '능력', '죽음', '과거', '곳', '귀신', '현실', '끝', '제안', '가족', '최고', '기억', '복수', '고등학생', '드라마', '반', '생각', '성장', '미래', '순간', '완벽', '게', '차', '저주', '위기', '대한민국', '악마', '거', '소설', '행복', '안', '채', '애', '사고', '김', '강', '뿐', '전설', '적', '남편', '고등학교', '시절', '사실', '딸', '학생', '싸움', '신', '우', '목숨', '인기', '액션', '힘', '전', '처음', '천재', '한', '방', '엄마', '뒤', '하루', '회사', '지', '인', '마법', '빙의', '최강', '등장', '지옥', '인해', '왕', '단편', '외모', '돈', '발견', '아이돌', '선', '청춘', '네이버', '지구', '선택', '모험', '관계', '마을', '상황', '길', '계약', '시대', '이름', '우주', '첫사랑', '밤', '손', '정신', '서로', '때문', '덕', '작품', '진실', '도', '이유', '간', '동생', '모습', '성공', '마지막', '멸망', '인류', '주변', '짝사랑', '전생', '부', '윤', '기회', '대', '조선', '결심', '만', '여행', '일진', '사이', '스릴러', '위험', '전쟁', '아버지', '세', '녀', '대신', '자리', '어느날', '불명', '살인', '공주', '마왕', '마법사', '라', '원', '피', '살', '고군분투', '이별', '괴물', '도시', '시', '사회', '주', '할머니', '탑', '평화', '충격', '아들', '대학', '수상작', '혁', '한국', '이후', '의문', '동거', '마녀', '입학', '듯', '주인', '배우', '고백', '얼굴', '위', '여름', '도전', '도움', '프로젝트', '재벌', '생존', '지상', '하늘', '좌충우돌', '급', '누', '군가', '태', '정', '친', '현', '왕자', '절대', '신비', '줄', '언니', '대표', '남자친구', '리', '라고', '감정', '라이프', '고양이', '최대', '개', '전학생', '잠', '용', '캠퍼스', '시즌', '가지', '오늘', '성', '황제', '귀', '병', '유일한', '다', '달', '부모', '팬', '사냥', '무림', '이사', '이용', '그룹', '소원', '원작', '탈출', '호', '학원', '보니', '영혼', '홍', '혼란', '공작', '살해', '뱀파이어', '낯선', '티', '연', '배신', '사기', '노', '대학생', '예상', '설', '선배', '문제', '좀비', '에피소드', '헌터', '공모전', '연기', '키스', '계획', '소꿉친구', '공포', '영웅', '마', '미스터리', '꽃', '스타', '사내', '우연', '팀', '밖', '가슴', '아이들', '대상', '물', '생', '인연', '장', '해결', '류', '어른', '악', '민', '동아리', '툰', '제국', '고생', '인물', '금', '엔', '서브', '퀘스트', '루', '용사', '살아남기', '문', '법', '숨', '반복', '절망', '재능', '사이에서', '환생', '황후', '남은', '땅', '감', '재인', '눈앞', '서울', '초능력', '가난', '목격', '임무', '권', '지금', '성격', '동화', '개그', '놈', '점', '지배', '대기업', '회귀', '그날', '드', '목표', '키', '오해', '준비', '취업', '취향', '발', '나라', '코믹', '술', '가문', '아빠', '불행', '남녀', '알바', '정의', '몬스터', '동네', '데', '상', '스토리', '직장인', '전학', '이자', '기', '학년', '기사', '고수', '선생님', '경찰', '그림', '비', '거지', '르', '서', '트라우마', '고통', '방법', '위협', '드래곤', '극복', '괴롭힘', '집안', '상처', '여인', '여고생', '명작', '요괴', '여정', '상대', '하룻밤', '영애', '조직', '납치', '공', '시골', '노력', '연우', '소리', '음모', '우수', '자유', '동물', '간다', '박', '지호', '바람', '테', '폭력', '히어로', '카', '동료', '전교', '공부', '만남', '복', '커플', '단', '식', '상상', '희망', '분노', '형사', '고민', '운', '빌', '런', '유지', '극', '이제', '형', '센터', '부부', '목소리', '우리들의', '미남', '시체', '소문', '배', '직', '행성', '축구', '외계인', '민주', '씨', '바', '어머니', '헌', '힐링', '왕세자', '정도', '미', '녀석', '옆', '요원', '바이러스', '연인', '오빠', '누나', '생명', '호랑이', '대가', '의사', '거리', '리메이크', '도깨비', '감성', '예측', '필요', '생존자', '포기', '신부', '황', '살인마', '저승', '던전', '편', '구원', '곁', '실종', '천사', '매니저', '왕따', '체', '리얼', '예언', '심', '이현세', '무공', '선수', '특집', '직전', '대학만화 최강자전', '임', '유명', '한편', '귀족', '시련', '준', '습격', '최', '왕국', '현수', '승희', '후궁', '이다', '우정', '성적', '세계로', '섬', '바다', '반전', '실패', '고', '미인', '사랑은', '국내', '마리', '계기', '여주', '슈퍼', '이건', '고향', '먹이', '시험', '동시', '제일', '검', '행동', '경험', '목', '솔로', '머리', '관심', '중독', '실수', '상태', '당황', '교', '중심', '정보', '웹', '아침', '심장', '황녀', '군', '이두호', '황태자', '쪽', '배경', '범인', '성장기', '두근두근', '미지', '스스로', '우비', '계속', '해', '차원', '담당', '옆집', '사원', '코', '세력', '유', '애정', '리어', '여자친구', '스카우트', '쇼', '옴니버스', '추억', '발생', '나날', '회장', '초', '무협', '재회', '대로', '유혹', '원래', '자란', '갈등', '빛', '빈', '파란만장', '학교생활', '최후', '취급', '최악', '감각', '두려움', '노인', '감당', '이웃', '사춘기', '결', '잘못', '무리', '집단', '레온', '이혼', '리스트', '서바이벌', '공무원', '혈', '구미호', '그 후', '도착', '타', '칼', '세기', '부활', '스포츠', '창', '작', '일대기', '진짜', '재수', '영화', '막내', '신인', '부탁', '병원', '본인', '주민', '남학생', '신이', '기록', '만화가', '연극', '평생', '하루하루', '콩', '저승사자', '최초', '숲', '각성', '테리', '망나니', '아람', '매력', '옥', '시선', '주부', '공존', '기업', '국', '사제', '물고기', '마교', '셔틀', '재난', '빚', '플레이어', '범', '사장', '엑스트라', '캐릭터', '피해', '구애', '욕망', '사투', '면접', '현대', '실', '관리', '초대', '이연', '강자', '요리', '예전', '순정', '거절', '킬러', '신체', '혜', '비서', '아픔', '회사원', '신경', '남매', '접근', '대공', '망상', '방송', '쓰레기', '밑', '미국', '세계관', '시한부', '협박', '미션', '무당', '얼떨결', '연재', '모태', '태권도', '사형', '흔적', '메시지', '독', '업무', '책', '삼류', '여대', '시트콤', '백작', '직장', '코미디', '시리즈', '환자', '작정', '노래', '독자', '수사', '잔혹', '선생', '일기', '수업', '운동', '눈물', '토끼', '여주인공', '쌍둥이', '하남', '거부', '후계자', '파', '선우', '곰', '등대', '전투', '카페', '수저', '대학교', '새봄', '명령', '루키', '복제', '집착', '백수', '아저씨', '특수', '후회', '청년', '공격', '국민', '여배우', '선녀', '남자들', '수상', '대륙', '별', '일행', '가출', '여우', '승리', '스키', '가의', '과학', '조건', '지원', '층', '교실', '반지', '멤버', '군대', '글로벌', '교육', '지망', '은주', '대형', '무시', '조석', '감자', '고교', '수호', '반란', '문명', '의심', '신분', '폭', '트리', '회차', '다짐', '션', '당선작', '핸드폰', '재림', '러브', '사연', '레', '직원', '아르바이트', '허락', '아래', '신화', '공유', '기자', '금지', '진학', '방해', '영희', '어둠', '불허', '여왕', '짝', '물건', '차지', '강림', '사망', '아내', '치료', '천마', '신입생', '무명', '자체', '손님', '알', '혜성', '맘', '결과', '린', '관련', '개미', '개념', '자취', '홀', '의미', '첫날', '커피', '상사', '현장', '척', '헬스', '조', '대결', '개월', '프랑스', '동경', '악몽', '정통', '졸업', '교생', '한순간', '기적', '삼촌', '길거리', '파견', '아무것', '적응', '영상', '하루아침', '강남', '채팅', '년대', '염', '증오', '강현', '은하', '디자이너', '엘리트', '흙', '복학', '민우', '마루', '검사', '첫눈', '피아노', '바보', '수련', '변화', '퇴치', '변신', '대장', '도윤', '훈', '미술', '여신', '유진', '진', '진심', '격투기', '스마트폰', '전남', '세자', '환', '양아치', '연희', '데뷔', '나이', '미스', '결말', '공략', '환상', '죄', '소진', '사자', '분위기', '거짓말', '비리', '불운', '은지', '박하', '제자', '무기', '세포', '메이크업', '여성', '달리기', '하윤', '너머', '짐승', '태현', '하렘', '해진', '아가씨', '몸부림', '오컬트', '생일', '경쟁', '잠입', '범죄', '벤', '가은', '윈도', '쿠', '외모지상주의', '존망', '참여', '파멸', '악당', '사진', '어벤저스', '얼', '막', '잡기', '교수', '프로', '치명', '하제', '아기', '계급', '재', '추', '암흑', '신수', '사생아', '왕녀', '낮', '눈빛', '기분', '최근', '황자', '강제', '직진', '지하철', '자살', '죽지', '권력', '소식', '패배', '년차', '입', '향기', '일주일', '겁', '소재', '재앙', '결의', '활약', '남지', '평소', '실력', '아이템', '대체', '사악', '변호사', '가정', '선물', '스마트', '자식', '불의', '반려', '공감', '몽', '약혼자', '동맹', '스트레스', '마계', '애인', '톱스타', '이동', '모범생', '화제', '나비', '또라이', '새', '넌', '난생처음', '은혜', '선언', '얘기', '김선권', '내용', '육아', '배틀', '예술', '플레이', '한계', '안고', '데뷔작', '차기', '계략', '어느날 갑자기', '피폐', '이모', '폭군', '무대', '교통사고', '현우', '출신', '동', '양', '발전', '웃음', '축복', '벨', '로맨틱', '예능', '혼', '직업', '과정', '자라', '혼인', '의지', '영지', '밀', '통', '고시원', '전사', '찰나', '건물', '자랑', '대화', '수험', '싱글', '국가', '변', '인형', '아파트', '난이도', '약점', '기념', '문자', '여학생', '파괴', '원수', '통제', '취미', '초원', '활동', '타락', '현태', '명문', '보호', '은퇴', '스승', '내공', '버라이어티', '중국', '장르', '공개', '자전', '제거', '종교', '트럭', '광', '간의', '벌', '소이', '컷', '추적', '외면', '아에게', '감상', '에르', '편의점', '방출', '봄', '현재', '뜻밖', '주의', '인간관계', '제가', '익명', '짓', '마성', '약초', '화가', '온', '선비', '유일', '빵', '연구', '부작', '지혁', '꼬마', '푸른', '봄이', '정반대', '영물', '타워', '혀', '운영', '신관', '선희', '뉴', '오징어', '미애', '나디아', '신녀', '수차', '선도', '산골', '윤서', '만나', '사용', '입사', '두뇌', '해제', '판', '용왕', '펜', '서울문화사', '다운', '실제', '랑', '오딘', '여행기', '초월', '명예', '신세', '제압', '주먹', '괴수', '영역', '역사', '나노', '몰락', '음식', '합격', '연결', '이상형', '청산', '기반', '장남', '하진', '처단', '이나', '태평', '메인', '텔', '철수', '초능력자', '허무', '동기', '무직', '너에게', '남동생', '아스', '릴레이', '소망', '욕', '기지', '라면', '주말', '고운', '군인', '방문', '번호', '로망', '시루', '기백', '러브 스토리', '선고', '수행', '내면', '전역', '석', '오랫동안', '성숙', '가짜', '다음날', '완결', '범죄자', '맞선', '감시', '부상', '와중', '경계', '개인', '연쇄살인', '훈련', '도희', '단서', '킹', '지우', '이안', '유산', '시점', '사이다', '탓', '머릿속', '방구석', '걱정', '부른다', '스물', '첩자', '록', '어르신', '사태', '가요', '화백', '한국만화영상진흥원', '수학', '대전', '열', '기생', '가야', '라인', '프로그램', '절정', '가운데', '외톨이', '정부', '구조', '탕', '외상', '음악', '기준', '전락', '시니', '겨울', '요한', '똥', '궁', '민이', '모아', '형제', '삼각관계', '장난', '불만', '격투', '인지', '감독', '아가', '서리', '학교 폭력', '가상현실', '설상가상', '흑', '유은', '부장', '상속', '사이코패스', '기대', '기관', '레나', '요즘', '연예인', '멀티', '플롯', '황궁', '불가', '제이', '나무', '열정', '원장', '세월', '의원', '거래', '제공', '개발', '약', '대표작', '소란', '친절', '한가운데', '라라', '침략', '악명', '현은', '해고', '룸메이트', '동창', '효', '레이어', '탄생', '찬', '고객', '할아버지', '수습', '기술', '서열', '누명', '검찰', '모종', '연주', '오리지널', '아르', '유리', '불안', '착각', '취직', '섹터', '괴담', '비밀리에', '배달', '지구인', '정글', '신혼', '신입', '명성', '여치', '은둔', '세대', '무인도', '아영', '폭발', '냥', '팀장', '아연', '실화', '새내기', '아웃', '인상', '스토커', '원룸', '악귀', '쟁취', '그녀', '옷', '밥', '더', '능력자들', '순수', '전개', '정우', '천국', '계정', '혼돈', '승', '인정', '여황제', '목적', '띠', '마술사', '소환', '아카데미', '자락', '이중', '질주', '방황', '벽화', '난무', '스파이', '등급', '이식', '유하', '데이트', '전직', '사가', '보통', '릭', '왕비', '교사', '여운', '그날 이후', '사이비', '하리', '이든', '선별', '구역', '골', '백영', '투', '유기', '눈치', '종', '오디션', '재력', '버전', '가람', '바덴', '터', '스캔들', '재단', '인조', '환장', '한별', '스트리밍', '성인', '글', '고립', '천하', '균형', '불사', '고난', '승부', '로봇', '서우', '유망주', '디자인', '서류', '폭풍', '해원', '육식', '유정', '필사', '진단', '라리', '약육강식', '비운', '시기', '팬시', '답', '후배', '행운', '불법', '후보', '의뢰', '정략 결혼', '손녀', '엉망진창', '화산', '휘', '막장', '낚시', '온라인', '진혁', '차려', '수능', '새끼', '초보', '세인', '클래스', '위해', '왕가', '뜻', '나가', '인테리어', '요정', '반딧불', '숙적', '망자', '무사', '악령', '마법소녀', '치', '대회', '색', '하지', '장려상', '소신', '천기', '제페토', '서시', '정식', '시아', '내일', '마코토', '축하', '보나파르트', '입대', '매직', '팽', '철벽', '셰프', '엘라', '화재', '특별', '외전', '신입사원', '휴식', '중학교', '경화', '폭탄', '고아', '샹치', '만인', '서주', '데스', '사이코', '저녁', '교주', '영주', '승기', '채널', '립스틱', '청아', '리지', '인광', '학', '산신', '전파', '해킹', '자칭', '유리아', '인공지능', '가상', '엘', '라이벌', '일제', '독학', '컴백', '지하', '직면', '처리', '확장', '본능', '전략', '자퇴', '생계', '장기', '남장', '궁금증', '정상', '대부분', '입장', '연기력', '뱀', '출산', '전화', '유빈', '매료', '인가', '정석', '재경', '승조', '기간', '문조', '도련님', '해달', '예서', '히트', '판타지 소설', '이계', '건강', '역전', '용기', '황미나', '트리오', '스무살', '한여름', '올해', '지아', '주목', '성은', '안녕', '남사', '성사', '겉', '역', '며칠', '재산', '최광식', '경민', '성품', '학창', '조종', '완벽주의', '사수', '고독', '독차지', '바른', '진행', '충족', '드미트리', '어린아이', '다리', '감옥', '잭', '증', '원인', '하와', '원망', '하나로', '벼랑', '향수', '으', '사정', '결혼식', '예비', '상해', '공상', '소개', '지오', '영웅들', '모집', '삼국지', '투자', '함정', '희대', '김신', '피해자', '집행', '상민', '어드벤처', '전력', '유괴', '밀실', '추리', '마니아', '미모', '태도', '팩트', '공생', '자로', '환영', '전문', '파티', '종족', '영원', '수완', '놀이공원', '아줌마', '기한', '한번쯤', '능력자', '아니야', '마스크', '서사시', '황위', '스펙', '세라', '사교계', '촬영', '북부', '들로', '사극', '질', '질풍기획', '장가', '연애담', '도중', '리얼리티', '분양', '기숙사', '소방관', '패', '유머', '센스', '향', '술자리', '전과', '요구', '갑', '남극', '펭귄', '낭만', '서연', '위로', '준호', '연쇄', '제작', '신고', '등교', '버스', '시비', '전체', '결성', '결정', '하일권', '최종', '정사', '무상', '용호', '무관', '와도', '장군', '정치', '승자', '이랑', '포악', '겸', '지수', '먹방', '효율', '단절', '성준', '레이디', '야근', '콤플렉스', '객관', '서점', '탈', '의도', '자취방', '강아지', '태자', '암투', '로즈', '광기', '성경', '중고', '침공', '연맹', '입양', '역경', '헤어', '자전거', '떡', '시장', '진진', '돌이', '부천', '이로', '재미', '휴먼', '셰어하우스', '입성', '오랜만', '납치범', '행세', '물귀신', '오프', '대항', '보유', '고용', '진도', '아를', '규', '연습', '고리', '큐피드', '폰', '주영', '만원', '폐인', '무술', '공인', '산호', '둥', '나쁜 남자', '버', '몸속', '공식', '학기', '선호', '택배', '심부름', '개성', '공포증', '도가', '배려', '제로', '습관', '특공대', '믿음', '로그', '칩', '해커', '화이트', '성체', '종말', '온라인 게임', '완료', '진출작', '산다', '장의사', '품', '이승', '피아니스트', '냐', '날개', '엑스', '칼리', '우유', '마술', '설정', '연락', '우여곡절', '하드코어', '전래', '거미', '스파이더맨', '최정', '헐크', '밑바닥', '실험', '한복판', '객', '인어', '슈퍼스타', '태희', '삼각', '상남자', '메리', '부산', '소름', '코드', '방향', '청소년', '그림자', '농구', '벽', '시스템', '외', '송두리', '야식', '초등학생', '절벽', '봉인', '언', '테러', '과학자', '부족', '소개팅', '호러', '수영', '후유증', '용병', '완성', '숙소', '간택', '해수', '한가지', '루시퍼', '장의', '규모', '강희', '석이', '오픈', '사업', '정화', '유체', '이탈', '놓지마 정신줄', '한길', '교내', '관장', '율리', '지도자', '특급', '확인', '오오', '불량', '트러블', '대위', '카리스마', '남주인공', '멘탈', '사생활', '불청객', '대만', '한국어', '동갑내기', '디', '독버섯', '대건', '자비', '인과', '제임스', '악인', '패스', '옛날', '커버', '멸시', '동이', '환경', '타임', '컴퍼니', '살인범', '불멸', '참가', '대립', '유민', '초년', '석호', '시가', '한판', '부패', '가수', '지도', '성실', '깡패', '쯤', '안티', '한강', '업', '설립', '개입', '글씨', '태사', '평민', '하의', '계', '사립', '보이', '정해진', '귀환', '늑대', '고의', '반대', '악연', '새벽', '혐오', '저택', '달성', '수수께끼', '현세', '행방', '백지', '떼', '변이', '감염자', '응원', '모란', '내', '도박', '실전', '불로', '통보', '딸기', '랜드', '국회의원', '제주도', '발버둥', '최선', '활극', '엘레나', '구석', '고전', '수지', '위험천만', '봉', '급식', '민호', '동물원', '봉우리', '뮤즈', '당', '신랑', '유신', '마음의 소리', '아티스트', '질투', '유령', '야수', '배우자', '영기', '샤인', '빌라', '육성', '엽', '상단', '꼰대', '정점', '순정만화', '가해자', '영하', '반장', '챔피언', '지의', '기운', '군림', '만끽', '거미줄', '맨', '까', '도우미', '증명', '소인배', '하은설', '캐스팅', '슈퍼히어로', '하연', '울', '집사', '회복', '꿈속', '데이', '소유주', '집중', '레이더', '재현', '절체절명', '에이스', '해골', '촌', '유현', '수진', '희영', '학대', '자매', '천수', '범벅', '이웃집', '궤짝', '싱크', '고은', '전용', '불꽃', '명화', '업자', '랭커', '배태', '유서진', '자객', '유미', '우당', '주현', '이재', '직녀', '온달', '조이', '위치', '허유', '앙드레', '마피아', '마법사들', '사현', '책임', '레오', '화분', '타르', '좌절', '손빈', '삼국', '인터넷 방송', '승재', '버튼', '이현', '은인', '쉴리', '최훈', '이블', '오필리아', '족', '참가자', '혜진', '대성그룹', '의식', '전문가', '경호', '보물', '소라', '생일날', '성훈', '태인', '이단', '외삼촌', '수의', '후손', '대한', '혈청', '실현', '이한영', '세레', '맥', '태성', '김철', '김지용', '층운', '가빈', '주연', '삼대', '모녀', '구천', '떼돈', '단군', '서버', '자유자재', '오타쿠', '코퍼레이션', '가격', '조작', '박성현', '느와르', '산산조각', '운동화', '강점기', '핫', '품격', '정복', '스티', '요청', '실체', '이기', '열쇠', '선정', '버티고', '경자', '안락', '전전', '누리', '댁', '사모님', '용이', '추가', '오른손', '출현', '초인', '일격', '설화', '실존', '생명체', '경계선', '순덕', '연예', '경호원', '연관', '레벨', '상위', '소금', '모네', '남녀노소', '곽', '소유자', '피치', '영광', '시간 여행', '복반', '비참', '비극', '예기', '로열', '패밀리', '정실', '나린', '혁명', '수술', '한국인', '메가', '퇴사', '공녀', '훗날', '근처', '장사', '지진', '대선', '여동생', '사람의 마음', '건조', '홧김', '동급생', '남모', '장담', '성의', '인사', '호감', '술김', '남작', '우연이', '주식', '권유', '식인', '잇', '불편', '학력', '우등', '하린', '서스펜스', '순응', '황초', '서클', '사단', '단장', '샌프란시스코', '패션', '묵', '회', '신생', '소소한 이야기', '욕구', '참전', '최상', '위급', '서비스', '폭행', '다이어리', '실천', '찬양', '얼간이', '세간', '로만', '태수', '키드갱', '은총', '청', '러시아', '자작나무', '간지', '황혼', '흥미', '장례', '잠재', '북', '학생증', '위장', '강령술', '하우스', '고려', '신의 아들', '국가대표', '난세', '메신저', '소통', '군사', '암호화폐', '현금', '병기', '승화', '베트남', '강철', '토대', '처치', '부대', '지원자', '아티', '문턱', '주사', '박열', '터널', '내부', '공간', '일족', '맥시멀', '미니', '즘', '무주', '이대로', '불면증', '블로거', '맛집', '요절', '복통', '도인', '곳곳', '참새', '견', '디지털', '네이트', '초상', '감동', '올리비아', '빈민가', '카스', '군단장', '잠수', '오피스', '기호', '셀리', '마수', '제시', '아동', '심리', '가가', '출연', '보배', '긴박', '로이', '긴장', '우주인', '중증', '외과', '강혁', '파리', '충동', '지안', '상구', '슈가', '레드', '밴드', '수록', '심청', '귀차니즘', '단정', '소명', '쿠쿠', '교수인형', '우월한하루', '노트', '건달', '어젯밤', '일반', '규칙', '중계', '중학생', '이대', '죽음에 관하여', '수명', '찌', '수컷', '듯이', '강태오', '한방', '나락', '이왕', '강수', '오의', '처지', '가을', '결핍', '소동', '흉터', '민재', '표', '제야', '야야', '불공평', '김창남', '삼봉이발소', '표적', '가치', '이전', '연합군', '전리품', '연합', '재희', '청각', '장애인', '잎', '냉혈', '북방', '고해', '손주', '도준', '벌집', '이복', '돈가스', '공시', '증기', '산업', '소수', '대중', '당일', '추모', '카툰', '복서', '꿀', '실질', '무적핑크', '싹', '복기', '폐지', '페이지', '이준', '한동안', '도피', '토니', '김규삼', '아사', '정진', '단짝', '사랑해', '림', '장인', '바이올린', '현직', '마켓', '모면', '프리스타일', '홍대', '당첨', '역할', '월드컵', '리그', '탐구', '유찬', '수첩', '사채', '사치', '광고', '홍보', '귀재', '노화', '크리스마스', '녹', '스카', '피지컬', '탐욕', '솔', '금사', '빠이', '현호', '불륜', '속수무책', '이솝', '스타일', '감소', '채용', '비비안', '해도', '고삼이 집나갔다', '미티', '치킨', '사랑과 우정', '수상한 가족', '하임', '근', '수사관', '싸가지', '직속', '원수지간', '브릭', '예은', '외동딸', '운전사', '경미', '작전', '래', '역대', '성화', '카시아', '블랙홀', '노스', '구세주', '어간', '자타', '호구', '이시우', '계약자', '샤론', '민지', '장소', '안심', '지구상', '흥신소', '탐', '장정', '부원', '교환', '랭킹', '종료', '입부', '수학여행', '표류', '대박', '꽃길', '공대', '침대', '부정', '폭주', '이란', '기구', '학과', '이유리', '시도', '유타', '지배자', '서면', '차유진', '도둑들', '장과', '메모', '그릇', '금화', '비관', '티아', '이국', '특이점', '지루함', '가입', '반쪽', '블록버스터', '원흉', '부여', '사빠', '태의', '수증기', '방식', '이말년', '유림', '순애', '최우', '우진', '도사', '피터', '조사', '평행', '유품', '단원', '닐', '패트릭', '민희', '실시간', '무력', '이색', '대폭발', '소용돌이', '뮤지', '무한', '태창', '황실', '도도', '전말', '동갑', '발목', '살다가', '뒷바라지', '뒷산', '일기장', '라피스', '상대로', '마디', '공신', '적국', '극한', '학업', '나래', '이면', '유일무이', '이무기', '법칙', '정연', '그놈', '풍경', '시에라', '클로드', '강건', '래퍼', '사나이', '참고', '고졸', '검정고시', '일수', '상금', '냄새', '물범', '썸남', '힐러', '청소부', '청소', '영국', '라이', '리사', '복귀', '미혼', '추구', '부분', '신암행어사', '워커', '부하', '일생', '판정', '금붕어', '신참', '제한', '추락', '이진', '아진', '연옥', '일보', '취재', '룸', '벗', '변수', '김현우', '순식간', '하주', '포신', '강호', '평정', '완전', '나무꾼', '속마음', '최강희', '말투', '손자', '작화', '미련', '이사벨라', '라이언', '즐거움', '앞으로', '타투', '가게', '한천', '정주리', '예방', '방망이', '야인', '회원', '공고', '일꾼', '무', '퇴짜', '설단', '격', '안개', '닭', '일상날개짓', '해외', '전쟁터', '체험', '폐하', '무릎', '관', '선의', '싱어송라이터', '관심사', '채의', '흡혈귀', '가에', '왕실', '나이스', '소속', '해나', '분리수거', '소', '해체', '한눈', '그동안', '청명', '소한', '악질', '거짓', '악취', '선화', '정향', '신묘', '굴레', '현대판', '분출', '과외', '낮과 밤', '중인', '인성', '파탄', '소시', '반하', '너와 나', '일본인', '태양', '필', '우현', '곤충', '지구의', '거대', '백도', '사상', '우월', '애증', '고구려', '구아바', '백화점', '어제', '후지', '경제', '비명', '보트', '자유분방', '아이콘', '축제', '소설가', '광진', '축구부', '도형', '부의', '킥', '옆방', '일념', '포착', '마야고', '매미', '경영', '스타트', '금왕', '상속자', '한무', '계약서', '리더', '찬열', '철부지', '혼인식', '스킨', '유라', '특성', '맹수', '문제아', '원한', '일편단심화', '차례', '살인자', '신도시', '압박', '직선', '선거', '스페이스', '입학식', '제약', '이강', '약혼', '하야', '하이', '난', '마약', '콤비', '천하제일', '무력감', '다국적', '문어', '한과', '용서', '제물', '체질', '백조', '제하', '입술', '정리', '우울', '라이트', '안내', '전격', '도토리', '라테', '설계', '건설', '학군', '테라', '서울로', '접촉', '한서고등학교', '연못', '소행', '편지', '상경', '연상', '연루', '조각', '하데스', '종합격투기', '라스트', '번개', '기동대', '고유', '사형수', '보호자', '부잣집', '독립', '장면', '매혹', '놀라', '정혼', '시집', '이방인', '도망자', '구멍', '해녀', '왕이', '지역', '굴', '성현', '일본', '프로레슬러', '경기', '오름', '상담소', '충성', '강시', '예술고등학교', '마무리', '주사위', '다이스', '철', '개척', '줄기', '권능', '추격', '귀갓길', '분', '소울', '방학', '유일신', '자와', '점심시간', '러너', '하면', '자아', '은덕', '부서', '주기', '숙', '사육사', '육감', '대리', '각오', '상식', '사배', '좌천', '재기', '마련', '주호민', '파트너', '기계', '선유', '역병', '도덕', '왕족', '칼라', '브리', '보가트', '기상천외', '투견', '우기', '송', '우유부단', '언노운', '목걸이', '호기심', '크림슨', '하트', '미아', '붕괴', '이한', '무심', '자민', '영매', '은비', '계단', '호위', '먼치킨', '빛나', '보상', '코앞', '고서', '수련법', '자본', '꼬리', '꼴통', '일명', '빠', '담당자', '시언', '바깥', '근식', '특선', '시중', '니다', '부업', '아이러니', '거장', '사진작가', '백선', '수석', '업계', '인턴', '우영', '진상', '한류', '암', '간호사', '신의', '톱', '바닥', '떠돌이', '예보', '기상', '호신', '디펜스', '배트맨', '정파', '후안', '용모', '안간힘', '쓰기', '신의 선물', '자폐증', '건의', '달빛', '유언', '신념', '현성', '아이와', '길고양이', '한탄', '대머리', '시민', '박사', '끝판', '소음', '닉', '추방', '존경', '빗', '시연', '본국', '권력자', '사키', '고금', '방패', '귀속', '세니', '항', '서랍', '신검', '핏빛', '행진', '공작대', '공작원', '입시', '오신', '재판', '호진', '양이', '흉가', '눈썹', '르와', '고급', '리즈', '서슬', '호로', '하북', '낙', '옥타곤', '암살', '무진', '유행', '약자', '오라버니', '무병장수', '참사', '샤워', '예고', '코로나', '종식', '해일', '사서', '방울', '내향', '정아', '후기', '한섬', '탈출기', '평탄', '수감자', '런던', '복도', '본성', '인종', '포함', '리피터', '제나', '조신', '리리안', '자판기', '골목길', '진국', '야구', '손가락', '지목', '겉모습', '양수', '류희', '일당', '잡이', '준서', '정준', '트럼프', '영향', '침실', '지은', '반면', '책봉', '덫', '위안', '자각몽', '통째', '소현', '마감', '음', '테스트', '전담', '붓', '고요', '의사소통', '검술', '삼부카', '포토', '기본', '사명', '승승장구', '서헌', '출발', '고구마', '트롤', '폐쇄', '구원자', '앞날', '두그', '침범', '사심', '서유', '항의', '화', '지면', '전무', '개편', '산속', '백성', '돌변', '연구실', '산송장', '스카웃', '한쪽', '이삭', '다우', '카신', '다란', '선인', '기사단', '생방송', '여고', '종이', '위장 결혼', '보금자리', '왕진', '머니', '중생', '토토', '보스', '바포메트', '사이드킥', '미소녀', '아래층', '투표', '혈안', '누적', '세경', '앙숙', '자제', '여자도', '엘리', '방치', '임나영', '사와', '제라', '문희', '졸지', '국의', '튜브', '명지', '명줄', '샌님', '클론', '빅터', '주은', '국정원', '성전', '바티칸', '구마', '카이', '고스트', '대학원', '요다', '임신', '아우라', '전수', '폭로', '오란씨', '빵점', '뉴스', '인터넷', '은영', '전국', '주지', '투입', '출연료', '유교', '신공', '정지훈', '한때', '밀접', '카루나', '영민', '여름날', '해피엔딩', '굴지', '상무', '태호', '이화', '마나라', '김범', '실버', '쥬', '지시', '청첩장', '이듬', '마마', '동궁', '고라니', '야생', '김유리', '정호', '잡지', '승천', '허니문', '아리아드네', '게임 개발', '상관', '겉보기', '안나', '아니스', '자청', '호텔', '욕실', '유준', '화영', '긴장감', '아리엘', '억겁', '사이버', '현월', '검무', '특종', '스테파니', '나리', '집주인', '전세금', '강박증', '은수', '볼모', '기현', '진정', '수족관', '시력', '정안', '이재인', '미녀', '유부', '신나', '바위', '프리', '힐라', '리아', '필리아', '이온', '전두엽', '안드로이드', '제타', '후람', '다원', '아서', '조류인간', '주경', '토막', '아일랜드', '강우', '무게', '죄와 벌', '의인', '뒷모습', '염원', '세레나', '방실이', '황천', '번데기', '구단', '민트', '쌉니다 천리마마트', '엽은', '영아', '성균관', '아르카디아', '잡음', '리나', '지혜', '주주', '가비', '해루', '머리카락', '사막', '세리', '대동', '윤주', '서하', '천상', '고장', '펜싱', '태웅', '유부녀', '박주연', '컴퓨터', '필터', '학점', '소개소', '무아', '밀교', '융', '외할머니', '소무', '점철', '냉소주의', '단기', '빠꾸', '파쿠', '드림', '활용', '망가', '화폐', '정주', '헤스티아', '직관', '거란', '하인', '드가', '루스', '에소', '직후', '시드', '열렙전사', '정략', '용궁', '김용만', '심해', '향상', '김용', '비경', '여름휴가', '카메라', '뜬소문', '합의', '가랑비', '박태준', '홍어', '레인저', '어쩌라고', '남해', '앨범', '새 시대', '소집', '응답', '닥터 스트레인지', '캡틴 마블', '선사 시대', '블레이드', '필 콜슨', '재료', '보장', '번복', '연애의 정령', '호드', '육경', '학벌', '빽', '실내', '사무직', '면접자', '오토바이', '입원', '염려', '전공', '재직', '면', '또래', '백방', '경이', '골프', '핸디캡', '근원', '도래', '마찬가지', '옥상', '보건', '반격', '코치', '꺼풀', '그간', '흉폭', '변이체', '관점', '하급', '파파라치', '치병', '크기', '인체', '탐험', '메소드 연기', '방영', '봉수', '구독', '니지', '컨셉', '인물상', '인과응보', '클럽', '지배인', '승낙', '요가', '성가', '엉덩이', '나다 구', '까까', '태양신', '이승조', '동주', '진희', '고정', '폐', '왕조', '공화정', '선포', '루미', '성형외과', '현신', '마력', '리크', '크리스', '초장', '루트', '복권', '투척', '유물', '의양', '고산', '흑룡', '대정', '신서', '적룡', '한대', '오하루', '고부', '월드', '프리랜서', '눈칫밥', '명절', '민철', '가나', '열등감', '요란', '생매장', '과부', '리에', '요부', '출동', '친일', '징크스', '허용', '볕', '풍파', '페넬로페', '염병', '순정파', '바트', '환수', '폐교', '동행', '영재', '전기', '비굴', '절연', '사칭', '왕게임', '제피르', '구경거리', '태권도장', '각양각색', '경험치', '김진현', '일리', '한나', '찻집', '다실', '퇴역', '도마', '상담', '전화번호', '명함', '한장', '상담원', '마도', '뒤처리', '강도', '백중', '차남', '평판', '압도', '뭍', '거울', '수감', '강정', '차량', '전복', '기억상실', '소외', '국경', '연해주', '이주한', '조선인', '아비', '껍질', '비료', '옥이', '피바다', '화풀이', '조청', '뒤죽박죽', '친척', '수하', '보험금', '부조금', '여유도', '여력', '눈동자', '목줄', '낙인', '인격', '미필적 고의', '이용한', '조향사', '이병의', '빤스', '강윤', '윤지민', '부적', '속옷', '음란', '귀농', '이씨', '용처', '제목', '이브', '중단', '갱생', '의료', '탈옥', '멸종', '선발전', '투명인간', '유비', '조조', '손권', '후한', '권한', '금색', '캐리어', '교도소', '우리나라', '맹물', '통쾌', '가방', '두 여자', '악의', '로얄', '퀴즈', '연발', '급박', '언데드', '청도', '미드', '학살', '패션모델', '생기', '라피', '공가', '가망', '서진', '청소기', '탐험가', '메멘토', '엠티', '부침개', '별명', '오명', '괴짜', '응급실', '어린이', '뒷골목', '노숙자', '불사의', '주장', '아이크', '해리스', '드루', '이그', '투쟁', '멀리', '이것저것', '포화', '멀', '화목', '보고 싶다', '티켓', '돌발', '지하철역', '마라', '해결사', '메트로', '초딩', '남기한 엘리트 만들기', '단전', '소우', '검선', '여우구슬', '장수', '샘', '하비상', '도서', '노미', '론', '결별', '쿠데타', '계승자', '신임', '인재', '이직', '뒤통수', '일생일대', '봉착', '조항리', '시온', '입수', '제작사', '캐슬', '소프트', '존폐', '갓', '명의', '도령', '비트', '순경', '스펙터클', '리턴', '처자', '한솔', '데드리프트', '단백질', '함량', '유년', '아름다운 그녀', '무언', '오한', '연일', '종영', '선장', '선원', '모모', '재혼', '촌각', '만세', '지화자', '단어', '사명감', '난폭', '시어머니', '시댁', '패션지', '에디터', '양다리', '편집장', '너 때문에', '텃밭', '잡초', '건강염려증', '고영희', '풍요', '인당수', '품행', '모범', '강물', '의혹', '김로', '너드', '난입', '아프리카', '비치', '여유', '하드', '시니컬', '예지', '이아름', '트렌드', '기숙', '원서', '헨리', '모리스', '와이번', '자세', '근대', '열기', '진성', '입학시험', '입구', '언덕길', '어깨', '이고', '워킹', '지로', '흥분', '비보이', '맨몸', '지니', '축구장', '변기', '자미', '주저', '욕심', '증거', '정의감', '반 짱', '광의', '이곳저곳', '가인', '불시', '간극', '초자연적 현상', '부산행', '상호', '송곳', '최규석', '중매', '남양주', '제패', '표범', '천상천', '유아독존', '친 한', '치유', '목욕의 신', '단합', '바퀴', '다임', '조력자', '포섭', '전략 게임', '구분', '가혼', '본질', '교복', '모델', '핍박', '중앙', '윤환', '압록강', '이북', '여진족', '가차', '차만', '다비', '고해성사', '수고', '머슴', '실장', '혜리', '추남', '타입', '앵', '고혜', '군침', '발명', '급진', '에너지원', '중원', '기득', '원리', '보급', '양부', '김철수', '급상승', '주행', '김현아', '애도', '야후', '파란', '트레이너', '숙청', '칼라일', '인도', '취임식', '농사', '농부', '퇴근길', '지기', '랜덤', '정모', '두통', '이채', '물어', '달라', '전염병', '유폐', '무량', '분열', '자멸', '동양', '레인보우', '슬기', '라온', '울림', '인고', '전문의', '의학', '하이퍼', '리얼리즘', '메디컬', '내과', '장만', '구매자', '작은 별', '구출', '함장', '외계', '목적지', '뭐', '물이', '각본', '유럽', '자율', '남아공', '교육열', '플랜', '고준형', '구매', '폭등', '방지', '하르모니아', '영생', '정운경', '진진돌이 에볼루션', '강변', '대타', '연락처', '휴학', '대장장이', '인신매매', '부흥', '후작', '반 다이크', '외양', '냉정', '공세', '하기', '로한', '이도현', '엄친', '속성', '효녀', '네이션', '물음', '부당', '신아', '수영장', '호선', '스무 살의 봄', '인근', '몸값', '오바람', '훼방', '라일락', '도비', '분투', '우화', '세계 대전', '생화학', '변종', '하위', '호환', '구하라', '약사', '새싹', '약국', '국장', '부합', '낙하산', '개똥', '큰일', '제정신', '막장 드라마', '장래희망', '김인', '제기차기', '김민석', '겨루기', '연장', '중급', '상급', '계세', '스릴', '뽀뽀', '강요', '사랑만들기', '오파츠', '소유', '혜경', '냉전', '미친개', '도자기', '전전긍긍', '보험', '출시', '단돈', '상품', '유효', '외국인', '못', '집념', '남다름', '청룡', '주작', '백호', '현무', '사신', '증표', '팩션', '다큐멘터리', '청정', '손해', '신기술', '이동건', '달콤한 인생', '모음집', '담임교사', '공벌레', '해치', '차별', '언론', '수준', '리퍼', '증언', '가미', '마로', '목이', '안경', '스핀', '목격자', '안드로메다', '득실', '야성', '근황', '만점', '마네킹', '경태', '변태', '하든', '조지', '경비원', '지위', '먹칠', '웬디', '소심', '쑈', '금보', '도보', '하이킹', '김태경', '김승민', '직행', '탈퇴', '인원', '진화', '완', '포', '구석기', '락', '허송세월', '석기', '프로게이머', '설레임', '불신', '구독자', '일과 사랑', '서민', '리치', '통수', '식스 센스', '승부사', '환각', '우울증', '지성', '우주의 종말', '빅뱅', '관리국', '붉은 실', '금속', '공예', '권유리', '동명', '이인', '형체', '성미', '행위', '흑곰', '혼수상태', '혼령', '밀어', '공연', '카피', '망신', '미치광이', '미대', '식칼', '약탈', '신지훈', '오만', '지폐', '진주 귀걸이', '이시윤', '외국어', '갑부', '성별', '대수', '못된 사랑', '주홍글씨', '환영회', '종합', '게임동아', '승부욕', '바리스타', '계룡산', '서방', '명문대', '서치', '블러드', '피스트', '파루', '어중간', '망명', '런 현', '윤지희', '확정', '현시', '의욕', '쓰레기 매립지', '빛깔', '팔다리', '속눈썹', '승주', '편집자', '의연', '낯', '이스트', '도널드', '유배', '이도우', '두지', '확립', '샤니', '보디가드', '송해나', '엉망', '반달', '전우치', '장손', '어메이징', '파커', '재탄생', '불기둥', '투병', '이강준', '장례식', '날짜', '참수', '자유인', '전날', '남산타워', '은희', '미키', '로드무비', '속도', '스페인', '천년의 신화', '간직', '산티아고', '들판', '브루스', '너는', '녹색', '감마', '잔인무도', '선행', '류진', '아미', '오늘날', '증강', '왜곡', '약물', '총구', '회색빛', '김원준', '상상력', '스페이스 오페라', '로우', '부계', '협잡', '사슴', '냇가', '왕도', '도로', '상궁', '학내', '청순', '개판', '칭호', '양육자', '주자', '그 여자', '하숙집', '올여름', '적도', '아군', '우주력', '이동하', '성기사', '카라', '신속', '균열', '살해범', '인터뷰', '감명', '봄바람', '벚꽃', '성질', '개조', '어사', '시호', '재주', '수장', '담', '사샤', '일등', '장교', '발각', '워킹맘', '심성', '소우주', '완주', '리셋', '늦깎이', '매진', '이원', '백정', '삼복', '연산', '본격', '캐디', '두 번째 사랑', '라미', '버추얼', '힙합', '통합', '랩', '배달원', '김구', '주소', '추정', '적용', '물가', '철구', '어른스러운 철구', '오성', '미각', '식당', '북극', '모자', '분별', '이슬', '블록', '슛', '방송국', '애가', '출연자', '점핑', '오버', '조니', '온천', '랭크', '김준', '극한 직업', '영상출판미디어', '메브', '카운트', '문화 대혁명', '개국', '흠모', '리트', '유도', '이의', '고증', '출처', '거금', '푼', '지름신', '화신', '요', '탕진', '투명', '정서', '가사', '갈망', '고뇌', '여명', '파도', '득', '덕분', '타겟', '외줄', '타기', '전입', '피신', '습득', '변덕', '어불성설', '모음', '비행기', '시나리오', '경신', '미건', '제보', '메일', '감행', '지금 우리 학교는', '주동근', '몸무게', '체중', '감량', '불어', '소매치기', '김남주', '괴한', '메', '발길', '변장', '주의보', '루프', '세상 밖으로', '평온', '창조자', '지적', '신해수', '독사', '신변', '지경', '모제', '귓가', '기묘한 이야기', '구슬', '쟁탈전', '마르', '윤하', '가드', '트라이브', '장광', '판타지 만화', '막내딸', '사이즈', '마음씨', '유골', '핵', '권법', '가자', '공백', '하모니', '비행', '월세', '쓰레기장', '전과자', '꼴', '정인지', '궁리', '분식집', '나름', '심부름센터', '돈 한', '오른팔', '후추', '가치관', '낯선 사람', '나위', '퓨처', '준재', '견문록', '야자', '한마을', '반지의 제왕', '톨', '뒷전', '다래', '뒷담', '안식처', '산악인', '에베레스트', '모토', '대도서관', '노예', '동쪽', '여행길', '펀치', '갸', '단아', '냉담', '특전사', '이윤아', '뼛속', '파병', '포탄', '한숨', '소감', '제외', '안중', '쥐뿔', '탈탈', '무장', '이은', '노골적', '서재', '양녀', '그전', '로티', '청춘만화', '아라', '아라와', '엔터테인먼트', '외가', '외조부', '슈베린', '탕아', '수락', '핵심', '격파', '블루', '블랙', '전진', '여원', '유튜브', '왕의 서', '유월', '총살', '꺼벙이', '순', '여사', '재동', '명랑만화', '효시', '길창덕', '불만족', '염세', '맞춤법', '회식', '춤', '정상은', '탐정', '죽이고 싶은', '파르페', '화지', '완수', '박도', '멘', '이인범', '괄시', '특', '이중인격자', '싸이코', '격변', '정령', '한참', '거리감', '김한석', '보은', '부담', '정작', '써니', '님', '서나래', '김진', '냉이', '공룡', '단추', '해파리', '아키코', '의뢰인', '대행', '업체', '죄책감', '우현이', '원시', '대기', '선주', '견제', '질서', '좌', '경연', '제위', '베일', '두각', '묘령', '위촉', '오시', '삼국지연의', '백제인', '쳇바퀴', '회의', '마찰', '사무실', '연봉', '사회인', '문석호', '내리', '친 현', '재승', '존중', '세습', '속박', '재계', '해결책', '강가', '이선호', '돼지', '고충', '재생', '오케스트라', '전대미문', '책임감', '초청', '순심', '안시', '시주', '술집', '관음', '정헌', '만우절', '조망', '집값', '독점', '주마등', '차사', '위기관리', '결혼계약', '이행', '혼전', '보수', '며느리', '내조', '강조', '매형', '명중', '학우', '순위', '일거수일투족', '퍼트', '촛불', '극사실주의', '합류', '이현민', '신의 손', '목욕', '때밀이', '대장군', '올린다', '인줄', '여장부', '첫날밤', '재구성', '꽃 공포증', '은솔', '고인', '극지', '절', '륜', '레알', '그린', '레드카펫', '임진국', '체스', '문장', '조상', '경주로', '시름', '씨름', '샅바', '골방환상곡', '침묵', '외계인들', '강유정', '환멸', '쇼핑', '목록', '강지영', '불가촉천민', '경시', '이도', '통일', '대통령', '시행', '란', '박성용', '단역', '귀가', '강일', '마침표', '설치', '풋풋', '프로그래머', '반고', '병맛', '용비', '엄습', '닥터', '프로스트', '성아', '가우스전자', '마케팅', '곽백수', '조우', '불쾌한 골짜기', '엿', '오진', '박수호', '드루이드', '세계 정복', '양의', '홀리', '하녀', '모형', '황지', '조의 영역', '묵시', '유니버스', '끝나지 않은 이야기', '오리', '신시', '도깨비 신부', '영웅시대', '서도', '어떡하지', '기력', '윤순', '타협', '그램', '도토', '리라', '영감', '토목공학', '김수호', '퍼펙트', '교통', '스톱', '프리미엄', '선착순', '소연', '관광', '흉', '측', '큐피트', '실습', '모교', '일러스트', '호화', '발설', '공통점', '뿌리', '마기', '사랑이란', '도쿄', '진수', '금요일', '도이', '정선', '로보트', '수의사', '애완', '적성', '한비', '줄타기', '기증', '소득', '횟집', '수산', '둔갑', '젊은이', '어촌', '신랑감', '초상화', '현혹', '왕좌', '폴', '통과', '네팔', '초코', '원지', '소림', '막무가내', '도로시', '민들레', '오즈', '우발', '원동', '공소시효', '법안', '폭설', '강풍', '혹한', '연구원', '정착', '태왕', '각주', '사마귀', '출', '구종', '정찰', '고비', '지문', '격정', '작물', '표피', '따개비', '아날로그', '앞집', '페인', '뒤집기', '체감', '에르고', '스피어', '현대 판타지', '신혼부부', '전세', '대출', '혼주', '테일러', '처', '야영지', '진지', '수세', '각고', '동력', '검투사', '하락', '요소', '발끝', '김인호', '동태', '황구', '법도', '무협지', '장건', '서부', '정수', '강성재', '취사', '대입', '철천지', '나발', '신기', '신령', '친우', '부관', '관통', '나의 조국', '정체성', '루시', '펠라', '아이딘', '셀', '대책', '리안', '의기투합', '야채', '신학', '기가', '안대', '신도', '신상', '러닝', '액션 게임', '열광', '매일', '운영자', '해방', '로보', '체육', '농구장', '빅맨', '이어', '초미', '정대', '메이크', '계란', '가이드', '옥수역', '봉천동', '호랑', '귀신 이야기', '바나나', '충실', '사파리', '불도저', '불', '사과나무', '일간', '녹스', '마네', '전장', '판다독', '실연', '첨단', '진사', '스케치북', '척결', '백현', '내부고발자', '한직', '뺑소니', '최용규', '단주', '알거지', '발판', '반대편', '신과함께', '골키퍼', '바이오', '임상', '증식', '잿밥', '육상', '다이빙', '치사율', '명심', '기기', '야크', '달리', '보육원', '실타래', '포장', '윤리', '마지노선', '야만', '네로', '장치', '숫자', '벼락', '재정', '부르주아', '천덕', '꾸러기', '차녀', '로비', '파산', '치부', '덴마', '군계일학', '국립', '세실', '김민지', '도마뱀', '갈래', '정지원', '지원이', '유지원', '김지원', '비교', '패션왕', '헌옷수거함', '상대방', '정진우', '적극', '아카시아', '꿀벌', '낙천', '가스파드', '초적', '암행어사', '무기력증', '은유', '폭죽', '개의', '구미', '차단', '도서관', '장벽', '이 섬', '풀라', '눈엣가시', '임명', '루드베키아', '후계', '허수아비', '로마노프', '발자국', '울보', '텔레파시', '블랙 위도우', '암살자', '양성', '잔당', '도우', '알콜', '중독자', '호준', '보호관찰', '대상자', '침략자', '전쟁고아', '한림', '체육관', '액션물', '무스', '수련회', '사이비 종교', '값어치', '대행수', '최태웅', '에이', '안하무인', '출몰', '기점', '상하', '농촌', '모험담', '삼수', '그런지', '풀', '피부', '천식', '제갈', '카이저', '헤비급', '다크', '감지', '미움', '참치', '돌고래', '도장', '고여', '자립형 사립 고등학교', '생자', '습성', '이오', '광휘', '시대극', '와글', '합자', '연구소', '사랑과 평화', '체계', '이외', '공비', '일탈', '파라', '미명', '강북', '최창무', '오자', '전설의 고향', '우승', '빼앗긴 자들', '큐브', '큐', '형태', '계승', '주제', '한정', '호령', '개근', '일화', '홉', '검은 조직', '전이', '의종', '당시', '형상', '예정', '일밤', '이영', '제안서', '구교', '금지령', '본업', '사진전', '수전노', '산', '가죽', '공통', '집채', '게다', '로스쿨', '변호사 시험', '법무법인', '씀씀이', '이세상', '하늘이', '부인', '보육', '고액', '코미디언', '전성기', '입지', '전남편', '별처럼', '귀접', '음기', '갈취', '실직', '일자리', '장녀', '냉', '라가', '기후', '폭우', '지속', '기상청', '정확도', '기상이변', '지난 시', '이례', '폭풍우', '일련', '펜스', '스테이지', '노릇', '교관', '사부로', '타강', '사부', '에이전트', '파그', '세정', '이불', '연인들', '슈트', '강유', '산신령', '우암', '아마란스', '삼천', '겸비', '새장', '서번트 증후군', '박시온', '동전', '양면', '소아', '레지던트', '편견', '조심', '살아야 한다', '백유', '화단', '화공', '동짓날', '맹인', '하람', '붉은색', '레포트', '멜로', '손가영', '백합과', '기유', '빠방', '스쿨', '조지아 주', '지사', '사절', '후에', '게도', '봄날', '채린', '검은색', '화장', '연기파', '라푼젤', '태경', '거액', '약혼녀', '유주', '노선', '시크', '아랫집', '저세상', '보력', '스톤', '주가', '독립전쟁', '연제원', '덤', '진동', '정면', '돌파', '위층', '현관문', '세번', '베스', '농장', '신스', '황태', '이복남', '심기', '최소', '전무후무', '오카', '류지', '자의', '말기', '연개소문', '연남생', '남생이', '매화', '존', '대산', '개소', '리야', '무투', '고기', '적자', '정보원', '천호', '배틀그라운드', '칵테일', '메이비', '심리학자', '닥터 프로스트', '군상', '질병', '레드 드래곤', '드래곤 하트', '가담', '컬러풀', '매지', '컬', '니나', '골목', '유치뽕', '카드', '김수현', '사과', '수현', '프린스의 왕자', '초콜릿', '박시현', '융자', '해인', '컴플렉스', '귀의', '리플리', '파티장', '각하', '과잉', '정권', '청부', '계층', '군더더기', '사사건건', '달기', '고집', '불통', '한동네', '친구와 연인사이', '미라', '소굴', '도천동', '세입자', '도의', '옷깃', '자연', '반수', '착호갑사', '가우리', '모텔', '액자', '건너편', '미러', '릴', '이민', '일촉즉발', '지화', '곡', '둔재', '공자', '대행사', '기획', '휘성', '아마추어', '정환', '박력', '전율', '이휘성', '비상', '목요일', '교시', '형식', '셰릴', '숙부', '라비', '혼약', '블레어', '성주', '펠릭스', '속물', '이대환', '업보', '극야', '국적', '쇄빙선', '인차', '동환', '사야카', '노조미', '메이린', '이상현', '김경한', '정세', '뉴욕', '맨해튼', '항구', '태평양', '새엄마', '맞장', '대면', '영화배우', '서건우', '민서연', '우환', '교통비', '마라톤', '멍멍이', '곤', '박종원', '패치', '조난', '굴곡', '계열', '육식계', '포식', '천', '계시', '속삭임', '약소국', '단죄', '하민', '랑데뷰', '아리', '인생 이야기', '만화고', '안경희', '눈보라', '이지현', '발데마르', '경영지도사', '불안감', '시험지', '다혜', '만만디', '벼슬자리', '낙오자', '모니터', '윤슬', '리한', '페이크', '장이', '바스티아', '에페', '베르', '호풍', '명언', '의리', '동일', '매너', '중범죄', '독고', '생명보험', '안부', '서평', '스피드', '레이서', '해리', '포터', '기쁨', '퍼스트', '장판', '지하실', '쇼핑몰', '발발', '진압', '봉쇄', '늑대인간', '생사', '갈림길', '도달', '발현', '홀로', '강세', '김혜진', '롯', '박도영', '무산', '만취', '러버', '피디', '식단', '조진국', '핫바', '끝장', '레이싱', '소장', '매운맛', '중세', '참을 수 없는', '짜증', '갤러리', '러브스토리', '도거', '지훈', '어리광', '유성', '자금', '거래처', '동남아', '골칫거리', '해적', '아마', '하종화', '교체', '애니멀', '극비리', '안정', '증세', '베', '공약', '현주', '수련과', '결투', '출생의 비밀', '천사와 악마', '의상', '중립', '다사다난', '주눅', '하나에', '격동', '지능', '만반', '화상', '생애', '전염', '성매매', '단속', '오피스텔', '자필', '진술서', '실적', '경찰서', '진술', '경악', '인지도', '주원', '구실', '갈피', '시해', '반역자', '몰', '무희', '왕명', '현왕', '대한국', '김유미', '발동', '편리', '고르고', '그림일기', '전설의 레전드', '김성모', '설명', '생략', '등장인물', '단체', '송강', '이득', '파이', '최정민', '분석력', '혈액형', '무서운 이야기', '이해', '편입', '소유욕', '상계', '나이트', '밤새', '올', '옥황상제', '야밤', '도주', '가정부', '에리', '경비', '구두', '포도밭', '택시', '흙탕물', '아까', '첫인상', '서화', '최인정', '선경', '위기감', '이상하고 아름다운', '효자', '창문', '탈출 게임', '시설', '여성향', '물레', '횡단보도', '이미지', '탈바꿈', '이지', '단명', '오류로', '우소', '텐', '애초', '적응기', '근육질', '구사', '영장', '밀림', '명가', '마검', '제조', '원미', '숙희', '릴리', '섭외', '쿠베라', '외출', '초토화', '수라', '혼합', '하원', '휴대폰', '액정', '오로라', '인식', '비난', '매장', '황금빛', '탄로', '스푼', '징조', '머리통', '전우', '가보', '잠재력', '황금', '천혜', '사교', '천군', '겨울 이야기', '우승자', '한시준', '노량진', '레이드', '탐사선', '비행사', '한나나', '유성우', '고대', '재결합', '형제자매', '산촌', '김달수', '당선', '불우', '기녀', '거상', '김만덕', '재건', '다오', '대대로', '슬립', '광해군', '성하', '문신', '철옹성', '함락', '각지', '점령', '빌딩', '네크로', '자산', '출소', '홀어머니', '복숭아', '학급', '회비', '손길', '제어', '게이트', '존엄', '박정우', '정답', '앙골모아', '안위', '먹이사슬', '탁', '가득', '나유진', '뱃속', '견우와 직녀', '루저', '문과', '강동구', '찐따', '의존', '빈자리', '유발', '봉사', '이희', '만화책', '행보', '답장', '전투력', '측정기', '퇴장', '확보', '확률', '줄거리', '약체', '모리', '연상의 여인', '장밋빛', '바탕', '여중', '네이버 만화', '입학금', '지급', '파격', '잔고', '미달', '퇴학', '악전고투', '과보호', '주희', '인적', '경비실', '장악', '주도', '폐부', '유전자', '쥐', '와나', '기신', '은아', '스토킹', '정상인', '식민', '군산', '친일파', '지주', '몸종', '해변', '독립운동', '의현', '김진서', '진서', '기생충', '감염', '안전국', '상장', '패션쇼', '연출가', '커리', '온몸', '로건', '레아', '앞부분', '원고', '피렌체', '후준', '이근영', '밀착', '낙방', '주유', '단테', '리듬', '심근증', '공여자', '상실', '궤도', '마고', '요물', '수인', '교장', '홍삼', '치매', '원효', '대사', '부자', '성산', '신윤복', '저돌', '김홍도', '김진의', '독립생활', '신도림역', '모르는 번호', '수화기', '고도', '파악', '등록', '박대', '조연', '수배', '문화', '강사', '강민주', '돌', '싱', '민욱', '동현', '렌즈', '숏', '애니', '땅콩', '쌍', '코피', '유로파', '어웨이크', '시한폭탄', '계절', '해피니스', '연꽃', '궁중', '주치의', '자처', '오지랖', '야반도주', '귀귀', '넬리', '지나', '최대한', '로크', '이목', '화석', '만두', '식사', '복희', '검도장', '스페셜', '업데이트', '카라멜', '끼', '연애세포', '김명현', '공평', '신들의 전쟁', '요새', '정벌', '교회', '마파람', '융화', '허구', '캔디', '박복', '온유', '채리', '워너', '놀이', '글쓰기', '장삼봉', '당주', '털', '북숭이', '심연', '호각', '조수', '정재', '석우', '미소년', '이우주', '장작', '잿더미', '점보', '셀프', '체인지', '잔', '박살', '이상해', '정이', '재가', '기어', '군단', '민송아', '이원준', '개강', '입주', '이두', '베이', '종의', '혈통', '흑화', '츤데레', '마무', '자존', '방안', '무예', '한규', '엽총', '자루', '조회', '프리퀄', '밤샘', '하도', '리스', '애걸복걸', '팔도', '칼날', '이괄의 난', '함', '최고봉', '영화감독', '연준', '원도', '도가니', '한밤', '들개들', '새어머니', '냉대', '가정주부', '주검', '직감', '북한', '독거미', '모임', '서인', '카이사르', '루타', '양영순', '해석', '마일', '풋내기', '페르세포네', '물의 나라', '여의', '보', '백사', '추대', '탈락', '강하나', '뷰티', '제의', '양지', '바람둥이', '자극', '영문', '계동', '술값', '내의원', '주상', '방과', '에게 해', '김찬', '김해원', '한태희', '볼보이', '생체공학', '테스', '외도', '폐기', '최신', '타파', '전대', '백기', '립', '흡수', '헤엄', '초아', '팔자', '구제', '숭배자', '다혈질', '근신', '발신자', '고개', '호주', '영주권', '자인', '전제', '병아리', '군기', '이주', '막강', '뱃사공', '소하', '구파', '검법', '진시황', '반성', '구주', '기대감', '화도', '특수부대', '총격전', '생활고', '백모란', '되풀이', '윤회', '변명', '성과', '호연', '수해', '지령', '재활', '어택', '화장품', '진남', '광경', '구현', '텐트', '남일', '약골', '상쇄', '스튜디오', '진보', '행각', '관문', '열정페이', '대리자', '관인', '목조', '건축', '교감', '기계공학', '동고동락', '무죄', '당대', '시계', '심화', '젊은이들', '제정', '일방', '무법', '한양', '책방', '성기', '신예', '방랑', '실생활', '직접', '저잣거리', '마승', '흐름', '파편', '정시', '인어 공주', '시저', '블론디', '흑표범', '간식', '반응', '형편', '불타', '성시', '시한', '절치', '부심', '노어', '진입', '조승훈', '급성장', '법무', '오너', '리스크', '디스토피아', '마이너스', '대성', '살육', '살생', '해소', '울릉도', '미끼', '대적', '변모', '필립', '그중', '제작자', '권리', '윈윈', '탐사', '금의환향', '단편집', '올가미', '롬', '광화문', '수영복', '차림', '스포츠카', '이호', '무녀', '심장이 뛴다', '태민', '선천', '젖', '산골짜기', '고니', '헌법', '앞길', '견과', '박사랑', '사촌', '평강', '평강공주', '미스코리아', '로펌', '임대', '주님', '리닝', '착한 남자', '선망', '지지', '싸이', '이성', '잠식', '모로스', '자제력', '진리', '접', '강화', '몽둥이', '패기', '스케일', '보물섬', '풍미', '예수', '수빈', '장미', '비밀연애', '홍석준', '강냉이', '부임', '부교수', '상현', '보고', '사탄', '정명석', '성폭행', '종결', '정직', '자존심', '가식', '현대인', '도미노', '동창생', '견우', '술래잡기', '소행성', '절멸', '반은', '에바', '니', '카를', '심령', '썰', '수용소', '미드나잇', '체이서', '송나라', '안도', '여연', '언더', '투신', '회색', '천진난만', '켄', '쉬크', '루가', '고고', '연두', '호두', '몽상', '후천', '율도', '에너지', '음료', '알레르기', '무화과', '초겨울', '헤드폰', '마이크', '정혜성', '시공', '말괄량이', '임시', '게스트', '이재현', '인기척', '관능', '숨소리', '물줄기', '커튼', '근무', '불씨', '전작', '강서', '연주회장', '콘서트홀', '방조', '웅덩이', '황태자비', '비와', '황태후', '배꼽', '악랄', '세진', '논리', '노출', '안전', '구조조정', '엘프', '오크', '이민자', '위장취업', '이 현', '비서실', '연화', '말단', '바인', '일원', '해안', '실마리', '아든', '싸인', '발걸음', '오케이', '결혼식장', '보살', '야차', '문고', '온에어', '이슈', '이차', '유명인', '려자', '전형', '고위', '업로드', '사대', '무단', '기자 주', '기레기', '찌라시', '비호', '사실은', '타운', '합', '숨쉬기', '옥탑방', '진달래', '모델링', '무료', '유학생', '철학', '슬픔', '선재', '안달', '접속', '석촌', '코끼리', '채플린', '오마주', '감초', '식량', '솜씨', '마음속', '골방', '환상곡', '중무장', '정법', '편법', '꼼수', '부정부패', '크루', '모기', '뺨', '연소', '여직원', '유정아', '안구', '인구', '급증', '비용', '부양', '현명', '주황', '노을', '김시후', '신의 존재', '예외', '거울 속으로', '에멘', '제인', '도트리', '모색', '장점', '단점', '정통제', '가면', '스쿨홀릭', '철석', '행방불명', '빈 집', '네만', '자치구', '짐', '등록금', '평가자', '윈', '한잔', '성에', '가브리엘', '라파엘', '우리엘', '유해', '정쟁', '독살', '기재', '노블레스', '손제호', '소녀더와일즈', '성자', '밭', '앞뒤', '청량감', '패륜', '대사제', '촉망', '망국', '패륜아', '설득', '구국', '정규', '희소식', '바랄', '광년', '강타', '빙자', '업그레이드', '슬럼프', '표절', '금세기', '미술제', '이하', '인간 이상', '흑마', '법사', '디아블로', '볼', '응애', '신토불이', '미라클', '백승혁', '윈터', '베스트셀러', '인두', '오래전', '찜질방', '김세한', '머신', '주입', '일상물', '협력', '술수', '만능', '복원', '난관', '법지', '벌레', '시종일관', '불가침', '천년', '바리', '영이', '낙동강', '시계탑', '영향력', '호강', '샐러리맨', '젊은 시절', '젤리빈']\n"
     ]
    }
   ],
   "source": [
    "import pickle\n",
    "\n",
    "# 단어 사전 불러오기\n",
    "with open('vocab.pkl', 'rb') as f:\n",
    "    vocab = pickle.load(f)\n",
    "\n",
    "print(\"단어 사전이 불러와졌습니다.\")\n",
    "print(vocab)"
   ]
  },
  {
   "cell_type": "code",
   "execution_count": 687,
   "metadata": {},
   "outputs": [],
   "source": [
    "import seaborn as sns\n",
    "\n",
    "# 모델 테스트하고 혼동 행렬을 시각화하는 함수\n",
    "def test(model, datasets, criterion, device):\n",
    "    model.eval()\n",
    "    losses = list()\n",
    "    corrects = list()\n",
    "    \n",
    "    # 실제 레이블과 예측 값을 저장할 리스트\n",
    "    all_labels = []\n",
    "    all_predictions = []\n",
    "\n",
    "    for step, (input_ids, labels) in enumerate(datasets):   \n",
    "        input_ids = input_ids.to(device)\n",
    "        labels = labels.to(device).unsqueeze(1)\n",
    "\n",
    "        logits = model(input_ids)  \n",
    "        loss = criterion(logits, labels)\n",
    "        losses.append(loss.item())\n",
    "\n",
    "        # 예측 값과 실제 값을 리스트에 추가\n",
    "        yhat = torch.sigmoid(logits) > 0.5  \n",
    "        all_labels.extend(labels.cpu().tolist())  # 실제 레이블\n",
    "        all_predictions.extend(yhat.cpu().tolist())  # 예측 값\n",
    "\n",
    "        corrects.extend(torch.eq(yhat, labels).cpu().tolist())\n",
    "\n",
    "    val_loss = np.mean(losses)\n",
    "    val_accuracy = np.mean(corrects)\n",
    "\n",
    "    print(f\"Val Loss : {val_loss}, Val Accuracy : {val_accuracy}\")\n",
    "\n",
    "    # 혼동 행렬 계산\n",
    "    cm = confusion_matrix(all_labels, all_predictions)\n",
    "\n",
    "    # 혼동 행렬 시각화\n",
    "    plt.figure(figsize=(6, 6))\n",
    "    sns.heatmap(cm, annot=True, fmt=\"d\", cmap=\"Blues\", xticklabels=[\"Negative\", \"Positive\"], yticklabels=[\"Negative\", \"Positive\"])\n",
    "    plt.xlabel('Predicted')\n",
    "    plt.ylabel('Actual')\n",
    "    plt.title('Confusion Matrix')\n",
    "    plt.show()\n",
    "\n",
    "    return val_loss"
   ]
  },
  {
   "cell_type": "code",
   "execution_count": 688,
   "metadata": {},
   "outputs": [
    {
     "ename": "RuntimeError",
     "evalue": "0D or 1D target tensor expected, multi-target not supported",
     "output_type": "error",
     "traceback": [
      "\u001b[1;31m---------------------------------------------------------------------------\u001b[0m",
      "\u001b[1;31mRuntimeError\u001b[0m                              Traceback (most recent call last)",
      "Cell \u001b[1;32mIn[688], line 1\u001b[0m\n\u001b[1;32m----> 1\u001b[0m val_loss \u001b[38;5;241m=\u001b[39m \u001b[43mtest\u001b[49m\u001b[43m(\u001b[49m\u001b[43mclassifier\u001b[49m\u001b[43m,\u001b[49m\u001b[43m \u001b[49m\u001b[43mtest_loader\u001b[49m\u001b[43m,\u001b[49m\u001b[43m \u001b[49m\u001b[43mcriterion\u001b[49m\u001b[43m,\u001b[49m\u001b[43m \u001b[49m\u001b[43mdevice\u001b[49m\u001b[43m)\u001b[49m\n",
      "Cell \u001b[1;32mIn[687], line 18\u001b[0m, in \u001b[0;36mtest\u001b[1;34m(model, datasets, criterion, device)\u001b[0m\n\u001b[0;32m     15\u001b[0m labels \u001b[38;5;241m=\u001b[39m labels\u001b[38;5;241m.\u001b[39mto(device)\u001b[38;5;241m.\u001b[39munsqueeze(\u001b[38;5;241m1\u001b[39m)\n\u001b[0;32m     17\u001b[0m logits \u001b[38;5;241m=\u001b[39m model(input_ids)  \n\u001b[1;32m---> 18\u001b[0m loss \u001b[38;5;241m=\u001b[39m \u001b[43mcriterion\u001b[49m\u001b[43m(\u001b[49m\u001b[43mlogits\u001b[49m\u001b[43m,\u001b[49m\u001b[43m \u001b[49m\u001b[43mlabels\u001b[49m\u001b[43m)\u001b[49m\n\u001b[0;32m     19\u001b[0m losses\u001b[38;5;241m.\u001b[39mappend(loss\u001b[38;5;241m.\u001b[39mitem())\n\u001b[0;32m     21\u001b[0m \u001b[38;5;66;03m# 예측 값과 실제 값을 리스트에 추가\u001b[39;00m\n",
      "File \u001b[1;32mc:\\Users\\KDP-14\\anaconda3\\envs\\TEXT_018_230_38\\lib\\site-packages\\torch\\nn\\modules\\module.py:1532\u001b[0m, in \u001b[0;36mModule._wrapped_call_impl\u001b[1;34m(self, *args, **kwargs)\u001b[0m\n\u001b[0;32m   1530\u001b[0m     \u001b[38;5;28;01mreturn\u001b[39;00m \u001b[38;5;28mself\u001b[39m\u001b[38;5;241m.\u001b[39m_compiled_call_impl(\u001b[38;5;241m*\u001b[39margs, \u001b[38;5;241m*\u001b[39m\u001b[38;5;241m*\u001b[39mkwargs)  \u001b[38;5;66;03m# type: ignore[misc]\u001b[39;00m\n\u001b[0;32m   1531\u001b[0m \u001b[38;5;28;01melse\u001b[39;00m:\n\u001b[1;32m-> 1532\u001b[0m     \u001b[38;5;28;01mreturn\u001b[39;00m \u001b[38;5;28;43mself\u001b[39;49m\u001b[38;5;241;43m.\u001b[39;49m\u001b[43m_call_impl\u001b[49m\u001b[43m(\u001b[49m\u001b[38;5;241;43m*\u001b[39;49m\u001b[43margs\u001b[49m\u001b[43m,\u001b[49m\u001b[43m \u001b[49m\u001b[38;5;241;43m*\u001b[39;49m\u001b[38;5;241;43m*\u001b[39;49m\u001b[43mkwargs\u001b[49m\u001b[43m)\u001b[49m\n",
      "File \u001b[1;32mc:\\Users\\KDP-14\\anaconda3\\envs\\TEXT_018_230_38\\lib\\site-packages\\torch\\nn\\modules\\module.py:1541\u001b[0m, in \u001b[0;36mModule._call_impl\u001b[1;34m(self, *args, **kwargs)\u001b[0m\n\u001b[0;32m   1536\u001b[0m \u001b[38;5;66;03m# If we don't have any hooks, we want to skip the rest of the logic in\u001b[39;00m\n\u001b[0;32m   1537\u001b[0m \u001b[38;5;66;03m# this function, and just call forward.\u001b[39;00m\n\u001b[0;32m   1538\u001b[0m \u001b[38;5;28;01mif\u001b[39;00m \u001b[38;5;129;01mnot\u001b[39;00m (\u001b[38;5;28mself\u001b[39m\u001b[38;5;241m.\u001b[39m_backward_hooks \u001b[38;5;129;01mor\u001b[39;00m \u001b[38;5;28mself\u001b[39m\u001b[38;5;241m.\u001b[39m_backward_pre_hooks \u001b[38;5;129;01mor\u001b[39;00m \u001b[38;5;28mself\u001b[39m\u001b[38;5;241m.\u001b[39m_forward_hooks \u001b[38;5;129;01mor\u001b[39;00m \u001b[38;5;28mself\u001b[39m\u001b[38;5;241m.\u001b[39m_forward_pre_hooks\n\u001b[0;32m   1539\u001b[0m         \u001b[38;5;129;01mor\u001b[39;00m _global_backward_pre_hooks \u001b[38;5;129;01mor\u001b[39;00m _global_backward_hooks\n\u001b[0;32m   1540\u001b[0m         \u001b[38;5;129;01mor\u001b[39;00m _global_forward_hooks \u001b[38;5;129;01mor\u001b[39;00m _global_forward_pre_hooks):\n\u001b[1;32m-> 1541\u001b[0m     \u001b[38;5;28;01mreturn\u001b[39;00m \u001b[43mforward_call\u001b[49m\u001b[43m(\u001b[49m\u001b[38;5;241;43m*\u001b[39;49m\u001b[43margs\u001b[49m\u001b[43m,\u001b[49m\u001b[43m \u001b[49m\u001b[38;5;241;43m*\u001b[39;49m\u001b[38;5;241;43m*\u001b[39;49m\u001b[43mkwargs\u001b[49m\u001b[43m)\u001b[49m\n\u001b[0;32m   1543\u001b[0m \u001b[38;5;28;01mtry\u001b[39;00m:\n\u001b[0;32m   1544\u001b[0m     result \u001b[38;5;241m=\u001b[39m \u001b[38;5;28;01mNone\u001b[39;00m\n",
      "File \u001b[1;32mc:\\Users\\KDP-14\\anaconda3\\envs\\TEXT_018_230_38\\lib\\site-packages\\torch\\nn\\modules\\loss.py:1185\u001b[0m, in \u001b[0;36mCrossEntropyLoss.forward\u001b[1;34m(self, input, target)\u001b[0m\n\u001b[0;32m   1184\u001b[0m \u001b[38;5;28;01mdef\u001b[39;00m \u001b[38;5;21mforward\u001b[39m(\u001b[38;5;28mself\u001b[39m, \u001b[38;5;28minput\u001b[39m: Tensor, target: Tensor) \u001b[38;5;241m-\u001b[39m\u001b[38;5;241m>\u001b[39m Tensor:\n\u001b[1;32m-> 1185\u001b[0m     \u001b[38;5;28;01mreturn\u001b[39;00m \u001b[43mF\u001b[49m\u001b[38;5;241;43m.\u001b[39;49m\u001b[43mcross_entropy\u001b[49m\u001b[43m(\u001b[49m\u001b[38;5;28;43minput\u001b[39;49m\u001b[43m,\u001b[49m\u001b[43m \u001b[49m\u001b[43mtarget\u001b[49m\u001b[43m,\u001b[49m\u001b[43m \u001b[49m\u001b[43mweight\u001b[49m\u001b[38;5;241;43m=\u001b[39;49m\u001b[38;5;28;43mself\u001b[39;49m\u001b[38;5;241;43m.\u001b[39;49m\u001b[43mweight\u001b[49m\u001b[43m,\u001b[49m\n\u001b[0;32m   1186\u001b[0m \u001b[43m                           \u001b[49m\u001b[43mignore_index\u001b[49m\u001b[38;5;241;43m=\u001b[39;49m\u001b[38;5;28;43mself\u001b[39;49m\u001b[38;5;241;43m.\u001b[39;49m\u001b[43mignore_index\u001b[49m\u001b[43m,\u001b[49m\u001b[43m \u001b[49m\u001b[43mreduction\u001b[49m\u001b[38;5;241;43m=\u001b[39;49m\u001b[38;5;28;43mself\u001b[39;49m\u001b[38;5;241;43m.\u001b[39;49m\u001b[43mreduction\u001b[49m\u001b[43m,\u001b[49m\n\u001b[0;32m   1187\u001b[0m \u001b[43m                           \u001b[49m\u001b[43mlabel_smoothing\u001b[49m\u001b[38;5;241;43m=\u001b[39;49m\u001b[38;5;28;43mself\u001b[39;49m\u001b[38;5;241;43m.\u001b[39;49m\u001b[43mlabel_smoothing\u001b[49m\u001b[43m)\u001b[49m\n",
      "File \u001b[1;32mc:\\Users\\KDP-14\\anaconda3\\envs\\TEXT_018_230_38\\lib\\site-packages\\torch\\nn\\functional.py:3086\u001b[0m, in \u001b[0;36mcross_entropy\u001b[1;34m(input, target, weight, size_average, ignore_index, reduce, reduction, label_smoothing)\u001b[0m\n\u001b[0;32m   3084\u001b[0m \u001b[38;5;28;01mif\u001b[39;00m size_average \u001b[38;5;129;01mis\u001b[39;00m \u001b[38;5;129;01mnot\u001b[39;00m \u001b[38;5;28;01mNone\u001b[39;00m \u001b[38;5;129;01mor\u001b[39;00m reduce \u001b[38;5;129;01mis\u001b[39;00m \u001b[38;5;129;01mnot\u001b[39;00m \u001b[38;5;28;01mNone\u001b[39;00m:\n\u001b[0;32m   3085\u001b[0m     reduction \u001b[38;5;241m=\u001b[39m _Reduction\u001b[38;5;241m.\u001b[39mlegacy_get_string(size_average, reduce)\n\u001b[1;32m-> 3086\u001b[0m \u001b[38;5;28;01mreturn\u001b[39;00m \u001b[43mtorch\u001b[49m\u001b[38;5;241;43m.\u001b[39;49m\u001b[43m_C\u001b[49m\u001b[38;5;241;43m.\u001b[39;49m\u001b[43m_nn\u001b[49m\u001b[38;5;241;43m.\u001b[39;49m\u001b[43mcross_entropy_loss\u001b[49m\u001b[43m(\u001b[49m\u001b[38;5;28;43minput\u001b[39;49m\u001b[43m,\u001b[49m\u001b[43m \u001b[49m\u001b[43mtarget\u001b[49m\u001b[43m,\u001b[49m\u001b[43m \u001b[49m\u001b[43mweight\u001b[49m\u001b[43m,\u001b[49m\u001b[43m \u001b[49m\u001b[43m_Reduction\u001b[49m\u001b[38;5;241;43m.\u001b[39;49m\u001b[43mget_enum\u001b[49m\u001b[43m(\u001b[49m\u001b[43mreduction\u001b[49m\u001b[43m)\u001b[49m\u001b[43m,\u001b[49m\u001b[43m \u001b[49m\u001b[43mignore_index\u001b[49m\u001b[43m,\u001b[49m\u001b[43m \u001b[49m\u001b[43mlabel_smoothing\u001b[49m\u001b[43m)\u001b[49m\n",
      "\u001b[1;31mRuntimeError\u001b[0m: 0D or 1D target tensor expected, multi-target not supported"
     ]
    }
   ],
   "source": [
    "val_loss = test(classifier, test_loader, criterion, device)"
   ]
  },
  {
   "cell_type": "code",
   "execution_count": null,
   "metadata": {},
   "outputs": [],
   "source": []
  }
 ],
 "metadata": {
  "kernelspec": {
   "display_name": "TEXT_018_230_38",
   "language": "python",
   "name": "python3"
  },
  "language_info": {
   "codemirror_mode": {
    "name": "ipython",
    "version": 3
   },
   "file_extension": ".py",
   "mimetype": "text/x-python",
   "name": "python",
   "nbconvert_exporter": "python",
   "pygments_lexer": "ipython3",
   "version": "3.8.19"
  }
 },
 "nbformat": 4,
 "nbformat_minor": 2
}
