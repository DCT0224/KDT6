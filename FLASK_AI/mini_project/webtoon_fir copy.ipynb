{
 "cells": [
  {
   "cell_type": "code",
   "execution_count": 225,
   "metadata": {},
   "outputs": [],
   "source": [
    "# 모듈 로딩\n",
    "import spacy\n",
    "import os\n",
    "\n",
    "import numpy as np\n",
    "import pandas as pd\n",
    "import matplotlib.pyplot as plt\n",
    "\n",
    "import torch\n",
    "import torch.nn as nn\n",
    "import torch.optim as optim\n",
    "import torch.nn.functional as F\n",
    "import torch.optim.lr_scheduler as lr_scheduler\n",
    "from torch.utils.data import Dataset, DataLoader, TensorDataset\n",
    "from torchmetrics.classification import BinaryF1Score\n",
    "\n",
    "from gensim.models import Word2Vec\n",
    "\n",
    "from sklearn.model_selection import train_test_split"
   ]
  },
  {
   "cell_type": "code",
   "execution_count": 226,
   "metadata": {},
   "outputs": [],
   "source": [
    "# 데이터 준비\n",
    "FILE_PATH = './naver.csv'\n",
    "\n",
    "Cartoon_DF = pd.read_csv(FILE_PATH)\n",
    "# Cartoon_Chal_DF = pd.read_csv(FILE_PATH2) => age 카테고리가 없음."
   ]
  },
  {
   "cell_type": "code",
   "execution_count": 227,
   "metadata": {},
   "outputs": [
    {
     "name": "stdout",
     "output_type": "stream",
     "text": [
      "<class 'pandas.core.frame.DataFrame'>\n",
      "RangeIndex: 2100 entries, 0 to 2099\n",
      "Data columns (total 11 columns):\n",
      " #   Column       Non-Null Count  Dtype  \n",
      "---  ------       --------------  -----  \n",
      " 0   id           2100 non-null   int64  \n",
      " 1   title        2100 non-null   object \n",
      " 2   author       2100 non-null   object \n",
      " 3   genre        2100 non-null   object \n",
      " 4   description  2100 non-null   object \n",
      " 5   rating       2100 non-null   float64\n",
      " 6   date         2100 non-null   object \n",
      " 7   completed    2100 non-null   bool   \n",
      " 8   age          1998 non-null   object \n",
      " 9   free         2100 non-null   bool   \n",
      " 10  link         2100 non-null   object \n",
      "dtypes: bool(2), float64(1), int64(1), object(7)\n",
      "memory usage: 151.9+ KB\n"
     ]
    }
   ],
   "source": [
    "Cartoon_DF.info()"
   ]
  },
  {
   "cell_type": "code",
   "execution_count": 228,
   "metadata": {},
   "outputs": [],
   "source": [
    "Cartoon_DF['completed'] = Cartoon_DF['completed'].astype('int16')\n",
    "Cartoon_DF['free'] = Cartoon_DF['free'].astype('int16')"
   ]
  },
  {
   "cell_type": "code",
   "execution_count": 229,
   "metadata": {},
   "outputs": [],
   "source": [
    "Cartoon_DF = Cartoon_DF[~ Cartoon_DF['age'].isna()]"
   ]
  },
  {
   "cell_type": "code",
   "execution_count": 230,
   "metadata": {},
   "outputs": [
    {
     "data": {
      "text/plain": [
       "age\n",
       "전체연령가      868\n",
       "15세 이용가    578\n",
       "12세 이용가    486\n",
       "18세 이용가     66\n",
       "Name: count, dtype: int64"
      ]
     },
     "execution_count": 230,
     "metadata": {},
     "output_type": "execute_result"
    }
   ],
   "source": [
    "# 데이터 불균형이기 때문에 18세 이용가 날림\n",
    "Cartoon_DF['age'].value_counts()"
   ]
  },
  {
   "cell_type": "code",
   "execution_count": 231,
   "metadata": {},
   "outputs": [],
   "source": [
    "Cartoon_DF = Cartoon_DF[~(Cartoon_DF['age'] == '18세 이용가')]"
   ]
  },
  {
   "cell_type": "code",
   "execution_count": 232,
   "metadata": {},
   "outputs": [
    {
     "data": {
      "text/plain": [
       "1932"
      ]
     },
     "execution_count": 232,
     "metadata": {},
     "output_type": "execute_result"
    }
   ],
   "source": [
    "len(Cartoon_DF)"
   ]
  },
  {
   "cell_type": "code",
   "execution_count": 233,
   "metadata": {},
   "outputs": [],
   "source": [
    "## target 수치화\n",
    "target = []\n",
    "for num in range(len(Cartoon_DF)):\n",
    "    if Cartoon_DF.iloc[num]['age'] == '전체연령가': \n",
    "        target.append(0)\n",
    "    elif Cartoon_DF.iloc[num]['age'] == '12세 이용가' or Cartoon_DF.iloc[num]['age'] == '15세 이용가':\n",
    "        target.append(1)\n",
    "Cartoon_DF['target'] = target"
   ]
  },
  {
   "cell_type": "code",
   "execution_count": 234,
   "metadata": {},
   "outputs": [
    {
     "data": {
      "text/plain": [
       "target\n",
       "1    1064\n",
       "0     868\n",
       "Name: count, dtype: int64"
      ]
     },
     "execution_count": 234,
     "metadata": {},
     "output_type": "execute_result"
    }
   ],
   "source": [
    "Cartoon_DF['target'].value_counts()"
   ]
  },
  {
   "cell_type": "code",
   "execution_count": 235,
   "metadata": {},
   "outputs": [
    {
     "data": {
      "text/plain": [
       "array([0, 1, 1, ..., 1, 1, 1], dtype=int64)"
      ]
     },
     "execution_count": 235,
     "metadata": {},
     "output_type": "execute_result"
    }
   ],
   "source": [
    "Cartoon_DF.target.values"
   ]
  },
  {
   "cell_type": "code",
   "execution_count": 236,
   "metadata": {},
   "outputs": [],
   "source": [
    "import re\n",
    "def re_text(text):\n",
    "    text = re.sub(r'[^ㄱ-ㅎ가-힣 ]+', ' ', text)\n",
    "    text = text.replace('\\xa0','')\n",
    "    \n",
    "    return text.strip()"
   ]
  },
  {
   "cell_type": "code",
   "execution_count": 237,
   "metadata": {},
   "outputs": [],
   "source": [
    "Cartoon_DF['description'] = Cartoon_DF['description'].apply(re_text)"
   ]
  },
  {
   "cell_type": "code",
   "execution_count": 238,
   "metadata": {},
   "outputs": [
    {
     "data": {
      "text/plain": [
       "0       흔하디 흔한 재벌후계자와 캔디도 울고 갈 박복한 가난소녀의 파란만장 동거기 인기작 ...\n",
       "1       이번 주인공은 돌이다 돌이지만 동료도 모으고 악당도 물리친다 랑또 작가표 동양 판타...\n",
       "2       어느 날  인어가 내게 말을 걸어왔다  눈을 떠보니 총구가 있었다  그리고 몸이 연...\n",
       "3          한국 최초 한국형 고교스포츠 웹툰 열혈따윈 개나 줘  낙오자들 뿐인 농구부의 운명은\n",
       "4       사람은 좀 죽여도 싸우는건 싫어해요  게임에서조차 집 바깥을 나가지 않는  제리  ...\n",
       "                              ...                        \n",
       "2093    넌 내가 나비라는걸 알고 있잖아 알면서도 빠지고 싶은 사랑 투명한 동거  정서 작가...\n",
       "2094       고객은 왕이 아니다  직원이 왕이다 병맛 드라마를 뛰어넘는 미친 상상력의 원작 웹툰\n",
       "2096    악귀들이 가득찬 섬 제주도  이를 물리치는 토막살인범 반  웹툰으로 새롭게 돌아온 ...\n",
       "2097       못생긴 얼굴에서 미인으로 새롭게 태어난 그녀  강미래  그런데  어디서 본 듯 한데\n",
       "2098    악귀들이 가득찬 섬 제주도  이를 물리치는 토막살인범 반  웹툰으로 돌아온 퇴마만화...\n",
       "Name: description, Length: 1932, dtype: object"
      ]
     },
     "execution_count": 238,
     "metadata": {},
     "output_type": "execute_result"
    }
   ],
   "source": [
    "Cartoon_DF['description']"
   ]
  },
  {
   "cell_type": "code",
   "execution_count": 239,
   "metadata": {},
   "outputs": [],
   "source": [
    "# train, test 나누기\n",
    "train = Cartoon_DF.sample(frac=0.9, random_state=7) # 랜덤으로 90를 선택\n",
    "test = Cartoon_DF.drop(train.index)                  # 트레인을 삭제해서 비율을 train : test = 9: 1\n",
    "\n",
    "# print(train.head(5))\n",
    "# print('Training Data Size : ', len(train))\n",
    "# print(\"Testing Data Size : \", len(test))"
   ]
  },
  {
   "cell_type": "code",
   "execution_count": 240,
   "metadata": {},
   "outputs": [],
   "source": [
    "# 데이터 토큰화 및 단어 사전 구축\n",
    "from konlpy.tag import *\n",
    "from collections import Counter\n",
    "\n",
    "## 단어사전을 만드는 함수\n",
    "def build_vocab(corpus, n_vocab, special_tokens): #n_vocab은 최대 사용할 단어개수\n",
    "    counter = Counter()\n",
    "    for tokens in corpus:\n",
    "        counter.update(tokens)\n",
    "    vocab = special_tokens\n",
    "    for token, count in counter.most_common(n_vocab): # 가장 많이 등장한 순서대로 상위 n_vocab개의 단어 반환\n",
    "        vocab.append(token)\n",
    "    return vocab"
   ]
  },
  {
   "cell_type": "code",
   "execution_count": 241,
   "metadata": {},
   "outputs": [],
   "source": [
    "## 불용어 리스트 불러오는 함수\n",
    "STOP_PATH = r'C:\\Users\\KDP-14\\Desktop\\VSCode\\KDT6\\FLASK_AI\\mini_project\\jang_stopwords.txt'\n",
    "\n",
    "def make_stopwords(STOP_PATH):\n",
    "    with open(STOP_PATH, 'r', encoding='utf-8') as f:\n",
    "        stopwords = f.read().splitlines() # 문장단위로\n",
    "    return set(stopwords)"
   ]
  },
  {
   "cell_type": "code",
   "execution_count": 242,
   "metadata": {},
   "outputs": [],
   "source": [
    "stopwords = make_stopwords(STOP_PATH)"
   ]
  },
  {
   "cell_type": "code",
   "execution_count": 243,
   "metadata": {},
   "outputs": [
    {
     "data": {
      "text/html": [
       "<div>\n",
       "<style scoped>\n",
       "    .dataframe tbody tr th:only-of-type {\n",
       "        vertical-align: middle;\n",
       "    }\n",
       "\n",
       "    .dataframe tbody tr th {\n",
       "        vertical-align: top;\n",
       "    }\n",
       "\n",
       "    .dataframe thead th {\n",
       "        text-align: right;\n",
       "    }\n",
       "</style>\n",
       "<table border=\"1\" class=\"dataframe\">\n",
       "  <thead>\n",
       "    <tr style=\"text-align: right;\">\n",
       "      <th></th>\n",
       "      <th>id</th>\n",
       "      <th>title</th>\n",
       "      <th>author</th>\n",
       "      <th>genre</th>\n",
       "      <th>description</th>\n",
       "      <th>rating</th>\n",
       "      <th>date</th>\n",
       "      <th>completed</th>\n",
       "      <th>age</th>\n",
       "      <th>free</th>\n",
       "      <th>link</th>\n",
       "      <th>target</th>\n",
       "    </tr>\n",
       "  </thead>\n",
       "  <tbody>\n",
       "    <tr>\n",
       "      <th>1797</th>\n",
       "      <td>792694</td>\n",
       "      <td>폰투스 : 극야2</td>\n",
       "      <td>운 / 한큰빛</td>\n",
       "      <td>스토리, 스릴러</td>\n",
       "      <td>극야  시즌 남극 글로벌 과학기지의 참사  주 후 미국 국적 연구쇄빙선  폰투스 호...</td>\n",
       "      <td>9.94</td>\n",
       "      <td>2022.12.24 22:56</td>\n",
       "      <td>0</td>\n",
       "      <td>15세 이용가</td>\n",
       "      <td>0</td>\n",
       "      <td>https://comic.naver.com/webtoon/list?titleId=7...</td>\n",
       "      <td>1</td>\n",
       "    </tr>\n",
       "    <tr>\n",
       "      <th>959</th>\n",
       "      <td>785749</td>\n",
       "      <td>슈퍼스타 천대리</td>\n",
       "      <td>박경원 / 이재국 / Do8</td>\n",
       "      <td>스토리, 감성</td>\n",
       "      <td>대한민국 직장인이라면 포기한 꿈 하나 정도는 있잖아요   그래  누구에게나 그럴듯한...</td>\n",
       "      <td>9.82</td>\n",
       "      <td>2022.12.25 22:59</td>\n",
       "      <td>0</td>\n",
       "      <td>전체연령가</td>\n",
       "      <td>0</td>\n",
       "      <td>https://comic.naver.com/webtoon/list?titleId=7...</td>\n",
       "      <td>0</td>\n",
       "    </tr>\n",
       "    <tr>\n",
       "      <th>1640</th>\n",
       "      <td>787465</td>\n",
       "      <td>철수와 영희 이야기</td>\n",
       "      <td>울</td>\n",
       "      <td>스토리, 로맨스</td>\n",
       "      <td>너 정체가 뭐야  어느 날 갑자기 나타난 짝꿍 우영희  사람이 아닌 것 같은데  감...</td>\n",
       "      <td>9.93</td>\n",
       "      <td>2022.12.24 22:54</td>\n",
       "      <td>0</td>\n",
       "      <td>전체연령가</td>\n",
       "      <td>0</td>\n",
       "      <td>https://comic.naver.com/webtoon/list?titleId=7...</td>\n",
       "      <td>0</td>\n",
       "    </tr>\n",
       "    <tr>\n",
       "      <th>1931</th>\n",
       "      <td>768471</td>\n",
       "      <td>혼모노트</td>\n",
       "      <td>민수상</td>\n",
       "      <td>스토리, 판타지</td>\n",
       "      <td>평온했던  교실 안에 갑자기 트럭이 날아 오더니  순식간에 반 아이들은 이세계로 순...</td>\n",
       "      <td>9.32</td>\n",
       "      <td>2022.10.26 23:00</td>\n",
       "      <td>1</td>\n",
       "      <td>12세 이용가</td>\n",
       "      <td>0</td>\n",
       "      <td>https://comic.naver.com/webtoon/list?titleId=7...</td>\n",
       "      <td>1</td>\n",
       "    </tr>\n",
       "    <tr>\n",
       "      <th>1218</th>\n",
       "      <td>58219</td>\n",
       "      <td>연옥님이 보고계셔</td>\n",
       "      <td>억수씨</td>\n",
       "      <td>스토리, 드라마</td>\n",
       "      <td>연옥님은언제 어디서나 어떻게든 보고 있습니다</td>\n",
       "      <td>9.84</td>\n",
       "      <td>2010.06.17 00:16</td>\n",
       "      <td>1</td>\n",
       "      <td>12세 이용가</td>\n",
       "      <td>0</td>\n",
       "      <td>https://comic.naver.com/webtoon/list?titleId=5...</td>\n",
       "      <td>1</td>\n",
       "    </tr>\n",
       "    <tr>\n",
       "      <th>...</th>\n",
       "      <td>...</td>\n",
       "      <td>...</td>\n",
       "      <td>...</td>\n",
       "      <td>...</td>\n",
       "      <td>...</td>\n",
       "      <td>...</td>\n",
       "      <td>...</td>\n",
       "      <td>...</td>\n",
       "      <td>...</td>\n",
       "      <td>...</td>\n",
       "      <td>...</td>\n",
       "      <td>...</td>\n",
       "    </tr>\n",
       "    <tr>\n",
       "      <th>615</th>\n",
       "      <td>737020</td>\n",
       "      <td>물레</td>\n",
       "      <td>고긱</td>\n",
       "      <td>스토리, 드라마</td>\n",
       "      <td>첫 술자리에서 전과 선언 이거 내 얘기 아니지</td>\n",
       "      <td>9.82</td>\n",
       "      <td>2020.11.15 23:17</td>\n",
       "      <td>1</td>\n",
       "      <td>12세 이용가</td>\n",
       "      <td>1</td>\n",
       "      <td>https://comic.naver.com/webtoon/list?titleId=7...</td>\n",
       "      <td>1</td>\n",
       "    </tr>\n",
       "    <tr>\n",
       "      <th>921</th>\n",
       "      <td>800585</td>\n",
       "      <td>소름일기</td>\n",
       "      <td>siAm</td>\n",
       "      <td>옴니버스, 스릴러</td>\n",
       "      <td>내 눈 에는 보이지만 남들에게는 보이지 않는  그것 들 어릴 적부터 남들과는 조금 ...</td>\n",
       "      <td>9.85</td>\n",
       "      <td>2022.12.29 22:56</td>\n",
       "      <td>0</td>\n",
       "      <td>15세 이용가</td>\n",
       "      <td>0</td>\n",
       "      <td>https://comic.naver.com/webtoon/list?titleId=8...</td>\n",
       "      <td>1</td>\n",
       "    </tr>\n",
       "    <tr>\n",
       "      <th>1447</th>\n",
       "      <td>733766</td>\n",
       "      <td>인생존망</td>\n",
       "      <td>박태준 / 전선욱</td>\n",
       "      <td>에피소드, 액션</td>\n",
       "      <td>학교 다닐때 날 지독하게 괴롭힌 너 때문에 난 인생이 망했어 그런데 왜 넌 안 망하...</td>\n",
       "      <td>9.85</td>\n",
       "      <td>2020.12.06 23:24</td>\n",
       "      <td>1</td>\n",
       "      <td>15세 이용가</td>\n",
       "      <td>1</td>\n",
       "      <td>https://comic.naver.com/webtoon/list?titleId=7...</td>\n",
       "      <td>1</td>\n",
       "    </tr>\n",
       "    <tr>\n",
       "      <th>990</th>\n",
       "      <td>668103</td>\n",
       "      <td>시노딕</td>\n",
       "      <td>현욱</td>\n",
       "      <td>스토리, 판타지</td>\n",
       "      <td>달이 사라진 세계사냥꾼과 괴물의 이야기</td>\n",
       "      <td>9.93</td>\n",
       "      <td>2020.07.23 00:00</td>\n",
       "      <td>1</td>\n",
       "      <td>15세 이용가</td>\n",
       "      <td>1</td>\n",
       "      <td>https://comic.naver.com/webtoon/list?titleId=6...</td>\n",
       "      <td>1</td>\n",
       "    </tr>\n",
       "    <tr>\n",
       "      <th>1355</th>\n",
       "      <td>697535</td>\n",
       "      <td>웅이는 배고파</td>\n",
       "      <td>박웅</td>\n",
       "      <td>에피소드, 일상</td>\n",
       "      <td>배고픈 웅이의 먹부림 이야기</td>\n",
       "      <td>9.74</td>\n",
       "      <td>2020.10.17 23:20</td>\n",
       "      <td>1</td>\n",
       "      <td>12세 이용가</td>\n",
       "      <td>1</td>\n",
       "      <td>https://comic.naver.com/webtoon/list?titleId=6...</td>\n",
       "      <td>1</td>\n",
       "    </tr>\n",
       "  </tbody>\n",
       "</table>\n",
       "<p>1739 rows × 12 columns</p>\n",
       "</div>"
      ],
      "text/plain": [
       "          id       title           author      genre  \\\n",
       "1797  792694   폰투스 : 극야2          운 / 한큰빛   스토리, 스릴러   \n",
       "959   785749    슈퍼스타 천대리  박경원 / 이재국 / Do8    스토리, 감성   \n",
       "1640  787465  철수와 영희 이야기                울   스토리, 로맨스   \n",
       "1931  768471        혼모노트              민수상   스토리, 판타지   \n",
       "1218   58219   연옥님이 보고계셔              억수씨   스토리, 드라마   \n",
       "...      ...         ...              ...        ...   \n",
       "615   737020          물레               고긱   스토리, 드라마   \n",
       "921   800585        소름일기             siAm  옴니버스, 스릴러   \n",
       "1447  733766        인생존망        박태준 / 전선욱   에피소드, 액션   \n",
       "990   668103         시노딕               현욱   스토리, 판타지   \n",
       "1355  697535     웅이는 배고파               박웅   에피소드, 일상   \n",
       "\n",
       "                                            description  rating  \\\n",
       "1797  극야  시즌 남극 글로벌 과학기지의 참사  주 후 미국 국적 연구쇄빙선  폰투스 호...    9.94   \n",
       "959   대한민국 직장인이라면 포기한 꿈 하나 정도는 있잖아요   그래  누구에게나 그럴듯한...    9.82   \n",
       "1640  너 정체가 뭐야  어느 날 갑자기 나타난 짝꿍 우영희  사람이 아닌 것 같은데  감...    9.93   \n",
       "1931  평온했던  교실 안에 갑자기 트럭이 날아 오더니  순식간에 반 아이들은 이세계로 순...    9.32   \n",
       "1218                           연옥님은언제 어디서나 어떻게든 보고 있습니다    9.84   \n",
       "...                                                 ...     ...   \n",
       "615                           첫 술자리에서 전과 선언 이거 내 얘기 아니지    9.82   \n",
       "921   내 눈 에는 보이지만 남들에게는 보이지 않는  그것 들 어릴 적부터 남들과는 조금 ...    9.85   \n",
       "1447  학교 다닐때 날 지독하게 괴롭힌 너 때문에 난 인생이 망했어 그런데 왜 넌 안 망하...    9.85   \n",
       "990                               달이 사라진 세계사냥꾼과 괴물의 이야기    9.93   \n",
       "1355                                    배고픈 웅이의 먹부림 이야기    9.74   \n",
       "\n",
       "                  date  completed      age  free  \\\n",
       "1797  2022.12.24 22:56          0  15세 이용가     0   \n",
       "959   2022.12.25 22:59          0    전체연령가     0   \n",
       "1640  2022.12.24 22:54          0    전체연령가     0   \n",
       "1931  2022.10.26 23:00          1  12세 이용가     0   \n",
       "1218  2010.06.17 00:16          1  12세 이용가     0   \n",
       "...                ...        ...      ...   ...   \n",
       "615   2020.11.15 23:17          1  12세 이용가     1   \n",
       "921   2022.12.29 22:56          0  15세 이용가     0   \n",
       "1447  2020.12.06 23:24          1  15세 이용가     1   \n",
       "990   2020.07.23 00:00          1  15세 이용가     1   \n",
       "1355  2020.10.17 23:20          1  12세 이용가     1   \n",
       "\n",
       "                                                   link  target  \n",
       "1797  https://comic.naver.com/webtoon/list?titleId=7...       1  \n",
       "959   https://comic.naver.com/webtoon/list?titleId=7...       0  \n",
       "1640  https://comic.naver.com/webtoon/list?titleId=7...       0  \n",
       "1931  https://comic.naver.com/webtoon/list?titleId=7...       1  \n",
       "1218  https://comic.naver.com/webtoon/list?titleId=5...       1  \n",
       "...                                                 ...     ...  \n",
       "615   https://comic.naver.com/webtoon/list?titleId=7...       1  \n",
       "921   https://comic.naver.com/webtoon/list?titleId=8...       1  \n",
       "1447  https://comic.naver.com/webtoon/list?titleId=7...       1  \n",
       "990   https://comic.naver.com/webtoon/list?titleId=6...       1  \n",
       "1355  https://comic.naver.com/webtoon/list?titleId=6...       1  \n",
       "\n",
       "[1739 rows x 12 columns]"
      ]
     },
     "execution_count": 243,
     "metadata": {},
     "output_type": "execute_result"
    }
   ],
   "source": [
    "train"
   ]
  },
  {
   "cell_type": "code",
   "execution_count": 244,
   "metadata": {},
   "outputs": [
    {
     "name": "stdout",
     "output_type": "stream",
     "text": [
      "['<pad>', '<unk>', '수', '시작', '이야기', '사람', '그녀', '날', '작가', '남자']\n",
      "7486\n"
     ]
    }
   ],
   "source": [
    "tokenizer = Okt()\n",
    "train_tokens = [[token for token in tokenizer.nouns(review) if token not in stopwords ] for review in train.description]   \n",
    "test_tokens = [[token for token in tokenizer.nouns(review) if token not in stopwords] for review in test.description]\n",
    "\n",
    "vocab = build_vocab(corpus=train_tokens, n_vocab=10000, special_tokens=[\"<pad>\", \"<unk>\"])\n",
    "token_to_id = {token: idx for idx, token in enumerate(vocab)} \n",
    "id_to_token = {idx: token for idx, token in enumerate(vocab)} \n",
    "\n",
    "print(vocab[:10])\n",
    "print(len(vocab))"
   ]
  },
  {
   "cell_type": "code",
   "execution_count": 245,
   "metadata": {},
   "outputs": [
    {
     "data": {
      "image/png": "[encoded data removed]",
      "text/plain": [
       "<Figure size 640x480 with 1 Axes>"
      ]
     },
     "metadata": {},
     "output_type": "display_data"
    }
   ],
   "source": [
    "datalen = [len(tokens) for tokens in train_tokens]\n",
    "plt.hist(datalen,bins=4)\n",
    "plt.show()"
   ]
  },
  {
   "cell_type": "code",
   "execution_count": 246,
   "metadata": {},
   "outputs": [],
   "source": [
    "## 정수 인코딩 및 패딩\n",
    "import numpy as np\n",
    "# 패딩까지 해주는 함수\n",
    "def pad_sequences(sequences, max_length, pad_value):  \n",
    "    result = list()\n",
    "    for sequence in sequences:\n",
    "        sequence = sequence[:max_length] \n",
    "        pad_length = max_length - len(sequence)\n",
    "        padded_sequence = sequence + [pad_value] * pad_length   \n",
    "        result.append(padded_sequence)\n",
    "    return np.asarray(result)   "
   ]
  },
  {
   "cell_type": "code",
   "execution_count": 247,
   "metadata": {},
   "outputs": [
    {
     "name": "stdout",
     "output_type": "stream",
     "text": [
      "[3731  296  950  951  807 1747 2402  376  694 2403 1129 3732 3733  494\n",
      "  807 1747 2402  406  551 3734 3735 3736  621  145 3737 3738 3739 3740\n",
      " 3741  215]\n",
      "[1688 1623   91   78  131  541 1316 1287 6526 1195   83   74    0    0\n",
      "    0    0    0    0    0    0    0    0    0    0    0    0    0    0\n",
      "    0    0]\n"
     ]
    }
   ],
   "source": [
    "unk_id = token_to_id[\"<unk>\"]   \n",
    "train_ids = [[token_to_id.get(token, unk_id) for token in review] for review in train_tokens]  \n",
    "test_ids = [[token_to_id.get(token, unk_id) for token in review] for review in test_tokens]\n",
    "\n",
    "max_length = 30\n",
    "pad_id = token_to_id[\"<pad>\"]   \n",
    "train_ids = pad_sequences(train_ids, max_length, pad_id)\n",
    "test_ids = pad_sequences(test_ids, max_length, pad_id)\n",
    "\n",
    "print(train_ids[0])\n",
    "print(test_ids[0])"
   ]
  },
  {
   "cell_type": "code",
   "execution_count": 248,
   "metadata": {},
   "outputs": [],
   "source": [
    "## 데이터로더\n",
    "import torch\n",
    "from torch.utils.data import TensorDataset, DataLoader\n",
    "\n",
    "train_ids = torch.tensor(train_ids)\n",
    "test_ids = torch.tensor(test_ids)\n",
    "\n",
    "train_labels = torch.tensor(train.target.values, dtype=torch.float32)\n",
    "test_labels = torch.tensor(test.target.values, dtype=torch.float32)\n",
    "\n",
    "train_dataset = TensorDataset(train_ids, train_labels)\n",
    "test_dataset = TensorDataset(test_ids, test_labels)\n",
    "\n",
    "train_loader = DataLoader(train_dataset, batch_size=16, shuffle=True)\n",
    "test_loader = DataLoader(test_dataset, batch_size=16, shuffle=False)"
   ]
  },
  {
   "cell_type": "code",
   "execution_count": 249,
   "metadata": {},
   "outputs": [
    {
     "name": "stdout",
     "output_type": "stream",
     "text": [
      "tensor([[ 166,   24,  913, 4859, 1415, 4860,  109, 2145, 2030,  250, 1630, 3027,\n",
      "           66,  640,  273, 2920,  142,  649,    7,   54,  188,  259,  112, 2145,\n",
      "           71,  994, 1191,    6,  165, 2146],\n",
      "        [ 539,  539, 5773,  539,   18,   57,   10,  410,  410,    5,  539,   18,\n",
      "            5,  539,   18,    5,  539,   18,   13,   62,  539, 5774, 1092,  539,\n",
      "          404, 1964,   10, 1805, 3368, 1579],\n",
      "        [1346,  277,   10, 1507,  408,    0,    0,    0,    0,    0,    0,    0,\n",
      "            0,    0,    0,    0,    0,    0,    0,    0,    0,    0,    0,    0,\n",
      "            0,    0,    0,    0,    0,    0],\n",
      "        [ 497, 2309, 2233,  450, 1650,  420, 2922,    0,    0,    0,    0,    0,\n",
      "            0,    0,    0,    0,    0,    0,    0,    0,    0,    0,    0,    0,\n",
      "            0,    0,    0,    0,    0,    0],\n",
      "        [ 105,   86,  396, 1301, 5894, 3404, 2313,  377, 2313,   21,  341,  366,\n",
      "           24,  476, 1941, 2313,  218, 1340, 2314, 1663,  545,    0,    0,    0,\n",
      "            0,    0,    0,    0,    0,    0],\n",
      "        [ 160, 1726,  417, 1116,  448,  778, 2266, 1365,   15,  276, 3693,    7,\n",
      "          668,  185,    9,  437,    3,  778, 2266, 1365, 1580, 1014,  632,    9,\n",
      "          437, 7174,  240, 3693,  668,  185],\n",
      "        [5859, 3246, 5860,  724,  190, 5861,   34, 1911,  996,    0,    0,    0,\n",
      "            0,    0,    0,    0,    0,    0,    0,    0,    0,    0,    0,    0,\n",
      "            0,    0,    0,    0,    0,    0],\n",
      "        [  90, 2231,  627,   90,  725,   11, 1916,  725,    9,  725,  383,   25,\n",
      "           43, 3194,    5,  424,  725, 2801,    0,    0,    0,    0,    0,    0,\n",
      "            0,    0,    0,    0,    0,    0],\n",
      "        [ 253,  560, 6706,  178, 2158, 2159,    0,    0,    0,    0,    0,    0,\n",
      "            0,    0,    0,    0,    0,    0,    0,    0,    0,    0,    0,    0,\n",
      "            0,    0,    0,    0,    0,    0],\n",
      "        [ 114, 1050,   65, 1813,  418,   33,   23,  330,   37,   39,  421,  151,\n",
      "           46,   65, 1813,  115,  107,  275,   75,   21,  275, 1706,  275,   50,\n",
      "            0,    0,    0,    0,    0,    0],\n",
      "        [ 108,    5,  388,    4,  354,    0,    0,    0,    0,    0,    0,    0,\n",
      "            0,    0,    0,    0,    0,    0,    0,    0,    0,    0,    0,    0,\n",
      "            0,    0,    0,    0,    0,    0],\n",
      "        [6198, 1234, 3491,   38, 2042,   32,  315,  807, 6199,    0,    0,    0,\n",
      "            0,    0,    0,    0,    0,    0,    0,    0,    0,    0,    0,    0,\n",
      "            0,    0,    0,    0,    0,    0],\n",
      "        [ 373, 1425,  463,   32,   62,  286, 1432,   12,   32,   31,    2, 1932,\n",
      "         1564, 5051,   26,  650,    0,    0,    0,    0,    0,    0,    0,    0,\n",
      "            0,    0,    0,    0,    0,    0],\n",
      "        [1550, 1239,   73,   21,  115,    2,   73, 1550, 1170, 4299, 1550,  763,\n",
      "            4, 1170,    0,    0,    0,    0,    0,    0,    0,    0,    0,    0,\n",
      "            0,    0,    0,    0,    0,    0],\n",
      "        [1512,  105,  272,  337,   36,  247, 5068, 3066,   94, 2064, 5069,  956,\n",
      "         5070, 1906,    7, 5071,   25,  655,  544, 1637,  655,  544, 5072, 5073,\n",
      "          544,  323,  785,  199,    0,    0],\n",
      "        [ 171,   47,  490,  503,    8,  837,  911,    9,  806, 1178,   18, 6525,\n",
      "          248,    5,    5,  114,  806, 6526,  597,    4,    0,    0,    0,    0,\n",
      "            0,    0,    0,    0,    0,    0]], dtype=torch.int32)\n",
      "tensor([1., 1., 1., 1., 0., 1., 1., 0., 0., 0., 0., 1., 0., 0., 1., 1.])\n"
     ]
    }
   ],
   "source": [
    "for feature, label in train_loader:\n",
    "    print(feature)\n",
    "    print(label)\n",
    "    break"
   ]
  },
  {
   "cell_type": "code",
   "execution_count": 250,
   "metadata": {},
   "outputs": [],
   "source": [
    "# 문장 분류하는 모델\n",
    "class SentenceClassifier(nn.Module):\n",
    "    def __init__(self, n_vocab, hidden_dim, embedding_dim, n_layers, n_classes ,dropout=0.5, bidirectional=True, model_type=\"lstm\"):\n",
    "        super().__init__()  # 부모클래스 상속\n",
    "\n",
    "        self.embedding = nn.Embedding(num_embeddings=n_vocab, embedding_dim=embedding_dim, padding_idx=0)\n",
    "\n",
    "        # rnn모델 일 경우\n",
    "        if model_type == 'rnn':\n",
    "            self.model = nn.RNN(\n",
    "                input_size=embedding_dim, hidden_size=hidden_dim, num_layers=n_layers, bidirectional=bidirectional, dropout=dropout, batch_first=True\n",
    "            )\n",
    "        # lstm모델 일 경우\n",
    "        elif model_type == 'lstm':\n",
    "            self.model = nn.LSTM(\n",
    "                input_size=embedding_dim, hidden_size=hidden_dim, num_layers=n_layers, bidirectional=bidirectional, dropout=dropout, batch_first=True\n",
    "            )\n",
    "\n",
    "        # bidirectional은 양방향성을 의미하는 파라미터\n",
    "        if bidirectional:\n",
    "            self.classifier = nn.Linear(hidden_dim * 2, n_classes)   # 양방향일때 타임스탭에서 양방향의 정보(순방향,역방향)의 출력들을 결합하여 분류기에 전달\n",
    "        else:\n",
    "            self.classifier = nn.Linear(hidden_dim, n_classes)\n",
    "        self.dropout = nn.Dropout(dropout)\n",
    "\n",
    "    def forward(self, inputs):\n",
    "        embeddings = self.embedding(inputs)\n",
    "        output, _ = self.model(embeddings) \n",
    "        last_output = output[:, -1, :]\n",
    "        last_output = self.dropout(last_output)\n",
    "        logits = self.classifier(last_output)\n",
    "        return logits"
   ]
  },
  {
   "cell_type": "code",
   "execution_count": 251,
   "metadata": {},
   "outputs": [],
   "source": [
    "from torch.optim.lr_scheduler import ReduceLROnPlateau"
   ]
  },
  {
   "cell_type": "code",
   "execution_count": 252,
   "metadata": {},
   "outputs": [],
   "source": [
    "## 손실 함수와 최적화 함수 정의\n",
    "from torch import optim\n",
    "LR = 0.001\n",
    "n_vocab = len(token_to_id)   # 단어사전의 크기\n",
    "hidden_dim = 128     # 은닉 사태의 크기\n",
    "embedding_dim = 128   #임베딩 벡터의 차원 128차원으로 사용\n",
    "n_layers = 7     # 7층\n",
    "n_classes = 1 # 2진 분류라 1\n",
    "\n",
    "device = \"cuda\" if torch.cuda.is_available() else \"cpu\"\n",
    "classifier = SentenceClassifier(n_vocab=n_vocab, hidden_dim=hidden_dim, embedding_dim=embedding_dim, n_layers=n_layers, n_classes=n_classes,model_type='rnn').to(device)\n",
    "criterion = nn.BCEWithLogitsLoss().to(device)   \n",
    "optimizer = optim.Adam(classifier.parameters(), lr=LR)\n",
    "scheduler = ReduceLROnPlateau(optimizer, mode='min', factor=0.1, patience=5)"
   ]
  },
  {
   "cell_type": "code",
   "execution_count": 253,
   "metadata": {},
   "outputs": [],
   "source": [
    "# 모델 학습하는 함수\n",
    "def train(model, datasets, criterion, optimizer, device, interval):\n",
    "    model.train()\n",
    "    losses = list()\n",
    "\n",
    "    for step, (input_ids, labels) in enumerate(datasets):\n",
    "        input_ids = input_ids.to(device)\n",
    "        labels = labels.to(device).unsqueeze(1)\n",
    "\n",
    "        logits = model(input_ids)\n",
    "        loss = criterion(logits, labels)\n",
    "        losses.append(loss.item())\n",
    "\n",
    "        optimizer.zero_grad()\n",
    "        loss.backward()\n",
    "        optimizer.step()\n",
    "\n",
    "        if step%interval == 0:\n",
    "            print(f'Train Loss {step} : {np.mean(losses)}')"
   ]
  },
  {
   "cell_type": "code",
   "execution_count": 254,
   "metadata": {},
   "outputs": [],
   "source": [
    "# 모델 테스트하는 함수\n",
    "def test1(model, datasets, criterion, device):\n",
    "    model.eval()\n",
    "    losses = list()\n",
    "    corrects = list()\n",
    "\n",
    "    for step, (input_ids, labels) in enumerate(datasets):   \n",
    "        input_ids = input_ids.to(device)\n",
    "        labels = labels.to(device).unsqueeze(1)\n",
    "\n",
    "        logits = model(input_ids)  \n",
    "        loss = criterion(logits, labels)\n",
    "        losses.append(loss.item())\n",
    "        yhat = torch.sigmoid(logits)>.5  \n",
    "        corrects.extend(torch.eq(yhat, labels).cpu().tolist())        \n",
    "\n",
    "        val_loss = np.mean(losses)\n",
    "        val_accuracy = np.mean(corrects)\n",
    "\n",
    "    print(f\"Val Loss : {val_loss}, Val Accuracy : {val_accuracy}\")\n",
    "    return val_loss\n"
   ]
  },
  {
   "cell_type": "code",
   "execution_count": 255,
   "metadata": {},
   "outputs": [
    {
     "name": "stdout",
     "output_type": "stream",
     "text": [
      "epoch : 0\n",
      "Train Loss 0 : 0.704460859298706\n",
      "Val Loss : 0.6579121557565836, Val Accuracy : 0.6010362694300518\n",
      "epoch : 1\n",
      "Train Loss 0 : 0.7220134139060974\n",
      "Val Loss : 0.7043600540894729, Val Accuracy : 0.40414507772020725\n",
      "epoch : 2\n",
      "Train Loss 0 : 0.7646486759185791\n",
      "Val Loss : 0.6839697957038879, Val Accuracy : 0.5906735751295337\n",
      "epoch : 3\n",
      "Train Loss 0 : 0.7086218595504761\n",
      "Val Loss : 0.6668956554852999, Val Accuracy : 0.5906735751295337\n",
      "epoch : 4\n",
      "Train Loss 0 : 0.6878207325935364\n",
      "Val Loss : 0.6683626266626211, Val Accuracy : 0.5751295336787565\n",
      "epoch : 5\n",
      "Train Loss 0 : 0.7045061588287354\n",
      "Val Loss : 0.6648788108275487, Val Accuracy : 0.5699481865284974\n",
      "epoch : 6\n",
      "Train Loss 0 : 0.6697595119476318\n",
      "Val Loss : 0.6792272833677439, Val Accuracy : 0.5544041450777202\n",
      "epoch : 7\n",
      "Train Loss 0 : 0.6596125960350037\n",
      "Val Loss : 0.6741837996702927, Val Accuracy : 0.5699481865284974\n",
      "epoch : 8\n",
      "Train Loss 0 : 0.6901621222496033\n",
      "Val Loss : 0.6716380898769085, Val Accuracy : 0.5906735751295337\n",
      "epoch : 9\n",
      "Train Loss 0 : 0.6720830202102661\n",
      "Val Loss : 0.6744233782474811, Val Accuracy : 0.5492227979274611\n",
      "epoch : 10\n",
      "Train Loss 0 : 0.6688397526741028\n",
      "Val Loss : 0.6675554422231821, Val Accuracy : 0.5803108808290155\n",
      "epoch : 11\n",
      "Train Loss 0 : 0.691476583480835\n",
      "Val Loss : 0.6753140275294964, Val Accuracy : 0.5751295336787565\n",
      "epoch : 12\n",
      "Train Loss 0 : 0.6884457468986511\n",
      "Val Loss : 0.6825413268346053, Val Accuracy : 0.5284974093264249\n",
      "epoch : 13\n",
      "Train Loss 0 : 0.7139685153961182\n",
      "Val Loss : 0.6803986980364873, Val Accuracy : 0.5647668393782384\n",
      "epoch : 14\n",
      "Train Loss 0 : 0.5922958850860596\n",
      "Val Loss : 0.680214510514186, Val Accuracy : 0.5751295336787565\n",
      "epoch : 15\n",
      "Train Loss 0 : 0.5323256850242615\n",
      "Val Loss : 0.6811476762478168, Val Accuracy : 0.5906735751295337\n",
      "epoch : 16\n",
      "Train Loss 0 : 0.7022171020507812\n",
      "Val Loss : 0.6837887580578144, Val Accuracy : 0.5544041450777202\n",
      "epoch : 17\n",
      "Train Loss 0 : 0.6421828269958496\n",
      "Val Loss : 0.6848941720449008, Val Accuracy : 0.5906735751295337\n",
      "epoch : 18\n",
      "Train Loss 0 : 0.5924267172813416\n",
      "Val Loss : 0.6858609639681302, Val Accuracy : 0.5854922279792746\n",
      "epoch : 19\n",
      "Train Loss 0 : 0.6598892211914062\n",
      "Val Loss : 0.6861485976439256, Val Accuracy : 0.5854922279792746\n"
     ]
    }
   ],
   "source": [
    "epochs = 20\n",
    "interval = 500   \n",
    "\n",
    "for epoch in range(epochs):\n",
    "    print(f'epoch : {epoch}')\n",
    "    train(classifier, train_loader, criterion, optimizer, device, interval)\n",
    "    val_loss = test1(classifier, test_loader, criterion, device)\n",
    "    scheduler.step(val_loss)"
   ]
  },
  {
   "cell_type": "code",
   "execution_count": 256,
   "metadata": {},
   "outputs": [],
   "source": [
    "torch.save(classifier.state_dict(), f'best_model3_state_dict().pth')"
   ]
  },
  {
   "cell_type": "code",
   "execution_count": 257,
   "metadata": {},
   "outputs": [],
   "source": [
    "torch.save(classifier, f'best_model3.pth')"
   ]
  },
  {
   "cell_type": "code",
   "execution_count": 258,
   "metadata": {},
   "outputs": [],
   "source": [
    "device = \"cuda\" if torch.cuda.is_available() else \"cpu\"\n",
    "model=torch.load('best_model3.pth', weights_only=False).to(device)"
   ]
  },
  {
   "cell_type": "code",
   "execution_count": 289,
   "metadata": {},
   "outputs": [],
   "source": [
    "new_reviews = [\"혼란의 도가니인 인생에 잘 모르겠는 것 투성이지만, 오늘도 그저 슬렁슬렁 살아가 본다.고양이들과 함께 창밖 구경, 꽃 구경을 하며 울고 웃고 먹고 마시는 방구석 인생.올해로 연재 20년차를 맞이하는, 낢의 미미하고 사소한 이야기.\"]"
   ]
  },
  {
   "cell_type": "code",
   "execution_count": 290,
   "metadata": {},
   "outputs": [],
   "source": [
    "new_reviews = [re_text(review) for review in new_reviews]\n",
    "new_tokens = [[token for token in tokenizer.nouns(review) if token not in stopwords] for review in new_reviews]\n",
    "new_ids = [[token_to_id.get(token, unk_id) for token in tokens] for tokens in new_tokens]\n",
    "new_ids_padded = pad_sequences(new_ids, max_length, pad_id)\n",
    "new_ids_tensor = torch.tensor(new_ids_padded).to(device)"
   ]
  },
  {
   "cell_type": "code",
   "execution_count": 291,
   "metadata": {},
   "outputs": [
    {
     "data": {
      "text/plain": [
       "array([[ 257, 7411,   40, 2214,  216,  187,    1, 7473,  503, 7473,  478,\n",
       "         185,  984,   40, 2373,  393, 1169,  331,    4,    0,    0,    0,\n",
       "           0,    0,    0,    0,    0,    0,    0,    0]])"
      ]
     },
     "execution_count": 291,
     "metadata": {},
     "output_type": "execute_result"
    }
   ],
   "source": [
    "new_ids_padded"
   ]
  },
  {
   "cell_type": "code",
   "execution_count": 292,
   "metadata": {},
   "outputs": [
    {
     "name": "stdout",
     "output_type": "stream",
     "text": [
      "리뷰: 혼란의 도가니인 인생에 잘 모르겠는 것 투성이지만  오늘도 그저 슬렁슬렁 살아가 본다 고양이들과 함께 창밖 구경  꽃 구경을 하며 울고 웃고 먹고 마시는 방구석 인생 올해로 연재  년차를 맞이하는  낢의 미미하고 사소한 이야기\n",
      "예측된 결과: 전체 이용가\n"
     ]
    }
   ],
   "source": [
    "## 예측\n",
    "model.eval()\n",
    "with torch.no_grad():\n",
    "    outputs = model(new_ids_tensor)\n",
    "    predictions = torch.sigmoid(outputs)\n",
    "\n",
    "# 9. 예측 결과 출력 (0.5 이상이면 긍정, 미만이면 부정)\n",
    "for i, review in enumerate(new_reviews):\n",
    "    prediction = predictions[i]\n",
    "    prediction = 1 if predictions[i] >= 0.5 else 0\n",
    "    print(f\"리뷰: {review}\")\n",
    "    # print(prediction)\n",
    "    print(f\"예측된 결과: {'나이 제한 필요' if prediction == 1 else '전체 이용가'}\")"
   ]
  },
  {
   "cell_type": "code",
   "execution_count": 263,
   "metadata": {},
   "outputs": [
    {
     "name": "stdout",
     "output_type": "stream",
     "text": [
      "단어 사전이 저장되었습니다.\n"
     ]
    }
   ],
   "source": [
    "import pickle\n",
    "# 단어 사전 저장\n",
    "with open('vocab.pkl', 'wb') as f:\n",
    "    pickle.dump(vocab, f)\n",
    "\n",
    "print(\"단어 사전이 저장되었습니다.\")"
   ]
  },
  {
   "cell_type": "code",
   "execution_count": 264,
   "metadata": {},
   "outputs": [
    {
     "name": "stdout",
     "output_type": "stream",
     "text": [
      "단어 사전이 불러와졌습니다.\n",
      "['<pad>', '<unk>', '수', '시작', '이야기', '사람', '그녀', '날', '작가', '남자', '세상', '사랑', '내', '모든', '속', '살', '곳', '로맨스', '인간', '게임', '알', '다시', '전', '두', '학교', '위', '친구', '세계', '앞', '소녀', '소년', '주인공', '만화', '삶', '연애', '눈', '사건', '결혼', '비밀', '생활', '인생', '집', '판타지', '마음', '안', '일상', '뒤', '웹툰', '꿈', '신작', '말', '못', '줄', '운명', '정체', '더', '여자', '능력', '남', '온', '몸', '과거', '존재', '갑자기', '악마', '건', '최고', '이제', '귀신', '세', '현실', '죽음', '기억', '순간', '끝', '제안', '드라마', '가족', '중', '기', '복수', '향', '진짜', '액션', '선', '생각', '반', '고등학교', '사이', '사실', '최강', '고등학생', '게', '인기', '사고', '채', '남편', '위기', '밤', '싸움', '미래', '전설', '하루', '대한민국', '딸', '시절', '천재', '계약', '지금', '생', '점점', '소설', '준', '모습', '서로', '번', '힘', '외모', '적', '뭐', '목숨', '걸', '돈', '지옥', '만난', '지구', '차', '짝사랑', '손', '해', '거', '가장', '마을', '가지', '발견', '단편', '대한', '동생', '대학', '회사', '저주', '청춘', '관계', '처음', '작품', '왕', '단', '인류', '마주', '명', '본격', '선택', '살인', '빙의', '전쟁', '첫사랑', '정신', '황제', '마지막', '김', '기회', '피', '결심', '지상', '이름', '마법사', '마법', '등장', '통해', '이자', '한국', '스릴러', '이후', '사회', '첫', '성장', '얼굴', '진실', '상황', '수상작', '우주', '주인', '휘', '엄마', '모험', '방', '그것', '고양이', '불명', '아이돌', '길', '이유', '아버지', '하늘', '듯', '주변', '뱀파이어', '뿐', '조선', '신', '대신', '도시', '여름', '공포', '전생', '이용', '학생', '시대', '감정', '도움', '아들', '늘', '의문', '대표', '여행', '생존', '오늘', '영혼', '계속', '마녀', '동거', '남자친구', '이별', '배우', '탑', '용', '형', '팀', '개', '도전', '고백', '막', '재벌', '괴물', '낯선', '그날', '최대', '할머니', '선배', '좌충우돌', '난', '왕자', '나라', '공주', '일진', '보고', '작', '문제', '프로젝트', '명의', '라이프', '강', '멸망', '네이버', '간다', '영웅', '누군가', '혼란', '충격', '전학생', '헌터', '입학', '자리', '그룹', '절망', '스스로', '수상한', '마왕', '죽', '볼', '절대', '공모전', '매일', '소꿉친구', '학원', '부부', '대학생', '좀비', '마', '바람', '탈출', '배신', '재능', '개그', '달', '연', '감', '언니', '계획', '연기', '놈', '한번', '재', '동아리', '공작', '우연', '시즌', '아무', '자전', '기사', '스타', '반복', '부', '사냥', '이사', '캠퍼스', '소리', '부모님', '살해', '찾기', '원작', '목격', '찬', '신의', '경찰', '비', '지배', '녀', '키스', '직장인', '서브', '치', '처', '하필', '이상형', '새', '만', '오빠', '상대', '회귀', '남녀', '맞이', '정의', '빌런', '연우', '소문', '직접', '폭력', '포기', '정', '무', '전학', '리', '행복', '목표', '히어로', '만화가', '빛', '오해', '제국', '서울', '동화', '가문', '스토리', '심장', '황후', '준비', '드래곤', '땅', '중인', '이의', '퀘스트', '목', '누나', '몰래', '여러', '간', '소원', '에피소드', '위협', '성격', '인연', '소', '그림', '미스터리', '물', '주', '동네', '트라우마', '억', '인물', '눈앞', '방법', '만들기', '여고생', '권', '왕국', '만남', '가슴', '누가', '임무', '은밀', '자꾸만', '연재', '애', '학년', '초능력', '온갖', '취업', '숨기', '공부', '어른', '선생님', '사내', '해결', '요괴', '생존자', '동료', '구원', '관심', '병', '밖', '어쩐지', '남친', '상처', '살기', '거리', '곁', '전혀', '잠', '홀로', '이혼', '사기', '특집', '분투', '납치', '범', '키', '코믹', '노력', '법', '점', '호랑이', '발', '이웃', '취향', '성적', '목소리', '상치', '우정', '보이', '주의', '실종', '최후', '연인', '고민', '몬스터', '하룻밤', '알바', '축구', '조직', '아침', '부활', '임', '최애', '번의', '왕따', '집안', '빚', '상상', '신체', '말리', '어머니', '캐릭터', '기적', '머리', '황태자', '실수', '제일', '어딘가', '데', '별', '센터', '진', '상태', '덕후', '재회', '의사', '울', '무림', '고수', '섬', '눈물', '형사', '습격', '방송', '여자친구', '검', '영애', '점차', '고향', '저승', '시체', '헌', '호', '시골', '데뷔', '군', '힐링', '터', '거대', '자유', '플레이어', '꽃', '극복', '국', '마루', '썸', '엮', '꽃미남', '금', '도깨비', '음모', '예언', '주민', '살의', '전교', '옆집', '황녀', '시험', '시', '홍', '명작', '대상', '나날', '정말', '대가', '거절', '선녀', '수련', '현재', '피해', '세기', '엔딩', '입사', '매니저', '저승사자', '묘', '쓰레기', '행성', '여인', '녀석', '시련', '태', '노인', '외계인', '지호', '수아', '반전', '수사', '최애캐', '환', '여정', '툰', '생일', '살인마', '마리', '원래', '통', '취급', '웹툰작가', '첫날', '로서', '강아지', '수도', '백수', '후회', '달리', '바이러스', '선수', '아빠', '리얼', '운', '동물', '신부', '요리', '고통', '천년', '테', '설', '매력', '커플', '귀족', '스포츠', '계기', '슈퍼', '왕세자', '무시', '평생', '네이버웹툰', '당황', '특별', '달콤', '팬', '카페', '직전', '악녀', '관', '괴롭힘', '예측', '거부', '이현세', '본인', '무공', '각성', '층', '은하', '봄', '수영', '시한', '기록', '유혹', '최초', '대장', '비서', '개발', '무당', '대학교', '리메이크', '추억', '대기업', '린', '라면', '교통사고', '기업', '칼', '요원', '직업', '두려움', '동시', '여주', '편', '자꾸', '자취', '청년', '하루하루', '거기', '남학생', '달라', '술', '엘리트', '승리', '중독', '스킬', '조건', '고생', '평화', '유지', '가득', '급', '성장기', '예술', '변호사', '사망', '초', '거지', '퇴마사', '생명', '은수', '아르바이트', '불의', '뭔가', '학교생활', '중심', '이건', '고교', '시선', '후궁', '옆', '친', '스물', '유진', '교육', '회장', '이두호', '신인', '제대로', '원', '사장', '카', '리스트', '우수상', '모태솔로', '사의', '한편', '최', '감성', '탈', '혼인', '산호', '벌', '민', '승희', '행동', '미국', '업무', '국내', '선언', '파괴', '복학', '수업', '악몽', '다짐', '희망', '공무원', '망나니', '토끼', '겨울', '낮', '예상', '가게', '공', '현', '가은', '애정', '경험', '환자', '격투기', '풀', '부탁', '최악', '입', '코미디', '당한', '군대', '주부', '유명', '서바이벌', '산', '미지', '집사', '신분', '독자', '삼류', '어플', '조폭', '능력자', '목적', '죽지', '졸업', '내기', '황궁', '절친', '여행기', '년대', '나영', '직원', '현대', '얼떨결', '지망', '대륙', '차원', '일기', '숨', '쇼', '면접', '세력', '먹이', '짐승', '선우', '옴니버스', '원수', '도희', '손님', '신경', '특수', '류', '박', '문', '영화', '리지', '항상', '출신', '사투', '가기', '지수', '접근', '수가', '여성', '스카우트', '감당', '물리', '복학생', '천사', '분위기', '이면', '태권도', '에스', '상담', '도윤', '동기', '후계', '쌍둥이', '집착', '던전', '숲', '죄', '책', '현장', '물고기', '나이', '아람', '예전', '레온', '주원', '공략', '지원', '과학', '교실', '뜻밖', '구미호', '공감', '비리', '직장', '합격', '일대기', '악령', '대화', '불', '상사', '의심', '백작', '선생', '조각', '하루아침', '위로', '등대', '버그', '위장', '코인', '활', '온라인', '생기', '보이지', '어둠', '장려상', '함', '티', '정반대', '몸부림', '신화', '집단', '분노', '아픔', '검사', '노', '꼭', '아기', '환생', '현우', '척', '트', '실제', '익명', '초월', '누명', '장르', '도착', '박사', '반지', '대공', '크게', '여학생', '발생', '강희', '아저씨', '수호', '인형', '공존', '대체', '전투', '무기', '범죄자', '남매', '치명', '변', '자칭', '화가', '실패', '일주일', '사춘기', '신입생', '신입사원', '막내', '스', '민주', '로맨틱', '악당', '진학', '지난', '권리', '아파트', '생계', '물어', '로만', '널', '재난', '거듭', '초인', '옥', '담당', '미술', '선비', '보호', '조석', '정보', '사제', '활동', '당선', '망상', '발전', '안고', '소개', '파', '덕질', '진심', '변화', '그냥', '여배우', '탕', '해도', '환상', '명문', '개월', '그로', '담', '장난', '멤버', '회사원', '성은', '한별', '서서히', '심', '이안', '공개', '새봄', '틴', '약혼자', '직진', '쪽', '사라', '취미', '불행', '곰', '배경', '처리', '고객', '초보', '부캐', '감자', '남극', '글로벌', '노래', '오디션', '로봇', '트럭', '은퇴', '전남친', '여왕', '무언가', '한순간', '제이', '여대생', '신세', '환경', '차기작', '소재', '유별', '사업', '유산', '투하', '방해', '연극', '세월', '피아노', '평소', '강림', '스트레스', '짝', '권력', '차지', '의식', '순정', '결말', '구석', '커피', '강남', '대로', '유정', '백', '자체', '남고생', '운영', '증오', '기운', '초능력자', '파견', '만렙', '감각', '타', '완벽', '추리', '실력', '무명', '판', '천마', '아내', '사생아', '공격', '용이', '개념', '계략', '열정', '기념', '너머', '하랑', '기자', '괴한', '먼저', '바다', '글', '중학교', '흔적', '프랑스', '스펙', '때마침', '그대로', '빈', '서열', '은혜', '무인도', '문명', '치료', '살이', '신입', '흙', '수저', '어제', '취준생', '과정', '보통', '벌레', '달리기', '반란', '하렘', '용왕', '세포', '인간계', '범죄', '경', '림', '엮이', '운동', '미인', '천', '명령', '아슬아슬', '물건', '귀', '킬러', '뭘', '영상', '갈등', '컬', '염', '컷툰', '시트콤', '시스템', '잡', '아주', '시리즈', '병원', '릴리', '스승', '가정', '영은', '요', '폭탄', '스무', '라이', '훈련', '승', '신들', '국민', '이연', '재수', '교사', '움', '악명', '수행', '방문', '룸메이트', '일행', '길거리', '도현', '소진', '사연', '아가씨', '최근', '구애', '장', '곤충', '이모', '란', '욕', '진단', '환영', '프로', '회차', '아치', '선물', '자식', '러브', '무협', '약점', '의뢰', '편의점', '희영', '관련', '변신', '삼국지', '개미', '삼촌', '이채', '태현', '우혁', '성녀', '지언', '현수', '연구', '감염', '내일', '주지', '영희', '이동', '괴생명체', '톱스타', '새끼', '소이', '핸드폰', '모범생', '쟁취', '무직', '병호', '제작', '바보', '얘기', '역할', '명예', '난무', '메인', '윤', '씨', '외면', '음악', '서류', '폭풍', '킥', '조', '종말', '관리', '통제', '욕망', '불법', '미션', '마침내', '반한', '모종', '단서', '년차', '향수', '대박', '엉망', '엑스트라', '계급', '메시지', '독', '사진', '버라이어티', '세대', '새벽', '내용', '남작', '승부', '답', '동맹', '손녀', '배달', '문자', '잡기', '웹소설', '서리', '따윈', '가람', '살인자', '막장', '잭', '야구', '디자이너', '푸른', '슈퍼히어로', '육아', '요정', '전사', '나디아', '신관', '세계관', '고아', '원오', '수지', '질풍', '기획', '웃음', '윈도', '퇴치', '사명', '퇴마', '강제', '신혼', '명성', '머릿속', '나노', '침략', '아르', '성공', '수학', '트리', '직', '호텔', '니', '걱정', '서른', '컨텐츠', '셔틀', '철', '하자', '하연', '연희', '신영', '타고', '유리', '결혼식', '진도', '장군', '자현', '소루', '재림', '자살', '꼬마', '뜻', '가짜', '노리', '프로듀싱', '활약', '세자', '궁', '인터넷', '겹', '화제', '잘못', '배틀', '폭발', '오징어', '후배', '무작정', '불운', '무사', '유주', '탓', '나루', '영지', '유쾌', '발랄', '특급', '방출', '호기심', '성의', '대전', '천하', '성훈', '대형', '건물', '구역', '음식', '금지', '경계', '왕녀', '린다', '악', '플레이', '예능', '해원', '오컬트', '겁', '피폐', '버려진', '승자', '도둑', '무려', '워', '밑', '자랑', '소망', '눈치', '보지', '택', '엑스', '갑작스레', '사이코패스', '한지', '사원', '윤서', '루키', '봉인', '전직', '부작', '대회', '신수', '여우', '음', '에르', '청', '서윤', '숙적', '필', '외전', '사냥꾼', '사가', '지은', '아가', '눈빛', '하우스', '초원', '역시', '북', '인준', '재력', '중국', '폭', '해수', '피하', '기술', '주연', '프로그램', '하진', '번호', '지능', '찰나', '박하', '가출', '제거', '영물', '하윤', '그린', '경쟁', '순정만화', '하리', '무료', '화영', '밀당', '제자', '시점', '외', '현도', '스마트폰', '고시원', '정부', '암흑', '두운', '거래', '제압', '허락', '정글', '기분', '하남', '하원', '연성', '어벤저스', '지음', '복판', '지혁', '철수', '세라', '불만', '순이', '집중', '쓰기', '어르신', '연결', '가야', '해리', '장면', '고립', '나무', '파티', '여중생', '보물', '전락', '세인', '피어', '굴', '좌절', '연쇄', '플루', '사이다', '취직', '티아', '히트', '이식', '소라', '산골', '떠돌이', '멀티', '플롯', '김선권', '만년', '랭커', '증명', '은둔', '외톨이', '투자', '원한', '제발', '감시', '복제', '체', '비밀리', '도박', '주말', '남자에게', '진창', '역사', '제로', '절대로', '상속', '진행', '대위', '군인', '반려견', '남지', '알콩달콩', '마감', '비운', '전문가', '질주', '신랑', '루시', '반쪽', '수능', '마나', '소신', '최종', '기도', '이승', '셰프', '나락', '아영', '일과', '와중', '여친', '축복', '격투', '주목', '설상가상', '출산', '잠입', '스캔들', '천방지축', '캐', '마트', '스마트', '거짓말', '진혁', '동갑', '방향', '그게', '구조', '대결', '라라', '덕', '교내', '민준', '부모', '부분', '자라', '다운', '송두리째', '정상', '머', '지구인', '라리', '시아', '왕비', '일도', '휴식', '임신', '기반', '순탄', '우여곡절', '괴담', '두번째', '의지', '대립', '사자', '천국', '식', '위험', '파멸', '혈', '인상', '말투', '라인', '학창', '마법소녀', '동이', '날개', '탄생', '악귀', '부인', '하라', '부상', '청산', '살벌', '확장', '얼', '건설', '가상현실', '마교', '급식', '이복', '라이벌', '민지', '국가', '존망', '자고', '시기', '동원', '남사', '범벅', '방황', '위험천만', '제공', '수상', '산신', '파란만장', '유망', '초대', '사람과', '스파이', '불허', '향기', '지하철', '며칠', '기상', '늑대', '자퇴', '재산', '태희', '요즘', '노답', '데이트', '대의', '스트리밍', '추적', '뽀짝', '무술', '의원', '승기', '해제', '불가', '마술', '나선', '직녀', '전개', '이말년', '배', '민우', '방이', '벽화', '영역', '벽', '자락', '한가운데', '진흥', '마코토', '조종', '소식', '더욱', '처단', '새내기', '연맹', '행방', '마냥', '선별', '난이도', '결과', '전담', '혜성', '도혁', '얘', '차이', '하일권', '화사', '간의', '북부', '황자', '아이템', '외상', '똥', '염원', '휴먼', '중이', '결', '아래', '질', '화재', '레드', '전략', '현생', '연월', '그대', '늑대인간', '겉보기', '전세계', '도중', '부산', '여신', '애인', '약', '공포증', '고난', '제나', '윤인완', '갓', '전역', '보나파르트', '촌', '시비', '인간관계', '오기', '엘', '가상', '열', '타락', '기생', '교주', '청아', '요한', '디자인', '재영', '기준', '맨', '혁', '무대', '시궁창', '바덴', '드', '진서', '지안', '동경', '실화', '품', '역대', '넌', '그림자', '고교생', '사태', '스케치', '숲속', '외동딸', '수진', '누리', '참여', '자의', '강호', '지현', '돌이', '듀싱', '하나로', '귀환', '첩', '우수', '명화', '사이코', '인공', '부자', '참가', '인정', '전국', '과학자', '광기', '꼰대', '르', '경화', '진출', '마스크', '업자', '요구', '방울', '연예인', '깨달', '아미', '축하', '남동생', '가수', '수수께끼', '꽤', '진상', '쉬', '무결', '센스', '탕카', '렉카', '채널', '유연', '장남', '종', '우비', '보기', '은지', '유하', '적월', '선고', '할아버지', '유준', '학기', '가난', '공유', '심부름', '굴레', '호러', '처지', '인섹', '이분', '나비', '등급', '재단', '리아', '서우', '타워', '지아', '반딧불', '제페토', '망', '시루', '산이', '인테리어', '기지', '전수', '우영', '탄탄', '돌연', '마무리', '미련', '화분', '년전', '전화', '우린', '은인', '밀고', '탈출기', '내지', '신고', '앞뒤', '참고', '배려', '장의사', '안나', '생활고', '정아', '일이', '출근', '피아니스트', '인어', '군단', '두뇌', '정예', '이계', '만두', '파리', '자전거', '황폐', '댁', '도피', '토니', '랭킹', '레벨', '방식', '갱생', '고개', '한결', '혜', '미스테리', '겉모습', '성경', '완성', '성체', '이란', '전체', '후의', '종합', '이대', '총', '릴레이', '예은', '움직', '커녕', '패션', '일리', '반려동물', '아이러니', '잠수', '오피스', '서연', '세레', '위태', '다이어리', '로망', '충족', '달달', '카리스마', '정복', '의도', '무릎', '유괴', '밀실', '도우미', '거장', '가운데', '몸속', '멘탈', '연주', '베르크', '가의', '회복', '꿈속', '활용', '수험생', '홍혜', '제야', '무한', '영광', '복서', '주일', '요청', '투입', '극한', '사립', '한판', '모자라', '완료', '해고', '주영', '짓', '포착', '비혼', '셀럽', '홍천', '천리마', '업계', '인턴', '미티', '황위', '태자', '범인', '사용', '투기', '황미나', '트리오', '안개', '메리', '침공', '이성', '에이', '전하', '냥', '골', '위치', '숙소', '버스', '사이드', '절체절명', '불꽃', '이어진', '내공', '학대', '자청', '칸', '멸시', '이중', '불구', '속마음', '서면', '손자', '대만', '버전', '앙숙', '실현', '분명', '거르', '종족', '형제', '조선시대', '서방', '옷', '율', '적응', '제주도', '아일랜드', '해주', '낚시꾼', '정령', '유령', '소속', '상단', '야수', '배우자', '고구려', '전문의', '불사', '주장', '공간', '싱글', '거미줄', '교의', '후손', '샤인', '라틸', '스무살', '임시', '검찰', '계', '안경', '공식', '안녕', '이몽', '강력', '성인', '고딩', '재미', '청소년', '반대', '연하남', '후유증', '유민', '사무실', '상엽', '이로', '최훈', '뉴', '민호', '클리어', '빵셔틀', '풀기', '경기', '잡고', '정화', '술자리', '정통', '키드갱', '상민', '야식', '냄새', '어서', '수습', '건가', '채팅', '창', '택배', '에이스', '혼돈', '독립', '사정', '최광식', '추', '데이빗', '도도', '세자빈', '최상', '전말', '폭행', '개성', '꾼', '원룸', '외치', '원장', '내과', '실전', '개입', '빨', '정해진', '객관', '솔', '낯', '설정', '오타쿠', '고독', '정략', '착각', '듀얼', '원인', '클래스', '삼각관계', '걸그룹', '조작', '연애담', '고전', '달성', '맹세', '영주', '가을', '이색', '처럼', '테러', '컷', '회원', '자극', '바', '레이디', '폐인', '취해', '한계', '자로', '소환', '컴퍼니', '훈', '블록버스터', '실체', '록시', '애쉴리', '아카데미', '루크', '스트리머', '궁금증', '오픈', '타투', '진우', '부여', '메', '연기력', '외과', '펜션', '공상', '맨몸', '대학원', '교수', '연구실', '수십', '작전', '지오', '리기', '정착', '군림', '소개팅', '신념', '겸', '증', '난생처음', '딸기', '선정', '루시퍼', '자객', '억지로', '시장', '다리', '산들', '쥬드', '가끔', '감동', '최우수상', '신비', '자가', '질색', '추구', '진국', '혀', '핫', '직면', '감독', '스페이스', '평범', '사교계', '촬영', '솔로', '노소', '인성', '막내아들', '정치', '종교', '광', '믿음', '무너', '초년', '야근', '고장', '미남', '채용', '신암행어사', '용병', '입대', '깡패', '해골', '주먹', '확인', '승무원', '비행', '역병', '통보', '민후', '소금', '콤플렉스', '딸바보', '칼리', '사이비', '외삼촌', '끌', '수술', '사수', '글씨', '첫째', '도서관', '관장', '율리', '복제인간', '최면', '출현', '톱', '동창', '전파', '간택', '전래', '사기꾼', '갑질', '독버섯', '천도', '복잡', '소유', '돼지', '마피아', '결성', '혈청', '팬시', '백지', '도토리', '유미', '레아', '화', '단태', '이블', '도련님', '배태', '유서진', '김규삼', '어드벤처', '헬스', '매우', '하이브', '웹', '일본', '응원', '연습생', '저택', '수록', '본성', '잡음', '상남자', '대충', '겨루기', '러시아', '핵', '남장', '석', '현세', '백성', '긴장감', '정석', '암투', '반장', '형편', '황당', '일지', '회', '감수성', '트롤', '캠프', '루', '우스', '고요', '나무꾼', '안드로이드', '프리퀄', '사국', '평민', '하의', '방송국', '기간', '만인', '로사', '렉', '지면', '저녁', '경호', '단짝', '겸비', '날로', '오른', '강태', '입시', '파국', '군생활', '선임', '도주', '추격', '싱크홀', '투성이', '한강', '불쑥', '금선', '펭귄', '미소녀', '사생활', '아연', '이웃집', '부러', '화폐', '펀', '브로커', '악의', '무리', '마리아', '윈터', '소방관', '긴장', '정점', '필사', '다정', '불멸', '서사시', '물귀신', '서준', '재생', '오신', '야생', '곗', '바늘', '준영', '도사', '서스펜스', '절정', '치린', '처치', '김예', '부와', '둘째', '흡혈귀', '차례', '오란씨', '효율', '맞선', '의미', '현태', '고리', '장사', '겉', '흡혈', '먹방', '전용', '소인배', '화백', '태평', '후보', '이중생활', '설립', '유머', '사이버', '로판', '영하', '나은', '이준', '인조', '드미트리', '남아', '낭만', '즐거움', '육식', '고의', '이기', '하트', '통한', '한길', '폰', '함정', '문어', '축제', '낼', '북방', '대통령', '잠재력', '악인', '모란', '연루', '조선인', '한여름', '여동생', '지우', '이재', '약육강식', '세르', '오름', '학', '애화', '가면', '태도', '천수', '기만', '엑소시스트', '교도소', '깃', '찬란', '이한영', '연못', '고작', '공고', '우현', '은율', '상대로', '성사', '온달', '마술사', '수락', '피치', '유빈', '하은', '국회의원', '선호', '수완', '놀이', '공원', '아줌마', '연쇄살인', '고용', '병맛', '제임스', '자매', '혜진', '재경', '승조', '기숙사', '엘레나', '베스트', '성기사', '오딘', '불청객', '분양', '층운', '장수', '강시', '셰어', '전과', '자도', '패배', '슬픔', '왕족', '이현', '서점', '리얼리티', '무단', '제하', '스토커', '산다', '소란', '개인', '가빈', '올해', '은호', '재는', '갈수록', '기사단', '오필리아', '손빈', '용호', '태은', '협박', '선사', '지하', '홍보', '김지용', '무관', '타이', '볼모', '왕가', '삼룡', '궤짝', '유안', '홍조', '가트', '정년', '영기', '라며', '수연', '류환', '중고', '참사', '국적', '욱', '평양', '슈퍼스타', '아우라', '일대', '성과', '호연', '대리', '밴드', '순식간', '노트', '연옥', '최정', '선의', '학업', '내면', '마스터', '실연', '예찬', '비관', '전두엽', '도망자', '재현', '배신자', '불리', '훗날', '건민', '욕심', '증거', '외할아버지', '더미', '사사건건', '고구마', '밭', '상식', '주기', '류빈', '오싹', '어시', '주신', '성별', '어차피', '회색', '토', '하르트', '가요', '자본', '법칙', '수기', '유물', '한국인', '퇴사', '공녀', '근처', '육체', '치유', '온전', '꼴통', '통째', '유저', '호주', '안간힘', '유체이탈', '꽃집', '정남', '일생', '유행', '폭주', '기구', '장기', '사형수', '보호자', '본능', '도대체', '라스트', '죄책감', '이슬', '용기', '규어', '브릭', '은태', '쏠남', '아임펫', '댕댕', '어도', '여직원', '이직', '혼', '미모', '세레나', '여름날', '실천', '해외', '집앞', '수명', '강철중', '토대', '킹', '부업', '청소', '사진작가', '뮤즈', '샬', '리오니', '애증', '신공', '마음씨', '약탈', '아웃', '김범', '실버', '쥬얼', '웬', '본국', '기쁨', '호감', '간직', '과외', '찬영', '황천', '맛집', '디스토피아', '리트', '로그', '꽃길', '유일신', '타가', '휴재', '아슈', '타르', '끼', '국정원', '커버', '강혁', '특성', '형체', '시도', '로그아웃', '유타', '특종', '아이콘', '스테파니', '주영은', '비타', '작정', '와루', '온통', '해나', '수석', '법무', '법인', '예서', '정황', '특이점', '지루함', '설표', '민재', '가입', '담당자', '고삼', '치킨', '황실', '정실', '실명', '오류로', '이시우', '모녀', '런', '일제강점기', '고교야구', '대선', '재수생', '오지', '닉', '추방', '존경', '괴수', '열쇠', '첫인상', '갑지', '수백', '건의', '달빛', '조수', '공학', '앞길', '다가', '사막', '세리', '부족', '현금', '복', '바치', '워커홀릭', '부하', '베일', '대사제', '소용돌이', '눈썹', '민트', '태권', '싸가지', '태인', '완강', '불안감', '통일', '테라', '한탄', '등교', '정작', '텅', '소유자', '최강희', '소름', '한국어', '감상', '내내', '어쨌든', '암살', '호위', '무진', '면', '본디', '구미', '충성', '고려', '바리스타', '트럼프', '희귀', '의사소통', '밀림', '토막살인', '되풀이', '부흥', '단절', '당일', '괴이', '고자', '좌천', '초토화', '알거지', '벨', '재기', '거꾸로', '군주', '패자', '터널', '셀레스티', '족', '실험', '유전자', '바깥', '군상', '전격', '대장정', '최규석', '갖은', '세종', '불량', '정이', '라커', '하이', '권력자', '국서', '용두', '원흉', '김용', '수학여행', '접촉', '당주', '상급', '사관', '직속', '세아', '스릴', '김부', '독학', '해동', '한양', '동상', '지속', '톡톡', '정지훈', '악연', '입학식', '백화점', '회의', '강령술', '점심시간', '러닝', '러너', '서버', '옥타곤', '구아바', '대입', '수험', '시력', '뺨', '최연', '정안', '어젯밤', '건달', '승환', '끈끈', '어가', '졸', '검정고시', '추정', '순애', '블로거', '요절', '복통', '강미', '별명', '올린다', '비비안', '냉대', '안식처', '희생', '유튜버', '빵', '수배', '역', '덴마', '외한', '청각장애', '김진', '학생증', '웬걸', '백제', '흑', '주식', '권유', '식인', '먹잇감', '동행', '느와르', '법정', '컴백', '닥터', '자아', '삼각', '근황', '만점', '크리스마스', '뉴스', '포함', '청명', '서자', '소한', '벼랑', '관종', '현직', '지목', '바함무르크', '수감자', '데스', '박성현', '이스트', '우르', '도우', '선인', '젠', '호랑', '우리네', '인의', '견우', '무조건', '실질', '스타인', '헤어', '옥황상제', '묘령', '바람둥이', '홍대', '앞날', '철학', '사키', '하굣길', '방금', '영문', '도저히', '시안', '대중', '약초', '도둑질', '무병장수', '하성', '감지', '학과', '이유리', '유독', '신령', '발탁', '엔터테인먼트', '수감', '다시금', '성기', '압박', '노예', '오라', '작고', '화이트', '주님', '장통', '빛깔', '보상', '핏빛', '만끽', '북한', '공작원', '일명', '청첩장', '롬', '매칭', '소설가', '길고양이', '세이', '김재', '모면', '행세', '적국', '해루', '오묘', '성전', '바티칸', '구마', '카일', '고스트', '멸문', '예고', '김유리', '로펌', '정호', '변태', '강도', '태릉선수촌', '유도', '밑바닥', '유일', '의인', '뒷모습', '수의', '파이', '마야', '진과', '유기', '계승', '시언', '먼치킨', '일어난다', '경호원', '연관', '뱀', '중증', '유성', '지니', '병아리', '군기', '정은', '순위', '일어나지', '폐쇄', '팩션', '은혁', '양', '수애', '지도', '국가대표', '맘', '홀', '결의', '주주', '가려진', '상구', '염려', '싱글맘', '일상날개짓', '팽팽', '아동', '심리', '수사극', '사빠', '운빨', '혀노', '책봉', '덫', '소행', '메모', '아스', '때론', '팔도', '지고', '학급', '공기', '몸무게', '소로', '초록', '태발', '황금', '랜덤', '미치광이', '설계자', '무성', '영향', '축구선수', '끝장', '썸남', '프리스타일', '현상', '행', '강타', '초대형', '우유', '셀리나', '마수', '시온', '제시', '복귀', '곽사', '골목길', '변수', '파탄', '소시오패스', '손주', '포신', '교', '시가', '검술', '일념', '석호', '당첨', '유은', '밸', '쌈', '추가', '경일', '콤비', '비행기', '추락', '유이', '행진', '스킨십', '유라', '자임', '전전', '귀가', '약혼', '아란', '채현', '현이', '왕좌', '정혼', '시집', '이방인', '왕위', '옹주', '전의', '서클', '푹', '맑은', '필터', '육성', '습관', '불면증', '산산조각', '꿀잠', '다짜고짜', '핑크레이디', '뒤죽박죽', '일꾼', '지도자', '일본인', '전여친', '명줄', '샌님', '입성', '도령', '지기', '강우', '자타공인', '김찬규', '청소부', '시민', '무아', '메이크업', '캐스팅', '코로나', '종식', '사서', '벗', '어사', '악한', '안도', '왕실', '전화번호', '호의', '샤론', '인주', '의존', '노화', '정준', '끼리', '사리', '스파이더맨', '피터', '협력', '편이', '약혼녀', '주가', '서나래', '삼부카', '불로불사', '퀸즈', '생체', '병기', '핑크', '보', '라떼', '라테', '자재', '우기', '달이', '연속', '백호', '부수', '기계', '굴리', '용서', '레나', '제물', '여자아이', '수컷', '에너지', '사고뭉치', '인지도', '반면', '포토툰', '장가', '프로레슬러', '집기', '입술', '거짓', '욕실', '수증기', '샤워', '근무', '중세', '정우', '내뿜는', '골짜기', '탈락', '스카웃', '로이', '화목', '정이현', '상경', '연상', '김인', '능', '오염', '조가', '오토바이', '사모님', '부적', '산속', '돌변', '상금', '아리', '도덕', '리나', '입부', '말로', '대성', '욕구', '태호', '감옥', '일편단심화', '윤수', '물범', '모자', '금화', '일부러', '정진', '전력', '주사위', '다이스', '윤하', '스타일', '한류', '미혼', '꾀', '간첩', '혈통', '완수', '너튜버', '돕기', '오라비', '혼약', '각오', '오라버니', '유품', '종이', '머리카락', '도부', '유럽', '분', '다큐', '철부지', '원리', '도자기', '교수인형', '우월한하루', '선희', '반응', '사채', '용모', '운휘', '혈교', '데리', '공자', '조롱', '강물', '뒤로', '수생', '희망이', '지옥도', '은신', '은솔', '젊은이', '테스트', '김기봉', '최금혁', '금혁이', '제타', '람', '낚는', '장례식', '용의자', '말년', '병장', '가해자', '영국', '고고', '싱어송라이터', '은채', '관심사', '힐러', '블랙홀', '만원', '구세주', '흥신소', '성품', '시훈', '파란', '어째', '술술', '웰', '메이드', '시대극', '은반', '인생역전', '사치', '구매', '암호', '펜싱', '서랍', '무도', '베트남', '베리', '깨', '악전', '설계', '비명', '적연', '세간', '꿀', '복무', '특수부대', '산송장', '위퍼', '뒷바라지', '누적', '밀교', '천재소년', '겟네임', '광고', '균형', '인근', '호야', '빌라', '백선', '마물', '이레', '인지', '호구', '둥이', '강온', '한눈', '간섭', '주희', '도술', '투견', '다사', '여운', '순응', '황초', '사단', '올리비아', '빈민가', '루카스', '바루', '레지던트', '바루다', '딥', '의기', '투합', '나잇', '발현', '타임', '루프', '일로', '끝내', '저돌', '허물', '한쪽', '다국적', '부잣집', '실', '야만', '십년', '미아', '이소현', '맹수', '매미', '박주연', '폭로', '격주', '제법', '해피엔딩', '구한', '갈망', '남고', '소울', '풍경', '보라', '록', '오자', '사형', '데닐', '패', '트릭', '증기기관', '일어나고', '소수', '집주인', '오른손', '대폭발', '초상', '버킷리스트', '방실이', '옛날', '겁결', '상우', '각양각색', '살묘범', '엎친', '격', '수정', '구하라', '감소', '체중', '계나리', '가격', '아래층', '헬스장', '계단', '세금', '빠찌', '부천', '주사', '박열', '조신', '리리안', '모조리', '형법', '조조', '이삭', '한무', '계약서', '매기', '리더', '이사벨', '라이언', '라가', '무죄', '우주인', '엘리', '들개', '방치', '자제', '위층', '튜브', '연락', '계절', '분리수거', '블랙', '해체', '얼간이', '도망', '기숙', '일만', '억수', '추모', '경자', '빽', '강유', '유정은', '강해진', '격전', '신검', '시중', '니아', '이결', '불륜', '제인', '알록달록', '자연', '베프', '운동화', '강안', '식탐', '개편', '카툰', '방망이', '야인', '교권', '특선', '토토', '이유신', '줄기', '영민', '독차지', '억이', '신도시', '유림', '준혁', '목걸이', '표적', '호안', '암살자', '룡', '글리', '근원', '무너뜨릴', '류시환', '신약', '궁지', '전성기', '리피터', '말기', '자작나무', '황혼', '술김', '조의', '유니버스', '코앞', '황비', '이전', '발목', '곽재용', '색', '귀차니즘', '장님', '최선', '막상', '지배자', '갓트', '랏데', '포식자', '류준', '구출', '간호사', '왕진', '악사', '가능성', '장담', '자폐증', '유찬', '수첩', '행운', '만화책', '변동', '루키루', '세진', '광진', '부의', '도형', '별일', '가치', '몰리', '모음', '오월', '여자도', '승천', '창궐', '화악골', '예보', '어드벤쳐', '렙', '수만', '광렬', '상관', '이단', '필요', '지역', '안드로', '잡지', '러블리', '소동', '이솝우화', '이솝', '부로', '정복기', '영매', '성결', '김민수', '민수', '호랭총각', '덕분', '소율', '위안', '강박증', '흉가', '하슬라', '태양', '양성', '국립', '금동', '향로', '정사', '저울', '무게', '번데기', '야구단', '계정', '해킹', '행적', '컴퓨터', '단정', '시연', '각시', '때로는', '서슬', '일러스트', '민희', '공생', '고하', '경영', '유언', '서비스', '종료', '프로게이머', '해녀', '동급생', '표류', '카신', '오물', '상연', '성범죄자', '해피', '주눅', '유채', '회식', '가비', '매료', '바닥', '모토', '꼰', '법도', '맥시멀', '무주', '바랬던', '노블레스', '시시', '폐지', '장소', '구의', '백만', '우체부', '목적지', '꿀벌', '철벽', '도연', '조여', '대항', '성현', '디지털', '진정', '약국', '돈가스', '공시생', '런던', '지룡', '기대', '상상력', '강태오', '강수', '노노', '해치', '당시', '장애', '웅', '무력감', '문조', '선거', '파라', '마디', '코퍼레이션', '아르카디아', '서원', '약속', '정연', '유리아', '대기', '붕괴', '천상', '논리', '슈', '퍼스트', '링', '호로', '참새', '버티고', '마마', '동궁', '천동', '매혹', '사나이', '바이올린', '강요', '지나', '운전사', '경미', '현성은', '자판기', '루나', '찬양', '이화', '아사', '동양', '시뮬레이션', '사후세계', '결정', '애초', '파혼', '테오', '가정부', '출발', '보금자리', '부원', '본의', '영아', '멀리', '학점', '한주', '페이지', '강자', '상위', '출연', '보배', '현월', '부대', '스레투', '대머리', '신호', '체인지', '상', '허름', '우유부단', '피지', '유비', '소통', '군사', '모집', '태웅', '유부', '몬작', '에리', '경제', '일강', '곪', '실시간', '페이', '김현우', '순덕', '애쉬', '백조', '뒷산', '기호', '장교', '안은수', '정규직', '도적', '민결', '편지', '태리', '꼼짝', '이무기', '스터디', '명석', '패기', '월드컵', '리그', '탐구', '후안', '하북팽', '지화', '냉혈', '비급', '언노운', '크림슨', '던', '마침', '선천', '보유', '출연료', '유교', '천상계', '기관', '공신', '나래', '도래', '악기', '정지혜', '물의', '곱', '보스', '재앙', '융', '망자', '오창석', '일수', '물감', '빠루', '홀리', '밥', '저리', '칭하', '박문수', '닭강정', '조류', '남한', '학군', '아리엘', '브랜든', '바포메', '흥미', '고서', '아리아드네', '엄', '소명', '의혹', '한나', '은비', '깜빡', '절벽', '복도', '다크', '월영', '입양', '역경', '백영은', '황준호', '조슈아', '설기', '기백', '영도', '완결', '신생', '문희', '졸지', '은주', '광마', '마니아', '성준', '주의자', '떼돈', '무감각', '선혜', '아니스', '나율', '일기장', '준수', '래퍼', '사이먼', '대사', '무상', '참전', '쪽방', '골석', '쿠쿠', '상목', '열녀', '토리', '화산', '체질', '군터', '동정', '희원', '맥', '라트', '고라니', '클론', '빅터', '칼라브리아', '패륜', '레오', '엘라', '이온', '윤주', '서하', '수마', '시에라', '클로드', '정민', '구멍', '극야', '쇄빙선', '폰투스', '사야카', '노조미', '리메이', '가오창', '이상현', '김경', '정세', '인과', '뉴욕', '맨해튼', '항구', '중태', '비극', '변명', '직딩', '짝꿍', '창조자', '덕구', '서나', '강세', '암행어사', '불만족', '염세', '맞춤법', '췐무궹', '춘장', '자연인', '정리', '유년', '차애', '주홍글씨', '공률', '굴욕', '조직폭력배', '훼손', '여장', '고발', '국세청', '탈세', '모니터', '철벽녀', '주저', '정의감', '해커', '적도', '아군', '오리온', '리온', '청량감', '뒤엎', '가뜩이나', '발등', '월급', '고료', '작업실', '파트타임', '이시윤', '택했', '외국어', '갑부', '대수', '총구', '비현실적', '데온', '신임', '인재', '일반', '굴복', '건우', '진사고', '초메', '얼씬', '크리스', '텔', '정신과', '인간성', '얄궂', '태민', '자네', '개도', '걸세', '만둣가', '오케스트라', '크루', '스트릿', '라이딩', '효자', '창문', '슬라임', '전염병', '친부모', '양부모', '법적', '상의', '김지', '삭제', '밈', '영주권자', '전제', '완포세대', '구석기', '떡락', '허송', '교환', '앱', '석기', '오수빈', '요가복', '립앤힙', '물복반', '복반', '엉덩이', '구구', '황재호', '재호', '근육남', '친환경', '지성', '빅뱅', '전우주', '연합', '기증', '장기이식', '한치', '정선영', '하데스', '산업화', '온도', '홀리데이', '실행', '위함', '수단', '출동', '뽀뽀', '연습', '투명인간', '썸녀', '경험치', '쏠', '김진현', '뚝', '출근길', '뚜치', '뚜', '치가', '임원', '승진', '개밥', '뒤통수', '생판', '봉착', '율리우스', '카이사르', '양영순', '해석', '패션모델', '장물', '워진', '애첩', '프리드', '릭', '바름', '로라', '특전사', '이윤아', '뼛속', '파병', '포탄', '한숨', '체험', '소감', '폐하', '제외', '안중', '스토킹', '다나', '명동', '게임제작사', '캐슬', '소프트', '존폐', '퀴즈', '연발', '스트러글', '언데드', '독거', '본업', '사진전', '한나나', '유성우', '영길리', '셜록', '왓슨', '오성', '한음', '한섬', '유승진', '아포칼립스', '케어', '목조건축', '교감', '기계공학', '금슬', '수다', '타야르', '통치', '대왕', '정복자', '하칸', '절실', '고영', '탐사', '환향', '성향', '고시', '지병', '부정맥', '세탁', '스페인', '동', '산티아고', '들판', '바리', '낙동강', '최강전', '손맛', '리사', '거주', '낙원', '리츠', '에드워드', '슬럼', '미튜버', '헤어지자', '판정', '신도', '일신상', '이제야', '꼬셔봐', '꼬실', '피렌체', '아슈타르테', '트레이너', '신참', '전입', '윤의', '피신', '용체', '습득', '변덕쟁이', '불성', '게임기', '투신', '헤드폰', '마이크', '정혜', '진지', '극지', '절륜', '네임드', '기레기', '레이더', '찌라시', '주시', '옥상', '유화', '화공', '짓날', '맹인', '하람', '은색', '뺘아', '발산', '정글고', '버프', '로스쿨', '가람이', '아라', '건물붕괴', '매몰', '밀실살인', '노곤', '격투게임', '블러드', '피스', '윤시우', '맨더', '재패', '파루', '블루투스', '논쟁', '패딩', '지퍼', '남기한엘리트만들기', '집념', '남다름', '부계', '협잡', '선요', '게시판', '다운로드', '게시', '기주', '외할머니', '티격태격', '도그', '패전', '마다', '투수', '안시', '포수', '백태', '위닝샷', '던지기', '파편', '정시', '유', '천혜윤', '사교성', '왕리', '팜킨', '일당', '구두', '포도', '몹시', '택시', '흙탕물', '잔뜩', '미가', '산부인과', '논문', '중구', '난방', '항문', '단추', '해파리공주', '시무라', '아키코', '구성', '야만인', '출처', '거금', '골칫덩이', '푼', '지름신', '화신', '욜', '준희', '탕진', '장작', '잿더미', '코기', '롤랑', '루이사', '교단', '오늘날', '증강', '왜곡', '약물', '반인반수', '착호', '갑사', '가우리', '고아원', '엘케도니', '후원자', '소공녀', '시공', '물푸레', '말괄량이', '갈라', '줄곧', '이서', '와인', '조지아', '지사', '크리퍼스', '큘', '식이', '개근', '일화', '만물', '찜질방', '리턴', '의강', '벌벌', '유골', '떨어트린', '핵인', '권법', '성능', '퇴', '치기', '단원', '호란', '보은', '결핍', '계룡산', '정현주', '결투', '출생', '치사', '파워', '기원', '프라나', '짊어질', '육질', '구사', '영장', '배꼽', '앰버', '키시', '시오', '양부', '김철수', '굴덕', '도의', '감생', '표피', '따개비', '격변', '한층', '결하', '강백현', '내부고발자', '한직', '뺑소니', '최용규', '파르페', '쿠베라', '리즈', '외출', '수라', '혼합', '단주', '발판', '마련', '꿰', '지위', '웬디', '홍상완', '한반도', '역사상', '영토', '세력권', '동북아시아', '자주성', '광개토태왕', '흥미진진', '승부사', '응급실', '어린이', '술독', '뒷골목', '노숙자', '문득', '아이크', '해리스', '드루', '이그', '내부', '영원', '투쟁', '미물', '변형', '제리', '에픽', '귀속', '모브사', '거미', '떼', '돌', '원주민', '습지', '생태', '보고서', '머신', '주입', '한글', '반포', '몸소', '훈민정음', '참뜻', '속수무책', '오프너', '운동신경', '잿밥', '상부', '리움', '신스', '가시', '황태', '심기', '최소', '전무후무', '반니', '동우', '망명', '비스', '정략결혼', '용궁', '향상', '소연', '관광', '세찬', '베히모스', '특수요원', '스핀오프', '김민지', '도마뱀', '갈래', '실세', '냉동인간', '보편화', '타자', '머리칼', '신유진', '잠복근무', '라운지', '커플링', '필연', '야야', '나달', '애걸', '저건', '반의', '매콤', '전작', '습성', '재환', '정유림', '쳇바퀴', '마찰', '이내', '물음', '처녀귀신', '스페셜', '업데이트', '운영자', '해방', '엮어가', '볼보이', '할미', '휘성', '아마추어', '정환', '박력', '전율', '이휘성', '비상', '추스른다', '천지', '나발', '모기', '안구', '우왕좌왕', '트렌드', '김군', '주소', '욱하', '성질', '개조', '미각', '집밥', '식당', '조향사', '월드', '억만장자', '데이브', '열애', '성대', '신혼여행', '허니문', '덜컥', '그다음', '큰일', '인어공주', '띠롱', '조카', '빵집', '환수', '에어소프트', '미라', '디맨', '일밤', '용철', '별처럼', '텃밭', '잡초', '아비', '폐교', '인과응보', '심리학자', '프로스트', '질병', '농장', '백년', '왕도', '도로', '환의', '학내', '봉우리', '홉', '팩트', '힙찔이', '광경', '뉴튜버들', '구현', '뉴튜버', '특공대', '본원', '막무가내', '유월', '쥐뿔', '인고', '의학', '하이퍼', '리얼리즘', '제작자', '윈윈', '귀귀', '도널드', '유배', '이도우', '일어', '율도', '에너지음료', '카라멜', '마끼아또', '김명현', '옥수역', '봉천동', '사노라면', '뜰', '조상', '경주로', '설화', '솔이', '확립', '한호', '탐사선', '비행사', '울릉도', '징징', '미끼', '마고', '삼국시대', '콘텐츠', '가작', '태풍', '애착', '오카', '류지', '냉전', '스르', '대적', '변모', '선망', '지지', '싸이', '충동', '잠식', '모로스', '자제력', '대재앙', '터트려', '어나더', '궁궐', '쌀', '까치', '치웅리', '속물', '이대환', '발설', '되돌리기', '금속', '공예', '권유리', '동명이인', '뫼신', '투표', '징역', '비주', '꼬셔', '책방', '구가', '신예', '방랑', '면치', '실생활', '밀접', '저잣거리', '후반', '마한', '고리국', '서역', '로마제국', '검투', '븟새', '오순도순', '막강', '이그드라실', '사계절', '적합', '대일', '연출', '칵테일', '메이비', '주검', '직감', '임나', '탈북', '독거미', '송이듬', '이듬', '헤엄', '초아', '바다로', '융자', '해인', '컴플렉스', '애사', '낱낱이', '그릇', '퇴짜', '갸오오', '안심', '친우', '부관', '관통', '땐', '조국', '루시펠', '아이딘', '줌', '물망초', '공갈', '해괴', '돌기', '실록', '사슬', '방구', '외국인', '규리', '스테어', '숭배', '다혈질', '근신', '약도', '미스코리아', '임대', '닝', '합체', '김창남', '하든', '지세', '파랑', '운동선수', '은메달', '락구', '양궁', '격리', '메뉴', '흑역사', '요새', '정벌', '전교회장', '마파람', '레인보우', '루테', '카넬', '리언', '로지', '최대한', '로크', '이목', '화석', '대낮', '풍요롭', '송강기', '이득', '반대편', '큐브', '고유', '큐버', '형태', '소드', '서시', '방영', '미심', '쩍', '봉수', '구독', '스쿨홀릭', '명감', '비경', '휴가', '비보', '좇았', '백동', '꼴찌', '연필', '고기', '안내', '게이트', '존엄', '박정우', '다큐멘터리', '호선', '세이브', '포인트', '양은', '비밀요원', '차결', '홀려', '손태', '규', '동물원', '연꽃', '바닷가', '늑대소년', '낙인', '태생', '사탄', '체력', '작심삼일', '리라', '화상', '흉터', '생애', '전염', '웃픈', '건강', '슈가', '고영희', '꼬꼬댁씨', '투닭투닭', '초코', '순경', '재료', '기사도', '점보늬', '연예계', '팬픽', '여우별', '격동', '구슬', '쟁탈전', '승아', '존중', '시해', '반역', '몰살', '연씨', '무희', '왕명', '은효비', '현왕', '궁전', '도리어', '대장장이', '인신매매', '후작', '다이크', '외양', '공세', '트롬', '몰입', '부숭부숭', '무거워', '스테이', '터스', '공짜', '그리기', '전달', '준우', '원픽', '서은영', '금남', '여탕', '친오빠', '맵', '러버', '피디', '식단', '끝판', '바디', '쟁', '갈팡질팡', '농구', '초자연적', '상호', '송곳', '광년', '빙자', '커피우유', '입수', '천리', '마네킹', '타지', '컨셉', '방과후', '김찬', '김해', '배드', '재중', '화로', '이중인격', '싸이코패스', '수고', '머슴', '실장', '즘', '상속권', '윤현우', '신변', '지경', '금일', '백우진', '마검', '강동구', '생인', '연봉', '사회인', '문석호', '붕어빵', '로또', '흉내내', '콤보', '위투버', '벙커', '규칙', '시설', '귀의', '고인', '완자', '퍼', '참가자', '단역', '제약', '이강일', '강일', '홍의', '기절', '에어', '윙크', '폴', '통과', '놨다', '먹기', '가치관', '국운', '호걸', '간지', '서치', '미세먼지', '예정', '철석', '행방불명', '자치구', '재림교', '았', '짐', '숏애', '중성', '냐', '땅콩', '펜', '정찬열', '합류', '찬열', '쪽잠', '인도', '취임식', '하드코어', '현석', '미술사', '도거', '취했다', '한지훈', '어리광', '손가락', '쿠', '쿠무치', '동쪽', '먹이사슬', '교환학생', '계동', '부득이', '술값', '내의원', '주상', '드랍', '비트', '김강우', '눈길', '김상우', '이보', '유원', '랭크', '김준우', '출판', '미디어', '빵빵', '예외', '접', '음기', '갈취', '세민', '생명보험', '각지', '점령', '빌딩', '네크로맨서', '자산', '체스', '문장', '세태', '김우민', '파도', '언덕', '설씨', '메이크', '업', '계란', '가이드', '영화감독', '우환', '교통비', '해일', '마라톤', '변장', '헐벗', '궐', '주의보', '시호', '초란', '재주', '수장', '가드', '라이브', '장광', '김로', '외가', '하르디', '외조', '슈베린', '비에른', '이스터', '탕아', '환각', '사생팬', '연극배우', '뿌리', '팔고', '푸념', '생명력', '농촌', '험담', '삼수', '이이', '김이랑', '가브리엘', '라파엘', '우리엘', '일인', '아루', '십대', '경비', '물이', '청량미', '빈자리', '질투', '유발', '봉사활동', '꼬셔보려', '방지', '하르모니아', '영생', '강준서', '준서', '안정', '증세', '전환', '파커', '슈퍼빌런', '리저드', '철천지원수', '뷰글', '머슨', '배후', '시크', '라푼젤', '한태경', '거액', '노선', '나이스진타임', '냉이', '마약', '제조', '일삼', '미호', '강숙희', '섭외', '박성기', '함부로', '부위', '박진', '복원', '난관', '무법', '지대', '타협', '그램', '영감', '진수', '금요일', '합의', '가랑비', '쿨', '국수', '김유미', '발동', '아르타', '하일', '필론', '낙제', '단위', '정기', '청룡', '주작', '현무', '사신', '증표', '단죄', '트롯', '작사가', '간단명료', '신지훈', '오만', '지폐', '진주', '귀걸이', '성매매', '단속', '오피스텔', '자필', '진술서', '실적', '경찰서', '진술', '경악', '패치', '조난', '굴곡', '루벨', '으른', '귀농', '이씨', '베스', '진성', '헬창', '입학시험', '입구', '가파른', '언덕길', '등교생', '어깨', '워킹', '지로', '공대생', '최삡뺩', '퍼렁', '식품', '서민준', '앤', '리치', '임박', '장대', '데드퀸', '강쥐', '어디가', '누굴', '처자', '차혜성', '앞집', '페인', '보아', '도국', '상길', '어보', '탐정', '브이', '베댓', '공약', '입덕', '박도', '멘티', '덕심', '분출', '게스트', '이재현', '전무', '인기척', '관능', '숨소리', '물줄기', '촤악', '커튼', '여우구슬', '혼수상태', '혼령', '공연', '카피', '망신', '퓨전', '조우', '외딴', '은새', '강하나', '뷰티', '제의', '모로', '이병', '탈남', '헨', '스톤', '독립전쟁', '쪼그', '엮는', '대하', '아티스트', '팔다리', '속눈썹', '승준', '편집자', '의연', '부류', '상징', '노블', '내재', '결코', '해선', '도쿄', '마에노', '자키', '솔직', '윌', '청순', '터프가이', '띠', '장래희망', '애매', '모호', '제기차기', '김민석', '기기', '도발', '핵전쟁', '발의', '핵폭탄', '멸각', '방사', '원시', '폭력조직', '대폭', '입원', '똑', '빤스', '강윤', '윤지민', '글쎄', '속옷', '다지', '주호민', '송나라', '인적', '한과', '경비실', '장악', '주도', '실감', '속편', '교과서', '오사', '욕설', '번역', '어째선', '쌍', '살육', '살생', '해소', '수비대', '엠젯', '하태수', '정오', '차량', '전복', '기억상실증', '안단테', '리듬', '심근증', '문턱', '상실', '궤도', '우승자', '한시준', '프록시마', '달기', '정보통', '고집불통', '조양', '펀치', '북극', '무분별', '다해', '동태', '안경희', '류재린', '각본', '서건우', '민서연', '산업', '연장', '근후', '하임', '문화센터', '강사', '강민주', '돌싱', '민욱', '촬영감독', '하동현', '렌즈', '김전', '현역', '회부', '육교', '행패', '부리고', '이유정', '엽기', '선그', '이세', '암', '보육', '고액', '존잘', '퀸', '클라스', '작전명', '한라', '배지현', '수익', '버츄얼', '베니', '형식', '셰릴', '숙부', '기어이', '블레어', '성주', '펠릭스', '분홍', '부술', '김태', '씌', '최우식', '다미', '전교꼴등', '최웅', '초도', '국연', '대장군', '하와', '고분고분', '여장부', '예슬', '아나운서', '김민준', '구시', '승승장구', '설영', '에일', '성화', '전전긍긍', '주황', '노을', '팀겟네임', '시름', '씨름', '샅바', '삼천만원', '수려', '친절', '온화', '새장', '단전', '부숴', '검선', '노엘', '파레', '나태', '에어로빅', '혼기', '신해', '입소', '튀어', '김윤제', '확신', '손실', '여자애', '노량진', '레이드', '엮였다', '듀오', '잡채', '시계', '심화', '제정', '일방', '모진', '추격자', '탈영병', '조충', '슬럼프', '표절', '금세기', '이하', '신도림역', '수화기', '고도', '파악', '등록', '다이빙', '낚시', '아보', '가식', '현대인', '미노', '동창생', '세련', '일상물', '커뮤니티', '잉', '헌옷수거함', '상대방', '송아람', '둘리', '정진우', '난리', '밀리터리', '보신', '갤러리', '설킨', '러브스토리', '소우주', '태수', '알콜중독자', '호준', '보호관찰', '대상자', '메브', '엉뚱', '사슴', '냇가', '특명', '시시각각', '추궁', '눈독', '재녀', '서희', '표현', '이예', '권도혁', '무장해제', '노골', '얄짤없', '노스트', '보험', '출시', '단돈', '노스트라', '상품', '경비원', '훤칠', '꿀릴', '확정', '의욕', '매립지', '톡방', '나주시', '염색', '화관', '치자', '홍화', '쪽빛', '조화', '민의', '이오', '광휘', '옆방', '고찰', '근성', '성진', '허리', '릴', '한서', '하사', '말뚝', '떡', '박의', '고준형', '폭등', '자동', '강점', '가담', '항설', '컬러풀', '어딘', '니나', '골목', '유치', '뽕짝', '카드', '대대로', '전당포', '마는', '연금술사', '어플리케이션', '작렬', '고급', '레이싱', '정상인', '극악', '도플갱어', '평행', '상쾌', '통쾌', '가방', '로얄', '길드원', '무효', '결혼식장', '슬슬', '퇴장', '자기야', '초면', '조율', '촌각', '코끼리', '채플린', '오마주', '천만원', '지급', '파격', '잔고', '미달', '퇴학', '샐러리맨', '유현', '해안가', '무강', '실마리', '초딩', '스크롤', '패가망신', '런가', '관상', '얀', '풋풋', '은정', '황좌', '경연', '제위', '배당', '개장', '빠', '억압', '안보', '성미', '행위', '시어머니', '시댁', '승헌', '스탯창', '대책', '만가', '한세영', '김진서', '세영', '기생충', '상장', '발끝', '남지은', '김인호', '강변', '오이', '신드롬', '판매', '대작', '태극', '기공', '현암', '고행', '호법', '주술', '준후', '영적', '온상', '마귀', '정재민', '석우', '디엠', '띠링', '김서준', '꿋꿋', '조수희', '수희', '먀오', '카운트', '문화', '대혁명', '동부', '시베리아', '생태학', '탐방', '일찍', '전공', '재직', '또래', '백방', '경이', '구봉', '갓길', '수전노', '산척', '가죽', '공통', '집채', '게다', '바스티안', '에펜베르크', '비셸', '어리석음', '시계탑', '영향력', '숙청', '칼라일', '청정', '흐릿', '손해', '나타', '나희', '행사', '침해', '국면', '가온', '무명도', '반달가슴곰', '아마란스', '바울', '꼬리', '숫', '절연', '친형', '단장', '사칭', '왕게임', '해갈', '여러가지', '론', '결별', '쿠데타', '낭비', '태화', '이수혁', '견학', '출세', '수혁', '개시', '허망', '백도희', '무작위', '고슴도치', '패션쇼', '연출가', '커리어', '온몸', '보육원', '타래', '트러블', '포장', '윤리', '마지노선', '눈엣', '임명', '루드베키아', '허수아비', '여성향', '물레', '션', '횡단보도', '이미지', '탈바꿈', '서화', '최인정', '선경', '바짝', '불안', '실존', '스푼', '방옥숙', '육아용품', '유부녀', '팔로워', '성형', '마력', '동고동락', '새엄마', '명인', '대면', '영화배우', '빈민촌', '턱', '불타', '절치', '부심', '노어', '진입', '사육', '신군', '산촌', '김주', '김달수', '수퍼', '회비', '책임', '손길', '약소국', '홍령', '츄카피', '리안', '대감', '고해', '듯이', '뻔', '화도', '미숙', '남해', '츄리닝', '이상신', '후광', '열혈따윈', '낙', '농구부', '시나리오', '집행', '참수', '천군', '지령', '구욱', '빵점녀', '재활', '봉강', '과내', '조훈', '발명', '산업혁명', '급진', '만배', '중원', '기득권', '널리', '보급', '속삭임', '꽁냥꽁', '햇', '소정', '옥신각신', '흑화', '츤데레', '어마', '골프', '핸디캡', '선행', '검객', '류진', '젊꼰', '윤지', '금사', '초자연', '무덤', '차기', '수로', '만능', '복숭아', '초장', '루트', '흐름', '나안', '흉', '노빠꾸', '호통', '고양', '옛적', '신통', '방통', '중범죄', '독고', '차투스', '시저', '연두', '호두', '몽상', '자신감', '도완', '수강생', '별안간', '의과', '샌프란시스코', '제왕', '톨킨', '장례', '지도사', '짐꾼', '근근히', '감량', '숨쉬기', '옥탑방', '이사오', '진달래', '모델링', '월간', '고투', '씀씀이', '신문수', '찌빠', '김상욱', '헬스남', '한솔', '데드리프트', '단백질', '함량', '엠티', '부침개', '오명', '괴짜', '술꾼', '불로소득', '횟집', '수산', '일보', '둔갑', '어촌', '신랑감', '실롯', '우승상금', '악플러', '처형', '코믹스', '영초', '귀향', '스타트업', '우승', '이행', '혼전', '보수', '한씨', '며느리', '내조', '강조', '매형', '대학시절', '명중', '학우', '중우', '일거수일투족', '퍼트', '촛불', '피부', '손가락질', '업그레이드', '작화', '한밤중', '그녈', '혈안', '새어머니', '온에어', '이슈', '이차', '유명인', '한빛고', '전형', '업로드', '이강', '주행', '헤스티아', '직관', '거란', '루스', '직후', '오파츠', '한림', '체육관', '낙엽', '보석', '햇살', '꽃봉오리', '나일', '과인', '불분명', '블루', '전진솔', '여원', '그동안', '진솔', '팬심', '유튜브', '꼭대기', '태음', '화랑', '하제', '중혁', '차남', '평판', '압도', '중학생', '원서', '도영', '전우치', '장손', '전우진', '꺼벙', '악질', '여사', '재동', '명랑만화', '효시', '길창덕', '호드', '육경', '번번이', '쉴드', '학벌', '의아', '실내', '사무직', '환멸', '착취', '연도', '밥집', '봉준', '풍락', '대규모', '설윤', '레이어', '오바람', '훼방', '라일락', '베스트셀러', '김자', '재판', '사람인', '선화', '옷깃', '엮이면', '저녁식사', '복희', '유효', '쥐', '투병', '이강준', '날짜', '보호국', '나화', '진의', '기녀', '한가람', '여름방학', '테바', '털북숭이계', '앨범', '저수지', '불현듯', '황금색', '캐리어', '가우스전자', '마케팅', '곽백수', '텔레포트', '멜로', '홀릭', '위촉', '고구려인', '백제인', '라미', '블랑셰', '오진', '쇼핑', '목록', '강지영', '불가촉천민', '중경시', '왜냐면', '버추', '샤니', '보디가드', '락샤사', '괴', '마일', '이청', '청혼', '치욕', '연정', '쥬신', '프린스', '초콜릿', '박시현', '일종', '총수', '전대', '서적', '생사', '갈림길', '도달', '국경', '연해주', '이주', '아비지옥', '껍질', '비료', '무간지옥', '피바다', '풍파', '쩌', '페넬로페', '염병', '바트', '모형', '황지', '묵시', '황태자비', '황태후', '교복', '모델', '거치', '정답', '앙골모아', '안위', '몽', '이아름', '저편', '개판', '칭호', '양육', '주자', '탈옥', '홋카이도', '원안', '교무', '임광', '묵', '이의영', '고증', '이영', '구교', '로건', '원고', '야채', '봄방학', '의료', '치매', '원효대사', '금방', '이해해', '편입', '청소기', '진진', '반성', '고온', '박수호', '드루이드', '우주력', '간이', '계열', '육식계', '계시', '첫키스', '한비', '줄타기', '박종원', '동일', '외계', '민간인', '황', '대피', '주치의', '자처', '오지랖', '초이', '무책임', '한새', '전속', '용납', '저열', '최고봉', '징조', '멸룡도', '짊어지', '절박', '이준익', '최현우', '이제석', '최희', '각계', '각층', '서번트', '증후군', '박시온', '동전', '양면', '대학병원', '소아', '편견', '남중', '공대', '오중', '차지호', '플랜', '년도', '천남', '남욱', '서문', '엽', '배틀필드', '불씨', '홍설', '천진난만', '켄', '오하루', '도무지', '남일', '약골', '상쇄되', '주짓수', '격기반', '뭔', '맹물', '안시준', '잠재', '좇는', '오프', '세고', '치한', '팔이', '진혼', '구분', '가혼', '본질', '거짓말쟁이', '김신', '백투더퓨처', '준재', '견문', '전이', '수의사', '애완', '적성', '희소', '재발', '담영', '한가지', '모제', '아홉수', '길이', '제한', '양호', '목사', '영화제작', '변호', '윤진', '개뿔', '폐부', '플라워즈', '장미', '비밀연애', '마침표', '큐피드', '설치', '소마', '가공', '마령', '기후', '폭우', '기상청', '정확도', '기상이변', '이례', '폭풍우', '심상찮', '호신', '일련', '시드', '부임', '부교수', '남상현', '해민', '어쩌면', '제보자', '판사', '실형', '땡', '헛소리', '사법부', '미소년', '기선', '이우주', '리버', '필드', '산맥', '계심', '수하', '그땐', '안드로메다', '야성', '보물섬', '수면', '애정결핍', '쪼', '중매', '아이소포스', '족피', '도생', '해신', '산신령', '우암', '태남', '한정', '호령', '신급', '군복무', '전문', '코칭', '나야', '씨리얼', '사발', '끼니', '토마호크', '덩치', '석사', '골수', '부담', '네팔', '매달', '목요일', '교시', '성수', '큐피트', '교생', '실습생', '모교', '유학생', '히', '준호', '다임', '조력자', '포섭', '소굴', '도천동', '입자', '도진', '마리안', '카리', '가호', '힐데', '킨', '마천', '소음', '데시벨', '안녕하십니까', '무영', '박물관', '천신', '미로', '정대숙', '성산', '철벽남', '신윤복', '김홍도', '디펜스', '지신', '천평', '피해자', '측정', '방정', '뭉치', '개인정보', '수집', '플', '려고', '메세지', '홀연', '무림맹', '타파', '기립', '몸안', '흡수', '칼날', '이괄', '쌉싸르', '실직', '일자리', '장녀', '헬', '냉', '전날', '당수', '심청', '귀염', '의뢰인', '대행', '업체', '빡세', '티비', '범의', '인터뷰', '감명', '가출팸', '불어', '소매치기', '김남주', '룸메', '발길질', '안대', '용의', '남산타워', '은희', '미키', '로드무비', '만이', '요물', '심쿵', '알바생', '성범죄', '기습', '애기', '전선', '무지', '지푸라기', '심정', '시식', '사촌', '평강', '평강공주', '뉴심칩', '뉴심', '교체', '전기', '대인기피증', '보더콜리', '엘프', '오크', '이민자', '위장취업', '강원도', '대안', '클럽', '지배인', '승낙', '암흑가', '오오', '모리', '장밋빛', '제보', '바탕', '입지', '전남편', '은설', '애가', '곤', '직급', '기성세대', '꼰대들', '발언', '관찰', '미니멀리즘', '포화상태', '대론', '미니', '송해나', '정우진', '손제호', '소녀더와일즈', '카이', '청담', '핫걸', '알레르기', '무화과', '초겨울', '풍랑', '육식동물', '박건', '우발', '공소', '시효', '법안', '목격자', '준구', '삐걱', '제비', '카르테', '프리', '메로', '아벨', '땅굴', '모의', '스산', '출구', '온실', '화초', '부서', '종종', '티켓', '돌발행동', '워킹맘', '심성', '인사', '조승훈', '급성', '일제', '식민', '군산', '친일파', '대지주', '몸종', '해변', '독립운동가', '의현', '선장', '선원', '아날로그', '쟤', '날티', '무장', '정법', '편법', '꼼수', '택했다', '부정부패', '약사', '세운', '새싹', '나날이', '고과', '감히', '부합', '낙하산', '개똥', '유은겸', '앵겔', '공시', '고혜', '군침', '초등학생', '철구', '해리포터', '럭셔리', '퍼스트클래스', '마음껏', '소심', '메가쑈킹', '습관성', '금보', '도보', '하이킹', '사촌동생', '서쪽', '완전', '시종일관', '불가침', '침범', '아카시아', '박지', '격투가', '고부', '시월드', '목욕관리사', '때밀이', '담임', '무차별', '언론', '수준', '리퍼', '증언', '가미', '마로', '방불', '케', '정형', '형상', '무더위', '편의', '강심장', '크롤', '삽화가', '국가정보원', '라운드', '특정', '장애인', '주제', '최준', '독점', '마등', '차사', '나기', '팔자', '구제', '로열패밀리', '이승조', '추이', '이문', '설레임', '불신', '학력', '변변찮', '텐트', '백은영', '테일러', '담소', '혼처', '우락부락', '춤', '별로', '너넨', '은하계', '직선제', '시행', '박성용', '여고', '신토', '택한다', '재혼', '축구장', '해만', '변기', '자미', '봄바람', '벚꽃', '잎', '이수', '다용도실', '발짝', '카메라', '비즈니스', '급속도', '일사천리', '개연', '실리', '코프', '인더스', '아르고스', '굴지', '합작', '제등', '캐디', '생활툰', '은영', '채윤', '최첨단', '삭막', '지크', '버드', '쥬스', '코미디언', '헤어디자이너', '야영지', '석촌', '대미', '문의', '민훈이', '보장', '번복', '존', '욜로', '펑펑', '겨눈', '라욱', '한유진', '광화문', '수영복', '차림', '스포츠카', '이호', '무녀', '오백', '초상화', '현혹', '전지', '싱숑', '남도', '친일', '징크스', '허용', '볕', '네로', '태엽', '장치', '비올', '렛타', '공룡', '손가영', '박도영', '무산', '만취', '밥풀', '때기', '다이내믹', '유심', '핵심', '차례차례', '격파', '민성은', '협상', '항', '마승', '중요시', '친목질', '숨통', '주마', '유폐', '무량', '분열', '자멸', '자동차', '지혜', '안식', '휘황', '파투', '우소', '붓감', '글쎄요', '이즈', '레즈', '나머지', '개또', '도르가', '예의', '민정우', '한동우', '고진호', '크로스오버', '슈안', '해피니스', '경찰특공대', '사심', '김태경', '김승민', '직행', '탈퇴', '인원', '나니', '발신', '리그베다', '이영아', '전원', '아이디어', '렌', '브레히트', '제어', '이다몽', '로망따윈', '시간관리', '자발', '김주연', '교양', '수강', '과제', '무색', '무취', '퇴근길', '시험지', '루저', '싸인', '발걸음', '혜리', '추남', '연일', '끈', '종영', '지훈', '적폐', '왕조', '공화정', '선포', '혁명', '루미', '독마', '진청', '미드', '우트', '학살', '사절', '완벽주의자', '빵점', '장지혜', '장의', '케미', '일분', '일초', '미움', '차려', '참치', '돌고래', '도장', '힝', '채린', '검은색', '화장', '프로그래머', '난새', '연하늘', '진분홍', '비상구', '만날', '구석구석', '서유기', '무임', '승차', '윈프리', '힐라리', '한잔', '황성', '힐라', '모나', '휴대폰', '액정', '매너', '진범', '훈남', '학원물', '대타', '다정다감', '연락처', '휴학', '녹', '스윗', '미대', '식칼', '지하세계', '지각', '해수면', '상승', '낙천', '가스', '파드', '말초', '이도현', '엄친딸', '속성', '효녀', '네이션', '탐욕', '발버둥', '살부', '재건', '무하', '고뇌', '여명', '체감', '에르고스피어', '어벤져', '손권', '메신저', '이제껏', '광고대행사', '몰락', '억원', '프리랜서', '눈칫밥', '명절', '민철', '홧김', '이현민', '민송아', '이원준', '개강', '이두나', '마이너스', '기안', '아랑곳', '융화', '허구', '책임감', '초청', '상해', '불시', '간극', '문화재', '쥐락펴락하', '재계', '부패', '강가', '이선호', '개돼지', '고충', '고산', '필립', '히든', '동준', '진희', '속도', '중계', '관문', '홍시호', '단내', '홍시', '대단원', '예부', '파파라치', '기웅', '불치', '크기', '인체', '탐험', '박대', '조연', '순', '이광수', '김세훈', '쇼핑몰', '진압', '봉쇄', '종은', '미처', '인종', '연개소문', '연남생', '남생이', '정쟁', '독살', '고금', '기재', '자각', '여색', '이인범', '괄시', '특훈', '장인', '울림', '맘씨', '오리가', '산악인', '에베레스트', '상한', '희문', '풍기', '조항리', '슈트', '슬기', '미스테리물', '전방', '총기', '헌병', '초임', '박두일', '강성재', '취사', '낙방', '사자혁', '주유', '붓', '무소식', '희소식', '흑곰', '생선', '스피드', '레이서', '홀어머니', '꾀임', '엽사', '단골', '유서', '작년', '은재', '쌩', '홍석준', '강냉이', '기점', '상하', '백정', '삼복', '훈장', '소일', '봉', '김선', '평안', '감사', '덕영', '폭정', '신음', '박정수', '용사', '우등', '윤가민', '똥통', '언럭키', '럭키', '맨션', '화해', '정명석', '성폭행', '종결', '항의', '정직', '자존심', '진리', '기본', '뭉둥', '강화', '몽둥이', '스케일', '스타트', '자율', '남아공', '이영은', '표준', '오수', '다이어트', '팽', '낙호곡', '번만', '팽지혁', '압록강', '이북', '찻잎', '다점', '여진족', '가차', '차만', '다동', '삼고', '다비', '유지아', '파트너', '투자가', '촉나라', '관우', '장비', '주식회사', '장삼봉', '정파', '주현', '신도림', '차단', '레퓨지아레퓨지아', '장벽', '풀라', '레퓨지아', '세라핌', '골방환상곡', '침묵', '단둘', '여느', '태주', '자세', '근대', '열기', '의상', '중립', '차마', '젤리빈', '지진해일', '바퀴', '동등', '체급', '심리전', '지형', '지물', '도구로', '파이터', '은장', '백사', '골방', '환상곡', '워니', '각하', '과잉', '정권', '청부', '웨딩', '불도저', '예비신랑', '밤샘', '하도완그', '리스', '알림', '지금껏', '스튜디오', '진보', '대국민', '행각', '무예', '몽홀그', '유한', '다한', '대판', '별주부전', '체격', '문구', '스티커', '강연', '명옥', '사이비종교', '다혜', '코드네임', '데빌', '신속', '무난', '균열', '사샤', '일등', '발각', '매진', '이원', '화기', '고백록', '후은', '튜토리얼', '선율', '남아프리카', '수리', '코넬', '보보', '워셔', '바둑', '김선희', '폭설', '강풍', '혹', '연구원', '마윤', '하반신', '게이', '특파', '강덕', '중년', '샘', '도모', '상일', '하비', '도서', '노미네이트', '아아루', '인베이더', '래서', '블론디', '흑표범', '몬', '외로워', '간식', '한국판', '삼합회', '대동', '권수', '부장', '유석', '김남훈', '죽마고우', '어간', '커넥션', '오정', '틈', '패션왕', '정주리', '예방', '총살', '조정우', '유장', '려', '사흉', '서인주', '뱃사공', '파검법', '진시황', '선근', '자수', '성가', '신우', '테크', '초반', '유신', '전장', '하락', '튜버', '요소', '지시', '올가미', '뒷전', '다래', '뒷담화', '붙이', '팔레트', '고해성사', '캔버스', '크로키', '핑크색', '약자', '규환', '엽총', '자루', '회수', '뷰', '스위트홈', '찌릿함', '정태양', '써니', '님', '대뜸', '김수현', '사과', '수현', '하디', '캔디', '다세포', '넣기', '흐', '연제원', '클릭', '스탯', '류월', '용비', '불패', '강룡', '정모', '접속', '생방송', '먹음', '기고', '노출', '구조조정', '매트', '복기', '주중', '주년', '적극', '망겜', '초낙운', '기어', '가나', '열등감', '선재', '안달', '복달', '귓가', '펫', '김혜진', '종잡', '싸이코', '미시령', '품격', '관아', '조정', '토벌', '무과', '급제', '안손', '홍킬동', '태백산', '기계로', '소희', '전자기기', '야크', '송태', '일격', '전우', '검제', '가보', '상무', '털', '문웅', '칭', '콜렉터', '포텐', '주안', '어린시절', '어린소년', '해남', '토목공학', '김수호', '퍼펙트', '교통', '원스톱', '프리미엄', '프론테', '선착순', '로열', '바인', '일원', '후준', '안티팬', '이근영', '밀착', '골드', '계층', '군더더기', '쫙', '몸짱', '할렘', '아웃사이더', '올미', '심연', '호각', '전리품', '체계', '이외', '빼', '미명', '치닥', '블록', '슛', '승찬', '출연자', '점핑', '오버', '조니', '젠장', '덧', '혐오', '닥터프로스트', '윤성아', '품행', '모범', '마삼룡', '고여', '자민', '자립', '생자', '만자', '숫자', '전세훈', '감성터치', '수채화', '은총', '소외', '애니멀', '중용', '징글', '세번', '문신', '탈주', '글쓰기', '장판', '지하실', '파릇파릇', '열무', '박민경', '레스토랑', '주방', '어려움', '만세', '패가', '단어', '업보', '이불', '뻥뻥', '똥차', '꼬맹이', '준인', '간계', '성인식', '천식', '제갈', '카이저', '헤비급', '챔피언', '버', '무수', '포로', '연오', '궁녀', '황귀비', '흑마', '법사', '디아블로', '볼피르', '응애', '웰턴', '매직', '찌', '감치', '희진', '이사장', '박정', '탁치', '강북', '최창무', '공가', '리베라', '데크', '레', '전투함', '함장', '레로텔', '외계행성', '타입', '나위', '과지', '공포물', '화양연화', '박령', '안지', '비둘기', '뇌', '달님', '곤란', '술래잡기', '지방', '발령', '외로움', '시신', '실신', '미남자', '당대', '강주', '구실', '갈피', '윤슬', '페이크', '풀이', '조청', '세실고', '뮤지션', '김한석', '조심', '경고', '성덕', '타샤', '로마노프', '발자국', '울보', '텔레파시', '룸', '잔당', '위도', '후기', '성냥갑', '추천', '유범', '경쟁률', '드림', '묵회', '찻집', '다실', '용족', '여의', '보주', '반려', '제라', '여야', '추대', '류완', '라피', '보살', '야차', '법화', '어택', '화장품', '직선', '왜인', '이동건', '모텔', '액자', '건너편', '매직미러', '이민', '일촉즉발', '목포', '극단', '화현', '파쿠르', '가망', '접기', '서진', '일해', '김태림', '문병원', '깊이', '애도', '야후', '부머', '눈보라', '이지현', '발데', '마르', '경영지도사', '겨', '객잔', '박살', '루베', '서영', '완주', '오페라', '야자', '반박', '급상승', '직캠', '역주행', '아윤', '김현아', '모임', '주오', '교장', '홍삼', '노잼', '필살', '김방자', '이향', '점철', '냉소', '쌔끈', '유기한', '집값', '파라다이스', '마찬가지', '세습', '속박', '호풍', '명언', '의리', '대룡', '비서실', '연화', '말단', '악취', '옥죄', '격정', '작물', '통증', '경기장', '짜증', '소행성', '절멸', '에반', '카를', '율과', '남양주', '제패', '곳곳', '표범', '천상천', '유아', '독존', '나이트', '밤새', '콜센터', '예롬', '초국', '비위', '코딩', '영재', '경민', '찮', '일차', '김정훈', '골키퍼', '바이오', '임상실험', '의수', '증식', '하숙집', '올여름', '미안', '임자', '뼈', '그간', '노하우', '강건', '마메', '힙합', '통합', '건마', '랩', '베르나르도', '도미니코', '상층', '노년', '조치', '이국', '마약상', '모이', '물질', '자원', '루비', '순심', '호환', '서양', '엑소시즘', '삼봉이발소', '청춘만화', '한준', '막대', '소집', '응답', '팬서', '트레인', '벌이', '캡틴', '마블', '블레이드', '콜슨', '백모란', '윤회', '진즉', '혁무상', '핍박', '묘사', '건고', '재등장', '종우', '꼬박꼬박', '팸', '월세', '전과자', '꼴', '정인지', '궁리', '분식집', '나름', '팔인', '너드', '난입', '아프리카', '볼더', '비치', '여유', '하드', '온유', '신채', '너비', '혼례', '우물', '판박이', '박씨', '독신', '예비', '제목', '이브', '중단', '사상', '김동진', '임지원', '김시후', '에디터', '양다리', '충', '편집장', '검수', '매화', '검존', '금제', '십만', '대산', '시종', '카헬', '루아', '브', '하녀', '신시', '일곱개', '엮어져', '분석', '혈액형', '무기력증', '솔빈', '로움', '폭죽', '무적핑크', '싹수', '농사', '농부', '침대', '뒹구', '통수', '후려', '부정', '초감각', '식스', '와글', '바글', '혈관', '송유관', '기름', '도유꾼', '석유', '쟁탈', '각고', '동력', '검투사', '랜선', '혜경', '레비', '분수', '제대', '베니스', '로마', '재일', '조총련', '의장', '송', '백설', '후천', '금수', '저가', '하민이', '데뷰', '소장', '맛', '개국', '데사', '흠', '모하', '입장', '나유진', '뱃속', '강서윤', '연주회장', '콘서트홀', '방조', '웅덩이', '귀인', '입가', '아쿠아리움', '김죄', '수족관', '적용', '물가', '광팬', '강팬', '단명', '다작', '이단심문', '마녀사냥', '낌', '신혼부부', '대출', '으른들', '사망률', '경로', '백신', '고니', '헌법', '유기견', '거만', '테스', '외도', '폐기', '최신', '바야흐로', '퇴역군인', '도마도', '위급', '명함', '한장', '마도', '셀프', '벼락', '재정', '부르주아', '천덕', '꾸러기', '차녀', '로비', '파산', '치부', '두통', '비호감', '도가니', '도로시', '민들레', '오즈', '랜드', '촉망', '망국', '설득', '구국', '철혈', '황군', '무협지', '장건', '서부', '개척지', '정수', '각기', '가표', '소년만화', '주문', '취한', '비타민', '특별대우', '아뿔싸', '너투버', '타칭', '눈덩이', '수민', '나마', '저음', '비쩍', '주위', '군입대', '나팔', '점호', '미녀', '메뉴얼', '갑', '싹', '인구', '급증', '비용', '부양', '심심찮', '박태준', '후방', '고품격', '장만', '마켓', '강현', '표정', '흐릿하', '유년기', '신기', '권능', '방과', '나주', '금은', '버팀목', '찰', '덕이', '제피르', '구경', '건아', '김정현', '호모', '콜라보', '심령', '용소', '미드나잇', '체이서', '떵떵거리', '당', '웅이', '부림']\n"
     ]
    }
   ],
   "source": [
    "import pickle\n",
    "\n",
    "# 단어 사전 불러오기\n",
    "with open('vocab.pkl', 'rb') as f:\n",
    "    vocab = pickle.load(f)\n",
    "\n",
    "print(\"단어 사전이 불러와졌습니다.\")\n",
    "print(vocab)"
   ]
  },
  {
   "cell_type": "code",
   "execution_count": 265,
   "metadata": {},
   "outputs": [],
   "source": [
    "import seaborn as sns\n",
    "from sklearn.metrics import confusion_matrix\n",
    "\n",
    "# 모델 테스트하고 혼동 행렬을 시각화하는 함수\n",
    "def test(model, datasets, criterion, device):\n",
    "    model.eval()\n",
    "    losses = list()\n",
    "    corrects = list()\n",
    "    \n",
    "    # 실제 레이블과 예측 값을 저장할 리스트\n",
    "    all_labels = []\n",
    "    all_predictions = []\n",
    "\n",
    "    for step, (input_ids, labels) in enumerate(datasets):   \n",
    "        input_ids = input_ids.to(device)\n",
    "        labels = labels.to(device).unsqueeze(1)\n",
    "\n",
    "        logits = model(input_ids)  \n",
    "        loss = criterion(logits, labels)\n",
    "        losses.append(loss.item())\n",
    "\n",
    "        # 예측 값과 실제 값을 리스트에 추가\n",
    "        yhat = torch.sigmoid(logits) > 0.5  \n",
    "        all_labels.extend(labels.cpu().tolist())  # 실제 레이블\n",
    "        all_predictions.extend(yhat.cpu().tolist())  # 예측 값\n",
    "\n",
    "        corrects.extend(torch.eq(yhat, labels).cpu().tolist())\n",
    "\n",
    "    val_loss = np.mean(losses)\n",
    "    val_accuracy = np.mean(corrects)\n",
    "\n",
    "    print(f\"Val Loss : {val_loss}, Val Accuracy : {val_accuracy}\")\n",
    "\n",
    "    # 혼동 행렬 계산\n",
    "    cm = confusion_matrix(all_labels, all_predictions)\n",
    "\n",
    "    # 혼동 행렬 시각화\n",
    "    plt.figure(figsize=(6, 6))\n",
    "    sns.heatmap(cm, annot=True, fmt=\"d\", cmap=\"Blues\", xticklabels=[\"Negative\", \"Positive\"], yticklabels=[\"Negative\", \"Positive\"])\n",
    "    plt.xlabel('Predicted')\n",
    "    plt.ylabel('Actual')\n",
    "    plt.title('Confusion Matrix')\n",
    "    plt.show()\n",
    "\n",
    "    return val_loss"
   ]
  },
  {
   "cell_type": "code",
   "execution_count": 266,
   "metadata": {},
   "outputs": [
    {
     "name": "stdout",
     "output_type": "stream",
     "text": [
      "Val Loss : 0.6861485976439256, Val Accuracy : 0.5854922279792746\n"
     ]
    },
    {
     "data": {
      "image/png": "[encoded data removed]",
      "text/plain": [
       "<Figure size 600x600 with 2 Axes>"
      ]
     },
     "metadata": {},
     "output_type": "display_data"
    }
   ],
   "source": [
    "val_loss = test(classifier, test_loader, criterion, device)"
   ]
  },
  {
   "cell_type": "code",
   "execution_count": null,
   "metadata": {},
   "outputs": [],
   "source": []
  }
 ],
 "metadata": {
  "kernelspec": {
   "display_name": "TEXT_018_230_38",
   "language": "python",
   "name": "python3"
  },
  "language_info": {
   "codemirror_mode": {
    "name": "ipython",
    "version": 3
   },
   "file_extension": ".py",
   "mimetype": "text/x-python",
   "name": "python",
   "nbconvert_exporter": "python",
   "pygments_lexer": "ipython3",
   "version": "3.8.19"
  }
 },
 "nbformat": 4,
 "nbformat_minor": 2
}
