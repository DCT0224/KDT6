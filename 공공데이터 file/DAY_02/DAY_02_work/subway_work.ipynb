{
 "cells": [
  {
   "cell_type": "code",
   "execution_count": 85,
   "metadata": {},
   "outputs": [],
   "source": [
    "import\tcsv\n",
    "import\tmatplotlib.pyplot as plt\n",
    "import pandas as pd\n",
    "import\tplatform\n",
    "import\tkoreanize_matplotlib"
   ]
  },
  {
   "cell_type": "code",
   "execution_count": 86,
   "metadata": {},
   "outputs": [],
   "source": [
    "max_station = ''\n",
    "max_total = -1\n",
    "\n",
    "file_name='subwaytime.csv'\n",
    "dataDF=pd.read_csv(file_name)\n",
    "dataDF.drop([0],axis=0,inplace=True)"
   ]
  },
  {
   "cell_type": "code",
   "execution_count": 87,
   "metadata": {},
   "outputs": [
    {
     "data": {
      "text/html": [
       "<div>\n",
       "<style scoped>\n",
       "    .dataframe tbody tr th:only-of-type {\n",
       "        vertical-align: middle;\n",
       "    }\n",
       "\n",
       "    .dataframe tbody tr th {\n",
       "        vertical-align: top;\n",
       "    }\n",
       "\n",
       "    .dataframe thead th {\n",
       "        text-align: right;\n",
       "    }\n",
       "</style>\n",
       "<table border=\"1\" class=\"dataframe\">\n",
       "  <thead>\n",
       "    <tr style=\"text-align: right;\">\n",
       "      <th></th>\n",
       "      <th>호선명</th>\n",
       "      <th>지하철역</th>\n",
       "      <th>Unnamed: 11</th>\n",
       "      <th>Unnamed: 13</th>\n",
       "    </tr>\n",
       "  </thead>\n",
       "  <tbody>\n",
       "    <tr>\n",
       "      <th>1</th>\n",
       "      <td>1호선</td>\n",
       "      <td>서울역</td>\n",
       "      <td>115372</td>\n",
       "      <td>224224</td>\n",
       "    </tr>\n",
       "    <tr>\n",
       "      <th>2</th>\n",
       "      <td>1호선</td>\n",
       "      <td>시청</td>\n",
       "      <td>71550</td>\n",
       "      <td>183563</td>\n",
       "    </tr>\n",
       "    <tr>\n",
       "      <th>3</th>\n",
       "      <td>1호선</td>\n",
       "      <td>종각</td>\n",
       "      <td>106889</td>\n",
       "      <td>249815</td>\n",
       "    </tr>\n",
       "    <tr>\n",
       "      <th>4</th>\n",
       "      <td>1호선</td>\n",
       "      <td>종로3가</td>\n",
       "      <td>28024</td>\n",
       "      <td>65287</td>\n",
       "    </tr>\n",
       "    <tr>\n",
       "      <th>5</th>\n",
       "      <td>1호선</td>\n",
       "      <td>종로5가</td>\n",
       "      <td>40044</td>\n",
       "      <td>91110</td>\n",
       "    </tr>\n",
       "    <tr>\n",
       "      <th>...</th>\n",
       "      <td>...</td>\n",
       "      <td>...</td>\n",
       "      <td>...</td>\n",
       "      <td>...</td>\n",
       "    </tr>\n",
       "    <tr>\n",
       "      <th>618</th>\n",
       "      <td>신림선</td>\n",
       "      <td>당곡</td>\n",
       "      <td>3680</td>\n",
       "      <td>8693</td>\n",
       "    </tr>\n",
       "    <tr>\n",
       "      <th>619</th>\n",
       "      <td>신림선</td>\n",
       "      <td>신림</td>\n",
       "      <td>1493</td>\n",
       "      <td>2688</td>\n",
       "    </tr>\n",
       "    <tr>\n",
       "      <th>620</th>\n",
       "      <td>신림선</td>\n",
       "      <td>서원</td>\n",
       "      <td>1405</td>\n",
       "      <td>2360</td>\n",
       "    </tr>\n",
       "    <tr>\n",
       "      <th>621</th>\n",
       "      <td>신림선</td>\n",
       "      <td>서울대벤처타운</td>\n",
       "      <td>6223</td>\n",
       "      <td>10011</td>\n",
       "    </tr>\n",
       "    <tr>\n",
       "      <th>622</th>\n",
       "      <td>신림선</td>\n",
       "      <td>관악산(서울대)</td>\n",
       "      <td>5142</td>\n",
       "      <td>13697</td>\n",
       "    </tr>\n",
       "  </tbody>\n",
       "</table>\n",
       "<p>622 rows × 4 columns</p>\n",
       "</div>"
      ],
      "text/plain": [
       "     호선명      지하철역 Unnamed: 11 Unnamed: 13\n",
       "1    1호선       서울역     115372      224224 \n",
       "2    1호선        시청      71550      183563 \n",
       "3    1호선        종각     106889      249815 \n",
       "4    1호선      종로3가      28024       65287 \n",
       "5    1호선      종로5가      40044       91110 \n",
       "..   ...       ...         ...         ...\n",
       "618  신림선        당곡       3680        8693 \n",
       "619  신림선        신림       1493        2688 \n",
       "620  신림선        서원       1405        2360 \n",
       "621  신림선   서울대벤처타운       6223       10011 \n",
       "622  신림선  관악산(서울대)       5142       13697 \n",
       "\n",
       "[622 rows x 4 columns]"
      ]
     },
     "execution_count": 87,
     "metadata": {},
     "output_type": "execute_result"
    }
   ],
   "source": [
    "hacha_data = dataDF.loc[:, ['호선명','지하철역','Unnamed: 11','Unnamed: 13']]\n",
    "hacha_data"
   ]
  },
  {
   "cell_type": "code",
   "execution_count": 88,
   "metadata": {},
   "outputs": [
    {
     "data": {
      "text/html": [
       "<div>\n",
       "<style scoped>\n",
       "    .dataframe tbody tr th:only-of-type {\n",
       "        vertical-align: middle;\n",
       "    }\n",
       "\n",
       "    .dataframe tbody tr th {\n",
       "        vertical-align: top;\n",
       "    }\n",
       "\n",
       "    .dataframe thead th {\n",
       "        text-align: right;\n",
       "    }\n",
       "</style>\n",
       "<table border=\"1\" class=\"dataframe\">\n",
       "  <thead>\n",
       "    <tr style=\"text-align: right;\">\n",
       "      <th></th>\n",
       "      <th>지하철역</th>\n",
       "      <th>0</th>\n",
       "    </tr>\n",
       "    <tr>\n",
       "      <th>호선명</th>\n",
       "      <th></th>\n",
       "      <th></th>\n",
       "    </tr>\n",
       "  </thead>\n",
       "  <tbody>\n",
       "    <tr>\n",
       "      <th>1호선</th>\n",
       "      <td>서울역</td>\n",
       "      <td>339596</td>\n",
       "    </tr>\n",
       "    <tr>\n",
       "      <th>1호선</th>\n",
       "      <td>시청</td>\n",
       "      <td>255113</td>\n",
       "    </tr>\n",
       "    <tr>\n",
       "      <th>1호선</th>\n",
       "      <td>종각</td>\n",
       "      <td>356704</td>\n",
       "    </tr>\n",
       "    <tr>\n",
       "      <th>1호선</th>\n",
       "      <td>종로3가</td>\n",
       "      <td>93311</td>\n",
       "    </tr>\n",
       "    <tr>\n",
       "      <th>1호선</th>\n",
       "      <td>종로5가</td>\n",
       "      <td>131154</td>\n",
       "    </tr>\n",
       "    <tr>\n",
       "      <th>...</th>\n",
       "      <td>...</td>\n",
       "      <td>...</td>\n",
       "    </tr>\n",
       "    <tr>\n",
       "      <th>신림선</th>\n",
       "      <td>당곡</td>\n",
       "      <td>12373</td>\n",
       "    </tr>\n",
       "    <tr>\n",
       "      <th>신림선</th>\n",
       "      <td>신림</td>\n",
       "      <td>4181</td>\n",
       "    </tr>\n",
       "    <tr>\n",
       "      <th>신림선</th>\n",
       "      <td>서원</td>\n",
       "      <td>3765</td>\n",
       "    </tr>\n",
       "    <tr>\n",
       "      <th>신림선</th>\n",
       "      <td>서울대벤처타운</td>\n",
       "      <td>16234</td>\n",
       "    </tr>\n",
       "    <tr>\n",
       "      <th>신림선</th>\n",
       "      <td>관악산(서울대)</td>\n",
       "      <td>18839</td>\n",
       "    </tr>\n",
       "  </tbody>\n",
       "</table>\n",
       "<p>622 rows × 2 columns</p>\n",
       "</div>"
      ],
      "text/plain": [
       "         지하철역       0\n",
       "호선명                  \n",
       "1호선       서울역  339596\n",
       "1호선        시청  255113\n",
       "1호선        종각  356704\n",
       "1호선      종로3가   93311\n",
       "1호선      종로5가  131154\n",
       "..        ...     ...\n",
       "신림선        당곡   12373\n",
       "신림선        신림    4181\n",
       "신림선        서원    3765\n",
       "신림선   서울대벤처타운   16234\n",
       "신림선  관악산(서울대)   18839\n",
       "\n",
       "[622 rows x 2 columns]"
      ]
     },
     "execution_count": 88,
     "metadata": {},
     "output_type": "execute_result"
    }
   ],
   "source": [
    "hacha_data = hacha_data.set_index('호선명')\n",
    "hacha_data = hacha_data.rename(columns={'Unnamed: 11':'07:00~07:59하차','Unnamed: 13':'08:00~08:59하차'})\n",
    "sum_result=hacha_data['07:00~07:59하차'].astype('int64') + hacha_data['08:00~08:59하차'].astype('int64')\n",
    "station_name=hacha_data['지하철역']\n",
    "new_data=pd.concat([station_name,sum_result],axis=1)\n",
    "new_data\n",
    "\n",
    "# pd.merge(sum_result,station_name,how='inner')\n",
    "# hacha_data.astype(int,'07:00~07:59하차')\n",
    "# hacha_data.astype(int,'08:00~08:59하차')\n"
   ]
  },
  {
   "cell_type": "code",
   "execution_count": 89,
   "metadata": {},
   "outputs": [],
   "source": [
    "one_data=new_data.loc['1호선']\n",
    "two_data=new_data.loc['2호선']\n",
    "thr_data=new_data.loc['3호선']\n",
    "fth_data=new_data.loc['4호선']\n",
    "ffh_data=new_data.loc['5호선']\n",
    "six_data=new_data.loc['6호선']\n",
    "sev_data=new_data.loc['7호선']\n"
   ]
  },
  {
   "cell_type": "code",
   "execution_count": 90,
   "metadata": {},
   "outputs": [],
   "source": [
    "one_data=one_data[one_data[0]==one_data[0].max()]\n",
    "two_data=two_data[two_data[0]==two_data[0].max()]\n",
    "thr_data=thr_data[thr_data[0]==thr_data[0].max()]\n",
    "fth_data=fth_data[fth_data[0]==fth_data[0].max()]\n",
    "ffh_data=ffh_data[ffh_data[0]==ffh_data[0].max()]\n",
    "six_data=six_data[six_data[0]==six_data[0].max()]\n",
    "sev_data=sev_data[sev_data[0]==sev_data[0].max()]\n",
    "\n",
    "# all_data=pd.concat(one_data,two_data,thr_data,fth_data,ffh_data,six_data,sev_data,axis=0)\n",
    "# all_data\n"
   ]
  },
  {
   "cell_type": "code",
   "execution_count": null,
   "metadata": {},
   "outputs": [],
   "source": []
  },
  {
   "cell_type": "code",
   "execution_count": 91,
   "metadata": {},
   "outputs": [
    {
     "data": {
      "text/plain": [
       "[356704, 488949, 318850, 224078, 340464, 131646, 494848]"
      ]
     },
     "execution_count": 91,
     "metadata": {},
     "output_type": "execute_result"
    }
   ],
   "source": [
    "# y축 값 만들기\n",
    "\n",
    "bar_y_val=[one_data[0].max(),two_data[0].max(),thr_data[0].max(),fth_data[0].max(),ffh_data[0].max(),six_data[0].max(),sev_data[0].max()]\n",
    "bar_y_val"
   ]
  },
  {
   "cell_type": "code",
   "execution_count": 92,
   "metadata": {},
   "outputs": [
    {
     "data": {
      "text/plain": [
       "['1호선 종각',\n",
       " '2호선 역삼',\n",
       " '3호선 양재(서초구청)',\n",
       " '4호선 충무로',\n",
       " '5호선 여의도',\n",
       " '6호선 공덕',\n",
       " '7호선 가산디지털단지']"
      ]
     },
     "execution_count": 92,
     "metadata": {},
     "output_type": "execute_result"
    }
   ],
   "source": [
    "# x 라벨 만들기\n",
    "bar_x_val=['1호선 '+one_data['지하철역'].max(),\n",
    "           '2호선 '+two_data['지하철역'].max(),\n",
    "           '3호선 '+thr_data['지하철역'].max(),\n",
    "           '4호선 ' +fth_data['지하철역'].max(),\n",
    "           '5호선 '+ffh_data['지하철역'].max(),\n",
    "           '6호선 '+six_data['지하철역'].max(),\n",
    "           '7호선 '+sev_data['지하철역'].max()]\n",
    "bar_x_val"
   ]
  },
  {
   "cell_type": "code",
   "execution_count": 93,
   "metadata": {},
   "outputs": [
    {
     "data": {
      "image/png": "[encoded data removed]",
      "text/plain": [
       "<Figure size 640x480 with 1 Axes>"
      ]
     },
     "metadata": {},
     "output_type": "display_data"
    }
   ],
   "source": [
    "plt.bar(bar_x_val,bar_y_val)\n",
    "plt.title(\"출근 시간대 지하철 노선별 최대 하차 인원 및 하차역\")\n",
    "plt.xticks(fontsize=8,rotation=70)\n",
    "plt.show()"
   ]
  },
  {
   "cell_type": "code",
   "execution_count": null,
   "metadata": {},
   "outputs": [],
   "source": []
  }
 ],
 "metadata": {
  "kernelspec": {
   "display_name": "samban",
   "language": "python",
   "name": "python3"
  },
  "language_info": {
   "codemirror_mode": {
    "name": "ipython",
    "version": 3
   },
   "file_extension": ".py",
   "mimetype": "text/x-python",
   "name": "python",
   "nbconvert_exporter": "python",
   "pygments_lexer": "ipython3",
   "version": "3.9.19"
  }
 },
 "nbformat": 4,
 "nbformat_minor": 2
}
