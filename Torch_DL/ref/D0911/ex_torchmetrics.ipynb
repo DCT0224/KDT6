{
 "cells": [
  {
   "cell_type": "markdown",
   "metadata": {},
   "source": [
    "##### Torchmetrics  패키지\n",
    "- pytorch에서 모델 성능평가 기능 제공 패키지\n",
    "- 추가 설치 필요 \n",
    "    * pip : pip install torchmetrics\n",
    "    * conda : conda install -c conda-forge torchmetrics\n",
    "- 사용법\n",
    "    * 클래스 방식 : 인스턴스 생성 후 사용\n",
    "    * 함수 방식 : 바로 사용 "
   ]
  },
  {
   "cell_type": "markdown",
   "metadata": {},
   "source": [
    "- [1] 회귀(Regression) 성능지표"
   ]
  },
  {
   "cell_type": "code",
   "execution_count": 64,
   "metadata": {},
   "outputs": [],
   "source": [
    "# 모듈 로딩\n",
    "from torchmetrics.functional.regression import r2_score \n",
    "from torchmetrics.regression import R2Score\n",
    "import torch "
   ]
  },
  {
   "cell_type": "code",
   "execution_count": 65,
   "metadata": {},
   "outputs": [
    {
     "name": "stdout",
     "output_type": "stream",
     "text": [
      "tensor(0.9486)\n"
     ]
    }
   ],
   "source": [
    "# 클래스 방식 --------------------------------------------\n",
    "# 데이터\n",
    "target = torch.tensor([3, -0.5, 2, 7])  # 1D (4,)\n",
    "preds = torch.tensor([2.5, 0.0, 2, 8])  # 1D (4,)\n",
    "\n",
    "# 성능평가 => R2Score : 0 ~ 1(좋음) 정답에 얼마나 근사하게 표현했는가 \n",
    "# r2score = R2Score()\n",
    "# r2score(preds, target)\n",
    "print( R2Score()(preds, target) )"
   ]
  },
  {
   "cell_type": "code",
   "execution_count": 66,
   "metadata": {},
   "outputs": [
    {
     "data": {
      "text/plain": [
       "tensor(0.9486)"
      ]
     },
     "execution_count": 66,
     "metadata": {},
     "output_type": "execute_result"
    }
   ],
   "source": [
    "# 함수 방식 --------------------------------------------------\n",
    "# 데이터\n",
    "target = torch.tensor([3, -0.5, 2, 7])  # 1D (4,)\n",
    "preds = torch.tensor([2.5, 0.0, 2, 8])  # 1D (4,)\n",
    "\n",
    "# 성능평가 => r2_score : 0 ~ 1(좋음) 정답에 얼마나 근사하게 표현했는가 \n",
    "r2_score(preds, target)"
   ]
  },
  {
   "cell_type": "code",
   "execution_count": 67,
   "metadata": {},
   "outputs": [],
   "source": [
    "# 모듈 로딩\n",
    "from torchmetrics.functional.regression import mean_squared_error, mean_absolute_error \n",
    "from torchmetrics.regression import MeanSquaredError, MeanAbsoluteError\n",
    "import torch "
   ]
  },
  {
   "cell_type": "code",
   "execution_count": 68,
   "metadata": {},
   "outputs": [
    {
     "name": "stdout",
     "output_type": "stream",
     "text": [
      "tensor(0.8750)\n",
      "tensor(0.8750)\n"
     ]
    }
   ],
   "source": [
    "# 데이터 \n",
    "target = torch.tensor([2.5, 5.0, 4.0, 8.0])\n",
    "preds = torch.tensor([3.0, 5.0, 2.5, 7.0])\n",
    "\n",
    "# 성능평가 => 오차계산 : 0에 가까울 수록 좋은 것  \n",
    "meansquarederror = MeanSquaredError()\n",
    "print( meansquarederror(preds, target) )\n",
    "print( MeanSquaredError()(preds, target) )"
   ]
  },
  {
   "cell_type": "code",
   "execution_count": 69,
   "metadata": {},
   "outputs": [
    {
     "data": {
      "text/plain": [
       "tensor(0.8750)"
      ]
     },
     "execution_count": 69,
     "metadata": {},
     "output_type": "execute_result"
    }
   ],
   "source": [
    "# 데이터 \n",
    "target = torch.tensor([2.5, 5.0, 4.0, 8.0])\n",
    "preds = torch.tensor([3.0, 5.0, 2.5, 7.0])\n",
    "\n",
    "# 오차계산 \n",
    "mean_squared_error(preds, target)\n"
   ]
  },
  {
   "cell_type": "code",
   "execution_count": null,
   "metadata": {},
   "outputs": [],
   "source": []
  },
  {
   "cell_type": "code",
   "execution_count": null,
   "metadata": {},
   "outputs": [],
   "source": []
  },
  {
   "cell_type": "code",
   "execution_count": null,
   "metadata": {},
   "outputs": [],
   "source": []
  },
  {
   "cell_type": "code",
   "execution_count": null,
   "metadata": {},
   "outputs": [],
   "source": []
  },
  {
   "cell_type": "code",
   "execution_count": null,
   "metadata": {},
   "outputs": [],
   "source": []
  },
  {
   "cell_type": "code",
   "execution_count": 75,
   "metadata": {},
   "outputs": [],
   "source": [
    "from torchmetrics.classification import F1Score, BinaryAccuracy, Accuracy\n",
    "from torchmetrics.classification import ConfusionMatrix, BinaryConfusionMatrix, MulticlassConfusionMatrix\n",
    "\n",
    "from torchmetrics.functional.classification import f1_score, binary_accuracy"
   ]
  },
  {
   "cell_type": "code",
   "execution_count": 76,
   "metadata": {},
   "outputs": [
    {
     "data": {
      "text/plain": [
       "tensor([[2, 0],\n",
       "        [1, 1]])"
      ]
     },
     "execution_count": 76,
     "metadata": {},
     "output_type": "execute_result"
    }
   ],
   "source": [
    "target = torch.tensor([1, 1, 0, 0])\n",
    "preds = torch.tensor([0, 1, 0, 0])\n",
    "\n",
    "confmat = ConfusionMatrix(task=\"binary\", num_classes=2)\n",
    "confmat(preds, target)"
   ]
  },
  {
   "cell_type": "code",
   "execution_count": 77,
   "metadata": {},
   "outputs": [
    {
     "data": {
      "text/plain": [
       "tensor([[[1, 0],\n",
       "         [0, 1]],\n",
       "\n",
       "        [[1, 0],\n",
       "         [1, 0]],\n",
       "\n",
       "        [[0, 1],\n",
       "         [0, 1]]])"
      ]
     },
     "execution_count": 77,
     "metadata": {},
     "output_type": "execute_result"
    }
   ],
   "source": [
    "target = torch.tensor([[0, 1, 0], [1, 0, 1]])\n",
    "preds = torch.tensor([[0, 0, 1], [1, 0, 1]])\n",
    "\n",
    "confmat = ConfusionMatrix(task=\"multilabel\", num_labels=3)\n",
    "confmat(preds, target)"
   ]
  },
  {
   "cell_type": "code",
   "execution_count": 78,
   "metadata": {},
   "outputs": [
    {
     "data": {
      "text/plain": [
       "tensor([[2, 0],\n",
       "        [1, 1]])"
      ]
     },
     "execution_count": 78,
     "metadata": {},
     "output_type": "execute_result"
    }
   ],
   "source": [
    "target = torch.tensor([1, 1, 0, 0])\n",
    "preds = torch.tensor([0, 1, 0, 0])\n",
    "\n",
    "bcm = BinaryConfusionMatrix()\n",
    "bcm(preds, target)"
   ]
  },
  {
   "cell_type": "code",
   "execution_count": 79,
   "metadata": {},
   "outputs": [
    {
     "data": {
      "text/plain": [
       "tensor([[1, 1, 0],\n",
       "        [0, 1, 0],\n",
       "        [0, 0, 1]])"
      ]
     },
     "execution_count": 79,
     "metadata": {},
     "output_type": "execute_result"
    }
   ],
   "source": [
    "target = torch.tensor([2, 1, 0, 0])\n",
    "preds = torch.tensor([2, 1, 0, 1])\n",
    "\n",
    "metric = MulticlassConfusionMatrix(num_classes=3)\n",
    "metric(preds, target)"
   ]
  }
 ],
 "metadata": {
  "kernelspec": {
   "display_name": "TORCH_38",
   "language": "python",
   "name": "python3"
  },
  "language_info": {
   "codemirror_mode": {
    "name": "ipython",
    "version": 3
   },
   "file_extension": ".py",
   "mimetype": "text/x-python",
   "name": "python",
   "nbconvert_exporter": "python",
   "pygments_lexer": "ipython3",
   "version": "3.8.19"
  }
 },
 "nbformat": 4,
 "nbformat_minor": 2
}
