{
 "cells": [
  {
   "cell_type": "markdown",
   "metadata": {},
   "source": [
    "* anaconda opencv-python => 구글에 설치 파일 찾을때 검색어\n",
    "* 컴퓨터에 설치되어 있는 가상환경 확인 명령어 : conda env list\n",
    " * (TORCH_CV_38) PS C:\\WINDOWS\\system32> python\n",
    "    - >>> import cv2\n",
    "    - >>> cv2.__version__\n",
    "    - '4.10.0'\n",
    "    - >>> exit()'''\n",
    "* pytorch 설치 : https://pytorch.org/ 에 가서 설치 명령어 있는 곳 찾기"
   ]
  },
  {
   "cell_type": "markdown",
   "metadata": {},
   "source": []
  }
 ],
 "metadata": {
  "language_info": {
   "name": "python"
  }
 },
 "nbformat": 4,
 "nbformat_minor": 2
}
