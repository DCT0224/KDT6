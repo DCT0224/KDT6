{
 "cells": [
  {
   "cell_type": "markdown",
   "metadata": {},
   "source": [
    "#### DNN 기반 회귀 모델 구현 + 학습 진행 모니터링\n",
    "- 데이터셋 : iris.csv\n",
    "- Feature : 3개 Sepal_Length, Sepal_Width, Petal_Length\n",
    "- Target : 1개 Petal_Width\n",
    "- 학습-방법 : 지도학습 > 회귀\n",
    "- 알고리즘 : 인공신경망(ANN) => MLP, DNN : 은닉층이 많은 구성\n",
    "- 프레임워크 : Pytorch\n",
    "* * *\n",
    "- 모니터링\n",
    "    * 기준 : 검증데이터셋의 loss 또는 score\n",
    "    * 평가 : 학습데이터셋의 loss 또는 score와 비교해서 학습 중단여부 결정\n",
    "    * 선택 : 현재까지 진행된 모델의 파라미터(가중치, 절편) 저장 여부 또는 모델 전체 저장\n",
    "    \n"
   ]
  },
  {
   "cell_type": "markdown",
   "metadata": {},
   "source": [
    "[1] 모듈 로딩 및 데이터 준비 <hr>"
   ]
  },
  {
   "cell_type": "code",
   "execution_count": 1,
   "metadata": {},
   "outputs": [],
   "source": [
    "# 모델 관련 모듈 로딩\n",
    "import torch\n",
    "import torch.nn as nn\n",
    "import torch.nn.functional as F\n",
    "from torch.utils.data import Dataset, DataLoader\n",
    "import torch.optim as optim\n",
    "from torchmetrics.regression import R2Score, MeanSquaredError\n",
    "from torchinfo import summary\n",
    "\n",
    "# Data 관련 모듈 로딩\n",
    "import pandas as pd\n",
    "import matplotlib.pyplot as plt\n",
    "from sklearn.preprocessing import *\n",
    "from sklearn.model_selection import train_test_split"
   ]
  },
  {
   "cell_type": "code",
   "execution_count": 2,
   "metadata": {},
   "outputs": [
    {
     "name": "stdout",
     "output_type": "stream",
     "text": [
      "Pytorch V. 2.4.1\n",
      "Pandas V. 2.4.1\n"
     ]
    }
   ],
   "source": [
    "# 활용 패키지 버전 체크 => 사용자 정의 함수로 구현하기\n",
    "print(f'Pytorch V. {torch.__version__}')\n",
    "print(f'Pandas V. {torch.__version__}')"
   ]
  },
  {
   "cell_type": "code",
   "execution_count": 3,
   "metadata": {},
   "outputs": [
    {
     "data": {
      "text/html": [
       "<div>\n",
       "<style scoped>\n",
       "    .dataframe tbody tr th:only-of-type {\n",
       "        vertical-align: middle;\n",
       "    }\n",
       "\n",
       "    .dataframe tbody tr th {\n",
       "        vertical-align: top;\n",
       "    }\n",
       "\n",
       "    .dataframe thead th {\n",
       "        text-align: right;\n",
       "    }\n",
       "</style>\n",
       "<table border=\"1\" class=\"dataframe\">\n",
       "  <thead>\n",
       "    <tr style=\"text-align: right;\">\n",
       "      <th></th>\n",
       "      <th>sepal.length</th>\n",
       "      <th>sepal.width</th>\n",
       "      <th>petal.length</th>\n",
       "      <th>petal.width</th>\n",
       "    </tr>\n",
       "  </thead>\n",
       "  <tbody>\n",
       "    <tr>\n",
       "      <th>0</th>\n",
       "      <td>5.1</td>\n",
       "      <td>3.5</td>\n",
       "      <td>1.4</td>\n",
       "      <td>0.2</td>\n",
       "    </tr>\n",
       "  </tbody>\n",
       "</table>\n",
       "</div>"
      ],
      "text/plain": [
       "   sepal.length  sepal.width  petal.length  petal.width\n",
       "0           5.1          3.5           1.4          0.2"
      ]
     },
     "execution_count": 3,
     "metadata": {},
     "output_type": "execute_result"
    }
   ],
   "source": [
    "# 데이터 로딩\n",
    "DATA_FILE='../data/iris.csv'\n",
    "\n",
    "# CSV => DataFrame\n",
    "irisDF=pd.read_csv(DATA_FILE, usecols=[0,1,2,3])\n",
    "\n",
    "# 데이터 확인\n",
    "irisDF.head(1)"
   ]
  },
  {
   "cell_type": "markdown",
   "metadata": {},
   "source": [
    "[2] 모델 클래스 설계 및 정의<hr>\n",
    "- 클래스목적 : iris 데이터를 학습 및 추론 목적 \n",
    "- 클래스이름 : IrisRegModel\n",
    "- 부모클래스 : nn.Module\n",
    "- 매개변수 : 층별 입출력 개수 고정하기때문에 필요 없음\n",
    "- 속성필드 : \n",
    "- 기능역할 : __init__() : 모델 구조, forward() : 순방향 학습 <= 오버라이딩\n",
    "- 클래스구조\n",
    "    * 입력층 : 입력 3개(피처)   출력 10개(퍼셉트론/뉴런 10개 존재)\n",
    "    * 은닉층 : 입력 10개        출력 30개(퍼셉트론/뉴런 30개 존재)\n",
    "    * 출력층 : 입력 30개        출력 1개(너비값)\n",
    "\n",
    "- 활성화함수\n",
    "    * 클래스형태 => nn.MESLoss, nn.ReLU => __init__() 메서드\n",
    "    * 함수형태 => torch.nn.fuctional 아래에 => forward() 메서드"
   ]
  },
  {
   "cell_type": "code",
   "execution_count": 4,
   "metadata": {},
   "outputs": [],
   "source": [
    "class IrisRegModel(nn.Module):\n",
    "\n",
    "    # 모델 구조 구성 및 인스턴스 생성 메서드\n",
    "    def __init__(self):\n",
    "        super().__init__()\n",
    "\n",
    "        self.in_layer=nn.Linear(3,10)\n",
    "        self.hd_layer=nn.Linear(10,30)\n",
    "        self.out_layer=nn.Linear(30,1)\n",
    "\n",
    "    # 순방향 학습 진행 메서드\n",
    "    def forward(self, x):\n",
    "        y=F.relu(self.in_layer(x))\n",
    "        y=F.relu(self.hd_layer(y))\n",
    "        return self.out_layer(y)      # 회귀라서 바로 리턴"
   ]
  },
  {
   "cell_type": "code",
   "execution_count": 5,
   "metadata": {},
   "outputs": [
    {
     "name": "stdout",
     "output_type": "stream",
     "text": [
      "IrisRegModel(\n",
      "  (in_layer): Linear(in_features=3, out_features=10, bias=True)\n",
      "  (hd_layer): Linear(in_features=10, out_features=30, bias=True)\n",
      "  (out_layer): Linear(in_features=30, out_features=1, bias=True)\n",
      ")\n"
     ]
    }
   ],
   "source": [
    "# 모델 인스턴스 생성\n",
    "model=IrisRegModel()\n",
    "\n",
    "print(model)"
   ]
  },
  {
   "cell_type": "code",
   "execution_count": 6,
   "metadata": {},
   "outputs": [
    {
     "data": {
      "text/plain": [
       "==========================================================================================\n",
       "Layer (type:depth-idx)                   Output Shape              Param #\n",
       "==========================================================================================\n",
       "IrisRegModel                             [10, 1]                   --\n",
       "├─Linear: 1-1                            [10, 10]                  40\n",
       "├─Linear: 1-2                            [10, 30]                  330\n",
       "├─Linear: 1-3                            [10, 1]                   31\n",
       "==========================================================================================\n",
       "Total params: 401\n",
       "Trainable params: 401\n",
       "Non-trainable params: 0\n",
       "Total mult-adds (M): 0.00\n",
       "==========================================================================================\n",
       "Input size (MB): 0.00\n",
       "Forward/backward pass size (MB): 0.00\n",
       "Params size (MB): 0.00\n",
       "Estimated Total Size (MB): 0.01\n",
       "=========================================================================================="
      ]
     },
     "execution_count": 6,
     "metadata": {},
     "output_type": "execute_result"
    }
   ],
   "source": [
    "# 모델 사용 메모리 정보 확인\n",
    "summary(model, input_size=(10,3))"
   ]
  },
  {
   "cell_type": "markdown",
   "metadata": {},
   "source": [
    "[3] 데이터셋 클래스 설계 및 정의<hr>\n",
    "- 데이터셋 : iris.csv\n",
    "- 피쳐개수 : 3개\n",
    "- 타겟개수 : 1개\n",
    "- 클래스이름 : IrisDataset\n",
    "- 부모클래스 : utils.data.Dataset\n",
    "- 속성필드 : featureDF, targetDF, n_rows, n_features\n",
    "- 필수메서드\n",
    "    * __init__(self) : 데이터셋 저장 및 전처리, 개발자가 필요한 속성 설정\n",
    "    * __len__(self) : 데이터의 개수 반환\n",
    "    * __getitem__(self, index) : 특정 인덱스의 피쳐와 타겟 반환"
   ]
  },
  {
   "cell_type": "code",
   "execution_count": 7,
   "metadata": {},
   "outputs": [],
   "source": [
    "class IrisDataset(Dataset):\n",
    "\n",
    "    def __init__(self, featureDF, targetDF):\n",
    "        self.featureDF=featureDF\n",
    "        self.targetDF=targetDF\n",
    "        self.n_rows=featureDF.shape[0]\n",
    "        self.n_features=featureDF.shape[1]\n",
    "\n",
    "    def __len__(self):\n",
    "        return self.n_rows\n",
    "    \n",
    "    def __getitem__(self, index):\n",
    "        # 넘파이를 텐서로\n",
    "        featureTS=torch.FloatTensor(self.featureDF.iloc[index].values)\n",
    "        targetTS=torch.FloatTensor(self.targetDF.iloc[index].values)        \n",
    "        # 피쳐와 타겟 반환\n",
    "        return featureTS, targetTS"
   ]
  },
  {
   "cell_type": "markdown",
   "metadata": {},
   "source": [
    "[3-1] 데이터셋 인스턴스 생성 <hr>"
   ]
  },
  {
   "cell_type": "code",
   "execution_count": 8,
   "metadata": {},
   "outputs": [
    {
     "name": "stdout",
     "output_type": "stream",
     "text": [
      "featureDF => (150, 3), targetDF => (150, 1)\n"
     ]
    }
   ],
   "source": [
    "# 피쳐, 타겟 추출\n",
    "featureDF, targetDF=irisDF[irisDF.columns[:-1]], irisDF[irisDF.columns[-1:]]\n",
    "print(f'featureDF => {featureDF.shape}, targetDF => {targetDF.shape}')\n",
    "\n",
    "# 데이터셋 인스턴스 생성\n",
    "irisDS=IrisDataset(featureDF, targetDF)"
   ]
  },
  {
   "cell_type": "markdown",
   "metadata": {},
   "source": [
    "[4] 학습 준비\n",
    "- 학습 횟수 : EPOCH <= 처음부터 끝까지 학습하는 단위\n",
    "- 배치 크기 : BATCH_SIZE <= 한번에 학습할 데이터셋 양\n",
    "- 위치 지정 : DEVICE <= 텐서 저장 및 실행 위치 (GPU/CPU)\n",
    "- 학습률 : LR 가중치와 절편 업데이트 시 경사하강법으로 업데이트 간격 설정 0.001~0.1"
   ]
  },
  {
   "cell_type": "code",
   "execution_count": 9,
   "metadata": {},
   "outputs": [],
   "source": [
    "# 학습 진행 관련 설정\n",
    "EPOCH=1\n",
    "BATCH_SIZE=10\n",
    "BATCH_CNT=irisDF.shape[0]/BATCH_SIZE\n",
    "DEVICE= 'cuda' if torch.cuda.is_available() else 'cpu'\n",
    "LR=0.001"
   ]
  },
  {
   "cell_type": "markdown",
   "metadata": {},
   "source": [
    "- 인스턴스/객체 : 모델, 데이터셋, 최적화 + (손실함수 , 성능지표)"
   ]
  },
  {
   "cell_type": "code",
   "execution_count": 10,
   "metadata": {},
   "outputs": [
    {
     "name": "stdout",
     "output_type": "stream",
     "text": [
      "(84, 3) (38, 3) (28, 3)\n",
      "(84, 1) (38, 1) (28, 1)\n"
     ]
    }
   ],
   "source": [
    "# 모델 인스턴스\n",
    "model=IrisRegModel()\n",
    "\n",
    "# 데이터셋 인스턴스\n",
    "X_train, X_test, y_train, y_test=train_test_split(featureDF, targetDF, random_state=1)\n",
    "X_train, X_val, y_train, y_val=train_test_split(X_train, y_train, random_state=1)\n",
    "print(f'{X_train.shape} {X_test.shape} {X_val.shape}')\n",
    "print(f'{y_train.shape} {y_test.shape} {y_val.shape}')\n",
    "\n",
    "trainDS=IrisDataset(X_train, y_train)\n",
    "valDS=IrisDataset(X_val, y_val)\n",
    "testDS=IrisDataset(X_test, y_test)\n",
    "\n",
    "# 데이터로드 인스턴스\n",
    "trainDL=DataLoader(trainDS, batch_size=BATCH_SIZE)"
   ]
  },
  {
   "cell_type": "code",
   "execution_count": 11,
   "metadata": {},
   "outputs": [
    {
     "name": "stdout",
     "output_type": "stream",
     "text": [
      "torch.Size([10, 3]) torch.Size([10, 1])\n",
      "torch.Size([10, 3]) torch.Size([10, 1])\n",
      "torch.Size([10, 3]) torch.Size([10, 1])\n",
      "torch.Size([10, 3]) torch.Size([10, 1])\n",
      "torch.Size([10, 3]) torch.Size([10, 1])\n",
      "torch.Size([10, 3]) torch.Size([10, 1])\n",
      "torch.Size([10, 3]) torch.Size([10, 1])\n",
      "torch.Size([10, 3]) torch.Size([10, 1])\n",
      "torch.Size([4, 3]) torch.Size([4, 1])\n"
     ]
    }
   ],
   "source": [
    "# [테스트] 데이터로더\n",
    "for feature, target in trainDL:\n",
    "    print(feature.shape, target.shape)"
   ]
  },
  {
   "cell_type": "code",
   "execution_count": 12,
   "metadata": {},
   "outputs": [],
   "source": [
    "# 최적화 인스턴스 => W, b 텐서 즉, model.parameters() 전달\n",
    "optimizer=optim.Adam(model.parameters(), lr=LR)\n",
    "\n",
    "# 손실함수 인스턴스 => 회귀, MSE, MAE, RMSE ...\n",
    "regLoss=nn.MSELoss()"
   ]
  },
  {
   "cell_type": "code",
   "execution_count": 13,
   "metadata": {},
   "outputs": [],
   "source": [
    "# 학습의 효과 확인 손실값과 성능평가값 저장 필요\n",
    "LOSS_HISTORY, SCORE_HISTROY=[[],[]], [[],[]]\n",
    "\n",
    "## 학습 모니터링/스케줄링 설정 \n",
    "# => LOSS_HISTORY, SCORE_HISTROY 활용\n",
    "# => 임계기준 : 10번\n",
    "BREAK_CNT = 0\n",
    "LIMIT_VALUE = 10\n",
    "\n",
    "\n",
    "for epoch in range(EPOCH):\n",
    "    # 학습 모드로 모델 설정\n",
    "    model.train()\n",
    "\n",
    "    # 배치크기 만큼 데이터 로딩해서 학습 진행\n",
    "    loss_total, score_total=0, 0\n",
    "    for featureTS, targetTS in trainDL:\n",
    "\n",
    "        # 학습 진행\n",
    "        pre_y=model(featureTS)\n",
    "\n",
    "        # 손실 계산\n",
    "        loss=regLoss(pre_y, targetTS)\n",
    "        loss_total += loss.item()\n",
    "\n",
    "        # 성능평가 계산\n",
    "        score=R2Score()(pre_y, targetTS)\n",
    "        score_total += score.item()\n",
    "\n",
    "        # 최적화 진행\n",
    "        optimizer.zero_grad()\n",
    "        loss.backward()\n",
    "        optimizer.step()\n",
    "    \n",
    "    # 에포크 당 검증기능\n",
    "    # 모델 검증 모드 설정\n",
    "    model.eval()\n",
    "    with torch.no_grad():\n",
    "\n",
    "        # 검증 데이터셋\n",
    "        val_featureTS=torch.FloatTensor(valDS.featureDF.values)\n",
    "        val_targetTS=torch.FloatTensor(valDS.targetDF.values)\n",
    "\n",
    "        # 추론/평가\n",
    "        pre_val=model(val_featureTS)\n",
    "\n",
    "        # 손실\n",
    "        loss_val=regLoss(pre_val, val_targetTS)\n",
    "\n",
    "        # 성능평가\n",
    "        score_val=R2Score()(pre_val, val_targetTS)\n",
    "    \n",
    "    # 에포크 당 손실값과 성능평가값 저장\n",
    "    LOSS_HISTORY[0].append(loss_total/BATCH_CNT)\n",
    "    SCORE_HISTROY[0].append(score_total/BATCH_CNT)\n",
    "\n",
    "    LOSS_HISTORY[1].append(loss_val)\n",
    "    SCORE_HISTROY[1].append(score_val)\n",
    "\n",
    "    # 학습 진행 모니터링 / 스케줄링 - 검증 DS 기준 => Loss와 Score 중 둘중 한 개만 보면 됨.\n",
    "    # Loss 기준\n",
    "    if len(LOSS_HISTORY[0]) >= 2:\n",
    "        if LOSS_HISTORY[1][-1] >= LOSS_HISTORY[1][-2]: BREAK_CNT += 1\n",
    "\n",
    "    # Score 기준\n",
    "    if len(SCORE_HISTROY[0]) >= 2:\n",
    "        if SCORE_HISTROY[1][-1] <= SCORE_HISTROY[1][-2]: BREAK_CNT += 1\n",
    "\n",
    "    # 학습 중단 여부 설정\n",
    "    if BREAK_CNT > LIMIT_VALUE:\n",
    "        print('성능 및 손실 개선이 없어서 학습 중단')"
   ]
  },
  {
   "cell_type": "markdown",
   "metadata": {},
   "source": [
    "- 모델 저장 방법 <hr>\n",
    "* 방법1 : 모델 파라미터만 저장\n",
    "* 방법2 : 모델 설계 구조 및 파라미터까지 모두 저장"
   ]
  },
  {
   "cell_type": "code",
   "execution_count": 14,
   "metadata": {},
   "outputs": [
    {
     "data": {
      "text/plain": [
       "OrderedDict([('in_layer.weight',\n",
       "              tensor([[-0.4334,  0.0529,  0.2268],\n",
       "                      [-0.5401,  0.3783,  0.5661],\n",
       "                      [-0.3071, -0.3296, -0.1723],\n",
       "                      [-0.4639, -0.4061, -0.3578],\n",
       "                      [-0.4400,  0.1309, -0.4086],\n",
       "                      [ 0.2493, -0.2815, -0.0490],\n",
       "                      [-0.2717, -0.3028, -0.0111],\n",
       "                      [-0.5571, -0.2264, -0.4854],\n",
       "                      [-0.0560,  0.5592,  0.0821],\n",
       "                      [-0.3566,  0.2957, -0.2417]])),\n",
       "             ('in_layer.bias',\n",
       "              tensor([ 0.1742,  0.0940, -0.5292, -0.1120, -0.0917,  0.5431,  0.0675, -0.2549,\n",
       "                       0.3606,  0.1825])),\n",
       "             ('hd_layer.weight',\n",
       "              tensor([[-0.2540,  0.0484,  0.2043, -0.0058,  0.0281, -0.2398,  0.0077, -0.2214,\n",
       "                       -0.2870, -0.1638],\n",
       "                      [ 0.1706, -0.2825,  0.1455, -0.2146,  0.1406,  0.0453,  0.0047,  0.0334,\n",
       "                        0.0125,  0.0621],\n",
       "                      [ 0.1672, -0.1525,  0.2805,  0.0355, -0.1408, -0.0899, -0.3146, -0.0317,\n",
       "                        0.2005, -0.0945],\n",
       "                      [-0.1150,  0.0617, -0.2257,  0.1490,  0.2180,  0.0546,  0.2875,  0.0149,\n",
       "                        0.1183,  0.0534],\n",
       "                      [ 0.0377,  0.1511,  0.1598,  0.1743, -0.1161, -0.1438,  0.3101, -0.0065,\n",
       "                       -0.2683,  0.1069],\n",
       "                      [ 0.0391, -0.0296, -0.3022,  0.1242,  0.2857, -0.0893, -0.0063, -0.0604,\n",
       "                       -0.0040,  0.0631],\n",
       "                      [ 0.0410,  0.0346,  0.0661,  0.2591,  0.0664, -0.2236, -0.0691, -0.2713,\n",
       "                        0.3244,  0.2161],\n",
       "                      [ 0.1020, -0.1763,  0.0946, -0.0084, -0.0376, -0.1773, -0.0271,  0.2118,\n",
       "                       -0.2963,  0.1755],\n",
       "                      [-0.2731, -0.1340, -0.1907,  0.0483, -0.0587,  0.2370, -0.2736, -0.1842,\n",
       "                       -0.3074,  0.1911],\n",
       "                      [-0.1063, -0.0159,  0.1983, -0.1274,  0.1458,  0.1293, -0.2369,  0.1181,\n",
       "                        0.2570,  0.1151],\n",
       "                      [-0.1046,  0.1170,  0.0501, -0.2569, -0.0805,  0.1474,  0.1529, -0.0234,\n",
       "                        0.0362,  0.0033],\n",
       "                      [-0.1201, -0.1393, -0.1256,  0.2675, -0.2970,  0.0895,  0.3124,  0.0296,\n",
       "                       -0.0576,  0.2035],\n",
       "                      [-0.2777,  0.0590,  0.2494,  0.1282,  0.1693, -0.0597, -0.0866, -0.0048,\n",
       "                        0.0793, -0.0546],\n",
       "                      [ 0.2420, -0.1706,  0.0754,  0.1225,  0.2871,  0.2478,  0.1445, -0.2926,\n",
       "                       -0.2143,  0.0857],\n",
       "                      [ 0.0753,  0.1807,  0.1913,  0.0687,  0.0724,  0.0336, -0.2716,  0.0427,\n",
       "                        0.2182,  0.0089],\n",
       "                      [-0.1618,  0.0327, -0.0355, -0.1709, -0.2582, -0.0004,  0.2655, -0.0366,\n",
       "                       -0.0365,  0.2649],\n",
       "                      [ 0.1828,  0.1429, -0.2875, -0.2501, -0.1480,  0.0402,  0.2619, -0.1141,\n",
       "                        0.3139, -0.0055],\n",
       "                      [-0.0339,  0.0051,  0.1894,  0.2617, -0.1139,  0.1328,  0.0254,  0.2172,\n",
       "                        0.0126,  0.1055],\n",
       "                      [ 0.3007, -0.2519,  0.2631, -0.2256, -0.2803, -0.0959,  0.0784, -0.0742,\n",
       "                       -0.2904,  0.0587],\n",
       "                      [ 0.3052, -0.2637,  0.1595,  0.2639,  0.2676, -0.0538, -0.1733, -0.2226,\n",
       "                       -0.3157,  0.2440],\n",
       "                      [ 0.1926,  0.3122,  0.0011, -0.2205, -0.0795,  0.1034, -0.0944, -0.0312,\n",
       "                        0.0052, -0.2653],\n",
       "                      [-0.2627,  0.1277,  0.0880, -0.1633, -0.0073,  0.0905, -0.2007,  0.0412,\n",
       "                        0.0058, -0.0749],\n",
       "                      [ 0.1270, -0.0343, -0.0698, -0.1030,  0.2476,  0.2280, -0.3023,  0.2686,\n",
       "                       -0.1880,  0.2278],\n",
       "                      [ 0.1180, -0.0218,  0.0579,  0.0619, -0.2976,  0.2425, -0.1007,  0.2389,\n",
       "                       -0.2987,  0.0793],\n",
       "                      [-0.3086,  0.0254, -0.2552, -0.1040,  0.2427, -0.2277,  0.1686, -0.3037,\n",
       "                       -0.2051, -0.0322],\n",
       "                      [ 0.1213,  0.0277,  0.0764,  0.1583, -0.1862, -0.1790, -0.2943,  0.2752,\n",
       "                        0.1181, -0.2010],\n",
       "                      [ 0.0213,  0.0483, -0.1678,  0.2267, -0.1389,  0.1387,  0.0753, -0.2372,\n",
       "                        0.0508, -0.0891],\n",
       "                      [ 0.2019, -0.1938,  0.1914,  0.0764,  0.2167,  0.1028,  0.0790,  0.3066,\n",
       "                       -0.1332,  0.2650],\n",
       "                      [ 0.2853, -0.0033, -0.0897,  0.2538, -0.2621,  0.0850, -0.1126,  0.0483,\n",
       "                        0.0041, -0.1244],\n",
       "                      [-0.1982,  0.0836, -0.0982, -0.0527, -0.3126, -0.1880, -0.0056,  0.0674,\n",
       "                       -0.2984,  0.2016]])),\n",
       "             ('hd_layer.bias',\n",
       "              tensor([-0.2582, -0.1495, -0.2704,  0.1576, -0.1568, -0.1791,  0.0591, -0.0254,\n",
       "                       0.2181, -0.1514,  0.1518,  0.0084,  0.1394, -0.0807,  0.2139, -0.0882,\n",
       "                      -0.1397, -0.0310, -0.0846, -0.3136,  0.0141,  0.0177,  0.0126,  0.3163,\n",
       "                      -0.2053, -0.0966, -0.3116,  0.2872,  0.1308,  0.1139])),\n",
       "             ('out_layer.weight',\n",
       "              tensor([[ 0.1346, -0.1660,  0.1484,  0.1026,  0.0863,  0.1422,  0.0865,  0.0198,\n",
       "                       -0.0560, -0.0696, -0.0924,  0.0119, -0.0804,  0.1318, -0.0014,  0.0795,\n",
       "                        0.0845, -0.1042, -0.0325,  0.1342,  0.0330,  0.1074, -0.0788,  0.1710,\n",
       "                        0.1110,  0.0025, -0.1428, -0.0415, -0.1217,  0.0702]])),\n",
       "             ('out_layer.bias', tensor([0.0530]))])"
      ]
     },
     "execution_count": 14,
     "metadata": {},
     "output_type": "execute_result"
    }
   ],
   "source": [
    "# 학습된 모델 파라미터 값 확인\n",
    "model.state_dict()"
   ]
  },
  {
   "cell_type": "markdown",
   "metadata": {},
   "source": [
    "* [방법 1] 모델 파라미터 즉, 층별 가중치와 절편들"
   ]
  },
  {
   "cell_type": "code",
   "execution_count": 15,
   "metadata": {},
   "outputs": [],
   "source": [
    "### models 폴더 아래 프로젝트 폴더 아래 모델 파일 저장\n",
    "import os\n",
    "\n",
    "# 저장 경로\n",
    "SAVE_PATH = '../models/iris/'\n",
    "# 저장 파일명\n",
    "SAVE_FILE = 'model_train_wb.pth'"
   ]
  },
  {
   "cell_type": "code",
   "execution_count": 16,
   "metadata": {},
   "outputs": [],
   "source": [
    "# 경로상 폴더 존재 여부 체크\n",
    "if not os.path.exists(SAVE_PATH):\n",
    "    os.makedirs(SAVE_PATH) # 폴더/폴더/... 하위 폴더 까지 생성"
   ]
  },
  {
   "cell_type": "code",
   "execution_count": 17,
   "metadata": {},
   "outputs": [],
   "source": [
    "# 모델 저장\n",
    "torch.save(model.state_dict(),SAVE_PATH+SAVE_FILE)"
   ]
  },
  {
   "cell_type": "code",
   "execution_count": 18,
   "metadata": {},
   "outputs": [
    {
     "name": "stdout",
     "output_type": "stream",
     "text": [
      "<class 'collections.OrderedDict'>\n"
     ]
    }
   ],
   "source": [
    "# 모델 즉,가중치와 절편 로딩\n",
    "# [1] 가중치와 절편 객체로 로딩\n",
    "# [2] 모델의 state_dict 속성에 저장\n",
    "\n",
    "# 읽기\n",
    "wbTS=torch.load(SAVE_PATH+SAVE_FILE,weights_only=True)\n",
    "print(type(wbTS))"
   ]
  },
  {
   "cell_type": "code",
   "execution_count": 19,
   "metadata": {},
   "outputs": [
    {
     "data": {
      "text/plain": [
       "<All keys matched successfully>"
      ]
     },
     "execution_count": 19,
     "metadata": {},
     "output_type": "execute_result"
    }
   ],
   "source": [
    "# 모델 인스턴스에 저장\n",
    "model2=IrisRegModel()  # 층마다 W,b 초기화\n",
    "\n",
    "model2.load_state_dict(wbTS)"
   ]
  },
  {
   "cell_type": "code",
   "execution_count": 20,
   "metadata": {},
   "outputs": [
    {
     "name": "stdout",
     "output_type": "stream",
     "text": [
      "IrisRegModel(\n",
      "  (in_layer): Linear(in_features=3, out_features=10, bias=True)\n",
      "  (hd_layer): Linear(in_features=10, out_features=30, bias=True)\n",
      "  (out_layer): Linear(in_features=30, out_features=1, bias=True)\n",
      ")\n"
     ]
    }
   ],
   "source": [
    "print(model2)"
   ]
  },
  {
   "cell_type": "code",
   "execution_count": null,
   "metadata": {},
   "outputs": [],
   "source": []
  }
 ],
 "metadata": {
  "kernelspec": {
   "display_name": "TORCH_38",
   "language": "python",
   "name": "python3"
  },
  "language_info": {
   "codemirror_mode": {
    "name": "ipython",
    "version": 3
   },
   "file_extension": ".py",
   "mimetype": "text/x-python",
   "name": "python",
   "nbconvert_exporter": "python",
   "pygments_lexer": "ipython3",
   "version": "3.8.19"
  }
 },
 "nbformat": 4,
 "nbformat_minor": 2
}
