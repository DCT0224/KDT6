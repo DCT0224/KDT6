{
 "cells": [
  {
   "cell_type": "markdown",
   "metadata": {},
   "source": [
    "### Tensor 이해 - 생성\n",
    "- Tensor란?\n",
    "    * pytorch에서 데이터를 저장하는 객체\n",
    "    * 모델에 입력/출력 데이터 형태\n",
    "- 개발 버전 : torch V.2.4.1\n",
    "-----------------------------------------------------------------------------\n"
   ]
  },
  {
   "cell_type": "markdown",
   "metadata": {},
   "source": [
    "- 정수 int ===> 크기 다양\n",
    "    * byte => 8bit => 256개 => int8 / unit8\n",
    "        - 부호(-/+) : -128 ~ 0 ~ +127 : -2^7 ~ 2^7-1\n",
    "        - 부호 X : 0 ~ 255 ===> (이미지데이터 픽셀 픽셀 색상값)\n",
    "    * short => 16비트 => -2^(15) ~ +2^(15)-1 ==> int16/unit16\n",
    "    * int => 32비트 => int32/unit32\n",
    "    * long int => 64비트 => int64/unit64\n",
    "\n",
    "- 데이터타입 변수명 = 데이터  \n",
    "int age = 10\n",
    "\n",
    "- 기본 데이터 타입 => 숫자, 글자 ==> int,float,char,bool  \n",
    "    - C/C++/C#/Java ==> 스택\n",
    "    - python => 힙 (클래스기반 객체)  \n",
    "- 확장 데이이터 타입 => 여러개의 기본 데이터 타입 모여서 하나의 데이터 표현 [string(얘는 언어에 따라서 다름)]\n",
    "    - C => 구조체\n",
    "    - Java와 OOP => 구조체 + 함수 => 클래스\n",
    "    - C/C++/C#/Java ==> 힙(클래스기반 객체)\n",
    "\n",
    "- 실수 3.12 ===> 정수부 3, 실수부 12\n",
    "    * 실수 float => 소수점 이하 자릿수\n",
    "    * flota => 7/8           4바이트 int32\n",
    "    * double => float 소수점 2배  8바이트 double\n",
    "    -----------------------------------------------------------------------------"
   ]
  },
  {
   "cell_type": "markdown",
   "metadata": {},
   "source": [
    "### 원하는 값으로 채원 텐서 생성 -> torch.tensor( 데이터 ) "
   ]
  },
  {
   "cell_type": "code",
   "execution_count": 6,
   "metadata": {},
   "outputs": [],
   "source": [
    "import torch\n",
    "\n",
    "# --------------------------------\n",
    "# 함수기능 : 텐서 속성 정보 출력 함수\n",
    "# --------------------------------\n",
    "\n",
    "def printInfo(obj,obj_name):\n",
    "    print(f'\\n[{obj_name}]')\n",
    "    print(f'shape : {obj.shape}')\n",
    "    print(f'ndim : {obj.ndim}차원')\n",
    "    print(f'dtype : {obj.dtype}')\n",
    "    print(f'device : {obj.device}')\n",
    "    print(f'data : \\n{obj.data}')"
   ]
  },
  {
   "cell_type": "code",
   "execution_count": 7,
   "metadata": {},
   "outputs": [
    {
     "name": "stdout",
     "output_type": "stream",
     "text": [
      "2.4.1\n"
     ]
    }
   ],
   "source": [
    "print(torch.__version__)"
   ]
  },
  {
   "cell_type": "markdown",
   "metadata": {},
   "source": [
    "* 텐서 생성 [1] torch.tensor()"
   ]
  },
  {
   "cell_type": "code",
   "execution_count": 10,
   "metadata": {},
   "outputs": [
    {
     "name": "stdout",
     "output_type": "stream",
     "text": [
      "\n",
      "[dataTF]\n",
      "shape : torch.Size([])\n",
      "ndim : 0차원\n",
      "dtype : torch.int64\n",
      "device : cpu\n",
      "data : \n",
      "10\n",
      "\n",
      "[dataTF]\n",
      "shape : torch.Size([])\n",
      "ndim : 0차원\n",
      "dtype : torch.int8\n",
      "device : cpu\n",
      "data : \n",
      "10\n",
      "\n",
      "[dataTF]\n",
      "shape : torch.Size([])\n",
      "ndim : 0차원\n",
      "dtype : torch.uint8\n",
      "device : cpu\n",
      "data : \n",
      "10\n"
     ]
    }
   ],
   "source": [
    "## 데이터 1개 즉, 스칼라 0D\n",
    "dataTF=torch.tensor(10)\n",
    "printInfo(dataTF,'dataTF')\n",
    "\n",
    "dataTF=torch.tensor(10,dtype=torch.int8)\n",
    "printInfo(dataTF,'dataTF')\n",
    "\n",
    "dataTF=torch.tensor(10,dtype=torch.uint8) # u => unsigned로 잡음.\n",
    "printInfo(dataTF,'dataTF')"
   ]
  },
  {
   "cell_type": "code",
   "execution_count": 12,
   "metadata": {},
   "outputs": [
    {
     "name": "stdout",
     "output_type": "stream",
     "text": [
      "\n",
      "[dataTF]\n",
      "shape : torch.Size([0])\n",
      "ndim : 1차원\n",
      "dtype : torch.int8\n",
      "device : cpu\n",
      "data : \n",
      "tensor([], dtype=torch.int8)\n",
      "\n",
      "[dataTF]\n",
      "shape : torch.Size([1])\n",
      "ndim : 1차원\n",
      "dtype : torch.uint8\n",
      "device : cpu\n",
      "data : \n",
      "tensor([10], dtype=torch.uint8)\n"
     ]
    }
   ],
   "source": [
    "## 데이터 1개 즉, 백터 1D\n",
    "dataTF=torch.tensor([],dtype=torch.int8)\n",
    "printInfo(dataTF,'dataTF')\n",
    "\n",
    "dataTF=torch.tensor([10],dtype=torch.uint8) # u => unsigned로 잡음.\n",
    "printInfo(dataTF,'dataTF')\n"
   ]
  },
  {
   "cell_type": "code",
   "execution_count": 15,
   "metadata": {},
   "outputs": [
    {
     "name": "stdout",
     "output_type": "stream",
     "text": [
      "\n",
      "[dataTF]\n",
      "shape : torch.Size([1, 1])\n",
      "ndim : 2차원\n",
      "dtype : torch.int8\n",
      "device : cpu\n",
      "data : \n",
      "tensor([[10]], dtype=torch.int8)\n",
      "\n",
      "[dataTF]\n",
      "shape : torch.Size([2, 1])\n",
      "ndim : 2차원\n",
      "dtype : torch.uint8\n",
      "device : cpu\n",
      "data : \n",
      "tensor([[10],\n",
      "        [20]], dtype=torch.uint8)\n"
     ]
    }
   ],
   "source": [
    "## 데이터 1개 즉, 백터 2D\n",
    "dataTF=torch.tensor([[10]],dtype=torch.int8)\n",
    "printInfo(dataTF,'dataTF')\n",
    "\n",
    "dataTF=torch.tensor([[10],[20]],dtype=torch.uint8) # u => unsigned로 잡음.\n",
    "printInfo(dataTF,'dataTF')"
   ]
  },
  {
   "cell_type": "code",
   "execution_count": 18,
   "metadata": {},
   "outputs": [
    {
     "name": "stdout",
     "output_type": "stream",
     "text": [
      "\n",
      "[dataTF]\n",
      "shape : torch.Size([1, 1, 1, 1, 1, 1])\n",
      "ndim : 6차원\n",
      "dtype : torch.int8\n",
      "device : cpu\n",
      "data : \n",
      "tensor([[[[[[10]]]]]], dtype=torch.int8)\n",
      "\n",
      "[dataTF]\n",
      "shape : torch.Size([1, 2, 1, 1])\n",
      "ndim : 4차원\n",
      "dtype : torch.uint8\n",
      "device : cpu\n",
      "data : \n",
      "tensor([[[[10]],\n",
      "\n",
      "         [[20]]]], dtype=torch.uint8)\n"
     ]
    }
   ],
   "source": [
    "## 데이터 1개 즉, ND\n",
    "dataTF=torch.tensor([[[[[[10]]]]]],dtype=torch.int8)\n",
    "printInfo(dataTF,'dataTF')\n",
    "\n",
    "dataTF=torch.tensor([[[[10]],[[20]]]],dtype=torch.uint8) # u => unsigned로 잡음.\n",
    "printInfo(dataTF,'dataTF')"
   ]
  },
  {
   "cell_type": "code",
   "execution_count": 19,
   "metadata": {},
   "outputs": [],
   "source": [
    "## 대각선으로 1로 채운 텐서 생성 -> torch.eye()"
   ]
  },
  {
   "cell_type": "code",
   "execution_count": null,
   "metadata": {},
   "outputs": [],
   "source": []
  }
 ],
 "metadata": {
  "kernelspec": {
   "display_name": "TORCH_38",
   "language": "python",
   "name": "python3"
  },
  "language_info": {
   "codemirror_mode": {
    "name": "ipython",
    "version": 3
   },
   "file_extension": ".py",
   "mimetype": "text/x-python",
   "name": "python",
   "nbconvert_exporter": "python",
   "pygments_lexer": "ipython3",
   "version": "3.8.19"
  }
 },
 "nbformat": 4,
 "nbformat_minor": 2
}
