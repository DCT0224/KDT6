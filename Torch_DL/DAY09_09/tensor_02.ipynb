{
 "cells": [
  {
   "cell_type": "markdown",
   "metadata": {},
   "source": [
    "### Tensor 이해"
   ]
  },
  {
   "cell_type": "code",
   "execution_count": 1,
   "metadata": {},
   "outputs": [],
   "source": [
    "### 모듈 로딩\n",
    "import torch"
   ]
  },
  {
   "cell_type": "markdown",
   "metadata": {},
   "source": [
    "- Tensor 생성 [2] torch.rand() "
   ]
  },
  {
   "cell_type": "code",
   "execution_count": 2,
   "metadata": {},
   "outputs": [],
   "source": [
    "# 0 <= ~ <1 범위의 임의의 숫자 1개 추출 => rand\n",
    "torch.manual_seed(1)\n",
    "\n",
    "dataTS = torch.rand(1,2,3)\n",
    "# rand(*size) : 가변인자 ==> 몇 차원이지 알 수 없음!\n",
    "# *size => *는 가변인자를 나타냄."
   ]
  },
  {
   "cell_type": "code",
   "execution_count": 3,
   "metadata": {},
   "outputs": [
    {
     "data": {
      "text/plain": [
       "tensor([[[0.7576, 0.2793, 0.4031],\n",
       "         [0.7347, 0.0293, 0.7999]]])"
      ]
     },
     "execution_count": 3,
     "metadata": {},
     "output_type": "execute_result"
    }
   ],
   "source": [
    "dataTS"
   ]
  },
  {
   "cell_type": "code",
   "execution_count": 4,
   "metadata": {},
   "outputs": [],
   "source": [
    "dataTS = torch.rand(2,2,3)"
   ]
  },
  {
   "cell_type": "code",
   "execution_count": 5,
   "metadata": {},
   "outputs": [
    {
     "data": {
      "text/plain": [
       "tensor([[[0.3971, 0.7544, 0.5695],\n",
       "         [0.4388, 0.6387, 0.5247]],\n",
       "\n",
       "        [[0.6826, 0.3051, 0.4635],\n",
       "         [0.4550, 0.5725, 0.4980]]])"
      ]
     },
     "execution_count": 5,
     "metadata": {},
     "output_type": "execute_result"
    }
   ],
   "source": [
    "dataTS"
   ]
  },
  {
   "cell_type": "code",
   "execution_count": 9,
   "metadata": {},
   "outputs": [],
   "source": [
    "dataTS1 = torch.rand(3)        # 1D  Vector\n",
    "dataTS2 = torch.rand(2,3)      # 2D  Maxtrix\n",
    "dataTS3 = torch.rand(2,1,3)    # 3D  3D Tensor"
   ]
  },
  {
   "cell_type": "code",
   "execution_count": 10,
   "metadata": {},
   "outputs": [
    {
     "name": "stdout",
     "output_type": "stream",
     "text": [
      "tensor([0.0444, 0.0246, 0.2588])\n",
      "tensor([[0.9391, 0.4167, 0.7140],\n",
      "        [0.2676, 0.9906, 0.2885]])\n",
      "tensor([[[0.8750, 0.5059, 0.2366]],\n",
      "\n",
      "        [[0.7570, 0.2346, 0.6471]]])\n"
     ]
    }
   ],
   "source": [
    "print(dataTS1,dataTS2,dataTS3,sep='\\n')"
   ]
  },
  {
   "cell_type": "markdown",
   "metadata": {},
   "source": [
    "- Tensor 생성 [3] torch.randn()"
   ]
  },
  {
   "cell_type": "code",
   "execution_count": 12,
   "metadata": {},
   "outputs": [
    {
     "name": "stdout",
     "output_type": "stream",
     "text": [
      "tensor([0.2366, 0.2857, 0.6898])\n",
      "tensor([[-0.6331,  0.8795, -0.6842],\n",
      "        [ 0.4533,  0.2912, -0.8317]])\n",
      "tensor([[[-0.5525,  0.6355, -0.3968]],\n",
      "\n",
      "        [[-0.6571, -1.6428,  0.9803]]])\n"
     ]
    }
   ],
   "source": [
    "dataTS1 = torch.randn(3)        # 1D  Vector\n",
    "dataTS2 = torch.randn(2,3)      # 2D  Maxtrix\n",
    "dataTS3 = torch.randn(2,1,3)    # 3D  3D Tensor\n",
    "print(dataTS1,dataTS2,dataTS3,sep='\\n')"
   ]
  },
  {
   "cell_type": "markdown",
   "metadata": {},
   "source": [
    "* Tensor 생성 [4] torch.randint()"
   ]
  },
  {
   "cell_type": "code",
   "execution_count": 18,
   "metadata": {},
   "outputs": [],
   "source": [
    "# 1D Vector\n",
    "dataTS1=torch.randint(1,46,(1,6))\n",
    "#                    -> size 부분\n",
    "dataTS1"
   ]
  },
  {
   "cell_type": "code",
   "execution_count": 21,
   "metadata": {},
   "outputs": [
    {
     "data": {
      "text/plain": [
       "tensor([[32, 25,  2, 36, 33, 33],\n",
       "        [13, 14,  4, 19, 36, 40],\n",
       "        [44, 15, 40, 40, 29,  1],\n",
       "        [19, 35, 42,  1, 36, 24]])"
      ]
     },
     "execution_count": 21,
     "metadata": {},
     "output_type": "execute_result"
    }
   ],
   "source": [
    "# 2D Vector\n",
    "dataTS2=torch.randint(1,46,(4,6))\n",
    "#                    -> size 부분\n",
    "dataTS2"
   ]
  },
  {
   "cell_type": "code",
   "execution_count": null,
   "metadata": {},
   "outputs": [],
   "source": []
  }
 ],
 "metadata": {
  "kernelspec": {
   "display_name": "TORCH_38",
   "language": "python",
   "name": "python3"
  },
  "language_info": {
   "codemirror_mode": {
    "name": "ipython",
    "version": 3
   },
   "file_extension": ".py",
   "mimetype": "text/x-python",
   "name": "python",
   "nbconvert_exporter": "python",
   "pygments_lexer": "ipython3",
   "version": "3.8.19"
  }
 },
 "nbformat": 4,
 "nbformat_minor": 2
}
