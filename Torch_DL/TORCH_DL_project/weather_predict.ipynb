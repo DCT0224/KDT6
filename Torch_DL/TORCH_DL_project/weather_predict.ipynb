{
 "cells": [
  {
   "cell_type": "code",
   "execution_count": 8,
   "metadata": {},
   "outputs": [],
   "source": [
    "# 모듈 로딩\n",
    "import torch\n",
    "import torch.nn as nn\n",
    "import torch.nn.functional as F\n",
    "from torchinfo import summary\n",
    "# 저장 경로\n",
    "SAVE_PATH = '../models/weather/Reg/'\n",
    "# 모델 구조 및 파라미터 모두 저장 파일명\n",
    "SAVE_MODEL=SAVE_PATH+'loss(1.58337)_score(0.88159).pth'"
   ]
  },
  {
   "cell_type": "code",
   "execution_count": 9,
   "metadata": {},
   "outputs": [],
   "source": [
    "class DynamicModel(nn.Module):\n",
    "\n",
    "    # 모델 구조 설계 함수 즉, 생성자 메서드\n",
    "    def __init__(self, in_in, in_out, out_out, h_ins=[], h_outs=[]):\n",
    "        super().__init__()\n",
    "        \n",
    "        self.in_layer=nn.Linear(in_in, h_ins[0] if len(h_ins) else in_out )\n",
    "        \n",
    "        self.h_layers=nn.ModuleList()\n",
    "        for idx  in range(len(h_ins)):\n",
    "            self.h_layers.append( nn.Linear(h_ins[idx], h_outs[idx])  )\n",
    "        \n",
    "        self.out_layer=nn.Linear(h_outs[-1]  if len(h_outs) else in_out, out_out)\n",
    "        \n",
    "        \n",
    "    # 학습 진행 콜백 메서드\n",
    "    def forward(self, x): \n",
    "        # 입력층\n",
    "        y=self.in_layer(x)                  # y=x1w1+x2w2+x3w3+b\n",
    "        y=F.leaky_relu(y)                         # 0 <= y\n",
    "        #y=F.relu(self.in_layer(x) )\n",
    "\n",
    "        # 은닉층\n",
    "        for linear in self.h_layers:\n",
    "            y=linear(y)\n",
    "            y=F.leaky_relu(y) \n",
    "            #y=F.relu( linear(y) )\n",
    "            \n",
    "        # 출력층\n",
    "        return self.out_layer(y)       \n",
    "        "
   ]
  },
  {
   "cell_type": "code",
   "execution_count": 10,
   "metadata": {},
   "outputs": [],
   "source": [
    "summer_Model = torch.load(SAVE_MODEL,weights_only=False)"
   ]
  },
  {
   "cell_type": "markdown",
   "metadata": {},
   "source": [
    "[3] 예측 <hr>"
   ]
  },
  {
   "cell_type": "code",
   "execution_count": 11,
   "metadata": {},
   "outputs": [],
   "source": [
    "data = [float(x) for x in input('평균기온(°C),평균 지면온도(°C),최저기온(°C),평균 이슬점온도(°C) : ').split(',')]"
   ]
  },
  {
   "cell_type": "code",
   "execution_count": 12,
   "metadata": {},
   "outputs": [
    {
     "data": {
      "text/plain": [
       "(torch.Size([1, 4]), tensor([[15.3000, 21.7000,  7.3000,  5.1000]]))"
      ]
     },
     "execution_count": 12,
     "metadata": {},
     "output_type": "execute_result"
    }
   ],
   "source": [
    "dataTS=torch.FloatTensor(data).reshape(1,-1)\n",
    "dataTS.shape, dataTS"
   ]
  },
  {
   "cell_type": "code",
   "execution_count": 13,
   "metadata": {},
   "outputs": [],
   "source": [
    "# 새로운 데이터에 대한 예측 즉, predict\n",
    "summer_Model.eval()\n",
    "with torch.no_grad():\n",
    "\n",
    "    # 추론/평가\n",
    "    pre_val = summer_Model(dataTS)"
   ]
  },
  {
   "cell_type": "code",
   "execution_count": 14,
   "metadata": {},
   "outputs": [
    {
     "name": "stdout",
     "output_type": "stream",
     "text": [
      "기온은 23.0°C 입니다\n"
     ]
    }
   ],
   "source": [
    "print('기온은 {:.1f}°C 입니다'.format(pre_val.item()))"
   ]
  },
  {
   "cell_type": "code",
   "execution_count": null,
   "metadata": {},
   "outputs": [],
   "source": []
  }
 ],
 "metadata": {
  "kernelspec": {
   "display_name": "TORCH_38",
   "language": "python",
   "name": "python3"
  },
  "language_info": {
   "codemirror_mode": {
    "name": "ipython",
    "version": 3
   },
   "file_extension": ".py",
   "mimetype": "text/x-python",
   "name": "python",
   "nbconvert_exporter": "python",
   "pygments_lexer": "ipython3",
   "version": "3.8.19"
  }
 },
 "nbformat": 4,
 "nbformat_minor": 2
}
