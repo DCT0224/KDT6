{
 "cells": [
  {
   "cell_type": "markdown",
   "metadata": {},
   "source": [
    "#### iris 품종 분류 모델\n",
    "    - 데이터 셋 : irirs.csv"
   ]
  },
  {
   "cell_type": "code",
   "execution_count": 4,
   "metadata": {},
   "outputs": [],
   "source": [
    "import torch\n",
    "import pandas as pd\n",
    "import torch.nn as nn\n",
    "import torch.optim as optim\n",
    "from torchmetrics.classification import F1Score\n",
    "import torch.nn.functional as F\n",
    "from sklearn.datasets import load_iris\n",
    "from sklearn.preprocessing import MinMaxScaler\n",
    "from sklearn.model_selection import train_test_split\n",
    "import numpy as np\n",
    "import random\n",
    "from torch.utils.data import Dataset, DataLoader\n"
   ]
  },
  {
   "cell_type": "code",
   "execution_count": 5,
   "metadata": {},
   "outputs": [],
   "source": [
    "# 기기 설정 (GPU or CPU)\n",
    "DEVICE = torch.device('cuda' if torch.cuda.is_available() else 'cpu')"
   ]
  },
  {
   "cell_type": "code",
   "execution_count": 6,
   "metadata": {},
   "outputs": [],
   "source": [
    "# 사용자 정의 Dataset 클래스 : feature와 target을 텐서로 변환\n",
    "class MyDataset(Dataset):\n",
    "    def __init__(self,features,targets):\n",
    "        self.features = torch.FloatTensor(features) # 피쳐 텐서화\n",
    "        self.targets = torch.FloatTensor(targets) # 타겟 텐서화\n",
    "\n",
    "    def __len__(self):\n",
    "        return len(self.targets)\n",
    "    def __getitem__(self,idx):\n",
    "        return self.features[idx], self.targets[idx]\n",
    "    \n",
    "# 모델 클래스\n",
    "\n",
    "class MyModel(nn.Module):\n",
    "    def __init__(self,in_features, out_target,hidden_layers,output_activation=None):\n",
    "\n",
    "        '''\n",
    "        in_features : 입력 피쳐 수\n",
    "        out_target : 출력 노드 수( 다중분류 = 클래스 수)\n",
    "        hidden_layer : 은닉층 노드 수를 리스트로 받아서 은닉층의 개수와 각 층의 노드 수를 설정\n",
    "        output_activation : 출력층에 사용할 활성화 함수(None,'si)\n",
    "        '''\n",
    "        super(MyModel, self).__init__()\n",
    "\n",
    "        self.input_layer = nn.Linear(in_features,hidden_layers[0])\n",
    "        self.hidden_layer = nn.ModuleList()\n",
    "        for i in range(len(hidden_layers)-1):\n",
    "            self.hidden_layer.append(nn.Linear(hidden_layers[i],hidden_layers[i+1]))\n",
    "\n",
    "        self.output_layer = nn.Linear(hidden_layers[-1],out_target)\n",
    "\n",
    "        # 출력층 활성화 함수 설정 (None, 'sigmoid','softmax')\n",
    "        self.output_activation = output_activation\n",
    "\n",
    "    def forward(self,X):\n",
    "        y = self.input_layer(X)\n",
    "        y = F.relu(y)\n",
    "\n",
    "        for layer in self.hidden_layer:\n",
    "            y = layer(y)\n",
    "            y = F.relu(y)\n",
    "        \n",
    "        y = self.output_layer(y)\n",
    "\n",
    "        if self.output_activation == 'sigmoid':\n",
    "            y = torch.sigmoid(y)\n",
    "        elif self.output_activation == 'softmax':\n",
    "            y = F.softmax(y,dim=1)\n",
    "\n",
    "        return y"
   ]
  },
  {
   "cell_type": "code",
   "execution_count": null,
   "metadata": {},
   "outputs": [],
   "source": [
    "# 학습용 함수\n",
    "def epochTraining(model,train_loader,lossfunc,optimizer):\n",
    "    model.train()\n",
    "    loss_total = 0\n",
    "    score_total = 0\n",
    "    f1_metric = F1Score().to(DEVICE)\n",
    "    for X_train, y_train in train_loader:\n",
    "        X_train, y_train = X_train.to(DEVICE), y_train.to(DEVICE)\n",
    "        pre_y = model(X_train)\n",
    "        loss = lossfunc(pre_y,y_train)\n",
    "        loss_total += loss.item()\n",
    "        score_total += f1_metric(pre_y,y_train).item()\n",
    "        optimizer.zero_grad()\n",
    "        loss.backward()\n",
    "        optimizer.step()\n",
    "    return loss_total / len(train_loader), score_total / len(train_loader)\n",
    "\n",
    "# 검증용 함수\n",
    "def testing(model,val_loader,lossfunc):\n",
    "    model.eval()\n",
    "    loss_total = 0\n",
    "    score_total = 0\n",
    "    r2_metric = F1Score().to(DEVICE) # F1Score 분류형\n",
    "    with torch.no_grad():\n",
    "        for X_val, y_val in val_loader:\n",
    "            X_val, y_val = X_val.to(DEVICE), y_val.to(DEVICE)\n",
    "            pre_y = model(X_val)\n",
    "            loss = lossfunc(pre_y,y_val)\n",
    "            loss_total += loss.item()\n",
    "            \n"
   ]
  }
 ],
 "metadata": {
  "kernelspec": {
   "display_name": "TORCH_38",
   "language": "python",
   "name": "python3"
  },
  "language_info": {
   "codemirror_mode": {
    "name": "ipython",
    "version": 3
   },
   "file_extension": ".py",
   "mimetype": "text/x-python",
   "name": "python",
   "nbconvert_exporter": "python",
   "pygments_lexer": "ipython3",
   "version": "3.8.19"
  }
 },
 "nbformat": 4,
 "nbformat_minor": 2
}
