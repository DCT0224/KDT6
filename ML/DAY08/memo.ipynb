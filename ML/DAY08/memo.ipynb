{
 "cells": [
  {
   "cell_type": "markdown",
   "metadata": {},
   "source": [
    "- DT\n",
    "- C3.0\n",
    "- C4.5\n",
    "- C5.0\n",
    "- CART 범주형,수치형 ==> 모두 처리 회귀/분류  \n",
    "        sklearn => 범주형 X ==> Encoding  \n",
    "        * LabelEncoder    => 0,1, ...         1D  :  y, target  \n",
    "        * OrdinalEncoder  => 0,1, ...         2D  \n",
    "          (순위가 중요하지 않고 패턴이나 특징만 찾고 싶을때)  \n",
    "        * OneHotEncoder   => 1이 하나인 패턴   2D  \n",
    "\n",
    "스케일링 => minmax === sklearn : minmax"
   ]
  },
  {
   "cell_type": "markdown",
   "metadata": {},
   "source": [
    "KNN\n",
    "Linear-model : LinearRegression => 다중(Feature가 여러개),다항(곡선 : 직선이 안되는 애들)\n",
    "                                => 과대적합 => 모델 직접 제어 즉, 규제 (매개변수 : alpha => 0~강하게)\n",
    "                                                                    릿지(영향력이 낮은 피쳐의 coef_을 0에 가깝게)\n",
    "                                                                    라쏘(영향력이 낮은 피쳐의 coef_을 0으로 => 피쳐를 줄여버림림)\n",
    "                                => 분류 ==> 선형식 결과 ==> 확률값으로 => 로지스틱회귀\n",
    "                                                            OvR/OvA : 2진분류기를 여러개 => 5개\n",
    "                                                            OvO : 2진분류기를 여러개 => 10개\n",
    "\n",
    "\n",
    "Tree-model : DecisionTree(CART) ==> 회귀/분류(R/C) : 범주형/수치형\n",
    "            * 하이퍼파라미터 많음\n",
    "Ensemble-model : Voting,Bagging > RandomForest C/R"
   ]
  }
 ],
 "metadata": {
  "kernelspec": {
   "display_name": "samban",
   "language": "python",
   "name": "python3"
  },
  "language_info": {
   "name": "python",
   "version": "3.9.19"
  }
 },
 "nbformat": 4,
 "nbformat_minor": 2
}
