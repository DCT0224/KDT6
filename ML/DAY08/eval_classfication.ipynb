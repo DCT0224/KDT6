{
 "cells": [
  {
   "cell_type": "markdown",
   "metadata": {},
   "source": [
    "### 성능지표 - 분류\n",
    "- 정확도 (Accuracy) : 전체 정답에서 맞춘 정답의 수\n",
    "- 정밀도 (Precision) : 모델(예측) 기준으로 모델이 True라고 한 것이 정답(실제) True인 것\n",
    "- 재현율 (Recall) : 정답(실제) 기준으로 정답(실제)이 True라고 한 것이 모델(예측) True인 것\n",
    "- F1-score : 재현율와 정밀도 2가지를 조합한 점수\n",
    "- 오차행렬(Counfusion Matrix) : 정답과 예측값의 관계 나타내는 표"
   ]
  },
  {
   "cell_type": "markdown",
   "metadata": {},
   "source": [
    "[1] 모듈 로딩 및 데이터 준비"
   ]
  },
  {
   "cell_type": "code",
   "execution_count": 47,
   "metadata": {},
   "outputs": [],
   "source": [
    "# 모듈 로딩\n",
    "from sklearn.datasets import load_digits\n",
    "from sklearn.model_selection import train_test_split\n",
    "from sklearn.metrics import accuracy_score          # sklearn에서 제공하는 모델 성능평가 관련 모듈\n",
    "\n",
    "import pandas as pd\n",
    "import numpy as np\n"
   ]
  },
  {
   "cell_type": "code",
   "execution_count": 48,
   "metadata": {},
   "outputs": [],
   "source": [
    "# 데이터 로딩\n",
    "digitBunch = load_digits(as_frame=True)"
   ]
  },
  {
   "cell_type": "markdown",
   "metadata": {},
   "source": [
    "[2] 피쳐와 레이블 추출"
   ]
  },
  {
   "cell_type": "code",
   "execution_count": 49,
   "metadata": {},
   "outputs": [
    {
     "data": {
      "text/plain": [
       "array([0, 1, 2, 3, 4, 5, 6, 7, 8, 9])"
      ]
     },
     "execution_count": 49,
     "metadata": {},
     "output_type": "execute_result"
    }
   ],
   "source": [
    "# 0~9까지 이미지 데이터 값\n",
    "imgDF = digitBunch['data']\n",
    "\n",
    "# 0~9 라벨\n",
    "labelSR = digitBunch['target']\n",
    "labelSR.unique()"
   ]
  },
  {
   "cell_type": "code",
   "execution_count": 50,
   "metadata": {},
   "outputs": [
    {
     "data": {
      "text/plain": [
       "0       0\n",
       "1       1\n",
       "2       2\n",
       "3       3\n",
       "4       4\n",
       "       ..\n",
       "1792    9\n",
       "1793    0\n",
       "1794    8\n",
       "1795    9\n",
       "1796    8\n",
       "Name: target, Length: 1618, dtype: int32"
      ]
     },
     "execution_count": 50,
     "metadata": {},
     "output_type": "execute_result"
    }
   ],
   "source": [
    "## => 이진분류를 위해서 7과 나머지 라벨 변경\n",
    "mask = labelSR == 7\n",
    "labelSR[~mask] # 7 아닌 애들만 True\n"
   ]
  },
  {
   "cell_type": "code",
   "execution_count": 51,
   "metadata": {},
   "outputs": [],
   "source": [
    "labelSR[~mask] = 0\n",
    "labelSR[mask] = 1"
   ]
  },
  {
   "cell_type": "code",
   "execution_count": 52,
   "metadata": {},
   "outputs": [
    {
     "data": {
      "text/plain": [
       "target\n",
       "0    1618\n",
       "1     179\n",
       "Name: count, dtype: int64"
      ]
     },
     "execution_count": 52,
     "metadata": {},
     "output_type": "execute_result"
    }
   ],
   "source": [
    "labelSR.value_counts()"
   ]
  },
  {
   "cell_type": "markdown",
   "metadata": {},
   "source": [
    "[3] 학습용 데이터셋 준비"
   ]
  },
  {
   "cell_type": "code",
   "execution_count": 53,
   "metadata": {},
   "outputs": [],
   "source": [
    "X_train,X_test,y_train,y_test = train_test_split(imgDF,labelSR,\n",
    "                                                 stratify = labelSR,\n",
    "                                                 random_state=1)"
   ]
  },
  {
   "cell_type": "code",
   "execution_count": 54,
   "metadata": {},
   "outputs": [
    {
     "data": {
      "text/plain": [
       "target\n",
       "0    1213\n",
       "1     134\n",
       "Name: count, dtype: int64"
      ]
     },
     "execution_count": 54,
     "metadata": {},
     "output_type": "execute_result"
    }
   ],
   "source": [
    "y_train.value_counts()"
   ]
  },
  {
   "cell_type": "code",
   "execution_count": 55,
   "metadata": {},
   "outputs": [
    {
     "name": "stdout",
     "output_type": "stream",
     "text": [
      "[Train] target\n",
      "0    0.90052\n",
      "1    0.09948\n",
      "Name: count, dtype: float64\n",
      "[Test] target\n",
      "0    0.9\n",
      "1    0.1\n",
      "Name: count, dtype: float64\n"
     ]
    }
   ],
   "source": [
    "print('[Train]',y_train.value_counts()/y_train.shape[0])\n",
    "print('[Test]',y_test.value_counts()/y_test.shape[0])"
   ]
  },
  {
   "cell_type": "markdown",
   "metadata": {},
   "source": [
    "[4] 클래스 정의"
   ]
  },
  {
   "cell_type": "code",
   "execution_count": 56,
   "metadata": {},
   "outputs": [],
   "source": [
    "# 사용자 정의 클래스 DummyClass : 아무것도 하지 않는 클래스, 단순 테스트용\n",
    "from sklearn.base import BaseEstimator\n",
    "\n",
    "class MyClassifier(BaseEstimator):\n",
    "\n",
    "    def fit(self,X,y):pass\n",
    "\n",
    "    def predict(self,X) : return np.zeros((len(X),1),dtype=bool)"
   ]
  },
  {
   "cell_type": "markdown",
   "metadata": {},
   "source": [
    "[5] 학습"
   ]
  },
  {
   "cell_type": "code",
   "execution_count": 57,
   "metadata": {},
   "outputs": [],
   "source": [
    "# 인스턴스 생성\n",
    "model = MyClassifier()\n",
    "\n",
    "# 학습\n",
    "model.fit(X_train,y_train)"
   ]
  },
  {
   "cell_type": "markdown",
   "metadata": {},
   "source": [
    "[6] 예측 및 성능 평가"
   ]
  },
  {
   "cell_type": "code",
   "execution_count": 58,
   "metadata": {},
   "outputs": [
    {
     "data": {
      "text/plain": [
       "array([[False],\n",
       "       [False],\n",
       "       [False],\n",
       "       ...,\n",
       "       [False],\n",
       "       [False],\n",
       "       [False]])"
      ]
     },
     "execution_count": 58,
     "metadata": {},
     "output_type": "execute_result"
    }
   ],
   "source": [
    "pre_ = model.predict(X_train)\n",
    "pre_"
   ]
  },
  {
   "cell_type": "markdown",
   "metadata": {},
   "source": [
    "[6-1] 정확도 => 불균형 데이터 경우 신뢰 불가!!!"
   ]
  },
  {
   "cell_type": "code",
   "execution_count": 59,
   "metadata": {},
   "outputs": [
    {
     "data": {
      "text/plain": [
       "0.9005196733481812"
      ]
     },
     "execution_count": 59,
     "metadata": {},
     "output_type": "execute_result"
    }
   ],
   "source": [
    "accuracy_score(y_train,pre_)\n",
    "# 불균형 데이터 상태에서는 accuracy를 믿을게 못됨."
   ]
  },
  {
   "cell_type": "markdown",
   "metadata": {},
   "source": [
    "[6-2] 오차행렬"
   ]
  },
  {
   "cell_type": "code",
   "execution_count": 60,
   "metadata": {},
   "outputs": [],
   "source": [
    "from sklearn.metrics import confusion_matrix, classification_report"
   ]
  },
  {
   "cell_type": "code",
   "execution_count": 61,
   "metadata": {},
   "outputs": [],
   "source": [
    "y_test = [0,0,0,1,1,    1,0,0,0,1,    1,1,1,0,0,    0,0,0,0,0]\n",
    "y_pre = [1,1,1,1,1, 1,0,1,0,1, 1,1,1,0,0, 0,0,0,0,0]"
   ]
  },
  {
   "cell_type": "code",
   "execution_count": 62,
   "metadata": {},
   "outputs": [],
   "source": [
    "# 정답과 예측값 전달\n",
    "tn, fp, fn, tp= confusion_matrix(y_test,y_pre).reshape(-1)"
   ]
  },
  {
   "cell_type": "code",
   "execution_count": 63,
   "metadata": {},
   "outputs": [
    {
     "name": "stdout",
     "output_type": "stream",
     "text": [
      "9 4 0 7\n"
     ]
    }
   ],
   "source": [
    "print(tn, fp, fn, tp)"
   ]
  },
  {
   "cell_type": "markdown",
   "metadata": {},
   "source": [
    "- 정밀도 (Precision) : 모델(예측) 중심!!"
   ]
  },
  {
   "cell_type": "code",
   "execution_count": 68,
   "metadata": {},
   "outputs": [
    {
     "data": {
      "text/plain": [
       "0.6363636363636364"
      ]
     },
     "execution_count": 68,
     "metadata": {},
     "output_type": "execute_result"
    }
   ],
   "source": [
    "from sklearn.metrics import precision_score\n",
    "\n",
    "precision_score(y_test,y_pre)"
   ]
  },
  {
   "cell_type": "markdown",
   "metadata": {},
   "source": [
    "* 재현율(Recall) : 정답(실제) 중심!!"
   ]
  },
  {
   "cell_type": "code",
   "execution_count": 70,
   "metadata": {},
   "outputs": [
    {
     "data": {
      "text/plain": [
       "1.0"
      ]
     },
     "execution_count": 70,
     "metadata": {},
     "output_type": "execute_result"
    }
   ],
   "source": [
    "from sklearn.metrics import recall_score\n",
    "\n",
    "recall_score(y_test,y_pre)"
   ]
  },
  {
   "cell_type": "markdown",
   "metadata": {},
   "source": [
    "데이터가 불균형 데이터일 경우 accuracy를 믿지 못함. => 데이터 불균형을 조절해주거나 다른 지표들을 함께 봐야됨."
   ]
  },
  {
   "cell_type": "markdown",
   "metadata": {},
   "source": []
  }
 ],
 "metadata": {
  "kernelspec": {
   "display_name": "samban",
   "language": "python",
   "name": "python3"
  },
  "language_info": {
   "codemirror_mode": {
    "name": "ipython",
    "version": 3
   },
   "file_extension": ".py",
   "mimetype": "text/x-python",
   "name": "python",
   "nbconvert_exporter": "python",
   "pygments_lexer": "ipython3",
   "version": "3.9.19"
  }
 },
 "nbformat": 4,
 "nbformat_minor": 2
}
