{
 "cells": [
  {
   "cell_type": "code",
   "execution_count": 52,
   "metadata": {},
   "outputs": [],
   "source": [
    "from sklearn.metrics import accuracy_score, precision_score, recall_score, confusion_matrix\n",
    "\n",
    "def get_clf_evaly(y_test,pred):\n",
    "    confusion = confusion_matrix(y_test,pred)\n",
    "    accuracy = accuracy_score(y_test,pred)\n",
    "    precision = precision_score(y_test,pred)\n",
    "    recall = recall_score(y_test,pred)\n",
    "    print('오차 행렬')\n",
    "    print(confusion)\n",
    "    print('정확도: {0:.4f}, 정밀도: {1:.4f}, 재현율: {2:4.f}'.format(accuracy,precision,recall))"
   ]
  },
  {
   "cell_type": "code",
   "execution_count": 53,
   "metadata": {},
   "outputs": [],
   "source": [
    "# import pandas as pd\n",
    "# from sklearn.model_selection import train_test_split\n",
    "# from sklearn.linear_model import LogisticRegression\n",
    "\n",
    "# def transform_features(df):\n",
    "#     df = fillna(df)\n",
    "#     df = drop_\n",
    "\n",
    "# # 원본 데이터를 재로딩, 데이터 가공, 학습 데이터/테스트 데이터 분할.\n",
    "# titanic_df = pd.read_csv(r'C:\\VSCode\\KDT\\머신러닝\\DAY04\\titanic\\train.csv')\n",
    "# y_titanic_df = titanic_df['Survived']\n",
    "# X_titanic_df = titanic_df.drop('Survived',axis=1)\n",
    "# X_titanic_df = transform_features(X_titanic_df)\n",
    "\n",
    "# X_train,X_test,y_train,y_test = train_test_split(X_titanic_df,y_titanic_df,\n",
    "#                                                  test_size = 0.2,random_state=11)\n",
    "# lr_clf = LogisticRegression(solver='liblinear')\n",
    "# lr_clf.fit(X_train,y_train)"
   ]
  },
  {
   "cell_type": "markdown",
   "metadata": {},
   "source": [
    "#### 알파벳 기반 언어 식별 모델\n",
    "- 데이터셋 : lang.zip 사용해서 생성 => csv, json ,..."
   ]
  },
  {
   "cell_type": "code",
   "execution_count": 54,
   "metadata": {},
   "outputs": [],
   "source": [
    "# 모듈 로딩\n",
    "import pandas as pd\n",
    "import os\n",
    "from collections import Counter"
   ]
  },
  {
   "cell_type": "code",
   "execution_count": 55,
   "metadata": {},
   "outputs": [],
   "source": [
    "# 데이터 파일\n",
    "TRAIN_PATH = '../DAY08/lang/train/'\n",
    "TEST_PATH = '../DAY08/lang/test/'\n",
    "\n",
    "TRAIN_CSV = '../data/lang_train.csv'\n",
    "TEST_CSV = '../data/test/lang_train.csv'"
   ]
  },
  {
   "cell_type": "code",
   "execution_count": 56,
   "metadata": {},
   "outputs": [
    {
     "name": "stdout",
     "output_type": "stream",
     "text": [
      "../data/lang_train.csv파일이 없습니다.\n"
     ]
    }
   ],
   "source": [
    "# 파일 읽기 => open() -> read(), readline(), readlines() -> close()\n",
    "#          => with open() 구문\n",
    "\n",
    "if not os.path.exists(TRAIN_CSV):\n",
    "    print(f'{TRAIN_CSV}파일이 없습니다.')\n",
    "else:\n",
    "    with open (TRAIN_CSV,mode='r') as f:\n",
    "        alldata = f.read()\n",
    "        print(f'[File Data] {alldata}')"
   ]
  },
  {
   "cell_type": "code",
   "execution_count": 70,
   "metadata": {},
   "outputs": [
    {
     "name": "stdout",
     "output_type": "stream",
     "text": [
      "en-1.txt ../DAY08/lang/train/en-1.txt True\n",
      "Label => en\n",
      "alldata => 5358\n",
      "alldata => 4595\n",
      "Counter({'e': 484, 'o': 412, 't': 370, 'r': 357, 'n': 356, 'a': 349, 'i': 340, 's': 282, 'l': 247, 'd': 212, 'c': 210, 'h': 201, 'm': 121, 'u': 119, 'y': 92, 'g': 88, 'p': 76, 'f': 72, 'w': 65, 'b': 59, 'v': 45, 'k': 25, 'j': 8, 'x': 3, 'z': 2})\n"
     ]
    }
   ],
   "source": [
    "# 폴더 안에 파일을 가져오기\n",
    "files = os.listdir(TRAIN_PATH)\n",
    "\n",
    "for file in files:\n",
    "    print(file,TRAIN_PATH+file, os.path.exists(TRAIN_PATH+file))\n",
    "    label=file[:2]\n",
    "    print(f'Label => {label}')\n",
    "    with open (TRAIN_PATH+file,mode='r') as f:\n",
    "        alldata=f.read()\n",
    "    #print(f'[File Data] {alldata}')\n",
    "\n",
    "    # 대소문자 통일\n",
    "    alldata = alldata.lower()\n",
    "    \n",
    "\n",
    "    # 알파벳 아닌 문자들 제거\n",
    "    alldata=alldata.replace('\\n','')\n",
    "    print(f'alldata => {len(alldata)}')\n",
    "\n",
    "    for ch in alldata:\n",
    "        if ord('a') > ord(ch) or ord(ch) > ord('z'):\n",
    "            alldata=alldata.replace(ch,'')\n",
    "    print(f'alldata => {len(alldata)}')\n",
    "\n",
    "    # - a ~ z 개수 카운팅\n",
    "    count_data = Counter(alldata)\n",
    "    print(count_data)\n",
    "\n",
    "    break"
   ]
  },
  {
   "cell_type": "code",
   "execution_count": 63,
   "metadata": {},
   "outputs": [
    {
     "data": {
      "text/plain": [
       "Counter({'a': 4, 'b': 3, 'c': 3})"
      ]
     },
     "execution_count": 63,
     "metadata": {},
     "output_type": "execute_result"
    }
   ],
   "source": [
    "Counter('abcabcabca')"
   ]
  },
  {
   "cell_type": "code",
   "execution_count": 71,
   "metadata": {},
   "outputs": [],
   "source": [
    "# 파일 쓰기  => mode = 'w' : 파일이 존재하면 덮어쓰기, 파일이 없으면 생성 후 쓰기\n",
    "#            => mode = 'a' : 파일이 존재하면 추가하기, 파일이 없으면 생성 후 쓰기"
   ]
  },
  {
   "cell_type": "code",
   "execution_count": 74,
   "metadata": {},
   "outputs": [
    {
     "data": {
      "text/plain": [
       "{'t': 370,\n",
       " 'h': 201,\n",
       " 'e': 484,\n",
       " 'm': 121,\n",
       " 'a': 349,\n",
       " 'i': 340,\n",
       " 'n': 356,\n",
       " 'r': 357,\n",
       " 'y': 92,\n",
       " 'f': 72,\n",
       " 'o': 412,\n",
       " 'd': 212,\n",
       " 'u': 119,\n",
       " 's': 282,\n",
       " 'b': 59,\n",
       " 'l': 247,\n",
       " 'g': 88,\n",
       " 'c': 210,\n",
       " 'v': 45,\n",
       " 'p': 76,\n",
       " 'j': 8,\n",
       " 'w': 65,\n",
       " 'k': 25,\n",
       " 'x': 3,\n",
       " 'z': 2}"
      ]
     },
     "execution_count": 74,
     "metadata": {},
     "output_type": "execute_result"
    }
   ],
   "source": [
    "cc=dict(count_data)\n",
    "cc"
   ]
  },
  {
   "cell_type": "code",
   "execution_count": null,
   "metadata": {},
   "outputs": [],
   "source": []
  }
 ],
 "metadata": {
  "kernelspec": {
   "display_name": "samban",
   "language": "python",
   "name": "python3"
  },
  "language_info": {
   "codemirror_mode": {
    "name": "ipython",
    "version": 3
   },
   "file_extension": ".py",
   "mimetype": "text/x-python",
   "name": "python",
   "nbconvert_exporter": "python",
   "pygments_lexer": "ipython3",
   "version": "3.9.19"
  }
 },
 "nbformat": 4,
 "nbformat_minor": 2
}
