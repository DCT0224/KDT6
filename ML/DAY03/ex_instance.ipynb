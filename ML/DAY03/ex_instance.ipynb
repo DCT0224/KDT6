{
 "cells": [
  {
   "cell_type": "markdown",
   "metadata": {},
   "source": [
    "### 클래스와 인스턴스"
   ]
  },
  {
   "cell_type": "code",
   "execution_count": 23,
   "metadata": {},
   "outputs": [],
   "source": [
    "# 임시데이터 생성\n",
    "import random\n",
    "\n",
    "# 랜덤규칙 설정하기\n",
    "random.seed(10)\n",
    "\n",
    "data = []\n",
    "for _ in range(30):\n",
    "    data.append([random.randint(1,50)])\n",
    "    #           2차원으로 저장"
   ]
  },
  {
   "cell_type": "code",
   "execution_count": 24,
   "metadata": {},
   "outputs": [
    {
     "data": {
      "text/plain": [
       "([1], [48])"
      ]
     },
     "execution_count": 24,
     "metadata": {},
     "output_type": "execute_result"
    }
   ],
   "source": [
    "## 스케일러에서 fit()시에 진행\n",
    "min(data), max(data)"
   ]
  },
  {
   "cell_type": "code",
   "execution_count": 29,
   "metadata": {},
   "outputs": [
    {
     "data": {
      "text/plain": [
       "[0.7708333333333334,\n",
       " 0.0625,\n",
       " 0.5833333333333334,\n",
       " 0.6458333333333334,\n",
       " 0.7708333333333334,\n",
       " 0.020833333333333332,\n",
       " 0.2916666666666667,\n",
       " 0.625,\n",
       " 0.6666666666666666,\n",
       " 0.375,\n",
       " 0.875,\n",
       " 0.22916666666666666,\n",
       " 0.0625,\n",
       " 0.7083333333333334,\n",
       " 0.6666666666666666,\n",
       " 0.4375,\n",
       " 0.10416666666666667,\n",
       " 0.3333333333333333,\n",
       " 1.0,\n",
       " 0.5,\n",
       " 0.0625,\n",
       " 0.5625,\n",
       " 0.1875,\n",
       " 0.8125,\n",
       " 0.4791666666666667,\n",
       " 0.5208333333333334,\n",
       " 0.5625,\n",
       " 0.3958333333333333,\n",
       " 0.9166666666666666,\n",
       " 0.3541666666666667]"
      ]
     },
     "execution_count": 29,
     "metadata": {},
     "output_type": "execute_result"
    }
   ],
   "source": [
    "### 스케일러에서 transform()시에 0~1사이 값으로 전부 변환\n",
    "result = [d[0]/max(data)[0] for d in data]\n",
    "\n",
    "# 가장 쉬운 방법 : 데이터를 max 값으로 나누면 됨. => but 데이터에서 항상 최댓값을 알고 있어야함."
   ]
  },
  {
   "cell_type": "code",
   "execution_count": 28,
   "metadata": {},
   "outputs": [
    {
     "data": {
      "text/plain": [
       "(0.020833333333333332, 1.0)"
      ]
     },
     "execution_count": 28,
     "metadata": {},
     "output_type": "execute_result"
    }
   ],
   "source": [
    "min(result), max(result)"
   ]
  },
  {
   "cell_type": "code",
   "execution_count": null,
   "metadata": {},
   "outputs": [],
   "source": []
  }
 ],
 "metadata": {
  "kernelspec": {
   "display_name": "samban",
   "language": "python",
   "name": "python3"
  },
  "language_info": {
   "codemirror_mode": {
    "name": "ipython",
    "version": 3
   },
   "file_extension": ".py",
   "mimetype": "text/x-python",
   "name": "python",
   "nbconvert_exporter": "python",
   "pygments_lexer": "ipython3",
   "version": "3.9.19"
  }
 },
 "nbformat": 4,
 "nbformat_minor": 2
}
