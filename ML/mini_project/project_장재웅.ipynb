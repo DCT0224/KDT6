{
 "cells": [
  {
   "cell_type": "code",
   "execution_count": 28,
   "metadata": {},
   "outputs": [],
   "source": [
    "# 모듈 로딩\n",
    "import pandas as pd\n",
    "import numpy as np\n",
    "import matplotlib.pyplot as plt\n",
    "from sklearn.model_selection import train_test_split\n",
    "from sklearn.preprocessing import MinMaxScaler"
   ]
  },
  {
   "cell_type": "code",
   "execution_count": 29,
   "metadata": {},
   "outputs": [
    {
     "data": {
      "text/html": [
       "<div>\n",
       "<style scoped>\n",
       "    .dataframe tbody tr th:only-of-type {\n",
       "        vertical-align: middle;\n",
       "    }\n",
       "\n",
       "    .dataframe tbody tr th {\n",
       "        vertical-align: top;\n",
       "    }\n",
       "\n",
       "    .dataframe thead th {\n",
       "        text-align: right;\n",
       "    }\n",
       "</style>\n",
       "<table border=\"1\" class=\"dataframe\">\n",
       "  <thead>\n",
       "    <tr style=\"text-align: right;\">\n",
       "      <th></th>\n",
       "      <th>Student ID</th>\n",
       "      <th>Study Hours per Week</th>\n",
       "      <th>Attendance Rate</th>\n",
       "      <th>Previous Grades</th>\n",
       "      <th>Participation in Extracurricular Activities</th>\n",
       "      <th>Parent Education Level</th>\n",
       "      <th>Passed</th>\n",
       "    </tr>\n",
       "  </thead>\n",
       "  <tbody>\n",
       "    <tr>\n",
       "      <th>0</th>\n",
       "      <td>S00001</td>\n",
       "      <td>12.5</td>\n",
       "      <td>NaN</td>\n",
       "      <td>75.0</td>\n",
       "      <td>Yes</td>\n",
       "      <td>Master</td>\n",
       "      <td>Yes</td>\n",
       "    </tr>\n",
       "    <tr>\n",
       "      <th>1</th>\n",
       "      <td>S00002</td>\n",
       "      <td>9.3</td>\n",
       "      <td>95.3</td>\n",
       "      <td>60.6</td>\n",
       "      <td>No</td>\n",
       "      <td>High School</td>\n",
       "      <td>No</td>\n",
       "    </tr>\n",
       "    <tr>\n",
       "      <th>2</th>\n",
       "      <td>S00003</td>\n",
       "      <td>13.2</td>\n",
       "      <td>NaN</td>\n",
       "      <td>64.0</td>\n",
       "      <td>No</td>\n",
       "      <td>Associate</td>\n",
       "      <td>No</td>\n",
       "    </tr>\n",
       "    <tr>\n",
       "      <th>3</th>\n",
       "      <td>S00004</td>\n",
       "      <td>17.6</td>\n",
       "      <td>76.8</td>\n",
       "      <td>62.4</td>\n",
       "      <td>Yes</td>\n",
       "      <td>Bachelor</td>\n",
       "      <td>No</td>\n",
       "    </tr>\n",
       "    <tr>\n",
       "      <th>4</th>\n",
       "      <td>S00005</td>\n",
       "      <td>8.8</td>\n",
       "      <td>89.3</td>\n",
       "      <td>72.7</td>\n",
       "      <td>No</td>\n",
       "      <td>Master</td>\n",
       "      <td>No</td>\n",
       "    </tr>\n",
       "    <tr>\n",
       "      <th>...</th>\n",
       "      <td>...</td>\n",
       "      <td>...</td>\n",
       "      <td>...</td>\n",
       "      <td>...</td>\n",
       "      <td>...</td>\n",
       "      <td>...</td>\n",
       "      <td>...</td>\n",
       "    </tr>\n",
       "    <tr>\n",
       "      <th>39995</th>\n",
       "      <td>S39996</td>\n",
       "      <td>15.6</td>\n",
       "      <td>93.8</td>\n",
       "      <td>51.4</td>\n",
       "      <td>Yes</td>\n",
       "      <td>Master</td>\n",
       "      <td>No</td>\n",
       "    </tr>\n",
       "    <tr>\n",
       "      <th>39996</th>\n",
       "      <td>S39997</td>\n",
       "      <td>11.3</td>\n",
       "      <td>66.4</td>\n",
       "      <td>64.2</td>\n",
       "      <td>No</td>\n",
       "      <td>Doctorate</td>\n",
       "      <td>Yes</td>\n",
       "    </tr>\n",
       "    <tr>\n",
       "      <th>39997</th>\n",
       "      <td>S39998</td>\n",
       "      <td>13.1</td>\n",
       "      <td>65.6</td>\n",
       "      <td>38.1</td>\n",
       "      <td>No</td>\n",
       "      <td>Bachelor</td>\n",
       "      <td>No</td>\n",
       "    </tr>\n",
       "    <tr>\n",
       "      <th>39998</th>\n",
       "      <td>S39999</td>\n",
       "      <td>14.1</td>\n",
       "      <td>74.9</td>\n",
       "      <td>NaN</td>\n",
       "      <td>Yes</td>\n",
       "      <td>Master</td>\n",
       "      <td>No</td>\n",
       "    </tr>\n",
       "    <tr>\n",
       "      <th>39999</th>\n",
       "      <td>S40000</td>\n",
       "      <td>11.8</td>\n",
       "      <td>55.1</td>\n",
       "      <td>68.5</td>\n",
       "      <td>No</td>\n",
       "      <td>Bachelor</td>\n",
       "      <td>Yes</td>\n",
       "    </tr>\n",
       "  </tbody>\n",
       "</table>\n",
       "<p>40000 rows × 7 columns</p>\n",
       "</div>"
      ],
      "text/plain": [
       "      Student ID  Study Hours per Week  Attendance Rate  Previous Grades  \\\n",
       "0         S00001                  12.5              NaN             75.0   \n",
       "1         S00002                   9.3             95.3             60.6   \n",
       "2         S00003                  13.2              NaN             64.0   \n",
       "3         S00004                  17.6             76.8             62.4   \n",
       "4         S00005                   8.8             89.3             72.7   \n",
       "...          ...                   ...              ...              ...   \n",
       "39995     S39996                  15.6             93.8             51.4   \n",
       "39996     S39997                  11.3             66.4             64.2   \n",
       "39997     S39998                  13.1             65.6             38.1   \n",
       "39998     S39999                  14.1             74.9              NaN   \n",
       "39999     S40000                  11.8             55.1             68.5   \n",
       "\n",
       "      Participation in Extracurricular Activities Parent Education Level  \\\n",
       "0                                             Yes                 Master   \n",
       "1                                              No            High School   \n",
       "2                                              No              Associate   \n",
       "3                                             Yes               Bachelor   \n",
       "4                                              No                 Master   \n",
       "...                                           ...                    ...   \n",
       "39995                                         Yes                 Master   \n",
       "39996                                          No              Doctorate   \n",
       "39997                                          No               Bachelor   \n",
       "39998                                         Yes                 Master   \n",
       "39999                                          No               Bachelor   \n",
       "\n",
       "      Passed  \n",
       "0        Yes  \n",
       "1         No  \n",
       "2         No  \n",
       "3         No  \n",
       "4         No  \n",
       "...      ...  \n",
       "39995     No  \n",
       "39996    Yes  \n",
       "39997     No  \n",
       "39998     No  \n",
       "39999    Yes  \n",
       "\n",
       "[40000 rows x 7 columns]"
      ]
     },
     "execution_count": 29,
     "metadata": {},
     "output_type": "execute_result"
    }
   ],
   "source": [
    "# 데이터 파일\n",
    "File_name = r'C:\\Users\\KDP-14\\Desktop\\VSCode\\KDT6\\ML\\mini_project\\student_performance_prediction.csv'\n",
    "studentDF = pd.read_csv(File_name)\n",
    "studentDF"
   ]
  },
  {
   "cell_type": "markdown",
   "metadata": {},
   "source": [
    "### 데이터 확인"
   ]
  },
  {
   "cell_type": "code",
   "execution_count": 30,
   "metadata": {},
   "outputs": [
    {
     "name": "stdout",
     "output_type": "stream",
     "text": [
      "<class 'pandas.core.frame.DataFrame'>\n",
      "RangeIndex: 40000 entries, 0 to 39999\n",
      "Data columns (total 7 columns):\n",
      " #   Column                                       Non-Null Count  Dtype  \n",
      "---  ------                                       --------------  -----  \n",
      " 0   Student ID                                   40000 non-null  object \n",
      " 1   Study Hours per Week                         38005 non-null  float64\n",
      " 2   Attendance Rate                              38008 non-null  float64\n",
      " 3   Previous Grades                              38006 non-null  float64\n",
      " 4   Participation in Extracurricular Activities  38000 non-null  object \n",
      " 5   Parent Education Level                       38000 non-null  object \n",
      " 6   Passed                                       38000 non-null  object \n",
      "dtypes: float64(3), object(4)\n",
      "memory usage: 2.1+ MB\n"
     ]
    }
   ],
   "source": [
    "studentDF.info()"
   ]
  },
  {
   "cell_type": "code",
   "execution_count": 31,
   "metadata": {},
   "outputs": [
    {
     "data": {
      "text/html": [
       "<div>\n",
       "<style scoped>\n",
       "    .dataframe tbody tr th:only-of-type {\n",
       "        vertical-align: middle;\n",
       "    }\n",
       "\n",
       "    .dataframe tbody tr th {\n",
       "        vertical-align: top;\n",
       "    }\n",
       "\n",
       "    .dataframe thead th {\n",
       "        text-align: right;\n",
       "    }\n",
       "</style>\n",
       "<table border=\"1\" class=\"dataframe\">\n",
       "  <thead>\n",
       "    <tr style=\"text-align: right;\">\n",
       "      <th></th>\n",
       "      <th>Study Hours per Week</th>\n",
       "      <th>Attendance Rate</th>\n",
       "      <th>Previous Grades</th>\n",
       "    </tr>\n",
       "  </thead>\n",
       "  <tbody>\n",
       "    <tr>\n",
       "      <th>count</th>\n",
       "      <td>38005.000000</td>\n",
       "      <td>38008.000000</td>\n",
       "      <td>38006.000000</td>\n",
       "    </tr>\n",
       "    <tr>\n",
       "      <th>mean</th>\n",
       "      <td>9.962744</td>\n",
       "      <td>75.276323</td>\n",
       "      <td>65.440107</td>\n",
       "    </tr>\n",
       "    <tr>\n",
       "      <th>std</th>\n",
       "      <td>5.031154</td>\n",
       "      <td>20.393418</td>\n",
       "      <td>16.503119</td>\n",
       "    </tr>\n",
       "    <tr>\n",
       "      <th>min</th>\n",
       "      <td>-12.300000</td>\n",
       "      <td>-14.300000</td>\n",
       "      <td>8.300000</td>\n",
       "    </tr>\n",
       "    <tr>\n",
       "      <th>25%</th>\n",
       "      <td>6.600000</td>\n",
       "      <td>61.600000</td>\n",
       "      <td>55.100000</td>\n",
       "    </tr>\n",
       "    <tr>\n",
       "      <th>50%</th>\n",
       "      <td>10.000000</td>\n",
       "      <td>75.300000</td>\n",
       "      <td>65.200000</td>\n",
       "    </tr>\n",
       "    <tr>\n",
       "      <th>75%</th>\n",
       "      <td>13.400000</td>\n",
       "      <td>88.800000</td>\n",
       "      <td>75.200000</td>\n",
       "    </tr>\n",
       "    <tr>\n",
       "      <th>max</th>\n",
       "      <td>32.400000</td>\n",
       "      <td>150.200000</td>\n",
       "      <td>200.000000</td>\n",
       "    </tr>\n",
       "  </tbody>\n",
       "</table>\n",
       "</div>"
      ],
      "text/plain": [
       "       Study Hours per Week  Attendance Rate  Previous Grades\n",
       "count          38005.000000     38008.000000     38006.000000\n",
       "mean               9.962744        75.276323        65.440107\n",
       "std                5.031154        20.393418        16.503119\n",
       "min              -12.300000       -14.300000         8.300000\n",
       "25%                6.600000        61.600000        55.100000\n",
       "50%               10.000000        75.300000        65.200000\n",
       "75%               13.400000        88.800000        75.200000\n",
       "max               32.400000       150.200000       200.000000"
      ]
     },
     "execution_count": 31,
     "metadata": {},
     "output_type": "execute_result"
    }
   ],
   "source": [
    "studentDF.describe()"
   ]
  },
  {
   "cell_type": "code",
   "execution_count": 32,
   "metadata": {},
   "outputs": [
    {
     "data": {
      "text/plain": [
       "Student ID                                        0\n",
       "Study Hours per Week                           1995\n",
       "Attendance Rate                                1992\n",
       "Previous Grades                                1994\n",
       "Participation in Extracurricular Activities    2000\n",
       "Parent Education Level                         2000\n",
       "Passed                                         2000\n",
       "dtype: int64"
      ]
     },
     "execution_count": 32,
     "metadata": {},
     "output_type": "execute_result"
    }
   ],
   "source": [
    "studentDF.isna().sum()"
   ]
  },
  {
   "cell_type": "markdown",
   "metadata": {},
   "source": [
    "### 데이터 전처리"
   ]
  },
  {
   "cell_type": "code",
   "execution_count": 33,
   "metadata": {},
   "outputs": [
    {
     "data": {
      "text/html": [
       "<div>\n",
       "<style scoped>\n",
       "    .dataframe tbody tr th:only-of-type {\n",
       "        vertical-align: middle;\n",
       "    }\n",
       "\n",
       "    .dataframe tbody tr th {\n",
       "        vertical-align: top;\n",
       "    }\n",
       "\n",
       "    .dataframe thead th {\n",
       "        text-align: right;\n",
       "    }\n",
       "</style>\n",
       "<table border=\"1\" class=\"dataframe\">\n",
       "  <thead>\n",
       "    <tr style=\"text-align: right;\">\n",
       "      <th></th>\n",
       "      <th>Student ID</th>\n",
       "      <th>Study Hours per Week</th>\n",
       "      <th>Attendance Rate</th>\n",
       "      <th>Previous Grades</th>\n",
       "      <th>Participation in Extracurricular Activities</th>\n",
       "      <th>Parent Education Level</th>\n",
       "      <th>Passed</th>\n",
       "    </tr>\n",
       "  </thead>\n",
       "  <tbody>\n",
       "    <tr>\n",
       "      <th>0</th>\n",
       "      <td>S00001</td>\n",
       "      <td>12.5</td>\n",
       "      <td>NaN</td>\n",
       "      <td>75.0</td>\n",
       "      <td>Yes</td>\n",
       "      <td>Master</td>\n",
       "      <td>Yes</td>\n",
       "    </tr>\n",
       "    <tr>\n",
       "      <th>1</th>\n",
       "      <td>S00002</td>\n",
       "      <td>9.3</td>\n",
       "      <td>95.3</td>\n",
       "      <td>60.6</td>\n",
       "      <td>No</td>\n",
       "      <td>High School</td>\n",
       "      <td>No</td>\n",
       "    </tr>\n",
       "    <tr>\n",
       "      <th>2</th>\n",
       "      <td>S00003</td>\n",
       "      <td>13.2</td>\n",
       "      <td>NaN</td>\n",
       "      <td>64.0</td>\n",
       "      <td>No</td>\n",
       "      <td>Associate</td>\n",
       "      <td>No</td>\n",
       "    </tr>\n",
       "    <tr>\n",
       "      <th>3</th>\n",
       "      <td>S00004</td>\n",
       "      <td>17.6</td>\n",
       "      <td>76.8</td>\n",
       "      <td>62.4</td>\n",
       "      <td>Yes</td>\n",
       "      <td>Bachelor</td>\n",
       "      <td>No</td>\n",
       "    </tr>\n",
       "    <tr>\n",
       "      <th>4</th>\n",
       "      <td>S00005</td>\n",
       "      <td>8.8</td>\n",
       "      <td>89.3</td>\n",
       "      <td>72.7</td>\n",
       "      <td>No</td>\n",
       "      <td>Master</td>\n",
       "      <td>No</td>\n",
       "    </tr>\n",
       "    <tr>\n",
       "      <th>...</th>\n",
       "      <td>...</td>\n",
       "      <td>...</td>\n",
       "      <td>...</td>\n",
       "      <td>...</td>\n",
       "      <td>...</td>\n",
       "      <td>...</td>\n",
       "      <td>...</td>\n",
       "    </tr>\n",
       "    <tr>\n",
       "      <th>39995</th>\n",
       "      <td>S39996</td>\n",
       "      <td>15.6</td>\n",
       "      <td>93.8</td>\n",
       "      <td>51.4</td>\n",
       "      <td>Yes</td>\n",
       "      <td>Master</td>\n",
       "      <td>No</td>\n",
       "    </tr>\n",
       "    <tr>\n",
       "      <th>39996</th>\n",
       "      <td>S39997</td>\n",
       "      <td>11.3</td>\n",
       "      <td>66.4</td>\n",
       "      <td>64.2</td>\n",
       "      <td>No</td>\n",
       "      <td>Doctorate</td>\n",
       "      <td>Yes</td>\n",
       "    </tr>\n",
       "    <tr>\n",
       "      <th>39997</th>\n",
       "      <td>S39998</td>\n",
       "      <td>13.1</td>\n",
       "      <td>65.6</td>\n",
       "      <td>38.1</td>\n",
       "      <td>No</td>\n",
       "      <td>Bachelor</td>\n",
       "      <td>No</td>\n",
       "    </tr>\n",
       "    <tr>\n",
       "      <th>39998</th>\n",
       "      <td>S39999</td>\n",
       "      <td>14.1</td>\n",
       "      <td>74.9</td>\n",
       "      <td>NaN</td>\n",
       "      <td>Yes</td>\n",
       "      <td>Master</td>\n",
       "      <td>No</td>\n",
       "    </tr>\n",
       "    <tr>\n",
       "      <th>39999</th>\n",
       "      <td>S40000</td>\n",
       "      <td>11.8</td>\n",
       "      <td>55.1</td>\n",
       "      <td>68.5</td>\n",
       "      <td>No</td>\n",
       "      <td>Bachelor</td>\n",
       "      <td>Yes</td>\n",
       "    </tr>\n",
       "  </tbody>\n",
       "</table>\n",
       "<p>39059 rows × 7 columns</p>\n",
       "</div>"
      ],
      "text/plain": [
       "      Student ID  Study Hours per Week  Attendance Rate  Previous Grades  \\\n",
       "0         S00001                  12.5              NaN             75.0   \n",
       "1         S00002                   9.3             95.3             60.6   \n",
       "2         S00003                  13.2              NaN             64.0   \n",
       "3         S00004                  17.6             76.8             62.4   \n",
       "4         S00005                   8.8             89.3             72.7   \n",
       "...          ...                   ...              ...              ...   \n",
       "39995     S39996                  15.6             93.8             51.4   \n",
       "39996     S39997                  11.3             66.4             64.2   \n",
       "39997     S39998                  13.1             65.6             38.1   \n",
       "39998     S39999                  14.1             74.9              NaN   \n",
       "39999     S40000                  11.8             55.1             68.5   \n",
       "\n",
       "      Participation in Extracurricular Activities Parent Education Level  \\\n",
       "0                                             Yes                 Master   \n",
       "1                                              No            High School   \n",
       "2                                              No              Associate   \n",
       "3                                             Yes               Bachelor   \n",
       "4                                              No                 Master   \n",
       "...                                           ...                    ...   \n",
       "39995                                         Yes                 Master   \n",
       "39996                                          No              Doctorate   \n",
       "39997                                          No               Bachelor   \n",
       "39998                                         Yes                 Master   \n",
       "39999                                          No               Bachelor   \n",
       "\n",
       "      Passed  \n",
       "0        Yes  \n",
       "1         No  \n",
       "2         No  \n",
       "3         No  \n",
       "4         No  \n",
       "...      ...  \n",
       "39995     No  \n",
       "39996    Yes  \n",
       "39997     No  \n",
       "39998     No  \n",
       "39999    Yes  \n",
       "\n",
       "[39059 rows x 7 columns]"
      ]
     },
     "execution_count": 33,
     "metadata": {},
     "output_type": "execute_result"
    }
   ],
   "source": [
    "# Study Hours per Week 값 Nan은 0으로 바꾸고, 양수만 남기기\n",
    "values = {'Study Hours per Week':0}\n",
    "studentDF.fillna(value=values,inplace=True)\n",
    "\n",
    "studentDF = studentDF[studentDF['Study Hours per Week'] >= 0]\n",
    "studentDF"
   ]
  },
  {
   "cell_type": "code",
   "execution_count": 34,
   "metadata": {},
   "outputs": [
    {
     "data": {
      "text/html": [
       "<div>\n",
       "<style scoped>\n",
       "    .dataframe tbody tr th:only-of-type {\n",
       "        vertical-align: middle;\n",
       "    }\n",
       "\n",
       "    .dataframe tbody tr th {\n",
       "        vertical-align: top;\n",
       "    }\n",
       "\n",
       "    .dataframe thead th {\n",
       "        text-align: right;\n",
       "    }\n",
       "</style>\n",
       "<table border=\"1\" class=\"dataframe\">\n",
       "  <thead>\n",
       "    <tr style=\"text-align: right;\">\n",
       "      <th></th>\n",
       "      <th>Student ID</th>\n",
       "      <th>Study Hours per Week</th>\n",
       "      <th>Attendance Rate</th>\n",
       "      <th>Previous Grades</th>\n",
       "      <th>Participation in Extracurricular Activities</th>\n",
       "      <th>Parent Education Level</th>\n",
       "      <th>Passed</th>\n",
       "    </tr>\n",
       "  </thead>\n",
       "  <tbody>\n",
       "    <tr>\n",
       "      <th>1</th>\n",
       "      <td>S00002</td>\n",
       "      <td>9.3</td>\n",
       "      <td>95.3</td>\n",
       "      <td>60.6</td>\n",
       "      <td>No</td>\n",
       "      <td>High School</td>\n",
       "      <td>No</td>\n",
       "    </tr>\n",
       "    <tr>\n",
       "      <th>3</th>\n",
       "      <td>S00004</td>\n",
       "      <td>17.6</td>\n",
       "      <td>76.8</td>\n",
       "      <td>62.4</td>\n",
       "      <td>Yes</td>\n",
       "      <td>Bachelor</td>\n",
       "      <td>No</td>\n",
       "    </tr>\n",
       "    <tr>\n",
       "      <th>4</th>\n",
       "      <td>S00005</td>\n",
       "      <td>8.8</td>\n",
       "      <td>89.3</td>\n",
       "      <td>72.7</td>\n",
       "      <td>No</td>\n",
       "      <td>Master</td>\n",
       "      <td>No</td>\n",
       "    </tr>\n",
       "    <tr>\n",
       "      <th>5</th>\n",
       "      <td>S00006</td>\n",
       "      <td>8.8</td>\n",
       "      <td>73.8</td>\n",
       "      <td>69.3</td>\n",
       "      <td>Yes</td>\n",
       "      <td>High School</td>\n",
       "      <td>Yes</td>\n",
       "    </tr>\n",
       "    <tr>\n",
       "      <th>6</th>\n",
       "      <td>S00007</td>\n",
       "      <td>17.9</td>\n",
       "      <td>38.6</td>\n",
       "      <td>93.6</td>\n",
       "      <td>No</td>\n",
       "      <td>Doctorate</td>\n",
       "      <td>Yes</td>\n",
       "    </tr>\n",
       "    <tr>\n",
       "      <th>...</th>\n",
       "      <td>...</td>\n",
       "      <td>...</td>\n",
       "      <td>...</td>\n",
       "      <td>...</td>\n",
       "      <td>...</td>\n",
       "      <td>...</td>\n",
       "      <td>...</td>\n",
       "    </tr>\n",
       "    <tr>\n",
       "      <th>39995</th>\n",
       "      <td>S39996</td>\n",
       "      <td>15.6</td>\n",
       "      <td>93.8</td>\n",
       "      <td>51.4</td>\n",
       "      <td>Yes</td>\n",
       "      <td>Master</td>\n",
       "      <td>No</td>\n",
       "    </tr>\n",
       "    <tr>\n",
       "      <th>39996</th>\n",
       "      <td>S39997</td>\n",
       "      <td>11.3</td>\n",
       "      <td>66.4</td>\n",
       "      <td>64.2</td>\n",
       "      <td>No</td>\n",
       "      <td>Doctorate</td>\n",
       "      <td>Yes</td>\n",
       "    </tr>\n",
       "    <tr>\n",
       "      <th>39997</th>\n",
       "      <td>S39998</td>\n",
       "      <td>13.1</td>\n",
       "      <td>65.6</td>\n",
       "      <td>38.1</td>\n",
       "      <td>No</td>\n",
       "      <td>Bachelor</td>\n",
       "      <td>No</td>\n",
       "    </tr>\n",
       "    <tr>\n",
       "      <th>39998</th>\n",
       "      <td>S39999</td>\n",
       "      <td>14.1</td>\n",
       "      <td>74.9</td>\n",
       "      <td>NaN</td>\n",
       "      <td>Yes</td>\n",
       "      <td>Master</td>\n",
       "      <td>No</td>\n",
       "    </tr>\n",
       "    <tr>\n",
       "      <th>39999</th>\n",
       "      <td>S40000</td>\n",
       "      <td>11.8</td>\n",
       "      <td>55.1</td>\n",
       "      <td>68.5</td>\n",
       "      <td>No</td>\n",
       "      <td>Bachelor</td>\n",
       "      <td>Yes</td>\n",
       "    </tr>\n",
       "  </tbody>\n",
       "</table>\n",
       "<p>33076 rows × 7 columns</p>\n",
       "</div>"
      ],
      "text/plain": [
       "      Student ID  Study Hours per Week  Attendance Rate  Previous Grades  \\\n",
       "1         S00002                   9.3             95.3             60.6   \n",
       "3         S00004                  17.6             76.8             62.4   \n",
       "4         S00005                   8.8             89.3             72.7   \n",
       "5         S00006                   8.8             73.8             69.3   \n",
       "6         S00007                  17.9             38.6             93.6   \n",
       "...          ...                   ...              ...              ...   \n",
       "39995     S39996                  15.6             93.8             51.4   \n",
       "39996     S39997                  11.3             66.4             64.2   \n",
       "39997     S39998                  13.1             65.6             38.1   \n",
       "39998     S39999                  14.1             74.9              NaN   \n",
       "39999     S40000                  11.8             55.1             68.5   \n",
       "\n",
       "      Participation in Extracurricular Activities Parent Education Level  \\\n",
       "1                                              No            High School   \n",
       "3                                             Yes               Bachelor   \n",
       "4                                              No                 Master   \n",
       "5                                             Yes            High School   \n",
       "6                                              No              Doctorate   \n",
       "...                                           ...                    ...   \n",
       "39995                                         Yes                 Master   \n",
       "39996                                          No              Doctorate   \n",
       "39997                                          No               Bachelor   \n",
       "39998                                         Yes                 Master   \n",
       "39999                                          No               Bachelor   \n",
       "\n",
       "      Passed  \n",
       "1         No  \n",
       "3         No  \n",
       "4         No  \n",
       "5        Yes  \n",
       "6        Yes  \n",
       "...      ...  \n",
       "39995     No  \n",
       "39996    Yes  \n",
       "39997     No  \n",
       "39998     No  \n",
       "39999    Yes  \n",
       "\n",
       "[33076 rows x 7 columns]"
      ]
     },
     "execution_count": 34,
     "metadata": {},
     "output_type": "execute_result"
    }
   ],
   "source": [
    "# Attendance Rate 데이터 음수값, 100 초과값 날리기\n",
    "mask = (studentDF['Attendance Rate']>0) & (studentDF['Attendance Rate']<=100)\n",
    "studentDF=studentDF[mask]\n",
    "studentDF"
   ]
  },
  {
   "cell_type": "code",
   "execution_count": 35,
   "metadata": {},
   "outputs": [
    {
     "data": {
      "text/html": [
       "<div>\n",
       "<style scoped>\n",
       "    .dataframe tbody tr th:only-of-type {\n",
       "        vertical-align: middle;\n",
       "    }\n",
       "\n",
       "    .dataframe tbody tr th {\n",
       "        vertical-align: top;\n",
       "    }\n",
       "\n",
       "    .dataframe thead th {\n",
       "        text-align: right;\n",
       "    }\n",
       "</style>\n",
       "<table border=\"1\" class=\"dataframe\">\n",
       "  <thead>\n",
       "    <tr style=\"text-align: right;\">\n",
       "      <th></th>\n",
       "      <th>Student ID</th>\n",
       "      <th>Study Hours per Week</th>\n",
       "      <th>Attendance Rate</th>\n",
       "      <th>Previous Grades</th>\n",
       "      <th>Participation in Extracurricular Activities</th>\n",
       "      <th>Parent Education Level</th>\n",
       "      <th>Passed</th>\n",
       "    </tr>\n",
       "  </thead>\n",
       "  <tbody>\n",
       "    <tr>\n",
       "      <th>1</th>\n",
       "      <td>S00002</td>\n",
       "      <td>9.3</td>\n",
       "      <td>95.3</td>\n",
       "      <td>60.6</td>\n",
       "      <td>No</td>\n",
       "      <td>High School</td>\n",
       "      <td>No</td>\n",
       "    </tr>\n",
       "    <tr>\n",
       "      <th>3</th>\n",
       "      <td>S00004</td>\n",
       "      <td>17.6</td>\n",
       "      <td>76.8</td>\n",
       "      <td>62.4</td>\n",
       "      <td>Yes</td>\n",
       "      <td>Bachelor</td>\n",
       "      <td>No</td>\n",
       "    </tr>\n",
       "    <tr>\n",
       "      <th>4</th>\n",
       "      <td>S00005</td>\n",
       "      <td>8.8</td>\n",
       "      <td>89.3</td>\n",
       "      <td>72.7</td>\n",
       "      <td>No</td>\n",
       "      <td>Master</td>\n",
       "      <td>No</td>\n",
       "    </tr>\n",
       "    <tr>\n",
       "      <th>5</th>\n",
       "      <td>S00006</td>\n",
       "      <td>8.8</td>\n",
       "      <td>73.8</td>\n",
       "      <td>69.3</td>\n",
       "      <td>Yes</td>\n",
       "      <td>High School</td>\n",
       "      <td>Yes</td>\n",
       "    </tr>\n",
       "    <tr>\n",
       "      <th>6</th>\n",
       "      <td>S00007</td>\n",
       "      <td>17.9</td>\n",
       "      <td>38.6</td>\n",
       "      <td>93.6</td>\n",
       "      <td>No</td>\n",
       "      <td>Doctorate</td>\n",
       "      <td>Yes</td>\n",
       "    </tr>\n",
       "    <tr>\n",
       "      <th>...</th>\n",
       "      <td>...</td>\n",
       "      <td>...</td>\n",
       "      <td>...</td>\n",
       "      <td>...</td>\n",
       "      <td>...</td>\n",
       "      <td>...</td>\n",
       "      <td>...</td>\n",
       "    </tr>\n",
       "    <tr>\n",
       "      <th>39994</th>\n",
       "      <td>S39995</td>\n",
       "      <td>5.1</td>\n",
       "      <td>92.1</td>\n",
       "      <td>46.1</td>\n",
       "      <td>Yes</td>\n",
       "      <td>Doctorate</td>\n",
       "      <td>No</td>\n",
       "    </tr>\n",
       "    <tr>\n",
       "      <th>39995</th>\n",
       "      <td>S39996</td>\n",
       "      <td>15.6</td>\n",
       "      <td>93.8</td>\n",
       "      <td>51.4</td>\n",
       "      <td>Yes</td>\n",
       "      <td>Master</td>\n",
       "      <td>No</td>\n",
       "    </tr>\n",
       "    <tr>\n",
       "      <th>39996</th>\n",
       "      <td>S39997</td>\n",
       "      <td>11.3</td>\n",
       "      <td>66.4</td>\n",
       "      <td>64.2</td>\n",
       "      <td>No</td>\n",
       "      <td>Doctorate</td>\n",
       "      <td>Yes</td>\n",
       "    </tr>\n",
       "    <tr>\n",
       "      <th>39997</th>\n",
       "      <td>S39998</td>\n",
       "      <td>13.1</td>\n",
       "      <td>65.6</td>\n",
       "      <td>38.1</td>\n",
       "      <td>No</td>\n",
       "      <td>Bachelor</td>\n",
       "      <td>No</td>\n",
       "    </tr>\n",
       "    <tr>\n",
       "      <th>39999</th>\n",
       "      <td>S40000</td>\n",
       "      <td>11.8</td>\n",
       "      <td>55.1</td>\n",
       "      <td>68.5</td>\n",
       "      <td>No</td>\n",
       "      <td>Bachelor</td>\n",
       "      <td>Yes</td>\n",
       "    </tr>\n",
       "  </tbody>\n",
       "</table>\n",
       "<p>31030 rows × 7 columns</p>\n",
       "</div>"
      ],
      "text/plain": [
       "      Student ID  Study Hours per Week  Attendance Rate  Previous Grades  \\\n",
       "1         S00002                   9.3             95.3             60.6   \n",
       "3         S00004                  17.6             76.8             62.4   \n",
       "4         S00005                   8.8             89.3             72.7   \n",
       "5         S00006                   8.8             73.8             69.3   \n",
       "6         S00007                  17.9             38.6             93.6   \n",
       "...          ...                   ...              ...              ...   \n",
       "39994     S39995                   5.1             92.1             46.1   \n",
       "39995     S39996                  15.6             93.8             51.4   \n",
       "39996     S39997                  11.3             66.4             64.2   \n",
       "39997     S39998                  13.1             65.6             38.1   \n",
       "39999     S40000                  11.8             55.1             68.5   \n",
       "\n",
       "      Participation in Extracurricular Activities Parent Education Level  \\\n",
       "1                                              No            High School   \n",
       "3                                             Yes               Bachelor   \n",
       "4                                              No                 Master   \n",
       "5                                             Yes            High School   \n",
       "6                                              No              Doctorate   \n",
       "...                                           ...                    ...   \n",
       "39994                                         Yes              Doctorate   \n",
       "39995                                         Yes                 Master   \n",
       "39996                                          No              Doctorate   \n",
       "39997                                          No               Bachelor   \n",
       "39999                                          No               Bachelor   \n",
       "\n",
       "      Passed  \n",
       "1         No  \n",
       "3         No  \n",
       "4         No  \n",
       "5        Yes  \n",
       "6        Yes  \n",
       "...      ...  \n",
       "39994     No  \n",
       "39995     No  \n",
       "39996    Yes  \n",
       "39997     No  \n",
       "39999    Yes  \n",
       "\n",
       "[31030 rows x 7 columns]"
      ]
     },
     "execution_count": 35,
     "metadata": {},
     "output_type": "execute_result"
    }
   ],
   "source": [
    "# Previous Grades => 100 초과값 날리기, Nan값 => 중앙값\n",
    "\n",
    "# Participation in Extracurricular Activities => Nan값 -> no\n",
    "\n",
    "# Parent Education Level => Nan값 => 중졸이하\n",
    "\n",
    "\n",
    "mask = (studentDF['Previous Grades']<=100)\n",
    "studentDF=studentDF[mask].copy()\n",
    "\n",
    "values = {'Previous Grades':65.2,'Participation in Extracurricular Activities':'No','Parent Education Level':'Under_Middle'}\n",
    "studentDF.fillna(value=values,inplace=True)\n",
    "\n",
    "studentDF"
   ]
  },
  {
   "cell_type": "code",
   "execution_count": 36,
   "metadata": {},
   "outputs": [
    {
     "data": {
      "text/html": [
       "<div>\n",
       "<style scoped>\n",
       "    .dataframe tbody tr th:only-of-type {\n",
       "        vertical-align: middle;\n",
       "    }\n",
       "\n",
       "    .dataframe tbody tr th {\n",
       "        vertical-align: top;\n",
       "    }\n",
       "\n",
       "    .dataframe thead th {\n",
       "        text-align: right;\n",
       "    }\n",
       "</style>\n",
       "<table border=\"1\" class=\"dataframe\">\n",
       "  <thead>\n",
       "    <tr style=\"text-align: right;\">\n",
       "      <th></th>\n",
       "      <th>Student ID</th>\n",
       "      <th>Study Hours per Week</th>\n",
       "      <th>Attendance Rate</th>\n",
       "      <th>Previous Grades</th>\n",
       "      <th>Participation in Extracurricular Activities</th>\n",
       "      <th>Parent Education Level</th>\n",
       "      <th>Passed</th>\n",
       "    </tr>\n",
       "  </thead>\n",
       "  <tbody>\n",
       "    <tr>\n",
       "      <th>1</th>\n",
       "      <td>S00002</td>\n",
       "      <td>9.3</td>\n",
       "      <td>95.3</td>\n",
       "      <td>60.6</td>\n",
       "      <td>No</td>\n",
       "      <td>High School</td>\n",
       "      <td>No</td>\n",
       "    </tr>\n",
       "    <tr>\n",
       "      <th>3</th>\n",
       "      <td>S00004</td>\n",
       "      <td>17.6</td>\n",
       "      <td>76.8</td>\n",
       "      <td>62.4</td>\n",
       "      <td>Yes</td>\n",
       "      <td>Bachelor</td>\n",
       "      <td>No</td>\n",
       "    </tr>\n",
       "    <tr>\n",
       "      <th>4</th>\n",
       "      <td>S00005</td>\n",
       "      <td>8.8</td>\n",
       "      <td>89.3</td>\n",
       "      <td>72.7</td>\n",
       "      <td>No</td>\n",
       "      <td>Master</td>\n",
       "      <td>No</td>\n",
       "    </tr>\n",
       "    <tr>\n",
       "      <th>5</th>\n",
       "      <td>S00006</td>\n",
       "      <td>8.8</td>\n",
       "      <td>73.8</td>\n",
       "      <td>69.3</td>\n",
       "      <td>Yes</td>\n",
       "      <td>High School</td>\n",
       "      <td>Yes</td>\n",
       "    </tr>\n",
       "    <tr>\n",
       "      <th>6</th>\n",
       "      <td>S00007</td>\n",
       "      <td>17.9</td>\n",
       "      <td>38.6</td>\n",
       "      <td>93.6</td>\n",
       "      <td>No</td>\n",
       "      <td>Doctorate</td>\n",
       "      <td>Yes</td>\n",
       "    </tr>\n",
       "    <tr>\n",
       "      <th>...</th>\n",
       "      <td>...</td>\n",
       "      <td>...</td>\n",
       "      <td>...</td>\n",
       "      <td>...</td>\n",
       "      <td>...</td>\n",
       "      <td>...</td>\n",
       "      <td>...</td>\n",
       "    </tr>\n",
       "    <tr>\n",
       "      <th>39994</th>\n",
       "      <td>S39995</td>\n",
       "      <td>5.1</td>\n",
       "      <td>92.1</td>\n",
       "      <td>46.1</td>\n",
       "      <td>Yes</td>\n",
       "      <td>Doctorate</td>\n",
       "      <td>No</td>\n",
       "    </tr>\n",
       "    <tr>\n",
       "      <th>39995</th>\n",
       "      <td>S39996</td>\n",
       "      <td>15.6</td>\n",
       "      <td>93.8</td>\n",
       "      <td>51.4</td>\n",
       "      <td>Yes</td>\n",
       "      <td>Master</td>\n",
       "      <td>No</td>\n",
       "    </tr>\n",
       "    <tr>\n",
       "      <th>39996</th>\n",
       "      <td>S39997</td>\n",
       "      <td>11.3</td>\n",
       "      <td>66.4</td>\n",
       "      <td>64.2</td>\n",
       "      <td>No</td>\n",
       "      <td>Doctorate</td>\n",
       "      <td>Yes</td>\n",
       "    </tr>\n",
       "    <tr>\n",
       "      <th>39997</th>\n",
       "      <td>S39998</td>\n",
       "      <td>13.1</td>\n",
       "      <td>65.6</td>\n",
       "      <td>38.1</td>\n",
       "      <td>No</td>\n",
       "      <td>Bachelor</td>\n",
       "      <td>No</td>\n",
       "    </tr>\n",
       "    <tr>\n",
       "      <th>39999</th>\n",
       "      <td>S40000</td>\n",
       "      <td>11.8</td>\n",
       "      <td>55.1</td>\n",
       "      <td>68.5</td>\n",
       "      <td>No</td>\n",
       "      <td>Bachelor</td>\n",
       "      <td>Yes</td>\n",
       "    </tr>\n",
       "  </tbody>\n",
       "</table>\n",
       "<p>29477 rows × 7 columns</p>\n",
       "</div>"
      ],
      "text/plain": [
       "      Student ID  Study Hours per Week  Attendance Rate  Previous Grades  \\\n",
       "1         S00002                   9.3             95.3             60.6   \n",
       "3         S00004                  17.6             76.8             62.4   \n",
       "4         S00005                   8.8             89.3             72.7   \n",
       "5         S00006                   8.8             73.8             69.3   \n",
       "6         S00007                  17.9             38.6             93.6   \n",
       "...          ...                   ...              ...              ...   \n",
       "39994     S39995                   5.1             92.1             46.1   \n",
       "39995     S39996                  15.6             93.8             51.4   \n",
       "39996     S39997                  11.3             66.4             64.2   \n",
       "39997     S39998                  13.1             65.6             38.1   \n",
       "39999     S40000                  11.8             55.1             68.5   \n",
       "\n",
       "      Participation in Extracurricular Activities Parent Education Level  \\\n",
       "1                                              No            High School   \n",
       "3                                             Yes               Bachelor   \n",
       "4                                              No                 Master   \n",
       "5                                             Yes            High School   \n",
       "6                                              No              Doctorate   \n",
       "...                                           ...                    ...   \n",
       "39994                                         Yes              Doctorate   \n",
       "39995                                         Yes                 Master   \n",
       "39996                                          No              Doctorate   \n",
       "39997                                          No               Bachelor   \n",
       "39999                                          No               Bachelor   \n",
       "\n",
       "      Passed  \n",
       "1         No  \n",
       "3         No  \n",
       "4         No  \n",
       "5        Yes  \n",
       "6        Yes  \n",
       "...      ...  \n",
       "39994     No  \n",
       "39995     No  \n",
       "39996    Yes  \n",
       "39997     No  \n",
       "39999    Yes  \n",
       "\n",
       "[29477 rows x 7 columns]"
      ]
     },
     "execution_count": 36,
     "metadata": {},
     "output_type": "execute_result"
    }
   ],
   "source": [
    "# Passed => Nan값 날리기\n",
    "studentDF=studentDF.dropna(subset=['Passed'], how='any', axis=0)\n",
    "studentDF"
   ]
  },
  {
   "cell_type": "code",
   "execution_count": 37,
   "metadata": {},
   "outputs": [
    {
     "data": {
      "text/plain": [
       "Student ID                                     0\n",
       "Study Hours per Week                           0\n",
       "Attendance Rate                                0\n",
       "Previous Grades                                0\n",
       "Participation in Extracurricular Activities    0\n",
       "Parent Education Level                         0\n",
       "Passed                                         0\n",
       "dtype: int64"
      ]
     },
     "execution_count": 37,
     "metadata": {},
     "output_type": "execute_result"
    }
   ],
   "source": [
    "studentDF.isna().sum()"
   ]
  },
  {
   "cell_type": "code",
   "execution_count": 38,
   "metadata": {},
   "outputs": [
    {
     "data": {
      "text/html": [
       "<div>\n",
       "<style scoped>\n",
       "    .dataframe tbody tr th:only-of-type {\n",
       "        vertical-align: middle;\n",
       "    }\n",
       "\n",
       "    .dataframe tbody tr th {\n",
       "        vertical-align: top;\n",
       "    }\n",
       "\n",
       "    .dataframe thead th {\n",
       "        text-align: right;\n",
       "    }\n",
       "</style>\n",
       "<table border=\"1\" class=\"dataframe\">\n",
       "  <thead>\n",
       "    <tr style=\"text-align: right;\">\n",
       "      <th></th>\n",
       "      <th>Study Hours per Week</th>\n",
       "      <th>Attendance Rate</th>\n",
       "      <th>Previous Grades</th>\n",
       "    </tr>\n",
       "  </thead>\n",
       "  <tbody>\n",
       "    <tr>\n",
       "      <th>count</th>\n",
       "      <td>29477.000000</td>\n",
       "      <td>29477.000000</td>\n",
       "      <td>29477.000000</td>\n",
       "    </tr>\n",
       "    <tr>\n",
       "      <th>mean</th>\n",
       "      <td>9.729386</td>\n",
       "      <td>70.990413</td>\n",
       "      <td>64.657872</td>\n",
       "    </tr>\n",
       "    <tr>\n",
       "      <th>std</th>\n",
       "      <td>5.113606</td>\n",
       "      <td>16.814976</td>\n",
       "      <td>14.488412</td>\n",
       "    </tr>\n",
       "    <tr>\n",
       "      <th>min</th>\n",
       "      <td>0.000000</td>\n",
       "      <td>0.500000</td>\n",
       "      <td>8.300000</td>\n",
       "    </tr>\n",
       "    <tr>\n",
       "      <th>25%</th>\n",
       "      <td>6.200000</td>\n",
       "      <td>59.800000</td>\n",
       "      <td>54.900000</td>\n",
       "    </tr>\n",
       "    <tr>\n",
       "      <th>50%</th>\n",
       "      <td>9.800000</td>\n",
       "      <td>72.400000</td>\n",
       "      <td>64.900000</td>\n",
       "    </tr>\n",
       "    <tr>\n",
       "      <th>75%</th>\n",
       "      <td>13.300000</td>\n",
       "      <td>84.000000</td>\n",
       "      <td>74.700000</td>\n",
       "    </tr>\n",
       "    <tr>\n",
       "      <th>max</th>\n",
       "      <td>32.400000</td>\n",
       "      <td>100.000000</td>\n",
       "      <td>100.000000</td>\n",
       "    </tr>\n",
       "  </tbody>\n",
       "</table>\n",
       "</div>"
      ],
      "text/plain": [
       "       Study Hours per Week  Attendance Rate  Previous Grades\n",
       "count          29477.000000     29477.000000     29477.000000\n",
       "mean               9.729386        70.990413        64.657872\n",
       "std                5.113606        16.814976        14.488412\n",
       "min                0.000000         0.500000         8.300000\n",
       "25%                6.200000        59.800000        54.900000\n",
       "50%                9.800000        72.400000        64.900000\n",
       "75%               13.300000        84.000000        74.700000\n",
       "max               32.400000       100.000000       100.000000"
      ]
     },
     "execution_count": 38,
     "metadata": {},
     "output_type": "execute_result"
    }
   ],
   "source": [
    "studentDF.describe()"
   ]
  },
  {
   "cell_type": "code",
   "execution_count": 39,
   "metadata": {},
   "outputs": [
    {
     "data": {
      "text/plain": [
       "Parent Education Level\n",
       "Bachelor        5674\n",
       "Associate       5639\n",
       "Doctorate       5630\n",
       "High School     5602\n",
       "Master          5478\n",
       "Under_Middle    1454\n",
       "Name: count, dtype: int64"
      ]
     },
     "execution_count": 39,
     "metadata": {},
     "output_type": "execute_result"
    }
   ],
   "source": [
    "studentDF['Parent Education Level'].value_counts()"
   ]
  },
  {
   "cell_type": "code",
   "execution_count": 40,
   "metadata": {},
   "outputs": [
    {
     "data": {
      "text/plain": [
       "Participation in Extracurricular Activities\n",
       "No     15479\n",
       "Yes    13998\n",
       "Name: count, dtype: int64"
      ]
     },
     "execution_count": 40,
     "metadata": {},
     "output_type": "execute_result"
    }
   ],
   "source": [
    "studentDF['Participation in Extracurricular Activities'].value_counts()"
   ]
  },
  {
   "cell_type": "markdown",
   "metadata": {},
   "source": [
    "### 데이터 분석 (KNN)\n"
   ]
  },
  {
   "cell_type": "markdown",
   "metadata": {},
   "source": [
    "* 인코딩"
   ]
  },
  {
   "cell_type": "code",
   "execution_count": 41,
   "metadata": {},
   "outputs": [
    {
     "name": "stderr",
     "output_type": "stream",
     "text": [
      "C:\\Users\\KDP-14\\AppData\\Local\\Temp\\ipykernel_14356\\1515439228.py:2: SettingWithCopyWarning: \n",
      "A value is trying to be set on a copy of a slice from a DataFrame.\n",
      "Try using .loc[row_indexer,col_indexer] = value instead\n",
      "\n",
      "See the caveats in the documentation: https://pandas.pydata.org/pandas-docs/stable/user_guide/indexing.html#returning-a-view-versus-a-copy\n",
      "  studentDF['Parent Education Level']=studentDF['Parent Education Level'].replace({'Under_Middle':0,\n"
     ]
    },
    {
     "data": {
      "text/plain": [
       "Parent Education Level\n",
       "3    5674\n",
       "2    5639\n",
       "5    5630\n",
       "1    5602\n",
       "4    5478\n",
       "0    1454\n",
       "Name: count, dtype: int64"
      ]
     },
     "execution_count": 41,
     "metadata": {},
     "output_type": "execute_result"
    }
   ],
   "source": [
    "# Parent Education Level 인코딩\n",
    "studentDF['Parent Education Level']=studentDF['Parent Education Level'].replace({'Under_Middle':0,\n",
    "                                             'High School':1,\n",
    "                                             'Associate':2,\n",
    "                                             'Bachelor':3,\n",
    "                                             'Master':4,\n",
    "                                             'Doctorate':5})\n",
    "studentDF['Parent Education Level'].value_counts()"
   ]
  },
  {
   "cell_type": "code",
   "execution_count": 42,
   "metadata": {},
   "outputs": [
    {
     "name": "stderr",
     "output_type": "stream",
     "text": [
      "C:\\Users\\KDP-14\\AppData\\Local\\Temp\\ipykernel_14356\\3488316061.py:2: SettingWithCopyWarning: \n",
      "A value is trying to be set on a copy of a slice from a DataFrame.\n",
      "Try using .loc[row_indexer,col_indexer] = value instead\n",
      "\n",
      "See the caveats in the documentation: https://pandas.pydata.org/pandas-docs/stable/user_guide/indexing.html#returning-a-view-versus-a-copy\n",
      "  studentDF['Participation in Extracurricular Activities']=studentDF['Participation in Extracurricular Activities'].replace({'No':0,'Yes':1})\n"
     ]
    },
    {
     "data": {
      "text/plain": [
       "Participation in Extracurricular Activities\n",
       "0    15479\n",
       "1    13998\n",
       "Name: count, dtype: int64"
      ]
     },
     "execution_count": 42,
     "metadata": {},
     "output_type": "execute_result"
    }
   ],
   "source": [
    "# Participation in Extracurricular Activities 인코딩\n",
    "studentDF['Participation in Extracurricular Activities']=studentDF['Participation in Extracurricular Activities'].replace({'No':0,'Yes':1})\n",
    "studentDF['Participation in Extracurricular Activities'].value_counts()"
   ]
  },
  {
   "cell_type": "code",
   "execution_count": 43,
   "metadata": {},
   "outputs": [
    {
     "data": {
      "text/html": [
       "<div>\n",
       "<style scoped>\n",
       "    .dataframe tbody tr th:only-of-type {\n",
       "        vertical-align: middle;\n",
       "    }\n",
       "\n",
       "    .dataframe tbody tr th {\n",
       "        vertical-align: top;\n",
       "    }\n",
       "\n",
       "    .dataframe thead th {\n",
       "        text-align: right;\n",
       "    }\n",
       "</style>\n",
       "<table border=\"1\" class=\"dataframe\">\n",
       "  <thead>\n",
       "    <tr style=\"text-align: right;\">\n",
       "      <th></th>\n",
       "      <th>Study Hours per Week</th>\n",
       "      <th>Attendance Rate</th>\n",
       "      <th>Previous Grades</th>\n",
       "      <th>Participation in Extracurricular Activities</th>\n",
       "      <th>Parent Education Level</th>\n",
       "    </tr>\n",
       "  </thead>\n",
       "  <tbody>\n",
       "    <tr>\n",
       "      <th>1</th>\n",
       "      <td>9.3</td>\n",
       "      <td>95.3</td>\n",
       "      <td>60.6</td>\n",
       "      <td>0</td>\n",
       "      <td>1</td>\n",
       "    </tr>\n",
       "    <tr>\n",
       "      <th>3</th>\n",
       "      <td>17.6</td>\n",
       "      <td>76.8</td>\n",
       "      <td>62.4</td>\n",
       "      <td>1</td>\n",
       "      <td>3</td>\n",
       "    </tr>\n",
       "    <tr>\n",
       "      <th>4</th>\n",
       "      <td>8.8</td>\n",
       "      <td>89.3</td>\n",
       "      <td>72.7</td>\n",
       "      <td>0</td>\n",
       "      <td>4</td>\n",
       "    </tr>\n",
       "    <tr>\n",
       "      <th>5</th>\n",
       "      <td>8.8</td>\n",
       "      <td>73.8</td>\n",
       "      <td>69.3</td>\n",
       "      <td>1</td>\n",
       "      <td>1</td>\n",
       "    </tr>\n",
       "    <tr>\n",
       "      <th>6</th>\n",
       "      <td>17.9</td>\n",
       "      <td>38.6</td>\n",
       "      <td>93.6</td>\n",
       "      <td>0</td>\n",
       "      <td>5</td>\n",
       "    </tr>\n",
       "    <tr>\n",
       "      <th>...</th>\n",
       "      <td>...</td>\n",
       "      <td>...</td>\n",
       "      <td>...</td>\n",
       "      <td>...</td>\n",
       "      <td>...</td>\n",
       "    </tr>\n",
       "    <tr>\n",
       "      <th>39994</th>\n",
       "      <td>5.1</td>\n",
       "      <td>92.1</td>\n",
       "      <td>46.1</td>\n",
       "      <td>1</td>\n",
       "      <td>5</td>\n",
       "    </tr>\n",
       "    <tr>\n",
       "      <th>39995</th>\n",
       "      <td>15.6</td>\n",
       "      <td>93.8</td>\n",
       "      <td>51.4</td>\n",
       "      <td>1</td>\n",
       "      <td>4</td>\n",
       "    </tr>\n",
       "    <tr>\n",
       "      <th>39996</th>\n",
       "      <td>11.3</td>\n",
       "      <td>66.4</td>\n",
       "      <td>64.2</td>\n",
       "      <td>0</td>\n",
       "      <td>5</td>\n",
       "    </tr>\n",
       "    <tr>\n",
       "      <th>39997</th>\n",
       "      <td>13.1</td>\n",
       "      <td>65.6</td>\n",
       "      <td>38.1</td>\n",
       "      <td>0</td>\n",
       "      <td>3</td>\n",
       "    </tr>\n",
       "    <tr>\n",
       "      <th>39999</th>\n",
       "      <td>11.8</td>\n",
       "      <td>55.1</td>\n",
       "      <td>68.5</td>\n",
       "      <td>0</td>\n",
       "      <td>3</td>\n",
       "    </tr>\n",
       "  </tbody>\n",
       "</table>\n",
       "<p>29477 rows × 5 columns</p>\n",
       "</div>"
      ],
      "text/plain": [
       "       Study Hours per Week  Attendance Rate  Previous Grades  \\\n",
       "1                       9.3             95.3             60.6   \n",
       "3                      17.6             76.8             62.4   \n",
       "4                       8.8             89.3             72.7   \n",
       "5                       8.8             73.8             69.3   \n",
       "6                      17.9             38.6             93.6   \n",
       "...                     ...              ...              ...   \n",
       "39994                   5.1             92.1             46.1   \n",
       "39995                  15.6             93.8             51.4   \n",
       "39996                  11.3             66.4             64.2   \n",
       "39997                  13.1             65.6             38.1   \n",
       "39999                  11.8             55.1             68.5   \n",
       "\n",
       "       Participation in Extracurricular Activities  Parent Education Level  \n",
       "1                                                0                       1  \n",
       "3                                                1                       3  \n",
       "4                                                0                       4  \n",
       "5                                                1                       1  \n",
       "6                                                0                       5  \n",
       "...                                            ...                     ...  \n",
       "39994                                            1                       5  \n",
       "39995                                            1                       4  \n",
       "39996                                            0                       5  \n",
       "39997                                            0                       3  \n",
       "39999                                            0                       3  \n",
       "\n",
       "[29477 rows x 5 columns]"
      ]
     },
     "execution_count": 43,
     "metadata": {},
     "output_type": "execute_result"
    }
   ],
   "source": [
    "Features = studentDF.iloc[:,1:-1]\n",
    "targetSR = studentDF.iloc[:,-1]\n",
    "Features"
   ]
  },
  {
   "cell_type": "code",
   "execution_count": 44,
   "metadata": {},
   "outputs": [
    {
     "data": {
      "text/plain": [
       "0        0\n",
       "1        0\n",
       "2        0\n",
       "3        1\n",
       "4        1\n",
       "        ..\n",
       "29472    0\n",
       "29473    0\n",
       "29474    1\n",
       "29475    0\n",
       "29476    1\n",
       "Length: 29477, dtype: int32"
      ]
     },
     "execution_count": 44,
     "metadata": {},
     "output_type": "execute_result"
    }
   ],
   "source": [
    "# label 인코딩을 통해 target 인코딩해주기\n",
    "from sklearn.preprocessing import LabelEncoder\n",
    "le = LabelEncoder()\n",
    "le = le.fit(targetSR)\n",
    "lable_encoded = le.transform(targetSR)\n",
    "targetSR= pd.Series(lable_encoded)\n",
    "targetSR"
   ]
  },
  {
   "cell_type": "markdown",
   "metadata": {},
   "source": [
    "- 수치형 변수 scaling"
   ]
  },
  {
   "cell_type": "code",
   "execution_count": 45,
   "metadata": {},
   "outputs": [],
   "source": [
    "X_train,X_test,y_train,y_test = train_test_split(Features,\n",
    "                                                 targetSR,\n",
    "                                                 stratify=targetSR,\n",
    "                                                 random_state=777)"
   ]
  },
  {
   "cell_type": "code",
   "execution_count": 46,
   "metadata": {},
   "outputs": [
    {
     "name": "stdout",
     "output_type": "stream",
     "text": [
      "X_train : (22107, 5),2D\n",
      "y_train : (22107,),1D\n",
      "X_test : (7370, 5),2D\n",
      "y_test : (7370,),1D\n"
     ]
    }
   ],
   "source": [
    "print(f'X_train : {X_train.shape},{X_train.ndim}D')\n",
    "print(f'y_train : {y_train.shape},{y_train.ndim}D')\n",
    "\n",
    "print(f'X_test : {X_test.shape},{X_test.ndim}D')\n",
    "print(f'y_test : {y_test.shape},{y_test.ndim}D')"
   ]
  },
  {
   "cell_type": "code",
   "execution_count": 47,
   "metadata": {},
   "outputs": [],
   "source": [
    "# 모델 인스턴스 만들기\n",
    "mmScaler = MinMaxScaler()"
   ]
  },
  {
   "cell_type": "code",
   "execution_count": 48,
   "metadata": {},
   "outputs": [],
   "source": [
    "# 모델 학습\n",
    "mmScaler = mmScaler.fit(X_train)"
   ]
  },
  {
   "cell_type": "code",
   "execution_count": 49,
   "metadata": {},
   "outputs": [
    {
     "data": {
      "text/plain": [
       "['Pre_result_mmScaler.pkl']"
      ]
     },
     "execution_count": 49,
     "metadata": {},
     "output_type": "execute_result"
    }
   ],
   "source": [
    "## joblib 이용한 스케일러 저장\n",
    "import joblib\n",
    "file_name = 'Pre_result_mmScaler.pkl'\n",
    "joblib.dump(mmScaler,file_name)"
   ]
  },
  {
   "cell_type": "code",
   "execution_count": null,
   "metadata": {},
   "outputs": [],
   "source": []
  },
  {
   "cell_type": "code",
   "execution_count": 50,
   "metadata": {},
   "outputs": [],
   "source": [
    "# 학습용, 테스트용 데이터셋 스케일링 진행\n",
    "X_train_scaled = mmScaler.transform(X_train)\n",
    "X_test_scaled = mmScaler.transform(X_test)"
   ]
  },
  {
   "cell_type": "markdown",
   "metadata": {},
   "source": [
    "### 모델 만들기"
   ]
  },
  {
   "cell_type": "code",
   "execution_count": 51,
   "metadata": {},
   "outputs": [
    {
     "data": {
      "text/html": [
       "<style>#sk-container-id-2 {color: black;}#sk-container-id-2 pre{padding: 0;}#sk-container-id-2 div.sk-toggleable {background-color: white;}#sk-container-id-2 label.sk-toggleable__label {cursor: pointer;display: block;width: 100%;margin-bottom: 0;padding: 0.3em;box-sizing: border-box;text-align: center;}#sk-container-id-2 label.sk-toggleable__label-arrow:before {content: \"▸\";float: left;margin-right: 0.25em;color: #696969;}#sk-container-id-2 label.sk-toggleable__label-arrow:hover:before {color: black;}#sk-container-id-2 div.sk-estimator:hover label.sk-toggleable__label-arrow:before {color: black;}#sk-container-id-2 div.sk-toggleable__content {max-height: 0;max-width: 0;overflow: hidden;text-align: left;background-color: #f0f8ff;}#sk-container-id-2 div.sk-toggleable__content pre {margin: 0.2em;color: black;border-radius: 0.25em;background-color: #f0f8ff;}#sk-container-id-2 input.sk-toggleable__control:checked~div.sk-toggleable__content {max-height: 200px;max-width: 100%;overflow: auto;}#sk-container-id-2 input.sk-toggleable__control:checked~label.sk-toggleable__label-arrow:before {content: \"▾\";}#sk-container-id-2 div.sk-estimator input.sk-toggleable__control:checked~label.sk-toggleable__label {background-color: #d4ebff;}#sk-container-id-2 div.sk-label input.sk-toggleable__control:checked~label.sk-toggleable__label {background-color: #d4ebff;}#sk-container-id-2 input.sk-hidden--visually {border: 0;clip: rect(1px 1px 1px 1px);clip: rect(1px, 1px, 1px, 1px);height: 1px;margin: -1px;overflow: hidden;padding: 0;position: absolute;width: 1px;}#sk-container-id-2 div.sk-estimator {font-family: monospace;background-color: #f0f8ff;border: 1px dotted black;border-radius: 0.25em;box-sizing: border-box;margin-bottom: 0.5em;}#sk-container-id-2 div.sk-estimator:hover {background-color: #d4ebff;}#sk-container-id-2 div.sk-parallel-item::after {content: \"\";width: 100%;border-bottom: 1px solid gray;flex-grow: 1;}#sk-container-id-2 div.sk-label:hover label.sk-toggleable__label {background-color: #d4ebff;}#sk-container-id-2 div.sk-serial::before {content: \"\";position: absolute;border-left: 1px solid gray;box-sizing: border-box;top: 0;bottom: 0;left: 50%;z-index: 0;}#sk-container-id-2 div.sk-serial {display: flex;flex-direction: column;align-items: center;background-color: white;padding-right: 0.2em;padding-left: 0.2em;position: relative;}#sk-container-id-2 div.sk-item {position: relative;z-index: 1;}#sk-container-id-2 div.sk-parallel {display: flex;align-items: stretch;justify-content: center;background-color: white;position: relative;}#sk-container-id-2 div.sk-item::before, #sk-container-id-2 div.sk-parallel-item::before {content: \"\";position: absolute;border-left: 1px solid gray;box-sizing: border-box;top: 0;bottom: 0;left: 50%;z-index: -1;}#sk-container-id-2 div.sk-parallel-item {display: flex;flex-direction: column;z-index: 1;position: relative;background-color: white;}#sk-container-id-2 div.sk-parallel-item:first-child::after {align-self: flex-end;width: 50%;}#sk-container-id-2 div.sk-parallel-item:last-child::after {align-self: flex-start;width: 50%;}#sk-container-id-2 div.sk-parallel-item:only-child::after {width: 0;}#sk-container-id-2 div.sk-dashed-wrapped {border: 1px dashed gray;margin: 0 0.4em 0.5em 0.4em;box-sizing: border-box;padding-bottom: 0.4em;background-color: white;}#sk-container-id-2 div.sk-label label {font-family: monospace;font-weight: bold;display: inline-block;line-height: 1.2em;}#sk-container-id-2 div.sk-label-container {text-align: center;}#sk-container-id-2 div.sk-container {/* jupyter's `normalize.less` sets `[hidden] { display: none; }` but bootstrap.min.css set `[hidden] { display: none !important; }` so we also need the `!important` here to be able to override the default hidden behavior on the sphinx rendered scikit-learn.org. See: https://github.com/scikit-learn/scikit-learn/issues/21755 */display: inline-block !important;position: relative;}#sk-container-id-2 div.sk-text-repr-fallback {display: none;}</style><div id=\"sk-container-id-2\" class=\"sk-top-container\"><div class=\"sk-text-repr-fallback\"><pre>KNeighborsClassifier()</pre><b>In a Jupyter environment, please rerun this cell to show the HTML representation or trust the notebook. <br />On GitHub, the HTML representation is unable to render, please try loading this page with nbviewer.org.</b></div><div class=\"sk-container\" hidden><div class=\"sk-item\"><div class=\"sk-estimator sk-toggleable\"><input class=\"sk-toggleable__control sk-hidden--visually\" id=\"sk-estimator-id-2\" type=\"checkbox\" checked><label for=\"sk-estimator-id-2\" class=\"sk-toggleable__label sk-toggleable__label-arrow\">KNeighborsClassifier</label><div class=\"sk-toggleable__content\"><pre>KNeighborsClassifier()</pre></div></div></div></div></div>"
      ],
      "text/plain": [
       "KNeighborsClassifier()"
      ]
     },
     "execution_count": 51,
     "metadata": {},
     "output_type": "execute_result"
    }
   ],
   "source": [
    "from sklearn.neighbors import KNeighborsClassifier\n",
    "neigh = KNeighborsClassifier(n_neighbors=5)\n",
    "neigh.fit(X_train_scaled,y_train)"
   ]
  },
  {
   "cell_type": "code",
   "execution_count": 52,
   "metadata": {},
   "outputs": [
    {
     "data": {
      "text/plain": [
       "0.5059701492537313"
      ]
     },
     "execution_count": 52,
     "metadata": {},
     "output_type": "execute_result"
    }
   ],
   "source": [
    "neigh.score(X_test_scaled,y_test)"
   ]
  },
  {
   "cell_type": "markdown",
   "metadata": {},
   "source": [
    "[6] 최적의 K개수 찾기 ==> 모델의 성능 영향 미치는 파라미터\n",
    "- 하이퍼 파라미터"
   ]
  },
  {
   "cell_type": "code",
   "execution_count": 53,
   "metadata": {},
   "outputs": [],
   "source": [
    "# # K의 범위 : 1 ~ 전체 데이터 개수\n",
    "\n",
    "# scores, points = [], []\n",
    "# for k in range(1,200):\n",
    "#     # 최근접 이웃 데이터 수 설정\n",
    "#     neigh.n_neighbors = k\n",
    "\n",
    "#     # 모델 예측 값 추정\n",
    "#     neigh.fit(X_train_scaled, y_train)\n",
    "#     # 이 부분은 생략해도 상관없음. 데이터 셋이 많으면 시간만 걸리는 부분\n",
    "\n",
    "#     # 점수 계산 및 저장\n",
    "#     jumsu = neigh.score(X_test_scaled,y_test)\n",
    "#     # print(f'[{k}] jumsu => {jumsu}')\n",
    "\n",
    "#     if k>1:\n",
    "#         if jumsu != scores[-1]: points.append(k)\n",
    "#     scores.append(jumsu)\n"
   ]
  },
  {
   "cell_type": "code",
   "execution_count": 54,
   "metadata": {},
   "outputs": [],
   "source": [
    "# points"
   ]
  },
  {
   "cell_type": "code",
   "execution_count": 55,
   "metadata": {},
   "outputs": [],
   "source": [
    "# # X축 k, y축 점수\n",
    "# plt.plot(range(1,200),scores)\n",
    "# plt.xlabel('K')\n",
    "# plt.ylabel('scores')\n",
    "# #plt.axvline(points[0]-1,0.0,1.0,color='r',linestyle='dashed')\n",
    "# #              |\n",
    "# #          값이 떨어지는 부분 찾음.\n",
    "# plt.show()"
   ]
  },
  {
   "cell_type": "code",
   "execution_count": 56,
   "metadata": {},
   "outputs": [],
   "source": [
    "from sklearn.metrics import confusion_matrix"
   ]
  },
  {
   "cell_type": "code",
   "execution_count": 57,
   "metadata": {},
   "outputs": [],
   "source": [
    "y_true = y_test"
   ]
  },
  {
   "cell_type": "code",
   "execution_count": 58,
   "metadata": {},
   "outputs": [],
   "source": [
    "y_test_pre = neigh.predict(X_test_scaled)"
   ]
  },
  {
   "cell_type": "code",
   "execution_count": 59,
   "metadata": {},
   "outputs": [
    {
     "data": {
      "text/plain": [
       "array([[1852, 1849],\n",
       "       [1792, 1877]], dtype=int64)"
      ]
     },
     "execution_count": 59,
     "metadata": {},
     "output_type": "execute_result"
    }
   ],
   "source": [
    "# confusion_matrix\n",
    "con_met = confusion_matrix(y_true,y_test_pre)\n",
    "con_met"
   ]
  },
  {
   "cell_type": "code",
   "execution_count": 60,
   "metadata": {},
   "outputs": [
    {
     "data": {
      "image/png": "[encoded data removed]",
      "text/plain": [
       "<Figure size 640x480 with 2 Axes>"
      ]
     },
     "metadata": {},
     "output_type": "display_data"
    }
   ],
   "source": [
    "from sklearn.metrics import ConfusionMatrixDisplay\n",
    "Confusion = ConfusionMatrixDisplay(confusion_matrix=con_met,\n",
    "                       display_labels=neigh.classes_)\n",
    "Confusion.plot()\n",
    "plt.show()"
   ]
  },
  {
   "cell_type": "code",
   "execution_count": 61,
   "metadata": {},
   "outputs": [
    {
     "data": {
      "text/plain": [
       "(array([0, 1]), 22107)"
      ]
     },
     "execution_count": 61,
     "metadata": {},
     "output_type": "execute_result"
    }
   ],
   "source": [
    "neigh.classes_,  neigh.n_samples_fit_"
   ]
  },
  {
   "cell_type": "code",
   "execution_count": 62,
   "metadata": {},
   "outputs": [],
   "source": [
    "from sklearn.model_selection import GridSearchCV"
   ]
  },
  {
   "cell_type": "markdown",
   "metadata": {},
   "source": [
    "#### KNN 하이퍼파라미터 건드리기"
   ]
  },
  {
   "cell_type": "code",
   "execution_count": 63,
   "metadata": {},
   "outputs": [],
   "source": [
    "grid_params = {\n",
    "    'n_neighbors' : list(range(1,100)),\n",
    "    'weights' : [\"uniform\", \"distance\"],\n",
    "    'metric' : ['euclidean', 'manhattan', 'minkowski']\n",
    "}"
   ]
  },
  {
   "cell_type": "code",
   "execution_count": 64,
   "metadata": {},
   "outputs": [],
   "source": [
    "# gs = GridSearchCV(neigh, grid_params, cv=10)\n",
    "# gs.fit(X_train_scaled, y_train)\n",
    "# print(\"Best Parameters : \", gs.best_params_)\n",
    "# print(\"Best Score : \", gs.best_score_)\n",
    "# print(\"Best Test Score : \", gs.score(X_test_scaled, y_test))"
   ]
  },
  {
   "cell_type": "code",
   "execution_count": 65,
   "metadata": {},
   "outputs": [
    {
     "data": {
      "text/html": [
       "<style>#sk-container-id-3 {color: black;}#sk-container-id-3 pre{padding: 0;}#sk-container-id-3 div.sk-toggleable {background-color: white;}#sk-container-id-3 label.sk-toggleable__label {cursor: pointer;display: block;width: 100%;margin-bottom: 0;padding: 0.3em;box-sizing: border-box;text-align: center;}#sk-container-id-3 label.sk-toggleable__label-arrow:before {content: \"▸\";float: left;margin-right: 0.25em;color: #696969;}#sk-container-id-3 label.sk-toggleable__label-arrow:hover:before {color: black;}#sk-container-id-3 div.sk-estimator:hover label.sk-toggleable__label-arrow:before {color: black;}#sk-container-id-3 div.sk-toggleable__content {max-height: 0;max-width: 0;overflow: hidden;text-align: left;background-color: #f0f8ff;}#sk-container-id-3 div.sk-toggleable__content pre {margin: 0.2em;color: black;border-radius: 0.25em;background-color: #f0f8ff;}#sk-container-id-3 input.sk-toggleable__control:checked~div.sk-toggleable__content {max-height: 200px;max-width: 100%;overflow: auto;}#sk-container-id-3 input.sk-toggleable__control:checked~label.sk-toggleable__label-arrow:before {content: \"▾\";}#sk-container-id-3 div.sk-estimator input.sk-toggleable__control:checked~label.sk-toggleable__label {background-color: #d4ebff;}#sk-container-id-3 div.sk-label input.sk-toggleable__control:checked~label.sk-toggleable__label {background-color: #d4ebff;}#sk-container-id-3 input.sk-hidden--visually {border: 0;clip: rect(1px 1px 1px 1px);clip: rect(1px, 1px, 1px, 1px);height: 1px;margin: -1px;overflow: hidden;padding: 0;position: absolute;width: 1px;}#sk-container-id-3 div.sk-estimator {font-family: monospace;background-color: #f0f8ff;border: 1px dotted black;border-radius: 0.25em;box-sizing: border-box;margin-bottom: 0.5em;}#sk-container-id-3 div.sk-estimator:hover {background-color: #d4ebff;}#sk-container-id-3 div.sk-parallel-item::after {content: \"\";width: 100%;border-bottom: 1px solid gray;flex-grow: 1;}#sk-container-id-3 div.sk-label:hover label.sk-toggleable__label {background-color: #d4ebff;}#sk-container-id-3 div.sk-serial::before {content: \"\";position: absolute;border-left: 1px solid gray;box-sizing: border-box;top: 0;bottom: 0;left: 50%;z-index: 0;}#sk-container-id-3 div.sk-serial {display: flex;flex-direction: column;align-items: center;background-color: white;padding-right: 0.2em;padding-left: 0.2em;position: relative;}#sk-container-id-3 div.sk-item {position: relative;z-index: 1;}#sk-container-id-3 div.sk-parallel {display: flex;align-items: stretch;justify-content: center;background-color: white;position: relative;}#sk-container-id-3 div.sk-item::before, #sk-container-id-3 div.sk-parallel-item::before {content: \"\";position: absolute;border-left: 1px solid gray;box-sizing: border-box;top: 0;bottom: 0;left: 50%;z-index: -1;}#sk-container-id-3 div.sk-parallel-item {display: flex;flex-direction: column;z-index: 1;position: relative;background-color: white;}#sk-container-id-3 div.sk-parallel-item:first-child::after {align-self: flex-end;width: 50%;}#sk-container-id-3 div.sk-parallel-item:last-child::after {align-self: flex-start;width: 50%;}#sk-container-id-3 div.sk-parallel-item:only-child::after {width: 0;}#sk-container-id-3 div.sk-dashed-wrapped {border: 1px dashed gray;margin: 0 0.4em 0.5em 0.4em;box-sizing: border-box;padding-bottom: 0.4em;background-color: white;}#sk-container-id-3 div.sk-label label {font-family: monospace;font-weight: bold;display: inline-block;line-height: 1.2em;}#sk-container-id-3 div.sk-label-container {text-align: center;}#sk-container-id-3 div.sk-container {/* jupyter's `normalize.less` sets `[hidden] { display: none; }` but bootstrap.min.css set `[hidden] { display: none !important; }` so we also need the `!important` here to be able to override the default hidden behavior on the sphinx rendered scikit-learn.org. See: https://github.com/scikit-learn/scikit-learn/issues/21755 */display: inline-block !important;position: relative;}#sk-container-id-3 div.sk-text-repr-fallback {display: none;}</style><div id=\"sk-container-id-3\" class=\"sk-top-container\"><div class=\"sk-text-repr-fallback\"><pre>KNeighborsClassifier(metric=&#x27;euclidean&#x27;, n_neighbors=73)</pre><b>In a Jupyter environment, please rerun this cell to show the HTML representation or trust the notebook. <br />On GitHub, the HTML representation is unable to render, please try loading this page with nbviewer.org.</b></div><div class=\"sk-container\" hidden><div class=\"sk-item\"><div class=\"sk-estimator sk-toggleable\"><input class=\"sk-toggleable__control sk-hidden--visually\" id=\"sk-estimator-id-3\" type=\"checkbox\" checked><label for=\"sk-estimator-id-3\" class=\"sk-toggleable__label sk-toggleable__label-arrow\">KNeighborsClassifier</label><div class=\"sk-toggleable__content\"><pre>KNeighborsClassifier(metric=&#x27;euclidean&#x27;, n_neighbors=73)</pre></div></div></div></div></div>"
      ],
      "text/plain": [
       "KNeighborsClassifier(metric='euclidean', n_neighbors=73)"
      ]
     },
     "execution_count": 65,
     "metadata": {},
     "output_type": "execute_result"
    }
   ],
   "source": [
    "best_model = KNeighborsClassifier(n_neighbors=73,metric= 'euclidean',weights ='uniform')\n",
    "best_model.fit(X_train_scaled,y_train)"
   ]
  },
  {
   "cell_type": "code",
   "execution_count": 66,
   "metadata": {},
   "outputs": [
    {
     "data": {
      "text/plain": [
       "0.5112618724559023"
      ]
     },
     "execution_count": 66,
     "metadata": {},
     "output_type": "execute_result"
    }
   ],
   "source": [
    "best_model.score(X_test_scaled,y_test)"
   ]
  },
  {
   "cell_type": "code",
   "execution_count": 67,
   "metadata": {},
   "outputs": [],
   "source": [
    "y_test_pre = best_model.predict(X_test_scaled)"
   ]
  },
  {
   "cell_type": "code",
   "execution_count": 68,
   "metadata": {},
   "outputs": [
    {
     "data": {
      "text/plain": [
       "array([[1915, 1786],\n",
       "       [1816, 1853]], dtype=int64)"
      ]
     },
     "execution_count": 68,
     "metadata": {},
     "output_type": "execute_result"
    }
   ],
   "source": [
    "# confusion_matrix\n",
    "con_met = confusion_matrix(y_true,y_test_pre)\n",
    "con_met"
   ]
  },
  {
   "cell_type": "code",
   "execution_count": 69,
   "metadata": {},
   "outputs": [
    {
     "data": {
      "image/png": "[encoded data removed]",
      "text/plain": [
       "<Figure size 640x480 with 2 Axes>"
      ]
     },
     "metadata": {},
     "output_type": "display_data"
    }
   ],
   "source": [
    "from sklearn.metrics import ConfusionMatrixDisplay\n",
    "Confusion = ConfusionMatrixDisplay(confusion_matrix=con_met,\n",
    "                       display_labels=best_model.classes_)\n",
    "Confusion.plot()\n",
    "plt.show()"
   ]
  },
  {
   "cell_type": "code",
   "execution_count": 70,
   "metadata": {},
   "outputs": [
    {
     "data": {
      "text/plain": [
       "['mmScaler.joblib']"
      ]
     },
     "execution_count": 70,
     "metadata": {},
     "output_type": "execute_result"
    }
   ],
   "source": [
    "import joblib\n",
    "# 모델 저장\n",
    "joblib.dump(best_model,'best_model.joblib')\n",
    "# 스케일러 저장\n",
    "joblib.dump(mmScaler,'mmScaler.joblib')\n"
   ]
  },
  {
   "cell_type": "code",
   "execution_count": 71,
   "metadata": {},
   "outputs": [],
   "source": [
    "loaded_model = joblib.load('best_model.joblib')\n",
    "loaded_scaler = joblib.load('mmScaler.joblib')"
   ]
  },
  {
   "cell_type": "code",
   "execution_count": 74,
   "metadata": {},
   "outputs": [],
   "source": [
    "sc= loaded_scaler"
   ]
  },
  {
   "cell_type": "code",
   "execution_count": 75,
   "metadata": {},
   "outputs": [
    {
     "data": {
      "text/html": [
       "<style>#sk-container-id-5 {color: black;}#sk-container-id-5 pre{padding: 0;}#sk-container-id-5 div.sk-toggleable {background-color: white;}#sk-container-id-5 label.sk-toggleable__label {cursor: pointer;display: block;width: 100%;margin-bottom: 0;padding: 0.3em;box-sizing: border-box;text-align: center;}#sk-container-id-5 label.sk-toggleable__label-arrow:before {content: \"▸\";float: left;margin-right: 0.25em;color: #696969;}#sk-container-id-5 label.sk-toggleable__label-arrow:hover:before {color: black;}#sk-container-id-5 div.sk-estimator:hover label.sk-toggleable__label-arrow:before {color: black;}#sk-container-id-5 div.sk-toggleable__content {max-height: 0;max-width: 0;overflow: hidden;text-align: left;background-color: #f0f8ff;}#sk-container-id-5 div.sk-toggleable__content pre {margin: 0.2em;color: black;border-radius: 0.25em;background-color: #f0f8ff;}#sk-container-id-5 input.sk-toggleable__control:checked~div.sk-toggleable__content {max-height: 200px;max-width: 100%;overflow: auto;}#sk-container-id-5 input.sk-toggleable__control:checked~label.sk-toggleable__label-arrow:before {content: \"▾\";}#sk-container-id-5 div.sk-estimator input.sk-toggleable__control:checked~label.sk-toggleable__label {background-color: #d4ebff;}#sk-container-id-5 div.sk-label input.sk-toggleable__control:checked~label.sk-toggleable__label {background-color: #d4ebff;}#sk-container-id-5 input.sk-hidden--visually {border: 0;clip: rect(1px 1px 1px 1px);clip: rect(1px, 1px, 1px, 1px);height: 1px;margin: -1px;overflow: hidden;padding: 0;position: absolute;width: 1px;}#sk-container-id-5 div.sk-estimator {font-family: monospace;background-color: #f0f8ff;border: 1px dotted black;border-radius: 0.25em;box-sizing: border-box;margin-bottom: 0.5em;}#sk-container-id-5 div.sk-estimator:hover {background-color: #d4ebff;}#sk-container-id-5 div.sk-parallel-item::after {content: \"\";width: 100%;border-bottom: 1px solid gray;flex-grow: 1;}#sk-container-id-5 div.sk-label:hover label.sk-toggleable__label {background-color: #d4ebff;}#sk-container-id-5 div.sk-serial::before {content: \"\";position: absolute;border-left: 1px solid gray;box-sizing: border-box;top: 0;bottom: 0;left: 50%;z-index: 0;}#sk-container-id-5 div.sk-serial {display: flex;flex-direction: column;align-items: center;background-color: white;padding-right: 0.2em;padding-left: 0.2em;position: relative;}#sk-container-id-5 div.sk-item {position: relative;z-index: 1;}#sk-container-id-5 div.sk-parallel {display: flex;align-items: stretch;justify-content: center;background-color: white;position: relative;}#sk-container-id-5 div.sk-item::before, #sk-container-id-5 div.sk-parallel-item::before {content: \"\";position: absolute;border-left: 1px solid gray;box-sizing: border-box;top: 0;bottom: 0;left: 50%;z-index: -1;}#sk-container-id-5 div.sk-parallel-item {display: flex;flex-direction: column;z-index: 1;position: relative;background-color: white;}#sk-container-id-5 div.sk-parallel-item:first-child::after {align-self: flex-end;width: 50%;}#sk-container-id-5 div.sk-parallel-item:last-child::after {align-self: flex-start;width: 50%;}#sk-container-id-5 div.sk-parallel-item:only-child::after {width: 0;}#sk-container-id-5 div.sk-dashed-wrapped {border: 1px dashed gray;margin: 0 0.4em 0.5em 0.4em;box-sizing: border-box;padding-bottom: 0.4em;background-color: white;}#sk-container-id-5 div.sk-label label {font-family: monospace;font-weight: bold;display: inline-block;line-height: 1.2em;}#sk-container-id-5 div.sk-label-container {text-align: center;}#sk-container-id-5 div.sk-container {/* jupyter's `normalize.less` sets `[hidden] { display: none; }` but bootstrap.min.css set `[hidden] { display: none !important; }` so we also need the `!important` here to be able to override the default hidden behavior on the sphinx rendered scikit-learn.org. See: https://github.com/scikit-learn/scikit-learn/issues/21755 */display: inline-block !important;position: relative;}#sk-container-id-5 div.sk-text-repr-fallback {display: none;}</style><div id=\"sk-container-id-5\" class=\"sk-top-container\"><div class=\"sk-text-repr-fallback\"><pre>MinMaxScaler()</pre><b>In a Jupyter environment, please rerun this cell to show the HTML representation or trust the notebook. <br />On GitHub, the HTML representation is unable to render, please try loading this page with nbviewer.org.</b></div><div class=\"sk-container\" hidden><div class=\"sk-item\"><div class=\"sk-estimator sk-toggleable\"><input class=\"sk-toggleable__control sk-hidden--visually\" id=\"sk-estimator-id-5\" type=\"checkbox\" checked><label for=\"sk-estimator-id-5\" class=\"sk-toggleable__label sk-toggleable__label-arrow\">MinMaxScaler</label><div class=\"sk-toggleable__content\"><pre>MinMaxScaler()</pre></div></div></div></div></div>"
      ],
      "text/plain": [
       "MinMaxScaler()"
      ]
     },
     "execution_count": 75,
     "metadata": {},
     "output_type": "execute_result"
    }
   ],
   "source": [
    "sc"
   ]
  }
 ],
 "metadata": {
  "kernelspec": {
   "display_name": "TORCH_38",
   "language": "python",
   "name": "python3"
  },
  "language_info": {
   "codemirror_mode": {
    "name": "ipython",
    "version": 3
   },
   "file_extension": ".py",
   "mimetype": "text/x-python",
   "name": "python",
   "nbconvert_exporter": "python",
   "pygments_lexer": "ipython3",
   "version": "3.8.19"
  }
 },
 "nbformat": 4,
 "nbformat_minor": 2
}
