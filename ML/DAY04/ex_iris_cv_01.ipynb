{
 "cells": [
  {
   "cell_type": "markdown",
   "metadata": {},
   "source": [
    "### Feature Selection\n",
    "\n",
    "- Filtering 방법  \n",
    "=> 타겟/ 종속변수에 관련성이 높은 피쳐/독립변수 선택  \n",
    "=> 상관계수  \n",
    "=> 몇 개? K개 => 점진적으로 늘려가기  \n",
    "\n",
    "- Wrapper 방법  \n",
    "=> Forward 방식 : 기준에 따라 K개 피쳐를 선택 -> 성능평가 -> 피쳐추가  \n",
    "=> Backward 방식 : 모든 피쳐 선택 -> 성능평가 -> 피쳐 제거  \n",
    "=> Step-Wide 방식 : Forward + Backward  \n",
    "\n",
    "- Embedding 방법  \n",
    "=> 모델 내부에 피쳐 선택 기능 포함된 것 -> important Feature, 주성분분석(비지도 학습)  "
   ]
  },
  {
   "cell_type": "markdown",
   "metadata": {},
   "source": [
    "### Tunning\n",
    "\n",
    "- 모델의 성능 높이기  \n",
    "=> scikit-learn에서 모델 인스턴스의 score 메서드  \n",
    "=> 모델을 평가 기준이 되는 성능 지표 => 분류/회귀에 따라 다름  \n",
    "\n",
    "- 모델 성능에 영향을 미치는 매개변수 ==> Hyper-parameter  \n",
    "=> KNN -> K 개수  \n",
    "=> LinearRegression(coef_,intercept_) -> 가중치, 기울기 초기화 값, 규제(릿찌,라쏘...)  \n",
    "=> 학습 알고리즘마다 Hyper-parameter 다름!  \n",
    "\n",
    "- 피쳐 제어  \n",
    "=> 피쳐 개수 조절  \n",
    "=> 피쳐 추출 / 압축  "
   ]
  },
  {
   "cell_type": "markdown",
   "metadata": {},
   "source": [
    "### AutoML\n",
    "- 자동으로 Hyper-parameter 찾아주지만 유료임.."
   ]
  },
  {
   "cell_type": "markdown",
   "metadata": {},
   "source": [
    "### 기계학습\n",
    "- 데이터 기반 -> 규칙/패턴 -> 수식 -> 모델\n",
    "\n",
    "- 미래 예측\n",
    "- 정보 정확 제공\n",
    "\n",
    "- 학습용 DS ==> 학습용 + 테스트용\n",
    "- 테스트용 DS "
   ]
  },
  {
   "cell_type": "markdown",
   "metadata": {},
   "source": [
    "### ML Process\n",
    "1. 데이터 준비 => 데이터 로딩, 데이터 확인(실제 데이터 확인 및 탐색)\n",
    "2. 데이터 전처리  \n",
    "=> 정제(결측치,중복값,이상치,컬럼 고유값....)  \n",
    "=> 피쳐에 대한 처리 (인코딩,스케일링...)\n",
    "=> 피쳐 선택, 가공  \n",
    "=> 피쳐와 타겟(독립변수와 종속변수)\n",
    "3. 학습 준비  \n",
    "=> 데이터 셋(train,validation,test)  \n",
    "=> 데이터 부족 및 일반화 위해서 train,test 데이터 셋 분리  \n",
    "4. 학습 진행  \n",
    "=> 교차 검증으로 학습 진행 : train 데이터 셋 사용  \n",
    "5. 모델 평가  \n",
    "=> test 데이터셋으로 평가\n",
    "=> 평가 기준 : 분류와 회귀가 다름!\n",
    "### 모델의 성능을 높이는 작업 즉, 튜닝 진행\n",
    "- Hyper parameter 제어 : 모델 인스턴스 생성 시 매개변수로 설정  \n",
    "- 새로운 모델로 학습을 진행 => 평가\n"
   ]
  },
  {
   "cell_type": "markdown",
   "metadata": {},
   "source": [
    "##### 붓꽃 품종 분류\n",
    "- 목표 : 붓꽃의 3개 품종을 분류하기\n",
    "- 데이터셋 : 내장 데이터셋\n",
    "- 피쳐 : 4개\n",
    "- 타겟 : 품종 1개\n",
    "- 학습 : 지도학습 > 분류"
   ]
  },
  {
   "cell_type": "markdown",
   "metadata": {},
   "source": [
    "[1] 데이터 준비"
   ]
  },
  {
   "cell_type": "code",
   "execution_count": 780,
   "metadata": {},
   "outputs": [],
   "source": [
    "# 모듈 로딩\n",
    "import pandas as pd\n",
    "import matplotlib.pyplot as plt\n",
    "from sklearn.datasets import load_iris\n",
    "from sklearn.model_selection import train_test_split\n",
    "import numpy as np"
   ]
  },
  {
   "cell_type": "code",
   "execution_count": 781,
   "metadata": {},
   "outputs": [],
   "source": [
    "# 내장 데이터셋 로딩\n",
    "data = load_iris(as_frame=True)"
   ]
  },
  {
   "cell_type": "code",
   "execution_count": 782,
   "metadata": {},
   "outputs": [
    {
     "data": {
      "text/plain": [
       "dict_keys(['data', 'target', 'frame', 'target_names', 'DESCR', 'feature_names', 'filename', 'data_module'])"
      ]
     },
     "execution_count": 782,
     "metadata": {},
     "output_type": "execute_result"
    }
   ],
   "source": [
    "# Bunch 인스턴스 => dict와 유사한 형태\n",
    "data.keys()"
   ]
  },
  {
   "cell_type": "code",
   "execution_count": 783,
   "metadata": {},
   "outputs": [],
   "source": [
    "featureDF = data['data']\n",
    "targetSR = data['target']"
   ]
  },
  {
   "cell_type": "code",
   "execution_count": 784,
   "metadata": {},
   "outputs": [
    {
     "data": {
      "text/plain": [
       "((150, 4), (150,))"
      ]
     },
     "execution_count": 784,
     "metadata": {},
     "output_type": "execute_result"
    }
   ],
   "source": [
    "featureDF.shape, targetSR.shape"
   ]
  },
  {
   "cell_type": "code",
   "execution_count": 785,
   "metadata": {},
   "outputs": [
    {
     "data": {
      "text/plain": [
       "(   sepal length (cm)  sepal width (cm)  petal length (cm)  petal width (cm)\n",
       " 0                5.1               3.5                1.4               0.2,\n",
       " 0    0\n",
       " Name: target, dtype: int32)"
      ]
     },
     "execution_count": 785,
     "metadata": {},
     "output_type": "execute_result"
    }
   ],
   "source": [
    "featureDF.head(1), targetSR.head(1)"
   ]
  },
  {
   "cell_type": "markdown",
   "metadata": {},
   "source": [
    "[2] 학습을 위한 데이터 셋 준비 => 학습용, 검증용, 테스트용"
   ]
  },
  {
   "cell_type": "code",
   "execution_count": 786,
   "metadata": {},
   "outputs": [],
   "source": [
    "# 학습용 & 테스트용 분리\n",
    "X_train, X_test, y_train, y_test = train_test_split(featureDF,\n",
    "                                                    targetSR,\n",
    "                                                    stratify = targetSR\n",
    "                                                    )"
   ]
  },
  {
   "cell_type": "code",
   "execution_count": 787,
   "metadata": {},
   "outputs": [],
   "source": [
    "# 학습용 & 검증용 분리\n",
    "X_train, X_val, y_train, y_val = train_test_split(X_train,\n",
    "                                                    y_train,\n",
    "                                                    stratify = y_train\n",
    "                                                    )"
   ]
  },
  {
   "cell_type": "code",
   "execution_count": 788,
   "metadata": {},
   "outputs": [
    {
     "name": "stdout",
     "output_type": "stream",
     "text": [
      "train DS : 84   0.56%\n",
      "Val DS : 28   0.19%\n",
      "test DS : 38   0.25%\n"
     ]
    }
   ],
   "source": [
    "print(f'train DS : {X_train.shape[0]}   {X_train.shape[0]/featureDF.shape[0]}%')\n",
    "print(f'Val DS : {X_val.shape[0]}   {X_val.shape[0]/featureDF.shape[0]:.2f}%')\n",
    "print(f'test DS : {X_test.shape[0]}   {X_test.shape[0]/featureDF.shape[0]:.2f}%')"
   ]
  },
  {
   "cell_type": "markdown",
   "metadata": {},
   "source": [
    "[3] 교차검증 방식"
   ]
  },
  {
   "cell_type": "code",
   "execution_count": 789,
   "metadata": {},
   "outputs": [],
   "source": [
    "# 모듈 로딩\n",
    "from sklearn.model_selection import KFold, StratifiedKFold\n",
    "from sklearn.tree import DecisionTreeClassifier"
   ]
  },
  {
   "cell_type": "code",
   "execution_count": 790,
   "metadata": {},
   "outputs": [],
   "source": [
    "# 모델 인스턴스 생성\n",
    "dtc_model = DecisionTreeClassifier()\n",
    "\n",
    "# [3-1] Kfold기반-------------------------------\n",
    "# 정확도 저장 리스트\n",
    "accuracys = []\n",
    "\n",
    "# KFold 인스턴스 생성 [기본 k=5]\n",
    "Kfold = KFold()\n"
   ]
  },
  {
   "cell_type": "code",
   "execution_count": 791,
   "metadata": {},
   "outputs": [
    {
     "name": "stdout",
     "output_type": "stream",
     "text": [
      "1번째 Train 정확도 : 1.0 Val 정확도 : 1.0\n",
      "2번째 Train 정확도 : 1.0 Val 정확도 : 0.9666666666666667\n",
      "3번째 Train 정확도 : 1.0 Val 정확도 : 0.8333333333333334\n",
      "4번째 Train 정확도 : 1.0 Val 정확도 : 0.9333333333333333\n",
      "5번째 Train 정확도 : 1.0 Val 정확도 : 0.7666666666666667\n"
     ]
    }
   ],
   "source": [
    "# k번만큼 학습이 진행\n",
    "# -> k등분 후 학습용 데이터셋 인덱스, 검증용 데이터셋 인덱스\n",
    "for idx, (train_index, val_index) in enumerate(Kfold.split(featureDF),1):\n",
    "\n",
    "    #print(f'train_index : {train_index.tolist()}')\n",
    "\n",
    "    # X_train, X_val 데이터셋 설정\n",
    "    X_train,y_train = featureDF.iloc[train_index.tolist()], targetSR[train_index.tolist()]\n",
    "    X_val,y_val = featureDF.iloc[val_index.tolist()], targetSR[val_index.tolist()]\n",
    "\n",
    "    #학습 진행\n",
    "    dtc_model.fit(X_train,y_train)\n",
    "\n",
    "    # 평가 => 분류의 경우 score() 메서드 => 정확도 반환\n",
    "    train_acc = dtc_model.score(X_train,y_train)\n",
    "    val_acc = dtc_model.score(X_val,y_val)\n",
    "\n",
    "    accuracys.append([train_acc,val_acc])\n",
    "    print(f'{idx}번째 Train 정확도 : {train_acc} Val 정확도 : {val_acc}')"
   ]
  },
  {
   "cell_type": "code",
   "execution_count": 792,
   "metadata": {},
   "outputs": [
    {
     "name": "stdout",
     "output_type": "stream",
     "text": [
      "Train 정확도 : 1.0  Val 정확도 : 0.90\n"
     ]
    }
   ],
   "source": [
    "# 평균 계산\n",
    "train_mean = sum([value[0]  for value in accuracys])/Kfold.n_splits # K의 값 하드코딩 말고 이 방법 쓰기\n",
    "test_mean = sum([value[1]  for value in accuracys])/Kfold.n_splits\n",
    "\n",
    "print(f'Train 정확도 : {train_mean}  Val 정확도 : {test_mean:.2f}')"
   ]
  },
  {
   "cell_type": "markdown",
   "metadata": {},
   "source": [
    "[3-2] Straitified Kfold\n",
    "- 정답/레이블/타겟의 비율을 고려해서 데이터를 나눠줌!!!!"
   ]
  },
  {
   "cell_type": "code",
   "execution_count": 793,
   "metadata": {},
   "outputs": [
    {
     "name": "stdout",
     "output_type": "stream",
     "text": [
      "1번째 Train 정확도 : 1.0 Val 정확도 : 0.9666666666666667\n",
      "2번째 Train 정확도 : 1.0 Val 정확도 : 0.9666666666666667\n",
      "3번째 Train 정확도 : 1.0 Val 정확도 : 0.9\n",
      "4번째 Train 정확도 : 1.0 Val 정확도 : 0.9333333333333333\n",
      "5번째 Train 정확도 : 1.0 Val 정확도 : 1.0\n"
     ]
    }
   ],
   "source": [
    "accuracys = []\n",
    "\n",
    "skFold=StratifiedKFold()\n",
    "# k번만큼 학습이 진행\n",
    "# -> k등분 후 학습용 데이터셋 인덱스, 검증용 데이터셋 인덱스\n",
    "for idx, (train_index, val_index) in enumerate(skFold.split(featureDF,targetSR),1):\n",
    "    #                                                              (타겟을 줘야함)\n",
    "\n",
    "    #print(f'train_index : {train_index.tolist()}')\n",
    "\n",
    "    # X_train, X_val 데이터셋 설정\n",
    "    X_train,y_train = featureDF.iloc[train_index.tolist()], targetSR[train_index.tolist()]\n",
    "    X_val,y_val = featureDF.iloc[val_index.tolist()], targetSR[val_index.tolist()]\n",
    "\n",
    "    #학습 진행\n",
    "    dtc_model.fit(X_train,y_train)\n",
    "\n",
    "    # 평가 => 분류의 경우 score() 메서드 => 정확도 반환\n",
    "    train_acc = dtc_model.score(X_train,y_train)\n",
    "    val_acc = dtc_model.score(X_val,y_val)\n",
    "\n",
    "    accuracys.append([train_acc,val_acc])\n",
    "    print(f'{idx}번째 Train 정확도 : {train_acc} Val 정확도 : {val_acc}')"
   ]
  },
  {
   "cell_type": "code",
   "execution_count": 794,
   "metadata": {},
   "outputs": [
    {
     "name": "stdout",
     "output_type": "stream",
     "text": [
      "Train 정확도 : 1.0  Val 정확도 : 0.95\n"
     ]
    }
   ],
   "source": [
    "# 평균 계산\n",
    "train_mean = sum([value[0]  for value in accuracys])/skFold.n_splits # K의 값 하드코딩 말고 이 방법 쓰기\n",
    "test_mean = sum([value[1]  for value in accuracys])/skFold.n_splits\n",
    "\n",
    "print(f'Train 정확도 : {train_mean}  Val 정확도 : {test_mean:.2f}')"
   ]
  },
  {
   "cell_type": "markdown",
   "metadata": {},
   "source": [
    "- 교차검증 및 성능평가 동시 진행 함수  \n",
    "=> cross_val_score, cross_val_predict  \n",
    "=> cross_validate"
   ]
  },
  {
   "cell_type": "code",
   "execution_count": 795,
   "metadata": {},
   "outputs": [],
   "source": [
    "# 모듈 로딩\n",
    "from sklearn.model_selection import cross_val_predict,cross_val_score,cross_validate"
   ]
  },
  {
   "cell_type": "code",
   "execution_count": 796,
   "metadata": {},
   "outputs": [],
   "source": [
    "### [1] 전체 DS ==> 학습용과 테스트용 DS 분리\n",
    "X_train,X_test,y_train,y_test = train_test_split(featureDF,\n",
    "                                                 targetSR,\n",
    "                                                 stratify = targetSR,\n",
    "                                                 random_state=10)"
   ]
  },
  {
   "cell_type": "code",
   "execution_count": 797,
   "metadata": {},
   "outputs": [],
   "source": [
    "### cross_val_predict\n",
    "predict = cross_val_predict(dtc_model,X_train,y_train,cv=3)"
   ]
  },
  {
   "cell_type": "code",
   "execution_count": 798,
   "metadata": {},
   "outputs": [
    {
     "name": "stdout",
     "output_type": "stream",
     "text": [
      "predict : [0 2 1 0 1 1 2 1 1 1 2 0 2 2 1 2 0 2 0 2 0 1 1 1 0 1 0 2 2 2 1 2 0 0 0 1 0\n",
      " 0 0 1 1 2 0 2 1 0 2 1 0 0 2 0 2 0 0 0 1 1 1 0 1 2 1 0 1 1 2 1 2 0 1 2 1 0\n",
      " 2 2 2 1 0 2 2 1 1 2 1 2 1 2 0 0 0 0 0 2 1 2 2 2 0 0 2 0 1 2 2 2 0 1 0 2 0\n",
      " 1]\n"
     ]
    }
   ],
   "source": [
    "print(f'predict : {predict}')"
   ]
  },
  {
   "cell_type": "code",
   "execution_count": 799,
   "metadata": {},
   "outputs": [],
   "source": [
    "### cross_val_predict\n",
    "score = cross_val_score(dtc_model,X_train,y_train)"
   ]
  },
  {
   "cell_type": "code",
   "execution_count": 800,
   "metadata": {},
   "outputs": [
    {
     "name": "stdout",
     "output_type": "stream",
     "text": [
      "score : [0.95652174 0.95652174 1.         0.90909091 0.90909091]\n"
     ]
    }
   ],
   "source": [
    "print(f'score : {score}')"
   ]
  },
  {
   "cell_type": "code",
   "execution_count": 801,
   "metadata": {},
   "outputs": [],
   "source": [
    "### cross_validate\n",
    "result = cross_validate(dtc_model,X_train,y_train)"
   ]
  },
  {
   "cell_type": "code",
   "execution_count": 802,
   "metadata": {},
   "outputs": [
    {
     "data": {
      "text/plain": [
       "{'fit_time': array([0.00199413, 0.00199246, 0.00460505, 0.        , 0.        ]),\n",
       " 'score_time': array([0.00099707, 0.00199246, 0.        , 0.        , 0.        ]),\n",
       " 'test_score': array([0.95652174, 0.95652174, 0.95454545, 0.90909091, 0.90909091])}"
      ]
     },
     "execution_count": 802,
     "metadata": {},
     "output_type": "execute_result"
    }
   ],
   "source": [
    "result\n",
    "# {'fit_time': array([0.00224161, 0.00199413, 0.0019958 , 0.00171423, 0.00100827]),\n",
    "#  'score_time': array([0.00134301, 0.0011766 , 0.00099635, 0.        , 0.00277662]),\n",
    "#  'test_score': array([0.96666667, 0.96666667, 0.9       , 1.        , 1.        ] => valudation score)}"
   ]
  },
  {
   "cell_type": "code",
   "execution_count": 803,
   "metadata": {},
   "outputs": [],
   "source": [
    "result = cross_validate(dtc_model,X_train,y_train,return_train_score=True,return_estimator=True)"
   ]
  },
  {
   "cell_type": "code",
   "execution_count": 804,
   "metadata": {},
   "outputs": [
    {
     "data": {
      "text/html": [
       "<div>\n",
       "<style scoped>\n",
       "    .dataframe tbody tr th:only-of-type {\n",
       "        vertical-align: middle;\n",
       "    }\n",
       "\n",
       "    .dataframe tbody tr th {\n",
       "        vertical-align: top;\n",
       "    }\n",
       "\n",
       "    .dataframe thead th {\n",
       "        text-align: right;\n",
       "    }\n",
       "</style>\n",
       "<table border=\"1\" class=\"dataframe\">\n",
       "  <thead>\n",
       "    <tr style=\"text-align: right;\">\n",
       "      <th></th>\n",
       "      <th>test_score</th>\n",
       "      <th>train_score</th>\n",
       "    </tr>\n",
       "  </thead>\n",
       "  <tbody>\n",
       "    <tr>\n",
       "      <th>0</th>\n",
       "      <td>0.956522</td>\n",
       "      <td>1.0</td>\n",
       "    </tr>\n",
       "    <tr>\n",
       "      <th>1</th>\n",
       "      <td>0.956522</td>\n",
       "      <td>1.0</td>\n",
       "    </tr>\n",
       "    <tr>\n",
       "      <th>2</th>\n",
       "      <td>1.000000</td>\n",
       "      <td>1.0</td>\n",
       "    </tr>\n",
       "    <tr>\n",
       "      <th>3</th>\n",
       "      <td>0.909091</td>\n",
       "      <td>1.0</td>\n",
       "    </tr>\n",
       "    <tr>\n",
       "      <th>4</th>\n",
       "      <td>0.909091</td>\n",
       "      <td>1.0</td>\n",
       "    </tr>\n",
       "  </tbody>\n",
       "</table>\n",
       "</div>"
      ],
      "text/plain": [
       "   test_score  train_score\n",
       "0    0.956522          1.0\n",
       "1    0.956522          1.0\n",
       "2    1.000000          1.0\n",
       "3    0.909091          1.0\n",
       "4    0.909091          1.0"
      ]
     },
     "execution_count": 804,
     "metadata": {},
     "output_type": "execute_result"
    }
   ],
   "source": [
    "resultDF=pd.DataFrame(result).loc[:,['test_score', 'train_score']]\n",
    "resultDF"
   ]
  },
  {
   "cell_type": "markdown",
   "metadata": {},
   "source": [
    "* 최적화된 모델 추출"
   ]
  },
  {
   "cell_type": "code",
   "execution_count": 805,
   "metadata": {},
   "outputs": [],
   "source": [
    "# 반환 받은 모델 확인하기\n",
    "result['estimator']\n",
    "\n",
    "# 4번이 test와 train의 값이 가장 차이가 적게나서 최적의 모델이라고 판단\n",
    "best_model = result['estimator'][0]"
   ]
  },
  {
   "cell_type": "markdown",
   "metadata": {},
   "source": [
    "* 테스트 데이터로 확인"
   ]
  },
  {
   "cell_type": "code",
   "execution_count": 806,
   "metadata": {},
   "outputs": [
    {
     "data": {
      "text/plain": [
       "0.9736842105263158"
      ]
     },
     "execution_count": 806,
     "metadata": {},
     "output_type": "execute_result"
    }
   ],
   "source": [
    "best_model.score(X_test,y_test)"
   ]
  },
  {
   "cell_type": "code",
   "execution_count": null,
   "metadata": {},
   "outputs": [],
   "source": []
  }
 ],
 "metadata": {
  "kernelspec": {
   "display_name": "samban",
   "language": "python",
   "name": "python3"
  },
  "language_info": {
   "codemirror_mode": {
    "name": "ipython",
    "version": 3
   },
   "file_extension": ".py",
   "mimetype": "text/x-python",
   "name": "python",
   "nbconvert_exporter": "python",
   "pygments_lexer": "ipython3",
   "version": "3.9.19"
  }
 },
 "nbformat": 4,
 "nbformat_minor": 2
}
