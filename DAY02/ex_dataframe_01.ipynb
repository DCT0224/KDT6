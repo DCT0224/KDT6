{
 "cells": [
  {
   "cell_type": "markdown",
   "metadata": {},
   "source": [
    "### DataFrame 살펴보기\n",
    "- 판다스에서 데이터를 저장하는 자료형\n",
    "- 구성 : 2차원 데이터를 저장 ( 인덱스 + 열이름 + 데이터 )\n",
    "- 형식 : pandas.DataFrame(2D데이터)"
   ]
  },
  {
   "cell_type": "code",
   "execution_count": 43,
   "metadata": {},
   "outputs": [],
   "source": [
    "# 모듈 로딩\n",
    "import pandas as pd"
   ]
  },
  {
   "cell_type": "code",
   "execution_count": 44,
   "metadata": {},
   "outputs": [],
   "source": [
    "# 데이터 준비\n",
    "jumsu=[[98,89,95],[80,87,91]]"
   ]
  },
  {
   "cell_type": "code",
   "execution_count": 45,
   "metadata": {},
   "outputs": [],
   "source": [
    "# DF(데이터 프레임)으로 데이터 저장하기\n",
    "jumsuDF=pd.DataFrame(jumsu)"
   ]
  },
  {
   "cell_type": "code",
   "execution_count": 46,
   "metadata": {},
   "outputs": [
    {
     "name": "stdout",
     "output_type": "stream",
     "text": [
      "    0   1   2\n",
      "0  98  89  95\n",
      "1  80  87  91\n"
     ]
    }
   ],
   "source": [
    "# DF으로 저장된 데이터 확인\n",
    "print(jumsuDF)"
   ]
  },
  {
   "cell_type": "code",
   "execution_count": 47,
   "metadata": {},
   "outputs": [
    {
     "name": "stdout",
     "output_type": "stream",
     "text": [
      "index : RangeIndex(start=0, stop=2, step=1)\n",
      "columns : RangeIndex(start=0, stop=3, step=1)\n",
      "values : \n",
      "[[98 89 95]\n",
      " [80 87 91]]\n",
      "dtpyes : <class 'pandas.core.series.Series'>\n",
      "0    int64\n",
      "1    int64\n",
      "2    int64\n",
      "dtype: object\n",
      "ndim : 2\n",
      "shape : (2, 3)\n"
     ]
    }
   ],
   "source": [
    "## DF 속성 읽기 ==> 변수명.속성명\n",
    "## - index, colums, valuse, ndim, dtypes\n",
    "print(f'index : {jumsuDF.index}')\n",
    "print(f'columns : {jumsuDF.columns}')\n",
    "print(f'values : \\n{jumsuDF.values}')\n",
    "print(f'dtpyes : {type(jumsuDF.dtypes)}\\n{jumsuDF.dtypes}')\n",
    "print(f'ndim : {jumsuDF.ndim}')\n",
    "print(f'shape : {jumsuDF.shape}')"
   ]
  },
  {
   "cell_type": "code",
   "execution_count": 48,
   "metadata": {},
   "outputs": [
    {
     "name": "stdout",
     "output_type": "stream",
     "text": [
      "    0   1   2\n",
      "0  98  89  95\n",
      "1  80  87  91\n"
     ]
    }
   ],
   "source": [
    "## DF안에 있는 모든 원소를 하나씩 출력하세요\n",
    "print(jumsuDF)"
   ]
  },
  {
   "cell_type": "code",
   "execution_count": 49,
   "metadata": {},
   "outputs": [
    {
     "name": "stdout",
     "output_type": "stream",
     "text": [
      "0 0\n",
      "0 1\n",
      "0 2\n",
      "1 0\n",
      "1 1\n",
      "1 2\n"
     ]
    }
   ],
   "source": [
    "for r in jumsuDF.index:       # range(0,2,1)\n",
    "    for c in jumsuDF.columns: # range(0,3,1)\n",
    "        print(r,c)"
   ]
  },
  {
   "cell_type": "markdown",
   "metadata": {},
   "source": [
    "- DataFrame 생성 시 인덱스 지정"
   ]
  },
  {
   "cell_type": "code",
   "execution_count": 50,
   "metadata": {},
   "outputs": [],
   "source": [
    "index_value=['A','B']\n",
    "column_value=['국어','과학','미술']\n",
    "\n",
    "df2=pd.DataFrame(jumsu, index=index_value,columns=column_value)"
   ]
  },
  {
   "cell_type": "markdown",
   "metadata": {},
   "source": []
  },
  {
   "cell_type": "code",
   "execution_count": 51,
   "metadata": {},
   "outputs": [
    {
     "name": "stdout",
     "output_type": "stream",
     "text": [
      "   국어  과학  미술\n",
      "A  98  89  95\n",
      "B  80  87  91\n"
     ]
    }
   ],
   "source": [
    "# 데이터 저장된 DF 확인\n",
    "print(df2)"
   ]
  },
  {
   "cell_type": "code",
   "execution_count": 52,
   "metadata": {},
   "outputs": [
    {
     "name": "stdout",
     "output_type": "stream",
     "text": [
      "Index(['A', 'B'], dtype='object')\n",
      "<class 'pandas.core.indexes.base.Index'>\n"
     ]
    }
   ],
   "source": [
    "## DF 인덱스 속성 읽기 ==> 변수명.index\n",
    "print(df2.index, type(df2.index),sep='\\n')"
   ]
  },
  {
   "cell_type": "code",
   "execution_count": 53,
   "metadata": {},
   "outputs": [
    {
     "name": "stdout",
     "output_type": "stream",
     "text": [
      "Index(['국어', '과학', '미술'], dtype='object')\n",
      "<class 'pandas.core.indexes.base.Index'>\n"
     ]
    }
   ],
   "source": [
    "## DF 인덱스 속성 읽기 ==> 변수명.columns\n",
    "print(df2.columns, type(df2.columns),sep='\\n')"
   ]
  },
  {
   "cell_type": "markdown",
   "metadata": {},
   "source": [
    "- [속성으로 행 인덱스 변경] : 변수명.index=새로운 인덱스"
   ]
  },
  {
   "cell_type": "code",
   "execution_count": 54,
   "metadata": {},
   "outputs": [],
   "source": [
    "# 0, 1 인덱스 ==> '마징가', '홍길동'\n",
    "df2.index=['마징가','홍길동']"
   ]
  },
  {
   "cell_type": "code",
   "execution_count": 55,
   "metadata": {},
   "outputs": [
    {
     "data": {
      "text/html": [
       "<div>\n",
       "<style scoped>\n",
       "    .dataframe tbody tr th:only-of-type {\n",
       "        vertical-align: middle;\n",
       "    }\n",
       "\n",
       "    .dataframe tbody tr th {\n",
       "        vertical-align: top;\n",
       "    }\n",
       "\n",
       "    .dataframe thead th {\n",
       "        text-align: right;\n",
       "    }\n",
       "</style>\n",
       "<table border=\"1\" class=\"dataframe\">\n",
       "  <thead>\n",
       "    <tr style=\"text-align: right;\">\n",
       "      <th></th>\n",
       "      <th>국어</th>\n",
       "      <th>미술</th>\n",
       "      <th>과학</th>\n",
       "    </tr>\n",
       "  </thead>\n",
       "  <tbody>\n",
       "    <tr>\n",
       "      <th>마징가</th>\n",
       "      <td>98</td>\n",
       "      <td>89</td>\n",
       "      <td>95</td>\n",
       "    </tr>\n",
       "    <tr>\n",
       "      <th>홍길동</th>\n",
       "      <td>80</td>\n",
       "      <td>87</td>\n",
       "      <td>91</td>\n",
       "    </tr>\n",
       "  </tbody>\n",
       "</table>\n",
       "</div>"
      ],
      "text/plain": [
       "     국어  미술  과학\n",
       "마징가  98  89  95\n",
       "홍길동  80  87  91"
      ]
     },
     "execution_count": 55,
     "metadata": {},
     "output_type": "execute_result"
    }
   ],
   "source": [
    "# 컬럼 인덱스 ==> '국어','미술','과학'\n",
    "df2.columns=['국어','미술','과학']\n",
    "df2"
   ]
  },
  {
   "cell_type": "code",
   "execution_count": 56,
   "metadata": {},
   "outputs": [
    {
     "data": {
      "text/plain": [
       "array([[98, 89, 95],\n",
       "       [80, 87, 91]], dtype=int64)"
      ]
     },
     "execution_count": 56,
     "metadata": {},
     "output_type": "execute_result"
    }
   ],
   "source": [
    "# 값을 저장하고 있는 속성 ==> values\n",
    "df2.values"
   ]
  },
  {
   "cell_type": "code",
   "execution_count": 57,
   "metadata": {},
   "outputs": [],
   "source": [
    "# 값/데이터 변경은 속성으로는 불가!!\n",
    "# df2.values=[[89,78,100],[92,90,98]]"
   ]
  },
  {
   "cell_type": "code",
   "execution_count": 58,
   "metadata": {},
   "outputs": [],
   "source": [
    "# 형태 변경은 속성으로는 불가!!\n",
    "# df1.shape=(3,2)"
   ]
  }
 ],
 "metadata": {
  "kernelspec": {
   "display_name": "samban",
   "language": "python",
   "name": "python3"
  },
  "language_info": {
   "codemirror_mode": {
    "name": "ipython",
    "version": 3
   },
   "file_extension": ".py",
   "mimetype": "text/x-python",
   "name": "python",
   "nbconvert_exporter": "python",
   "pygments_lexer": "ipython3",
   "version": "3.9.19"
  }
 },
 "nbformat": 4,
 "nbformat_minor": 2
}
