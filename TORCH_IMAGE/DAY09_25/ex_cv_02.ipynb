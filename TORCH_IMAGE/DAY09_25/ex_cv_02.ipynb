{
 "cells": [
  {
   "cell_type": "markdown",
   "metadata": {},
   "source": [
    "#### Video 처리\n",
    "- cv2.VideoCapture(동영상 또는 카메라번호)함수"
   ]
  },
  {
   "cell_type": "code",
   "execution_count": 9,
   "metadata": {},
   "outputs": [],
   "source": [
    "## 모듈 로딩\n",
    "import cv2\n",
    "import numpy as np"
   ]
  },
  {
   "cell_type": "code",
   "execution_count": 10,
   "metadata": {},
   "outputs": [],
   "source": [
    "## 데이터 및 디바이스 설정\n",
    "DIR_PATH = '../image/'\n",
    "\n",
    "CAM_DEVICE = 0\n",
    "# CAM_FILE = 'mp4' 있으면 주면 됨."
   ]
  },
  {
   "cell_type": "markdown",
   "metadata": {},
   "source": [
    "- [카메라 관련 영상 처리]"
   ]
  },
  {
   "cell_type": "code",
   "execution_count": 20,
   "metadata": {},
   "outputs": [
    {
     "data": {
      "text/plain": [
       "'capture_24.09.25 10.24.53.jpg'"
      ]
     },
     "execution_count": 20,
     "metadata": {},
     "output_type": "execute_result"
    }
   ],
   "source": [
    "import time\n",
    "# print(time.gmtime()) # 클래스 형태로 변수에 담겨져 나옴\n",
    "# time.ctime()\n",
    "# time.time()\n",
    "# time.strftime('%M_%D_%S') # 원하는 포멧으로 줌.\n",
    "\n",
    "# # 현재 날짜 시간 정보 저장 인스턴스\n",
    "cur_time = time.localtime()\n",
    "# print(cur_time.tm_year)\n",
    "\n",
    "time.strftime('%y_%m_%d_%H_%M_%S',cur_time)\n",
    "# 폴더 이름 만들때 폴더 이름에 못 들어가는 문자 넣지 않도록 주의\n",
    "\n",
    "f'capture_{time.strftime(\"%y.%m.%d %H.%M.%S\",cur_time)}.jpg'\n",
    "\n"
   ]
  },
  {
   "cell_type": "code",
   "execution_count": 22,
   "metadata": {},
   "outputs": [
    {
     "name": "stdout",
     "output_type": "stream",
     "text": [
      "영상 재생 정지\n"
     ]
    }
   ],
   "source": [
    "# 카메라와 연결 여부 체크\n",
    "camera = cv2.VideoCapture(CAM_DEVICE)\n",
    "\n",
    "if camera.isOpened():\n",
    "    while True:\n",
    "        ret, img = camera.read()\n",
    "       # ret : 데이터를 읽었는지 못 읽었는지 여부\n",
    "        if ret:\n",
    "           cv2.imshow('VIDEO',img)\n",
    "           # 데이터가 들어있다면 이미지를 뿌려라.\n",
    "           if cv2.waitKey(10) != -1 :\n",
    "                print('영상 재생 정지')\n",
    "                SAVE_FILE = DIR_PATH + f'capture_{time.strftime(\"%y.%m.%d %H.%M.%S\",cur_time)}.jpg'\n",
    "                cv2.imwrite(SAVE_FILE,img) # 저장하는 메서드\n",
    "                cv2.destroyAllWindows()\n",
    "                break\n",
    "           # 1초동안 입력을 기다렸는데 -1이 아니라면\n",
    "        else:\n",
    "           print('영상 읽기 실패')\n",
    "           break\n",
    "else:\n",
    "    print('카메라 연결 여부 체크 바랍니다.')"
   ]
  },
  {
   "cell_type": "code",
   "execution_count": null,
   "metadata": {},
   "outputs": [],
   "source": []
  },
  {
   "cell_type": "code",
   "execution_count": null,
   "metadata": {},
   "outputs": [],
   "source": []
  }
 ],
 "metadata": {
  "kernelspec": {
   "display_name": "TORCH_CV_38",
   "language": "python",
   "name": "python3"
  },
  "language_info": {
   "codemirror_mode": {
    "name": "ipython",
    "version": 3
   },
   "file_extension": ".py",
   "mimetype": "text/x-python",
   "name": "python",
   "nbconvert_exporter": "python",
   "pygments_lexer": "ipython3",
   "version": "3.8.19"
  }
 },
 "nbformat": 4,
 "nbformat_minor": 2
}
