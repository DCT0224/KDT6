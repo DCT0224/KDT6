{
 "cells": [
  {
   "cell_type": "markdown",
   "metadata": {},
   "source": [
    "#### 이미지 데이터 처리\n",
    "- 채널 관리\n",
    "    * 컬러 : 3개 채널 => (H,W,C) => (H,W,3) 채널 있음\n",
    "    * 흑백 : 1개 채널 => (H,W,C) => (H,W,3) 채널 없음"
   ]
  },
  {
   "cell_type": "code",
   "execution_count": 47,
   "metadata": {},
   "outputs": [],
   "source": [
    "## 모듈 로딩\n",
    "import cv2\n",
    "import numpy as np"
   ]
  },
  {
   "cell_type": "code",
   "execution_count": 48,
   "metadata": {},
   "outputs": [],
   "source": [
    "# 데이터 관련 변수\n",
    "DIR_PATH = '../image/'"
   ]
  },
  {
   "cell_type": "code",
   "execution_count": 49,
   "metadata": {},
   "outputs": [
    {
     "data": {
      "text/plain": [
       "True"
      ]
     },
     "execution_count": 49,
     "metadata": {},
     "output_type": "execute_result"
    }
   ],
   "source": [
    "# 이미지 객체 (도화지 만들기)\n",
    "bg_data = np.full((500,500,3),255)\n",
    "#                             0 => black, 255 => white\n",
    "\n",
    "# 이미지 파일 생성\n",
    "BG_FILE = DIR_PATH+'white_bg.jpg'\n",
    "cv2.imwrite(BG_FILE,bg_data)"
   ]
  },
  {
   "cell_type": "code",
   "execution_count": 50,
   "metadata": {},
   "outputs": [
    {
     "data": {
      "text/plain": [
       "((500, 500, 3), 3)"
      ]
     },
     "execution_count": 50,
     "metadata": {},
     "output_type": "execute_result"
    }
   ],
   "source": [
    "# 도화지 이미지 가져오기\n",
    "white_bg = cv2.imread(BG_FILE)\n",
    "white_bg.shape, white_bg.ndim"
   ]
  },
  {
   "cell_type": "code",
   "execution_count": 51,
   "metadata": {},
   "outputs": [],
   "source": [
    "# 선그리기\n",
    "cv2.line(white_bg,(50,50),(250,250),(255,0,0),5)\n",
    "cv2.line(white_bg,(100,50),(350,250),(0,255,0),10)\n",
    "cv2.line(white_bg,(250,50),(350,450),(255,0,255),50)\n",
    "\n",
    "cv2.imshow('DRAWING',white_bg)\n",
    "cv2.waitKey()\n",
    "cv2.destroyAllWindows()"
   ]
  },
  {
   "cell_type": "code",
   "execution_count": 52,
   "metadata": {},
   "outputs": [],
   "source": [
    "# 사격형 그리기\n",
    "#                                                 선 두께 파트에서 -1을 주면 사각형을 채움.\n",
    "cv2.rectangle(white_bg, (50,50),(120,300),(0,0,0),-1)\n",
    "#                                          여기 그냥 0 적어도 (0,0,0)이랑 같음\n",
    "cv2.imshow('DRAWING',white_bg)\n",
    "cv2.waitKey()\n",
    "cv2.destroyAllWindows()"
   ]
  },
  {
   "cell_type": "code",
   "execution_count": null,
   "metadata": {},
   "outputs": [],
   "source": []
  }
 ],
 "metadata": {
  "kernelspec": {
   "display_name": "TORCH_CV_38",
   "language": "python",
   "name": "python3"
  },
  "language_info": {
   "codemirror_mode": {
    "name": "ipython",
    "version": 3
   },
   "file_extension": ".py",
   "mimetype": "text/x-python",
   "name": "python",
   "nbconvert_exporter": "python",
   "pygments_lexer": "ipython3",
   "version": "3.8.19"
  }
 },
 "nbformat": 4,
 "nbformat_minor": 2
}
