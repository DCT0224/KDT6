{
 "cells": [
  {
   "cell_type": "code",
   "execution_count": 36,
   "metadata": {},
   "outputs": [],
   "source": [
    "# %pip install cPickle\n",
    "import numpy as np\n",
    "import matplotlib.pyplot as plt\n",
    "\n",
    "import torch\n",
    "import torch.nn as nn\n",
    "from torch.autograd import Variable\n",
    "import torch.nn.functional as F\n",
    "\n",
    "import torchvision\n",
    "import torchvision.transforms as transforms\n",
    "from torch.utils.data import Dataset,DataLoader\n"
   ]
  },
  {
   "cell_type": "code",
   "execution_count": 37,
   "metadata": {},
   "outputs": [],
   "source": [
    "def unpickle(file):\n",
    "    import pickle\n",
    "    with open(file, 'rb') as fo:\n",
    "        dict = pickle.load(fo, encoding='bytes')\n",
    "    return dict"
   ]
  },
  {
   "cell_type": "code",
   "execution_count": 40,
   "metadata": {},
   "outputs": [],
   "source": [
    "FILE_NAME = r'C:\\VSCode\\KDT\\TORCH_IMAGE\\data\\cifar-10-batches-py\\data_batch_1'\n",
    "data_batch1 = unpickle(FILE_NAME)\n",
    "FILE_NAME = r'C:\\VSCode\\KDT\\TORCH_IMAGE\\data\\cifar-10-batches-py\\data_batch_2'\n",
    "data_batch2 = unpickle(FILE_NAME)\n",
    "FILE_NAME = r'C:\\VSCode\\KDT\\TORCH_IMAGE\\data\\cifar-10-batches-py\\data_batch_3'\n",
    "data_batch3 = unpickle(FILE_NAME)\n",
    "FILE_NAME = r'C:\\VSCode\\KDT\\TORCH_IMAGE\\data\\cifar-10-batches-py\\data_batch_4'\n",
    "data_batch4 = unpickle(FILE_NAME)\n",
    "FILE_NAME = r'C:\\VSCode\\KDT\\TORCH_IMAGE\\data\\cifar-10-batches-py\\data_batch_5'\n",
    "data_batch5 = unpickle(FILE_NAME)\n",
    "FILE_NAME = r'C:\\VSCode\\KDT\\TORCH_IMAGE\\data\\cifar-10-batches-py\\test_batch'\n",
    "test_batch = unpickle(FILE_NAME)\n"
   ]
  },
  {
   "cell_type": "code",
   "execution_count": 49,
   "metadata": {},
   "outputs": [
    {
     "data": {
      "text/plain": [
       "dict_keys([b'batch_label', b'labels', b'data', b'filenames'])"
      ]
     },
     "execution_count": 49,
     "metadata": {},
     "output_type": "execute_result"
    }
   ],
   "source": [
    "data_batch1.keys()"
   ]
  },
  {
   "cell_type": "code",
   "execution_count": 50,
   "metadata": {},
   "outputs": [
    {
     "data": {
      "text/plain": [
       "array([[ 59,  43,  50, ..., 140,  84,  72],\n",
       "       [154, 126, 105, ..., 139, 142, 144],\n",
       "       [255, 253, 253, ...,  83,  83,  84],\n",
       "       ...,\n",
       "       [ 71,  60,  74, ...,  68,  69,  68],\n",
       "       [250, 254, 211, ..., 215, 255, 254],\n",
       "       [ 62,  61,  60, ..., 130, 130, 131]], dtype=uint8)"
      ]
     },
     "execution_count": 50,
     "metadata": {},
     "output_type": "execute_result"
    }
   ],
   "source": [
    "data_batch1[b'data']"
   ]
  },
  {
   "cell_type": "code",
   "execution_count": null,
   "metadata": {},
   "outputs": [],
   "source": []
  }
 ],
 "metadata": {
  "kernelspec": {
   "display_name": "TORCH_CV_38",
   "language": "python",
   "name": "python3"
  },
  "language_info": {
   "codemirror_mode": {
    "name": "ipython",
    "version": 3
   },
   "file_extension": ".py",
   "mimetype": "text/x-python",
   "name": "python",
   "nbconvert_exporter": "python",
   "pygments_lexer": "ipython3",
   "version": "3.8.19"
  }
 },
 "nbformat": 4,
 "nbformat_minor": 2
}
