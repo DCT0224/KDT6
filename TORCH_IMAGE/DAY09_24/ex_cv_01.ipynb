{
 "cells": [
  {
   "cell_type": "markdown",
   "metadata": {},
   "source": [
    "#### OpenCV 기본 사용법  "
   ]
  },
  {
   "cell_type": "code",
   "execution_count": 2,
   "metadata": {},
   "outputs": [],
   "source": [
    "# 모듈로딩\n",
    "import cv2\n",
    "import os\n",
    "import numpy as np"
   ]
  },
  {
   "cell_type": "code",
   "execution_count": 3,
   "metadata": {},
   "outputs": [],
   "source": [
    "# 이미지 관련 공통 변수\n",
    "IMG_DIR='../image/'"
   ]
  },
  {
   "cell_type": "markdown",
   "metadata": {},
   "source": [
    "[1] 이미지 읽기 ==> ndarray"
   ]
  },
  {
   "cell_type": "code",
   "execution_count": 4,
   "metadata": {},
   "outputs": [],
   "source": [
    "# 이미지 파일 경로 + 파일명\n",
    "IMG_FILE=IMG_DIR + 'logo.png'\n",
    "\n",
    "# 이미지 데이터\n",
    "im_data = cv2.imread(IMG_FILE)\n",
    "gray_data = cv2.imread(IMG_FILE,flags=cv2.IMREAD_GRAYSCALE) # 회색으로 이미지 읽어오기"
   ]
  },
  {
   "cell_type": "code",
   "execution_count": 5,
   "metadata": {},
   "outputs": [
    {
     "name": "stdout",
     "output_type": "stream",
     "text": [
      "[im_data]\n",
      "shape (184, 544, 3)\n",
      "shape 3D\n",
      "[gray_data]\n",
      "shape (184, 544)\n",
      "shape 2D\n"
     ]
    }
   ],
   "source": [
    "# 이미지 데이터 속성\n",
    "print('[im_data]')\n",
    "print(f'shape {im_data.shape}')\n",
    "print(f'shape {im_data.ndim}D')\n",
    "\n",
    "print('[gray_data]')\n",
    "print(f'shape {gray_data.shape}')\n",
    "print(f'shape {gray_data.ndim}D')"
   ]
  },
  {
   "cell_type": "markdown",
   "metadata": {},
   "source": [
    "[2] 이미지 화면 출력 => imshow()"
   ]
  },
  {
   "cell_type": "code",
   "execution_count": 6,
   "metadata": {},
   "outputs": [],
   "source": [
    "import time\n",
    "\n",
    "# 이미지 창 띄우기\n",
    "cv2.imshow('[IM_DATA]',im_data)\n",
    "cv2.imshow('[GRAY_DATA]',gray_data)\n",
    "\n",
    "# 이미지 창 위에 이벤트 대기\n",
    "cv2.waitKey()\n",
    "\n",
    "# 이미지 창 닫기\n",
    "# cv2.destroyAllWindows() # => 다 닫아라\n",
    "cv2.destroyWindow('[IM_DATA]') # 이름을 입력하여 닫음\n",
    "\n",
    "# 1초 일시정지\n",
    "time.sleep(1) # 얘는 초단위\n",
    "cv2.destroyWindow('[GRAY_DATA]') # 위에 창을 닫고 1초 뒤에 닫음.\n"
   ]
  },
  {
   "cell_type": "code",
   "execution_count": 7,
   "metadata": {},
   "outputs": [
    {
     "name": "stdout",
     "output_type": "stream",
     "text": [
      "-1\n",
      "-1\n",
      "-1\n",
      "-1\n",
      "-1\n",
      "-1\n",
      "-1\n",
      "-1\n",
      "-1\n",
      "-1\n"
     ]
    }
   ],
   "source": [
    "for _ in range(10):\n",
    "    print(cv2.waitKey(10)) # 안에 들어가는 숫자 기본 단위는 ms > 작은 숫자 입력할수록 덜 기다림."
   ]
  },
  {
   "cell_type": "code",
   "execution_count": 8,
   "metadata": {},
   "outputs": [
    {
     "name": "stdout",
     "output_type": "stream",
     "text": [
      "key_code => 115, s\n"
     ]
    }
   ],
   "source": [
    "### 'x', 'X' 입력 시 모든 이미지 창 닫기\n",
    "cv2.imshow('[IM_DATA]',im_data)\n",
    "cv2.imshow('[GRAY_DATA]',gray_data)\n",
    "\n",
    "while True:\n",
    "    # 키보드 이벤트 대기함수\n",
    "    key_code = cv2.waitKey()\n",
    "    print(f'key_code => {key_code}, {chr(key_code)}')\n",
    "\n",
    "    if chr(key_code) in ['x','X']:\n",
    "        # 모든 창 닫기\n",
    "        cv2.destroyAllWindows()\n",
    "        break\n",
    "\n",
    "    elif chr(key_code) in ['s','S']:\n",
    "        # 이미지 저장\n",
    "        cv2.imwrite('copy.jpg',gray_data)\n",
    "        # 모든창 닫기\n",
    "        cv2.destroyAllWindows()\n",
    "        break"
   ]
  },
  {
   "cell_type": "code",
   "execution_count": null,
   "metadata": {},
   "outputs": [],
   "source": []
  }
 ],
 "metadata": {
  "kernelspec": {
   "display_name": "TORCH_CV_38",
   "language": "python",
   "name": "python3"
  },
  "language_info": {
   "codemirror_mode": {
    "name": "ipython",
    "version": 3
   },
   "file_extension": ".py",
   "mimetype": "text/x-python",
   "name": "python",
   "nbconvert_exporter": "python",
   "pygments_lexer": "ipython3",
   "version": "3.8.19"
  }
 },
 "nbformat": 4,
 "nbformat_minor": 2
}
