{
 "cells": [
  {
   "cell_type": "markdown",
   "metadata": {},
   "source": [
    "#### 데이터셋 다운로드\n",
    "- 데이터 URL 사용\n",
    "    * urllib 패키지 활용 : from urllib.request import urlretrieve\n",
    "    * 함수 :"
   ]
  },
  {
   "cell_type": "code",
   "execution_count": 1,
   "metadata": {},
   "outputs": [],
   "source": [
    "### 모듈 로딩\n",
    "from urllib.request import urlretrieve\n",
    "import os\n",
    "\n",
    "### 파이토치의 내장 이미지 데이터 셋\n",
    "from torchvision import datasets"
   ]
  },
  {
   "cell_type": "code",
   "execution_count": 2,
   "metadata": {},
   "outputs": [],
   "source": [
    "LOGO_URL = 'https://www.google.co.kr/images/branding/googlelogo/2x/googlelogo_color_272x92dp.png'\n",
    "PATH = '../image/'\n",
    "FILE_NAME = '../image/logo.png'"
   ]
  },
  {
   "cell_type": "code",
   "execution_count": 3,
   "metadata": {},
   "outputs": [],
   "source": [
    "# 데이터 저장 폴더 존재 여부 체크 후 생성\n",
    "if not os.path.exists(PATH):\n",
    "    os.mkdir(PATH)"
   ]
  },
  {
   "cell_type": "code",
   "execution_count": 4,
   "metadata": {},
   "outputs": [
    {
     "data": {
      "text/plain": [
       "('../image/logo.png', <http.client.HTTPMessage at 0x29f8d858b20>)"
      ]
     },
     "execution_count": 4,
     "metadata": {},
     "output_type": "execute_result"
    }
   ],
   "source": [
    "# 데이터 다운로드 후 이미지 저장\n",
    "urlretrieve(LOGO_URL,FILE_NAME)"
   ]
  },
  {
   "cell_type": "code",
   "execution_count": 5,
   "metadata": {},
   "outputs": [
    {
     "data": {
      "text/plain": [
       "Dataset MNIST\n",
       "    Number of datapoints: 60000\n",
       "    Root location: ../data/\n",
       "    Split: Train"
      ]
     },
     "execution_count": 5,
     "metadata": {},
     "output_type": "execute_result"
    }
   ],
   "source": [
    "### MNIST 데이터셋 다운로드\n",
    "datasets.MNIST('../data/',download=True)"
   ]
  },
  {
   "cell_type": "markdown",
   "metadata": {},
   "source": [
    "- 바이너리 데이터 읽기"
   ]
  },
  {
   "cell_type": "code",
   "execution_count": 6,
   "metadata": {},
   "outputs": [
    {
     "name": "stdout",
     "output_type": "stream",
     "text": [
      "filelist => ['t10k-images-idx3-ubyte', 't10k-labels-idx1-ubyte', 'train-images-idx3-ubyte', 'train-labels-idx1-ubyte']\n"
     ]
    }
   ],
   "source": [
    "# 데이터 파일리스트 준비\n",
    "MNIST_PATH = '../data/MNIST/raw/'\n",
    "filelist = os.listdir(MNIST_PATH)\n",
    "for file in filelist:\n",
    "    if file.endswith('.gz'):\n",
    "        filelist.remove(file)\n",
    "print(f'filelist => {filelist}')"
   ]
  },
  {
   "cell_type": "code",
   "execution_count": 7,
   "metadata": {},
   "outputs": [
    {
     "name": "stdout",
     "output_type": "stream",
     "text": [
      "b\"\\x00\\x00\\x08\\x03\\x00\\x00'\\x10\\x00\\x00\\x00\\x1c\\x00\\x00\\x00\\x1c\\x00\\x00\\x00\\x00\\x00\\x00\\x00\\x00\\x00\\x00\\x00\\x00\\x00\\x00\\x00\\x00\\x00\\x00\\x00\\x00\\x00\\x00\\x00\\x00\\x00\\x00\\x00\\x00\\x00\\x00\\x00\\x00\\x00\\x00\"\n"
     ]
    }
   ],
   "source": [
    "with open(MNIST_PATH+filelist[0],mode='rb') as f:\n",
    "    print(f.read(50))"
   ]
  },
  {
   "cell_type": "code",
   "execution_count": 8,
   "metadata": {},
   "outputs": [
    {
     "name": "stdout",
     "output_type": "stream",
     "text": [
      "b'\\x00\\x00\\x08\\x03'\n",
      "b\"\\x00\\x00'\\x10\"\n"
     ]
    }
   ],
   "source": [
    "# 데이터 파일 읽기\n",
    "\n",
    "# 오류 1\n",
    "# with open(filelist[0]) as f:\n",
    "#     pass\n",
    "# => 이렇게 하면 못찾음. 파일명만 있고 경로는 없어서\n",
    "\n",
    "# 오류 2\n",
    "# with open(MNIST_PATH+filelist[0],encoding='utf-8') as f:\n",
    "# #                           utf-8은 텍스트인데 텍스트가 아니기때문에 읽을 수가 없음.\n",
    "#     data =f.read(50)\n",
    "#     print(data)\n",
    "\n",
    "# 답\n",
    "with open(MNIST_PATH+filelist[0],mode='rb') as f:\n",
    "    data =f.read(4)\n",
    "    print(data)\n",
    "    \n",
    "    data =f.read(4)\n",
    "    print(data)    "
   ]
  },
  {
   "cell_type": "markdown",
   "metadata": {},
   "source": [
    "- 바이너리 데이터를 원하는 자료형으로 읽기\n",
    "    * 파이썬 내장 모듈 struct 사용"
   ]
  },
  {
   "cell_type": "code",
   "execution_count": 9,
   "metadata": {},
   "outputs": [],
   "source": [
    "# 모듈 로딩\n",
    "import struct"
   ]
  },
  {
   "cell_type": "code",
   "execution_count": 10,
   "metadata": {},
   "outputs": [
    {
     "name": "stdout",
     "output_type": "stream",
     "text": [
      "(2051, 10000)\n",
      "(50855936, 270991360)\n"
     ]
    }
   ],
   "source": [
    "with open(MNIST_PATH+filelist[0],mode='rb') as f:\n",
    "    data = f.read(8)\n",
    "    \n",
    "    print(struct.unpack('>II',data)) # I -> 'unsigned int', Standard size=4\n",
    "    #                                   https://docs.python.org/3/library/struct.html => 여기에 I 정보 있음.\n",
    "    # (2051, 10000) => 2051 : 매직코드(앞에 4개), 10000 : 데이터 개수\n",
    "    print(struct.unpack('<II',data))\n",
    "\n",
    "#"
   ]
  },
  {
   "cell_type": "code",
   "execution_count": 11,
   "metadata": {},
   "outputs": [],
   "source": [
    "# 데이터 파일 읽어서 데이터셋 파일 생성\n",
    "def makeDataFile(imgfile,labelfile,datasetfile,dataLength=None):\n",
    "    with open(imgfile,mode='rb') as data_f:\n",
    "        with open(labelfile,mode='rb') as label_f:\n",
    "            with open(datasetfile,mode='w') as dataset_f:\n",
    "        # 파일의 헤더 정보 읽기\n",
    "        \n",
    "                _,img_cnt = struct.unpack('>II',data_f.read(8))\n",
    "                rows,cols = struct.unpack('>II',data_f.read(8))\n",
    "\n",
    "                _,_ = struct.unpack('>II',label_f.read(8))\n",
    "                # if dataLength : \n",
    "                for n in range(img_cnt):\n",
    "                    # 이미지 raw 데이터\n",
    "                    pixels = data_f.read(rows*cols)\n",
    "                    sdata=list(map(lambda n:str(n),pixels))\n",
    "                    #print(sdata)\n",
    "\n",
    "                    # 이미지 라벨\n",
    "                    label=struct.unpack('B',label_f.read(1))[0]\n",
    "                    #print(label)\n",
    "\n",
    "                    # 피쳐와 라벨 연결\n",
    "                    sdata.insert(0,str(label))\n",
    "                    #print(sdata)\n",
    "\n",
    "                    # 데이터 파일에 기록\n",
    "                    img_label=','.join(sdata) # 디버깅 용도\n",
    "                    dataset_f.write(img_label+'\\n')\n",
    "                    #print(img_label)\n",
    "    "
   ]
  },
  {
   "cell_type": "code",
   "execution_count": 12,
   "metadata": {},
   "outputs": [],
   "source": [
    "DS_PATH = '../data/'\n",
    "MNIST_PATH = '../data/MNIST/raw/'\n",
    "TRAIN_FILE = DS_PATH+'MNIST_train.csv'\n",
    "TEST_FILE = DS_PATH+'MNIST_test.csv'\n",
    "\n",
    "\n",
    "makeDataFile(MNIST_PATH+filelist[0],MNIST_PATH+filelist[1],TEST_FILE)\n",
    "makeDataFile(MNIST_PATH+filelist[2],MNIST_PATH+filelist[3],TRAIN_FILE)"
   ]
  },
  {
   "cell_type": "code",
   "execution_count": null,
   "metadata": {},
   "outputs": [],
   "source": []
  }
 ],
 "metadata": {
  "kernelspec": {
   "display_name": "TORCH_CV_38",
   "language": "python",
   "name": "python3"
  },
  "language_info": {
   "codemirror_mode": {
    "name": "ipython",
    "version": 3
   },
   "file_extension": ".py",
   "mimetype": "text/x-python",
   "name": "python",
   "nbconvert_exporter": "python",
   "pygments_lexer": "ipython3",
   "version": "3.8.19"
  }
 },
 "nbformat": 4,
 "nbformat_minor": 2
}
