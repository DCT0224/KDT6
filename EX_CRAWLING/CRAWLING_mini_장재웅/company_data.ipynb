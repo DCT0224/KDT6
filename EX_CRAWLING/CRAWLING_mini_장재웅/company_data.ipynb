{
 "cells": [
  {
   "cell_type": "code",
   "execution_count": 10,
   "metadata": {},
   "outputs": [],
   "source": [
    "import time\n",
    "from selenium import webdriver\n",
    "from selenium.webdriver.common.by import By\n",
    "import pandas as pd\n",
    "from tabulate import tabulate"
   ]
  },
  {
   "cell_type": "code",
   "execution_count": 11,
   "metadata": {},
   "outputs": [],
   "source": [
    "company_dict = {'네이버':'https://finance.naver.com/item/coinfo.naver?code=035420'}\n",
    "                #  '카카오':'',}\n",
    "\n",
    "xpath_dict = {'PER':'//*[@id=\"ZlEwemUxRm\"]/table[2]/tbody/tr[27]/th',\n",
    "              'PBR': '//*[@id=\"premiumReviewStatistics\"]/div[2]/div[1]/div/div[1]/div[2]/div/div/div[1]/div[2]/span[2]',\n",
    "              'ROE':'//*[@id=\"ZlEwemUxRm\"]/table[2]/tbody/tr[22]/th',\n",
    "              '영업이익증가율':'//*[@id=\"ZlEwemUxRm\"]/table[2]/tbody/tr[20]/th',\n",
    "              '투자활동현금흐름':'//*[@id=\"ZlEwemUxRm\"]/table[2]/tbody/tr[15]/th'}\n"
   ]
  },
  {
   "cell_type": "code",
   "execution_count": 12,
   "metadata": {},
   "outputs": [
    {
     "ename": "NoSuchWindowException",
     "evalue": "Message: no such window: target window already closed\nfrom unknown error: web view not found\n  (Session info: chrome=127.0.6533.100)\nStacktrace:\n\tGetHandleVerifier [0x00007FF6C25C9642+30946]\n\t(No symbol) [0x00007FF6C257E3D9]\n\t(No symbol) [0x00007FF6C2476FDA]\n\t(No symbol) [0x00007FF6C244CB85]\n\t(No symbol) [0x00007FF6C24F37A7]\n\t(No symbol) [0x00007FF6C250A771]\n\t(No symbol) [0x00007FF6C24EC813]\n\t(No symbol) [0x00007FF6C24BA6E5]\n\t(No symbol) [0x00007FF6C24BB021]\n\tGetHandleVerifier [0x00007FF6C26FF84D+1301229]\n\tGetHandleVerifier [0x00007FF6C270BDC7+1351783]\n\tGetHandleVerifier [0x00007FF6C2702A13+1313971]\n\tGetHandleVerifier [0x00007FF6C25FDD16+245686]\n\t(No symbol) [0x00007FF6C258759F]\n\t(No symbol) [0x00007FF6C2583814]\n\t(No symbol) [0x00007FF6C25839A2]\n\t(No symbol) [0x00007FF6C257A3FF]\n\tBaseThreadInitThunk [0x00007FF82127257D+29]\n\tRtlUserThreadStart [0x00007FF821D6AF28+40]\n",
     "output_type": "error",
     "traceback": [
      "\u001b[1;31m---------------------------------------------------------------------------\u001b[0m",
      "\u001b[1;31mNoSuchWindowException\u001b[0m                     Traceback (most recent call last)",
      "Cell \u001b[1;32mIn[12], line 8\u001b[0m\n\u001b[0;32m      6\u001b[0m company_url\u001b[38;5;241m=\u001b[39mcompany_dict\u001b[38;5;241m.\u001b[39mget(company_name)\n\u001b[0;32m      7\u001b[0m driver\u001b[38;5;241m.\u001b[39mget(company_url)\n\u001b[1;32m----> 8\u001b[0m company \u001b[38;5;241m=\u001b[39m \u001b[43mdriver\u001b[49m\u001b[38;5;241;43m.\u001b[39;49m\u001b[43mfind_element\u001b[49m\u001b[43m(\u001b[49m\u001b[43mBy\u001b[49m\u001b[38;5;241;43m.\u001b[39;49m\u001b[43mCLASS_NAME\u001b[49m\u001b[43m,\u001b[49m\u001b[43m \u001b[49m\u001b[38;5;124;43m'\u001b[39;49m\u001b[38;5;124;43mblind\u001b[39;49m\u001b[38;5;124;43m'\u001b[39;49m\u001b[43m)\u001b[49m\n\u001b[0;32m      9\u001b[0m \u001b[38;5;28mprint\u001b[39m(\u001b[38;5;124m'\u001b[39m\u001b[38;5;124m-\u001b[39m\u001b[38;5;124m'\u001b[39m\u001b[38;5;241m*\u001b[39m\u001b[38;5;241m50\u001b[39m)\n",
      "File \u001b[1;32mc:\\Users\\KDP-14\\anaconda3\\envs\\samban\\lib\\site-packages\\selenium\\webdriver\\remote\\webdriver.py:748\u001b[0m, in \u001b[0;36mWebDriver.find_element\u001b[1;34m(self, by, value)\u001b[0m\n\u001b[0;32m    745\u001b[0m     by \u001b[38;5;241m=\u001b[39m By\u001b[38;5;241m.\u001b[39mCSS_SELECTOR\n\u001b[0;32m    746\u001b[0m     value \u001b[38;5;241m=\u001b[39m \u001b[38;5;124mf\u001b[39m\u001b[38;5;124m'\u001b[39m\u001b[38;5;124m[name=\u001b[39m\u001b[38;5;124m\"\u001b[39m\u001b[38;5;132;01m{\u001b[39;00mvalue\u001b[38;5;132;01m}\u001b[39;00m\u001b[38;5;124m\"\u001b[39m\u001b[38;5;124m]\u001b[39m\u001b[38;5;124m'\u001b[39m\n\u001b[1;32m--> 748\u001b[0m \u001b[38;5;28;01mreturn\u001b[39;00m \u001b[38;5;28;43mself\u001b[39;49m\u001b[38;5;241;43m.\u001b[39;49m\u001b[43mexecute\u001b[49m\u001b[43m(\u001b[49m\u001b[43mCommand\u001b[49m\u001b[38;5;241;43m.\u001b[39;49m\u001b[43mFIND_ELEMENT\u001b[49m\u001b[43m,\u001b[49m\u001b[43m \u001b[49m\u001b[43m{\u001b[49m\u001b[38;5;124;43m\"\u001b[39;49m\u001b[38;5;124;43musing\u001b[39;49m\u001b[38;5;124;43m\"\u001b[39;49m\u001b[43m:\u001b[49m\u001b[43m \u001b[49m\u001b[43mby\u001b[49m\u001b[43m,\u001b[49m\u001b[43m \u001b[49m\u001b[38;5;124;43m\"\u001b[39;49m\u001b[38;5;124;43mvalue\u001b[39;49m\u001b[38;5;124;43m\"\u001b[39;49m\u001b[43m:\u001b[49m\u001b[43m \u001b[49m\u001b[43mvalue\u001b[49m\u001b[43m}\u001b[49m\u001b[43m)\u001b[49m[\u001b[38;5;124m\"\u001b[39m\u001b[38;5;124mvalue\u001b[39m\u001b[38;5;124m\"\u001b[39m]\n",
      "File \u001b[1;32mc:\\Users\\KDP-14\\anaconda3\\envs\\samban\\lib\\site-packages\\selenium\\webdriver\\remote\\webdriver.py:354\u001b[0m, in \u001b[0;36mWebDriver.execute\u001b[1;34m(self, driver_command, params)\u001b[0m\n\u001b[0;32m    352\u001b[0m response \u001b[38;5;241m=\u001b[39m \u001b[38;5;28mself\u001b[39m\u001b[38;5;241m.\u001b[39mcommand_executor\u001b[38;5;241m.\u001b[39mexecute(driver_command, params)\n\u001b[0;32m    353\u001b[0m \u001b[38;5;28;01mif\u001b[39;00m response:\n\u001b[1;32m--> 354\u001b[0m     \u001b[38;5;28;43mself\u001b[39;49m\u001b[38;5;241;43m.\u001b[39;49m\u001b[43merror_handler\u001b[49m\u001b[38;5;241;43m.\u001b[39;49m\u001b[43mcheck_response\u001b[49m\u001b[43m(\u001b[49m\u001b[43mresponse\u001b[49m\u001b[43m)\u001b[49m\n\u001b[0;32m    355\u001b[0m     response[\u001b[38;5;124m\"\u001b[39m\u001b[38;5;124mvalue\u001b[39m\u001b[38;5;124m\"\u001b[39m] \u001b[38;5;241m=\u001b[39m \u001b[38;5;28mself\u001b[39m\u001b[38;5;241m.\u001b[39m_unwrap_value(response\u001b[38;5;241m.\u001b[39mget(\u001b[38;5;124m\"\u001b[39m\u001b[38;5;124mvalue\u001b[39m\u001b[38;5;124m\"\u001b[39m, \u001b[38;5;28;01mNone\u001b[39;00m))\n\u001b[0;32m    356\u001b[0m     \u001b[38;5;28;01mreturn\u001b[39;00m response\n",
      "File \u001b[1;32mc:\\Users\\KDP-14\\anaconda3\\envs\\samban\\lib\\site-packages\\selenium\\webdriver\\remote\\errorhandler.py:229\u001b[0m, in \u001b[0;36mErrorHandler.check_response\u001b[1;34m(self, response)\u001b[0m\n\u001b[0;32m    227\u001b[0m         alert_text \u001b[38;5;241m=\u001b[39m value[\u001b[38;5;124m\"\u001b[39m\u001b[38;5;124malert\u001b[39m\u001b[38;5;124m\"\u001b[39m]\u001b[38;5;241m.\u001b[39mget(\u001b[38;5;124m\"\u001b[39m\u001b[38;5;124mtext\u001b[39m\u001b[38;5;124m\"\u001b[39m)\n\u001b[0;32m    228\u001b[0m     \u001b[38;5;28;01mraise\u001b[39;00m exception_class(message, screen, stacktrace, alert_text)  \u001b[38;5;66;03m# type: ignore[call-arg]  # mypy is not smart enough here\u001b[39;00m\n\u001b[1;32m--> 229\u001b[0m \u001b[38;5;28;01mraise\u001b[39;00m exception_class(message, screen, stacktrace)\n",
      "\u001b[1;31mNoSuchWindowException\u001b[0m: Message: no such window: target window already closed\nfrom unknown error: web view not found\n  (Session info: chrome=127.0.6533.100)\nStacktrace:\n\tGetHandleVerifier [0x00007FF6C25C9642+30946]\n\t(No symbol) [0x00007FF6C257E3D9]\n\t(No symbol) [0x00007FF6C2476FDA]\n\t(No symbol) [0x00007FF6C244CB85]\n\t(No symbol) [0x00007FF6C24F37A7]\n\t(No symbol) [0x00007FF6C250A771]\n\t(No symbol) [0x00007FF6C24EC813]\n\t(No symbol) [0x00007FF6C24BA6E5]\n\t(No symbol) [0x00007FF6C24BB021]\n\tGetHandleVerifier [0x00007FF6C26FF84D+1301229]\n\tGetHandleVerifier [0x00007FF6C270BDC7+1351783]\n\tGetHandleVerifier [0x00007FF6C2702A13+1313971]\n\tGetHandleVerifier [0x00007FF6C25FDD16+245686]\n\t(No symbol) [0x00007FF6C258759F]\n\t(No symbol) [0x00007FF6C2583814]\n\t(No symbol) [0x00007FF6C25839A2]\n\t(No symbol) [0x00007FF6C257A3FF]\n\tBaseThreadInitThunk [0x00007FF82127257D+29]\n\tRtlUserThreadStart [0x00007FF821D6AF28+40]\n"
     ]
    }
   ],
   "source": [
    "# chrome_options = webdriver.ChromeOptions()\n",
    "# driver = webdriver.Chrome()\n",
    "\n",
    "# for company_name in company_dict.keys():\n",
    "#     value_list = []\n",
    "#     company_url=company_dict.get(company_name)\n",
    "#     driver.get(company_url)\n",
    "#     company = driver.find_element(By.CLASS_NAME, '')\n",
    "#     print('-'*50)"
   ]
  },
  {
   "cell_type": "code",
   "execution_count": null,
   "metadata": {},
   "outputs": [],
   "source": []
  }
 ],
 "metadata": {
  "kernelspec": {
   "display_name": "samban",
   "language": "python",
   "name": "python3"
  },
  "language_info": {
   "codemirror_mode": {
    "name": "ipython",
    "version": 3
   },
   "file_extension": ".py",
   "mimetype": "text/x-python",
   "name": "python",
   "nbconvert_exporter": "python",
   "pygments_lexer": "ipython3",
   "version": "3.9.19"
  }
 },
 "nbformat": 4,
 "nbformat_minor": 2
}
