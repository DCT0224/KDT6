{
 "cells": [
  {
   "cell_type": "markdown",
   "metadata": {},
   "source": [
    "### 스마트 냉장고\n",
    "* 데이터 셋 : 과채류 30 종류\n",
    "* 피쳐/속성 : 그림 파일\n",
    "* 타겟/라벨 : 폴더명\n",
    "* 학습-방법 : 지도학습 > 분류 > 다중분류\n",
    "* 알고리즘 : \n",
    "* 프레임워크 : Pytorch"
   ]
  },
  {
   "cell_type": "markdown",
   "metadata": {},
   "source": [
    "[1] 모듈 로딩 및 데이터 준비\n",
    "<hr>"
   ]
  },
  {
   "cell_type": "code",
   "execution_count": 1,
   "metadata": {},
   "outputs": [
    {
     "name": "stdout",
     "output_type": "stream",
     "text": [
      "torch Ver.:2.4.1\n",
      "pandas Ver.:2.0.3\n",
      "numpy Ver.:1.24.3\n"
     ]
    }
   ],
   "source": [
    "# ---------------------------------------------------------------------\n",
    "# 모델링 관련 모듈 로딩\n",
    "# ---------------------------------------------------------------------\n",
    "import torch\n",
    "import torch.nn as nn\n",
    "import torch.nn.functional as F\n",
    "from torch.utils.data import Dataset, DataLoader\n",
    "import torch.optim as optim\n",
    "from torchinfo import summary\n",
    "from torch.utils.data import random_split\n",
    "\n",
    "from torchmetrics.classification import accuracy\n",
    "from torchmetrics.classification import MulticlassF1Score, MulticlassAccuracy, MulticlassConfusionMatrix\n",
    "import torch.optim.lr_scheduler as lr_scheduler\n",
    "\n",
    "import torchvision.models as models\n",
    "\n",
    "# ---------------------------------------------------------------------\n",
    "# 데이터 분석 관련 모듈 로딩\n",
    "# ---------------------------------------------------------------------\n",
    "import pandas as pd\n",
    "import numpy as np\n",
    "import matplotlib.pyplot as plt\n",
    "\n",
    "# ---------------------------------------------------------------------\n",
    "# 이미지 관련 모듈 로딩\n",
    "# ---------------------------------------------------------------------\n",
    "import cv2\n",
    "from PIL import Image\n",
    "from torchvision import transforms\n",
    "from torchvision.datasets import ImageFolder\n",
    "from torchvision.transforms import v2\n",
    "\n",
    "# ---------------------------------------------------------------------\n",
    "# 기타 모듈 로딩\n",
    "# ---------------------------------------------------------------------\n",
    "import time\n",
    "import os\n",
    "\n",
    "# 활용 패키지 버전 체크\n",
    "print(f'torch Ver.:{torch.__version__}')\n",
    "print(f'pandas Ver.:{pd.__version__}')\n",
    "print(f'numpy Ver.:{np.__version__}')"
   ]
  },
  {
   "cell_type": "code",
   "execution_count": 2,
   "metadata": {},
   "outputs": [],
   "source": [
    "# DEVICE 설정\n",
    "DEVICE = 'cuda' if torch.cuda.is_available() else 'cpu'"
   ]
  },
  {
   "cell_type": "markdown",
   "metadata": {},
   "source": [
    "* 이미지 데이터셋 생성\n",
    "<hr>"
   ]
  },
  {
   "cell_type": "code",
   "execution_count": 3,
   "metadata": {},
   "outputs": [],
   "source": [
    "transConvert = transforms.Compose([transforms.Resize([236]), transforms.CenterCrop(224),transforms.ToTensor(),\n",
    "                           transforms.Normalize(mean=[0.485, 0.456, 0.406], std=[0.229, 0.224, 0.225])])"
   ]
  },
  {
   "cell_type": "code",
   "execution_count": 4,
   "metadata": {},
   "outputs": [],
   "source": [
    "base_dir = r'C:\\Users\\KDP-14\\Desktop\\VSCode\\LocalData\\self_project_image\\fruit_veget_image'  # 원본 데이터가 있는 경로\n",
    "train_dir = r'C:\\Users\\KDP-14\\Desktop\\VSCode\\LocalData\\self_project_image\\train'   # 훈련 데이터를 저장할 경로\n",
    "test_dir = r'C:\\Users\\KDP-14\\Desktop\\VSCode\\LocalData\\self_project_image\\test'     # 테스트 데이터를 저장할 경로"
   ]
  },
  {
   "cell_type": "code",
   "execution_count": 7,
   "metadata": {},
   "outputs": [],
   "source": [
    "from sklearn.model_selection import train_test_split\n",
    "import shutil\n",
    "\n",
    "class_names = os.listdir(base_dir)\n",
    "\n",
    "for class_name in class_names:\n",
    "    class_dir = os.path.join(base_dir, class_name)\n",
    "    \n",
    "    # 클래스 내의 모든 이미지 파일 목록 가져오기\n",
    "    images = [img for img in os.listdir(class_dir) if img.endswith(('.jpg', '.png'))]\n",
    "\n",
    "    # 훈련과 테스트 세트로 나누기 (80% 훈련, 20% 테스트)\n",
    "    train_images, test_images = train_test_split(images, test_size=0.2, random_state=42)\n",
    "\n",
    "    # 훈련 및 테스트 데이터 이동\n",
    "    os.makedirs(os.path.join(train_dir, class_name), exist_ok=True)\n",
    "    os.makedirs(os.path.join(test_dir, class_name), exist_ok=True)\n",
    "\n",
    "    for image in train_images:\n",
    "        shutil.copy(os.path.join(class_dir, image), os.path.join(train_dir, class_name, image))\n",
    "\n",
    "    for image in test_images:\n",
    "        shutil.copy(os.path.join(class_dir, image), os.path.join(test_dir, class_name, image))\n"
   ]
  }
 ],
 "metadata": {
  "kernelspec": {
   "display_name": "TORCH_CV_38",
   "language": "python",
   "name": "python3"
  },
  "language_info": {
   "codemirror_mode": {
    "name": "ipython",
    "version": 3
   },
   "file_extension": ".py",
   "mimetype": "text/x-python",
   "name": "python",
   "nbconvert_exporter": "python",
   "pygments_lexer": "ipython3",
   "version": "3.8.19"
  }
 },
 "nbformat": 4,
 "nbformat_minor": 2
}
