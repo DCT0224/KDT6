{
 "cells": [
  {
   "cell_type": "code",
   "execution_count": 5,
   "metadata": {},
   "outputs": [],
   "source": [
    "## 모듈 로딩\n",
    "import random\n",
    "import numpy as np\n",
    "import os\n",
    "import cv2\n",
    "import glob\n",
    "from PIL import Image\n",
    "import PIL.ImageOps"
   ]
  },
  {
   "cell_type": "code",
   "execution_count": 6,
   "metadata": {},
   "outputs": [
    {
     "name": "stdout",
     "output_type": "stream",
     "text": [
      "['apple', 'banana', 'beetroot', 'bell_pepper', 'cabbage', 'capsicum', 'carrot', 'cauliflower', 'chilli_pepper', 'corn', 'cucumber', 'eggplant', 'garlic', 'ginger', 'grapes', 'kiwi', 'lemon', 'lettuce', 'mango', 'onion', 'orange', 'pear', 'peas', 'pineapple', 'pomegranate', 'potato', 'radish', 'spinach', 'sweetpotato', 'tomato', 'watermelon']\n"
     ]
    }
   ],
   "source": [
    "## 과일 이름 리스트 만들기\n",
    "path = r'C:\\Users\\KDP-14\\Desktop\\VSCode\\LocalData\\self_project_image\\train'\n",
    "name_list = os.listdir(path)\n",
    "print(name_list)"
   ]
  },
  {
   "cell_type": "code",
   "execution_count": 12,
   "metadata": {},
   "outputs": [
    {
     "name": "stdout",
     "output_type": "stream",
     "text": [
      "C:\\Users\\KDP-14\\Desktop\\VSCode\\LocalData\\self_project_image\\train\\apple\n"
     ]
    }
   ],
   "source": [
    "# 새로 만들 이미지 개수 설정\n",
    "num_augmented_images = 950\n",
    "\n",
    "# 저장할 파일 경로 설정\n",
    "for name in name_list:\n",
    "    directory = r'C:\\Users\\KDP-14\\Desktop\\VSCode\\LocalData\\self_project_image\\train'\n",
    "    file_path = os.path.join(directory, name)\n",
    "    file_names = os.listdir(file_path)\n",
    "    origin_image_num = len(file_names)\n",
    "    print(file_path)\n",
    "    \n",
    "\n",
    "    # augmentation 몇번인지 확인\n",
    "    augment_cnt=1\n",
    "\n",
    "    for i in range(1,num_augmented_images):\n",
    "        change_picture_idx = random.randrange(1,origin_image_num-1)\n",
    "        file_name = file_names[change_picture_idx]\n",
    "\n",
    "        origin_image_path = os.path.join(file_path, file_name)\n",
    "        # print(origin_image_path)\n",
    "        image = Image.open(origin_image_path)\n",
    "        random_augment = random.randrange(1,4)\n",
    "\n",
    "        if(random_augment == 1):\n",
    "            #이미지 좌우 반전\n",
    "            print(\"invert\")\n",
    "            inverted_image = image.transpose(Image.FLIP_LEFT_RIGHT)\n",
    "            inverted_image.save(file_path + 'inverted_' + str(augment_cnt) + '.png')\n",
    "            \n",
    "        elif(random_augment == 2):\n",
    "            #이미지 기울이기\n",
    "            print(\"rotate\")\n",
    "            rotated_image = image.rotate(random.randrange(-20, 20))\n",
    "            rotated_image.save(file_path + 'rotated_' + str(augment_cnt) + '.png')\n",
    "            \n",
    "        elif(random_augment == 3):\n",
    "            #노이즈 추가하기\n",
    "            img = cv2.imread(origin_image_path)\n",
    "            print(\"noise\")\n",
    "            row,col,ch= img.shape\n",
    "            mean = 0\n",
    "            var = 0.1\n",
    "            sigma = var**0.5\n",
    "            gauss = np.random.normal(mean,sigma,(row,col,ch))\n",
    "            gauss = gauss.reshape(row,col,ch)\n",
    "            noisy_array = img + gauss\n",
    "            noisy_image = Image.fromarray(np.uint8(noisy_array)).convert('RGB')\n",
    "            noisy_image.save(file_path + 'noiseAdded_' + str(augment_cnt) + '.png')\n",
    "            \n",
    "        augment_cnt += 1\n",
    "        break"
   ]
  },
  {
   "cell_type": "code",
   "execution_count": null,
   "metadata": {},
   "outputs": [],
   "source": []
  }
 ],
 "metadata": {
  "kernelspec": {
   "display_name": "TORCH_CV_38",
   "language": "python",
   "name": "python3"
  },
  "language_info": {
   "codemirror_mode": {
    "name": "ipython",
    "version": 3
   },
   "file_extension": ".py",
   "mimetype": "text/x-python",
   "name": "python",
   "nbconvert_exporter": "python",
   "pygments_lexer": "ipython3",
   "version": "3.8.19"
  }
 },
 "nbformat": 4,
 "nbformat_minor": 2
}
