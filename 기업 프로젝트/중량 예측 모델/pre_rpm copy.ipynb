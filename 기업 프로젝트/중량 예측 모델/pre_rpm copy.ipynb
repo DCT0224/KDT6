{
 "cells": [
  {
   "cell_type": "code",
   "execution_count": 35,
   "metadata": {},
   "outputs": [],
   "source": [
    "import pandas as pd\n",
    "import numpy as np\n",
    "import matplotlib.pyplot as plt\n",
    "import seaborn as sns"
   ]
  },
  {
   "cell_type": "code",
   "execution_count": 36,
   "metadata": {},
   "outputs": [],
   "source": [
    "DATA_PATH = r'C:\\Users\\KDP-14\\Desktop\\VSCode\\KDT6\\기업 프로젝트\\Dataset\\팀원 데이터2\\clean_data2.csv'\n",
    "dataDF = pd.read_csv(DATA_PATH)"
   ]
  },
  {
   "cell_type": "code",
   "execution_count": 37,
   "metadata": {},
   "outputs": [
    {
     "data": {
      "text/html": [
       "<div>\n",
       "<style scoped>\n",
       "    .dataframe tbody tr th:only-of-type {\n",
       "        vertical-align: middle;\n",
       "    }\n",
       "\n",
       "    .dataframe tbody tr th {\n",
       "        vertical-align: top;\n",
       "    }\n",
       "\n",
       "    .dataframe thead th {\n",
       "        text-align: right;\n",
       "    }\n",
       "</style>\n",
       "<table border=\"1\" class=\"dataframe\">\n",
       "  <thead>\n",
       "    <tr style=\"text-align: right;\">\n",
       "      <th></th>\n",
       "      <th>c_temp_pv</th>\n",
       "      <th>k_rpm_pv</th>\n",
       "      <th>n_temp_pv</th>\n",
       "      <th>scale_pv</th>\n",
       "      <th>s_temp_pv</th>\n",
       "    </tr>\n",
       "  </thead>\n",
       "  <tbody>\n",
       "    <tr>\n",
       "      <th>0</th>\n",
       "      <td>69.6</td>\n",
       "      <td>189</td>\n",
       "      <td>67.2</td>\n",
       "      <td>3.01</td>\n",
       "      <td>67.1</td>\n",
       "    </tr>\n",
       "    <tr>\n",
       "      <th>1</th>\n",
       "      <td>69.8</td>\n",
       "      <td>189</td>\n",
       "      <td>67.2</td>\n",
       "      <td>3.01</td>\n",
       "      <td>67.0</td>\n",
       "    </tr>\n",
       "    <tr>\n",
       "      <th>2</th>\n",
       "      <td>69.7</td>\n",
       "      <td>189</td>\n",
       "      <td>67.9</td>\n",
       "      <td>3.08</td>\n",
       "      <td>65.9</td>\n",
       "    </tr>\n",
       "    <tr>\n",
       "      <th>3</th>\n",
       "      <td>69.7</td>\n",
       "      <td>189</td>\n",
       "      <td>67.8</td>\n",
       "      <td>3.08</td>\n",
       "      <td>65.9</td>\n",
       "    </tr>\n",
       "    <tr>\n",
       "      <th>4</th>\n",
       "      <td>69.7</td>\n",
       "      <td>189</td>\n",
       "      <td>67.8</td>\n",
       "      <td>3.08</td>\n",
       "      <td>65.9</td>\n",
       "    </tr>\n",
       "    <tr>\n",
       "      <th>...</th>\n",
       "      <td>...</td>\n",
       "      <td>...</td>\n",
       "      <td>...</td>\n",
       "      <td>...</td>\n",
       "      <td>...</td>\n",
       "    </tr>\n",
       "    <tr>\n",
       "      <th>232022</th>\n",
       "      <td>69.7</td>\n",
       "      <td>191</td>\n",
       "      <td>67.6</td>\n",
       "      <td>0.00</td>\n",
       "      <td>67.3</td>\n",
       "    </tr>\n",
       "    <tr>\n",
       "      <th>232023</th>\n",
       "      <td>69.8</td>\n",
       "      <td>191</td>\n",
       "      <td>67.5</td>\n",
       "      <td>0.00</td>\n",
       "      <td>67.0</td>\n",
       "    </tr>\n",
       "    <tr>\n",
       "      <th>232024</th>\n",
       "      <td>69.7</td>\n",
       "      <td>191</td>\n",
       "      <td>67.4</td>\n",
       "      <td>0.00</td>\n",
       "      <td>66.8</td>\n",
       "    </tr>\n",
       "    <tr>\n",
       "      <th>232025</th>\n",
       "      <td>69.7</td>\n",
       "      <td>191</td>\n",
       "      <td>67.3</td>\n",
       "      <td>0.00</td>\n",
       "      <td>66.7</td>\n",
       "    </tr>\n",
       "    <tr>\n",
       "      <th>232026</th>\n",
       "      <td>69.8</td>\n",
       "      <td>191</td>\n",
       "      <td>67.2</td>\n",
       "      <td>0.00</td>\n",
       "      <td>66.6</td>\n",
       "    </tr>\n",
       "  </tbody>\n",
       "</table>\n",
       "<p>232027 rows × 5 columns</p>\n",
       "</div>"
      ],
      "text/plain": [
       "        c_temp_pv  k_rpm_pv  n_temp_pv  scale_pv  s_temp_pv\n",
       "0            69.6       189       67.2      3.01       67.1\n",
       "1            69.8       189       67.2      3.01       67.0\n",
       "2            69.7       189       67.9      3.08       65.9\n",
       "3            69.7       189       67.8      3.08       65.9\n",
       "4            69.7       189       67.8      3.08       65.9\n",
       "...           ...       ...        ...       ...        ...\n",
       "232022       69.7       191       67.6      0.00       67.3\n",
       "232023       69.8       191       67.5      0.00       67.0\n",
       "232024       69.7       191       67.4      0.00       66.8\n",
       "232025       69.7       191       67.3      0.00       66.7\n",
       "232026       69.8       191       67.2      0.00       66.6\n",
       "\n",
       "[232027 rows x 5 columns]"
      ]
     },
     "execution_count": 37,
     "metadata": {},
     "output_type": "execute_result"
    }
   ],
   "source": [
    "dataDF"
   ]
  },
  {
   "cell_type": "code",
   "execution_count": 38,
   "metadata": {},
   "outputs": [],
   "source": [
    "dataDF = dataDF[(dataDF['scale_pv'] >= 2.7) & (dataDF['scale_pv'] <= 3.3)]\n",
    "# dataDF = dataDF[(dataDF['k_rpm_pv'] >= 170) & (dataDF['k_rpm_pv'] <= 200)]"
   ]
  },
  {
   "cell_type": "code",
   "execution_count": 40,
   "metadata": {},
   "outputs": [
    {
     "data": {
      "text/plain": [
       "3.04    5352\n",
       "3.05    5141\n",
       "3.03    4791\n",
       "3.06    4007\n",
       "3.02    3895\n",
       "3.07    3043\n",
       "3.01    2799\n",
       "3.08    2074\n",
       "3.00    1691\n",
       "3.09    1293\n",
       "2.99    1114\n",
       "3.10     653\n",
       "2.98     642\n",
       "3.11     401\n",
       "2.97     346\n",
       "3.12     217\n",
       "2.96     158\n",
       "2.95     134\n",
       "3.13     128\n",
       "3.15     118\n",
       "3.14      98\n",
       "3.16      49\n",
       "3.17      47\n",
       "2.94      43\n",
       "2.91      32\n",
       "3.20      32\n",
       "2.93      32\n",
       "3.19      30\n",
       "2.89      21\n",
       "3.18      21\n",
       "2.92      20\n",
       "3.22      17\n",
       "2.90      16\n",
       "3.21      15\n",
       "2.76      15\n",
       "3.25      12\n",
       "2.77      10\n",
       "3.29       9\n",
       "3.27       9\n",
       "2.82       7\n",
       "3.23       7\n",
       "2.85       7\n",
       "2.74       7\n",
       "2.75       7\n",
       "2.88       6\n",
       "2.86       5\n",
       "2.78       4\n",
       "2.87       4\n",
       "2.83       4\n",
       "2.80       4\n",
       "2.73       4\n",
       "2.72       4\n",
       "3.24       3\n",
       "2.71       2\n",
       "3.26       2\n",
       "2.79       2\n",
       "2.81       2\n",
       "2.84       2\n",
       "3.28       1\n",
       "Name: scale_pv, dtype: int64"
      ]
     },
     "execution_count": 40,
     "metadata": {},
     "output_type": "execute_result"
    }
   ],
   "source": [
    "dataDF['scale_pv'].value_counts()"
   ]
  },
  {
   "cell_type": "code",
   "execution_count": 41,
   "metadata": {},
   "outputs": [],
   "source": [
    "dataDF.to_csv('clean_data3.csv')"
   ]
  },
  {
   "cell_type": "code",
   "execution_count": 7,
   "metadata": {},
   "outputs": [],
   "source": [
    "dataDF = dataDF.reset_index(drop=True)"
   ]
  },
  {
   "cell_type": "code",
   "execution_count": 9,
   "metadata": {},
   "outputs": [
    {
     "data": {
      "text/html": [
       "<div>\n",
       "<style scoped>\n",
       "    .dataframe tbody tr th:only-of-type {\n",
       "        vertical-align: middle;\n",
       "    }\n",
       "\n",
       "    .dataframe tbody tr th {\n",
       "        vertical-align: top;\n",
       "    }\n",
       "\n",
       "    .dataframe thead th {\n",
       "        text-align: right;\n",
       "    }\n",
       "</style>\n",
       "<table border=\"1\" class=\"dataframe\">\n",
       "  <thead>\n",
       "    <tr style=\"text-align: right;\">\n",
       "      <th></th>\n",
       "      <th>c_temp_pv</th>\n",
       "      <th>k_rpm_pv</th>\n",
       "      <th>n_temp_pv</th>\n",
       "      <th>scale_pv</th>\n",
       "      <th>s_temp_pv</th>\n",
       "    </tr>\n",
       "  </thead>\n",
       "  <tbody>\n",
       "    <tr>\n",
       "      <th>c_temp_pv</th>\n",
       "      <td>1.000000</td>\n",
       "      <td>-0.087153</td>\n",
       "      <td>0.286607</td>\n",
       "      <td>-0.005216</td>\n",
       "      <td>0.147842</td>\n",
       "    </tr>\n",
       "    <tr>\n",
       "      <th>k_rpm_pv</th>\n",
       "      <td>-0.087153</td>\n",
       "      <td>1.000000</td>\n",
       "      <td>-0.049049</td>\n",
       "      <td>-0.068226</td>\n",
       "      <td>-0.049544</td>\n",
       "    </tr>\n",
       "    <tr>\n",
       "      <th>n_temp_pv</th>\n",
       "      <td>0.286607</td>\n",
       "      <td>-0.049049</td>\n",
       "      <td>1.000000</td>\n",
       "      <td>0.088858</td>\n",
       "      <td>0.527040</td>\n",
       "    </tr>\n",
       "    <tr>\n",
       "      <th>scale_pv</th>\n",
       "      <td>-0.005216</td>\n",
       "      <td>-0.068226</td>\n",
       "      <td>0.088858</td>\n",
       "      <td>1.000000</td>\n",
       "      <td>-0.000972</td>\n",
       "    </tr>\n",
       "    <tr>\n",
       "      <th>s_temp_pv</th>\n",
       "      <td>0.147842</td>\n",
       "      <td>-0.049544</td>\n",
       "      <td>0.527040</td>\n",
       "      <td>-0.000972</td>\n",
       "      <td>1.000000</td>\n",
       "    </tr>\n",
       "  </tbody>\n",
       "</table>\n",
       "</div>"
      ],
      "text/plain": [
       "           c_temp_pv  k_rpm_pv  n_temp_pv  scale_pv  s_temp_pv\n",
       "c_temp_pv   1.000000 -0.087153   0.286607 -0.005216   0.147842\n",
       "k_rpm_pv   -0.087153  1.000000  -0.049049 -0.068226  -0.049544\n",
       "n_temp_pv   0.286607 -0.049049   1.000000  0.088858   0.527040\n",
       "scale_pv   -0.005216 -0.068226   0.088858  1.000000  -0.000972\n",
       "s_temp_pv   0.147842 -0.049544   0.527040 -0.000972   1.000000"
      ]
     },
     "execution_count": 9,
     "metadata": {},
     "output_type": "execute_result"
    }
   ],
   "source": [
    "dataDF.corr()"
   ]
  },
  {
   "cell_type": "code",
   "execution_count": null,
   "metadata": {},
   "outputs": [],
   "source": [
    "# 온도 차이를 활용한 파생 변수\n",
    "dataDF['temp_diff_cn'] = dataDF['c_temp_pv'] - dataDF['n_temp_pv']\n",
    "dataDF['temp_diff_ns'] = dataDF['n_temp_pv'] - dataDF['s_temp_pv']\n",
    "dataDF['temp_diff_cs'] = dataDF['c_temp_pv'] - dataDF['s_temp_pv']\n"
   ]
  },
  {
   "cell_type": "code",
   "execution_count": null,
   "metadata": {},
   "outputs": [],
   "source": [
    "# 중량과 온도의 곱\n",
    "dataDF['weight_temp_c'] = dataDF['scale_pv'] * dataDF['c_temp_pv']\n",
    "dataDF['weight_temp_n'] = dataDF['scale_pv'] * dataDF['n_temp_pv']\n",
    "dataDF['weight_temp_s'] = dataDF['scale_pv'] * dataDF['s_temp_pv']\n"
   ]
  },
  {
   "cell_type": "code",
   "execution_count": null,
   "metadata": {},
   "outputs": [],
   "source": [
    "# 로그 변환\n",
    "dataDF['log_c_temp'] = np.log1p(dataDF['c_temp_pv'])\n",
    "dataDF['log_n_temp'] = np.log1p(dataDF['n_temp_pv'])\n",
    "dataDF['log_s_temp'] = np.log1p(dataDF['s_temp_pv'])\n",
    "dataDF['log_scale'] = np.log1p(dataDF['scale_pv'])\n"
   ]
  },
  {
   "cell_type": "code",
   "execution_count": 22,
   "metadata": {},
   "outputs": [
    {
     "name": "stdout",
     "output_type": "stream",
     "text": [
      "c_temp_pv       -0.087153\n",
      "k_rpm_pv         1.000000\n",
      "n_temp_pv       -0.049049\n",
      "scale_pv        -0.068226\n",
      "s_temp_pv       -0.049544\n",
      "temp_diff_cn    -0.004309\n",
      "temp_diff_ns     0.013134\n",
      "temp_diff_cs     0.007921\n",
      "weight_temp_c   -0.107533\n",
      "weight_temp_n   -0.077092\n",
      "weight_temp_s   -0.077353\n",
      "log_c_temp      -0.087047\n",
      "log_n_temp      -0.048756\n",
      "log_s_temp      -0.049191\n",
      "log_scale       -0.067473\n",
      "Name: k_rpm_pv, dtype: float64\n"
     ]
    }
   ],
   "source": [
    "correlation_matrix = dataDF.corr()\n",
    "print(correlation_matrix['k_rpm_pv'])"
   ]
  },
  {
   "cell_type": "code",
   "execution_count": 17,
   "metadata": {},
   "outputs": [
    {
     "name": "stdout",
     "output_type": "stream",
     "text": [
      "회귀식: k_rpm_pv = -0.2494 * weight_temp_c + 235.6876\n",
      "R^2: 0.0076, MSE: 30.7464\n"
     ]
    }
   ],
   "source": [
    "# weight_temp_c   -0.107533\n",
    "from sklearn.linear_model import LinearRegression\n",
    "from sklearn.model_selection import train_test_split\n",
    "from sklearn.metrics import mean_squared_error, r2_score\n",
    "\n",
    "# 데이터 준비 (예: DataFrame이 dataDF라고 가정)\n",
    "dataDF['weight_temp_c'] = dataDF['scale_pv'] * dataDF['c_temp_pv']  # 파생 변수 생성\n",
    "X = dataDF[['weight_temp_c']]  # 독립 변수\n",
    "y = dataDF['k_rpm_pv']         # 종속 변수\n",
    "\n",
    "# 데이터 분할 (훈련 세트와 테스트 세트)\n",
    "X_train, X_test, y_train, y_test = train_test_split(X, y, test_size=0.2, random_state=42)\n",
    "\n",
    "# 선형 회귀 모델 초기화 및 훈련\n",
    "model = LinearRegression()\n",
    "model.fit(X_train, y_train)\n",
    "\n",
    "# 회귀식의 계수와 절편\n",
    "coef = model.coef_[0]      # weight_temp_c의 계수\n",
    "intercept = model.intercept_  # 절편\n",
    "\n",
    "# 회귀식 출력\n",
    "print(f\"회귀식: k_rpm_pv = {coef:.4f} * weight_temp_c + {intercept:.4f}\")\n",
    "\n",
    "# 테스트 데이터에 대한 예측\n",
    "y_pred = model.predict(X_test)\n",
    "\n",
    "# 모델 성능 평가 (R^2와 MSE)\n",
    "r2 = r2_score(y_test, y_pred)\n",
    "mse = mean_squared_error(y_test, y_pred)\n",
    "print(f\"R^2: {r2:.4f}, MSE: {mse:.4f}\")\n"
   ]
  },
  {
   "cell_type": "code",
   "execution_count": 27,
   "metadata": {},
   "outputs": [
    {
     "data": {
      "image/png": "[encoded data removed]",
      "text/plain": [
       "<Figure size 1000x600 with 1 Axes>"
      ]
     },
     "metadata": {},
     "output_type": "display_data"
    }
   ],
   "source": [
    "# X_line 생성 (독립 변수의 범위 설정)\n",
    "X_line = np.linspace(200, 230, 10)\n",
    "\n",
    "# 회귀식을 통해 Y 값 계산\n",
    "y_line = coef * X_line + intercept\n",
    "\n",
    "# 산점도와 회귀선 시각화\n",
    "plt.figure(figsize=(10, 6))\n",
    "plt.scatter(X, y, color='blue', label='Data Points')\n",
    "plt.plot(X_line, y_line, color='red', label=f'Regression Line\\ny = {coef:.4f} * X + {intercept:.4f}')\n",
    "plt.title('Scatter Plot with Regression Line', fontsize=14)\n",
    "plt.xlabel('Independent Variable (X)', fontsize=12)\n",
    "plt.ylabel('Dependent Variable (y)', fontsize=12)\n",
    "plt.legend()\n",
    "plt.grid(True)\n",
    "plt.show()\n"
   ]
  },
  {
   "cell_type": "code",
   "execution_count": 28,
   "metadata": {},
   "outputs": [
    {
     "name": "stdout",
     "output_type": "stream",
     "text": [
      "Coefficients: [3766.09895379 -623.06636715], Intercept: -5507.881106670019\n"
     ]
    }
   ],
   "source": [
    "from sklearn.preprocessing import PolynomialFeatures\n",
    "from sklearn.linear_model import LinearRegression\n",
    "from sklearn.model_selection import train_test_split\n",
    "\n",
    "# 다항 특성 생성\n",
    "poly = PolynomialFeatures(degree=2, include_bias=False)\n",
    "X_poly = poly.fit_transform(dataDF[['scale_pv']])\n",
    "\n",
    "# 데이터 분할\n",
    "X_train, X_test, y_train, y_test = train_test_split(X_poly, dataDF['k_rpm_pv'], test_size=0.2, random_state=42)\n",
    "\n",
    "# 모델 훈련\n",
    "model = LinearRegression()\n",
    "model.fit(X_train, y_train)\n",
    "\n",
    "# 예측 및 평가\n",
    "y_pred = model.predict(X_test)\n",
    "print(f\"Coefficients: {model.coef_}, Intercept: {model.intercept_}\")\n"
   ]
  },
  {
   "cell_type": "code",
   "execution_count": 51,
   "metadata": {},
   "outputs": [
    {
     "data": {
      "text/plain": [
       "70.3    4625\n",
       "70.4    3877\n",
       "70.2    3689\n",
       "70.5    2983\n",
       "70.1    2367\n",
       "Name: c_temp_pv, dtype: int64"
      ]
     },
     "execution_count": 51,
     "metadata": {},
     "output_type": "execute_result"
    }
   ],
   "source": [
    "dataDF['c_temp_pv'].value_counts().sort_values(ascending=False).head(5)"
   ]
  },
  {
   "cell_type": "code",
   "execution_count": 53,
   "metadata": {},
   "outputs": [],
   "source": [
    "data_col = dataDF.columns"
   ]
  },
  {
   "cell_type": "code",
   "execution_count": 58,
   "metadata": {},
   "outputs": [
    {
     "name": "stdout",
     "output_type": "stream",
     "text": [
      "70.3    4625\n",
      "70.4    3877\n",
      "70.2    3689\n",
      "70.5    2983\n",
      "70.1    2367\n",
      "70.6    1900\n",
      "70.0    1804\n",
      "69.5    1613\n",
      "70.7    1608\n",
      "69.4    1513\n",
      "70.8    1513\n",
      "69.9    1410\n",
      "70.9    1369\n",
      "69.6    1225\n",
      "69.7    1180\n",
      "69.8    1137\n",
      "71.0    1019\n",
      "71.2     810\n",
      "69.3     789\n",
      "71.1     743\n",
      "Name: c_temp_pv, dtype: int64\n",
      "187    3140\n",
      "176    3004\n",
      "186    2853\n",
      "188    2851\n",
      "177    2131\n",
      "184    2086\n",
      "175    2004\n",
      "179    1990\n",
      "181    1881\n",
      "189    1701\n",
      "180    1624\n",
      "183    1584\n",
      "182    1447\n",
      "178    1412\n",
      "185    1172\n",
      "190     898\n",
      "174     776\n",
      "191     746\n",
      "193     720\n",
      "173     605\n",
      "Name: k_rpm_pv, dtype: int64\n",
      "67.0    2863\n",
      "67.2    2792\n",
      "67.1    2736\n",
      "66.9    2522\n",
      "67.3    2376\n",
      "67.4    2269\n",
      "66.8    2175\n",
      "67.5    1994\n",
      "66.7    1889\n",
      "67.6    1848\n",
      "67.7    1383\n",
      "66.6    1258\n",
      "67.8    1106\n",
      "67.9     921\n",
      "66.5     774\n",
      "68.0     664\n",
      "68.1     513\n",
      "68.9     490\n",
      "68.5     488\n",
      "68.6     481\n",
      "Name: n_temp_pv, dtype: int64\n",
      "3.04    5352\n",
      "3.05    5141\n",
      "3.03    4791\n",
      "3.06    4007\n",
      "3.02    3895\n",
      "3.07    3043\n",
      "3.01    2799\n",
      "3.08    2074\n",
      "3.00    1691\n",
      "3.09    1293\n",
      "2.99    1114\n",
      "3.10     653\n",
      "2.98     642\n",
      "3.11     401\n",
      "2.97     346\n",
      "3.12     217\n",
      "2.96     158\n",
      "2.95     134\n",
      "3.13     128\n",
      "3.15     118\n",
      "Name: scale_pv, dtype: int64\n",
      "66.1    1705\n",
      "66.2    1665\n",
      "68.3    1558\n",
      "66.3    1499\n",
      "66.0    1478\n",
      "68.2    1457\n",
      "66.4    1379\n",
      "66.5    1242\n",
      "66.9    1224\n",
      "68.1    1209\n",
      "66.6    1179\n",
      "68.4    1168\n",
      "67.0    1159\n",
      "67.1    1152\n",
      "66.7    1136\n",
      "66.8    1128\n",
      "68.0    1121\n",
      "67.9    1117\n",
      "67.2    1106\n",
      "67.8    1106\n",
      "Name: s_temp_pv, dtype: int64\n"
     ]
    }
   ],
   "source": [
    "for n in data_col:\n",
    "    print(dataDF[n].value_counts().sort_values(ascending=False).head(20))"
   ]
  },
  {
   "cell_type": "code",
   "execution_count": 59,
   "metadata": {},
   "outputs": [
    {
     "data": {
      "text/plain": [
       "(34.59580627172676, 0.3749098458669746)"
      ]
     },
     "execution_count": 59,
     "metadata": {},
     "output_type": "execute_result"
    }
   ],
   "source": [
    "from sklearn.ensemble import RandomForestRegressor\n",
    "data = dataDF\n",
    "\n",
    "# Using additional variables for multivariate regression\n",
    "X = data[['scale_pv', 'c_temp_pv', 'n_temp_pv', 's_temp_pv']]\n",
    "y = data['k_rpm_pv']\n",
    "\n",
    "# Splitting the data again with additional features\n",
    "X_train, X_test, y_train, y_test = train_test_split(X, y, test_size=0.2, random_state=42)\n",
    "\n",
    "# Training a Random Forest model with multiple features\n",
    "rf_model_multi = RandomForestRegressor(n_estimators=100, random_state=42)\n",
    "rf_model_multi.fit(X_train, y_train)\n",
    "\n",
    "# Predictions and evaluation\n",
    "y_pred_rf_multi = rf_model_multi.predict(X_test)\n",
    "mse_rf_multi = mean_squared_error(y_test, y_pred_rf_multi)\n",
    "r2_rf_multi = r2_score(y_test, y_pred_rf_multi)\n",
    "\n",
    "mse_rf_multi, r2_rf_multi\n"
   ]
  },
  {
   "cell_type": "code",
   "execution_count": 61,
   "metadata": {},
   "outputs": [
    {
     "data": {
      "text/html": [
       "<div>\n",
       "<style scoped>\n",
       "    .dataframe tbody tr th:only-of-type {\n",
       "        vertical-align: middle;\n",
       "    }\n",
       "\n",
       "    .dataframe tbody tr th {\n",
       "        vertical-align: top;\n",
       "    }\n",
       "\n",
       "    .dataframe thead th {\n",
       "        text-align: right;\n",
       "    }\n",
       "</style>\n",
       "<table border=\"1\" class=\"dataframe\">\n",
       "  <thead>\n",
       "    <tr style=\"text-align: right;\">\n",
       "      <th></th>\n",
       "      <th>scale_pv</th>\n",
       "      <th>c_temp_pv</th>\n",
       "      <th>n_temp_pv</th>\n",
       "      <th>s_temp_pv</th>\n",
       "    </tr>\n",
       "  </thead>\n",
       "  <tbody>\n",
       "    <tr>\n",
       "      <th>99390</th>\n",
       "      <td>3.03</td>\n",
       "      <td>70.3</td>\n",
       "      <td>67.0</td>\n",
       "      <td>66.1</td>\n",
       "    </tr>\n",
       "    <tr>\n",
       "      <th>1249</th>\n",
       "      <td>3.08</td>\n",
       "      <td>70.3</td>\n",
       "      <td>69.9</td>\n",
       "      <td>68.2</td>\n",
       "    </tr>\n",
       "    <tr>\n",
       "      <th>147469</th>\n",
       "      <td>3.04</td>\n",
       "      <td>69.8</td>\n",
       "      <td>70.7</td>\n",
       "      <td>68.3</td>\n",
       "    </tr>\n",
       "    <tr>\n",
       "      <th>155407</th>\n",
       "      <td>3.07</td>\n",
       "      <td>69.5</td>\n",
       "      <td>66.9</td>\n",
       "      <td>67.1</td>\n",
       "    </tr>\n",
       "    <tr>\n",
       "      <th>74344</th>\n",
       "      <td>3.00</td>\n",
       "      <td>70.5</td>\n",
       "      <td>67.5</td>\n",
       "      <td>66.1</td>\n",
       "    </tr>\n",
       "    <tr>\n",
       "      <th>...</th>\n",
       "      <td>...</td>\n",
       "      <td>...</td>\n",
       "      <td>...</td>\n",
       "      <td>...</td>\n",
       "    </tr>\n",
       "    <tr>\n",
       "      <th>135774</th>\n",
       "      <td>3.04</td>\n",
       "      <td>69.9</td>\n",
       "      <td>67.1</td>\n",
       "      <td>67.3</td>\n",
       "    </tr>\n",
       "    <tr>\n",
       "      <th>226752</th>\n",
       "      <td>3.07</td>\n",
       "      <td>69.7</td>\n",
       "      <td>67.1</td>\n",
       "      <td>66.7</td>\n",
       "    </tr>\n",
       "    <tr>\n",
       "      <th>50108</th>\n",
       "      <td>3.04</td>\n",
       "      <td>70.4</td>\n",
       "      <td>66.6</td>\n",
       "      <td>68.5</td>\n",
       "    </tr>\n",
       "    <tr>\n",
       "      <th>142857</th>\n",
       "      <td>3.05</td>\n",
       "      <td>70.3</td>\n",
       "      <td>67.5</td>\n",
       "      <td>66.0</td>\n",
       "    </tr>\n",
       "    <tr>\n",
       "      <th>5905</th>\n",
       "      <td>3.01</td>\n",
       "      <td>69.3</td>\n",
       "      <td>67.1</td>\n",
       "      <td>67.0</td>\n",
       "    </tr>\n",
       "  </tbody>\n",
       "</table>\n",
       "<p>7722 rows × 4 columns</p>\n",
       "</div>"
      ],
      "text/plain": [
       "        scale_pv  c_temp_pv  n_temp_pv  s_temp_pv\n",
       "99390       3.03       70.3       67.0       66.1\n",
       "1249        3.08       70.3       69.9       68.2\n",
       "147469      3.04       69.8       70.7       68.3\n",
       "155407      3.07       69.5       66.9       67.1\n",
       "74344       3.00       70.5       67.5       66.1\n",
       "...          ...        ...        ...        ...\n",
       "135774      3.04       69.9       67.1       67.3\n",
       "226752      3.07       69.7       67.1       66.7\n",
       "50108       3.04       70.4       66.6       68.5\n",
       "142857      3.05       70.3       67.5       66.0\n",
       "5905        3.01       69.3       67.1       67.0\n",
       "\n",
       "[7722 rows x 4 columns]"
      ]
     },
     "execution_count": 61,
     "metadata": {},
     "output_type": "execute_result"
    }
   ],
   "source": [
    "X_test"
   ]
  },
  {
   "cell_type": "code",
   "execution_count": 62,
   "metadata": {},
   "outputs": [
    {
     "data": {
      "text/plain": [
       "99390     177\n",
       "1249      167\n",
       "147469    167\n",
       "155407    175\n",
       "74344     163\n",
       "         ... \n",
       "135774    188\n",
       "226752    188\n",
       "50108     170\n",
       "142857    189\n",
       "5905      187\n",
       "Name: k_rpm_pv, Length: 7722, dtype: int64"
      ]
     },
     "execution_count": 62,
     "metadata": {},
     "output_type": "execute_result"
    }
   ],
   "source": [
    "y_test"
   ]
  },
  {
   "cell_type": "code",
   "execution_count": 70,
   "metadata": {},
   "outputs": [
    {
     "name": "stderr",
     "output_type": "stream",
     "text": [
      "c:\\Users\\KDP-14\\anaconda3\\envs\\commate\\lib\\site-packages\\sklearn\\base.py:439: UserWarning: X does not have valid feature names, but RandomForestRegressor was fitted with feature names\n",
      "  warnings.warn(\n"
     ]
    },
    {
     "data": {
      "text/plain": [
       "array([178.0602381])"
      ]
     },
     "execution_count": 70,
     "metadata": {},
     "output_type": "execute_result"
    }
   ],
   "source": [
    "rf_model_multi.predict([[3.04,\t70.4\t,66.6\t,68.5]])"
   ]
  },
  {
   "cell_type": "code",
   "execution_count": null,
   "metadata": {},
   "outputs": [],
   "source": []
  }
 ],
 "metadata": {
  "kernelspec": {
   "display_name": "commate",
   "language": "python",
   "name": "python3"
  },
  "language_info": {
   "codemirror_mode": {
    "name": "ipython",
    "version": 3
   },
   "file_extension": ".py",
   "mimetype": "text/x-python",
   "name": "python",
   "nbconvert_exporter": "python",
   "pygments_lexer": "ipython3",
   "version": "3.8.20"
  }
 },
 "nbformat": 4,
 "nbformat_minor": 2
}
