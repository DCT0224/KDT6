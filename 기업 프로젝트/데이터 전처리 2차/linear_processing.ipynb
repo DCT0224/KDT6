{
 "cells": [
  {
   "cell_type": "markdown",
   "metadata": {},
   "source": [
    "## 결측치 및 이상치 처리 방안(Linear)\n",
    "1. 사출온도 설정값 = 0  지움(48개)\n",
    "2. k_rpm 실제값 = 0 & 40 지움 (이상치)\n",
    "3. 물 & 손 무게 0으로 바꿈."
   ]
  },
  {
   "cell_type": "code",
   "execution_count": 46,
   "metadata": {},
   "outputs": [],
   "source": [
    "import pandas as pd\n",
    "import numpy as np\n",
    "import matplotlib.pyplot as plt"
   ]
  },
  {
   "cell_type": "code",
   "execution_count": 47,
   "metadata": {},
   "outputs": [],
   "source": [
    "## 데이터 셋 DF로 전환\n",
    "dataDF = pd.read_csv(r'C:\\Users\\KDP-14\\Desktop\\VSCode\\KDT6\\기업 프로젝트\\데이터 전처리 2차\\clean_data2.csv')"
   ]
  },
  {
   "cell_type": "code",
   "execution_count": 48,
   "metadata": {},
   "outputs": [
    {
     "data": {
      "text/html": [
       "<div>\n",
       "<style scoped>\n",
       "    .dataframe tbody tr th:only-of-type {\n",
       "        vertical-align: middle;\n",
       "    }\n",
       "\n",
       "    .dataframe tbody tr th {\n",
       "        vertical-align: top;\n",
       "    }\n",
       "\n",
       "    .dataframe thead th {\n",
       "        text-align: right;\n",
       "    }\n",
       "</style>\n",
       "<table border=\"1\" class=\"dataframe\">\n",
       "  <thead>\n",
       "    <tr style=\"text-align: right;\">\n",
       "      <th></th>\n",
       "      <th>c_temp_pv</th>\n",
       "      <th>k_rpm_pv</th>\n",
       "      <th>n_temp_pv</th>\n",
       "      <th>scale_pv</th>\n",
       "      <th>s_temp_pv</th>\n",
       "    </tr>\n",
       "  </thead>\n",
       "  <tbody>\n",
       "    <tr>\n",
       "      <th>0</th>\n",
       "      <td>69.6</td>\n",
       "      <td>189</td>\n",
       "      <td>67.2</td>\n",
       "      <td>3.01</td>\n",
       "      <td>67.1</td>\n",
       "    </tr>\n",
       "    <tr>\n",
       "      <th>1</th>\n",
       "      <td>69.8</td>\n",
       "      <td>189</td>\n",
       "      <td>67.2</td>\n",
       "      <td>3.01</td>\n",
       "      <td>67.0</td>\n",
       "    </tr>\n",
       "    <tr>\n",
       "      <th>2</th>\n",
       "      <td>69.7</td>\n",
       "      <td>189</td>\n",
       "      <td>67.9</td>\n",
       "      <td>3.08</td>\n",
       "      <td>65.9</td>\n",
       "    </tr>\n",
       "    <tr>\n",
       "      <th>3</th>\n",
       "      <td>69.7</td>\n",
       "      <td>189</td>\n",
       "      <td>67.8</td>\n",
       "      <td>3.08</td>\n",
       "      <td>65.9</td>\n",
       "    </tr>\n",
       "    <tr>\n",
       "      <th>4</th>\n",
       "      <td>69.7</td>\n",
       "      <td>189</td>\n",
       "      <td>67.8</td>\n",
       "      <td>3.08</td>\n",
       "      <td>65.9</td>\n",
       "    </tr>\n",
       "    <tr>\n",
       "      <th>...</th>\n",
       "      <td>...</td>\n",
       "      <td>...</td>\n",
       "      <td>...</td>\n",
       "      <td>...</td>\n",
       "      <td>...</td>\n",
       "    </tr>\n",
       "    <tr>\n",
       "      <th>232022</th>\n",
       "      <td>69.7</td>\n",
       "      <td>191</td>\n",
       "      <td>67.6</td>\n",
       "      <td>0.00</td>\n",
       "      <td>67.3</td>\n",
       "    </tr>\n",
       "    <tr>\n",
       "      <th>232023</th>\n",
       "      <td>69.8</td>\n",
       "      <td>191</td>\n",
       "      <td>67.5</td>\n",
       "      <td>0.00</td>\n",
       "      <td>67.0</td>\n",
       "    </tr>\n",
       "    <tr>\n",
       "      <th>232024</th>\n",
       "      <td>69.7</td>\n",
       "      <td>191</td>\n",
       "      <td>67.4</td>\n",
       "      <td>0.00</td>\n",
       "      <td>66.8</td>\n",
       "    </tr>\n",
       "    <tr>\n",
       "      <th>232025</th>\n",
       "      <td>69.7</td>\n",
       "      <td>191</td>\n",
       "      <td>67.3</td>\n",
       "      <td>0.00</td>\n",
       "      <td>66.7</td>\n",
       "    </tr>\n",
       "    <tr>\n",
       "      <th>232026</th>\n",
       "      <td>69.8</td>\n",
       "      <td>191</td>\n",
       "      <td>67.2</td>\n",
       "      <td>0.00</td>\n",
       "      <td>66.6</td>\n",
       "    </tr>\n",
       "  </tbody>\n",
       "</table>\n",
       "<p>232027 rows × 5 columns</p>\n",
       "</div>"
      ],
      "text/plain": [
       "        c_temp_pv  k_rpm_pv  n_temp_pv  scale_pv  s_temp_pv\n",
       "0            69.6       189       67.2      3.01       67.1\n",
       "1            69.8       189       67.2      3.01       67.0\n",
       "2            69.7       189       67.9      3.08       65.9\n",
       "3            69.7       189       67.8      3.08       65.9\n",
       "4            69.7       189       67.8      3.08       65.9\n",
       "...           ...       ...        ...       ...        ...\n",
       "232022       69.7       191       67.6      0.00       67.3\n",
       "232023       69.8       191       67.5      0.00       67.0\n",
       "232024       69.7       191       67.4      0.00       66.8\n",
       "232025       69.7       191       67.3      0.00       66.7\n",
       "232026       69.8       191       67.2      0.00       66.6\n",
       "\n",
       "[232027 rows x 5 columns]"
      ]
     },
     "execution_count": 48,
     "metadata": {},
     "output_type": "execute_result"
    }
   ],
   "source": [
    "dataDF"
   ]
  },
  {
   "cell_type": "code",
   "execution_count": 49,
   "metadata": {},
   "outputs": [
    {
     "name": "stdout",
     "output_type": "stream",
     "text": [
      "<class 'pandas.core.frame.DataFrame'>\n",
      "RangeIndex: 232027 entries, 0 to 232026\n",
      "Data columns (total 5 columns):\n",
      " #   Column     Non-Null Count   Dtype  \n",
      "---  ------     --------------   -----  \n",
      " 0   c_temp_pv  232027 non-null  float64\n",
      " 1   k_rpm_pv   232027 non-null  int64  \n",
      " 2   n_temp_pv  232027 non-null  float64\n",
      " 3   scale_pv   232027 non-null  float64\n",
      " 4   s_temp_pv  232027 non-null  float64\n",
      "dtypes: float64(4), int64(1)\n",
      "memory usage: 8.9 MB\n"
     ]
    }
   ],
   "source": [
    "dataDF.info()"
   ]
  },
  {
   "cell_type": "code",
   "execution_count": 50,
   "metadata": {},
   "outputs": [
    {
     "data": {
      "text/plain": [
       "[0.0,\n",
       " 0.01,\n",
       " 0.02,\n",
       " 0.03,\n",
       " 0.04,\n",
       " 0.05,\n",
       " 0.06,\n",
       " 0.07,\n",
       " 0.08,\n",
       " 0.1,\n",
       " 0.11,\n",
       " 0.12,\n",
       " 0.13,\n",
       " 0.15,\n",
       " 0.16,\n",
       " 0.17,\n",
       " 0.18,\n",
       " 0.19,\n",
       " 0.2,\n",
       " 0.21,\n",
       " 0.22,\n",
       " 0.23,\n",
       " 0.39,\n",
       " 0.82,\n",
       " 0.85,\n",
       " 2.0,\n",
       " 2.56,\n",
       " 2.57,\n",
       " 2.69,\n",
       " 2.71,\n",
       " 2.72,\n",
       " 2.73,\n",
       " 2.74,\n",
       " 2.75,\n",
       " 2.76,\n",
       " 2.77,\n",
       " 2.78,\n",
       " 2.79,\n",
       " 2.8,\n",
       " 2.81,\n",
       " 2.82,\n",
       " 2.83,\n",
       " 2.84,\n",
       " 2.85,\n",
       " 2.86,\n",
       " 2.87,\n",
       " 2.88,\n",
       " 2.89,\n",
       " 2.9,\n",
       " 2.91,\n",
       " 2.92,\n",
       " 2.93,\n",
       " 2.94,\n",
       " 2.95,\n",
       " 2.96,\n",
       " 2.97,\n",
       " 2.98,\n",
       " 2.99,\n",
       " 3.0,\n",
       " 3.01,\n",
       " 3.02,\n",
       " 3.03,\n",
       " 3.04,\n",
       " 3.05,\n",
       " 3.06,\n",
       " 3.07,\n",
       " 3.08,\n",
       " 3.09,\n",
       " 3.1,\n",
       " 3.11,\n",
       " 3.12,\n",
       " 3.13,\n",
       " 3.14,\n",
       " 3.15,\n",
       " 3.16,\n",
       " 3.17,\n",
       " 3.18,\n",
       " 3.19,\n",
       " 3.2,\n",
       " 3.21,\n",
       " 3.22,\n",
       " 3.23,\n",
       " 3.24,\n",
       " 3.25,\n",
       " 3.26,\n",
       " 3.27,\n",
       " 3.28,\n",
       " 3.29,\n",
       " 3.34,\n",
       " 3.35,\n",
       " 3.37,\n",
       " 3.41,\n",
       " 3.43,\n",
       " 3.49,\n",
       " 9.17,\n",
       " 9.18,\n",
       " 15.1,\n",
       " 15.3,\n",
       " 655.04,\n",
       " 655.19,\n",
       " 655.2,\n",
       " 655.21,\n",
       " 655.22,\n",
       " 655.23,\n",
       " 655.24,\n",
       " 655.25,\n",
       " 655.26,\n",
       " 655.27,\n",
       " 655.28,\n",
       " 655.29,\n",
       " 655.3,\n",
       " 655.31,\n",
       " 655.32,\n",
       " 655.33,\n",
       " 655.34,\n",
       " 655.35]"
      ]
     },
     "execution_count": 50,
     "metadata": {},
     "output_type": "execute_result"
    }
   ],
   "source": [
    "## 물, 손 무게 0으로 바꿈\n",
    "list(dataDF['scale_pv'].value_counts().index.sort_values())\n",
    "# 어디까지가 물이고 어디까지가 고무고 어디까지가 사람 손이냐\n",
    "# 2.0 = 1개 -> 버림(개수가 적고 유효한 값이 아니라고 판단)\n",
    "# "
   ]
  },
  {
   "cell_type": "code",
   "execution_count": 51,
   "metadata": {},
   "outputs": [],
   "source": [
    "## 1. 넓은 범위로 생각해보기(2.7~3.3) 2.9 ~ 3.1까지 정상 데이터로 처리\n",
    "\n",
    "def change_scale(dataDF, x, y):\n",
    "    # scale_pv가 x와 y 사이인 값은 유지, 그렇지 않은 값은 0으로 설정\n",
    "    dataDF['scale_pv'] = dataDF['scale_pv'].apply(lambda value: value if float(x) <= value <= float(y) else 0)\n",
    "    return dataDF\n"
   ]
  },
  {
   "cell_type": "code",
   "execution_count": 52,
   "metadata": {},
   "outputs": [
    {
     "data": {
      "text/html": [
       "<div>\n",
       "<style scoped>\n",
       "    .dataframe tbody tr th:only-of-type {\n",
       "        vertical-align: middle;\n",
       "    }\n",
       "\n",
       "    .dataframe tbody tr th {\n",
       "        vertical-align: top;\n",
       "    }\n",
       "\n",
       "    .dataframe thead th {\n",
       "        text-align: right;\n",
       "    }\n",
       "</style>\n",
       "<table border=\"1\" class=\"dataframe\">\n",
       "  <thead>\n",
       "    <tr style=\"text-align: right;\">\n",
       "      <th></th>\n",
       "      <th>c_temp_pv</th>\n",
       "      <th>k_rpm_pv</th>\n",
       "      <th>n_temp_pv</th>\n",
       "      <th>scale_pv</th>\n",
       "      <th>s_temp_pv</th>\n",
       "    </tr>\n",
       "  </thead>\n",
       "  <tbody>\n",
       "    <tr>\n",
       "      <th>0</th>\n",
       "      <td>69.6</td>\n",
       "      <td>189</td>\n",
       "      <td>67.2</td>\n",
       "      <td>3.01</td>\n",
       "      <td>67.1</td>\n",
       "    </tr>\n",
       "    <tr>\n",
       "      <th>1</th>\n",
       "      <td>69.8</td>\n",
       "      <td>189</td>\n",
       "      <td>67.2</td>\n",
       "      <td>3.01</td>\n",
       "      <td>67.0</td>\n",
       "    </tr>\n",
       "    <tr>\n",
       "      <th>2</th>\n",
       "      <td>69.7</td>\n",
       "      <td>189</td>\n",
       "      <td>67.9</td>\n",
       "      <td>3.08</td>\n",
       "      <td>65.9</td>\n",
       "    </tr>\n",
       "    <tr>\n",
       "      <th>3</th>\n",
       "      <td>69.7</td>\n",
       "      <td>189</td>\n",
       "      <td>67.8</td>\n",
       "      <td>3.08</td>\n",
       "      <td>65.9</td>\n",
       "    </tr>\n",
       "    <tr>\n",
       "      <th>4</th>\n",
       "      <td>69.7</td>\n",
       "      <td>189</td>\n",
       "      <td>67.8</td>\n",
       "      <td>3.08</td>\n",
       "      <td>65.9</td>\n",
       "    </tr>\n",
       "    <tr>\n",
       "      <th>...</th>\n",
       "      <td>...</td>\n",
       "      <td>...</td>\n",
       "      <td>...</td>\n",
       "      <td>...</td>\n",
       "      <td>...</td>\n",
       "    </tr>\n",
       "    <tr>\n",
       "      <th>232022</th>\n",
       "      <td>69.7</td>\n",
       "      <td>191</td>\n",
       "      <td>67.6</td>\n",
       "      <td>0.00</td>\n",
       "      <td>67.3</td>\n",
       "    </tr>\n",
       "    <tr>\n",
       "      <th>232023</th>\n",
       "      <td>69.8</td>\n",
       "      <td>191</td>\n",
       "      <td>67.5</td>\n",
       "      <td>0.00</td>\n",
       "      <td>67.0</td>\n",
       "    </tr>\n",
       "    <tr>\n",
       "      <th>232024</th>\n",
       "      <td>69.7</td>\n",
       "      <td>191</td>\n",
       "      <td>67.4</td>\n",
       "      <td>0.00</td>\n",
       "      <td>66.8</td>\n",
       "    </tr>\n",
       "    <tr>\n",
       "      <th>232025</th>\n",
       "      <td>69.7</td>\n",
       "      <td>191</td>\n",
       "      <td>67.3</td>\n",
       "      <td>0.00</td>\n",
       "      <td>66.7</td>\n",
       "    </tr>\n",
       "    <tr>\n",
       "      <th>232026</th>\n",
       "      <td>69.8</td>\n",
       "      <td>191</td>\n",
       "      <td>67.2</td>\n",
       "      <td>0.00</td>\n",
       "      <td>66.6</td>\n",
       "    </tr>\n",
       "  </tbody>\n",
       "</table>\n",
       "<p>232027 rows × 5 columns</p>\n",
       "</div>"
      ],
      "text/plain": [
       "        c_temp_pv  k_rpm_pv  n_temp_pv  scale_pv  s_temp_pv\n",
       "0            69.6       189       67.2      3.01       67.1\n",
       "1            69.8       189       67.2      3.01       67.0\n",
       "2            69.7       189       67.9      3.08       65.9\n",
       "3            69.7       189       67.8      3.08       65.9\n",
       "4            69.7       189       67.8      3.08       65.9\n",
       "...           ...       ...        ...       ...        ...\n",
       "232022       69.7       191       67.6      0.00       67.3\n",
       "232023       69.8       191       67.5      0.00       67.0\n",
       "232024       69.7       191       67.4      0.00       66.8\n",
       "232025       69.7       191       67.3      0.00       66.7\n",
       "232026       69.8       191       67.2      0.00       66.6\n",
       "\n",
       "[232027 rows x 5 columns]"
      ]
     },
     "execution_count": 52,
     "metadata": {},
     "output_type": "execute_result"
    }
   ],
   "source": [
    "change_scale(dataDF,2.7,3.3)"
   ]
  },
  {
   "cell_type": "code",
   "execution_count": 53,
   "metadata": {},
   "outputs": [
    {
     "data": {
      "text/plain": [
       "Index([ 0.0, 2.71, 2.72, 2.73, 2.74, 2.75, 2.76, 2.77, 2.78, 2.79,  2.8, 2.81,\n",
       "       2.82, 2.83, 2.84, 2.85, 2.86, 2.87, 2.88, 2.89,  2.9, 2.91, 2.92, 2.93,\n",
       "       2.94, 2.95, 2.96, 2.97, 2.98, 2.99,  3.0, 3.01, 3.02, 3.03, 3.04, 3.05,\n",
       "       3.06, 3.07, 3.08, 3.09,  3.1, 3.11, 3.12, 3.13, 3.14, 3.15, 3.16, 3.17,\n",
       "       3.18, 3.19,  3.2, 3.21, 3.22, 3.23, 3.24, 3.25, 3.26, 3.27, 3.28, 3.29],\n",
       "      dtype='float64', name='scale_pv')"
      ]
     },
     "execution_count": 53,
     "metadata": {},
     "output_type": "execute_result"
    }
   ],
   "source": [
    "dataDF['scale_pv'].value_counts().index.sort_values()"
   ]
  },
  {
   "cell_type": "code",
   "execution_count": 54,
   "metadata": {},
   "outputs": [],
   "source": [
    "dataDF = dataDF[~(dataDF['scale_pv'] == 0)]"
   ]
  },
  {
   "cell_type": "code",
   "execution_count": 55,
   "metadata": {},
   "outputs": [
    {
     "data": {
      "text/plain": [
       "Index([2.71, 2.72, 2.73, 2.74, 2.75, 2.76, 2.77, 2.78, 2.79,  2.8, 2.81, 2.82,\n",
       "       2.83, 2.84, 2.85, 2.86, 2.87, 2.88, 2.89,  2.9, 2.91, 2.92, 2.93, 2.94,\n",
       "       2.95, 2.96, 2.97, 2.98, 2.99,  3.0, 3.01, 3.02, 3.03, 3.04, 3.05, 3.06,\n",
       "       3.07, 3.08, 3.09,  3.1, 3.11, 3.12, 3.13, 3.14, 3.15, 3.16, 3.17, 3.18,\n",
       "       3.19,  3.2, 3.21, 3.22, 3.23, 3.24, 3.25, 3.26, 3.27, 3.28, 3.29],\n",
       "      dtype='float64', name='scale_pv')"
      ]
     },
     "execution_count": 55,
     "metadata": {},
     "output_type": "execute_result"
    }
   ],
   "source": [
    "dataDF['scale_pv'].value_counts().index.sort_values()"
   ]
  },
  {
   "cell_type": "code",
   "execution_count": 56,
   "metadata": {},
   "outputs": [],
   "source": [
    "dataDF.reset_index(drop=True,inplace=True)"
   ]
  },
  {
   "cell_type": "markdown",
   "metadata": {},
   "source": [
    "## LinearReg를 이용해서 결측치 채우기"
   ]
  },
  {
   "cell_type": "code",
   "execution_count": 57,
   "metadata": {},
   "outputs": [],
   "source": [
    "# 모듈 로딩\n",
    "from sklearn.linear_model import LinearRegression\n",
    "from sklearn.model_selection import train_test_split"
   ]
  },
  {
   "cell_type": "code",
   "execution_count": 58,
   "metadata": {},
   "outputs": [],
   "source": [
    "target = dataDF['scale_pv']\n",
    "feature = dataDF.drop(columns='scale_pv')"
   ]
  },
  {
   "cell_type": "code",
   "execution_count": 59,
   "metadata": {},
   "outputs": [],
   "source": [
    "model = LinearRegression()"
   ]
  },
  {
   "cell_type": "code",
   "execution_count": 60,
   "metadata": {},
   "outputs": [
    {
     "data": {
      "text/html": [
       "<style>#sk-container-id-2 {color: black;}#sk-container-id-2 pre{padding: 0;}#sk-container-id-2 div.sk-toggleable {background-color: white;}#sk-container-id-2 label.sk-toggleable__label {cursor: pointer;display: block;width: 100%;margin-bottom: 0;padding: 0.3em;box-sizing: border-box;text-align: center;}#sk-container-id-2 label.sk-toggleable__label-arrow:before {content: \"▸\";float: left;margin-right: 0.25em;color: #696969;}#sk-container-id-2 label.sk-toggleable__label-arrow:hover:before {color: black;}#sk-container-id-2 div.sk-estimator:hover label.sk-toggleable__label-arrow:before {color: black;}#sk-container-id-2 div.sk-toggleable__content {max-height: 0;max-width: 0;overflow: hidden;text-align: left;background-color: #f0f8ff;}#sk-container-id-2 div.sk-toggleable__content pre {margin: 0.2em;color: black;border-radius: 0.25em;background-color: #f0f8ff;}#sk-container-id-2 input.sk-toggleable__control:checked~div.sk-toggleable__content {max-height: 200px;max-width: 100%;overflow: auto;}#sk-container-id-2 input.sk-toggleable__control:checked~label.sk-toggleable__label-arrow:before {content: \"▾\";}#sk-container-id-2 div.sk-estimator input.sk-toggleable__control:checked~label.sk-toggleable__label {background-color: #d4ebff;}#sk-container-id-2 div.sk-label input.sk-toggleable__control:checked~label.sk-toggleable__label {background-color: #d4ebff;}#sk-container-id-2 input.sk-hidden--visually {border: 0;clip: rect(1px 1px 1px 1px);clip: rect(1px, 1px, 1px, 1px);height: 1px;margin: -1px;overflow: hidden;padding: 0;position: absolute;width: 1px;}#sk-container-id-2 div.sk-estimator {font-family: monospace;background-color: #f0f8ff;border: 1px dotted black;border-radius: 0.25em;box-sizing: border-box;margin-bottom: 0.5em;}#sk-container-id-2 div.sk-estimator:hover {background-color: #d4ebff;}#sk-container-id-2 div.sk-parallel-item::after {content: \"\";width: 100%;border-bottom: 1px solid gray;flex-grow: 1;}#sk-container-id-2 div.sk-label:hover label.sk-toggleable__label {background-color: #d4ebff;}#sk-container-id-2 div.sk-serial::before {content: \"\";position: absolute;border-left: 1px solid gray;box-sizing: border-box;top: 0;bottom: 0;left: 50%;z-index: 0;}#sk-container-id-2 div.sk-serial {display: flex;flex-direction: column;align-items: center;background-color: white;padding-right: 0.2em;padding-left: 0.2em;position: relative;}#sk-container-id-2 div.sk-item {position: relative;z-index: 1;}#sk-container-id-2 div.sk-parallel {display: flex;align-items: stretch;justify-content: center;background-color: white;position: relative;}#sk-container-id-2 div.sk-item::before, #sk-container-id-2 div.sk-parallel-item::before {content: \"\";position: absolute;border-left: 1px solid gray;box-sizing: border-box;top: 0;bottom: 0;left: 50%;z-index: -1;}#sk-container-id-2 div.sk-parallel-item {display: flex;flex-direction: column;z-index: 1;position: relative;background-color: white;}#sk-container-id-2 div.sk-parallel-item:first-child::after {align-self: flex-end;width: 50%;}#sk-container-id-2 div.sk-parallel-item:last-child::after {align-self: flex-start;width: 50%;}#sk-container-id-2 div.sk-parallel-item:only-child::after {width: 0;}#sk-container-id-2 div.sk-dashed-wrapped {border: 1px dashed gray;margin: 0 0.4em 0.5em 0.4em;box-sizing: border-box;padding-bottom: 0.4em;background-color: white;}#sk-container-id-2 div.sk-label label {font-family: monospace;font-weight: bold;display: inline-block;line-height: 1.2em;}#sk-container-id-2 div.sk-label-container {text-align: center;}#sk-container-id-2 div.sk-container {/* jupyter's `normalize.less` sets `[hidden] { display: none; }` but bootstrap.min.css set `[hidden] { display: none !important; }` so we also need the `!important` here to be able to override the default hidden behavior on the sphinx rendered scikit-learn.org. See: https://github.com/scikit-learn/scikit-learn/issues/21755 */display: inline-block !important;position: relative;}#sk-container-id-2 div.sk-text-repr-fallback {display: none;}</style><div id=\"sk-container-id-2\" class=\"sk-top-container\"><div class=\"sk-text-repr-fallback\"><pre>LinearRegression()</pre><b>In a Jupyter environment, please rerun this cell to show the HTML representation or trust the notebook. <br />On GitHub, the HTML representation is unable to render, please try loading this page with nbviewer.org.</b></div><div class=\"sk-container\" hidden><div class=\"sk-item\"><div class=\"sk-estimator sk-toggleable\"><input class=\"sk-toggleable__control sk-hidden--visually\" id=\"sk-estimator-id-2\" type=\"checkbox\" checked><label for=\"sk-estimator-id-2\" class=\"sk-toggleable__label sk-toggleable__label-arrow\">LinearRegression</label><div class=\"sk-toggleable__content\"><pre>LinearRegression()</pre></div></div></div></div></div>"
      ],
      "text/plain": [
       "LinearRegression()"
      ]
     },
     "execution_count": 60,
     "metadata": {},
     "output_type": "execute_result"
    }
   ],
   "source": [
    "model.fit(feature,target)"
   ]
  },
  {
   "cell_type": "code",
   "execution_count": 61,
   "metadata": {},
   "outputs": [],
   "source": [
    "# 모델 저장\n",
    "import pickle\n",
    "saved_model = pickle.dumps(model)"
   ]
  },
  {
   "cell_type": "markdown",
   "metadata": {},
   "source": [
    "<hr>"
   ]
  },
  {
   "cell_type": "code",
   "execution_count": 62,
   "metadata": {},
   "outputs": [],
   "source": [
    "dataDF = pd.read_csv(r'C:\\Users\\KDP-14\\Desktop\\VSCode\\KDT6\\기업 프로젝트\\데이터 전처리 2차\\clean_data2.csv')"
   ]
  },
  {
   "cell_type": "code",
   "execution_count": 63,
   "metadata": {},
   "outputs": [],
   "source": [
    "feature = dataDF.drop(columns='scale_pv')\n",
    "target = dataDF['scale_pv']"
   ]
  },
  {
   "cell_type": "code",
   "execution_count": 64,
   "metadata": {},
   "outputs": [
    {
     "data": {
      "text/html": [
       "<div>\n",
       "<style scoped>\n",
       "    .dataframe tbody tr th:only-of-type {\n",
       "        vertical-align: middle;\n",
       "    }\n",
       "\n",
       "    .dataframe tbody tr th {\n",
       "        vertical-align: top;\n",
       "    }\n",
       "\n",
       "    .dataframe thead th {\n",
       "        text-align: right;\n",
       "    }\n",
       "</style>\n",
       "<table border=\"1\" class=\"dataframe\">\n",
       "  <thead>\n",
       "    <tr style=\"text-align: right;\">\n",
       "      <th></th>\n",
       "      <th>c_temp_pv</th>\n",
       "      <th>k_rpm_pv</th>\n",
       "      <th>n_temp_pv</th>\n",
       "      <th>scale_pv</th>\n",
       "      <th>s_temp_pv</th>\n",
       "    </tr>\n",
       "  </thead>\n",
       "  <tbody>\n",
       "    <tr>\n",
       "      <th>0</th>\n",
       "      <td>69.6</td>\n",
       "      <td>189</td>\n",
       "      <td>67.2</td>\n",
       "      <td>3.01</td>\n",
       "      <td>67.1</td>\n",
       "    </tr>\n",
       "    <tr>\n",
       "      <th>1</th>\n",
       "      <td>69.8</td>\n",
       "      <td>189</td>\n",
       "      <td>67.2</td>\n",
       "      <td>3.01</td>\n",
       "      <td>67.0</td>\n",
       "    </tr>\n",
       "    <tr>\n",
       "      <th>2</th>\n",
       "      <td>69.7</td>\n",
       "      <td>189</td>\n",
       "      <td>67.9</td>\n",
       "      <td>3.08</td>\n",
       "      <td>65.9</td>\n",
       "    </tr>\n",
       "    <tr>\n",
       "      <th>3</th>\n",
       "      <td>69.7</td>\n",
       "      <td>189</td>\n",
       "      <td>67.8</td>\n",
       "      <td>3.08</td>\n",
       "      <td>65.9</td>\n",
       "    </tr>\n",
       "    <tr>\n",
       "      <th>4</th>\n",
       "      <td>69.7</td>\n",
       "      <td>189</td>\n",
       "      <td>67.8</td>\n",
       "      <td>3.08</td>\n",
       "      <td>65.9</td>\n",
       "    </tr>\n",
       "    <tr>\n",
       "      <th>...</th>\n",
       "      <td>...</td>\n",
       "      <td>...</td>\n",
       "      <td>...</td>\n",
       "      <td>...</td>\n",
       "      <td>...</td>\n",
       "    </tr>\n",
       "    <tr>\n",
       "      <th>232022</th>\n",
       "      <td>69.7</td>\n",
       "      <td>191</td>\n",
       "      <td>67.6</td>\n",
       "      <td>0.00</td>\n",
       "      <td>67.3</td>\n",
       "    </tr>\n",
       "    <tr>\n",
       "      <th>232023</th>\n",
       "      <td>69.8</td>\n",
       "      <td>191</td>\n",
       "      <td>67.5</td>\n",
       "      <td>0.00</td>\n",
       "      <td>67.0</td>\n",
       "    </tr>\n",
       "    <tr>\n",
       "      <th>232024</th>\n",
       "      <td>69.7</td>\n",
       "      <td>191</td>\n",
       "      <td>67.4</td>\n",
       "      <td>0.00</td>\n",
       "      <td>66.8</td>\n",
       "    </tr>\n",
       "    <tr>\n",
       "      <th>232025</th>\n",
       "      <td>69.7</td>\n",
       "      <td>191</td>\n",
       "      <td>67.3</td>\n",
       "      <td>0.00</td>\n",
       "      <td>66.7</td>\n",
       "    </tr>\n",
       "    <tr>\n",
       "      <th>232026</th>\n",
       "      <td>69.8</td>\n",
       "      <td>191</td>\n",
       "      <td>67.2</td>\n",
       "      <td>0.00</td>\n",
       "      <td>66.6</td>\n",
       "    </tr>\n",
       "  </tbody>\n",
       "</table>\n",
       "<p>232027 rows × 5 columns</p>\n",
       "</div>"
      ],
      "text/plain": [
       "        c_temp_pv  k_rpm_pv  n_temp_pv  scale_pv  s_temp_pv\n",
       "0            69.6       189       67.2      3.01       67.1\n",
       "1            69.8       189       67.2      3.01       67.0\n",
       "2            69.7       189       67.9      3.08       65.9\n",
       "3            69.7       189       67.8      3.08       65.9\n",
       "4            69.7       189       67.8      3.08       65.9\n",
       "...           ...       ...        ...       ...        ...\n",
       "232022       69.7       191       67.6      0.00       67.3\n",
       "232023       69.8       191       67.5      0.00       67.0\n",
       "232024       69.7       191       67.4      0.00       66.8\n",
       "232025       69.7       191       67.3      0.00       66.7\n",
       "232026       69.8       191       67.2      0.00       66.6\n",
       "\n",
       "[232027 rows x 5 columns]"
      ]
     },
     "execution_count": 64,
     "metadata": {},
     "output_type": "execute_result"
    }
   ],
   "source": [
    "dataDF"
   ]
  },
  {
   "cell_type": "code",
   "execution_count": 65,
   "metadata": {},
   "outputs": [
    {
     "data": {
      "text/html": [
       "<div>\n",
       "<style scoped>\n",
       "    .dataframe tbody tr th:only-of-type {\n",
       "        vertical-align: middle;\n",
       "    }\n",
       "\n",
       "    .dataframe tbody tr th {\n",
       "        vertical-align: top;\n",
       "    }\n",
       "\n",
       "    .dataframe thead th {\n",
       "        text-align: right;\n",
       "    }\n",
       "</style>\n",
       "<table border=\"1\" class=\"dataframe\">\n",
       "  <thead>\n",
       "    <tr style=\"text-align: right;\">\n",
       "      <th></th>\n",
       "      <th>c_temp_pv</th>\n",
       "      <th>k_rpm_pv</th>\n",
       "      <th>n_temp_pv</th>\n",
       "      <th>scale_pv</th>\n",
       "      <th>s_temp_pv</th>\n",
       "    </tr>\n",
       "  </thead>\n",
       "  <tbody>\n",
       "    <tr>\n",
       "      <th>0</th>\n",
       "      <td>69.6</td>\n",
       "      <td>189</td>\n",
       "      <td>67.2</td>\n",
       "      <td>3.01</td>\n",
       "      <td>67.1</td>\n",
       "    </tr>\n",
       "    <tr>\n",
       "      <th>1</th>\n",
       "      <td>69.8</td>\n",
       "      <td>189</td>\n",
       "      <td>67.2</td>\n",
       "      <td>3.01</td>\n",
       "      <td>67.0</td>\n",
       "    </tr>\n",
       "    <tr>\n",
       "      <th>2</th>\n",
       "      <td>69.7</td>\n",
       "      <td>189</td>\n",
       "      <td>67.9</td>\n",
       "      <td>3.08</td>\n",
       "      <td>65.9</td>\n",
       "    </tr>\n",
       "    <tr>\n",
       "      <th>3</th>\n",
       "      <td>69.7</td>\n",
       "      <td>189</td>\n",
       "      <td>67.8</td>\n",
       "      <td>3.08</td>\n",
       "      <td>65.9</td>\n",
       "    </tr>\n",
       "    <tr>\n",
       "      <th>4</th>\n",
       "      <td>69.7</td>\n",
       "      <td>189</td>\n",
       "      <td>67.8</td>\n",
       "      <td>3.08</td>\n",
       "      <td>65.9</td>\n",
       "    </tr>\n",
       "    <tr>\n",
       "      <th>...</th>\n",
       "      <td>...</td>\n",
       "      <td>...</td>\n",
       "      <td>...</td>\n",
       "      <td>...</td>\n",
       "      <td>...</td>\n",
       "    </tr>\n",
       "    <tr>\n",
       "      <th>232022</th>\n",
       "      <td>69.7</td>\n",
       "      <td>191</td>\n",
       "      <td>67.6</td>\n",
       "      <td>0.00</td>\n",
       "      <td>67.3</td>\n",
       "    </tr>\n",
       "    <tr>\n",
       "      <th>232023</th>\n",
       "      <td>69.8</td>\n",
       "      <td>191</td>\n",
       "      <td>67.5</td>\n",
       "      <td>0.00</td>\n",
       "      <td>67.0</td>\n",
       "    </tr>\n",
       "    <tr>\n",
       "      <th>232024</th>\n",
       "      <td>69.7</td>\n",
       "      <td>191</td>\n",
       "      <td>67.4</td>\n",
       "      <td>0.00</td>\n",
       "      <td>66.8</td>\n",
       "    </tr>\n",
       "    <tr>\n",
       "      <th>232025</th>\n",
       "      <td>69.7</td>\n",
       "      <td>191</td>\n",
       "      <td>67.3</td>\n",
       "      <td>0.00</td>\n",
       "      <td>66.7</td>\n",
       "    </tr>\n",
       "    <tr>\n",
       "      <th>232026</th>\n",
       "      <td>69.8</td>\n",
       "      <td>191</td>\n",
       "      <td>67.2</td>\n",
       "      <td>0.00</td>\n",
       "      <td>66.6</td>\n",
       "    </tr>\n",
       "  </tbody>\n",
       "</table>\n",
       "<p>232027 rows × 5 columns</p>\n",
       "</div>"
      ],
      "text/plain": [
       "        c_temp_pv  k_rpm_pv  n_temp_pv  scale_pv  s_temp_pv\n",
       "0            69.6       189       67.2      3.01       67.1\n",
       "1            69.8       189       67.2      3.01       67.0\n",
       "2            69.7       189       67.9      3.08       65.9\n",
       "3            69.7       189       67.8      3.08       65.9\n",
       "4            69.7       189       67.8      3.08       65.9\n",
       "...           ...       ...        ...       ...        ...\n",
       "232022       69.7       191       67.6      0.00       67.3\n",
       "232023       69.8       191       67.5      0.00       67.0\n",
       "232024       69.7       191       67.4      0.00       66.8\n",
       "232025       69.7       191       67.3      0.00       66.7\n",
       "232026       69.8       191       67.2      0.00       66.6\n",
       "\n",
       "[232027 rows x 5 columns]"
      ]
     },
     "execution_count": 65,
     "metadata": {},
     "output_type": "execute_result"
    }
   ],
   "source": [
    "change_scale(dataDF,2.7,3.3)"
   ]
  },
  {
   "cell_type": "code",
   "execution_count": 66,
   "metadata": {},
   "outputs": [
    {
     "data": {
      "text/plain": [
       "Index([ 0.0, 2.71, 2.72, 2.73, 2.74, 2.75, 2.76, 2.77, 2.78, 2.79,  2.8, 2.81,\n",
       "       2.82, 2.83, 2.84, 2.85, 2.86, 2.87, 2.88, 2.89,  2.9, 2.91, 2.92, 2.93,\n",
       "       2.94, 2.95, 2.96, 2.97, 2.98, 2.99,  3.0, 3.01, 3.02, 3.03, 3.04, 3.05,\n",
       "       3.06, 3.07, 3.08, 3.09,  3.1, 3.11, 3.12, 3.13, 3.14, 3.15, 3.16, 3.17,\n",
       "       3.18, 3.19,  3.2, 3.21, 3.22, 3.23, 3.24, 3.25, 3.26, 3.27, 3.28, 3.29],\n",
       "      dtype='float64', name='scale_pv')"
      ]
     },
     "execution_count": 66,
     "metadata": {},
     "output_type": "execute_result"
    }
   ],
   "source": [
    "dataDF['scale_pv'].value_counts().index.sort_values()"
   ]
  },
  {
   "cell_type": "code",
   "execution_count": 67,
   "metadata": {},
   "outputs": [],
   "source": [
    "zero_df = dataDF[dataDF['scale_pv'] ==0]"
   ]
  },
  {
   "cell_type": "code",
   "execution_count": 68,
   "metadata": {},
   "outputs": [
    {
     "data": {
      "text/plain": [
       "Index([    74,     75,     76,     77,     78,     79,     80,     81,     82,\n",
       "           83,\n",
       "       ...\n",
       "       232017, 232018, 232019, 232020, 232021, 232022, 232023, 232024, 232025,\n",
       "       232026],\n",
       "      dtype='int64', length=193418)"
      ]
     },
     "execution_count": 68,
     "metadata": {},
     "output_type": "execute_result"
    }
   ],
   "source": [
    "zero_df.index"
   ]
  },
  {
   "cell_type": "code",
   "execution_count": 69,
   "metadata": {},
   "outputs": [],
   "source": [
    "featureDF = zero_df.drop(columns='scale_pv')"
   ]
  },
  {
   "cell_type": "code",
   "execution_count": 70,
   "metadata": {},
   "outputs": [
    {
     "data": {
      "text/html": [
       "<div>\n",
       "<style scoped>\n",
       "    .dataframe tbody tr th:only-of-type {\n",
       "        vertical-align: middle;\n",
       "    }\n",
       "\n",
       "    .dataframe tbody tr th {\n",
       "        vertical-align: top;\n",
       "    }\n",
       "\n",
       "    .dataframe thead th {\n",
       "        text-align: right;\n",
       "    }\n",
       "</style>\n",
       "<table border=\"1\" class=\"dataframe\">\n",
       "  <thead>\n",
       "    <tr style=\"text-align: right;\">\n",
       "      <th></th>\n",
       "      <th>c_temp_pv</th>\n",
       "      <th>k_rpm_pv</th>\n",
       "      <th>n_temp_pv</th>\n",
       "      <th>s_temp_pv</th>\n",
       "    </tr>\n",
       "  </thead>\n",
       "  <tbody>\n",
       "    <tr>\n",
       "      <th>74</th>\n",
       "      <td>69.4</td>\n",
       "      <td>189</td>\n",
       "      <td>70.6</td>\n",
       "      <td>70.7</td>\n",
       "    </tr>\n",
       "    <tr>\n",
       "      <th>75</th>\n",
       "      <td>69.3</td>\n",
       "      <td>189</td>\n",
       "      <td>70.5</td>\n",
       "      <td>70.8</td>\n",
       "    </tr>\n",
       "    <tr>\n",
       "      <th>76</th>\n",
       "      <td>69.4</td>\n",
       "      <td>189</td>\n",
       "      <td>70.5</td>\n",
       "      <td>70.8</td>\n",
       "    </tr>\n",
       "    <tr>\n",
       "      <th>77</th>\n",
       "      <td>69.3</td>\n",
       "      <td>189</td>\n",
       "      <td>70.6</td>\n",
       "      <td>70.9</td>\n",
       "    </tr>\n",
       "    <tr>\n",
       "      <th>78</th>\n",
       "      <td>69.4</td>\n",
       "      <td>189</td>\n",
       "      <td>70.6</td>\n",
       "      <td>70.9</td>\n",
       "    </tr>\n",
       "    <tr>\n",
       "      <th>...</th>\n",
       "      <td>...</td>\n",
       "      <td>...</td>\n",
       "      <td>...</td>\n",
       "      <td>...</td>\n",
       "    </tr>\n",
       "    <tr>\n",
       "      <th>232022</th>\n",
       "      <td>69.7</td>\n",
       "      <td>191</td>\n",
       "      <td>67.6</td>\n",
       "      <td>67.3</td>\n",
       "    </tr>\n",
       "    <tr>\n",
       "      <th>232023</th>\n",
       "      <td>69.8</td>\n",
       "      <td>191</td>\n",
       "      <td>67.5</td>\n",
       "      <td>67.0</td>\n",
       "    </tr>\n",
       "    <tr>\n",
       "      <th>232024</th>\n",
       "      <td>69.7</td>\n",
       "      <td>191</td>\n",
       "      <td>67.4</td>\n",
       "      <td>66.8</td>\n",
       "    </tr>\n",
       "    <tr>\n",
       "      <th>232025</th>\n",
       "      <td>69.7</td>\n",
       "      <td>191</td>\n",
       "      <td>67.3</td>\n",
       "      <td>66.7</td>\n",
       "    </tr>\n",
       "    <tr>\n",
       "      <th>232026</th>\n",
       "      <td>69.8</td>\n",
       "      <td>191</td>\n",
       "      <td>67.2</td>\n",
       "      <td>66.6</td>\n",
       "    </tr>\n",
       "  </tbody>\n",
       "</table>\n",
       "<p>193418 rows × 4 columns</p>\n",
       "</div>"
      ],
      "text/plain": [
       "        c_temp_pv  k_rpm_pv  n_temp_pv  s_temp_pv\n",
       "74           69.4       189       70.6       70.7\n",
       "75           69.3       189       70.5       70.8\n",
       "76           69.4       189       70.5       70.8\n",
       "77           69.3       189       70.6       70.9\n",
       "78           69.4       189       70.6       70.9\n",
       "...           ...       ...        ...        ...\n",
       "232022       69.7       191       67.6       67.3\n",
       "232023       69.8       191       67.5       67.0\n",
       "232024       69.7       191       67.4       66.8\n",
       "232025       69.7       191       67.3       66.7\n",
       "232026       69.8       191       67.2       66.6\n",
       "\n",
       "[193418 rows x 4 columns]"
      ]
     },
     "execution_count": 70,
     "metadata": {},
     "output_type": "execute_result"
    }
   ],
   "source": [
    "featureDF"
   ]
  },
  {
   "cell_type": "code",
   "execution_count": 71,
   "metadata": {},
   "outputs": [],
   "source": [
    "scale = model.predict(featureDF)"
   ]
  },
  {
   "cell_type": "code",
   "execution_count": 72,
   "metadata": {},
   "outputs": [
    {
     "data": {
      "text/plain": [
       "array([3.05249001, 3.05198962, 3.05173452, ..., 3.03742636, 3.03698065,\n",
       "       3.03627983])"
      ]
     },
     "execution_count": 72,
     "metadata": {},
     "output_type": "execute_result"
    }
   ],
   "source": [
    "scale"
   ]
  },
  {
   "cell_type": "code",
   "execution_count": 73,
   "metadata": {},
   "outputs": [],
   "source": [
    "dataDF.loc[dataDF['scale_pv'] ==0,'scale_pv']=scale"
   ]
  },
  {
   "cell_type": "code",
   "execution_count": 77,
   "metadata": {},
   "outputs": [
    {
     "data": {
      "text/plain": [
       "Index([2.71, 2.72, 2.73, 2.74, 2.75, 2.76, 2.77, 2.78, 2.79,  2.8,\n",
       "       ...\n",
       "        3.2, 3.21, 3.22, 3.23, 3.24, 3.25, 3.26, 3.27, 3.28, 3.29],\n",
       "      dtype='float64', name='scale_pv', length=116827)"
      ]
     },
     "execution_count": 77,
     "metadata": {},
     "output_type": "execute_result"
    }
   ],
   "source": [
    "dataDF['scale_pv'].value_counts().index.sort_values()"
   ]
  },
  {
   "cell_type": "code",
   "execution_count": 78,
   "metadata": {},
   "outputs": [],
   "source": [
    "dataDF.to_csv('Linear 전처리2(2.7~3.3).csv',encoding='utf-8',index=False)"
   ]
  },
  {
   "cell_type": "code",
   "execution_count": null,
   "metadata": {},
   "outputs": [],
   "source": []
  }
 ],
 "metadata": {
  "kernelspec": {
   "display_name": "commate",
   "language": "python",
   "name": "python3"
  },
  "language_info": {
   "codemirror_mode": {
    "name": "ipython",
    "version": 3
   },
   "file_extension": ".py",
   "mimetype": "text/x-python",
   "name": "python",
   "nbconvert_exporter": "python",
   "pygments_lexer": "ipython3",
   "version": "3.8.20"
  }
 },
 "nbformat": 4,
 "nbformat_minor": 2
}
