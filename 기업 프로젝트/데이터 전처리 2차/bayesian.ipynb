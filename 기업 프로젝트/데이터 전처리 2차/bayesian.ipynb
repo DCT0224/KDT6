{
 "cells": [
  {
   "cell_type": "code",
   "execution_count": 2,
   "metadata": {},
   "outputs": [],
   "source": [
    "# 모듈 로딩\n",
    "import pandas as pd\n",
    "from sklearn.model_selection import train_test_split, cross_val_score\n",
    "import numpy as np\n",
    "import matplotlib as plt\n",
    "import seaborn as sns\n",
    "from xgboost import XGBRegressor\n",
    "from sklearn.model_selection import GridSearchCV\n",
    "from bayes_opt import BayesianOptimization\n",
    "from sklearn.metrics import mean_absolute_error, mean_absolute_percentage_error"
   ]
  },
  {
   "cell_type": "code",
   "execution_count": 3,
   "metadata": {},
   "outputs": [],
   "source": [
    "# 데이터 로딩\n",
    "DATA_PATH = r\"C:\\Users\\KDP-14\\Desktop\\VSCode\\KDT6\\기업 프로젝트\\데이터 전처리 2차\\Linear 전처리2(2.7~3.3).csv\"\n",
    "dataDF = pd.read_csv(DATA_PATH)"
   ]
  },
  {
   "cell_type": "markdown",
   "metadata": {},
   "source": [
    "### train_test 나누기"
   ]
  },
  {
   "cell_type": "code",
   "execution_count": 4,
   "metadata": {},
   "outputs": [
    {
     "data": {
      "text/html": [
       "<div>\n",
       "<style scoped>\n",
       "    .dataframe tbody tr th:only-of-type {\n",
       "        vertical-align: middle;\n",
       "    }\n",
       "\n",
       "    .dataframe tbody tr th {\n",
       "        vertical-align: top;\n",
       "    }\n",
       "\n",
       "    .dataframe thead th {\n",
       "        text-align: right;\n",
       "    }\n",
       "</style>\n",
       "<table border=\"1\" class=\"dataframe\">\n",
       "  <thead>\n",
       "    <tr style=\"text-align: right;\">\n",
       "      <th></th>\n",
       "      <th>c_temp_pv</th>\n",
       "      <th>k_rpm_pv</th>\n",
       "      <th>n_temp_pv</th>\n",
       "      <th>scale_pv</th>\n",
       "      <th>s_temp_pv</th>\n",
       "    </tr>\n",
       "  </thead>\n",
       "  <tbody>\n",
       "    <tr>\n",
       "      <th>0</th>\n",
       "      <td>69.6</td>\n",
       "      <td>189</td>\n",
       "      <td>67.2</td>\n",
       "      <td>3.010000</td>\n",
       "      <td>67.1</td>\n",
       "    </tr>\n",
       "    <tr>\n",
       "      <th>1</th>\n",
       "      <td>69.8</td>\n",
       "      <td>189</td>\n",
       "      <td>67.2</td>\n",
       "      <td>3.010000</td>\n",
       "      <td>67.0</td>\n",
       "    </tr>\n",
       "    <tr>\n",
       "      <th>2</th>\n",
       "      <td>69.7</td>\n",
       "      <td>189</td>\n",
       "      <td>67.9</td>\n",
       "      <td>3.080000</td>\n",
       "      <td>65.9</td>\n",
       "    </tr>\n",
       "    <tr>\n",
       "      <th>3</th>\n",
       "      <td>69.7</td>\n",
       "      <td>189</td>\n",
       "      <td>67.8</td>\n",
       "      <td>3.080000</td>\n",
       "      <td>65.9</td>\n",
       "    </tr>\n",
       "    <tr>\n",
       "      <th>4</th>\n",
       "      <td>69.7</td>\n",
       "      <td>189</td>\n",
       "      <td>67.8</td>\n",
       "      <td>3.080000</td>\n",
       "      <td>65.9</td>\n",
       "    </tr>\n",
       "    <tr>\n",
       "      <th>...</th>\n",
       "      <td>...</td>\n",
       "      <td>...</td>\n",
       "      <td>...</td>\n",
       "      <td>...</td>\n",
       "      <td>...</td>\n",
       "    </tr>\n",
       "    <tr>\n",
       "      <th>232022</th>\n",
       "      <td>69.7</td>\n",
       "      <td>191</td>\n",
       "      <td>67.6</td>\n",
       "      <td>3.037853</td>\n",
       "      <td>67.3</td>\n",
       "    </tr>\n",
       "    <tr>\n",
       "      <th>232023</th>\n",
       "      <td>69.8</td>\n",
       "      <td>191</td>\n",
       "      <td>67.5</td>\n",
       "      <td>3.037462</td>\n",
       "      <td>67.0</td>\n",
       "    </tr>\n",
       "    <tr>\n",
       "      <th>232024</th>\n",
       "      <td>69.7</td>\n",
       "      <td>191</td>\n",
       "      <td>67.4</td>\n",
       "      <td>3.037426</td>\n",
       "      <td>66.8</td>\n",
       "    </tr>\n",
       "    <tr>\n",
       "      <th>232025</th>\n",
       "      <td>69.7</td>\n",
       "      <td>191</td>\n",
       "      <td>67.3</td>\n",
       "      <td>3.036981</td>\n",
       "      <td>66.7</td>\n",
       "    </tr>\n",
       "    <tr>\n",
       "      <th>232026</th>\n",
       "      <td>69.8</td>\n",
       "      <td>191</td>\n",
       "      <td>67.2</td>\n",
       "      <td>3.036280</td>\n",
       "      <td>66.6</td>\n",
       "    </tr>\n",
       "  </tbody>\n",
       "</table>\n",
       "<p>232027 rows × 5 columns</p>\n",
       "</div>"
      ],
      "text/plain": [
       "        c_temp_pv  k_rpm_pv  n_temp_pv  scale_pv  s_temp_pv\n",
       "0            69.6       189       67.2  3.010000       67.1\n",
       "1            69.8       189       67.2  3.010000       67.0\n",
       "2            69.7       189       67.9  3.080000       65.9\n",
       "3            69.7       189       67.8  3.080000       65.9\n",
       "4            69.7       189       67.8  3.080000       65.9\n",
       "...           ...       ...        ...       ...        ...\n",
       "232022       69.7       191       67.6  3.037853       67.3\n",
       "232023       69.8       191       67.5  3.037462       67.0\n",
       "232024       69.7       191       67.4  3.037426       66.8\n",
       "232025       69.7       191       67.3  3.036981       66.7\n",
       "232026       69.8       191       67.2  3.036280       66.6\n",
       "\n",
       "[232027 rows x 5 columns]"
      ]
     },
     "execution_count": 4,
     "metadata": {},
     "output_type": "execute_result"
    }
   ],
   "source": [
    "dataDF"
   ]
  },
  {
   "cell_type": "code",
   "execution_count": 5,
   "metadata": {},
   "outputs": [],
   "source": [
    "target = dataDF['scale_pv']\n",
    "feature = dataDF.drop(columns='scale_pv')"
   ]
  },
  {
   "cell_type": "code",
   "execution_count": 6,
   "metadata": {},
   "outputs": [
    {
     "data": {
      "text/plain": [
       "0         3.010000\n",
       "1         3.010000\n",
       "2         3.080000\n",
       "3         3.080000\n",
       "4         3.080000\n",
       "            ...   \n",
       "232022    3.037853\n",
       "232023    3.037462\n",
       "232024    3.037426\n",
       "232025    3.036981\n",
       "232026    3.036280\n",
       "Name: scale_pv, Length: 232027, dtype: float64"
      ]
     },
     "execution_count": 6,
     "metadata": {},
     "output_type": "execute_result"
    }
   ],
   "source": [
    "target"
   ]
  },
  {
   "cell_type": "code",
   "execution_count": 7,
   "metadata": {},
   "outputs": [
    {
     "data": {
      "text/html": [
       "<div>\n",
       "<style scoped>\n",
       "    .dataframe tbody tr th:only-of-type {\n",
       "        vertical-align: middle;\n",
       "    }\n",
       "\n",
       "    .dataframe tbody tr th {\n",
       "        vertical-align: top;\n",
       "    }\n",
       "\n",
       "    .dataframe thead th {\n",
       "        text-align: right;\n",
       "    }\n",
       "</style>\n",
       "<table border=\"1\" class=\"dataframe\">\n",
       "  <thead>\n",
       "    <tr style=\"text-align: right;\">\n",
       "      <th></th>\n",
       "      <th>c_temp_pv</th>\n",
       "      <th>k_rpm_pv</th>\n",
       "      <th>n_temp_pv</th>\n",
       "      <th>s_temp_pv</th>\n",
       "    </tr>\n",
       "  </thead>\n",
       "  <tbody>\n",
       "    <tr>\n",
       "      <th>0</th>\n",
       "      <td>69.6</td>\n",
       "      <td>189</td>\n",
       "      <td>67.2</td>\n",
       "      <td>67.1</td>\n",
       "    </tr>\n",
       "    <tr>\n",
       "      <th>1</th>\n",
       "      <td>69.8</td>\n",
       "      <td>189</td>\n",
       "      <td>67.2</td>\n",
       "      <td>67.0</td>\n",
       "    </tr>\n",
       "    <tr>\n",
       "      <th>2</th>\n",
       "      <td>69.7</td>\n",
       "      <td>189</td>\n",
       "      <td>67.9</td>\n",
       "      <td>65.9</td>\n",
       "    </tr>\n",
       "    <tr>\n",
       "      <th>3</th>\n",
       "      <td>69.7</td>\n",
       "      <td>189</td>\n",
       "      <td>67.8</td>\n",
       "      <td>65.9</td>\n",
       "    </tr>\n",
       "    <tr>\n",
       "      <th>4</th>\n",
       "      <td>69.7</td>\n",
       "      <td>189</td>\n",
       "      <td>67.8</td>\n",
       "      <td>65.9</td>\n",
       "    </tr>\n",
       "    <tr>\n",
       "      <th>...</th>\n",
       "      <td>...</td>\n",
       "      <td>...</td>\n",
       "      <td>...</td>\n",
       "      <td>...</td>\n",
       "    </tr>\n",
       "    <tr>\n",
       "      <th>232022</th>\n",
       "      <td>69.7</td>\n",
       "      <td>191</td>\n",
       "      <td>67.6</td>\n",
       "      <td>67.3</td>\n",
       "    </tr>\n",
       "    <tr>\n",
       "      <th>232023</th>\n",
       "      <td>69.8</td>\n",
       "      <td>191</td>\n",
       "      <td>67.5</td>\n",
       "      <td>67.0</td>\n",
       "    </tr>\n",
       "    <tr>\n",
       "      <th>232024</th>\n",
       "      <td>69.7</td>\n",
       "      <td>191</td>\n",
       "      <td>67.4</td>\n",
       "      <td>66.8</td>\n",
       "    </tr>\n",
       "    <tr>\n",
       "      <th>232025</th>\n",
       "      <td>69.7</td>\n",
       "      <td>191</td>\n",
       "      <td>67.3</td>\n",
       "      <td>66.7</td>\n",
       "    </tr>\n",
       "    <tr>\n",
       "      <th>232026</th>\n",
       "      <td>69.8</td>\n",
       "      <td>191</td>\n",
       "      <td>67.2</td>\n",
       "      <td>66.6</td>\n",
       "    </tr>\n",
       "  </tbody>\n",
       "</table>\n",
       "<p>232027 rows × 4 columns</p>\n",
       "</div>"
      ],
      "text/plain": [
       "        c_temp_pv  k_rpm_pv  n_temp_pv  s_temp_pv\n",
       "0            69.6       189       67.2       67.1\n",
       "1            69.8       189       67.2       67.0\n",
       "2            69.7       189       67.9       65.9\n",
       "3            69.7       189       67.8       65.9\n",
       "4            69.7       189       67.8       65.9\n",
       "...           ...       ...        ...        ...\n",
       "232022       69.7       191       67.6       67.3\n",
       "232023       69.8       191       67.5       67.0\n",
       "232024       69.7       191       67.4       66.8\n",
       "232025       69.7       191       67.3       66.7\n",
       "232026       69.8       191       67.2       66.6\n",
       "\n",
       "[232027 rows x 4 columns]"
      ]
     },
     "execution_count": 7,
     "metadata": {},
     "output_type": "execute_result"
    }
   ],
   "source": [
    "feature"
   ]
  },
  {
   "cell_type": "code",
   "execution_count": 8,
   "metadata": {},
   "outputs": [],
   "source": [
    "X_train, X_test, y_train, y_test = train_test_split(feature,target, test_size= 0.2, random_state=77)"
   ]
  },
  {
   "cell_type": "code",
   "execution_count": 9,
   "metadata": {},
   "outputs": [],
   "source": [
    "# Bayesian Optimization을 위한 목적 함수 정의\n",
    "def xgb_evaluate(max_depth, n_estimators, learning_rate, colsample_bytree, subsample, min_child_weight):\n",
    "    params = {\n",
    "        'max_depth': int(max_depth),  # 정수형으로 변환\n",
    "        'learning_rate': learning_rate,\n",
    "        'n_estimators': int(n_estimators),  # 정수형으로 변환\n",
    "        'colsample_bytree': colsample_bytree,\n",
    "        'subsample': subsample,\n",
    "        'min_child_weight': int(min_child_weight),  # 정수형으로 변환\n",
    "        'objective': 'reg:squarederror',\n",
    "        'random_state': 2,\n",
    "        'n_jobs': 4\n",
    "    }\n",
    "    model = XGBRegressor(**params)\n",
    "    cv_scores = cross_val_score(model, X_train.values, y_train, cv=3, scoring='neg_mean_squared_error')\n",
    "    return -cv_scores.mean()  # MSE를 최소화해야 하므로 부호 반전\n",
    "\n",
    "## MSE는 낮을수록 좋은 지표이므로, 부호를 반전하여 반환\n",
    "## Bayesian Optimization은 목적 함수가 최대화하는 방향으로 작동하기 때문에, MSE의 부호를 반전하여 \"최적화 대상 점수\"로 사용\n"
   ]
  },
  {
   "cell_type": "code",
   "execution_count": 10,
   "metadata": {},
   "outputs": [],
   "source": [
    "# Bayesian Optimization 설정\n",
    "optimizer = BayesianOptimization(\n",
    "    f=xgb_evaluate,\n",
    "    pbounds={\n",
    "        'max_depth': (3, 7),\n",
    "        'n_estimators': (500, 1000),\n",
    "        'learning_rate': (0.03, 0.1),\n",
    "        'colsample_bytree': (0.5, 0.7),\n",
    "        'subsample': (0.5, 0.8),\n",
    "        'min_child_weight': (1, 5),\n",
    "    },\n",
    "    random_state=2,\n",
    ")"
   ]
  },
  {
   "cell_type": "code",
   "execution_count": 11,
   "metadata": {},
   "outputs": [
    {
     "name": "stdout",
     "output_type": "stream",
     "text": [
      "|   iter    |  target   | colsam... | learni... | max_depth | min_ch... | n_esti... | subsample |\n",
      "-------------------------------------------------------------------------------------------------\n",
      "| \u001b[0m1        \u001b[0m | \u001b[0m0.0002056\u001b[0m | \u001b[0m0.5872   \u001b[0m | \u001b[0m0.03181  \u001b[0m | \u001b[0m5.199    \u001b[0m | \u001b[0m2.741    \u001b[0m | \u001b[0m710.2    \u001b[0m | \u001b[0m0.5991   \u001b[0m |\n",
      "| \u001b[0m2        \u001b[0m | \u001b[0m0.0002053\u001b[0m | \u001b[0m0.5409   \u001b[0m | \u001b[0m0.07335  \u001b[0m | \u001b[0m4.199    \u001b[0m | \u001b[0m2.067    \u001b[0m | \u001b[0m810.6    \u001b[0m | \u001b[0m0.6587   \u001b[0m |\n",
      "| \u001b[95m3        \u001b[0m | \u001b[95m0.0002081\u001b[0m | \u001b[95m0.5269   \u001b[0m | \u001b[95m0.06595  \u001b[0m | \u001b[95m3.738    \u001b[0m | \u001b[95m4.141    \u001b[0m | \u001b[95m927.0    \u001b[0m | \u001b[95m0.6483   \u001b[0m |\n",
      "| \u001b[0m4        \u001b[0m | \u001b[0m0.0002047\u001b[0m | \u001b[0m0.6693   \u001b[0m | \u001b[0m0.03558  \u001b[0m | \u001b[0m5.021    \u001b[0m | \u001b[0m1.261    \u001b[0m | \u001b[0m714.1    \u001b[0m | \u001b[0m0.529    \u001b[0m |\n",
      "| \u001b[95m5        \u001b[0m | \u001b[95m0.0002087\u001b[0m | \u001b[95m0.5254   \u001b[0m | \u001b[95m0.07177  \u001b[0m | \u001b[95m3.904    \u001b[0m | \u001b[95m1.428    \u001b[0m | \u001b[95m610.2    \u001b[0m | \u001b[95m0.6049   \u001b[0m |\n",
      "| \u001b[0m6        \u001b[0m | \u001b[0m0.000206 \u001b[0m | \u001b[0m0.5171   \u001b[0m | \u001b[0m0.08729  \u001b[0m | \u001b[0m4.756    \u001b[0m | \u001b[0m3.01     \u001b[0m | \u001b[0m619.5    \u001b[0m | \u001b[0m0.5934   \u001b[0m |\n",
      "| \u001b[95m7        \u001b[0m | \u001b[95m0.0002088\u001b[0m | \u001b[95m0.5201   \u001b[0m | \u001b[95m0.08649  \u001b[0m | \u001b[95m3.291    \u001b[0m | \u001b[95m2.351    \u001b[0m | \u001b[95m605.1    \u001b[0m | \u001b[95m0.5833   \u001b[0m |\n",
      "| \u001b[0m8        \u001b[0m | \u001b[0m0.0002064\u001b[0m | \u001b[0m0.6067   \u001b[0m | \u001b[0m0.0415   \u001b[0m | \u001b[0m4.225    \u001b[0m | \u001b[0m4.638    \u001b[0m | \u001b[0m914.7    \u001b[0m | \u001b[0m0.7037   \u001b[0m |\n",
      "| \u001b[95m9        \u001b[0m | \u001b[95m0.0002089\u001b[0m | \u001b[95m0.5091   \u001b[0m | \u001b[95m0.05519  \u001b[0m | \u001b[95m3.551    \u001b[0m | \u001b[95m4.126    \u001b[0m | \u001b[95m937.5    \u001b[0m | \u001b[95m0.5152   \u001b[0m |\n",
      "| \u001b[0m10       \u001b[0m | \u001b[0m0.0002035\u001b[0m | \u001b[0m0.6203   \u001b[0m | \u001b[0m0.07501  \u001b[0m | \u001b[0m6.516    \u001b[0m | \u001b[0m1.772    \u001b[0m | \u001b[0m948.4    \u001b[0m | \u001b[0m0.5451   \u001b[0m |\n",
      "| \u001b[0m11       \u001b[0m | \u001b[0m0.000203 \u001b[0m | \u001b[0m0.6917   \u001b[0m | \u001b[0m0.07005  \u001b[0m | \u001b[0m6.647    \u001b[0m | \u001b[0m2.114    \u001b[0m | \u001b[0m933.5    \u001b[0m | \u001b[0m0.5491   \u001b[0m |\n",
      "| \u001b[95m12       \u001b[0m | \u001b[95m0.0002096\u001b[0m | \u001b[95m0.6936   \u001b[0m | \u001b[95m0.04709  \u001b[0m | \u001b[95m3.001    \u001b[0m | \u001b[95m1.937    \u001b[0m | \u001b[95m607.4    \u001b[0m | \u001b[95m0.5679   \u001b[0m |\n",
      "| \u001b[0m13       \u001b[0m | \u001b[0m0.0002043\u001b[0m | \u001b[0m0.665    \u001b[0m | \u001b[0m0.06527  \u001b[0m | \u001b[0m5.068    \u001b[0m | \u001b[0m4.242    \u001b[0m | \u001b[0m607.8    \u001b[0m | \u001b[0m0.5005   \u001b[0m |\n",
      "| \u001b[95m14       \u001b[0m | \u001b[95m0.0002105\u001b[0m | \u001b[95m0.5509   \u001b[0m | \u001b[95m0.03045  \u001b[0m | \u001b[95m3.879    \u001b[0m | \u001b[95m1.115    \u001b[0m | \u001b[95m606.1    \u001b[0m | \u001b[95m0.7806   \u001b[0m |\n",
      "| \u001b[0m15       \u001b[0m | \u001b[0m0.0002025\u001b[0m | \u001b[0m0.624    \u001b[0m | \u001b[0m0.06332  \u001b[0m | \u001b[0m6.421    \u001b[0m | \u001b[0m1.09     \u001b[0m | \u001b[0m604.5    \u001b[0m | \u001b[0m0.7882   \u001b[0m |\n",
      "| \u001b[0m16       \u001b[0m | \u001b[0m0.0002057\u001b[0m | \u001b[0m0.5734   \u001b[0m | \u001b[0m0.05989  \u001b[0m | \u001b[0m4.79     \u001b[0m | \u001b[0m1.088    \u001b[0m | \u001b[0m607.5    \u001b[0m | \u001b[0m0.6964   \u001b[0m |\n",
      "| \u001b[0m17       \u001b[0m | \u001b[0m0.0002089\u001b[0m | \u001b[0m0.5629   \u001b[0m | \u001b[0m0.05667  \u001b[0m | \u001b[0m3.019    \u001b[0m | \u001b[0m1.514    \u001b[0m | \u001b[0m606.0    \u001b[0m | \u001b[0m0.7117   \u001b[0m |\n",
      "| \u001b[0m18       \u001b[0m | \u001b[0m0.000206 \u001b[0m | \u001b[0m0.5635   \u001b[0m | \u001b[0m0.08678  \u001b[0m | \u001b[0m4.154    \u001b[0m | \u001b[0m2.101    \u001b[0m | \u001b[0m606.3    \u001b[0m | \u001b[0m0.5254   \u001b[0m |\n",
      "| \u001b[0m19       \u001b[0m | \u001b[0m0.0002087\u001b[0m | \u001b[0m0.6984   \u001b[0m | \u001b[0m0.05667  \u001b[0m | \u001b[0m3.447    \u001b[0m | \u001b[0m1.355    \u001b[0m | \u001b[0m605.5    \u001b[0m | \u001b[0m0.7564   \u001b[0m |\n",
      "| \u001b[0m20       \u001b[0m | \u001b[0m0.0002083\u001b[0m | \u001b[0m0.663    \u001b[0m | \u001b[0m0.09599  \u001b[0m | \u001b[0m3.435    \u001b[0m | \u001b[0m1.225    \u001b[0m | \u001b[0m606.8    \u001b[0m | \u001b[0m0.5241   \u001b[0m |\n",
      "| \u001b[0m21       \u001b[0m | \u001b[0m0.0002082\u001b[0m | \u001b[0m0.5224   \u001b[0m | \u001b[0m0.09279  \u001b[0m | \u001b[0m3.047    \u001b[0m | \u001b[0m2.271    \u001b[0m | \u001b[0m608.2    \u001b[0m | \u001b[0m0.7668   \u001b[0m |\n",
      "| \u001b[0m22       \u001b[0m | \u001b[0m0.0002079\u001b[0m | \u001b[0m0.667    \u001b[0m | \u001b[0m0.093    \u001b[0m | \u001b[0m3.674    \u001b[0m | \u001b[0m2.985    \u001b[0m | \u001b[0m937.7    \u001b[0m | \u001b[0m0.556    \u001b[0m |\n",
      "| \u001b[0m23       \u001b[0m | \u001b[0m0.000205 \u001b[0m | \u001b[0m0.6589   \u001b[0m | \u001b[0m0.09361  \u001b[0m | \u001b[0m4.057    \u001b[0m | \u001b[0m4.274    \u001b[0m | \u001b[0m938.6    \u001b[0m | \u001b[0m0.5904   \u001b[0m |\n",
      "| \u001b[0m24       \u001b[0m | \u001b[0m0.0002061\u001b[0m | \u001b[0m0.5568   \u001b[0m | \u001b[0m0.0444   \u001b[0m | \u001b[0m4.355    \u001b[0m | \u001b[0m3.478    \u001b[0m | \u001b[0m936.6    \u001b[0m | \u001b[0m0.7383   \u001b[0m |\n",
      "| \u001b[0m25       \u001b[0m | \u001b[0m0.0002063\u001b[0m | \u001b[0m0.5383   \u001b[0m | \u001b[0m0.05966  \u001b[0m | \u001b[0m4.042    \u001b[0m | \u001b[0m2.031    \u001b[0m | \u001b[0m609.3    \u001b[0m | \u001b[0m0.7901   \u001b[0m |\n",
      "| \u001b[0m26       \u001b[0m | \u001b[0m0.0002057\u001b[0m | \u001b[0m0.6293   \u001b[0m | \u001b[0m0.06696  \u001b[0m | \u001b[0m4.171    \u001b[0m | \u001b[0m1.401    \u001b[0m | \u001b[0m605.6    \u001b[0m | \u001b[0m0.71     \u001b[0m |\n",
      "| \u001b[0m27       \u001b[0m | \u001b[0m0.0002095\u001b[0m | \u001b[0m0.6738   \u001b[0m | \u001b[0m0.05563  \u001b[0m | \u001b[0m3.38     \u001b[0m | \u001b[0m2.597    \u001b[0m | \u001b[0m607.3    \u001b[0m | \u001b[0m0.6215   \u001b[0m |\n",
      "| \u001b[0m28       \u001b[0m | \u001b[0m0.0002051\u001b[0m | \u001b[0m0.6163   \u001b[0m | \u001b[0m0.07218  \u001b[0m | \u001b[0m4.176    \u001b[0m | \u001b[0m4.426    \u001b[0m | \u001b[0m896.1    \u001b[0m | \u001b[0m0.6869   \u001b[0m |\n",
      "| \u001b[0m29       \u001b[0m | \u001b[0m0.0002034\u001b[0m | \u001b[0m0.5164   \u001b[0m | \u001b[0m0.07492  \u001b[0m | \u001b[0m5.659    \u001b[0m | \u001b[0m2.229    \u001b[0m | \u001b[0m969.8    \u001b[0m | \u001b[0m0.6181   \u001b[0m |\n",
      "| \u001b[0m30       \u001b[0m | \u001b[0m0.0002096\u001b[0m | \u001b[0m0.586    \u001b[0m | \u001b[0m0.03976  \u001b[0m | \u001b[0m3.586    \u001b[0m | \u001b[0m3.523    \u001b[0m | \u001b[0m851.9    \u001b[0m | \u001b[0m0.5183   \u001b[0m |\n",
      "=================================================================================================\n"
     ]
    }
   ],
   "source": [
    "# 최적화 실행\n",
    "# init_points는 초기 random으로 몇개의 값을 찾을것인지(베이지안 최적화는 기존 데이터를 기반으로 가우시안 프로세스 모델)\n",
    "# n_iter는 추가로 조사할 값들을 몇개 찾을지 설정(어디를 샘플링하면 최대값을 잘 찾을 수 있을지를 판단)\n",
    "optimizer.maximize(init_points=5, n_iter=25)"
   ]
  },
  {
   "cell_type": "code",
   "execution_count": 12,
   "metadata": {},
   "outputs": [],
   "source": [
    "# 최적의 하이퍼파라미터 추출\n",
    "best_params = optimizer.max['params']\n",
    "\n",
    "# 하이퍼파라미터 정수형 변환 (필요 시)\n",
    "best_params['max_depth'] = int(best_params['max_depth'])\n",
    "best_params['n_estimators'] = int(best_params['n_estimators'])\n",
    "best_params['min_child_weight'] = int(best_params['min_child_weight'])"
   ]
  },
  {
   "cell_type": "code",
   "execution_count": 13,
   "metadata": {},
   "outputs": [
    {
     "data": {
      "text/html": [
       "<style>#sk-container-id-1 {color: black;}#sk-container-id-1 pre{padding: 0;}#sk-container-id-1 div.sk-toggleable {background-color: white;}#sk-container-id-1 label.sk-toggleable__label {cursor: pointer;display: block;width: 100%;margin-bottom: 0;padding: 0.3em;box-sizing: border-box;text-align: center;}#sk-container-id-1 label.sk-toggleable__label-arrow:before {content: \"▸\";float: left;margin-right: 0.25em;color: #696969;}#sk-container-id-1 label.sk-toggleable__label-arrow:hover:before {color: black;}#sk-container-id-1 div.sk-estimator:hover label.sk-toggleable__label-arrow:before {color: black;}#sk-container-id-1 div.sk-toggleable__content {max-height: 0;max-width: 0;overflow: hidden;text-align: left;background-color: #f0f8ff;}#sk-container-id-1 div.sk-toggleable__content pre {margin: 0.2em;color: black;border-radius: 0.25em;background-color: #f0f8ff;}#sk-container-id-1 input.sk-toggleable__control:checked~div.sk-toggleable__content {max-height: 200px;max-width: 100%;overflow: auto;}#sk-container-id-1 input.sk-toggleable__control:checked~label.sk-toggleable__label-arrow:before {content: \"▾\";}#sk-container-id-1 div.sk-estimator input.sk-toggleable__control:checked~label.sk-toggleable__label {background-color: #d4ebff;}#sk-container-id-1 div.sk-label input.sk-toggleable__control:checked~label.sk-toggleable__label {background-color: #d4ebff;}#sk-container-id-1 input.sk-hidden--visually {border: 0;clip: rect(1px 1px 1px 1px);clip: rect(1px, 1px, 1px, 1px);height: 1px;margin: -1px;overflow: hidden;padding: 0;position: absolute;width: 1px;}#sk-container-id-1 div.sk-estimator {font-family: monospace;background-color: #f0f8ff;border: 1px dotted black;border-radius: 0.25em;box-sizing: border-box;margin-bottom: 0.5em;}#sk-container-id-1 div.sk-estimator:hover {background-color: #d4ebff;}#sk-container-id-1 div.sk-parallel-item::after {content: \"\";width: 100%;border-bottom: 1px solid gray;flex-grow: 1;}#sk-container-id-1 div.sk-label:hover label.sk-toggleable__label {background-color: #d4ebff;}#sk-container-id-1 div.sk-serial::before {content: \"\";position: absolute;border-left: 1px solid gray;box-sizing: border-box;top: 0;bottom: 0;left: 50%;z-index: 0;}#sk-container-id-1 div.sk-serial {display: flex;flex-direction: column;align-items: center;background-color: white;padding-right: 0.2em;padding-left: 0.2em;position: relative;}#sk-container-id-1 div.sk-item {position: relative;z-index: 1;}#sk-container-id-1 div.sk-parallel {display: flex;align-items: stretch;justify-content: center;background-color: white;position: relative;}#sk-container-id-1 div.sk-item::before, #sk-container-id-1 div.sk-parallel-item::before {content: \"\";position: absolute;border-left: 1px solid gray;box-sizing: border-box;top: 0;bottom: 0;left: 50%;z-index: -1;}#sk-container-id-1 div.sk-parallel-item {display: flex;flex-direction: column;z-index: 1;position: relative;background-color: white;}#sk-container-id-1 div.sk-parallel-item:first-child::after {align-self: flex-end;width: 50%;}#sk-container-id-1 div.sk-parallel-item:last-child::after {align-self: flex-start;width: 50%;}#sk-container-id-1 div.sk-parallel-item:only-child::after {width: 0;}#sk-container-id-1 div.sk-dashed-wrapped {border: 1px dashed gray;margin: 0 0.4em 0.5em 0.4em;box-sizing: border-box;padding-bottom: 0.4em;background-color: white;}#sk-container-id-1 div.sk-label label {font-family: monospace;font-weight: bold;display: inline-block;line-height: 1.2em;}#sk-container-id-1 div.sk-label-container {text-align: center;}#sk-container-id-1 div.sk-container {/* jupyter's `normalize.less` sets `[hidden] { display: none; }` but bootstrap.min.css set `[hidden] { display: none !important; }` so we also need the `!important` here to be able to override the default hidden behavior on the sphinx rendered scikit-learn.org. See: https://github.com/scikit-learn/scikit-learn/issues/21755 */display: inline-block !important;position: relative;}#sk-container-id-1 div.sk-text-repr-fallback {display: none;}</style><div id=\"sk-container-id-1\" class=\"sk-top-container\"><div class=\"sk-text-repr-fallback\"><pre>XGBRegressor(base_score=0.5, booster=&#x27;gbtree&#x27;, colsample_bylevel=1,\n",
       "             colsample_bynode=1, colsample_bytree=0.5508582692612798,\n",
       "             enable_categorical=False, gamma=0, gpu_id=-1, importance_type=None,\n",
       "             interaction_constraints=&#x27;&#x27;, learning_rate=0.030448266872422834,\n",
       "             max_delta_step=0, max_depth=3, min_child_weight=1, missing=nan,\n",
       "             monotone_constraints=&#x27;()&#x27;, n_estimators=606, n_jobs=4,\n",
       "             num_parallel_tree=1, predictor=&#x27;auto&#x27;, random_state=2, reg_alpha=0,\n",
       "             reg_lambda=1, scale_pos_weight=1, subsample=0.780610834715479,\n",
       "             tree_method=&#x27;exact&#x27;, validate_parameters=1, verbosity=None)</pre><b>In a Jupyter environment, please rerun this cell to show the HTML representation or trust the notebook. <br />On GitHub, the HTML representation is unable to render, please try loading this page with nbviewer.org.</b></div><div class=\"sk-container\" hidden><div class=\"sk-item\"><div class=\"sk-estimator sk-toggleable\"><input class=\"sk-toggleable__control sk-hidden--visually\" id=\"sk-estimator-id-1\" type=\"checkbox\" checked><label for=\"sk-estimator-id-1\" class=\"sk-toggleable__label sk-toggleable__label-arrow\">XGBRegressor</label><div class=\"sk-toggleable__content\"><pre>XGBRegressor(base_score=0.5, booster=&#x27;gbtree&#x27;, colsample_bylevel=1,\n",
       "             colsample_bynode=1, colsample_bytree=0.5508582692612798,\n",
       "             enable_categorical=False, gamma=0, gpu_id=-1, importance_type=None,\n",
       "             interaction_constraints=&#x27;&#x27;, learning_rate=0.030448266872422834,\n",
       "             max_delta_step=0, max_depth=3, min_child_weight=1, missing=nan,\n",
       "             monotone_constraints=&#x27;()&#x27;, n_estimators=606, n_jobs=4,\n",
       "             num_parallel_tree=1, predictor=&#x27;auto&#x27;, random_state=2, reg_alpha=0,\n",
       "             reg_lambda=1, scale_pos_weight=1, subsample=0.780610834715479,\n",
       "             tree_method=&#x27;exact&#x27;, validate_parameters=1, verbosity=None)</pre></div></div></div></div></div>"
      ],
      "text/plain": [
       "XGBRegressor(base_score=0.5, booster='gbtree', colsample_bylevel=1,\n",
       "             colsample_bynode=1, colsample_bytree=0.5508582692612798,\n",
       "             enable_categorical=False, gamma=0, gpu_id=-1, importance_type=None,\n",
       "             interaction_constraints='', learning_rate=0.030448266872422834,\n",
       "             max_delta_step=0, max_depth=3, min_child_weight=1, missing=nan,\n",
       "             monotone_constraints='()', n_estimators=606, n_jobs=4,\n",
       "             num_parallel_tree=1, predictor='auto', random_state=2, reg_alpha=0,\n",
       "             reg_lambda=1, scale_pos_weight=1, subsample=0.780610834715479,\n",
       "             tree_method='exact', validate_parameters=1, verbosity=None)"
      ]
     },
     "execution_count": 13,
     "metadata": {},
     "output_type": "execute_result"
    }
   ],
   "source": [
    "# 최종 모델 생성 및 학습\n",
    "final_model = XGBRegressor(\n",
    "    max_depth=best_params['max_depth'],\n",
    "    learning_rate=best_params['learning_rate'],\n",
    "    n_estimators=best_params['n_estimators'],\n",
    "    colsample_bytree=best_params['colsample_bytree'],\n",
    "    subsample=best_params['subsample'],\n",
    "    min_child_weight=best_params['min_child_weight'],\n",
    "    objective='reg:squarederror',\n",
    "    random_state=2,\n",
    "    n_jobs=4\n",
    ")\n",
    "\n",
    "final_model.fit(X_train.values, y_train)"
   ]
  },
  {
   "cell_type": "code",
   "execution_count": 14,
   "metadata": {},
   "outputs": [],
   "source": [
    "# 모델 저장\n",
    "final_model.save_model('xgb_Lin_2.7 ~ 3.3.json')"
   ]
  },
  {
   "cell_type": "code",
   "execution_count": 15,
   "metadata": {},
   "outputs": [
    {
     "name": "stdout",
     "output_type": "stream",
     "text": [
      "MAE => 0.004725775797804334     MAPE => 0.1554642307823889    R2 => 0.25233797060366514\n"
     ]
    }
   ],
   "source": [
    "loaded_model = XGBRegressor()\n",
    "loaded_model.load_model('xgb_Lin_2.7 ~ 3.3.json')\n",
    "\n",
    "# 로드한 모델로 예측\n",
    "y_pred = loaded_model.predict(X_test)\n",
    "\n",
    "y_pred = loaded_model.predict(X_test)\n",
    "MAE = mean_absolute_error(y_test,y_pred)\n",
    "MAPE = mean_absolute_percentage_error(y_test,y_pred)\n",
    "Score = loaded_model.score(X_test,y_test)\n",
    "print(f'MAE => {MAE}     MAPE => {MAPE*100}    R2 => {Score}')"
   ]
  },
  {
   "cell_type": "code",
   "execution_count": null,
   "metadata": {},
   "outputs": [],
   "source": []
  },
  {
   "cell_type": "markdown",
   "metadata": {},
   "source": []
  }
 ],
 "metadata": {
  "kernelspec": {
   "display_name": "commate",
   "language": "python",
   "name": "python3"
  },
  "language_info": {
   "codemirror_mode": {
    "name": "ipython",
    "version": 3
   },
   "file_extension": ".py",
   "mimetype": "text/x-python",
   "name": "python",
   "nbconvert_exporter": "python",
   "pygments_lexer": "ipython3",
   "version": "3.8.20"
  }
 },
 "nbformat": 4,
 "nbformat_minor": 2
}
