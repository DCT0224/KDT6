{
 "cells": [
  {
   "cell_type": "code",
   "execution_count": 336,
   "metadata": {},
   "outputs": [],
   "source": [
    "# 모듈 로딩\n",
    "import pandas as pd\n",
    "from sklearn.model_selection import train_test_split, cross_val_score\n",
    "import numpy as np\n",
    "import matplotlib as plt\n",
    "import seaborn as sns\n",
    "from xgboost import XGBRegressor\n",
    "from sklearn.model_selection import GridSearchCV\n",
    "from bayes_opt import BayesianOptimization\n",
    "from sklearn.metrics import mean_absolute_error, mean_absolute_percentage_error"
   ]
  },
  {
   "cell_type": "code",
   "execution_count": 337,
   "metadata": {},
   "outputs": [],
   "source": [
    "# 데이터 로딩\n",
    "DATA_PATH = '../Dataset/팀원 데이터/Linear_model(2.9~3.1).csv'\n",
    "dataDF = pd.read_csv(DATA_PATH)"
   ]
  },
  {
   "cell_type": "markdown",
   "metadata": {},
   "source": [
    "### train_test 나누기"
   ]
  },
  {
   "cell_type": "code",
   "execution_count": 338,
   "metadata": {},
   "outputs": [
    {
     "data": {
      "text/html": [
       "<div>\n",
       "<style scoped>\n",
       "    .dataframe tbody tr th:only-of-type {\n",
       "        vertical-align: middle;\n",
       "    }\n",
       "\n",
       "    .dataframe tbody tr th {\n",
       "        vertical-align: top;\n",
       "    }\n",
       "\n",
       "    .dataframe thead th {\n",
       "        text-align: right;\n",
       "    }\n",
       "</style>\n",
       "<table border=\"1\" class=\"dataframe\">\n",
       "  <thead>\n",
       "    <tr style=\"text-align: right;\">\n",
       "      <th></th>\n",
       "      <th>c_temp_pv</th>\n",
       "      <th>k_rpm_pv</th>\n",
       "      <th>n_temp_pv</th>\n",
       "      <th>scale_pv</th>\n",
       "      <th>s_temp_pv</th>\n",
       "    </tr>\n",
       "  </thead>\n",
       "  <tbody>\n",
       "    <tr>\n",
       "      <th>0</th>\n",
       "      <td>69.6</td>\n",
       "      <td>189</td>\n",
       "      <td>67.2</td>\n",
       "      <td>3.010000</td>\n",
       "      <td>67.1</td>\n",
       "    </tr>\n",
       "    <tr>\n",
       "      <th>1</th>\n",
       "      <td>69.8</td>\n",
       "      <td>189</td>\n",
       "      <td>67.2</td>\n",
       "      <td>3.010000</td>\n",
       "      <td>67.0</td>\n",
       "    </tr>\n",
       "    <tr>\n",
       "      <th>2</th>\n",
       "      <td>69.7</td>\n",
       "      <td>189</td>\n",
       "      <td>67.9</td>\n",
       "      <td>3.080000</td>\n",
       "      <td>65.9</td>\n",
       "    </tr>\n",
       "    <tr>\n",
       "      <th>3</th>\n",
       "      <td>69.7</td>\n",
       "      <td>189</td>\n",
       "      <td>67.8</td>\n",
       "      <td>3.080000</td>\n",
       "      <td>65.9</td>\n",
       "    </tr>\n",
       "    <tr>\n",
       "      <th>4</th>\n",
       "      <td>69.7</td>\n",
       "      <td>189</td>\n",
       "      <td>67.8</td>\n",
       "      <td>3.080000</td>\n",
       "      <td>65.9</td>\n",
       "    </tr>\n",
       "    <tr>\n",
       "      <th>...</th>\n",
       "      <td>...</td>\n",
       "      <td>...</td>\n",
       "      <td>...</td>\n",
       "      <td>...</td>\n",
       "      <td>...</td>\n",
       "    </tr>\n",
       "    <tr>\n",
       "      <th>139826</th>\n",
       "      <td>70.4</td>\n",
       "      <td>185</td>\n",
       "      <td>66.7</td>\n",
       "      <td>3.060000</td>\n",
       "      <td>66.9</td>\n",
       "    </tr>\n",
       "    <tr>\n",
       "      <th>139827</th>\n",
       "      <td>70.4</td>\n",
       "      <td>185</td>\n",
       "      <td>66.6</td>\n",
       "      <td>3.035316</td>\n",
       "      <td>66.8</td>\n",
       "    </tr>\n",
       "    <tr>\n",
       "      <th>139828</th>\n",
       "      <td>70.3</td>\n",
       "      <td>185</td>\n",
       "      <td>66.7</td>\n",
       "      <td>3.036060</td>\n",
       "      <td>66.7</td>\n",
       "    </tr>\n",
       "    <tr>\n",
       "      <th>139829</th>\n",
       "      <td>70.4</td>\n",
       "      <td>185</td>\n",
       "      <td>66.7</td>\n",
       "      <td>3.036124</td>\n",
       "      <td>66.6</td>\n",
       "    </tr>\n",
       "    <tr>\n",
       "      <th>139830</th>\n",
       "      <td>70.3</td>\n",
       "      <td>185</td>\n",
       "      <td>66.7</td>\n",
       "      <td>3.050000</td>\n",
       "      <td>66.5</td>\n",
       "    </tr>\n",
       "  </tbody>\n",
       "</table>\n",
       "<p>139831 rows × 5 columns</p>\n",
       "</div>"
      ],
      "text/plain": [
       "        c_temp_pv  k_rpm_pv  n_temp_pv  scale_pv  s_temp_pv\n",
       "0            69.6       189       67.2  3.010000       67.1\n",
       "1            69.8       189       67.2  3.010000       67.0\n",
       "2            69.7       189       67.9  3.080000       65.9\n",
       "3            69.7       189       67.8  3.080000       65.9\n",
       "4            69.7       189       67.8  3.080000       65.9\n",
       "...           ...       ...        ...       ...        ...\n",
       "139826       70.4       185       66.7  3.060000       66.9\n",
       "139827       70.4       185       66.6  3.035316       66.8\n",
       "139828       70.3       185       66.7  3.036060       66.7\n",
       "139829       70.4       185       66.7  3.036124       66.6\n",
       "139830       70.3       185       66.7  3.050000       66.5\n",
       "\n",
       "[139831 rows x 5 columns]"
      ]
     },
     "execution_count": 338,
     "metadata": {},
     "output_type": "execute_result"
    }
   ],
   "source": [
    "dataDF"
   ]
  },
  {
   "cell_type": "code",
   "execution_count": 339,
   "metadata": {},
   "outputs": [],
   "source": [
    "target = dataDF['scale_pv']\n",
    "feature = dataDF.drop(columns='scale_pv')"
   ]
  },
  {
   "cell_type": "code",
   "execution_count": 340,
   "metadata": {},
   "outputs": [
    {
     "data": {
      "text/plain": [
       "0         3.010000\n",
       "1         3.010000\n",
       "2         3.080000\n",
       "3         3.080000\n",
       "4         3.080000\n",
       "            ...   \n",
       "139826    3.060000\n",
       "139827    3.035316\n",
       "139828    3.036060\n",
       "139829    3.036124\n",
       "139830    3.050000\n",
       "Name: scale_pv, Length: 139831, dtype: float64"
      ]
     },
     "execution_count": 340,
     "metadata": {},
     "output_type": "execute_result"
    }
   ],
   "source": [
    "target"
   ]
  },
  {
   "cell_type": "code",
   "execution_count": 341,
   "metadata": {},
   "outputs": [
    {
     "data": {
      "text/html": [
       "<div>\n",
       "<style scoped>\n",
       "    .dataframe tbody tr th:only-of-type {\n",
       "        vertical-align: middle;\n",
       "    }\n",
       "\n",
       "    .dataframe tbody tr th {\n",
       "        vertical-align: top;\n",
       "    }\n",
       "\n",
       "    .dataframe thead th {\n",
       "        text-align: right;\n",
       "    }\n",
       "</style>\n",
       "<table border=\"1\" class=\"dataframe\">\n",
       "  <thead>\n",
       "    <tr style=\"text-align: right;\">\n",
       "      <th></th>\n",
       "      <th>c_temp_pv</th>\n",
       "      <th>k_rpm_pv</th>\n",
       "      <th>n_temp_pv</th>\n",
       "      <th>s_temp_pv</th>\n",
       "    </tr>\n",
       "  </thead>\n",
       "  <tbody>\n",
       "    <tr>\n",
       "      <th>0</th>\n",
       "      <td>69.6</td>\n",
       "      <td>189</td>\n",
       "      <td>67.2</td>\n",
       "      <td>67.1</td>\n",
       "    </tr>\n",
       "    <tr>\n",
       "      <th>1</th>\n",
       "      <td>69.8</td>\n",
       "      <td>189</td>\n",
       "      <td>67.2</td>\n",
       "      <td>67.0</td>\n",
       "    </tr>\n",
       "    <tr>\n",
       "      <th>2</th>\n",
       "      <td>69.7</td>\n",
       "      <td>189</td>\n",
       "      <td>67.9</td>\n",
       "      <td>65.9</td>\n",
       "    </tr>\n",
       "    <tr>\n",
       "      <th>3</th>\n",
       "      <td>69.7</td>\n",
       "      <td>189</td>\n",
       "      <td>67.8</td>\n",
       "      <td>65.9</td>\n",
       "    </tr>\n",
       "    <tr>\n",
       "      <th>4</th>\n",
       "      <td>69.7</td>\n",
       "      <td>189</td>\n",
       "      <td>67.8</td>\n",
       "      <td>65.9</td>\n",
       "    </tr>\n",
       "    <tr>\n",
       "      <th>...</th>\n",
       "      <td>...</td>\n",
       "      <td>...</td>\n",
       "      <td>...</td>\n",
       "      <td>...</td>\n",
       "    </tr>\n",
       "    <tr>\n",
       "      <th>139826</th>\n",
       "      <td>70.4</td>\n",
       "      <td>185</td>\n",
       "      <td>66.7</td>\n",
       "      <td>66.9</td>\n",
       "    </tr>\n",
       "    <tr>\n",
       "      <th>139827</th>\n",
       "      <td>70.4</td>\n",
       "      <td>185</td>\n",
       "      <td>66.6</td>\n",
       "      <td>66.8</td>\n",
       "    </tr>\n",
       "    <tr>\n",
       "      <th>139828</th>\n",
       "      <td>70.3</td>\n",
       "      <td>185</td>\n",
       "      <td>66.7</td>\n",
       "      <td>66.7</td>\n",
       "    </tr>\n",
       "    <tr>\n",
       "      <th>139829</th>\n",
       "      <td>70.4</td>\n",
       "      <td>185</td>\n",
       "      <td>66.7</td>\n",
       "      <td>66.6</td>\n",
       "    </tr>\n",
       "    <tr>\n",
       "      <th>139830</th>\n",
       "      <td>70.3</td>\n",
       "      <td>185</td>\n",
       "      <td>66.7</td>\n",
       "      <td>66.5</td>\n",
       "    </tr>\n",
       "  </tbody>\n",
       "</table>\n",
       "<p>139831 rows × 4 columns</p>\n",
       "</div>"
      ],
      "text/plain": [
       "        c_temp_pv  k_rpm_pv  n_temp_pv  s_temp_pv\n",
       "0            69.6       189       67.2       67.1\n",
       "1            69.8       189       67.2       67.0\n",
       "2            69.7       189       67.9       65.9\n",
       "3            69.7       189       67.8       65.9\n",
       "4            69.7       189       67.8       65.9\n",
       "...           ...       ...        ...        ...\n",
       "139826       70.4       185       66.7       66.9\n",
       "139827       70.4       185       66.6       66.8\n",
       "139828       70.3       185       66.7       66.7\n",
       "139829       70.4       185       66.7       66.6\n",
       "139830       70.3       185       66.7       66.5\n",
       "\n",
       "[139831 rows x 4 columns]"
      ]
     },
     "execution_count": 341,
     "metadata": {},
     "output_type": "execute_result"
    }
   ],
   "source": [
    "feature"
   ]
  },
  {
   "cell_type": "code",
   "execution_count": 342,
   "metadata": {},
   "outputs": [],
   "source": [
    "X_train, X_test, y_train, y_test = train_test_split(feature,target, test_size= 0.2, random_state=77)"
   ]
  },
  {
   "cell_type": "code",
   "execution_count": 343,
   "metadata": {},
   "outputs": [],
   "source": [
    "# Bayesian Optimization을 위한 목적 함수 정의\n",
    "def xgb_evaluate(max_depth, n_estimators, learning_rate, colsample_bytree, subsample, min_child_weight):\n",
    "    params = {\n",
    "        'max_depth': int(max_depth),  # 정수형으로 변환\n",
    "        'learning_rate': learning_rate,\n",
    "        'n_estimators': int(n_estimators),  # 정수형으로 변환\n",
    "        'colsample_bytree': colsample_bytree,\n",
    "        'subsample': subsample,\n",
    "        'min_child_weight': int(min_child_weight),  # 정수형으로 변환\n",
    "        'objective': 'reg:squarederror',\n",
    "        'random_state': 2,\n",
    "        'n_jobs': 4\n",
    "    }\n",
    "    model = XGBRegressor(**params)\n",
    "    cv_scores = cross_val_score(model, X_train.values, y_train, cv=3, scoring='neg_mean_squared_error')\n",
    "    return -cv_scores.mean()  # MSE를 최소화해야 하므로 부호 반전\n",
    "\n",
    "## MSE는 낮을수록 좋은 지표이므로, 부호를 반전하여 반환\n",
    "## Bayesian Optimization은 목적 함수가 최대화하는 방향으로 작동하기 때문에, MSE의 부호를 반전하여 \"최적화 대상 점수\"로 사용\n"
   ]
  },
  {
   "cell_type": "code",
   "execution_count": 344,
   "metadata": {},
   "outputs": [],
   "source": [
    "# Bayesian Optimization 설정\n",
    "optimizer = BayesianOptimization(\n",
    "    f=xgb_evaluate,\n",
    "    pbounds={\n",
    "        'max_depth': (3, 7),\n",
    "        'n_estimators': (500, 1000),\n",
    "        'learning_rate': (0.03, 0.1),\n",
    "        'colsample_bytree': (0.5, 0.7),\n",
    "        'subsample': (0.5, 0.8),\n",
    "        'min_child_weight': (1, 5),\n",
    "    },\n",
    "    random_state=2,\n",
    ")"
   ]
  },
  {
   "cell_type": "code",
   "execution_count": 345,
   "metadata": {},
   "outputs": [
    {
     "name": "stdout",
     "output_type": "stream",
     "text": [
      "|   iter    |  target   | colsam... | learni... | max_depth | min_ch... | n_esti... | subsample |\n",
      "-------------------------------------------------------------------------------------------------\n",
      "| \u001b[0m1        \u001b[0m | \u001b[0m0.0001672\u001b[0m | \u001b[0m0.5872   \u001b[0m | \u001b[0m0.03181  \u001b[0m | \u001b[0m5.199    \u001b[0m | \u001b[0m2.741    \u001b[0m | \u001b[0m710.2    \u001b[0m | \u001b[0m0.5991   \u001b[0m |\n",
      "| \u001b[0m2        \u001b[0m | \u001b[0m0.0001668\u001b[0m | \u001b[0m0.5409   \u001b[0m | \u001b[0m0.07335  \u001b[0m | \u001b[0m4.199    \u001b[0m | \u001b[0m2.067    \u001b[0m | \u001b[0m810.6    \u001b[0m | \u001b[0m0.6587   \u001b[0m |\n",
      "| \u001b[95m3        \u001b[0m | \u001b[95m0.0001697\u001b[0m | \u001b[95m0.5269   \u001b[0m | \u001b[95m0.06595  \u001b[0m | \u001b[95m3.738    \u001b[0m | \u001b[95m4.141    \u001b[0m | \u001b[95m927.0    \u001b[0m | \u001b[95m0.6483   \u001b[0m |\n",
      "| \u001b[0m4        \u001b[0m | \u001b[0m0.0001667\u001b[0m | \u001b[0m0.6693   \u001b[0m | \u001b[0m0.03558  \u001b[0m | \u001b[0m5.021    \u001b[0m | \u001b[0m1.261    \u001b[0m | \u001b[0m714.1    \u001b[0m | \u001b[0m0.529    \u001b[0m |\n",
      "| \u001b[95m5        \u001b[0m | \u001b[95m0.0001703\u001b[0m | \u001b[95m0.5254   \u001b[0m | \u001b[95m0.07177  \u001b[0m | \u001b[95m3.904    \u001b[0m | \u001b[95m1.428    \u001b[0m | \u001b[95m610.2    \u001b[0m | \u001b[95m0.6049   \u001b[0m |\n",
      "| \u001b[95m6        \u001b[0m | \u001b[95m0.0001725\u001b[0m | \u001b[95m0.6243   \u001b[0m | \u001b[95m0.0328   \u001b[0m | \u001b[95m3.512    \u001b[0m | \u001b[95m4.496    \u001b[0m | \u001b[95m628.9    \u001b[0m | \u001b[95m0.5348   \u001b[0m |\n",
      "| \u001b[0m7        \u001b[0m | \u001b[0m0.0001648\u001b[0m | \u001b[0m0.6535   \u001b[0m | \u001b[0m0.06315  \u001b[0m | \u001b[0m6.992    \u001b[0m | \u001b[0m3.396    \u001b[0m | \u001b[0m652.0    \u001b[0m | \u001b[0m0.6657   \u001b[0m |\n",
      "| \u001b[0m8        \u001b[0m | \u001b[0m0.0001654\u001b[0m | \u001b[0m0.6191   \u001b[0m | \u001b[0m0.03602  \u001b[0m | \u001b[0m6.618    \u001b[0m | \u001b[0m1.118    \u001b[0m | \u001b[0m621.9    \u001b[0m | \u001b[0m0.6141   \u001b[0m |\n",
      "| \u001b[0m9        \u001b[0m | \u001b[0m0.0001706\u001b[0m | \u001b[0m0.6112   \u001b[0m | \u001b[0m0.06238  \u001b[0m | \u001b[0m3.321    \u001b[0m | \u001b[0m4.593    \u001b[0m | \u001b[0m631.0    \u001b[0m | \u001b[0m0.751    \u001b[0m |\n",
      "| \u001b[0m10       \u001b[0m | \u001b[0m0.0001658\u001b[0m | \u001b[0m0.5184   \u001b[0m | \u001b[0m0.04177  \u001b[0m | \u001b[0m6.312    \u001b[0m | \u001b[0m4.617    \u001b[0m | \u001b[0m628.7    \u001b[0m | \u001b[0m0.5319   \u001b[0m |\n",
      "| \u001b[0m11       \u001b[0m | \u001b[0m0.0001716\u001b[0m | \u001b[0m0.6969   \u001b[0m | \u001b[0m0.04563  \u001b[0m | \u001b[0m3.109    \u001b[0m | \u001b[0m4.356    \u001b[0m | \u001b[0m628.0    \u001b[0m | \u001b[0m0.6515   \u001b[0m |\n",
      "| \u001b[0m12       \u001b[0m | \u001b[0m0.0001717\u001b[0m | \u001b[0m0.6755   \u001b[0m | \u001b[0m0.04156  \u001b[0m | \u001b[0m3.153    \u001b[0m | \u001b[0m3.129    \u001b[0m | \u001b[0m629.2    \u001b[0m | \u001b[0m0.6051   \u001b[0m |\n",
      "| \u001b[0m13       \u001b[0m | \u001b[0m0.0001649\u001b[0m | \u001b[0m0.5355   \u001b[0m | \u001b[0m0.05061  \u001b[0m | \u001b[0m6.491    \u001b[0m | \u001b[0m1.914    \u001b[0m | \u001b[0m608.2    \u001b[0m | \u001b[0m0.6601   \u001b[0m |\n",
      "| \u001b[0m14       \u001b[0m | \u001b[0m0.0001715\u001b[0m | \u001b[0m0.5113   \u001b[0m | \u001b[0m0.04822  \u001b[0m | \u001b[0m3.033    \u001b[0m | \u001b[0m1.451    \u001b[0m | \u001b[0m613.3    \u001b[0m | \u001b[0m0.5668   \u001b[0m |\n",
      "| \u001b[0m15       \u001b[0m | \u001b[0m0.0001697\u001b[0m | \u001b[0m0.6728   \u001b[0m | \u001b[0m0.09171  \u001b[0m | \u001b[0m3.257    \u001b[0m | \u001b[0m3.858    \u001b[0m | \u001b[0m612.1    \u001b[0m | \u001b[0m0.507    \u001b[0m |\n",
      "| \u001b[0m16       \u001b[0m | \u001b[0m0.0001674\u001b[0m | \u001b[0m0.6161   \u001b[0m | \u001b[0m0.03526  \u001b[0m | \u001b[0m5.318    \u001b[0m | \u001b[0m1.64     \u001b[0m | \u001b[0m614.7    \u001b[0m | \u001b[0m0.502    \u001b[0m |\n",
      "| \u001b[0m17       \u001b[0m | \u001b[0m0.0001711\u001b[0m | \u001b[0m0.6103   \u001b[0m | \u001b[0m0.05253  \u001b[0m | \u001b[0m3.047    \u001b[0m | \u001b[0m1.299    \u001b[0m | \u001b[0m611.6    \u001b[0m | \u001b[0m0.7742   \u001b[0m |\n",
      "| \u001b[0m18       \u001b[0m | \u001b[0m0.0001715\u001b[0m | \u001b[0m0.5886   \u001b[0m | \u001b[0m0.04644  \u001b[0m | \u001b[0m3.465    \u001b[0m | \u001b[0m1.263    \u001b[0m | \u001b[0m631.7    \u001b[0m | \u001b[0m0.5593   \u001b[0m |\n",
      "| \u001b[0m19       \u001b[0m | \u001b[0m0.0001673\u001b[0m | \u001b[0m0.671    \u001b[0m | \u001b[0m0.07277  \u001b[0m | \u001b[0m4.225    \u001b[0m | \u001b[0m1.354    \u001b[0m | \u001b[0m635.0    \u001b[0m | \u001b[0m0.7472   \u001b[0m |\n",
      "| \u001b[0m20       \u001b[0m | \u001b[0m0.0001668\u001b[0m | \u001b[0m0.6623   \u001b[0m | \u001b[0m0.07591  \u001b[0m | \u001b[0m4.424    \u001b[0m | \u001b[0m1.305    \u001b[0m | \u001b[0m629.9    \u001b[0m | \u001b[0m0.7863   \u001b[0m |\n",
      "| \u001b[0m21       \u001b[0m | \u001b[0m0.0001703\u001b[0m | \u001b[0m0.5054   \u001b[0m | \u001b[0m0.07068  \u001b[0m | \u001b[0m3.48     \u001b[0m | \u001b[0m2.867    \u001b[0m | \u001b[0m632.3    \u001b[0m | \u001b[0m0.6428   \u001b[0m |\n",
      "| \u001b[0m22       \u001b[0m | \u001b[0m0.0001675\u001b[0m | \u001b[0m0.6556   \u001b[0m | \u001b[0m0.0509   \u001b[0m | \u001b[0m4.111    \u001b[0m | \u001b[0m4.448    \u001b[0m | \u001b[0m923.6    \u001b[0m | \u001b[0m0.7354   \u001b[0m |\n",
      "| \u001b[0m23       \u001b[0m | \u001b[0m0.0001686\u001b[0m | \u001b[0m0.5447   \u001b[0m | \u001b[0m0.09368  \u001b[0m | \u001b[0m3.99     \u001b[0m | \u001b[0m3.207    \u001b[0m | \u001b[0m930.2    \u001b[0m | \u001b[0m0.6699   \u001b[0m |\n",
      "| \u001b[0m24       \u001b[0m | \u001b[0m0.0001701\u001b[0m | \u001b[0m0.6078   \u001b[0m | \u001b[0m0.05136  \u001b[0m | \u001b[0m3.067    \u001b[0m | \u001b[0m1.297    \u001b[0m | \u001b[0m926.8    \u001b[0m | \u001b[0m0.5817   \u001b[0m |\n",
      "| \u001b[0m25       \u001b[0m | \u001b[0m0.0001654\u001b[0m | \u001b[0m0.6234   \u001b[0m | \u001b[0m0.07042  \u001b[0m | \u001b[0m6.069    \u001b[0m | \u001b[0m1.282    \u001b[0m | \u001b[0m927.2    \u001b[0m | \u001b[0m0.516    \u001b[0m |\n",
      "| \u001b[0m26       \u001b[0m | \u001b[0m0.0001668\u001b[0m | \u001b[0m0.6719   \u001b[0m | \u001b[0m0.09371  \u001b[0m | \u001b[0m4.997    \u001b[0m | \u001b[0m2.179    \u001b[0m | \u001b[0m611.9    \u001b[0m | \u001b[0m0.6273   \u001b[0m |\n",
      "| \u001b[0m27       \u001b[0m | \u001b[0m0.0001704\u001b[0m | \u001b[0m0.5526   \u001b[0m | \u001b[0m0.06558  \u001b[0m | \u001b[0m3.283    \u001b[0m | \u001b[0m2.523    \u001b[0m | \u001b[0m626.8    \u001b[0m | \u001b[0m0.7454   \u001b[0m |\n",
      "| \u001b[0m28       \u001b[0m | \u001b[0m0.0001694\u001b[0m | \u001b[0m0.5986   \u001b[0m | \u001b[0m0.09384  \u001b[0m | \u001b[0m3.316    \u001b[0m | \u001b[0m4.737    \u001b[0m | \u001b[0m625.6    \u001b[0m | \u001b[0m0.7105   \u001b[0m |\n",
      "| \u001b[0m29       \u001b[0m | \u001b[0m0.0001699\u001b[0m | \u001b[0m0.6568   \u001b[0m | \u001b[0m0.09004  \u001b[0m | \u001b[0m3.022    \u001b[0m | \u001b[0m3.515    \u001b[0m | \u001b[0m614.3    \u001b[0m | \u001b[0m0.6204   \u001b[0m |\n",
      "| \u001b[0m30       \u001b[0m | \u001b[0m0.0001704\u001b[0m | \u001b[0m0.5025   \u001b[0m | \u001b[0m0.07107  \u001b[0m | \u001b[0m3.149    \u001b[0m | \u001b[0m3.69     \u001b[0m | \u001b[0m609.2    \u001b[0m | \u001b[0m0.7534   \u001b[0m |\n",
      "=================================================================================================\n"
     ]
    }
   ],
   "source": [
    "# 최적화 실행\n",
    "# init_points는 초기 random으로 몇개의 값을 찾을것인지(베이지안 최적화는 기존 데이터를 기반으로 가우시안 프로세스 모델)\n",
    "# n_iter는 추가로 조사할 값들을 몇개 찾을지 설정(어디를 샘플링하면 최대값을 잘 찾을 수 있을지를 판단)\n",
    "optimizer.maximize(init_points=5, n_iter=25)"
   ]
  },
  {
   "cell_type": "code",
   "execution_count": 346,
   "metadata": {},
   "outputs": [],
   "source": [
    "# 최적의 하이퍼파라미터 추출\n",
    "best_params = optimizer.max['params']\n",
    "\n",
    "# 하이퍼파라미터 정수형 변환 (필요 시)\n",
    "best_params['max_depth'] = int(best_params['max_depth'])\n",
    "best_params['n_estimators'] = int(best_params['n_estimators'])\n",
    "best_params['min_child_weight'] = int(best_params['min_child_weight'])"
   ]
  },
  {
   "cell_type": "code",
   "execution_count": 347,
   "metadata": {},
   "outputs": [
    {
     "data": {
      "text/html": [
       "<style>#sk-container-id-20 {color: black;}#sk-container-id-20 pre{padding: 0;}#sk-container-id-20 div.sk-toggleable {background-color: white;}#sk-container-id-20 label.sk-toggleable__label {cursor: pointer;display: block;width: 100%;margin-bottom: 0;padding: 0.3em;box-sizing: border-box;text-align: center;}#sk-container-id-20 label.sk-toggleable__label-arrow:before {content: \"▸\";float: left;margin-right: 0.25em;color: #696969;}#sk-container-id-20 label.sk-toggleable__label-arrow:hover:before {color: black;}#sk-container-id-20 div.sk-estimator:hover label.sk-toggleable__label-arrow:before {color: black;}#sk-container-id-20 div.sk-toggleable__content {max-height: 0;max-width: 0;overflow: hidden;text-align: left;background-color: #f0f8ff;}#sk-container-id-20 div.sk-toggleable__content pre {margin: 0.2em;color: black;border-radius: 0.25em;background-color: #f0f8ff;}#sk-container-id-20 input.sk-toggleable__control:checked~div.sk-toggleable__content {max-height: 200px;max-width: 100%;overflow: auto;}#sk-container-id-20 input.sk-toggleable__control:checked~label.sk-toggleable__label-arrow:before {content: \"▾\";}#sk-container-id-20 div.sk-estimator input.sk-toggleable__control:checked~label.sk-toggleable__label {background-color: #d4ebff;}#sk-container-id-20 div.sk-label input.sk-toggleable__control:checked~label.sk-toggleable__label {background-color: #d4ebff;}#sk-container-id-20 input.sk-hidden--visually {border: 0;clip: rect(1px 1px 1px 1px);clip: rect(1px, 1px, 1px, 1px);height: 1px;margin: -1px;overflow: hidden;padding: 0;position: absolute;width: 1px;}#sk-container-id-20 div.sk-estimator {font-family: monospace;background-color: #f0f8ff;border: 1px dotted black;border-radius: 0.25em;box-sizing: border-box;margin-bottom: 0.5em;}#sk-container-id-20 div.sk-estimator:hover {background-color: #d4ebff;}#sk-container-id-20 div.sk-parallel-item::after {content: \"\";width: 100%;border-bottom: 1px solid gray;flex-grow: 1;}#sk-container-id-20 div.sk-label:hover label.sk-toggleable__label {background-color: #d4ebff;}#sk-container-id-20 div.sk-serial::before {content: \"\";position: absolute;border-left: 1px solid gray;box-sizing: border-box;top: 0;bottom: 0;left: 50%;z-index: 0;}#sk-container-id-20 div.sk-serial {display: flex;flex-direction: column;align-items: center;background-color: white;padding-right: 0.2em;padding-left: 0.2em;position: relative;}#sk-container-id-20 div.sk-item {position: relative;z-index: 1;}#sk-container-id-20 div.sk-parallel {display: flex;align-items: stretch;justify-content: center;background-color: white;position: relative;}#sk-container-id-20 div.sk-item::before, #sk-container-id-20 div.sk-parallel-item::before {content: \"\";position: absolute;border-left: 1px solid gray;box-sizing: border-box;top: 0;bottom: 0;left: 50%;z-index: -1;}#sk-container-id-20 div.sk-parallel-item {display: flex;flex-direction: column;z-index: 1;position: relative;background-color: white;}#sk-container-id-20 div.sk-parallel-item:first-child::after {align-self: flex-end;width: 50%;}#sk-container-id-20 div.sk-parallel-item:last-child::after {align-self: flex-start;width: 50%;}#sk-container-id-20 div.sk-parallel-item:only-child::after {width: 0;}#sk-container-id-20 div.sk-dashed-wrapped {border: 1px dashed gray;margin: 0 0.4em 0.5em 0.4em;box-sizing: border-box;padding-bottom: 0.4em;background-color: white;}#sk-container-id-20 div.sk-label label {font-family: monospace;font-weight: bold;display: inline-block;line-height: 1.2em;}#sk-container-id-20 div.sk-label-container {text-align: center;}#sk-container-id-20 div.sk-container {/* jupyter's `normalize.less` sets `[hidden] { display: none; }` but bootstrap.min.css set `[hidden] { display: none !important; }` so we also need the `!important` here to be able to override the default hidden behavior on the sphinx rendered scikit-learn.org. See: https://github.com/scikit-learn/scikit-learn/issues/21755 */display: inline-block !important;position: relative;}#sk-container-id-20 div.sk-text-repr-fallback {display: none;}</style><div id=\"sk-container-id-20\" class=\"sk-top-container\"><div class=\"sk-text-repr-fallback\"><pre>XGBRegressor(base_score=0.5, booster=&#x27;gbtree&#x27;, colsample_bylevel=1,\n",
       "             colsample_bynode=1, colsample_bytree=0.6243010951061198,\n",
       "             enable_categorical=False, gamma=0, gpu_id=-1, importance_type=None,\n",
       "             interaction_constraints=&#x27;&#x27;, learning_rate=0.03279748289216662,\n",
       "             max_delta_step=0, max_depth=3, min_child_weight=4, missing=nan,\n",
       "             monotone_constraints=&#x27;()&#x27;, n_estimators=628, n_jobs=4,\n",
       "             num_parallel_tree=1, predictor=&#x27;auto&#x27;, random_state=2, reg_alpha=0,\n",
       "             reg_lambda=1, scale_pos_weight=1, subsample=0.5347680210762598,\n",
       "             tree_method=&#x27;exact&#x27;, validate_parameters=1, verbosity=None)</pre><b>In a Jupyter environment, please rerun this cell to show the HTML representation or trust the notebook. <br />On GitHub, the HTML representation is unable to render, please try loading this page with nbviewer.org.</b></div><div class=\"sk-container\" hidden><div class=\"sk-item\"><div class=\"sk-estimator sk-toggleable\"><input class=\"sk-toggleable__control sk-hidden--visually\" id=\"sk-estimator-id-20\" type=\"checkbox\" checked><label for=\"sk-estimator-id-20\" class=\"sk-toggleable__label sk-toggleable__label-arrow\">XGBRegressor</label><div class=\"sk-toggleable__content\"><pre>XGBRegressor(base_score=0.5, booster=&#x27;gbtree&#x27;, colsample_bylevel=1,\n",
       "             colsample_bynode=1, colsample_bytree=0.6243010951061198,\n",
       "             enable_categorical=False, gamma=0, gpu_id=-1, importance_type=None,\n",
       "             interaction_constraints=&#x27;&#x27;, learning_rate=0.03279748289216662,\n",
       "             max_delta_step=0, max_depth=3, min_child_weight=4, missing=nan,\n",
       "             monotone_constraints=&#x27;()&#x27;, n_estimators=628, n_jobs=4,\n",
       "             num_parallel_tree=1, predictor=&#x27;auto&#x27;, random_state=2, reg_alpha=0,\n",
       "             reg_lambda=1, scale_pos_weight=1, subsample=0.5347680210762598,\n",
       "             tree_method=&#x27;exact&#x27;, validate_parameters=1, verbosity=None)</pre></div></div></div></div></div>"
      ],
      "text/plain": [
       "XGBRegressor(base_score=0.5, booster='gbtree', colsample_bylevel=1,\n",
       "             colsample_bynode=1, colsample_bytree=0.6243010951061198,\n",
       "             enable_categorical=False, gamma=0, gpu_id=-1, importance_type=None,\n",
       "             interaction_constraints='', learning_rate=0.03279748289216662,\n",
       "             max_delta_step=0, max_depth=3, min_child_weight=4, missing=nan,\n",
       "             monotone_constraints='()', n_estimators=628, n_jobs=4,\n",
       "             num_parallel_tree=1, predictor='auto', random_state=2, reg_alpha=0,\n",
       "             reg_lambda=1, scale_pos_weight=1, subsample=0.5347680210762598,\n",
       "             tree_method='exact', validate_parameters=1, verbosity=None)"
      ]
     },
     "execution_count": 347,
     "metadata": {},
     "output_type": "execute_result"
    }
   ],
   "source": [
    "# 최종 모델 생성 및 학습\n",
    "final_model = XGBRegressor(\n",
    "    max_depth=best_params['max_depth'],\n",
    "    learning_rate=best_params['learning_rate'],\n",
    "    n_estimators=best_params['n_estimators'],\n",
    "    colsample_bytree=best_params['colsample_bytree'],\n",
    "    subsample=best_params['subsample'],\n",
    "    min_child_weight=best_params['min_child_weight'],\n",
    "    objective='reg:squarederror',\n",
    "    random_state=2,\n",
    "    n_jobs=4\n",
    ")\n",
    "\n",
    "final_model.fit(X_train.values, y_train)"
   ]
  },
  {
   "cell_type": "code",
   "execution_count": 348,
   "metadata": {},
   "outputs": [],
   "source": [
    "# 모델 저장\n",
    "final_model.save_model('xgb_LM_2.9 ~ 3.1.json')"
   ]
  },
  {
   "cell_type": "code",
   "execution_count": 349,
   "metadata": {},
   "outputs": [
    {
     "name": "stdout",
     "output_type": "stream",
     "text": [
      "MAE => 0.005096931885343425     MAPE => 0.16795085218657616    R2 => 0.11516747966895902\n"
     ]
    }
   ],
   "source": [
    "loaded_model = XGBRegressor()\n",
    "loaded_model.load_model('xgb_LM_2.9 ~ 3.1.json')\n",
    "\n",
    "# 로드한 모델로 예측\n",
    "y_pred = loaded_model.predict(X_test)\n",
    "\n",
    "y_pred = loaded_model.predict(X_test)\n",
    "MAE = mean_absolute_error(y_test,y_pred)\n",
    "MAPE = mean_absolute_percentage_error(y_test,y_pred)\n",
    "Score = loaded_model.score(X_test,y_test)\n",
    "print(f'MAE => {MAE}     MAPE => {MAPE*100}    R2 => {Score}')"
   ]
  },
  {
   "cell_type": "code",
   "execution_count": null,
   "metadata": {},
   "outputs": [],
   "source": []
  },
  {
   "cell_type": "markdown",
   "metadata": {},
   "source": []
  }
 ],
 "metadata": {
  "kernelspec": {
   "display_name": "commate",
   "language": "python",
   "name": "python3"
  },
  "language_info": {
   "codemirror_mode": {
    "name": "ipython",
    "version": 3
   },
   "file_extension": ".py",
   "mimetype": "text/x-python",
   "name": "python",
   "nbconvert_exporter": "python",
   "pygments_lexer": "ipython3",
   "version": "3.8.20"
  }
 },
 "nbformat": 4,
 "nbformat_minor": 2
}
