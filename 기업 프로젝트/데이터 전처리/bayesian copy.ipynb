{
 "cells": [
  {
   "cell_type": "code",
   "execution_count": 1,
   "metadata": {},
   "outputs": [],
   "source": [
    "# 모듈 로딩\n",
    "import pandas as pd\n",
    "from sklearn.model_selection import train_test_split, cross_val_score\n",
    "import numpy as np\n",
    "import matplotlib as plt\n",
    "import seaborn as sns\n",
    "from xgboost import XGBRegressor\n",
    "from sklearn.model_selection import GridSearchCV\n",
    "from bayes_opt import BayesianOptimization\n",
    "from sklearn.metrics import mean_absolute_error, mean_absolute_percentage_error"
   ]
  },
  {
   "cell_type": "code",
   "execution_count": 2,
   "metadata": {},
   "outputs": [],
   "source": [
    "# 데이터 로딩\n",
    "DATA_PATH = '../Dataset/팀원 데이터/rpm170_KNN_n7_29_31.csv'\n",
    "dataDF = pd.read_csv(DATA_PATH)"
   ]
  },
  {
   "cell_type": "markdown",
   "metadata": {},
   "source": [
    "### train_test 나누기"
   ]
  },
  {
   "cell_type": "code",
   "execution_count": 3,
   "metadata": {},
   "outputs": [
    {
     "data": {
      "text/html": [
       "<div>\n",
       "<style scoped>\n",
       "    .dataframe tbody tr th:only-of-type {\n",
       "        vertical-align: middle;\n",
       "    }\n",
       "\n",
       "    .dataframe tbody tr th {\n",
       "        vertical-align: top;\n",
       "    }\n",
       "\n",
       "    .dataframe thead th {\n",
       "        text-align: right;\n",
       "    }\n",
       "</style>\n",
       "<table border=\"1\" class=\"dataframe\">\n",
       "  <thead>\n",
       "    <tr style=\"text-align: right;\">\n",
       "      <th></th>\n",
       "      <th>c_temp_pv</th>\n",
       "      <th>k_rpm_pv</th>\n",
       "      <th>n_temp_pv</th>\n",
       "      <th>scale_pv</th>\n",
       "      <th>s_temp_pv</th>\n",
       "    </tr>\n",
       "  </thead>\n",
       "  <tbody>\n",
       "    <tr>\n",
       "      <th>0</th>\n",
       "      <td>69.6</td>\n",
       "      <td>189.0</td>\n",
       "      <td>67.2</td>\n",
       "      <td>3.010000</td>\n",
       "      <td>67.1</td>\n",
       "    </tr>\n",
       "    <tr>\n",
       "      <th>1</th>\n",
       "      <td>69.8</td>\n",
       "      <td>189.0</td>\n",
       "      <td>67.2</td>\n",
       "      <td>3.010000</td>\n",
       "      <td>67.0</td>\n",
       "    </tr>\n",
       "    <tr>\n",
       "      <th>2</th>\n",
       "      <td>69.7</td>\n",
       "      <td>189.0</td>\n",
       "      <td>67.9</td>\n",
       "      <td>3.080000</td>\n",
       "      <td>65.9</td>\n",
       "    </tr>\n",
       "    <tr>\n",
       "      <th>3</th>\n",
       "      <td>69.7</td>\n",
       "      <td>189.0</td>\n",
       "      <td>67.8</td>\n",
       "      <td>3.080000</td>\n",
       "      <td>65.9</td>\n",
       "    </tr>\n",
       "    <tr>\n",
       "      <th>4</th>\n",
       "      <td>69.7</td>\n",
       "      <td>189.0</td>\n",
       "      <td>67.8</td>\n",
       "      <td>3.080000</td>\n",
       "      <td>65.9</td>\n",
       "    </tr>\n",
       "    <tr>\n",
       "      <th>...</th>\n",
       "      <td>...</td>\n",
       "      <td>...</td>\n",
       "      <td>...</td>\n",
       "      <td>...</td>\n",
       "      <td>...</td>\n",
       "    </tr>\n",
       "    <tr>\n",
       "      <th>139778</th>\n",
       "      <td>70.0</td>\n",
       "      <td>169.0</td>\n",
       "      <td>69.8</td>\n",
       "      <td>3.065714</td>\n",
       "      <td>70.2</td>\n",
       "    </tr>\n",
       "    <tr>\n",
       "      <th>139779</th>\n",
       "      <td>70.1</td>\n",
       "      <td>169.0</td>\n",
       "      <td>69.7</td>\n",
       "      <td>3.080000</td>\n",
       "      <td>70.3</td>\n",
       "    </tr>\n",
       "    <tr>\n",
       "      <th>139780</th>\n",
       "      <td>70.1</td>\n",
       "      <td>169.0</td>\n",
       "      <td>69.7</td>\n",
       "      <td>3.072857</td>\n",
       "      <td>70.4</td>\n",
       "    </tr>\n",
       "    <tr>\n",
       "      <th>139781</th>\n",
       "      <td>70.1</td>\n",
       "      <td>169.0</td>\n",
       "      <td>69.6</td>\n",
       "      <td>3.072857</td>\n",
       "      <td>70.5</td>\n",
       "    </tr>\n",
       "    <tr>\n",
       "      <th>139782</th>\n",
       "      <td>70.1</td>\n",
       "      <td>169.0</td>\n",
       "      <td>69.6</td>\n",
       "      <td>3.071429</td>\n",
       "      <td>70.7</td>\n",
       "    </tr>\n",
       "  </tbody>\n",
       "</table>\n",
       "<p>139783 rows × 5 columns</p>\n",
       "</div>"
      ],
      "text/plain": [
       "        c_temp_pv  k_rpm_pv  n_temp_pv  scale_pv  s_temp_pv\n",
       "0            69.6     189.0       67.2  3.010000       67.1\n",
       "1            69.8     189.0       67.2  3.010000       67.0\n",
       "2            69.7     189.0       67.9  3.080000       65.9\n",
       "3            69.7     189.0       67.8  3.080000       65.9\n",
       "4            69.7     189.0       67.8  3.080000       65.9\n",
       "...           ...       ...        ...       ...        ...\n",
       "139778       70.0     169.0       69.8  3.065714       70.2\n",
       "139779       70.1     169.0       69.7  3.080000       70.3\n",
       "139780       70.1     169.0       69.7  3.072857       70.4\n",
       "139781       70.1     169.0       69.6  3.072857       70.5\n",
       "139782       70.1     169.0       69.6  3.071429       70.7\n",
       "\n",
       "[139783 rows x 5 columns]"
      ]
     },
     "execution_count": 3,
     "metadata": {},
     "output_type": "execute_result"
    }
   ],
   "source": [
    "dataDF"
   ]
  },
  {
   "cell_type": "code",
   "execution_count": 4,
   "metadata": {},
   "outputs": [],
   "source": [
    "target = dataDF['scale_pv']\n",
    "feature = dataDF.drop(columns='scale_pv')"
   ]
  },
  {
   "cell_type": "code",
   "execution_count": 5,
   "metadata": {},
   "outputs": [
    {
     "data": {
      "text/plain": [
       "0         3.010000\n",
       "1         3.010000\n",
       "2         3.080000\n",
       "3         3.080000\n",
       "4         3.080000\n",
       "            ...   \n",
       "139778    3.065714\n",
       "139779    3.080000\n",
       "139780    3.072857\n",
       "139781    3.072857\n",
       "139782    3.071429\n",
       "Name: scale_pv, Length: 139783, dtype: float64"
      ]
     },
     "execution_count": 5,
     "metadata": {},
     "output_type": "execute_result"
    }
   ],
   "source": [
    "target"
   ]
  },
  {
   "cell_type": "code",
   "execution_count": 6,
   "metadata": {},
   "outputs": [
    {
     "data": {
      "text/html": [
       "<div>\n",
       "<style scoped>\n",
       "    .dataframe tbody tr th:only-of-type {\n",
       "        vertical-align: middle;\n",
       "    }\n",
       "\n",
       "    .dataframe tbody tr th {\n",
       "        vertical-align: top;\n",
       "    }\n",
       "\n",
       "    .dataframe thead th {\n",
       "        text-align: right;\n",
       "    }\n",
       "</style>\n",
       "<table border=\"1\" class=\"dataframe\">\n",
       "  <thead>\n",
       "    <tr style=\"text-align: right;\">\n",
       "      <th></th>\n",
       "      <th>c_temp_pv</th>\n",
       "      <th>k_rpm_pv</th>\n",
       "      <th>n_temp_pv</th>\n",
       "      <th>s_temp_pv</th>\n",
       "    </tr>\n",
       "  </thead>\n",
       "  <tbody>\n",
       "    <tr>\n",
       "      <th>0</th>\n",
       "      <td>69.6</td>\n",
       "      <td>189.0</td>\n",
       "      <td>67.2</td>\n",
       "      <td>67.1</td>\n",
       "    </tr>\n",
       "    <tr>\n",
       "      <th>1</th>\n",
       "      <td>69.8</td>\n",
       "      <td>189.0</td>\n",
       "      <td>67.2</td>\n",
       "      <td>67.0</td>\n",
       "    </tr>\n",
       "    <tr>\n",
       "      <th>2</th>\n",
       "      <td>69.7</td>\n",
       "      <td>189.0</td>\n",
       "      <td>67.9</td>\n",
       "      <td>65.9</td>\n",
       "    </tr>\n",
       "    <tr>\n",
       "      <th>3</th>\n",
       "      <td>69.7</td>\n",
       "      <td>189.0</td>\n",
       "      <td>67.8</td>\n",
       "      <td>65.9</td>\n",
       "    </tr>\n",
       "    <tr>\n",
       "      <th>4</th>\n",
       "      <td>69.7</td>\n",
       "      <td>189.0</td>\n",
       "      <td>67.8</td>\n",
       "      <td>65.9</td>\n",
       "    </tr>\n",
       "    <tr>\n",
       "      <th>...</th>\n",
       "      <td>...</td>\n",
       "      <td>...</td>\n",
       "      <td>...</td>\n",
       "      <td>...</td>\n",
       "    </tr>\n",
       "    <tr>\n",
       "      <th>139778</th>\n",
       "      <td>70.0</td>\n",
       "      <td>169.0</td>\n",
       "      <td>69.8</td>\n",
       "      <td>70.2</td>\n",
       "    </tr>\n",
       "    <tr>\n",
       "      <th>139779</th>\n",
       "      <td>70.1</td>\n",
       "      <td>169.0</td>\n",
       "      <td>69.7</td>\n",
       "      <td>70.3</td>\n",
       "    </tr>\n",
       "    <tr>\n",
       "      <th>139780</th>\n",
       "      <td>70.1</td>\n",
       "      <td>169.0</td>\n",
       "      <td>69.7</td>\n",
       "      <td>70.4</td>\n",
       "    </tr>\n",
       "    <tr>\n",
       "      <th>139781</th>\n",
       "      <td>70.1</td>\n",
       "      <td>169.0</td>\n",
       "      <td>69.6</td>\n",
       "      <td>70.5</td>\n",
       "    </tr>\n",
       "    <tr>\n",
       "      <th>139782</th>\n",
       "      <td>70.1</td>\n",
       "      <td>169.0</td>\n",
       "      <td>69.6</td>\n",
       "      <td>70.7</td>\n",
       "    </tr>\n",
       "  </tbody>\n",
       "</table>\n",
       "<p>139783 rows × 4 columns</p>\n",
       "</div>"
      ],
      "text/plain": [
       "        c_temp_pv  k_rpm_pv  n_temp_pv  s_temp_pv\n",
       "0            69.6     189.0       67.2       67.1\n",
       "1            69.8     189.0       67.2       67.0\n",
       "2            69.7     189.0       67.9       65.9\n",
       "3            69.7     189.0       67.8       65.9\n",
       "4            69.7     189.0       67.8       65.9\n",
       "...           ...       ...        ...        ...\n",
       "139778       70.0     169.0       69.8       70.2\n",
       "139779       70.1     169.0       69.7       70.3\n",
       "139780       70.1     169.0       69.7       70.4\n",
       "139781       70.1     169.0       69.6       70.5\n",
       "139782       70.1     169.0       69.6       70.7\n",
       "\n",
       "[139783 rows x 4 columns]"
      ]
     },
     "execution_count": 6,
     "metadata": {},
     "output_type": "execute_result"
    }
   ],
   "source": [
    "feature"
   ]
  },
  {
   "cell_type": "code",
   "execution_count": 7,
   "metadata": {},
   "outputs": [],
   "source": [
    "X_train, X_test, y_train, y_test = train_test_split(feature,target, test_size= 0.2, random_state=77)"
   ]
  },
  {
   "cell_type": "code",
   "execution_count": 8,
   "metadata": {},
   "outputs": [],
   "source": [
    "# Bayesian Optimization을 위한 목적 함수 정의\n",
    "def xgb_evaluate(max_depth, n_estimators, learning_rate, colsample_bytree, subsample, min_child_weight):\n",
    "    params = {\n",
    "        'max_depth': int(max_depth),  # 정수형으로 변환\n",
    "        'learning_rate': learning_rate,\n",
    "        'n_estimators': int(n_estimators),  # 정수형으로 변환\n",
    "        'colsample_bytree': colsample_bytree,\n",
    "        'subsample': subsample,\n",
    "        'min_child_weight': int(min_child_weight),  # 정수형으로 변환\n",
    "        'objective': 'reg:squarederror',\n",
    "        'random_state': 2,\n",
    "        'n_jobs': 4\n",
    "    }\n",
    "    model = XGBRegressor(**params)\n",
    "    cv_scores = cross_val_score(model, X_train.values, y_train, cv=3, scoring='neg_mean_squared_error')\n",
    "    return -cv_scores.mean()  # MSE를 최소화해야 하므로 부호 반전\n",
    "\n",
    "## MSE는 낮을수록 좋은 지표이므로, 부호를 반전하여 반환\n",
    "## Bayesian Optimization은 목적 함수가 최대화하는 방향으로 작동하기 때문에, MSE의 부호를 반전하여 \"최적화 대상 점수\"로 사용\n"
   ]
  },
  {
   "cell_type": "code",
   "execution_count": 9,
   "metadata": {},
   "outputs": [],
   "source": [
    "# Bayesian Optimization 설정\n",
    "optimizer = BayesianOptimization(\n",
    "    f=xgb_evaluate,\n",
    "    pbounds={\n",
    "        'max_depth': (3, 7),\n",
    "        'n_estimators': (500, 1000),\n",
    "        'learning_rate': (0.03, 0.1),\n",
    "        'colsample_bytree': (0.5, 0.7),\n",
    "        'subsample': (0.5, 0.8),\n",
    "        'min_child_weight': (1, 5),\n",
    "    },\n",
    "    random_state=2,\n",
    ")"
   ]
  },
  {
   "cell_type": "code",
   "execution_count": 10,
   "metadata": {},
   "outputs": [
    {
     "name": "stdout",
     "output_type": "stream",
     "text": [
      "|   iter    |  target   | colsam... | learni... | max_depth | min_ch... | n_esti... | subsample |\n",
      "-------------------------------------------------------------------------------------------------\n",
      "| \u001b[0m1        \u001b[0m | \u001b[0m0.0003078\u001b[0m | \u001b[0m0.5872   \u001b[0m | \u001b[0m0.03181  \u001b[0m | \u001b[0m5.199    \u001b[0m | \u001b[0m2.741    \u001b[0m | \u001b[0m710.2    \u001b[0m | \u001b[0m0.5991   \u001b[0m |\n",
      "| \u001b[0m2        \u001b[0m | \u001b[0m0.000298 \u001b[0m | \u001b[0m0.5409   \u001b[0m | \u001b[0m0.07335  \u001b[0m | \u001b[0m4.199    \u001b[0m | \u001b[0m2.067    \u001b[0m | \u001b[0m810.6    \u001b[0m | \u001b[0m0.6587   \u001b[0m |\n",
      "| \u001b[95m3        \u001b[0m | \u001b[95m0.0003236\u001b[0m | \u001b[95m0.5269   \u001b[0m | \u001b[95m0.06595  \u001b[0m | \u001b[95m3.738    \u001b[0m | \u001b[95m4.141    \u001b[0m | \u001b[95m927.0    \u001b[0m | \u001b[95m0.6483   \u001b[0m |\n",
      "| \u001b[0m4        \u001b[0m | \u001b[0m0.0003036\u001b[0m | \u001b[0m0.6693   \u001b[0m | \u001b[0m0.03558  \u001b[0m | \u001b[0m5.021    \u001b[0m | \u001b[0m1.261    \u001b[0m | \u001b[0m714.1    \u001b[0m | \u001b[0m0.529    \u001b[0m |\n",
      "| \u001b[95m5        \u001b[0m | \u001b[95m0.0003322\u001b[0m | \u001b[95m0.5254   \u001b[0m | \u001b[95m0.07177  \u001b[0m | \u001b[95m3.904    \u001b[0m | \u001b[95m1.428    \u001b[0m | \u001b[95m610.2    \u001b[0m | \u001b[95m0.6049   \u001b[0m |\n",
      "| \u001b[95m6        \u001b[0m | \u001b[95m0.0003462\u001b[0m | \u001b[95m0.5958   \u001b[0m | \u001b[95m0.04168  \u001b[0m | \u001b[95m3.183    \u001b[0m | \u001b[95m1.021    \u001b[0m | \u001b[95m626.4    \u001b[0m | \u001b[95m0.7675   \u001b[0m |\n",
      "| \u001b[0m7        \u001b[0m | \u001b[0m0.0002902\u001b[0m | \u001b[0m0.529    \u001b[0m | \u001b[0m0.0623   \u001b[0m | \u001b[0m5.704    \u001b[0m | \u001b[0m4.542    \u001b[0m | \u001b[0m649.7    \u001b[0m | \u001b[0m0.7858   \u001b[0m |\n",
      "| \u001b[0m8        \u001b[0m | \u001b[0m0.0002696\u001b[0m | \u001b[0m0.5452   \u001b[0m | \u001b[0m0.09424  \u001b[0m | \u001b[0m6.637    \u001b[0m | \u001b[0m4.749    \u001b[0m | \u001b[0m620.9    \u001b[0m | \u001b[0m0.5344   \u001b[0m |\n",
      "| \u001b[0m9        \u001b[0m | \u001b[0m0.0003278\u001b[0m | \u001b[0m0.5222   \u001b[0m | \u001b[0m0.08115  \u001b[0m | \u001b[0m3.575    \u001b[0m | \u001b[0m2.106    \u001b[0m | \u001b[0m626.9    \u001b[0m | \u001b[0m0.7768   \u001b[0m |\n",
      "| \u001b[0m10       \u001b[0m | \u001b[0m0.0003325\u001b[0m | \u001b[0m0.5724   \u001b[0m | \u001b[0m0.06935  \u001b[0m | \u001b[0m3.091    \u001b[0m | \u001b[0m1.823    \u001b[0m | \u001b[0m624.1    \u001b[0m | \u001b[0m0.6721   \u001b[0m |\n",
      "| \u001b[0m11       \u001b[0m | \u001b[0m0.0002963\u001b[0m | \u001b[0m0.6218   \u001b[0m | \u001b[0m0.05116  \u001b[0m | \u001b[0m5.51     \u001b[0m | \u001b[0m1.027    \u001b[0m | \u001b[0m625.9    \u001b[0m | \u001b[0m0.575    \u001b[0m |\n",
      "| \u001b[0m12       \u001b[0m | \u001b[0m0.0003318\u001b[0m | \u001b[0m0.5618   \u001b[0m | \u001b[0m0.06999  \u001b[0m | \u001b[0m3.028    \u001b[0m | \u001b[0m3.087    \u001b[0m | \u001b[0m625.0    \u001b[0m | \u001b[0m0.6967   \u001b[0m |\n",
      "| \u001b[0m13       \u001b[0m | \u001b[0m0.0003245\u001b[0m | \u001b[0m0.6026   \u001b[0m | \u001b[0m0.09456  \u001b[0m | \u001b[0m3.642    \u001b[0m | \u001b[0m2.86     \u001b[0m | \u001b[0m608.2    \u001b[0m | \u001b[0m0.7062   \u001b[0m |\n",
      "| \u001b[0m14       \u001b[0m | \u001b[0m0.0002717\u001b[0m | \u001b[0m0.5198   \u001b[0m | \u001b[0m0.08037  \u001b[0m | \u001b[0m6.408    \u001b[0m | \u001b[0m2.15     \u001b[0m | \u001b[0m610.0    \u001b[0m | \u001b[0m0.5966   \u001b[0m |\n",
      "| \u001b[95m15       \u001b[0m | \u001b[95m0.0003513\u001b[0m | \u001b[95m0.5362   \u001b[0m | \u001b[95m0.03467  \u001b[0m | \u001b[95m3.004    \u001b[0m | \u001b[95m1.466    \u001b[0m | \u001b[95m609.1    \u001b[0m | \u001b[95m0.7277   \u001b[0m |\n",
      "| \u001b[0m16       \u001b[0m | \u001b[0m0.000339 \u001b[0m | \u001b[0m0.6218   \u001b[0m | \u001b[0m0.05552  \u001b[0m | \u001b[0m3.565    \u001b[0m | \u001b[0m1.245    \u001b[0m | \u001b[0m605.8    \u001b[0m | \u001b[0m0.6161   \u001b[0m |\n",
      "| \u001b[0m17       \u001b[0m | \u001b[0m0.0003513\u001b[0m | \u001b[0m0.5844   \u001b[0m | \u001b[0m0.03522  \u001b[0m | \u001b[0m3.306    \u001b[0m | \u001b[0m1.207    \u001b[0m | \u001b[0m603.1    \u001b[0m | \u001b[0m0.6075   \u001b[0m |\n",
      "| \u001b[0m18       \u001b[0m | \u001b[0m0.0002815\u001b[0m | \u001b[0m0.5717   \u001b[0m | \u001b[0m0.09124  \u001b[0m | \u001b[0m5.772    \u001b[0m | \u001b[0m1.295    \u001b[0m | \u001b[0m602.5    \u001b[0m | \u001b[0m0.7154   \u001b[0m |\n",
      "| \u001b[0m19       \u001b[0m | \u001b[0m0.000329 \u001b[0m | \u001b[0m0.5731   \u001b[0m | \u001b[0m0.08321  \u001b[0m | \u001b[0m3.243    \u001b[0m | \u001b[0m2.15     \u001b[0m | \u001b[0m603.6    \u001b[0m | \u001b[0m0.7518   \u001b[0m |\n",
      "| \u001b[0m20       \u001b[0m | \u001b[0m0.0003232\u001b[0m | \u001b[0m0.5473   \u001b[0m | \u001b[0m0.09898  \u001b[0m | \u001b[0m3.357    \u001b[0m | \u001b[0m1.569    \u001b[0m | \u001b[0m607.6    \u001b[0m | \u001b[0m0.6587   \u001b[0m |\n",
      "| \u001b[0m21       \u001b[0m | \u001b[0m0.0003438\u001b[0m | \u001b[0m0.6864   \u001b[0m | \u001b[0m0.04651  \u001b[0m | \u001b[0m3.039    \u001b[0m | \u001b[0m1.88     \u001b[0m | \u001b[0m601.7    \u001b[0m | \u001b[0m0.7709   \u001b[0m |\n",
      "| \u001b[0m22       \u001b[0m | \u001b[0m0.0003497\u001b[0m | \u001b[0m0.6396   \u001b[0m | \u001b[0m0.03713  \u001b[0m | \u001b[0m3.094    \u001b[0m | \u001b[0m3.166    \u001b[0m | \u001b[0m610.2    \u001b[0m | \u001b[0m0.6082   \u001b[0m |\n",
      "| \u001b[0m23       \u001b[0m | \u001b[0m0.0003448\u001b[0m | \u001b[0m0.5359   \u001b[0m | \u001b[0m0.04475  \u001b[0m | \u001b[0m3.053    \u001b[0m | \u001b[0m4.215    \u001b[0m | \u001b[0m612.0    \u001b[0m | \u001b[0m0.6045   \u001b[0m |\n",
      "| \u001b[0m24       \u001b[0m | \u001b[0m0.0003244\u001b[0m | \u001b[0m0.5242   \u001b[0m | \u001b[0m0.09427  \u001b[0m | \u001b[0m3.078    \u001b[0m | \u001b[0m2.016    \u001b[0m | \u001b[0m612.6    \u001b[0m | \u001b[0m0.67     \u001b[0m |\n",
      "| \u001b[95m25       \u001b[0m | \u001b[95m0.0003527\u001b[0m | \u001b[95m0.5795   \u001b[0m | \u001b[95m0.03254  \u001b[0m | \u001b[95m3.166    \u001b[0m | \u001b[95m4.986    \u001b[0m | \u001b[95m614.7    \u001b[0m | \u001b[95m0.5752   \u001b[0m |\n",
      "| \u001b[0m26       \u001b[0m | \u001b[0m0.0003037\u001b[0m | \u001b[0m0.5534   \u001b[0m | \u001b[0m0.07977  \u001b[0m | \u001b[0m4.677    \u001b[0m | \u001b[0m4.263    \u001b[0m | \u001b[0m613.9    \u001b[0m | \u001b[0m0.7361   \u001b[0m |\n",
      "| \u001b[0m27       \u001b[0m | \u001b[0m0.0003318\u001b[0m | \u001b[0m0.5788   \u001b[0m | \u001b[0m0.07005  \u001b[0m | \u001b[0m3.247    \u001b[0m | \u001b[0m4.877    \u001b[0m | \u001b[0m616.2    \u001b[0m | \u001b[0m0.683    \u001b[0m |\n",
      "| \u001b[0m28       \u001b[0m | \u001b[0m0.0003524\u001b[0m | \u001b[0m0.6863   \u001b[0m | \u001b[0m0.0333   \u001b[0m | \u001b[0m3.07     \u001b[0m | \u001b[0m4.888    \u001b[0m | \u001b[0m610.7    \u001b[0m | \u001b[0m0.6072   \u001b[0m |\n",
      "| \u001b[0m29       \u001b[0m | \u001b[0m0.0003281\u001b[0m | \u001b[0m0.5519   \u001b[0m | \u001b[0m0.08637  \u001b[0m | \u001b[0m3.142    \u001b[0m | \u001b[0m1.879    \u001b[0m | \u001b[0m598.4    \u001b[0m | \u001b[0m0.7595   \u001b[0m |\n",
      "| \u001b[0m30       \u001b[0m | \u001b[0m0.0003514\u001b[0m | \u001b[0m0.6002   \u001b[0m | \u001b[0m0.03329  \u001b[0m | \u001b[0m3.183    \u001b[0m | \u001b[0m1.08     \u001b[0m | \u001b[0m628.9    \u001b[0m | \u001b[0m0.6574   \u001b[0m |\n",
      "=================================================================================================\n"
     ]
    }
   ],
   "source": [
    "# 최적화 실행\n",
    "# init_points는 초기 random으로 몇개의 값을 찾을것인지(베이지안 최적화는 기존 데이터를 기반으로 가우시안 프로세스 모델)\n",
    "# n_iter는 추가로 조사할 값들을 몇개 찾을지 설정(어디를 샘플링하면 최대값을 잘 찾을 수 있을지를 판단)\n",
    "optimizer.maximize(init_points=5, n_iter=25)"
   ]
  },
  {
   "cell_type": "code",
   "execution_count": 11,
   "metadata": {},
   "outputs": [],
   "source": [
    "# 최적의 하이퍼파라미터 추출\n",
    "best_params = optimizer.max['params']\n",
    "\n",
    "# 하이퍼파라미터 정수형 변환 (필요 시)\n",
    "best_params['max_depth'] = int(best_params['max_depth'])\n",
    "best_params['n_estimators'] = int(best_params['n_estimators'])\n",
    "best_params['min_child_weight'] = int(best_params['min_child_weight'])"
   ]
  },
  {
   "cell_type": "code",
   "execution_count": 12,
   "metadata": {},
   "outputs": [
    {
     "data": {
      "text/html": [
       "<style>#sk-container-id-1 {color: black;}#sk-container-id-1 pre{padding: 0;}#sk-container-id-1 div.sk-toggleable {background-color: white;}#sk-container-id-1 label.sk-toggleable__label {cursor: pointer;display: block;width: 100%;margin-bottom: 0;padding: 0.3em;box-sizing: border-box;text-align: center;}#sk-container-id-1 label.sk-toggleable__label-arrow:before {content: \"▸\";float: left;margin-right: 0.25em;color: #696969;}#sk-container-id-1 label.sk-toggleable__label-arrow:hover:before {color: black;}#sk-container-id-1 div.sk-estimator:hover label.sk-toggleable__label-arrow:before {color: black;}#sk-container-id-1 div.sk-toggleable__content {max-height: 0;max-width: 0;overflow: hidden;text-align: left;background-color: #f0f8ff;}#sk-container-id-1 div.sk-toggleable__content pre {margin: 0.2em;color: black;border-radius: 0.25em;background-color: #f0f8ff;}#sk-container-id-1 input.sk-toggleable__control:checked~div.sk-toggleable__content {max-height: 200px;max-width: 100%;overflow: auto;}#sk-container-id-1 input.sk-toggleable__control:checked~label.sk-toggleable__label-arrow:before {content: \"▾\";}#sk-container-id-1 div.sk-estimator input.sk-toggleable__control:checked~label.sk-toggleable__label {background-color: #d4ebff;}#sk-container-id-1 div.sk-label input.sk-toggleable__control:checked~label.sk-toggleable__label {background-color: #d4ebff;}#sk-container-id-1 input.sk-hidden--visually {border: 0;clip: rect(1px 1px 1px 1px);clip: rect(1px, 1px, 1px, 1px);height: 1px;margin: -1px;overflow: hidden;padding: 0;position: absolute;width: 1px;}#sk-container-id-1 div.sk-estimator {font-family: monospace;background-color: #f0f8ff;border: 1px dotted black;border-radius: 0.25em;box-sizing: border-box;margin-bottom: 0.5em;}#sk-container-id-1 div.sk-estimator:hover {background-color: #d4ebff;}#sk-container-id-1 div.sk-parallel-item::after {content: \"\";width: 100%;border-bottom: 1px solid gray;flex-grow: 1;}#sk-container-id-1 div.sk-label:hover label.sk-toggleable__label {background-color: #d4ebff;}#sk-container-id-1 div.sk-serial::before {content: \"\";position: absolute;border-left: 1px solid gray;box-sizing: border-box;top: 0;bottom: 0;left: 50%;z-index: 0;}#sk-container-id-1 div.sk-serial {display: flex;flex-direction: column;align-items: center;background-color: white;padding-right: 0.2em;padding-left: 0.2em;position: relative;}#sk-container-id-1 div.sk-item {position: relative;z-index: 1;}#sk-container-id-1 div.sk-parallel {display: flex;align-items: stretch;justify-content: center;background-color: white;position: relative;}#sk-container-id-1 div.sk-item::before, #sk-container-id-1 div.sk-parallel-item::before {content: \"\";position: absolute;border-left: 1px solid gray;box-sizing: border-box;top: 0;bottom: 0;left: 50%;z-index: -1;}#sk-container-id-1 div.sk-parallel-item {display: flex;flex-direction: column;z-index: 1;position: relative;background-color: white;}#sk-container-id-1 div.sk-parallel-item:first-child::after {align-self: flex-end;width: 50%;}#sk-container-id-1 div.sk-parallel-item:last-child::after {align-self: flex-start;width: 50%;}#sk-container-id-1 div.sk-parallel-item:only-child::after {width: 0;}#sk-container-id-1 div.sk-dashed-wrapped {border: 1px dashed gray;margin: 0 0.4em 0.5em 0.4em;box-sizing: border-box;padding-bottom: 0.4em;background-color: white;}#sk-container-id-1 div.sk-label label {font-family: monospace;font-weight: bold;display: inline-block;line-height: 1.2em;}#sk-container-id-1 div.sk-label-container {text-align: center;}#sk-container-id-1 div.sk-container {/* jupyter's `normalize.less` sets `[hidden] { display: none; }` but bootstrap.min.css set `[hidden] { display: none !important; }` so we also need the `!important` here to be able to override the default hidden behavior on the sphinx rendered scikit-learn.org. See: https://github.com/scikit-learn/scikit-learn/issues/21755 */display: inline-block !important;position: relative;}#sk-container-id-1 div.sk-text-repr-fallback {display: none;}</style><div id=\"sk-container-id-1\" class=\"sk-top-container\"><div class=\"sk-text-repr-fallback\"><pre>XGBRegressor(base_score=0.5, booster=&#x27;gbtree&#x27;, colsample_bylevel=1,\n",
       "             colsample_bynode=1, colsample_bytree=0.5795117600809843,\n",
       "             enable_categorical=False, gamma=0, gpu_id=-1, importance_type=None,\n",
       "             interaction_constraints=&#x27;&#x27;, learning_rate=0.032543501006192146,\n",
       "             max_delta_step=0, max_depth=3, min_child_weight=4, missing=nan,\n",
       "             monotone_constraints=&#x27;()&#x27;, n_estimators=614, n_jobs=4,\n",
       "             num_parallel_tree=1, predictor=&#x27;auto&#x27;, random_state=2, reg_alpha=0,\n",
       "             reg_lambda=1, scale_pos_weight=1, subsample=0.5752190694540291,\n",
       "             tree_method=&#x27;exact&#x27;, validate_parameters=1, verbosity=None)</pre><b>In a Jupyter environment, please rerun this cell to show the HTML representation or trust the notebook. <br />On GitHub, the HTML representation is unable to render, please try loading this page with nbviewer.org.</b></div><div class=\"sk-container\" hidden><div class=\"sk-item\"><div class=\"sk-estimator sk-toggleable\"><input class=\"sk-toggleable__control sk-hidden--visually\" id=\"sk-estimator-id-1\" type=\"checkbox\" checked><label for=\"sk-estimator-id-1\" class=\"sk-toggleable__label sk-toggleable__label-arrow\">XGBRegressor</label><div class=\"sk-toggleable__content\"><pre>XGBRegressor(base_score=0.5, booster=&#x27;gbtree&#x27;, colsample_bylevel=1,\n",
       "             colsample_bynode=1, colsample_bytree=0.5795117600809843,\n",
       "             enable_categorical=False, gamma=0, gpu_id=-1, importance_type=None,\n",
       "             interaction_constraints=&#x27;&#x27;, learning_rate=0.032543501006192146,\n",
       "             max_delta_step=0, max_depth=3, min_child_weight=4, missing=nan,\n",
       "             monotone_constraints=&#x27;()&#x27;, n_estimators=614, n_jobs=4,\n",
       "             num_parallel_tree=1, predictor=&#x27;auto&#x27;, random_state=2, reg_alpha=0,\n",
       "             reg_lambda=1, scale_pos_weight=1, subsample=0.5752190694540291,\n",
       "             tree_method=&#x27;exact&#x27;, validate_parameters=1, verbosity=None)</pre></div></div></div></div></div>"
      ],
      "text/plain": [
       "XGBRegressor(base_score=0.5, booster='gbtree', colsample_bylevel=1,\n",
       "             colsample_bynode=1, colsample_bytree=0.5795117600809843,\n",
       "             enable_categorical=False, gamma=0, gpu_id=-1, importance_type=None,\n",
       "             interaction_constraints='', learning_rate=0.032543501006192146,\n",
       "             max_delta_step=0, max_depth=3, min_child_weight=4, missing=nan,\n",
       "             monotone_constraints='()', n_estimators=614, n_jobs=4,\n",
       "             num_parallel_tree=1, predictor='auto', random_state=2, reg_alpha=0,\n",
       "             reg_lambda=1, scale_pos_weight=1, subsample=0.5752190694540291,\n",
       "             tree_method='exact', validate_parameters=1, verbosity=None)"
      ]
     },
     "execution_count": 12,
     "metadata": {},
     "output_type": "execute_result"
    }
   ],
   "source": [
    "# 최종 모델 생성 및 학습\n",
    "final_model = XGBRegressor(\n",
    "    max_depth=best_params['max_depth'],\n",
    "    learning_rate=best_params['learning_rate'],\n",
    "    n_estimators=best_params['n_estimators'],\n",
    "    colsample_bytree=best_params['colsample_bytree'],\n",
    "    subsample=best_params['subsample'],\n",
    "    min_child_weight=best_params['min_child_weight'],\n",
    "    objective='reg:squarederror',\n",
    "    random_state=2,\n",
    "    n_jobs=4\n",
    ")\n",
    "\n",
    "final_model.fit(X_train.values, y_train)"
   ]
  },
  {
   "cell_type": "code",
   "execution_count": 13,
   "metadata": {},
   "outputs": [],
   "source": [
    "# 모델 저장\n",
    "final_model.save_model('xgb_rpm170_2.9 ~ 3.1.json')"
   ]
  },
  {
   "cell_type": "code",
   "execution_count": 14,
   "metadata": {},
   "outputs": [
    {
     "name": "stdout",
     "output_type": "stream",
     "text": [
      "MAE => 0.013937999829832294     MAPE => 0.4589607751950806    R2 => 0.19971533203104463\n"
     ]
    }
   ],
   "source": [
    "loaded_model = XGBRegressor()\n",
    "loaded_model.load_model('xgb_rpm170_2.9 ~ 3.1.json')\n",
    "\n",
    "# 로드한 모델로 예측\n",
    "y_pred = loaded_model.predict(X_test)\n",
    "\n",
    "y_pred = loaded_model.predict(X_test)\n",
    "MAE = mean_absolute_error(y_test,y_pred)\n",
    "MAPE = mean_absolute_percentage_error(y_test,y_pred)\n",
    "Score = loaded_model.score(X_test,y_test)\n",
    "print(f'MAE => {MAE}     MAPE => {MAPE*100}    R2 => {Score}')"
   ]
  },
  {
   "cell_type": "code",
   "execution_count": null,
   "metadata": {},
   "outputs": [],
   "source": []
  }
 ],
 "metadata": {
  "kernelspec": {
   "display_name": "commate",
   "language": "python",
   "name": "python3"
  },
  "language_info": {
   "codemirror_mode": {
    "name": "ipython",
    "version": 3
   },
   "file_extension": ".py",
   "mimetype": "text/x-python",
   "name": "python",
   "nbconvert_exporter": "python",
   "pygments_lexer": "ipython3",
   "version": "3.8.20"
  }
 },
 "nbformat": 4,
 "nbformat_minor": 2
}
