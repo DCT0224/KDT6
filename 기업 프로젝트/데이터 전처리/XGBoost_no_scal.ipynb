{
 "cells": [
  {
   "cell_type": "code",
   "execution_count": 1,
   "metadata": {},
   "outputs": [
    {
     "name": "stderr",
     "output_type": "stream",
     "text": [
      "c:\\Users\\KDP-14\\anaconda3\\envs\\commate\\lib\\site-packages\\scipy\\__init__.py:146: UserWarning: A NumPy version >=1.16.5 and <1.23.0 is required for this version of SciPy (detected version 1.24.3\n",
      "  warnings.warn(f\"A NumPy version >={np_minversion} and <{np_maxversion}\"\n"
     ]
    }
   ],
   "source": [
    "# 모듈 로딩\n",
    "import pandas as pd\n",
    "from sklearn.model_selection import train_test_split\n",
    "import numpy as np\n",
    "import matplotlib as plt\n",
    "import seaborn as sns\n",
    "from xgboost import XGBRegressor\n",
    "from sklearn.model_selection import GridSearchCV"
   ]
  },
  {
   "cell_type": "code",
   "execution_count": 2,
   "metadata": {},
   "outputs": [],
   "source": [
    "# 데이터 로딩\n",
    "DATA_PATH = './KNN 전처리(2.9~3.1).csv'\n",
    "dataDF = pd.read_csv(DATA_PATH)"
   ]
  },
  {
   "cell_type": "markdown",
   "metadata": {},
   "source": [
    "### train_test 나누기"
   ]
  },
  {
   "cell_type": "code",
   "execution_count": 3,
   "metadata": {},
   "outputs": [
    {
     "data": {
      "text/html": [
       "<div>\n",
       "<style scoped>\n",
       "    .dataframe tbody tr th:only-of-type {\n",
       "        vertical-align: middle;\n",
       "    }\n",
       "\n",
       "    .dataframe tbody tr th {\n",
       "        vertical-align: top;\n",
       "    }\n",
       "\n",
       "    .dataframe thead th {\n",
       "        text-align: right;\n",
       "    }\n",
       "</style>\n",
       "<table border=\"1\" class=\"dataframe\">\n",
       "  <thead>\n",
       "    <tr style=\"text-align: right;\">\n",
       "      <th></th>\n",
       "      <th>c_temp_pv</th>\n",
       "      <th>k_rpm_pv</th>\n",
       "      <th>n_temp_pv</th>\n",
       "      <th>scale_pv</th>\n",
       "      <th>s_temp_pv</th>\n",
       "    </tr>\n",
       "  </thead>\n",
       "  <tbody>\n",
       "    <tr>\n",
       "      <th>0</th>\n",
       "      <td>69.6</td>\n",
       "      <td>189.0</td>\n",
       "      <td>67.2</td>\n",
       "      <td>3.01</td>\n",
       "      <td>67.1</td>\n",
       "    </tr>\n",
       "    <tr>\n",
       "      <th>1</th>\n",
       "      <td>69.8</td>\n",
       "      <td>189.0</td>\n",
       "      <td>67.2</td>\n",
       "      <td>3.01</td>\n",
       "      <td>67.0</td>\n",
       "    </tr>\n",
       "    <tr>\n",
       "      <th>2</th>\n",
       "      <td>69.7</td>\n",
       "      <td>189.0</td>\n",
       "      <td>67.9</td>\n",
       "      <td>3.08</td>\n",
       "      <td>65.9</td>\n",
       "    </tr>\n",
       "    <tr>\n",
       "      <th>3</th>\n",
       "      <td>69.7</td>\n",
       "      <td>189.0</td>\n",
       "      <td>67.8</td>\n",
       "      <td>3.08</td>\n",
       "      <td>65.9</td>\n",
       "    </tr>\n",
       "    <tr>\n",
       "      <th>4</th>\n",
       "      <td>69.7</td>\n",
       "      <td>189.0</td>\n",
       "      <td>67.8</td>\n",
       "      <td>3.08</td>\n",
       "      <td>65.9</td>\n",
       "    </tr>\n",
       "    <tr>\n",
       "      <th>...</th>\n",
       "      <td>...</td>\n",
       "      <td>...</td>\n",
       "      <td>...</td>\n",
       "      <td>...</td>\n",
       "      <td>...</td>\n",
       "    </tr>\n",
       "    <tr>\n",
       "      <th>139779</th>\n",
       "      <td>70.4</td>\n",
       "      <td>185.0</td>\n",
       "      <td>66.7</td>\n",
       "      <td>3.06</td>\n",
       "      <td>66.9</td>\n",
       "    </tr>\n",
       "    <tr>\n",
       "      <th>139780</th>\n",
       "      <td>70.4</td>\n",
       "      <td>185.0</td>\n",
       "      <td>66.6</td>\n",
       "      <td>3.03</td>\n",
       "      <td>66.8</td>\n",
       "    </tr>\n",
       "    <tr>\n",
       "      <th>139781</th>\n",
       "      <td>70.3</td>\n",
       "      <td>185.0</td>\n",
       "      <td>66.7</td>\n",
       "      <td>3.03</td>\n",
       "      <td>66.7</td>\n",
       "    </tr>\n",
       "    <tr>\n",
       "      <th>139782</th>\n",
       "      <td>70.4</td>\n",
       "      <td>185.0</td>\n",
       "      <td>66.7</td>\n",
       "      <td>3.04</td>\n",
       "      <td>66.6</td>\n",
       "    </tr>\n",
       "    <tr>\n",
       "      <th>139783</th>\n",
       "      <td>70.3</td>\n",
       "      <td>185.0</td>\n",
       "      <td>66.7</td>\n",
       "      <td>3.05</td>\n",
       "      <td>66.5</td>\n",
       "    </tr>\n",
       "  </tbody>\n",
       "</table>\n",
       "<p>139784 rows × 5 columns</p>\n",
       "</div>"
      ],
      "text/plain": [
       "        c_temp_pv  k_rpm_pv  n_temp_pv  scale_pv  s_temp_pv\n",
       "0            69.6     189.0       67.2      3.01       67.1\n",
       "1            69.8     189.0       67.2      3.01       67.0\n",
       "2            69.7     189.0       67.9      3.08       65.9\n",
       "3            69.7     189.0       67.8      3.08       65.9\n",
       "4            69.7     189.0       67.8      3.08       65.9\n",
       "...           ...       ...        ...       ...        ...\n",
       "139779       70.4     185.0       66.7      3.06       66.9\n",
       "139780       70.4     185.0       66.6      3.03       66.8\n",
       "139781       70.3     185.0       66.7      3.03       66.7\n",
       "139782       70.4     185.0       66.7      3.04       66.6\n",
       "139783       70.3     185.0       66.7      3.05       66.5\n",
       "\n",
       "[139784 rows x 5 columns]"
      ]
     },
     "execution_count": 3,
     "metadata": {},
     "output_type": "execute_result"
    }
   ],
   "source": [
    "dataDF"
   ]
  },
  {
   "cell_type": "code",
   "execution_count": 4,
   "metadata": {},
   "outputs": [],
   "source": [
    "target = dataDF['scale_pv']\n",
    "feature = dataDF.drop(columns='scale_pv')"
   ]
  },
  {
   "cell_type": "code",
   "execution_count": 5,
   "metadata": {},
   "outputs": [
    {
     "data": {
      "text/plain": [
       "0         3.01\n",
       "1         3.01\n",
       "2         3.08\n",
       "3         3.08\n",
       "4         3.08\n",
       "          ... \n",
       "139779    3.06\n",
       "139780    3.03\n",
       "139781    3.03\n",
       "139782    3.04\n",
       "139783    3.05\n",
       "Name: scale_pv, Length: 139784, dtype: float64"
      ]
     },
     "execution_count": 5,
     "metadata": {},
     "output_type": "execute_result"
    }
   ],
   "source": [
    "target"
   ]
  },
  {
   "cell_type": "code",
   "execution_count": 6,
   "metadata": {},
   "outputs": [
    {
     "data": {
      "text/html": [
       "<div>\n",
       "<style scoped>\n",
       "    .dataframe tbody tr th:only-of-type {\n",
       "        vertical-align: middle;\n",
       "    }\n",
       "\n",
       "    .dataframe tbody tr th {\n",
       "        vertical-align: top;\n",
       "    }\n",
       "\n",
       "    .dataframe thead th {\n",
       "        text-align: right;\n",
       "    }\n",
       "</style>\n",
       "<table border=\"1\" class=\"dataframe\">\n",
       "  <thead>\n",
       "    <tr style=\"text-align: right;\">\n",
       "      <th></th>\n",
       "      <th>c_temp_pv</th>\n",
       "      <th>k_rpm_pv</th>\n",
       "      <th>n_temp_pv</th>\n",
       "      <th>s_temp_pv</th>\n",
       "    </tr>\n",
       "  </thead>\n",
       "  <tbody>\n",
       "    <tr>\n",
       "      <th>0</th>\n",
       "      <td>69.6</td>\n",
       "      <td>189.0</td>\n",
       "      <td>67.2</td>\n",
       "      <td>67.1</td>\n",
       "    </tr>\n",
       "    <tr>\n",
       "      <th>1</th>\n",
       "      <td>69.8</td>\n",
       "      <td>189.0</td>\n",
       "      <td>67.2</td>\n",
       "      <td>67.0</td>\n",
       "    </tr>\n",
       "    <tr>\n",
       "      <th>2</th>\n",
       "      <td>69.7</td>\n",
       "      <td>189.0</td>\n",
       "      <td>67.9</td>\n",
       "      <td>65.9</td>\n",
       "    </tr>\n",
       "    <tr>\n",
       "      <th>3</th>\n",
       "      <td>69.7</td>\n",
       "      <td>189.0</td>\n",
       "      <td>67.8</td>\n",
       "      <td>65.9</td>\n",
       "    </tr>\n",
       "    <tr>\n",
       "      <th>4</th>\n",
       "      <td>69.7</td>\n",
       "      <td>189.0</td>\n",
       "      <td>67.8</td>\n",
       "      <td>65.9</td>\n",
       "    </tr>\n",
       "    <tr>\n",
       "      <th>...</th>\n",
       "      <td>...</td>\n",
       "      <td>...</td>\n",
       "      <td>...</td>\n",
       "      <td>...</td>\n",
       "    </tr>\n",
       "    <tr>\n",
       "      <th>139779</th>\n",
       "      <td>70.4</td>\n",
       "      <td>185.0</td>\n",
       "      <td>66.7</td>\n",
       "      <td>66.9</td>\n",
       "    </tr>\n",
       "    <tr>\n",
       "      <th>139780</th>\n",
       "      <td>70.4</td>\n",
       "      <td>185.0</td>\n",
       "      <td>66.6</td>\n",
       "      <td>66.8</td>\n",
       "    </tr>\n",
       "    <tr>\n",
       "      <th>139781</th>\n",
       "      <td>70.3</td>\n",
       "      <td>185.0</td>\n",
       "      <td>66.7</td>\n",
       "      <td>66.7</td>\n",
       "    </tr>\n",
       "    <tr>\n",
       "      <th>139782</th>\n",
       "      <td>70.4</td>\n",
       "      <td>185.0</td>\n",
       "      <td>66.7</td>\n",
       "      <td>66.6</td>\n",
       "    </tr>\n",
       "    <tr>\n",
       "      <th>139783</th>\n",
       "      <td>70.3</td>\n",
       "      <td>185.0</td>\n",
       "      <td>66.7</td>\n",
       "      <td>66.5</td>\n",
       "    </tr>\n",
       "  </tbody>\n",
       "</table>\n",
       "<p>139784 rows × 4 columns</p>\n",
       "</div>"
      ],
      "text/plain": [
       "        c_temp_pv  k_rpm_pv  n_temp_pv  s_temp_pv\n",
       "0            69.6     189.0       67.2       67.1\n",
       "1            69.8     189.0       67.2       67.0\n",
       "2            69.7     189.0       67.9       65.9\n",
       "3            69.7     189.0       67.8       65.9\n",
       "4            69.7     189.0       67.8       65.9\n",
       "...           ...       ...        ...        ...\n",
       "139779       70.4     185.0       66.7       66.9\n",
       "139780       70.4     185.0       66.6       66.8\n",
       "139781       70.3     185.0       66.7       66.7\n",
       "139782       70.4     185.0       66.7       66.6\n",
       "139783       70.3     185.0       66.7       66.5\n",
       "\n",
       "[139784 rows x 4 columns]"
      ]
     },
     "execution_count": 6,
     "metadata": {},
     "output_type": "execute_result"
    }
   ],
   "source": [
    "feature"
   ]
  },
  {
   "cell_type": "code",
   "execution_count": 7,
   "metadata": {},
   "outputs": [],
   "source": [
    "X_train, X_test, y_train, y_test = train_test_split(feature,target, test_size= 0.2, random_state=77)"
   ]
  },
  {
   "cell_type": "markdown",
   "metadata": {},
   "source": [
    "### feature 데이터 스케일링\n",
    "- Standard, MinMax, Robust"
   ]
  },
  {
   "cell_type": "code",
   "execution_count": 8,
   "metadata": {},
   "outputs": [],
   "source": [
    "# from sklearn.preprocessing import StandardScaler\n",
    "# # standard scaler 선언 및 학습\n",
    "# standardScaler = StandardScaler().fit(X_train)\n",
    "\n",
    "# # train셋 내 feature들에 대하여 standard scaling 수행\n",
    "# X_train_standard = standardScaler.transform(X_train)\n",
    "\n",
    "# # test셋 내 feature들에 대하여 standard scaling 수행\n",
    "# X_test_standard = standardScaler.transform(X_test)"
   ]
  },
  {
   "cell_type": "code",
   "execution_count": 9,
   "metadata": {},
   "outputs": [
    {
     "name": "stdout",
     "output_type": "stream",
     "text": [
      "Fitting 5 folds for each of 192 candidates, totalling 960 fits\n",
      "[11:19:01] WARNING: C:/Users/Administrator/workspace/xgboost-win64_release_1.5.0/src/learner.cc:576: \n",
      "Parameters: { \"n_thread\", \"random_sate\" } might not be used.\n",
      "\n",
      "  This could be a false alarm, with some parameters getting used by language bindings but\n",
      "  then being mistakenly passed down to XGBoost core, or some parameter actually being used\n",
      "  but getting flagged wrongly here. Please open an issue if you find any such cases.\n",
      "\n",
      "\n",
      "0.4141807101951084\n",
      "{'colsample_bytree': 0.5, 'learning_rate': 0.1, 'max_depth': 7, 'min_child_weight': 5, 'n_estimators': 1000, 'n_thread': 4, 'random_sate': 2, 'subsample': 0.8}\n"
     ]
    }
   ],
   "source": [
    "# 학석들이 발견한 좋은 조합\n",
    "xgb = XGBRegressor()\n",
    "parameters = {\n",
    "    'max_depth': [3, 7],\n",
    "    'n_estimators': [500, 1000],\n",
    "    'learning_rate': [0.03, 0.05, 0.07, 0.1],\n",
    "    'colsample_bytree': [0.5, 0.7],\n",
    "    'subsample': [0.5, 0.7, 0.8],\n",
    "    'min_child_weight': [1, 5],\n",
    "    'random_sate':[2],\n",
    "    'n_thread': [4], \n",
    "}\n",
    "\n",
    "xgb_grid = GridSearchCV(xgb, parameters, cv=5, n_jobs=5, verbose=5)\n",
    "xgb_grid.fit(X_train.values, y_train)\n",
    "scores = pd.DataFrame(xgb_grid.cv_results_)\n",
    "scores[['params','mean_test_score', 'rank_test_score', 'split0_test_score','split1_test_score', 'split2_test_score']]\n",
    "\n",
    "print(xgb_grid.best_score_)\n",
    "print(xgb_grid.best_params_)"
   ]
  },
  {
   "cell_type": "code",
   "execution_count": 10,
   "metadata": {},
   "outputs": [],
   "source": [
    "from sklearn.metrics import mean_absolute_error, mean_absolute_percentage_error\n",
    "# xgbBest = xgb_grid.best_estimator_\n",
    "# scores = pd.DataFrame(xgb_grid.cv_results_)\n",
    "# pd.set_option('display.max_seq_items', None)\n",
    "# pd.set_option('display.max_columns', 21)\n",
    "# scores.info()\n",
    "\n",
    "# print(scores.sort_values(by=scores.columns[20], ascending=True).head(10))"
   ]
  },
  {
   "cell_type": "code",
   "execution_count": 11,
   "metadata": {},
   "outputs": [
    {
     "data": {
      "text/plain": [
       "c_temp_pv     69.50\n",
       "k_rpm_pv     189.00\n",
       "n_temp_pv     69.30\n",
       "scale_pv       3.03\n",
       "s_temp_pv     71.00\n",
       "Name: 64, dtype: float64"
      ]
     },
     "execution_count": 11,
     "metadata": {},
     "output_type": "execute_result"
    }
   ],
   "source": [
    "dataDF.iloc[64]"
   ]
  },
  {
   "cell_type": "code",
   "execution_count": 12,
   "metadata": {},
   "outputs": [],
   "source": [
    "X_train_np = X_train.values"
   ]
  },
  {
   "cell_type": "code",
   "execution_count": 13,
   "metadata": {},
   "outputs": [
    {
     "name": "stdout",
     "output_type": "stream",
     "text": [
      "[11:19:42] WARNING: C:/Users/Administrator/workspace/xgboost-win64_release_1.5.0/src/learner.cc:576: \n",
      "Parameters: { \"n_thread\" } might not be used.\n",
      "\n",
      "  This could be a false alarm, with some parameters getting used by language bindings but\n",
      "  then being mistakenly passed down to XGBoost core, or some parameter actually being used\n",
      "  but getting flagged wrongly here. Please open an issue if you find any such cases.\n",
      "\n",
      "\n"
     ]
    },
    {
     "data": {
      "text/html": [
       "<style>#sk-container-id-1 {color: black;}#sk-container-id-1 pre{padding: 0;}#sk-container-id-1 div.sk-toggleable {background-color: white;}#sk-container-id-1 label.sk-toggleable__label {cursor: pointer;display: block;width: 100%;margin-bottom: 0;padding: 0.3em;box-sizing: border-box;text-align: center;}#sk-container-id-1 label.sk-toggleable__label-arrow:before {content: \"▸\";float: left;margin-right: 0.25em;color: #696969;}#sk-container-id-1 label.sk-toggleable__label-arrow:hover:before {color: black;}#sk-container-id-1 div.sk-estimator:hover label.sk-toggleable__label-arrow:before {color: black;}#sk-container-id-1 div.sk-toggleable__content {max-height: 0;max-width: 0;overflow: hidden;text-align: left;background-color: #f0f8ff;}#sk-container-id-1 div.sk-toggleable__content pre {margin: 0.2em;color: black;border-radius: 0.25em;background-color: #f0f8ff;}#sk-container-id-1 input.sk-toggleable__control:checked~div.sk-toggleable__content {max-height: 200px;max-width: 100%;overflow: auto;}#sk-container-id-1 input.sk-toggleable__control:checked~label.sk-toggleable__label-arrow:before {content: \"▾\";}#sk-container-id-1 div.sk-estimator input.sk-toggleable__control:checked~label.sk-toggleable__label {background-color: #d4ebff;}#sk-container-id-1 div.sk-label input.sk-toggleable__control:checked~label.sk-toggleable__label {background-color: #d4ebff;}#sk-container-id-1 input.sk-hidden--visually {border: 0;clip: rect(1px 1px 1px 1px);clip: rect(1px, 1px, 1px, 1px);height: 1px;margin: -1px;overflow: hidden;padding: 0;position: absolute;width: 1px;}#sk-container-id-1 div.sk-estimator {font-family: monospace;background-color: #f0f8ff;border: 1px dotted black;border-radius: 0.25em;box-sizing: border-box;margin-bottom: 0.5em;}#sk-container-id-1 div.sk-estimator:hover {background-color: #d4ebff;}#sk-container-id-1 div.sk-parallel-item::after {content: \"\";width: 100%;border-bottom: 1px solid gray;flex-grow: 1;}#sk-container-id-1 div.sk-label:hover label.sk-toggleable__label {background-color: #d4ebff;}#sk-container-id-1 div.sk-serial::before {content: \"\";position: absolute;border-left: 1px solid gray;box-sizing: border-box;top: 0;bottom: 0;left: 50%;z-index: 0;}#sk-container-id-1 div.sk-serial {display: flex;flex-direction: column;align-items: center;background-color: white;padding-right: 0.2em;padding-left: 0.2em;position: relative;}#sk-container-id-1 div.sk-item {position: relative;z-index: 1;}#sk-container-id-1 div.sk-parallel {display: flex;align-items: stretch;justify-content: center;background-color: white;position: relative;}#sk-container-id-1 div.sk-item::before, #sk-container-id-1 div.sk-parallel-item::before {content: \"\";position: absolute;border-left: 1px solid gray;box-sizing: border-box;top: 0;bottom: 0;left: 50%;z-index: -1;}#sk-container-id-1 div.sk-parallel-item {display: flex;flex-direction: column;z-index: 1;position: relative;background-color: white;}#sk-container-id-1 div.sk-parallel-item:first-child::after {align-self: flex-end;width: 50%;}#sk-container-id-1 div.sk-parallel-item:last-child::after {align-self: flex-start;width: 50%;}#sk-container-id-1 div.sk-parallel-item:only-child::after {width: 0;}#sk-container-id-1 div.sk-dashed-wrapped {border: 1px dashed gray;margin: 0 0.4em 0.5em 0.4em;box-sizing: border-box;padding-bottom: 0.4em;background-color: white;}#sk-container-id-1 div.sk-label label {font-family: monospace;font-weight: bold;display: inline-block;line-height: 1.2em;}#sk-container-id-1 div.sk-label-container {text-align: center;}#sk-container-id-1 div.sk-container {/* jupyter's `normalize.less` sets `[hidden] { display: none; }` but bootstrap.min.css set `[hidden] { display: none !important; }` so we also need the `!important` here to be able to override the default hidden behavior on the sphinx rendered scikit-learn.org. See: https://github.com/scikit-learn/scikit-learn/issues/21755 */display: inline-block !important;position: relative;}#sk-container-id-1 div.sk-text-repr-fallback {display: none;}</style><div id=\"sk-container-id-1\" class=\"sk-top-container\"><div class=\"sk-text-repr-fallback\"><pre>XGBRegressor(base_score=0.5, booster=&#x27;gbtree&#x27;, colsample_bylevel=1,\n",
       "             colsample_bynode=1, colsample_bytree=0.5, enable_categorical=False,\n",
       "             gamma=0, gpu_id=-1, importance_type=None,\n",
       "             interaction_constraints=&#x27;&#x27;, learning_rate=0.1, max_delta_step=0,\n",
       "             max_depth=7, min_child_weight=5, missing=nan,\n",
       "             monotone_constraints=&#x27;()&#x27;, n_estimators=1000, n_jobs=8, n_thread=4,\n",
       "             num_parallel_tree=1, predictor=&#x27;auto&#x27;, random_state=2, reg_alpha=0,\n",
       "             reg_lambda=1, scale_pos_weight=1, subsample=0.8,\n",
       "             tree_method=&#x27;exact&#x27;, validate_parameters=1, verbosity=None)</pre><b>In a Jupyter environment, please rerun this cell to show the HTML representation or trust the notebook. <br />On GitHub, the HTML representation is unable to render, please try loading this page with nbviewer.org.</b></div><div class=\"sk-container\" hidden><div class=\"sk-item\"><div class=\"sk-estimator sk-toggleable\"><input class=\"sk-toggleable__control sk-hidden--visually\" id=\"sk-estimator-id-1\" type=\"checkbox\" checked><label for=\"sk-estimator-id-1\" class=\"sk-toggleable__label sk-toggleable__label-arrow\">XGBRegressor</label><div class=\"sk-toggleable__content\"><pre>XGBRegressor(base_score=0.5, booster=&#x27;gbtree&#x27;, colsample_bylevel=1,\n",
       "             colsample_bynode=1, colsample_bytree=0.5, enable_categorical=False,\n",
       "             gamma=0, gpu_id=-1, importance_type=None,\n",
       "             interaction_constraints=&#x27;&#x27;, learning_rate=0.1, max_delta_step=0,\n",
       "             max_depth=7, min_child_weight=5, missing=nan,\n",
       "             monotone_constraints=&#x27;()&#x27;, n_estimators=1000, n_jobs=8, n_thread=4,\n",
       "             num_parallel_tree=1, predictor=&#x27;auto&#x27;, random_state=2, reg_alpha=0,\n",
       "             reg_lambda=1, scale_pos_weight=1, subsample=0.8,\n",
       "             tree_method=&#x27;exact&#x27;, validate_parameters=1, verbosity=None)</pre></div></div></div></div></div>"
      ],
      "text/plain": [
       "XGBRegressor(base_score=0.5, booster='gbtree', colsample_bylevel=1,\n",
       "             colsample_bynode=1, colsample_bytree=0.5, enable_categorical=False,\n",
       "             gamma=0, gpu_id=-1, importance_type=None,\n",
       "             interaction_constraints='', learning_rate=0.1, max_delta_step=0,\n",
       "             max_depth=7, min_child_weight=5, missing=nan,\n",
       "             monotone_constraints='()', n_estimators=1000, n_jobs=8, n_thread=4,\n",
       "             num_parallel_tree=1, predictor='auto', random_state=2, reg_alpha=0,\n",
       "             reg_lambda=1, scale_pos_weight=1, subsample=0.8,\n",
       "             tree_method='exact', validate_parameters=1, verbosity=None)"
      ]
     },
     "execution_count": 13,
     "metadata": {},
     "output_type": "execute_result"
    }
   ],
   "source": [
    "## 가장 좋은 파라미터 값\n",
    "## {'colsample_bytree': 0.5, 'learning_rate': 0.1, 'max_depth': 7, 'min_child_weight': 5, 'n_estimators': 1000, 'n_thread': 4, 'random_sate': 2, 'subsample': 0.8}\n",
    "\n",
    "myxgb = XGBRegressor(colsample_bytree=0.5, learning_rate=0.1, max_depth=7, min_child_weight=5, n_estimators=1000, n_thread= 4, random_state=2, subsample=0.8)\n",
    "myxgb.fit(X_train_np, y_train)\n"
   ]
  },
  {
   "cell_type": "code",
   "execution_count": 14,
   "metadata": {},
   "outputs": [
    {
     "name": "stdout",
     "output_type": "stream",
     "text": [
      "MAE => 0.01138583316087305     MAPE => 0.3747927379798579    R2 => 0.4074683319699619\n"
     ]
    }
   ],
   "source": [
    "y_pred = myxgb.predict(X_test)\n",
    "MAE = mean_absolute_error(y_test,y_pred)\n",
    "MAPE = mean_absolute_percentage_error(y_test,y_pred)\n",
    "Score = myxgb.score(X_test,y_test)\n",
    "print(f'MAE => {MAE}     MAPE => {MAPE*100}    R2 => {Score}')"
   ]
  },
  {
   "cell_type": "code",
   "execution_count": 15,
   "metadata": {},
   "outputs": [
    {
     "data": {
      "text/plain": [
       "array([0.1686993 , 0.4537321 , 0.21148486, 0.16608383], dtype=float32)"
      ]
     },
     "execution_count": 15,
     "metadata": {},
     "output_type": "execute_result"
    }
   ],
   "source": [
    "myxgb.feature_importances_"
   ]
  },
  {
   "cell_type": "code",
   "execution_count": 16,
   "metadata": {},
   "outputs": [
    {
     "name": "stdout",
     "output_type": "stream",
     "text": [
      "[3.0134225]\n"
     ]
    }
   ],
   "source": [
    "y_pred1=myxgb.predict(np.array([70.2, 189, 69.8, 70.5]).reshape(1,-1))\n",
    "print(y_pred1)"
   ]
  },
  {
   "cell_type": "code",
   "execution_count": null,
   "metadata": {},
   "outputs": [],
   "source": []
  }
 ],
 "metadata": {
  "kernelspec": {
   "display_name": "commate",
   "language": "python",
   "name": "python3"
  },
  "language_info": {
   "codemirror_mode": {
    "name": "ipython",
    "version": 3
   },
   "file_extension": ".py",
   "mimetype": "text/x-python",
   "name": "python",
   "nbconvert_exporter": "python",
   "pygments_lexer": "ipython3",
   "version": "3.8.20"
  }
 },
 "nbformat": 4,
 "nbformat_minor": 2
}
