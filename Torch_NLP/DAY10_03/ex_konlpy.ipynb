{
 "cells": [
  {
   "cell_type": "markdown",
   "metadata": {},
   "source": [
    "#### 한국어 형태소 분석\n",
    "- Konlpy 패키지 활용\n",
    "    * 내부에 5가지 형태소 분석 패키지 포함\n",
    "    * 5가지 형태소 분석기 사용법 동일. 쉬움"
   ]
  },
  {
   "cell_type": "markdown",
   "metadata": {},
   "source": [
    "- [1] 모듈 로딩 <hr>"
   ]
  },
  {
   "cell_type": "code",
   "execution_count": 24,
   "metadata": {},
   "outputs": [],
   "source": [
    "from konlpy.tag import  * # * 의미 : 패키지안에 모든 것 다 가져오기"
   ]
  },
  {
   "cell_type": "markdown",
   "metadata": {},
   "source": [
    "- [2] 다양한 형태소 분석기 활용 <hr>"
   ]
  },
  {
   "cell_type": "code",
   "execution_count": 25,
   "metadata": {},
   "outputs": [],
   "source": [
    "#### 한나눔 형태소 분석기\n",
    "han = Hannanum()\n",
    "\n",
    "text = '월 2억대 벌어서 부자되고 싶다!! 지치지말고 노력하자!'"
   ]
  },
  {
   "cell_type": "code",
   "execution_count": 26,
   "metadata": {},
   "outputs": [
    {
     "name": "stdout",
     "output_type": "stream",
     "text": [
      "['월', '2억대', '벌', '어서', '부자', '되', '고', '싶', '다', '!!', '지치', '지', '말', '고', '노력', '하', '자', '!']\n"
     ]
    }
   ],
   "source": [
    "### 형태소 분리\n",
    "result = han.morphs(text)\n",
    "print(result)"
   ]
  },
  {
   "cell_type": "code",
   "execution_count": 27,
   "metadata": {},
   "outputs": [
    {
     "name": "stdout",
     "output_type": "stream",
     "text": [
      "['월', '2억대', '부자', '노력']\n"
     ]
    }
   ],
   "source": [
    "### 명사만 추출\n",
    "result = han.nouns(text)\n",
    "print(result)"
   ]
  },
  {
   "cell_type": "code",
   "execution_count": 28,
   "metadata": {},
   "outputs": [
    {
     "name": "stdout",
     "output_type": "stream",
     "text": [
      "[('월', 'N'), ('2억대', 'N'), ('벌', 'P'), ('어서', 'E'), ('부자', 'N'), ('되', 'X'), ('고', 'E'), ('싶', 'P'), ('다', 'E'), ('!!', 'S'), ('지치', 'P'), ('지', 'E'), ('말', 'P'), ('고', 'E'), ('노력', 'N'), ('하', 'X'), ('자', 'E'), ('!', 'S')]\n"
     ]
    }
   ],
   "source": [
    "### 품사 태깅 추출 분리\n",
    "result = han.pos(text)\n",
    "print(result)"
   ]
  },
  {
   "cell_type": "code",
   "execution_count": 29,
   "metadata": {},
   "outputs": [],
   "source": [
    "### 꼬꼬마 형태소 분석\n",
    "kkma = Kkma()"
   ]
  },
  {
   "cell_type": "code",
   "execution_count": 30,
   "metadata": {},
   "outputs": [
    {
     "name": "stdout",
     "output_type": "stream",
     "text": [
      "['월', '2', '억', '대', '벋', '어서', '부자', '되', '고', '싶', '다', '!!', '지치', '지', '말', '고', '노력', '하', '자', '!']\n",
      "['월', '2', '2억대', '억', '대', '부자', '노력']\n",
      "[('월', 'NNM'), ('2', 'NR'), ('억', 'NR'), ('대', 'NNM'), ('벋', 'VV'), ('어서', 'ECD'), ('부자', 'NNG'), ('되', 'XSV'), ('고', 'ECE'), ('싶', 'VXA'), ('다', 'ECS'), ('!!', 'SW'), ('지치', 'VV'), ('지', 'ECD'), ('말', 'VXV'), ('고', 'ECE'), ('노력', 'NNG'), ('하', 'XSV'), ('자', 'ECE'), ('!', 'SF')]\n"
     ]
    }
   ],
   "source": [
    "### 형태소 분석\n",
    "print(kkma.morphs(text))\n",
    "\n",
    "### 명사만 추출\n",
    "print(kkma.nouns(text))\n",
    "\n",
    "### 품사 태깅 후 분리\n",
    "print(kkma.pos(text))"
   ]
  },
  {
   "cell_type": "code",
   "execution_count": 31,
   "metadata": {},
   "outputs": [
    {
     "name": "stdout",
     "output_type": "stream",
     "text": [
      "['월', '2', '억', '대', '벌', '어서', '부자', '되', '고', '싶', '다', '!', '!', '지치', '지', '말', '고', '노력', '하', '자', '!']\n",
      "['월', '대', '부자', '노력']\n",
      "[('월', 'NNB'), ('2', 'SN'), ('억', 'NR'), ('대', 'NNB'), ('벌', 'VV'), ('어서', 'EC'), ('부자', 'NNG'), ('되', 'XSV'), ('고', 'EC'), ('싶', 'VX'), ('다', 'EF'), ('!', 'SF'), ('!', 'SF'), ('지치', 'VV'), ('지', 'EC'), ('말', 'VX'), ('고', 'EC'), ('노력', 'NNG'), ('하', 'XSV'), ('자', 'EF'), ('!', 'SF')]\n"
     ]
    }
   ],
   "source": [
    "#### 코모란 형태소 분석기\n",
    "komo = Komoran()\n",
    "\n",
    "### 형태소 분석\n",
    "print(komo.morphs(text))\n",
    "\n",
    "### 명사만 추출\n",
    "print(komo.nouns(text))\n",
    "\n",
    "### 품사 태깅 후 분리\n",
    "print(komo.pos(text))"
   ]
  },
  {
   "cell_type": "code",
   "execution_count": 33,
   "metadata": {},
   "outputs": [],
   "source": [
    "#### OKT 형태소 분석기\n",
    "okt = Okt()\n"
   ]
  },
  {
   "cell_type": "code",
   "execution_count": 34,
   "metadata": {},
   "outputs": [
    {
     "name": "stdout",
     "output_type": "stream",
     "text": [
      "['월', '2억', '대', '벌어서', '부자', '되고', '싶다', '!!', '지치지말고', '노력', '하자', '!']\n",
      "['월', '부자', '노력']\n",
      "[('월', 'Noun'), ('2억', 'Number'), ('대', 'Foreign'), ('벌어서', 'Verb'), ('부자', 'Noun'), ('되고', 'Verb'), ('싶다', 'Verb'), ('!!', 'Punctuation'), ('지치지말고', 'Verb'), ('노력', 'Noun'), ('하자', 'Verb'), ('!', 'Punctuation')]\n"
     ]
    }
   ],
   "source": [
    "### 형태소 분석\n",
    "print(okt.morphs(text))\n",
    "\n",
    "### 명사만 추출\n",
    "print(okt.nouns(text))\n",
    "\n",
    "### 품사 태깅 후 분리\n",
    "print(okt.pos(text))"
   ]
  },
  {
   "cell_type": "code",
   "execution_count": 35,
   "metadata": {},
   "outputs": [],
   "source": [
    "### Mecab 형태소 분석기 ==> Window machines에는 더 이상 지원하지 않음.\n",
    "# mecab = Mecab()"
   ]
  },
  {
   "cell_type": "code",
   "execution_count": null,
   "metadata": {},
   "outputs": [],
   "source": []
  }
 ],
 "metadata": {
  "kernelspec": {
   "display_name": "TEXT_018_230_38",
   "language": "python",
   "name": "python3"
  },
  "language_info": {
   "codemirror_mode": {
    "name": "ipython",
    "version": 3
   },
   "file_extension": ".py",
   "mimetype": "text/x-python",
   "name": "python",
   "nbconvert_exporter": "python",
   "pygments_lexer": "ipython3",
   "version": "3.8.19"
  }
 },
 "nbformat": 4,
 "nbformat_minor": 2
}
