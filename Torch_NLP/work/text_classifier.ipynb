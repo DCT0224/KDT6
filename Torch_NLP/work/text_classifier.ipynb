{
 "cells": [
  {
   "cell_type": "markdown",
   "metadata": {},
   "source": [
    "#### 뉴스 기사 태그 분류 모델"
   ]
  },
  {
   "cell_type": "code",
   "execution_count": 6,
   "metadata": {},
   "outputs": [],
   "source": [
    "## 모듈 로딩\n",
    "from torch import nn\n",
    "import pandas as pd\n",
    "import numpy as np\n",
    "import re               # 정규식 사용\n",
    "import os               # 파일 불러오기"
   ]
  },
  {
   "cell_type": "code",
   "execution_count": 18,
   "metadata": {},
   "outputs": [],
   "source": [
    "## 데이터 불러올때 정규식 적용해서 불러오기\n",
    "def re_text(text):\n",
    "    text = re.sub(r'[^\\w가-힇\\s]', '', text)\n",
    "    text = re.sub(r'[\\u4E00-\\u9FFF]', '', text) # 한자 제거\n",
    "    text = re.sub(r\"\\s*\\[.*?\\]\", \"\", text) # 대괄호 제거\n",
    "    text = re.sub(r\"\\s*\\{.*?\\}\", \"\", text) # 중괄호 제거\n",
    "    text = re.sub(r'\\([^)]*\\)', \"\", text) # 소괄호 제거\n",
    "    text = re.sub(r\"[^\\uAC00-\\uD7A30-9a-zA-Z\\s]\", \"\", text) # 특수문자 제거\n",
    "    return text.strip() # 앞뒤 공백제거\n"
   ]
  },
  {
   "cell_type": "code",
   "execution_count": 19,
   "metadata": {},
   "outputs": [],
   "source": [
    "## 데이터셋 불러오기\n",
    "FILE_PATH = r'C:\\Users\\KDP-14\\Desktop\\VSCode\\LocalData\\NLP_data\\text_classifie_rmodel_data'"
   ]
  },
  {
   "cell_type": "code",
   "execution_count": 20,
   "metadata": {},
   "outputs": [],
   "source": [
    "texts = []\n",
    "labels = []\n",
    "\n",
    "for label in range(8):\n",
    "    label_folder = os.path.join(FILE_PATH,str(label))\n",
    "    for file_name in os.listdir(label_folder):\n",
    "        file_path = os.path.join(label_folder,file_name)\n",
    "        with open(file_path,'r',encoding='utf-8') as f:\n",
    "            text = f.read()\n",
    "\n",
    "            clean_text = re_text(text)\n",
    "            texts.append(clean_text)\n",
    "            labels.append(label)           "
   ]
  },
  {
   "cell_type": "code",
   "execution_count": 32,
   "metadata": {},
   "outputs": [
    {
     "data": {
      "text/plain": [
       "'예결위 추경 막바지 심사 진통여야 충돌\\t서울연합뉴스 김남권 기자  국회 예산결산특별위원회는 19일 추가경정예산안의 막바지 심사에 돌입했으나 여야 간 이견에 진통을 겪고 있다 \\n\\n예결위는 이날 오전 8시 소소위원회를 열고 전날까지 심사에서 보류된 사업 53건의 감액 심사를 했다 \\n\\n여야 4개 교섭단체의 예결위 간사들만 참석하는 소소위는 심사한 지 한 시간 만에 여야 간 충돌로 정회했다 \\n\\n자유한국당 예결위 간사인 김도읍 의원은 감액할 사업이 많은데 현재 소소위가 정회된 상태라고 말했다\\n\\n예결위는 소소위에서의 감액 심사 완료 및 증액 작업 등을 거쳐 수정된 추경안을 전체회의에 올릴 예정이었으나 현재로서는 전체회의 개의 및 상정 전망이 불투명한 상태다 \\n\\n여야는 예결위 전체회의를 거쳐 이날 오후 9시 국회 본회의에서 추경안을 처리하기로 합의한 상태다 다만 예결위 전체회의가 불발될 경우 본회의에서의 추경안 처리는 어려워질 수 있다'"
      ]
     },
     "execution_count": 32,
     "metadata": {},
     "output_type": "execute_result"
    }
   ],
   "source": [
    "texts[1]"
   ]
  },
  {
   "cell_type": "code",
   "execution_count": 39,
   "metadata": {},
   "outputs": [],
   "source": [
    "## 문장에서 \\t, \\n\\n, \\n 제거\n",
    "for num in range(len(texts)):\n",
    "    texts[num]=texts[num].replace('\\t','')\n",
    "    texts[num]=texts[num].replace('\\n\\n','')\n",
    "    texts[num]=texts[num].replace('\\n','')"
   ]
  },
  {
   "cell_type": "code",
   "execution_count": 40,
   "metadata": {},
   "outputs": [],
   "source": [
    "df = pd.DataFrame({'text': texts, 'label': labels})"
   ]
  },
  {
   "cell_type": "code",
   "execution_count": 41,
   "metadata": {},
   "outputs": [
    {
     "data": {
      "text/plain": [
       "0       동남아 담당  최희철 부상 베이징 도착싱가포르행 주목최 부상 행선지방문 목적 질문에...\n",
       "1       예결위 추경 막바지 심사 진통여야 충돌서울연합뉴스 김남권 기자  국회 예산결산특별위...\n",
       "2       외압 논란항명 사태산 넘고 물 건넌 권성동 영장 청구안미현 검사 외압 폭로 파문으로...\n",
       "3       친문 홍영표 문빠에 찍혔다특검 합의에 문자폭탄 공격대표적인 친문재인계인 홍영표 더불...\n",
       "4       연일 비난정상회담 전 경고성 메시지 발신 맥스선더태영호 등 불만 표시 최종타켓조율 ...\n",
       "                              ...                        \n",
       "1595    단일팀 추진 대한카누연맹 데상트코리아와 5년 후원 협약스포티비뉴스조형애 기자 대한카...\n",
       "1596    올림픽 성공 뒷이야기 서울대 16일 이희범 평창 조직위원장 초청 특강OSEN이인환 ...\n",
       "1597    21일 개막 호치민3쿠션월드컵에 149명 참가 확정선수 46명 참가1차 예선에 20...\n",
       "1598    스포츠안전재단 대축전에 안전필요성 알려스타뉴스 채준 기자스포츠안전재단이 대축전과 장...\n",
       "1599    조한승 커피 향 그윽한 30대 바둑 보이겠다한겨레 맥심커피배 트로피 시상식 열려우승...\n",
       "Name: text, Length: 1600, dtype: object"
      ]
     },
     "execution_count": 41,
     "metadata": {},
     "output_type": "execute_result"
    }
   ],
   "source": [
    "df['text']"
   ]
  },
  {
   "cell_type": "code",
   "execution_count": 38,
   "metadata": {},
   "outputs": [
    {
     "name": "stdout",
     "output_type": "stream",
     "text": [
      "texts number : 1600\n",
      "labels number : 1600\n"
     ]
    }
   ],
   "source": [
    "print(f'texts number : {len(texts)}')\n",
    "print(f'labels number : {len(labels)}')"
   ]
  },
  {
   "cell_type": "code",
   "execution_count": 42,
   "metadata": {},
   "outputs": [
    {
     "data": {
      "text/html": [
       "<div>\n",
       "<style scoped>\n",
       "    .dataframe tbody tr th:only-of-type {\n",
       "        vertical-align: middle;\n",
       "    }\n",
       "\n",
       "    .dataframe tbody tr th {\n",
       "        vertical-align: top;\n",
       "    }\n",
       "\n",
       "    .dataframe thead th {\n",
       "        text-align: right;\n",
       "    }\n",
       "</style>\n",
       "<table border=\"1\" class=\"dataframe\">\n",
       "  <thead>\n",
       "    <tr style=\"text-align: right;\">\n",
       "      <th></th>\n",
       "      <th>text</th>\n",
       "      <th>label</th>\n",
       "    </tr>\n",
       "  </thead>\n",
       "  <tbody>\n",
       "    <tr>\n",
       "      <th>0</th>\n",
       "      <td>동남아 담당  최희철 부상 베이징 도착싱가포르행 주목최 부상 행선지방문 목적 질문에...</td>\n",
       "      <td>0</td>\n",
       "    </tr>\n",
       "    <tr>\n",
       "      <th>1</th>\n",
       "      <td>예결위 추경 막바지 심사 진통여야 충돌서울연합뉴스 김남권 기자  국회 예산결산특별위...</td>\n",
       "      <td>0</td>\n",
       "    </tr>\n",
       "    <tr>\n",
       "      <th>2</th>\n",
       "      <td>외압 논란항명 사태산 넘고 물 건넌 권성동 영장 청구안미현 검사 외압 폭로 파문으로...</td>\n",
       "      <td>0</td>\n",
       "    </tr>\n",
       "    <tr>\n",
       "      <th>3</th>\n",
       "      <td>친문 홍영표 문빠에 찍혔다특검 합의에 문자폭탄 공격대표적인 친문재인계인 홍영표 더불...</td>\n",
       "      <td>0</td>\n",
       "    </tr>\n",
       "    <tr>\n",
       "      <th>4</th>\n",
       "      <td>연일 비난정상회담 전 경고성 메시지 발신 맥스선더태영호 등 불만 표시 최종타켓조율 ...</td>\n",
       "      <td>0</td>\n",
       "    </tr>\n",
       "    <tr>\n",
       "      <th>...</th>\n",
       "      <td>...</td>\n",
       "      <td>...</td>\n",
       "    </tr>\n",
       "    <tr>\n",
       "      <th>1595</th>\n",
       "      <td>단일팀 추진 대한카누연맹 데상트코리아와 5년 후원 협약스포티비뉴스조형애 기자 대한카...</td>\n",
       "      <td>7</td>\n",
       "    </tr>\n",
       "    <tr>\n",
       "      <th>1596</th>\n",
       "      <td>올림픽 성공 뒷이야기 서울대 16일 이희범 평창 조직위원장 초청 특강OSEN이인환 ...</td>\n",
       "      <td>7</td>\n",
       "    </tr>\n",
       "    <tr>\n",
       "      <th>1597</th>\n",
       "      <td>21일 개막 호치민3쿠션월드컵에 149명 참가 확정선수 46명 참가1차 예선에 20...</td>\n",
       "      <td>7</td>\n",
       "    </tr>\n",
       "    <tr>\n",
       "      <th>1598</th>\n",
       "      <td>스포츠안전재단 대축전에 안전필요성 알려스타뉴스 채준 기자스포츠안전재단이 대축전과 장...</td>\n",
       "      <td>7</td>\n",
       "    </tr>\n",
       "    <tr>\n",
       "      <th>1599</th>\n",
       "      <td>조한승 커피 향 그윽한 30대 바둑 보이겠다한겨레 맥심커피배 트로피 시상식 열려우승...</td>\n",
       "      <td>7</td>\n",
       "    </tr>\n",
       "  </tbody>\n",
       "</table>\n",
       "<p>1600 rows × 2 columns</p>\n",
       "</div>"
      ],
      "text/plain": [
       "                                                   text  label\n",
       "0     동남아 담당  최희철 부상 베이징 도착싱가포르행 주목최 부상 행선지방문 목적 질문에...      0\n",
       "1     예결위 추경 막바지 심사 진통여야 충돌서울연합뉴스 김남권 기자  국회 예산결산특별위...      0\n",
       "2     외압 논란항명 사태산 넘고 물 건넌 권성동 영장 청구안미현 검사 외압 폭로 파문으로...      0\n",
       "3     친문 홍영표 문빠에 찍혔다특검 합의에 문자폭탄 공격대표적인 친문재인계인 홍영표 더불...      0\n",
       "4     연일 비난정상회담 전 경고성 메시지 발신 맥스선더태영호 등 불만 표시 최종타켓조율 ...      0\n",
       "...                                                 ...    ...\n",
       "1595  단일팀 추진 대한카누연맹 데상트코리아와 5년 후원 협약스포티비뉴스조형애 기자 대한카...      7\n",
       "1596  올림픽 성공 뒷이야기 서울대 16일 이희범 평창 조직위원장 초청 특강OSEN이인환 ...      7\n",
       "1597  21일 개막 호치민3쿠션월드컵에 149명 참가 확정선수 46명 참가1차 예선에 20...      7\n",
       "1598  스포츠안전재단 대축전에 안전필요성 알려스타뉴스 채준 기자스포츠안전재단이 대축전과 장...      7\n",
       "1599  조한승 커피 향 그윽한 30대 바둑 보이겠다한겨레 맥심커피배 트로피 시상식 열려우승...      7\n",
       "\n",
       "[1600 rows x 2 columns]"
      ]
     },
     "execution_count": 42,
     "metadata": {},
     "output_type": "execute_result"
    }
   ],
   "source": []
  },
  {
   "cell_type": "code",
   "execution_count": null,
   "metadata": {},
   "outputs": [],
   "source": []
  }
 ],
 "metadata": {
  "kernelspec": {
   "display_name": "TEXT_018_230_38",
   "language": "python",
   "name": "python3"
  },
  "language_info": {
   "codemirror_mode": {
    "name": "ipython",
    "version": 3
   },
   "file_extension": ".py",
   "mimetype": "text/x-python",
   "name": "python",
   "nbconvert_exporter": "python",
   "pygments_lexer": "ipython3",
   "version": "3.8.19"
  }
 },
 "nbformat": 4,
 "nbformat_minor": 2
}
