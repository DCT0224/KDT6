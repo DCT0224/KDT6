{
 "cells": [
  {
   "cell_type": "code",
   "execution_count": 1,
   "metadata": {},
   "outputs": [],
   "source": [
    "import pandas as pd\n",
    "import numpy as np\n",
    "from bs4 import BeautifulSoup\n",
    "from urllib.request import urlopen\n",
    "from urllib.request import Request"
   ]
  },
  {
   "cell_type": "code",
   "execution_count": 6,
   "metadata": {},
   "outputs": [],
   "source": [
    "\n",
    "def crawling(classifier):\n",
    "    text_list=[]\n",
    "    for idx in range(1, 335):\n",
    "        url = f'https://www.health.kr/researchInfo/disease_detail.asp?idx={idx}'\n",
    "        urlrequest = Request(url, headers = {'User-Agent' : 'Mozilla/5.0'})\n",
    "\n",
    "        html = urlopen(urlrequest)\n",
    "        bs = BeautifulSoup(html, 'html.parser')\n",
    "        table = bs.find_all('p')\n",
    "        table2 = bs.find_all('td') \n",
    "\n",
    "        if classifier in table2[2].text:\n",
    "            print(table2[2].text)\n",
    "            for row in table[1:-3]:\n",
    "                text_list.append(row.text)\n",
    "            #     print(row.text)\n",
    "            # print('\\n\\n\\n')\n",
    "\n",
    "        elif classifier in table2[3].text:\n",
    "            print(table2[3].text)\n",
    "            for row in table[1:-3]:\n",
    "                text_list.append(row.text)\n",
    "            #     print(row.text)\n",
    "            # print('\\n\\n\\n')\n",
    "\n",
    "        else:\n",
    "            pass\n",
    "    return text_list"
   ]
  },
  {
   "cell_type": "code",
   "execution_count": 8,
   "metadata": {},
   "outputs": [
    {
     "name": "stdout",
     "output_type": "stream",
     "text": [
      "감염성 질환\n",
      "감염성 질환\n",
      "감염성 질환\n",
      "감염성 질환\n",
      "감염성 질환\n",
      "감염성 질환\n",
      "감염성 질환\n",
      "감염성 질환\n",
      "감염성 질환\n",
      "감염성 질환\n",
      "감염성 질환\n",
      "감염성 질환\n",
      "감염성 질환\n",
      "감염성 질환\n",
      "감염성 질환\n",
      "감염성 질환\n",
      "감염성 질환\n",
      "감염성 질환\n",
      "감염성 질환\n",
      "감염성 질환\n",
      "감염성 질환\n",
      "감염성 질환\n",
      "감염성 질환\n",
      "감염성 질환\n",
      "감염성 질환\n",
      "감염성 질환\n",
      "감염성 질환\n",
      "감염성 질환\n",
      "감염성 질환\n",
      "감염성 질환\n",
      "감염성 질환\n",
      "감염성 질환\n",
      "감염성 질환\n",
      "감염성 질환\n",
      "감염성 질환\n",
      "감염성 질환\n",
      "감염성 질환\n",
      "감염성 질환\n",
      "감염성 질환\n",
      "감염성 질환\n",
      "감염성 질환\n",
      "감염성 질환\n",
      "감염성 질환\n",
      "감염성 질환\n",
      "감염성 질환\n",
      "감염성 질환\n",
      "감염성 질환\n"
     ]
    }
   ],
   "source": [
    "text_list = crawling('감염성 질환')"
   ]
  },
  {
   "cell_type": "code",
   "execution_count": 9,
   "metadata": {},
   "outputs": [],
   "source": [
    "# text_list2 = []\n",
    "# for text in text_list:\n",
    "#     text = text.replace('\\r\\n','')\n",
    "#     text = text.replace('\\xa0','')\n",
    "#     text = text.replace('\\n','')\n",
    "#     text_list2.append(text)\n",
    "    "
   ]
  },
  {
   "cell_type": "code",
   "execution_count": 10,
   "metadata": {},
   "outputs": [],
   "source": [
    "# text_list2"
   ]
  },
  {
   "cell_type": "code",
   "execution_count": 11,
   "metadata": {},
   "outputs": [],
   "source": [
    "TEXT='pregnant.csv'\n",
    "FILE_PATH='../NLP_miniproject/'\n",
    "\n",
    "# 파일 불러와서 읽기\n",
    "# with open(FILE_PATH+TEXT, mode='r', encoding='utf-8') as f:\n",
    "#     temp_list.append(f.read())\n",
    "\n",
    "# FILE_PATH에 TEXT으로 저장하기\n",
    "with open(FILE_PATH+TEXT, mode='w', encoding='utf-8') as fw:\n",
    "    for text in text_list:\n",
    "            fw.write(text)"
   ]
  },
  {
   "cell_type": "code",
   "execution_count": null,
   "metadata": {},
   "outputs": [],
   "source": []
  }
 ],
 "metadata": {
  "kernelspec": {
   "display_name": "base",
   "language": "python",
   "name": "python3"
  },
  "language_info": {
   "codemirror_mode": {
    "name": "ipython",
    "version": 3
   },
   "file_extension": ".py",
   "mimetype": "text/x-python",
   "name": "python",
   "nbconvert_exporter": "python",
   "pygments_lexer": "ipython3",
   "version": "3.11.5"
  }
 },
 "nbformat": 4,
 "nbformat_minor": 2
}
